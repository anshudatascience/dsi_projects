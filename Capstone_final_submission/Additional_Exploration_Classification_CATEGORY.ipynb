{
 "cells": [
  {
   "cell_type": "markdown",
   "metadata": {},
   "source": [
    "## Exploration on Classification on Catergory(Industrybased )"
   ]
  },
  {
   "cell_type": "code",
   "execution_count": 107,
   "metadata": {
    "id": "CISVhpwJedfD"
   },
   "outputs": [],
   "source": [
    "import pandas as pd \n",
    "import numpy as np\n",
    "import matplotlib.pyplot as plt\n",
    "%matplotlib inline\n",
    "import seaborn as sns\n",
    "from wordcloud import WordCloud, STOPWORDS, ImageColorGenerator # for word analysis in job title and description\n",
    "import re\n",
    "pd.set_option(\"display.max_colwidth\", 100)\n",
    "pd.set_option('max_columns', 400)\n",
    "pd.set_option('max_rows', 400)\n",
    "from nltk.stem.porter import PorterStemmer\n",
    "# Instantiate Lemmatizer\n",
    "import nltk\n",
    "from nltk.stem import WordNetLemmatizer \n",
    "# Instantiate PorterStemmer\n",
    "p_stemmer = PorterStemmer()\n",
    "from nltk.corpus import stopwords\n",
    "\n",
    "# Init the Wordnet Lemmatizer\n",
    "lemmatizer = WordNetLemmatizer()\n",
    "import warnings\n",
    "warnings.filterwarnings('ignore')"
   ]
  },
  {
   "cell_type": "code",
   "execution_count": 108,
   "metadata": {
    "colab": {
     "base_uri": "https://localhost:8080/",
     "height": 467
    },
    "id": "PEpLKjNwedfM",
    "outputId": "f18d0340-6678-4687-a065-d162e705d84a",
    "scrolled": true
   },
   "outputs": [
    {
     "data": {
      "text/html": [
       "<div>\n",
       "<style scoped>\n",
       "    .dataframe tbody tr th:only-of-type {\n",
       "        vertical-align: middle;\n",
       "    }\n",
       "\n",
       "    .dataframe tbody tr th {\n",
       "        vertical-align: top;\n",
       "    }\n",
       "\n",
       "    .dataframe thead th {\n",
       "        text-align: right;\n",
       "    }\n",
       "</style>\n",
       "<table border=\"1\" class=\"dataframe\">\n",
       "  <thead>\n",
       "    <tr style=\"text-align: right;\">\n",
       "      <th></th>\n",
       "      <th>crawl_timestamp</th>\n",
       "      <th>url</th>\n",
       "      <th>job_title</th>\n",
       "      <th>category</th>\n",
       "      <th>company_name</th>\n",
       "      <th>city</th>\n",
       "      <th>state</th>\n",
       "      <th>country</th>\n",
       "      <th>inferred_city</th>\n",
       "      <th>inferred_state</th>\n",
       "      <th>inferred_country</th>\n",
       "      <th>post_date</th>\n",
       "      <th>job_description</th>\n",
       "      <th>job_type</th>\n",
       "      <th>salary_offered</th>\n",
       "      <th>job_board</th>\n",
       "      <th>geo</th>\n",
       "      <th>cursor</th>\n",
       "      <th>contact_email</th>\n",
       "      <th>contact_phone_number</th>\n",
       "      <th>uniq_id</th>\n",
       "      <th>html_job_description</th>\n",
       "    </tr>\n",
       "  </thead>\n",
       "  <tbody>\n",
       "    <tr>\n",
       "      <th>0</th>\n",
       "      <td>2019-02-06 05:26:22 +0000</td>\n",
       "      <td>https://www.indeed.com/viewjob?jk=fd83355c2b23438c</td>\n",
       "      <td>Enterprise Data Scientist I</td>\n",
       "      <td>Accounting/Finance</td>\n",
       "      <td>Farmers Insurance Group</td>\n",
       "      <td>Woodland Hills</td>\n",
       "      <td>CA</td>\n",
       "      <td>Usa</td>\n",
       "      <td>Woodland hills</td>\n",
       "      <td>California</td>\n",
       "      <td>Usa</td>\n",
       "      <td>2019-02-06</td>\n",
       "      <td>Read what people are saying about working here. \\n\\nWe are Farmers!\\n\\nJoin a team of diverse pr...</td>\n",
       "      <td>Undefined</td>\n",
       "      <td>NaN</td>\n",
       "      <td>indeed</td>\n",
       "      <td>usa</td>\n",
       "      <td>1549432819114777</td>\n",
       "      <td>NaN</td>\n",
       "      <td>NaN</td>\n",
       "      <td>3b6c6acfcba6135a31c83bd7ea493b18</td>\n",
       "      <td>NaN</td>\n",
       "    </tr>\n",
       "    <tr>\n",
       "      <th>1</th>\n",
       "      <td>2019-02-06 05:33:41 +0000</td>\n",
       "      <td>https://www.dice.com/jobs/detail/Data-Scientist-Luxoft-USA-Inc-Middletown-NJ-07748/newageny/802263</td>\n",
       "      <td>Data Scientist</td>\n",
       "      <td>NaN</td>\n",
       "      <td>Luxoft USA Inc</td>\n",
       "      <td>Middletown</td>\n",
       "      <td>NJ</td>\n",
       "      <td>Usa</td>\n",
       "      <td>Middletown</td>\n",
       "      <td>New jersey</td>\n",
       "      <td>Usa</td>\n",
       "      <td>2019-02-05</td>\n",
       "      <td>We have an immediate opening for a Sharp Data Scientist with a strong Mathematical/Statistical b...</td>\n",
       "      <td>Undefined</td>\n",
       "      <td>NaN</td>\n",
       "      <td>dice</td>\n",
       "      <td>usa</td>\n",
       "      <td>1549432819122106</td>\n",
       "      <td>NaN</td>\n",
       "      <td>NaN</td>\n",
       "      <td>741727428839ae7ada852eebef29b0fe</td>\n",
       "      <td>NaN</td>\n",
       "    </tr>\n",
       "    <tr>\n",
       "      <th>2</th>\n",
       "      <td>2019-02-06 05:33:35 +0000</td>\n",
       "      <td>https://www.dice.com/jobs/detail/Data-Scientist-Cincinnati-Bell-Technology-Solutions-New-York-NY...</td>\n",
       "      <td>Data Scientist</td>\n",
       "      <td>NaN</td>\n",
       "      <td>Cincinnati Bell Technology Solutions</td>\n",
       "      <td>New York</td>\n",
       "      <td>NY</td>\n",
       "      <td>Usa</td>\n",
       "      <td>New york</td>\n",
       "      <td>New york</td>\n",
       "      <td>Usa</td>\n",
       "      <td>2019-02-05</td>\n",
       "      <td>Candidates should have the following background, skills and characteristics:  Experience develop...</td>\n",
       "      <td>Full Time</td>\n",
       "      <td>NaN</td>\n",
       "      <td>dice</td>\n",
       "      <td>usa</td>\n",
       "      <td>1549432819236156</td>\n",
       "      <td>NaN</td>\n",
       "      <td>NaN</td>\n",
       "      <td>cdc9ef9a1de327ccdc19cc0d07dbbb37</td>\n",
       "      <td>NaN</td>\n",
       "    </tr>\n",
       "    <tr>\n",
       "      <th>3</th>\n",
       "      <td>2019-02-06 05:33:42 +0000</td>\n",
       "      <td>https://www.indeed.com/viewjob?jk=841edd86ead205f2</td>\n",
       "      <td>Data Scientist, Aladdin Wealth Tech, Associate (Modeler)</td>\n",
       "      <td>Accounting/Finance</td>\n",
       "      <td>BlackRock</td>\n",
       "      <td>New York</td>\n",
       "      <td>NY 10055 (Midtown area)</td>\n",
       "      <td>Usa</td>\n",
       "      <td>New york</td>\n",
       "      <td>New york</td>\n",
       "      <td>Usa</td>\n",
       "      <td>2019-02-06</td>\n",
       "      <td>Read what people are saying about working here. \\n\\nAbout BlackRock\\n\\nBlackRock helps investors...</td>\n",
       "      <td>Undefined</td>\n",
       "      <td>NaN</td>\n",
       "      <td>indeed</td>\n",
       "      <td>usa</td>\n",
       "      <td>1549432819259473</td>\n",
       "      <td>NaN</td>\n",
       "      <td>NaN</td>\n",
       "      <td>1c8541cd2c2c924f9391c7d3f526f64e</td>\n",
       "      <td>NaN</td>\n",
       "    </tr>\n",
       "    <tr>\n",
       "      <th>4</th>\n",
       "      <td>2019-02-06 05:48:23 +0000</td>\n",
       "      <td>https://job-openings.monster.com/senior-data-scientist-charlotte-nc-us-cybercoders/205114316</td>\n",
       "      <td>Senior Data Scientist</td>\n",
       "      <td>biotech</td>\n",
       "      <td>CyberCoders</td>\n",
       "      <td>Charlotte</td>\n",
       "      <td>NC</td>\n",
       "      <td>Usa</td>\n",
       "      <td>Charlotte</td>\n",
       "      <td>North carolina</td>\n",
       "      <td>Usa</td>\n",
       "      <td>2019-02-05</td>\n",
       "      <td>We are seeking an extraordinary Data Scientist in Charlotte to join our fast growing healthcare ...</td>\n",
       "      <td>Full Time</td>\n",
       "      <td>NaN</td>\n",
       "      <td>monster</td>\n",
       "      <td>usa</td>\n",
       "      <td>1549436429015957</td>\n",
       "      <td>NaN</td>\n",
       "      <td>NaN</td>\n",
       "      <td>445652a560a5441060857853cf267470</td>\n",
       "      <td>NaN</td>\n",
       "    </tr>\n",
       "  </tbody>\n",
       "</table>\n",
       "</div>"
      ],
      "text/plain": [
       "             crawl_timestamp  \\\n",
       "0  2019-02-06 05:26:22 +0000   \n",
       "1  2019-02-06 05:33:41 +0000   \n",
       "2  2019-02-06 05:33:35 +0000   \n",
       "3  2019-02-06 05:33:42 +0000   \n",
       "4  2019-02-06 05:48:23 +0000   \n",
       "\n",
       "                                                                                                   url  \\\n",
       "0                                                   https://www.indeed.com/viewjob?jk=fd83355c2b23438c   \n",
       "1   https://www.dice.com/jobs/detail/Data-Scientist-Luxoft-USA-Inc-Middletown-NJ-07748/newageny/802263   \n",
       "2  https://www.dice.com/jobs/detail/Data-Scientist-Cincinnati-Bell-Technology-Solutions-New-York-NY...   \n",
       "3                                                   https://www.indeed.com/viewjob?jk=841edd86ead205f2   \n",
       "4         https://job-openings.monster.com/senior-data-scientist-charlotte-nc-us-cybercoders/205114316   \n",
       "\n",
       "                                                  job_title  \\\n",
       "0                               Enterprise Data Scientist I   \n",
       "1                                            Data Scientist   \n",
       "2                                            Data Scientist   \n",
       "3  Data Scientist, Aladdin Wealth Tech, Associate (Modeler)   \n",
       "4                                     Senior Data Scientist   \n",
       "\n",
       "             category                          company_name            city  \\\n",
       "0  Accounting/Finance               Farmers Insurance Group  Woodland Hills   \n",
       "1                 NaN                        Luxoft USA Inc      Middletown   \n",
       "2                 NaN  Cincinnati Bell Technology Solutions        New York   \n",
       "3  Accounting/Finance                             BlackRock        New York   \n",
       "4             biotech                           CyberCoders       Charlotte   \n",
       "\n",
       "                     state country   inferred_city  inferred_state  \\\n",
       "0                       CA     Usa  Woodland hills      California   \n",
       "1                       NJ     Usa      Middletown      New jersey   \n",
       "2                       NY     Usa        New york        New york   \n",
       "3  NY 10055 (Midtown area)     Usa        New york        New york   \n",
       "4                       NC     Usa       Charlotte  North carolina   \n",
       "\n",
       "  inferred_country   post_date  \\\n",
       "0              Usa  2019-02-06   \n",
       "1              Usa  2019-02-05   \n",
       "2              Usa  2019-02-05   \n",
       "3              Usa  2019-02-06   \n",
       "4              Usa  2019-02-05   \n",
       "\n",
       "                                                                                       job_description  \\\n",
       "0  Read what people are saying about working here. \\n\\nWe are Farmers!\\n\\nJoin a team of diverse pr...   \n",
       "1  We have an immediate opening for a Sharp Data Scientist with a strong Mathematical/Statistical b...   \n",
       "2  Candidates should have the following background, skills and characteristics:  Experience develop...   \n",
       "3  Read what people are saying about working here. \\n\\nAbout BlackRock\\n\\nBlackRock helps investors...   \n",
       "4  We are seeking an extraordinary Data Scientist in Charlotte to join our fast growing healthcare ...   \n",
       "\n",
       "    job_type salary_offered job_board  geo            cursor  contact_email  \\\n",
       "0  Undefined            NaN    indeed  usa  1549432819114777            NaN   \n",
       "1  Undefined            NaN      dice  usa  1549432819122106            NaN   \n",
       "2  Full Time            NaN      dice  usa  1549432819236156            NaN   \n",
       "3  Undefined            NaN    indeed  usa  1549432819259473            NaN   \n",
       "4  Full Time            NaN   monster  usa  1549436429015957            NaN   \n",
       "\n",
       "  contact_phone_number                           uniq_id html_job_description  \n",
       "0                  NaN  3b6c6acfcba6135a31c83bd7ea493b18                  NaN  \n",
       "1                  NaN  741727428839ae7ada852eebef29b0fe                  NaN  \n",
       "2                  NaN  cdc9ef9a1de327ccdc19cc0d07dbbb37                  NaN  \n",
       "3                  NaN  1c8541cd2c2c924f9391c7d3f526f64e                  NaN  \n",
       "4                  NaN  445652a560a5441060857853cf267470                  NaN  "
      ]
     },
     "execution_count": 108,
     "metadata": {},
     "output_type": "execute_result"
    }
   ],
   "source": [
    "df = pd.DataFrame(pd.read_csv('./dataset/data_scientist_us_dataset.csv'))\n",
    "df.head()"
   ]
  },
  {
   "cell_type": "code",
   "execution_count": 109,
   "metadata": {},
   "outputs": [
    {
     "data": {
      "text/plain": [
       "crawl_timestamp             0\n",
       "url                         0\n",
       "job_title                   0\n",
       "category                  882\n",
       "company_name                1\n",
       "city                      249\n",
       "state                     416\n",
       "country                     0\n",
       "inferred_city            1020\n",
       "inferred_state            516\n",
       "inferred_country          495\n",
       "post_date                   0\n",
       "job_description             0\n",
       "job_type                    0\n",
       "salary_offered           9403\n",
       "job_board                 690\n",
       "geo                       700\n",
       "cursor                      0\n",
       "contact_email           10000\n",
       "contact_phone_number     9584\n",
       "uniq_id                     0\n",
       "html_job_description     8401\n",
       "dtype: int64"
      ]
     },
     "execution_count": 109,
     "metadata": {},
     "output_type": "execute_result"
    }
   ],
   "source": [
    "df.isnull().sum()"
   ]
  },
  {
   "cell_type": "code",
   "execution_count": 110,
   "metadata": {
    "colab": {
     "base_uri": "https://localhost:8080/",
     "height": 194
    },
    "id": "3sgZiaJvedfV",
    "outputId": "08637ac1-0d38-4705-a531-66b5c96e22f4"
   },
   "outputs": [
    {
     "data": {
      "text/html": [
       "<div>\n",
       "<style scoped>\n",
       "    .dataframe tbody tr th:only-of-type {\n",
       "        vertical-align: middle;\n",
       "    }\n",
       "\n",
       "    .dataframe tbody tr th {\n",
       "        vertical-align: top;\n",
       "    }\n",
       "\n",
       "    .dataframe thead th {\n",
       "        text-align: right;\n",
       "    }\n",
       "</style>\n",
       "<table border=\"1\" class=\"dataframe\">\n",
       "  <thead>\n",
       "    <tr style=\"text-align: right;\">\n",
       "      <th></th>\n",
       "      <th>job_title</th>\n",
       "      <th>category</th>\n",
       "      <th>job_description</th>\n",
       "    </tr>\n",
       "  </thead>\n",
       "  <tbody>\n",
       "    <tr>\n",
       "      <th>0</th>\n",
       "      <td>Enterprise Data Scientist I</td>\n",
       "      <td>Accounting/Finance</td>\n",
       "      <td>Read what people are saying about working here. \\n\\nWe are Farmers!\\n\\nJoin a team of diverse pr...</td>\n",
       "    </tr>\n",
       "    <tr>\n",
       "      <th>3</th>\n",
       "      <td>Data Scientist, Aladdin Wealth Tech, Associate (Modeler)</td>\n",
       "      <td>Accounting/Finance</td>\n",
       "      <td>Read what people are saying about working here. \\n\\nAbout BlackRock\\n\\nBlackRock helps investors...</td>\n",
       "    </tr>\n",
       "    <tr>\n",
       "      <th>5</th>\n",
       "      <td>CIB – Fixed Income Research – Machine Learning Data Scientist - Securitized Products – Associate/VP</td>\n",
       "      <td>Accounting/Finance</td>\n",
       "      <td>Read what people are saying about working here. \\n\\nOpportunity\\n\\nThe opportunity is to join ou...</td>\n",
       "    </tr>\n",
       "    <tr>\n",
       "      <th>6</th>\n",
       "      <td>Data Scientist, Licensing Operations</td>\n",
       "      <td>Accounting/Finance</td>\n",
       "      <td>Read what people are saying about working here. \\n\\nAt Spotify our mission is to provide the wor...</td>\n",
       "    </tr>\n",
       "    <tr>\n",
       "      <th>8</th>\n",
       "      <td>Data Scientist, Aladdin Wealth Tech, Associate</td>\n",
       "      <td>Accounting/Finance</td>\n",
       "      <td>Read what people are saying about working here. \\n\\nAbout BlackRock\\n\\nBlackRock helps investors...</td>\n",
       "    </tr>\n",
       "  </tbody>\n",
       "</table>\n",
       "</div>"
      ],
      "text/plain": [
       "                                                                                             job_title  \\\n",
       "0                                                                          Enterprise Data Scientist I   \n",
       "3                                             Data Scientist, Aladdin Wealth Tech, Associate (Modeler)   \n",
       "5  CIB – Fixed Income Research – Machine Learning Data Scientist - Securitized Products – Associate/VP   \n",
       "6                                                                 Data Scientist, Licensing Operations   \n",
       "8                                                       Data Scientist, Aladdin Wealth Tech, Associate   \n",
       "\n",
       "             category  \\\n",
       "0  Accounting/Finance   \n",
       "3  Accounting/Finance   \n",
       "5  Accounting/Finance   \n",
       "6  Accounting/Finance   \n",
       "8  Accounting/Finance   \n",
       "\n",
       "                                                                                       job_description  \n",
       "0  Read what people are saying about working here. \\n\\nWe are Farmers!\\n\\nJoin a team of diverse pr...  \n",
       "3  Read what people are saying about working here. \\n\\nAbout BlackRock\\n\\nBlackRock helps investors...  \n",
       "5  Read what people are saying about working here. \\n\\nOpportunity\\n\\nThe opportunity is to join ou...  \n",
       "6  Read what people are saying about working here. \\n\\nAt Spotify our mission is to provide the wor...  \n",
       "8  Read what people are saying about working here. \\n\\nAbout BlackRock\\n\\nBlackRock helps investors...  "
      ]
     },
     "execution_count": 110,
     "metadata": {},
     "output_type": "execute_result"
    }
   ],
   "source": [
    "for X in ['CyberCoders', 'Jefferson Frank', 'Taboola', 'Nigel Frank International US', 'Social Science Research Solutions', 'The Judge Group', 'Booz Allen Hamilton', 'Robert Half Technology']:\n",
    "    df.drop(df.loc[df['company_name'] == X].index, inplace=True)\n",
    "df = df.dropna(subset=['category'])\n",
    "\n",
    "df = df[['job_title', 'category', 'job_description']]\n",
    "df.head()"
   ]
  },
  {
   "cell_type": "code",
   "execution_count": 111,
   "metadata": {
    "colab": {
     "base_uri": "https://localhost:8080/",
     "height": 230
    },
    "id": "POItw1WNedfb",
    "outputId": "ec16cbbe-4fae-4e32-b577-a5355a3a3107"
   },
   "outputs": [
    {
     "data": {
      "text/plain": [
       "Computer-or-internet                                                                                           1497\n",
       "Engineering-or-architecture                                                                                     727\n",
       "Manufacturing-or-mechanical                                                                                     617\n",
       "life physical and social science                                                                                581\n",
       "computer jobs                                                                                                   575\n",
       "business and financial operations                                                                               481\n",
       "Computer/Internet                                                                                               442\n",
       "math jobs                                                                                                       436\n",
       "Engineering/Architecture                                                                                        315\n",
       "Data Scientist                                                                                                  223\n",
       "Accounting-or-finance                                                                                           155\n",
       "Manufacturing/Mechanical                                                                                        146\n",
       "Administrative                                                                                                  135\n",
       "Accounting/Finance                                                                                              129\n",
       "Sales                                                                                                            93\n",
       "Customer-Service                                                                                                 78\n",
       "Senior Data Scientist                                                                                            77\n",
       "architecture and engineering                                                                                     76\n",
       "Government-or-military                                                                                           74\n",
       "social science jobs                                                                                              63\n",
       "Human-Resources                                                                                                  50\n",
       "media jobs                                                                                                       42\n",
       "Construction-or-facilities                                                                                       39\n",
       "Insurance                                                                                                        35\n",
       "Marketing-or-advertising-or-pr                                                                                   34\n",
       "administrative jobs                                                                                              31\n",
       "Banking-or-loans                                                                                                 31\n",
       "life science jobs                                                                                                29\n",
       "Admin - Laboratory and Research                                                                                  29\n",
       "Lead Data Scientist                                                                                              27\n",
       "technology                                                                                                       25\n",
       "Healthcare                                                                                                       23\n",
       "Upper-Management-or-consulting                                                                                   22\n",
       "Customer+Service                                                                                                 21\n",
       "Retail                                                                                                           20\n",
       "Principal Data Scientist                                                                                         18\n",
       "Sr. Data Scientist                                                                                               18\n",
       "Arts/Entertainment/Publishing                                                                                    14\n",
       "Arts-or-entertainment-or-publishing                                                                              14\n",
       "Transportation-or-logistics                                                                                      13\n",
       "Banking/Loans                                                                                                    13\n",
       "Human+Resources                                                                                                  11\n",
       "Government/Military                                                                                              11\n",
       "service jobs                                                                                                     11\n",
       "arts design and media                                                                                            11\n",
       "engineering jobs                                                                                                  9\n",
       "education                                                                                                         9\n",
       "sales jobs                                                                                                        8\n",
       "healthcare practitioners and technical                                                                            8\n",
       "entertainment jobs                                                                                                8\n",
       "community and social service                                                                                      8\n",
       "Data Scientist II                                                                                                 7\n",
       "biotech                                                                                                           7\n",
       "Sr Data Scientist                                                                                                 7\n",
       "Legal                                                                                                             7\n",
       "social service jobs                                                                                               7\n",
       "Hospitality-or-travel                                                                                             6\n",
       "Non-Profit/Volunteering                                                                                           6\n",
       "Law-Enforcement-or-security                                                                                       6\n",
       "Telecommunications                                                                                                6\n",
       "business operations jobs                                                                                          6\n",
       "Marketing/Advertising/PR                                                                                          6\n",
       "protective services                                                                                               5\n",
       "science                                                                                                           5\n",
       "business                                                                                                          5\n",
       "food services                                                                                                     5\n",
       "production jobs                                                                                                   5\n",
       "Data Scientist, Embedded Developer                                                                                5\n",
       "telecommunications                                                                                                5\n",
       "Education-or-training                                                                                             4\n",
       "Data Scientist III                                                                                                4\n",
       "construction jobs                                                                                                 4\n",
       "animal care jobs                                                                                                  4\n",
       "transportation and moving                                                                                         4\n",
       "Distinguished Data Scientist                                                                                      4\n",
       "Education/Training                                                                                                4\n",
       "executive                                                                                                         4\n",
       "military                                                                                                          3\n",
       "Customer Data Scientist / Sales Engineer                                                                          3\n",
       "Data Scientist I                                                                                                  3\n",
       "Non-profit/volunteering                                                                                           3\n",
       "Marketing Data Scientist                                                                                          3\n",
       "Admin - Institutional Research and Planning                                                                       3\n",
       "government                                                                                                        3\n",
       "security                                                                                                          3\n",
       "Senior Data Scientist - Translational Informatics                                                                 3\n",
       "Restaurant/Food+Service                                                                                           3\n",
       "Science                                                                                                           2\n",
       "Senior Data Scientist, Business Analytics                                                                         2\n",
       "Transportation/Logistics                                                                                          2\n",
       "Senior Data Scientist - Analytics                                                                                 2\n",
       "internet                                                                                                          2\n",
       "Data Scientist - Principal                                                                                        2\n",
       "Junior Data Scientist                                                                                             2\n",
       "Upper+Management/Consulting                                                                                       2\n",
       "media                                                                                                             2\n",
       "travel                                                                                                            2\n",
       "language translator                                                                                               2\n",
       "engineering                                                                                                       2\n",
       "Director, Data Scientist                                                                                          2\n",
       "healthcare                                                                                                        2\n",
       "Admin - Information Technology - Database Administrator                                                           2\n",
       "Senior Data Scientist - QuantumBlack                                                                              2\n",
       "human resources                                                                                                   2\n",
       "Data Scientist 4                                                                                                  2\n",
       "Senior Computational Biologist (Senior Genomic Data Scientist)                                                    2\n",
       "agriculture and fishing                                                                                           2\n",
       "executive jobs                                                                                                    2\n",
       "management                                                                                                        2\n",
       "Admin - Information Technology - Programmer/Analyst                                                               2\n",
       "Pharmaceutical/Bio-tech                                                                                           2\n",
       "Data Scientist - DSS Training Specialist                                                                          2\n",
       "higher ed jobs                                                                                                    2\n",
       "healthcare jobs                                                                                                   2\n",
       "transportation jobs                                                                                               2\n",
       "sales                                                                                                             2\n",
       "Principal Real World Data Scientist, PHC                                                                          2\n",
       "Data Scientist, Material Planning                                                                                 2\n",
       "Staff Data Scientist                                                                                              2\n",
       "Senior Computational Biologist ( Senior Genomic Data Scientist )                                                  2\n",
       "legal                                                                                                             2\n",
       "Restaurant-or-food-Service                                                                                        2\n",
       "Admin - Laboratory and Research Faculty - Science - Computer Science                                              2\n",
       "Full-time                                                                                                         2\n",
       "Applied Data Scientist II                                                                                         2\n",
       "Hospitality/Travel                                                                                                2\n",
       "TV Data Scientist                                                                                                 2\n",
       "Data Scientist, Pharma Informatics                                                                                2\n",
       "Lead Data Scientist, Two Sigma Private Investments                                                                1\n",
       "Revenue Modeling Data Scientist                                                                                   1\n",
       "Junior Engineer/Data Scientist                                                                                    1\n",
       "automotive                                                                                                        1\n",
       "Data Scientist, Principal                                                                                         1\n",
       "Data Scientist - Advanced Analytics                                                                               1\n",
       "Staff Data Scientist - Ecomm (Vudu)                                                                               1\n",
       "Manufacturing Data Scientist                                                                                      1\n",
       "Senior Data Scientist, Consumer Analytics                                                                         1\n",
       "Principal Program Manager - Data Scientist                                                                        1\n",
       "Data Scientist IV, Central Analytics                                                                              1\n",
       "Healthcare Data Scientist I or II                                                                                 1\n",
       "Data Scientist with Credit Risk Experience                                                                        1\n",
       "Lead Data Scientist - Digital CX                                                                                  1\n",
       "Geospatial Data Scientist                                                                                         1\n",
       "Data Scientist, Decision Science Optimization Team                                                                1\n",
       "Data Scientist - Machine Learning Architect                                                                       1\n",
       "Data Scientist, Compliance                                                                                        1\n",
       "Data Scientist - Operations Research                                                                              1\n",
       "Data Scientist – Premium Analytics                                                                                1\n",
       "Data Scientist 6                                                                                                  1\n",
       "Sr. Data Scientist, ZO Closing Service                                                                            1\n",
       "Senior Data Scientist - Deep Learning                                                                             1\n",
       "Data Scientist Sr                                                                                                 1\n",
       "Senior Deep Learning Data Scientist, RAPIDS - AI                                                                  1\n",
       "Principal Data Scientist - Grid Intelligence (Exelon Utilities)                                                   1\n",
       "Pharmaceutical/bio-tech                                                                                           1\n",
       "AI Data Scientist - Machine Learning TS/SCI                                                                       1\n",
       "financieel vacatures.aspx                                                                                         1\n",
       "Data Scientist - Experienced                                                                                      1\n",
       "Sr. Data Scientist – Data for Insights Practice                                                                   1\n",
       "Data Scientist - Marketplace Liquidity                                                                            1\n",
       "Data Scientist / Data Analytics Manager                                                                           1\n",
       "Manager, Lead Data Scientist                                                                                      1\n",
       "Data Scientist, Revenue Optimization                                                                              1\n",
       "Senior Data Scientist - Healthcare                                                                                1\n",
       "Data Scientist / Statistician                                                                                     1\n",
       "Senior Data Scientist - Product Analytics                                                                         1\n",
       "Admin - Health and Medical Services                                                                               1\n",
       "Lead Data Scientist - Statistical Modeling                                                                        1\n",
       "Data Scientist Manager - Advanced Analytics (HIA)                                                                 1\n",
       "Lead Data Scientist - Deep Learning                                                                               1\n",
       "Data Scientist - eComm                                                                                            1\n",
       "New Graduate – Data Scientist                                                                                     1\n",
       "Deep Learning Data Scientist                                                                                      1\n",
       "Senior Data Scientist / Data Scientist, Research Informatics                                                      1\n",
       "Director - Data Scientist, Modeling                                                                               1\n",
       "communications jobs                                                                                               1\n",
       "Senior Data Scientist - Machine Learning / AI / NLP                                                               1\n",
       "Data Scientist - StoreConnect                                                                                     1\n",
       "Lead Data Scientist - Supply Chain DSA                                                                            1\n",
       "Director Data Scientist                                                                                           1\n",
       "Data Scientist, Analytics - Signals Detection                                                                     1\n",
       "Data Scientist Consumer and Small Business                                                                        1\n",
       "Data Scientist - Connected Vehicle Analytics                                                                      1\n",
       "Senior Data Scientist - Infectious Disease and Infection Prevention                                               1\n",
       "Data Scientist | Advertising                                                                                      1\n",
       "Data Scientist -Quality Operations-Corporate                                                                      1\n",
       "Data Scientist - Alpha Insights                                                                                   1\n",
       "Intel Business Management Group (BMG) Senior Data Scientist                                                       1\n",
       "Staff Systems Engineer (Data Scientist NLP)                                                                       1\n",
       "Finance Data Scientist                                                                                            1\n",
       "Data Scientist, Advanced Marketing Analytics                                                                      1\n",
       "Admin - Institutional Research and Planning Admin - Instructional Technology and Design                           1\n",
       "Precision Medicine Data Scientist                                                                                 1\n",
       "Data Scientist, Marketplace                                                                                       1\n",
       "building maintenance                                                                                              1\n",
       "Senior Level Data Scientist                                                                                       1\n",
       "Senior Data Scientist AI / ML                                                                                     1\n",
       "Associate Data Scientist                                                                                          1\n",
       "Federal - Data Scientist                                                                                          1\n",
       "Director, Demand Data Scientist                                                                                   1\n",
       "Senior Data Scientist - Networking (5G)                                                                           1\n",
       "Data Scientist - Cross Asset Desk Strategist Team                                                                 1\n",
       "Data Scientist- Director/ Sr. Manager level                                                                       1\n",
       "Data Scientist Engineer                                                                                           1\n",
       "Lead Data Scientist,                                                                                              1\n",
       "Data Scientist, Analytics - Finance Focused                                                                       1\n",
       "Sr. Data Scientist, Computational Biology                                                                         1\n",
       "Sr Lead Data Scientist                                                                                            1\n",
       "Senior Machine Learning Data Scientist                                                                            1\n",
       "AI Data Scientist Lead                                                                                            1\n",
       "Software Engineer /  Data Scientist, Fleet Analytics                                                              1\n",
       "Data Scientist Manager AMS                                                                                        1\n",
       "Operational Data Scientist                                                                                        1\n",
       "Data Scientist - Machine Learning Fraud Analytics - Manager                                                       1\n",
       "Senior Data Scientist/Statistician                                                                                1\n",
       "VP Data Scientist                                                                                                 1\n",
       "Quality and Reliability Data Scientist - Staff                                                                    1\n",
       "protective services jobs                                                                                          1\n",
       "Admin - Other Administrative Positions                                                                            1\n",
       "Data Analytics Analyst                                                                                            1\n",
       "Senior Data Scientist, Home Loans                                                                                 1\n",
       "Data Scientist - Travel, Transport and Logistics                                                                  1\n",
       "Admin - Admissions and Enrollment                                                                                 1\n",
       "Senior Data Scientist, Decision Science                                                                           1\n",
       "Sr. Data Scientist Leadership Program (DSLP)                                                                      1\n",
       "Senior Data Scientist - Aerial Imagery                                                                            1\n",
       "Senior Data Scientist - Operations                                                                                1\n",
       "Senior Data Scientist - Graph                                                                                     1\n",
       "Systems, Solutions and Deployment (SSD) Data Scientist                                                            1\n",
       "Genomics Data Scientist                                                                                           1\n",
       "Soil Health Data Scientist                                                                                        1\n",
       "Sr. Data Scientist, Trulia                                                                                        1\n",
       "Data Scientist/Statistician Level IV                                                                              1\n",
       "Senior Data Scientist, Operations Research                                                                        1\n",
       "Managing Consultant - Data Scientist                                                                              1\n",
       "Data Scientist / Data Engineer                                                                                    1\n",
       "Data Scientist I - Marketing                                                                                      1\n",
       "Senior Data Scientist – Metrics                                                                                   1\n",
       "Senior Data Scientist - Growth Analytics                                                                          1\n",
       "Sr. Staff Data Scientist                                                                                          1\n",
       "Agile Software Developer                                                                                          1\n",
       "Director - Data Scientist, Experimentation                                                                        1\n",
       "Assistant Director - Data Scientist                                                                               1\n",
       "Mgr/Sr Mgr - Model Risk Quantitative/Data Scientist                                                               1\n",
       "Senior Machine Learning (ML) Engineer / Data Scientist - Cyber Security Analytics                                 1\n",
       "Lead Data Scientist - Maritz Motivation                                                                           1\n",
       "Data Scientist, Licensing Finance                                                                                 1\n",
       "Data Scientist, Agile Hub                                                                                         1\n",
       "Network Data Scientist                                                                                            1\n",
       "Data Scientist - Staff level                                                                                      1\n",
       "Data Scientist, Genomics                                                                                          1\n",
       "Senior Data Scientist, VSP Vision care                                                                            1\n",
       "Senior Applied Data Scientist - Machine Learning                                                                  1\n",
       "Data Scientist, Safety Assessment                                                                                 1\n",
       "Director, Data Scientist,  B2B VAS                                                                                1\n",
       "Senior Data Scientist - Strategy                                                                                  1\n",
       "Sr. Principal Data Scientist                                                                                      1\n",
       "Staff Engineer, Data Scientist                                                                                    1\n",
       "Senior Data Scientist - Machine Learning                                                                          1\n",
       "Senior Data Scientist - Machine Learning Engineer                                                                 1\n",
       "Advanced Analytics - Data Scientist                                                                               1\n",
       "Mid level Data Scientist                                                                                          1\n",
       "Data Scientist- Digital Media                                                                                     1\n",
       "Data Scientist - Demand Forecasting                                                                               1\n",
       "Data Scientist, Models and Algorithms                                                                             1\n",
       "Healthcare Statistician - Data Scientist                                                                          1\n",
       "Digital Data Scientist                                                                                            1\n",
       "Vice President - AML Business Analyst - Data Scientist                                                            1\n",
       "it                                                                                                                1\n",
       "Construction/Facilities                                                                                           1\n",
       "Sr. Director, Data Scientist Customer Experience                                                                  1\n",
       "management jobs                                                                                                   1\n",
       "Principal Applied Data Scientist - Machine Learning                                                               1\n",
       "Sr. Data Scientist, Core Experiences Advertising                                                                  1\n",
       "Associate Director, Data Scientist                                                                                1\n",
       "Data Scientist For Information Management & Analytics                                                             1\n",
       "Data Scientist - Senior Associate                                                                                 1\n",
       "Senior Data Scientist, Advanced Marketing Analytics                                                               1\n",
       "Senior Manager (Data Scientist), Decision Analytics Services                                                      1\n",
       "manufacturing and production                                                                                      1\n",
       "finance jobs                                                                                                      1\n",
       "manufacturing                                                                                                     1\n",
       "Data Scientist / Machine Learning Research Professional                                                           1\n",
       "Data Scientist - Data Analyst Manager                                                                             1\n",
       "Data Scientist Lead / Architect                                                                                   1\n",
       "Optimization Data Scientist                                                                                       1\n",
       "Senior Data Scientist / Strategic Analysis                                                                        1\n",
       "Data Scientist, Analytics - Community Integrity                                                                   1\n",
       "Mid-Level Data Scientist                                                                                          1\n",
       "personal care and service                                                                                         1\n",
       "Data Scientist AI/ML                                                                                              1\n",
       "Senior Data Scientist, Analytics Platform as a Service                                                            1\n",
       "military jobs                                                                                                     1\n",
       "Data Scientist - Senior Consultant                                                                                1\n",
       "Sr. Data Scientist, Transactions                                                                                  1\n",
       "Clinical Data Scientist - Provider Performance                                                                    1\n",
       "Brand Analytics Data Scientist II                                                                                 1\n",
       "Principal Information Security Analyst - Data Scientist                                                           1\n",
       "Staff Data Scientist - Tech                                                                                       1\n",
       "banking                                                                                                           1\n",
       "Data Scientist Senior - Center of Excellence for Data and Analytics                                               1\n",
       "Senior Principal Data Scientist                                                                                   1\n",
       "Machine Learning Engineer Data Scientist                                                                          1\n",
       "Data Scientist, Regulation, Evaluation, and Governance Lab                                                        1\n",
       "Data Scientist 5                                                                                                  1\n",
       "Sr. Data Scientist- R & D                                                                                         1\n",
       "Senior Data Scientist – Experimentation                                                                           1\n",
       "Senior Machine Learning Engineer & Data Scientist                                                                 1\n",
       "Senior Data Scientist, Experimentation Practice                                                                   1\n",
       "AI Implementation Leader - APaaS - Lead Data Scientist                                                            1\n",
       "Data Scientist - Machine Learning                                                                                 1\n",
       "quality assurance                                                                                                 1\n",
       "Data Scientist - Market Analysis and Strategy                                                                     1\n",
       "Data Scientist - Sales Modeling                                                                                   1\n",
       "Senior Data Scientist, Analytics                                                                                  1\n",
       "Sr. Specialist Info Sec Analyst - Data Scientist                                                                  1\n",
       "Senior Data Scientist - Smart Audio Platform                                                                      1\n",
       "Data Scientist, People Analytics                                                                                  1\n",
       "Manager, Data Scientist, Credit Review                                                                            1\n",
       "Manager, Data Scientist                                                                                           1\n",
       "Sr Data Scientist (Revenue Protection)                                                                            1\n",
       "Senior Data Scientist - New Construction                                                                          1\n",
       "Data Scientist - Safety                                                                                           1\n",
       "Data Scientist - Enterprise Networking                                                                            1\n",
       "Actuarial Data Scientist                                                                                          1\n",
       "Data Scientist - Product                                                                                          1\n",
       "Sr. Data Scientist - Advanced Video Advertising                                                                   1\n",
       "Data Scientist - Computer Vision                                                                                  1\n",
       "Data Scientist - MAX                                                                                              1\n",
       "Lead Data Scientist - Healthcare                                                                                  1\n",
       "Principal Data Scientist - NLP                                                                                    1\n",
       "Sr. Data Scientist, Core Experience Advertising                                                                   1\n",
       "Statistical Programmer / Data Scientist                                                                           1\n",
       "Senior Data Scientist, Data Products & Machine Learning                                                           1\n",
       "Data Scientist, Architect                                                                                         1\n",
       "Data Scientist - Data Analyst                                                                                     1\n",
       "Senior Data Scientist, Product Analytics                                                                          1\n",
       "Admin - Information Technology - Programmer/Analyst Admin - Information Technology - Database Administrator       1\n",
       "Sr. Data Scientist - Life Solutions Data Science                                                                  1\n",
       "Founding Data Scientist / Big Data                                                                                1\n",
       "Data Scientist, OCI                                                                                               1\n",
       "Data Scientist and Computer Engineer                                                                              1\n",
       "DISTINGUISHED DATA SCIENTIST                                                                                      1\n",
       "Analytics, Data Scientist                                                                                         1\n",
       "Deep Learning Staff Data Scientist                                                                                1\n",
       "Principal Data Scientist / Architect                                                                              1\n",
       "advertising                                                                                                       1\n",
       "Data Scientist - Client Relationship Algorithms                                                                   1\n",
       "Principal Data Scientist, Data Automation                                                                         1\n",
       "Principal Data Scientist - Solution Design                                                                        1\n",
       "Data Scientist, Ad - Tech                                                                                         1\n",
       "Healthcare Data Scientist                                                                                         1\n",
       "Senior Regulatory Data Scientist                                                                                  1\n",
       "Data Scientist - Stellar Astrophysics                                                                             1\n",
       "Principal Data Scientist - Direct Store Delivery (DSD)                                                            1\n",
       "AI Data Scientist - Machine Learning                                                                              1\n",
       "Applied Data Scientist                                                                                            1\n",
       "education jobs                                                                                                    1\n",
       "Name: category, dtype: int64"
      ]
     },
     "execution_count": 111,
     "metadata": {},
     "output_type": "execute_result"
    }
   ],
   "source": [
    "df['category'].value_counts()"
   ]
  },
  {
   "cell_type": "code",
   "execution_count": 112,
   "metadata": {
    "id": "uCMOC7niedgK"
   },
   "outputs": [],
   "source": [
    "# Merging classes to reduce target\n",
    "\n",
    "df.loc[df['category']=='Computer-or-internet', 'category'] = 'Computer/Internet'\n",
    "df.loc[df['category']=='computer jobs', 'category'] = 'Computer/Internet'\n",
    "df.loc[df['category']=='technology', 'category'] = 'Computer/Internet'\n",
    "\n",
    "df.loc[df['category'].str.contains('Data Scientist'), 'category'] = 'Data Scientist'\n",
    "\n",
    "\n",
    "df.loc[df['category']=='Manufacturing-or-mechanical', 'category'] = 'Manufacturing/Mechanical'\n",
    "\n",
    "df.loc[df['category']=='Engineering-or-architecture', 'category'] = 'Engineering/Architecture'\n",
    "df.loc[df['category']=='architecture and engineering', 'category'] = 'Engineering/Architecture'\n",
    "\n",
    "df.loc[df['category']=='administrative jobs', 'category'] = 'Admin/HR/Sale/Customer'\n",
    "df.loc[df['category']=='Administrative', 'category'] = 'Admin/HR/Sale/Customer'\n",
    "df.loc[df['category']=='Human-Resources','category'] = 'Admin/HR/Sale/Customer'\n",
    "df.loc[df['category']=='Customer-Service','category'] = 'Admin/HR/Sale/Customer'\n",
    "df.loc[df['category']=='Sales', 'category'] = 'Admin/HR/Sale/Customer'\n",
    "\n",
    "df.loc[df['category']=='life physical and social science', 'category'] = 'Life/Social Science'\n",
    "df.loc[df['category']=='social science jobs', 'category'] = 'Life/Social Science'\n",
    "\n",
    "df.loc[df['category']=='Accounting/Finance', 'category'] = 'Accounting/Finance/Insurance/loans'\n",
    "df.loc[df['category']=='Accounting-or-finance', 'category'] = 'Accounting/Finance/Insurance/loans'\n",
    "df.loc[df['category']=='business and financial operations', 'category'] = 'Accounting/Finance/Insurance/loans'\n",
    "df.loc[df['category']=='Insurance', 'category'] = 'Accounting/Finance/Insurance/loans'\n",
    "df.loc[df['category']=='Banking-or-loans', 'category'] = 'Accounting/Finance/Insurance/loans'\n",
    "\n",
    "df.loc[df['category']=='math jobs', 'category'] = 'Statistics/Math'"
   ]
  },
  {
   "cell_type": "code",
   "execution_count": 113,
   "metadata": {
    "id": "45wayCjUedgv"
   },
   "outputs": [],
   "source": [
    "df = df.groupby('category').filter(lambda x : len(x)>30) # Drop classes having row count less then 30"
   ]
  },
  {
   "cell_type": "code",
   "execution_count": 114,
   "metadata": {
    "colab": {
     "base_uri": "https://localhost:8080/",
     "height": 35
    },
    "id": "PcvrCf69edhO",
    "outputId": "eec0108f-4000-4619-8ba2-7571e7797b7a"
   },
   "outputs": [
    {
     "data": {
      "text/plain": [
       "12"
      ]
     },
     "execution_count": 114,
     "metadata": {},
     "output_type": "execute_result"
    }
   ],
   "source": [
    "len(df['category'].unique())"
   ]
  },
  {
   "cell_type": "code",
   "execution_count": 115,
   "metadata": {
    "colab": {
     "base_uri": "https://localhost:8080/",
     "height": 390
    },
    "id": "Y3DN2u2zedhk",
    "outputId": "b962bc1d-a201-4b0c-b609-dac1eec3747a",
    "scrolled": true
   },
   "outputs": [
    {
     "data": {
      "text/plain": [
       "Computer/Internet                     2539\n",
       "Engineering/Architecture              1118\n",
       "Accounting/Finance/Insurance/loans     831\n",
       "Manufacturing/Mechanical               763\n",
       "Life/Social Science                    644\n",
       "Data Scientist                         638\n",
       "Statistics/Math                        436\n",
       "Admin/HR/Sale/Customer                 387\n",
       "Government-or-military                  74\n",
       "media jobs                              42\n",
       "Construction-or-facilities              39\n",
       "Marketing-or-advertising-or-pr          34\n",
       "Name: category, dtype: int64"
      ]
     },
     "execution_count": 115,
     "metadata": {},
     "output_type": "execute_result"
    }
   ],
   "source": [
    "df['category'].value_counts()"
   ]
  },
  {
   "cell_type": "markdown",
   "metadata": {},
   "source": [
    "## Further combine the category and drop some"
   ]
  },
  {
   "cell_type": "code",
   "execution_count": 116,
   "metadata": {
    "scrolled": false
   },
   "outputs": [
    {
     "data": {
      "text/html": [
       "<div>\n",
       "<style scoped>\n",
       "    .dataframe tbody tr th:only-of-type {\n",
       "        vertical-align: middle;\n",
       "    }\n",
       "\n",
       "    .dataframe tbody tr th {\n",
       "        vertical-align: top;\n",
       "    }\n",
       "\n",
       "    .dataframe thead th {\n",
       "        text-align: right;\n",
       "    }\n",
       "</style>\n",
       "<table border=\"1\" class=\"dataframe\">\n",
       "  <thead>\n",
       "    <tr style=\"text-align: right;\">\n",
       "      <th></th>\n",
       "      <th>category</th>\n",
       "    </tr>\n",
       "  </thead>\n",
       "  <tbody>\n",
       "    <tr>\n",
       "      <th>Computer/Internet</th>\n",
       "      <td>2539</td>\n",
       "    </tr>\n",
       "    <tr>\n",
       "      <th>Engineering/Architecture</th>\n",
       "      <td>1118</td>\n",
       "    </tr>\n",
       "    <tr>\n",
       "      <th>Accounting/Finance/Insurance/loans</th>\n",
       "      <td>831</td>\n",
       "    </tr>\n",
       "    <tr>\n",
       "      <th>Manufacturing/Mechanical</th>\n",
       "      <td>763</td>\n",
       "    </tr>\n",
       "    <tr>\n",
       "      <th>Life/Social Science</th>\n",
       "      <td>644</td>\n",
       "    </tr>\n",
       "    <tr>\n",
       "      <th>Data Scientist</th>\n",
       "      <td>638</td>\n",
       "    </tr>\n",
       "    <tr>\n",
       "      <th>Statistics/Math</th>\n",
       "      <td>436</td>\n",
       "    </tr>\n",
       "    <tr>\n",
       "      <th>Admin/HR/Sale/Customer</th>\n",
       "      <td>387</td>\n",
       "    </tr>\n",
       "    <tr>\n",
       "      <th>Government-or-military</th>\n",
       "      <td>74</td>\n",
       "    </tr>\n",
       "    <tr>\n",
       "      <th>media jobs</th>\n",
       "      <td>42</td>\n",
       "    </tr>\n",
       "    <tr>\n",
       "      <th>Construction-or-facilities</th>\n",
       "      <td>39</td>\n",
       "    </tr>\n",
       "    <tr>\n",
       "      <th>Marketing-or-advertising-or-pr</th>\n",
       "      <td>34</td>\n",
       "    </tr>\n",
       "  </tbody>\n",
       "</table>\n",
       "</div>"
      ],
      "text/plain": [
       "                                    category\n",
       "Computer/Internet                       2539\n",
       "Engineering/Architecture                1118\n",
       "Accounting/Finance/Insurance/loans       831\n",
       "Manufacturing/Mechanical                 763\n",
       "Life/Social Science                      644\n",
       "Data Scientist                           638\n",
       "Statistics/Math                          436\n",
       "Admin/HR/Sale/Customer                   387\n",
       "Government-or-military                    74\n",
       "media jobs                                42\n",
       "Construction-or-facilities                39\n",
       "Marketing-or-advertising-or-pr            34"
      ]
     },
     "execution_count": 116,
     "metadata": {},
     "output_type": "execute_result"
    }
   ],
   "source": [
    "data4 = pd.DataFrame(df['category'].value_counts())\n",
    "data4"
   ]
  },
  {
   "cell_type": "markdown",
   "metadata": {},
   "source": [
    "### Observation:\n",
    "- drop the classes with less than 1% of value\n",
    "- Data scientist is not an industy, decide to drop. "
   ]
  },
  {
   "cell_type": "code",
   "execution_count": 117,
   "metadata": {},
   "outputs": [],
   "source": [
    "# decided to drop the categories < 100 value count \n",
    "df = df.groupby('category').filter(lambda x : len(x)>100)"
   ]
  },
  {
   "cell_type": "code",
   "execution_count": 118,
   "metadata": {},
   "outputs": [],
   "source": [
    "# decided to drop Data Scientist \n",
    "df.drop(df[df['category'] == 'Data Scientist'].index, inplace = True)"
   ]
  },
  {
   "cell_type": "code",
   "execution_count": 119,
   "metadata": {
    "scrolled": false
   },
   "outputs": [
    {
     "data": {
      "text/plain": [
       "Computer/Internet                     0.377940\n",
       "Engineering/Architecture              0.166419\n",
       "Accounting/Finance/Insurance/loans    0.123698\n",
       "Manufacturing/Mechanical              0.113575\n",
       "Life/Social Science                   0.095862\n",
       "Statistics/Math                       0.064900\n",
       "Admin/HR/Sale/Customer                0.057606\n",
       "Name: category, dtype: float64"
      ]
     },
     "execution_count": 119,
     "metadata": {},
     "output_type": "execute_result"
    }
   ],
   "source": [
    "df['category'].value_counts(normalize=True)"
   ]
  },
  {
   "cell_type": "code",
   "execution_count": 120,
   "metadata": {
    "scrolled": false
   },
   "outputs": [
    {
     "data": {
      "application/vnd.plotly.v1+json": {
       "config": {
        "plotlyServerURL": "https://plot.ly"
       },
       "data": [
        {
         "alignmentgroup": "True",
         "hovertemplate": "index=%{x}<br>category=%{y}<extra></extra>",
         "legendgroup": "",
         "marker": {
          "color": "#636efa"
         },
         "name": "",
         "offsetgroup": "",
         "orientation": "v",
         "showlegend": false,
         "textposition": "auto",
         "type": "bar",
         "x": [
          "Computer/Internet",
          "Engineering/Architecture",
          "Accounting/Finance/Insurance/loans",
          "Manufacturing/Mechanical",
          "Life/Social Science",
          "Data Scientist",
          "Statistics/Math",
          "Admin/HR/Sale/Customer",
          "Government-or-military",
          "media jobs",
          "Construction-or-facilities",
          "Marketing-or-advertising-or-pr"
         ],
         "xaxis": "x",
         "y": [
          2539,
          1118,
          831,
          763,
          644,
          638,
          436,
          387,
          74,
          42,
          39,
          34
         ],
         "yaxis": "y"
        }
       ],
       "layout": {
        "barmode": "relative",
        "legend": {
         "tracegroupgap": 0
        },
        "margin": {
         "t": 60
        },
        "template": {
         "data": {
          "bar": [
           {
            "error_x": {
             "color": "#2a3f5f"
            },
            "error_y": {
             "color": "#2a3f5f"
            },
            "marker": {
             "line": {
              "color": "#E5ECF6",
              "width": 0.5
             }
            },
            "type": "bar"
           }
          ],
          "barpolar": [
           {
            "marker": {
             "line": {
              "color": "#E5ECF6",
              "width": 0.5
             }
            },
            "type": "barpolar"
           }
          ],
          "carpet": [
           {
            "aaxis": {
             "endlinecolor": "#2a3f5f",
             "gridcolor": "white",
             "linecolor": "white",
             "minorgridcolor": "white",
             "startlinecolor": "#2a3f5f"
            },
            "baxis": {
             "endlinecolor": "#2a3f5f",
             "gridcolor": "white",
             "linecolor": "white",
             "minorgridcolor": "white",
             "startlinecolor": "#2a3f5f"
            },
            "type": "carpet"
           }
          ],
          "choropleth": [
           {
            "colorbar": {
             "outlinewidth": 0,
             "ticks": ""
            },
            "type": "choropleth"
           }
          ],
          "contour": [
           {
            "colorbar": {
             "outlinewidth": 0,
             "ticks": ""
            },
            "colorscale": [
             [
              0,
              "#0d0887"
             ],
             [
              0.1111111111111111,
              "#46039f"
             ],
             [
              0.2222222222222222,
              "#7201a8"
             ],
             [
              0.3333333333333333,
              "#9c179e"
             ],
             [
              0.4444444444444444,
              "#bd3786"
             ],
             [
              0.5555555555555556,
              "#d8576b"
             ],
             [
              0.6666666666666666,
              "#ed7953"
             ],
             [
              0.7777777777777778,
              "#fb9f3a"
             ],
             [
              0.8888888888888888,
              "#fdca26"
             ],
             [
              1,
              "#f0f921"
             ]
            ],
            "type": "contour"
           }
          ],
          "contourcarpet": [
           {
            "colorbar": {
             "outlinewidth": 0,
             "ticks": ""
            },
            "type": "contourcarpet"
           }
          ],
          "heatmap": [
           {
            "colorbar": {
             "outlinewidth": 0,
             "ticks": ""
            },
            "colorscale": [
             [
              0,
              "#0d0887"
             ],
             [
              0.1111111111111111,
              "#46039f"
             ],
             [
              0.2222222222222222,
              "#7201a8"
             ],
             [
              0.3333333333333333,
              "#9c179e"
             ],
             [
              0.4444444444444444,
              "#bd3786"
             ],
             [
              0.5555555555555556,
              "#d8576b"
             ],
             [
              0.6666666666666666,
              "#ed7953"
             ],
             [
              0.7777777777777778,
              "#fb9f3a"
             ],
             [
              0.8888888888888888,
              "#fdca26"
             ],
             [
              1,
              "#f0f921"
             ]
            ],
            "type": "heatmap"
           }
          ],
          "heatmapgl": [
           {
            "colorbar": {
             "outlinewidth": 0,
             "ticks": ""
            },
            "colorscale": [
             [
              0,
              "#0d0887"
             ],
             [
              0.1111111111111111,
              "#46039f"
             ],
             [
              0.2222222222222222,
              "#7201a8"
             ],
             [
              0.3333333333333333,
              "#9c179e"
             ],
             [
              0.4444444444444444,
              "#bd3786"
             ],
             [
              0.5555555555555556,
              "#d8576b"
             ],
             [
              0.6666666666666666,
              "#ed7953"
             ],
             [
              0.7777777777777778,
              "#fb9f3a"
             ],
             [
              0.8888888888888888,
              "#fdca26"
             ],
             [
              1,
              "#f0f921"
             ]
            ],
            "type": "heatmapgl"
           }
          ],
          "histogram": [
           {
            "marker": {
             "colorbar": {
              "outlinewidth": 0,
              "ticks": ""
             }
            },
            "type": "histogram"
           }
          ],
          "histogram2d": [
           {
            "colorbar": {
             "outlinewidth": 0,
             "ticks": ""
            },
            "colorscale": [
             [
              0,
              "#0d0887"
             ],
             [
              0.1111111111111111,
              "#46039f"
             ],
             [
              0.2222222222222222,
              "#7201a8"
             ],
             [
              0.3333333333333333,
              "#9c179e"
             ],
             [
              0.4444444444444444,
              "#bd3786"
             ],
             [
              0.5555555555555556,
              "#d8576b"
             ],
             [
              0.6666666666666666,
              "#ed7953"
             ],
             [
              0.7777777777777778,
              "#fb9f3a"
             ],
             [
              0.8888888888888888,
              "#fdca26"
             ],
             [
              1,
              "#f0f921"
             ]
            ],
            "type": "histogram2d"
           }
          ],
          "histogram2dcontour": [
           {
            "colorbar": {
             "outlinewidth": 0,
             "ticks": ""
            },
            "colorscale": [
             [
              0,
              "#0d0887"
             ],
             [
              0.1111111111111111,
              "#46039f"
             ],
             [
              0.2222222222222222,
              "#7201a8"
             ],
             [
              0.3333333333333333,
              "#9c179e"
             ],
             [
              0.4444444444444444,
              "#bd3786"
             ],
             [
              0.5555555555555556,
              "#d8576b"
             ],
             [
              0.6666666666666666,
              "#ed7953"
             ],
             [
              0.7777777777777778,
              "#fb9f3a"
             ],
             [
              0.8888888888888888,
              "#fdca26"
             ],
             [
              1,
              "#f0f921"
             ]
            ],
            "type": "histogram2dcontour"
           }
          ],
          "mesh3d": [
           {
            "colorbar": {
             "outlinewidth": 0,
             "ticks": ""
            },
            "type": "mesh3d"
           }
          ],
          "parcoords": [
           {
            "line": {
             "colorbar": {
              "outlinewidth": 0,
              "ticks": ""
             }
            },
            "type": "parcoords"
           }
          ],
          "pie": [
           {
            "automargin": true,
            "type": "pie"
           }
          ],
          "scatter": [
           {
            "marker": {
             "colorbar": {
              "outlinewidth": 0,
              "ticks": ""
             }
            },
            "type": "scatter"
           }
          ],
          "scatter3d": [
           {
            "line": {
             "colorbar": {
              "outlinewidth": 0,
              "ticks": ""
             }
            },
            "marker": {
             "colorbar": {
              "outlinewidth": 0,
              "ticks": ""
             }
            },
            "type": "scatter3d"
           }
          ],
          "scattercarpet": [
           {
            "marker": {
             "colorbar": {
              "outlinewidth": 0,
              "ticks": ""
             }
            },
            "type": "scattercarpet"
           }
          ],
          "scattergeo": [
           {
            "marker": {
             "colorbar": {
              "outlinewidth": 0,
              "ticks": ""
             }
            },
            "type": "scattergeo"
           }
          ],
          "scattergl": [
           {
            "marker": {
             "colorbar": {
              "outlinewidth": 0,
              "ticks": ""
             }
            },
            "type": "scattergl"
           }
          ],
          "scattermapbox": [
           {
            "marker": {
             "colorbar": {
              "outlinewidth": 0,
              "ticks": ""
             }
            },
            "type": "scattermapbox"
           }
          ],
          "scatterpolar": [
           {
            "marker": {
             "colorbar": {
              "outlinewidth": 0,
              "ticks": ""
             }
            },
            "type": "scatterpolar"
           }
          ],
          "scatterpolargl": [
           {
            "marker": {
             "colorbar": {
              "outlinewidth": 0,
              "ticks": ""
             }
            },
            "type": "scatterpolargl"
           }
          ],
          "scatterternary": [
           {
            "marker": {
             "colorbar": {
              "outlinewidth": 0,
              "ticks": ""
             }
            },
            "type": "scatterternary"
           }
          ],
          "surface": [
           {
            "colorbar": {
             "outlinewidth": 0,
             "ticks": ""
            },
            "colorscale": [
             [
              0,
              "#0d0887"
             ],
             [
              0.1111111111111111,
              "#46039f"
             ],
             [
              0.2222222222222222,
              "#7201a8"
             ],
             [
              0.3333333333333333,
              "#9c179e"
             ],
             [
              0.4444444444444444,
              "#bd3786"
             ],
             [
              0.5555555555555556,
              "#d8576b"
             ],
             [
              0.6666666666666666,
              "#ed7953"
             ],
             [
              0.7777777777777778,
              "#fb9f3a"
             ],
             [
              0.8888888888888888,
              "#fdca26"
             ],
             [
              1,
              "#f0f921"
             ]
            ],
            "type": "surface"
           }
          ],
          "table": [
           {
            "cells": {
             "fill": {
              "color": "#EBF0F8"
             },
             "line": {
              "color": "white"
             }
            },
            "header": {
             "fill": {
              "color": "#C8D4E3"
             },
             "line": {
              "color": "white"
             }
            },
            "type": "table"
           }
          ]
         },
         "layout": {
          "annotationdefaults": {
           "arrowcolor": "#2a3f5f",
           "arrowhead": 0,
           "arrowwidth": 1
          },
          "coloraxis": {
           "colorbar": {
            "outlinewidth": 0,
            "ticks": ""
           }
          },
          "colorscale": {
           "diverging": [
            [
             0,
             "#8e0152"
            ],
            [
             0.1,
             "#c51b7d"
            ],
            [
             0.2,
             "#de77ae"
            ],
            [
             0.3,
             "#f1b6da"
            ],
            [
             0.4,
             "#fde0ef"
            ],
            [
             0.5,
             "#f7f7f7"
            ],
            [
             0.6,
             "#e6f5d0"
            ],
            [
             0.7,
             "#b8e186"
            ],
            [
             0.8,
             "#7fbc41"
            ],
            [
             0.9,
             "#4d9221"
            ],
            [
             1,
             "#276419"
            ]
           ],
           "sequential": [
            [
             0,
             "#0d0887"
            ],
            [
             0.1111111111111111,
             "#46039f"
            ],
            [
             0.2222222222222222,
             "#7201a8"
            ],
            [
             0.3333333333333333,
             "#9c179e"
            ],
            [
             0.4444444444444444,
             "#bd3786"
            ],
            [
             0.5555555555555556,
             "#d8576b"
            ],
            [
             0.6666666666666666,
             "#ed7953"
            ],
            [
             0.7777777777777778,
             "#fb9f3a"
            ],
            [
             0.8888888888888888,
             "#fdca26"
            ],
            [
             1,
             "#f0f921"
            ]
           ],
           "sequentialminus": [
            [
             0,
             "#0d0887"
            ],
            [
             0.1111111111111111,
             "#46039f"
            ],
            [
             0.2222222222222222,
             "#7201a8"
            ],
            [
             0.3333333333333333,
             "#9c179e"
            ],
            [
             0.4444444444444444,
             "#bd3786"
            ],
            [
             0.5555555555555556,
             "#d8576b"
            ],
            [
             0.6666666666666666,
             "#ed7953"
            ],
            [
             0.7777777777777778,
             "#fb9f3a"
            ],
            [
             0.8888888888888888,
             "#fdca26"
            ],
            [
             1,
             "#f0f921"
            ]
           ]
          },
          "colorway": [
           "#636efa",
           "#EF553B",
           "#00cc96",
           "#ab63fa",
           "#FFA15A",
           "#19d3f3",
           "#FF6692",
           "#B6E880",
           "#FF97FF",
           "#FECB52"
          ],
          "font": {
           "color": "#2a3f5f"
          },
          "geo": {
           "bgcolor": "white",
           "lakecolor": "white",
           "landcolor": "#E5ECF6",
           "showlakes": true,
           "showland": true,
           "subunitcolor": "white"
          },
          "hoverlabel": {
           "align": "left"
          },
          "hovermode": "closest",
          "mapbox": {
           "style": "light"
          },
          "paper_bgcolor": "white",
          "plot_bgcolor": "#E5ECF6",
          "polar": {
           "angularaxis": {
            "gridcolor": "white",
            "linecolor": "white",
            "ticks": ""
           },
           "bgcolor": "#E5ECF6",
           "radialaxis": {
            "gridcolor": "white",
            "linecolor": "white",
            "ticks": ""
           }
          },
          "scene": {
           "xaxis": {
            "backgroundcolor": "#E5ECF6",
            "gridcolor": "white",
            "gridwidth": 2,
            "linecolor": "white",
            "showbackground": true,
            "ticks": "",
            "zerolinecolor": "white"
           },
           "yaxis": {
            "backgroundcolor": "#E5ECF6",
            "gridcolor": "white",
            "gridwidth": 2,
            "linecolor": "white",
            "showbackground": true,
            "ticks": "",
            "zerolinecolor": "white"
           },
           "zaxis": {
            "backgroundcolor": "#E5ECF6",
            "gridcolor": "white",
            "gridwidth": 2,
            "linecolor": "white",
            "showbackground": true,
            "ticks": "",
            "zerolinecolor": "white"
           }
          },
          "shapedefaults": {
           "line": {
            "color": "#2a3f5f"
           }
          },
          "ternary": {
           "aaxis": {
            "gridcolor": "white",
            "linecolor": "white",
            "ticks": ""
           },
           "baxis": {
            "gridcolor": "white",
            "linecolor": "white",
            "ticks": ""
           },
           "bgcolor": "#E5ECF6",
           "caxis": {
            "gridcolor": "white",
            "linecolor": "white",
            "ticks": ""
           }
          },
          "title": {
           "x": 0.05
          },
          "xaxis": {
           "automargin": true,
           "gridcolor": "white",
           "linecolor": "white",
           "ticks": "",
           "title": {
            "standoff": 15
           },
           "zerolinecolor": "white",
           "zerolinewidth": 2
          },
          "yaxis": {
           "automargin": true,
           "gridcolor": "white",
           "linecolor": "white",
           "ticks": "",
           "title": {
            "standoff": 15
           },
           "zerolinecolor": "white",
           "zerolinewidth": 2
          }
         }
        },
        "title": {
         "text": "Percentage of Different Sectors"
        },
        "xaxis": {
         "anchor": "y",
         "domain": [
          0,
          1
         ],
         "title": {
          "text": "index"
         }
        },
        "yaxis": {
         "anchor": "x",
         "domain": [
          0,
          1
         ],
         "title": {
          "text": "category"
         }
        }
       }
      },
      "text/html": [
       "<div>                            <div id=\"7f456906-a73c-41bf-93fe-bb636f910b43\" class=\"plotly-graph-div\" style=\"height:525px; width:100%;\"></div>            <script type=\"text/javascript\">                require([\"plotly\"], function(Plotly) {                    window.PLOTLYENV=window.PLOTLYENV || {};                                    if (document.getElementById(\"7f456906-a73c-41bf-93fe-bb636f910b43\")) {                    Plotly.newPlot(                        \"7f456906-a73c-41bf-93fe-bb636f910b43\",                        [{\"alignmentgroup\": \"True\", \"hovertemplate\": \"index=%{x}<br>category=%{y}<extra></extra>\", \"legendgroup\": \"\", \"marker\": {\"color\": \"#636efa\"}, \"name\": \"\", \"offsetgroup\": \"\", \"orientation\": \"v\", \"showlegend\": false, \"textposition\": \"auto\", \"type\": \"bar\", \"x\": [\"Computer/Internet\", \"Engineering/Architecture\", \"Accounting/Finance/Insurance/loans\", \"Manufacturing/Mechanical\", \"Life/Social Science\", \"Data Scientist\", \"Statistics/Math\", \"Admin/HR/Sale/Customer\", \"Government-or-military\", \"media jobs\", \"Construction-or-facilities\", \"Marketing-or-advertising-or-pr\"], \"xaxis\": \"x\", \"y\": [2539, 1118, 831, 763, 644, 638, 436, 387, 74, 42, 39, 34], \"yaxis\": \"y\"}],                        {\"barmode\": \"relative\", \"legend\": {\"tracegroupgap\": 0}, \"margin\": {\"t\": 60}, \"template\": {\"data\": {\"bar\": [{\"error_x\": {\"color\": \"#2a3f5f\"}, \"error_y\": {\"color\": \"#2a3f5f\"}, \"marker\": {\"line\": {\"color\": \"#E5ECF6\", \"width\": 0.5}}, \"type\": \"bar\"}], \"barpolar\": [{\"marker\": {\"line\": {\"color\": \"#E5ECF6\", \"width\": 0.5}}, \"type\": \"barpolar\"}], \"carpet\": [{\"aaxis\": {\"endlinecolor\": \"#2a3f5f\", \"gridcolor\": \"white\", \"linecolor\": \"white\", \"minorgridcolor\": \"white\", \"startlinecolor\": \"#2a3f5f\"}, \"baxis\": {\"endlinecolor\": \"#2a3f5f\", \"gridcolor\": \"white\", \"linecolor\": \"white\", \"minorgridcolor\": \"white\", \"startlinecolor\": \"#2a3f5f\"}, \"type\": \"carpet\"}], \"choropleth\": [{\"colorbar\": {\"outlinewidth\": 0, \"ticks\": \"\"}, \"type\": \"choropleth\"}], \"contour\": [{\"colorbar\": {\"outlinewidth\": 0, \"ticks\": \"\"}, \"colorscale\": [[0.0, \"#0d0887\"], [0.1111111111111111, \"#46039f\"], [0.2222222222222222, \"#7201a8\"], [0.3333333333333333, \"#9c179e\"], [0.4444444444444444, \"#bd3786\"], [0.5555555555555556, \"#d8576b\"], [0.6666666666666666, \"#ed7953\"], [0.7777777777777778, \"#fb9f3a\"], [0.8888888888888888, \"#fdca26\"], [1.0, \"#f0f921\"]], \"type\": \"contour\"}], \"contourcarpet\": [{\"colorbar\": {\"outlinewidth\": 0, \"ticks\": \"\"}, \"type\": \"contourcarpet\"}], \"heatmap\": [{\"colorbar\": {\"outlinewidth\": 0, \"ticks\": \"\"}, \"colorscale\": [[0.0, \"#0d0887\"], [0.1111111111111111, \"#46039f\"], [0.2222222222222222, \"#7201a8\"], [0.3333333333333333, \"#9c179e\"], [0.4444444444444444, \"#bd3786\"], [0.5555555555555556, \"#d8576b\"], [0.6666666666666666, \"#ed7953\"], [0.7777777777777778, \"#fb9f3a\"], [0.8888888888888888, \"#fdca26\"], [1.0, \"#f0f921\"]], \"type\": \"heatmap\"}], \"heatmapgl\": [{\"colorbar\": {\"outlinewidth\": 0, \"ticks\": \"\"}, \"colorscale\": [[0.0, \"#0d0887\"], [0.1111111111111111, \"#46039f\"], [0.2222222222222222, \"#7201a8\"], [0.3333333333333333, \"#9c179e\"], [0.4444444444444444, \"#bd3786\"], [0.5555555555555556, \"#d8576b\"], [0.6666666666666666, \"#ed7953\"], [0.7777777777777778, \"#fb9f3a\"], [0.8888888888888888, \"#fdca26\"], [1.0, \"#f0f921\"]], \"type\": \"heatmapgl\"}], \"histogram\": [{\"marker\": {\"colorbar\": {\"outlinewidth\": 0, \"ticks\": \"\"}}, \"type\": \"histogram\"}], \"histogram2d\": [{\"colorbar\": {\"outlinewidth\": 0, \"ticks\": \"\"}, \"colorscale\": [[0.0, \"#0d0887\"], [0.1111111111111111, \"#46039f\"], [0.2222222222222222, \"#7201a8\"], [0.3333333333333333, \"#9c179e\"], [0.4444444444444444, \"#bd3786\"], [0.5555555555555556, \"#d8576b\"], [0.6666666666666666, \"#ed7953\"], [0.7777777777777778, \"#fb9f3a\"], [0.8888888888888888, \"#fdca26\"], [1.0, \"#f0f921\"]], \"type\": \"histogram2d\"}], \"histogram2dcontour\": [{\"colorbar\": {\"outlinewidth\": 0, \"ticks\": \"\"}, \"colorscale\": [[0.0, \"#0d0887\"], [0.1111111111111111, \"#46039f\"], [0.2222222222222222, \"#7201a8\"], [0.3333333333333333, \"#9c179e\"], [0.4444444444444444, \"#bd3786\"], [0.5555555555555556, \"#d8576b\"], [0.6666666666666666, \"#ed7953\"], [0.7777777777777778, \"#fb9f3a\"], [0.8888888888888888, \"#fdca26\"], [1.0, \"#f0f921\"]], \"type\": \"histogram2dcontour\"}], \"mesh3d\": [{\"colorbar\": {\"outlinewidth\": 0, \"ticks\": \"\"}, \"type\": \"mesh3d\"}], \"parcoords\": [{\"line\": {\"colorbar\": {\"outlinewidth\": 0, \"ticks\": \"\"}}, \"type\": \"parcoords\"}], \"pie\": [{\"automargin\": true, \"type\": \"pie\"}], \"scatter\": [{\"marker\": {\"colorbar\": {\"outlinewidth\": 0, \"ticks\": \"\"}}, \"type\": \"scatter\"}], \"scatter3d\": [{\"line\": {\"colorbar\": {\"outlinewidth\": 0, \"ticks\": \"\"}}, \"marker\": {\"colorbar\": {\"outlinewidth\": 0, \"ticks\": \"\"}}, \"type\": \"scatter3d\"}], \"scattercarpet\": [{\"marker\": {\"colorbar\": {\"outlinewidth\": 0, \"ticks\": \"\"}}, \"type\": \"scattercarpet\"}], \"scattergeo\": [{\"marker\": {\"colorbar\": {\"outlinewidth\": 0, \"ticks\": \"\"}}, \"type\": \"scattergeo\"}], \"scattergl\": [{\"marker\": {\"colorbar\": {\"outlinewidth\": 0, \"ticks\": \"\"}}, \"type\": \"scattergl\"}], \"scattermapbox\": [{\"marker\": {\"colorbar\": {\"outlinewidth\": 0, \"ticks\": \"\"}}, \"type\": \"scattermapbox\"}], \"scatterpolar\": [{\"marker\": {\"colorbar\": {\"outlinewidth\": 0, \"ticks\": \"\"}}, \"type\": \"scatterpolar\"}], \"scatterpolargl\": [{\"marker\": {\"colorbar\": {\"outlinewidth\": 0, \"ticks\": \"\"}}, \"type\": \"scatterpolargl\"}], \"scatterternary\": [{\"marker\": {\"colorbar\": {\"outlinewidth\": 0, \"ticks\": \"\"}}, \"type\": \"scatterternary\"}], \"surface\": [{\"colorbar\": {\"outlinewidth\": 0, \"ticks\": \"\"}, \"colorscale\": [[0.0, \"#0d0887\"], [0.1111111111111111, \"#46039f\"], [0.2222222222222222, \"#7201a8\"], [0.3333333333333333, \"#9c179e\"], [0.4444444444444444, \"#bd3786\"], [0.5555555555555556, \"#d8576b\"], [0.6666666666666666, \"#ed7953\"], [0.7777777777777778, \"#fb9f3a\"], [0.8888888888888888, \"#fdca26\"], [1.0, \"#f0f921\"]], \"type\": \"surface\"}], \"table\": [{\"cells\": {\"fill\": {\"color\": \"#EBF0F8\"}, \"line\": {\"color\": \"white\"}}, \"header\": {\"fill\": {\"color\": \"#C8D4E3\"}, \"line\": {\"color\": \"white\"}}, \"type\": \"table\"}]}, \"layout\": {\"annotationdefaults\": {\"arrowcolor\": \"#2a3f5f\", \"arrowhead\": 0, \"arrowwidth\": 1}, \"coloraxis\": {\"colorbar\": {\"outlinewidth\": 0, \"ticks\": \"\"}}, \"colorscale\": {\"diverging\": [[0, \"#8e0152\"], [0.1, \"#c51b7d\"], [0.2, \"#de77ae\"], [0.3, \"#f1b6da\"], [0.4, \"#fde0ef\"], [0.5, \"#f7f7f7\"], [0.6, \"#e6f5d0\"], [0.7, \"#b8e186\"], [0.8, \"#7fbc41\"], [0.9, \"#4d9221\"], [1, \"#276419\"]], \"sequential\": [[0.0, \"#0d0887\"], [0.1111111111111111, \"#46039f\"], [0.2222222222222222, \"#7201a8\"], [0.3333333333333333, \"#9c179e\"], [0.4444444444444444, \"#bd3786\"], [0.5555555555555556, \"#d8576b\"], [0.6666666666666666, \"#ed7953\"], [0.7777777777777778, \"#fb9f3a\"], [0.8888888888888888, \"#fdca26\"], [1.0, \"#f0f921\"]], \"sequentialminus\": [[0.0, \"#0d0887\"], [0.1111111111111111, \"#46039f\"], [0.2222222222222222, \"#7201a8\"], [0.3333333333333333, \"#9c179e\"], [0.4444444444444444, \"#bd3786\"], [0.5555555555555556, \"#d8576b\"], [0.6666666666666666, \"#ed7953\"], [0.7777777777777778, \"#fb9f3a\"], [0.8888888888888888, \"#fdca26\"], [1.0, \"#f0f921\"]]}, \"colorway\": [\"#636efa\", \"#EF553B\", \"#00cc96\", \"#ab63fa\", \"#FFA15A\", \"#19d3f3\", \"#FF6692\", \"#B6E880\", \"#FF97FF\", \"#FECB52\"], \"font\": {\"color\": \"#2a3f5f\"}, \"geo\": {\"bgcolor\": \"white\", \"lakecolor\": \"white\", \"landcolor\": \"#E5ECF6\", \"showlakes\": true, \"showland\": true, \"subunitcolor\": \"white\"}, \"hoverlabel\": {\"align\": \"left\"}, \"hovermode\": \"closest\", \"mapbox\": {\"style\": \"light\"}, \"paper_bgcolor\": \"white\", \"plot_bgcolor\": \"#E5ECF6\", \"polar\": {\"angularaxis\": {\"gridcolor\": \"white\", \"linecolor\": \"white\", \"ticks\": \"\"}, \"bgcolor\": \"#E5ECF6\", \"radialaxis\": {\"gridcolor\": \"white\", \"linecolor\": \"white\", \"ticks\": \"\"}}, \"scene\": {\"xaxis\": {\"backgroundcolor\": \"#E5ECF6\", \"gridcolor\": \"white\", \"gridwidth\": 2, \"linecolor\": \"white\", \"showbackground\": true, \"ticks\": \"\", \"zerolinecolor\": \"white\"}, \"yaxis\": {\"backgroundcolor\": \"#E5ECF6\", \"gridcolor\": \"white\", \"gridwidth\": 2, \"linecolor\": \"white\", \"showbackground\": true, \"ticks\": \"\", \"zerolinecolor\": \"white\"}, \"zaxis\": {\"backgroundcolor\": \"#E5ECF6\", \"gridcolor\": \"white\", \"gridwidth\": 2, \"linecolor\": \"white\", \"showbackground\": true, \"ticks\": \"\", \"zerolinecolor\": \"white\"}}, \"shapedefaults\": {\"line\": {\"color\": \"#2a3f5f\"}}, \"ternary\": {\"aaxis\": {\"gridcolor\": \"white\", \"linecolor\": \"white\", \"ticks\": \"\"}, \"baxis\": {\"gridcolor\": \"white\", \"linecolor\": \"white\", \"ticks\": \"\"}, \"bgcolor\": \"#E5ECF6\", \"caxis\": {\"gridcolor\": \"white\", \"linecolor\": \"white\", \"ticks\": \"\"}}, \"title\": {\"x\": 0.05}, \"xaxis\": {\"automargin\": true, \"gridcolor\": \"white\", \"linecolor\": \"white\", \"ticks\": \"\", \"title\": {\"standoff\": 15}, \"zerolinecolor\": \"white\", \"zerolinewidth\": 2}, \"yaxis\": {\"automargin\": true, \"gridcolor\": \"white\", \"linecolor\": \"white\", \"ticks\": \"\", \"title\": {\"standoff\": 15}, \"zerolinecolor\": \"white\", \"zerolinewidth\": 2}}}, \"title\": {\"text\": \"Percentage of Different Sectors\"}, \"xaxis\": {\"anchor\": \"y\", \"domain\": [0.0, 1.0], \"title\": {\"text\": \"index\"}}, \"yaxis\": {\"anchor\": \"x\", \"domain\": [0.0, 1.0], \"title\": {\"text\": \"category\"}}},                        {\"responsive\": true}                    ).then(function(){\n",
       "                            \n",
       "var gd = document.getElementById('7f456906-a73c-41bf-93fe-bb636f910b43');\n",
       "var x = new MutationObserver(function (mutations, observer) {{\n",
       "        var display = window.getComputedStyle(gd).display;\n",
       "        if (!display || display === 'none') {{\n",
       "            console.log([gd, 'removed!']);\n",
       "            Plotly.purge(gd);\n",
       "            observer.disconnect();\n",
       "        }}\n",
       "}});\n",
       "\n",
       "// Listen for the removal of the full notebook cells\n",
       "var notebookContainer = gd.closest('#notebook-container');\n",
       "if (notebookContainer) {{\n",
       "    x.observe(notebookContainer, {childList: true});\n",
       "}}\n",
       "\n",
       "// Listen for the clearing of the current output cell\n",
       "var outputEl = gd.closest('.output');\n",
       "if (outputEl) {{\n",
       "    x.observe(outputEl, {childList: true});\n",
       "}}\n",
       "\n",
       "                        })                };                });            </script>        </div>"
      ]
     },
     "metadata": {},
     "output_type": "display_data"
    }
   ],
   "source": [
    "    import plotly.express as px\n",
    "    fig = px.bar(data4, y=data4['category'], x=data4.index)\n",
    "    fig.update_layout(title = 'Percentage of Different Sectors')\n",
    "    fig.show()"
   ]
  },
  {
   "cell_type": "code",
   "execution_count": 121,
   "metadata": {},
   "outputs": [
    {
     "data": {
      "text/plain": [
       "job_title          0\n",
       "category           0\n",
       "job_description    0\n",
       "dtype: int64"
      ]
     },
     "execution_count": 121,
     "metadata": {},
     "output_type": "execute_result"
    }
   ],
   "source": [
    "df.isnull().sum()"
   ]
  },
  {
   "cell_type": "code",
   "execution_count": 122,
   "metadata": {
    "colab": {
     "base_uri": "https://localhost:8080/",
     "height": 372
    },
    "id": "N5P7kjUdedh4",
    "outputId": "37c1709e-1e38-402a-d6b1-8d338a205a70"
   },
   "outputs": [
    {
     "data": {
      "text/plain": [
       "{'Accounting/Finance/Insurance/loans': 0,\n",
       " 'Computer/Internet': 1,\n",
       " 'Engineering/Architecture': 2,\n",
       " 'Manufacturing/Mechanical': 3,\n",
       " 'Life/Social Science': 4,\n",
       " 'Admin/HR/Sale/Customer': 5,\n",
       " 'Statistics/Math': 6}"
      ]
     },
     "execution_count": 122,
     "metadata": {},
     "output_type": "execute_result"
    }
   ],
   "source": [
    "# Finding the labels\n",
    "possible_labels = df['category'].unique()\n",
    "\n",
    "label_dict = {}\n",
    "for index, possible_label in enumerate(possible_labels):\n",
    "    label_dict[possible_label] = index\n",
    "label_dict"
   ]
  },
  {
   "cell_type": "code",
   "execution_count": 123,
   "metadata": {
    "id": "kAqmqxjQedh9"
   },
   "outputs": [],
   "source": [
    "pred_labels = ['Accounting/Finance/Insurance/loans', 'Computer/Internet',\n",
    "               'Engineering/Architecture', 'Manufacturing/Mechanical',\n",
    "               'Life/Social Science','Admin/HR/Sale/Customer',\n",
    "                'Statistics/Math']"
   ]
  },
  {
   "cell_type": "code",
   "execution_count": 124,
   "metadata": {
    "colab": {
     "base_uri": "https://localhost:8080/",
     "height": 194
    },
    "id": "5DxiXE19ediF",
    "outputId": "a7d30868-3993-4ef0-bc6a-1d6b44404204",
    "scrolled": true
   },
   "outputs": [
    {
     "data": {
      "text/html": [
       "<div>\n",
       "<style scoped>\n",
       "    .dataframe tbody tr th:only-of-type {\n",
       "        vertical-align: middle;\n",
       "    }\n",
       "\n",
       "    .dataframe tbody tr th {\n",
       "        vertical-align: top;\n",
       "    }\n",
       "\n",
       "    .dataframe thead th {\n",
       "        text-align: right;\n",
       "    }\n",
       "</style>\n",
       "<table border=\"1\" class=\"dataframe\">\n",
       "  <thead>\n",
       "    <tr style=\"text-align: right;\">\n",
       "      <th></th>\n",
       "      <th>job_title</th>\n",
       "      <th>category</th>\n",
       "      <th>job_description</th>\n",
       "      <th>label</th>\n",
       "    </tr>\n",
       "  </thead>\n",
       "  <tbody>\n",
       "    <tr>\n",
       "      <th>0</th>\n",
       "      <td>Enterprise Data Scientist I</td>\n",
       "      <td>Accounting/Finance/Insurance/loans</td>\n",
       "      <td>Read what people are saying about working here. \\n\\nWe are Farmers!\\n\\nJoin a team of diverse pr...</td>\n",
       "      <td>0</td>\n",
       "    </tr>\n",
       "    <tr>\n",
       "      <th>1</th>\n",
       "      <td>Data Scientist, Aladdin Wealth Tech, Associate (Modeler)</td>\n",
       "      <td>Accounting/Finance/Insurance/loans</td>\n",
       "      <td>Read what people are saying about working here. \\n\\nAbout BlackRock\\n\\nBlackRock helps investors...</td>\n",
       "      <td>0</td>\n",
       "    </tr>\n",
       "    <tr>\n",
       "      <th>2</th>\n",
       "      <td>CIB – Fixed Income Research – Machine Learning Data Scientist - Securitized Products – Associate/VP</td>\n",
       "      <td>Accounting/Finance/Insurance/loans</td>\n",
       "      <td>Read what people are saying about working here. \\n\\nOpportunity\\n\\nThe opportunity is to join ou...</td>\n",
       "      <td>0</td>\n",
       "    </tr>\n",
       "    <tr>\n",
       "      <th>3</th>\n",
       "      <td>Data Scientist, Licensing Operations</td>\n",
       "      <td>Accounting/Finance/Insurance/loans</td>\n",
       "      <td>Read what people are saying about working here. \\n\\nAt Spotify our mission is to provide the wor...</td>\n",
       "      <td>0</td>\n",
       "    </tr>\n",
       "    <tr>\n",
       "      <th>4</th>\n",
       "      <td>Data Scientist, Aladdin Wealth Tech, Associate</td>\n",
       "      <td>Accounting/Finance/Insurance/loans</td>\n",
       "      <td>Read what people are saying about working here. \\n\\nAbout BlackRock\\n\\nBlackRock helps investors...</td>\n",
       "      <td>0</td>\n",
       "    </tr>\n",
       "  </tbody>\n",
       "</table>\n",
       "</div>"
      ],
      "text/plain": [
       "                                                                                             job_title  \\\n",
       "0                                                                          Enterprise Data Scientist I   \n",
       "1                                             Data Scientist, Aladdin Wealth Tech, Associate (Modeler)   \n",
       "2  CIB – Fixed Income Research – Machine Learning Data Scientist - Securitized Products – Associate/VP   \n",
       "3                                                                 Data Scientist, Licensing Operations   \n",
       "4                                                       Data Scientist, Aladdin Wealth Tech, Associate   \n",
       "\n",
       "                             category  \\\n",
       "0  Accounting/Finance/Insurance/loans   \n",
       "1  Accounting/Finance/Insurance/loans   \n",
       "2  Accounting/Finance/Insurance/loans   \n",
       "3  Accounting/Finance/Insurance/loans   \n",
       "4  Accounting/Finance/Insurance/loans   \n",
       "\n",
       "                                                                                       job_description  \\\n",
       "0  Read what people are saying about working here. \\n\\nWe are Farmers!\\n\\nJoin a team of diverse pr...   \n",
       "1  Read what people are saying about working here. \\n\\nAbout BlackRock\\n\\nBlackRock helps investors...   \n",
       "2  Read what people are saying about working here. \\n\\nOpportunity\\n\\nThe opportunity is to join ou...   \n",
       "3  Read what people are saying about working here. \\n\\nAt Spotify our mission is to provide the wor...   \n",
       "4  Read what people are saying about working here. \\n\\nAbout BlackRock\\n\\nBlackRock helps investors...   \n",
       "\n",
       "   label  \n",
       "0      0  \n",
       "1      0  \n",
       "2      0  \n",
       "3      0  \n",
       "4      0  "
      ]
     },
     "execution_count": 124,
     "metadata": {},
     "output_type": "execute_result"
    }
   ],
   "source": [
    "df['label'] = df['category'].map(label_dict)\n",
    "df = df.reset_index(drop =True)\n",
    "# df = df.drop('job_title', axis=1).reset_index()\n",
    "df.head()"
   ]
  },
  {
   "cell_type": "raw",
   "metadata": {},
   "source": [
    "from nltk import everygrams, word_tokenize, RegexpTokenizer\n",
    "import nltk.corpus as corpus\n",
    "import itertools as it\n",
    "import nltk\n",
    "nltk.download('stopwords')\n",
    "stopwords = corpus.stopwords.words()\n",
    "\n",
    "regex = r'(C\\+\\+|\\w+)' # Remove punctuation unless it's 'C++'\n",
    "tokenize = lambda x: [item for item in RegexpTokenizer(regex).tokenize(x) if item not in stopwords]\n",
    "create_grams = lambda x, minlen=2, maxlen=2: [' '.join(ng) for ng in everygrams(tokenize(x), minlen, maxlen)]\n",
    "ngrams = lambda col, length=(2,3): pd.Series(list(it.chain(*col.apply(create_grams, args=length)))).value_counts()\n",
    "ngrams(df['job_description']).head(20).plot.bar();"
   ]
  },
  {
   "cell_type": "code",
   "execution_count": 125,
   "metadata": {
    "colab": {
     "base_uri": "https://localhost:8080/",
     "height": 483
    },
    "id": "7SDIWPFw-sab",
    "outputId": "8b84b927-5e04-4237-87d0-1ed69e46f73a"
   },
   "outputs": [],
   "source": [
    "#ngrams(df['job_description'], length=(2,3)).head(20).plot.bar();"
   ]
  },
  {
   "cell_type": "raw",
   "metadata": {
    "colab": {
     "base_uri": "https://localhost:8080/",
     "height": 310
    },
    "id": "cayctAjqPagw",
    "outputId": "e9be2ade-245d-4d55-c403-1fd7de9507e6",
    "scrolled": true
   },
   "source": [
    "stop_words = ['data','machine learning',\"machine\",\"learning\"] + list(STOPWORDS)\n",
    "text = ''\n",
    "\n",
    "for w in df['job_description'].str.lower():\n",
    "             text = text + str(w)\n",
    "\n",
    "\n",
    "# Create and generate a word cloud image:\n",
    "wordcloud = WordCloud(stopwords = stop_words, background_color=\"white\").generate(text)\n",
    "\n",
    "# Display the generated image:\n",
    "plt.figure(figsize=(10,6))\n",
    "plt.imshow(wordcloud, interpolation='bilinear')\n",
    "plt.axis(\"off\")\n",
    "plt.show()"
   ]
  },
  {
   "cell_type": "code",
   "execution_count": 126,
   "metadata": {},
   "outputs": [
    {
     "data": {
      "text/plain": [
       "1    2539\n",
       "2    1118\n",
       "0     831\n",
       "3     763\n",
       "4     644\n",
       "6     436\n",
       "5     387\n",
       "Name: label, dtype: int64"
      ]
     },
     "execution_count": 126,
     "metadata": {},
     "output_type": "execute_result"
    }
   ],
   "source": [
    "df['label'].value_counts()"
   ]
  },
  {
   "cell_type": "markdown",
   "metadata": {
    "id": "-euURTvCyX8d"
   },
   "source": [
    "# Deep learning\n"
   ]
  },
  {
   "cell_type": "code",
   "execution_count": 127,
   "metadata": {
    "scrolled": true
   },
   "outputs": [
    {
     "data": {
      "text/plain": [
       "1    2539\n",
       "2    1118\n",
       "0     831\n",
       "3     763\n",
       "4     644\n",
       "6     436\n",
       "5     387\n",
       "Name: label, dtype: int64"
      ]
     },
     "execution_count": 127,
     "metadata": {},
     "output_type": "execute_result"
    }
   ],
   "source": [
    "df['label'].value_counts()"
   ]
  },
  {
   "cell_type": "markdown",
   "metadata": {},
   "source": [
    "## Cleaning of text data"
   ]
  },
  {
   "cell_type": "code",
   "execution_count": 128,
   "metadata": {},
   "outputs": [],
   "source": [
    "#df = df.loc[df['job_description'].str.len()<10000]"
   ]
  },
  {
   "cell_type": "code",
   "execution_count": 129,
   "metadata": {
    "scrolled": true
   },
   "outputs": [],
   "source": [
    "#df['job_description'].str.len().hist();"
   ]
  },
  {
   "cell_type": "code",
   "execution_count": 130,
   "metadata": {
    "scrolled": false
   },
   "outputs": [],
   "source": [
    "#df['job_description'].str.split().\\\n",
    "#  apply(lambda x : [len(i) for i in x]). \\\n",
    "#   map(lambda x: np.mean(x)).hist();"
   ]
  },
  {
   "cell_type": "code",
   "execution_count": 131,
   "metadata": {
    "scrolled": true
   },
   "outputs": [
    {
     "data": {
      "text/html": [
       "<div>\n",
       "<style scoped>\n",
       "    .dataframe tbody tr th:only-of-type {\n",
       "        vertical-align: middle;\n",
       "    }\n",
       "\n",
       "    .dataframe tbody tr th {\n",
       "        vertical-align: top;\n",
       "    }\n",
       "\n",
       "    .dataframe thead th {\n",
       "        text-align: right;\n",
       "    }\n",
       "</style>\n",
       "<table border=\"1\" class=\"dataframe\">\n",
       "  <thead>\n",
       "    <tr style=\"text-align: right;\">\n",
       "      <th></th>\n",
       "      <th>job_title</th>\n",
       "      <th>category</th>\n",
       "      <th>job_description</th>\n",
       "      <th>label</th>\n",
       "    </tr>\n",
       "  </thead>\n",
       "  <tbody>\n",
       "    <tr>\n",
       "      <th>0</th>\n",
       "      <td>Enterprise Data Scientist I</td>\n",
       "      <td>Accounting/Finance/Insurance/loans</td>\n",
       "      <td>Read what people are saying about working here. \\n\\nWe are Farmers!\\n\\nJoin a team of diverse pr...</td>\n",
       "      <td>0</td>\n",
       "    </tr>\n",
       "    <tr>\n",
       "      <th>1</th>\n",
       "      <td>Data Scientist, Aladdin Wealth Tech, Associate (Modeler)</td>\n",
       "      <td>Accounting/Finance/Insurance/loans</td>\n",
       "      <td>Read what people are saying about working here. \\n\\nAbout BlackRock\\n\\nBlackRock helps investors...</td>\n",
       "      <td>0</td>\n",
       "    </tr>\n",
       "    <tr>\n",
       "      <th>2</th>\n",
       "      <td>CIB – Fixed Income Research – Machine Learning Data Scientist - Securitized Products – Associate/VP</td>\n",
       "      <td>Accounting/Finance/Insurance/loans</td>\n",
       "      <td>Read what people are saying about working here. \\n\\nOpportunity\\n\\nThe opportunity is to join ou...</td>\n",
       "      <td>0</td>\n",
       "    </tr>\n",
       "    <tr>\n",
       "      <th>3</th>\n",
       "      <td>Data Scientist, Licensing Operations</td>\n",
       "      <td>Accounting/Finance/Insurance/loans</td>\n",
       "      <td>Read what people are saying about working here. \\n\\nAt Spotify our mission is to provide the wor...</td>\n",
       "      <td>0</td>\n",
       "    </tr>\n",
       "    <tr>\n",
       "      <th>4</th>\n",
       "      <td>Data Scientist, Aladdin Wealth Tech, Associate</td>\n",
       "      <td>Accounting/Finance/Insurance/loans</td>\n",
       "      <td>Read what people are saying about working here. \\n\\nAbout BlackRock\\n\\nBlackRock helps investors...</td>\n",
       "      <td>0</td>\n",
       "    </tr>\n",
       "  </tbody>\n",
       "</table>\n",
       "</div>"
      ],
      "text/plain": [
       "                                                                                             job_title  \\\n",
       "0                                                                          Enterprise Data Scientist I   \n",
       "1                                             Data Scientist, Aladdin Wealth Tech, Associate (Modeler)   \n",
       "2  CIB – Fixed Income Research – Machine Learning Data Scientist - Securitized Products – Associate/VP   \n",
       "3                                                                 Data Scientist, Licensing Operations   \n",
       "4                                                       Data Scientist, Aladdin Wealth Tech, Associate   \n",
       "\n",
       "                             category  \\\n",
       "0  Accounting/Finance/Insurance/loans   \n",
       "1  Accounting/Finance/Insurance/loans   \n",
       "2  Accounting/Finance/Insurance/loans   \n",
       "3  Accounting/Finance/Insurance/loans   \n",
       "4  Accounting/Finance/Insurance/loans   \n",
       "\n",
       "                                                                                       job_description  \\\n",
       "0  Read what people are saying about working here. \\n\\nWe are Farmers!\\n\\nJoin a team of diverse pr...   \n",
       "1  Read what people are saying about working here. \\n\\nAbout BlackRock\\n\\nBlackRock helps investors...   \n",
       "2  Read what people are saying about working here. \\n\\nOpportunity\\n\\nThe opportunity is to join ou...   \n",
       "3  Read what people are saying about working here. \\n\\nAt Spotify our mission is to provide the wor...   \n",
       "4  Read what people are saying about working here. \\n\\nAbout BlackRock\\n\\nBlackRock helps investors...   \n",
       "\n",
       "   label  \n",
       "0      0  \n",
       "1      0  \n",
       "2      0  \n",
       "3      0  \n",
       "4      0  "
      ]
     },
     "execution_count": 131,
     "metadata": {},
     "output_type": "execute_result"
    }
   ],
   "source": [
    "df.head()"
   ]
  },
  {
   "cell_type": "code",
   "execution_count": 132,
   "metadata": {},
   "outputs": [],
   "source": [
    "text =df.job_description.values"
   ]
  },
  {
   "cell_type": "code",
   "execution_count": 133,
   "metadata": {},
   "outputs": [],
   "source": [
    "#Print out the first 5 examples of matches\n",
    "for i,t in enumerate(text):\n",
    "    s=''\n",
    "    for sentence in t.split('\\n'):\n",
    "        if 'requirments' in sentence or 'skill' in sentence or 'science' in sentence or 'description' in sentence or 'experience' in sentence:\n",
    "            s+=sentence\n",
    "    df.loc[i,'clean_desc']=s"
   ]
  },
  {
   "cell_type": "code",
   "execution_count": 134,
   "metadata": {},
   "outputs": [],
   "source": [
    "# Write a function to convert raw text to a string of meaningful words\n",
    "def meaningful_text(raw_text):\n",
    "    \n",
    "    REPLACE_BY_SPACE_RE = re.compile('[/(){}\\[\\]\\|@,;]')\n",
    "    BAD_SYMBOLS_RE = re.compile('[^0-9a-z #+_]')\n",
    "    \n",
    "        # Remove HTML\n",
    "    # review_text = BeautifulSoup(raw_text).get_text()\n",
    "    review_text = REPLACE_BY_SPACE_RE.sub(' ', raw_text) # replace REPLACE_BY_SPACE_RE symbols by space in text.\n",
    "     \n",
    "    # Remove non-letters\n",
    "    letters_only = re.sub(\"[^a-zA-Z]\", \" \", review_text)\n",
    "    \n",
    "    # Convert words to lower case and split each word up\n",
    "    words = letters_only.lower().split()\n",
    "    \n",
    "    # Searching through a set is faster than searching through a list \n",
    "    # Hence, we will convert stopwords to a set\n",
    "    stops = set(stopwords.words('english'))\n",
    "    \n",
    "    # Add certain keywords stopwords\n",
    "    stops.update(['religion','identity','sexual','orientation','veteran',\n",
    "          'status','equal','national','gender','expression','real','affirmative',\n",
    "          'race', 'color','age', 'belief', 'chance', 'disability', 'ethnic',\n",
    "          'fair', 'nationality','ordinance', 'ordinances', 'origin', 'policy',\n",
    "           'skill','year''prohibited','sex','kind','equal','opportunity',\n",
    "                  'employer', 'committed','strength','diverse','workforce',\n",
    "                  'read','people','saying','working','farmers','join','diverse',\n",
    "                  'professionals', 'acquire', 'skills', 'apply','learned',\n",
    "                  'knowledge','future','roles','offers', 'extensive',\n",
    "                  'training', 'opportunities','award', 'winning', 'training',\n",
    "                  'magazine', 'corporate','world', 'blackrock','investor','financial', 'fiduciary', 'investor'])\n",
    "    \n",
    "    # Remove stopwords\n",
    "    meaningful_words = [w for w in words if w not in stops]\n",
    "    \n",
    "    # Stemming word\n",
    "    meaningful_words = [lemmatizer.lemmatize(w) for w in meaningful_words]\n",
    "   \n",
    "    # Join words back into one string, with a space in between each word\n",
    "    return(\" \".join(meaningful_words))"
   ]
  },
  {
   "cell_type": "code",
   "execution_count": 135,
   "metadata": {
    "scrolled": true
   },
   "outputs": [],
   "source": [
    "from bs4 import BeautifulSoup\n",
    "\n",
    "# Clean and title, and store them in new columns\n",
    "#df['clean_text'] = df['job_description'].map(meaningful_text)"
   ]
  },
  {
   "cell_type": "code",
   "execution_count": 136,
   "metadata": {},
   "outputs": [
    {
     "data": {
      "text/html": [
       "<div>\n",
       "<style scoped>\n",
       "    .dataframe tbody tr th:only-of-type {\n",
       "        vertical-align: middle;\n",
       "    }\n",
       "\n",
       "    .dataframe tbody tr th {\n",
       "        vertical-align: top;\n",
       "    }\n",
       "\n",
       "    .dataframe thead th {\n",
       "        text-align: right;\n",
       "    }\n",
       "</style>\n",
       "<table border=\"1\" class=\"dataframe\">\n",
       "  <thead>\n",
       "    <tr style=\"text-align: right;\">\n",
       "      <th></th>\n",
       "      <th>job_title</th>\n",
       "      <th>category</th>\n",
       "      <th>job_description</th>\n",
       "      <th>label</th>\n",
       "      <th>clean_desc</th>\n",
       "    </tr>\n",
       "  </thead>\n",
       "  <tbody>\n",
       "    <tr>\n",
       "      <th>0</th>\n",
       "      <td>Enterprise Data Scientist I</td>\n",
       "      <td>Accounting/Finance/Insurance/loans</td>\n",
       "      <td>Read what people are saying about working here. \\n\\nWe are Farmers!\\n\\nJoin a team of diverse pr...</td>\n",
       "      <td>0</td>\n",
       "      <td>Join a team of diverse professionals at Farmers to acquire skills on the job and apply your lear...</td>\n",
       "    </tr>\n",
       "    <tr>\n",
       "      <th>1</th>\n",
       "      <td>Data Scientist, Aladdin Wealth Tech, Associate (Modeler)</td>\n",
       "      <td>Accounting/Finance/Insurance/loans</td>\n",
       "      <td>Read what people are saying about working here. \\n\\nAbout BlackRock\\n\\nBlackRock helps investors...</td>\n",
       "      <td>0</td>\n",
       "      <td>Bachelors degree required, Masters degree preferred, in a quantitative discipline (computer scie...</td>\n",
       "    </tr>\n",
       "    <tr>\n",
       "      <th>2</th>\n",
       "      <td>CIB – Fixed Income Research – Machine Learning Data Scientist - Securitized Products – Associate/VP</td>\n",
       "      <td>Accounting/Finance/Insurance/loans</td>\n",
       "      <td>Read what people are saying about working here. \\n\\nOpportunity\\n\\nThe opportunity is to join ou...</td>\n",
       "      <td>0</td>\n",
       "      <td>The opportunity is to join our New York team as an analyst, associate, or VP, with a focus on ap...</td>\n",
       "    </tr>\n",
       "    <tr>\n",
       "      <th>3</th>\n",
       "      <td>Data Scientist, Licensing Operations</td>\n",
       "      <td>Accounting/Finance/Insurance/loans</td>\n",
       "      <td>Read what people are saying about working here. \\n\\nAt Spotify our mission is to provide the wor...</td>\n",
       "      <td>0</td>\n",
       "      <td>You have at least 2 years of experience with working with data analysis.Data Visualization exper...</td>\n",
       "    </tr>\n",
       "    <tr>\n",
       "      <th>4</th>\n",
       "      <td>Data Scientist, Aladdin Wealth Tech, Associate</td>\n",
       "      <td>Accounting/Finance/Insurance/loans</td>\n",
       "      <td>Read what people are saying about working here. \\n\\nAbout BlackRock\\n\\nBlackRock helps investors...</td>\n",
       "      <td>0</td>\n",
       "      <td>Distribution Insights: Use data to understand, measure, and improve client experience on digital...</td>\n",
       "    </tr>\n",
       "  </tbody>\n",
       "</table>\n",
       "</div>"
      ],
      "text/plain": [
       "                                                                                             job_title  \\\n",
       "0                                                                          Enterprise Data Scientist I   \n",
       "1                                             Data Scientist, Aladdin Wealth Tech, Associate (Modeler)   \n",
       "2  CIB – Fixed Income Research – Machine Learning Data Scientist - Securitized Products – Associate/VP   \n",
       "3                                                                 Data Scientist, Licensing Operations   \n",
       "4                                                       Data Scientist, Aladdin Wealth Tech, Associate   \n",
       "\n",
       "                             category  \\\n",
       "0  Accounting/Finance/Insurance/loans   \n",
       "1  Accounting/Finance/Insurance/loans   \n",
       "2  Accounting/Finance/Insurance/loans   \n",
       "3  Accounting/Finance/Insurance/loans   \n",
       "4  Accounting/Finance/Insurance/loans   \n",
       "\n",
       "                                                                                       job_description  \\\n",
       "0  Read what people are saying about working here. \\n\\nWe are Farmers!\\n\\nJoin a team of diverse pr...   \n",
       "1  Read what people are saying about working here. \\n\\nAbout BlackRock\\n\\nBlackRock helps investors...   \n",
       "2  Read what people are saying about working here. \\n\\nOpportunity\\n\\nThe opportunity is to join ou...   \n",
       "3  Read what people are saying about working here. \\n\\nAt Spotify our mission is to provide the wor...   \n",
       "4  Read what people are saying about working here. \\n\\nAbout BlackRock\\n\\nBlackRock helps investors...   \n",
       "\n",
       "   label  \\\n",
       "0      0   \n",
       "1      0   \n",
       "2      0   \n",
       "3      0   \n",
       "4      0   \n",
       "\n",
       "                                                                                            clean_desc  \n",
       "0  Join a team of diverse professionals at Farmers to acquire skills on the job and apply your lear...  \n",
       "1  Bachelors degree required, Masters degree preferred, in a quantitative discipline (computer scie...  \n",
       "2  The opportunity is to join our New York team as an analyst, associate, or VP, with a focus on ap...  \n",
       "3  You have at least 2 years of experience with working with data analysis.Data Visualization exper...  \n",
       "4  Distribution Insights: Use data to understand, measure, and improve client experience on digital...  "
      ]
     },
     "execution_count": 136,
     "metadata": {},
     "output_type": "execute_result"
    }
   ],
   "source": [
    "df.head()"
   ]
  },
  {
   "cell_type": "code",
   "execution_count": 137,
   "metadata": {},
   "outputs": [],
   "source": [
    "# Clean and title, and store them in new columns\n",
    "df['clean_text'] = df['clean_desc'].map(meaningful_text)"
   ]
  },
  {
   "cell_type": "code",
   "execution_count": 138,
   "metadata": {
    "scrolled": true
   },
   "outputs": [
    {
     "data": {
      "image/png": "[encoded data removed]",
      "text/plain": [
       "<Figure size 432x288 with 1 Axes>"
      ]
     },
     "metadata": {
      "needs_background": "light"
     },
     "output_type": "display_data"
    }
   ],
   "source": [
    "df['clean_text'].str.len().hist();"
   ]
  },
  {
   "cell_type": "code",
   "execution_count": 139,
   "metadata": {},
   "outputs": [],
   "source": [
    "df = df.loc[df['clean_text'].str.len()<6000]"
   ]
  },
  {
   "cell_type": "code",
   "execution_count": 140,
   "metadata": {},
   "outputs": [
    {
     "data": {
      "text/plain": [
       "(6682, 6)"
      ]
     },
     "execution_count": 140,
     "metadata": {},
     "output_type": "execute_result"
    }
   ],
   "source": [
    "df.shape"
   ]
  },
  {
   "cell_type": "code",
   "execution_count": 141,
   "metadata": {},
   "outputs": [
    {
     "data": {
      "text/plain": [
       "job_title          0\n",
       "category           0\n",
       "job_description    0\n",
       "label              0\n",
       "clean_desc         0\n",
       "clean_text         0\n",
       "dtype: int64"
      ]
     },
     "execution_count": 141,
     "metadata": {},
     "output_type": "execute_result"
    }
   ],
   "source": [
    "df.isnull().sum()"
   ]
  },
  {
   "cell_type": "code",
   "execution_count": 142,
   "metadata": {
    "scrolled": true
   },
   "outputs": [
    {
     "data": {
      "text/html": [
       "<div>\n",
       "<style scoped>\n",
       "    .dataframe tbody tr th:only-of-type {\n",
       "        vertical-align: middle;\n",
       "    }\n",
       "\n",
       "    .dataframe tbody tr th {\n",
       "        vertical-align: top;\n",
       "    }\n",
       "\n",
       "    .dataframe thead th {\n",
       "        text-align: right;\n",
       "    }\n",
       "</style>\n",
       "<table border=\"1\" class=\"dataframe\">\n",
       "  <thead>\n",
       "    <tr style=\"text-align: right;\">\n",
       "      <th></th>\n",
       "      <th>job_title</th>\n",
       "      <th>category</th>\n",
       "      <th>job_description</th>\n",
       "      <th>label</th>\n",
       "      <th>clean_desc</th>\n",
       "      <th>clean_text</th>\n",
       "    </tr>\n",
       "  </thead>\n",
       "  <tbody>\n",
       "    <tr>\n",
       "      <th>0</th>\n",
       "      <td>Enterprise Data Scientist I</td>\n",
       "      <td>Accounting/Finance/Insurance/loans</td>\n",
       "      <td>Read what people are saying about working here. \\n\\nWe are Farmers!\\n\\nJoin a team of diverse pr...</td>\n",
       "      <td>0</td>\n",
       "      <td>Join a team of diverse professionals at Farmers to acquire skills on the job and apply your lear...</td>\n",
       "      <td>team job insurance also university named amongst top unit start career today</td>\n",
       "    </tr>\n",
       "    <tr>\n",
       "      <th>1</th>\n",
       "      <td>Data Scientist, Aladdin Wealth Tech, Associate (Modeler)</td>\n",
       "      <td>Accounting/Finance/Insurance/loans</td>\n",
       "      <td>Read what people are saying about working here. \\n\\nAbout BlackRock\\n\\nBlackRock helps investors...</td>\n",
       "      <td>0</td>\n",
       "      <td>Bachelors degree required, Masters degree preferred, in a quantitative discipline (computer scie...</td>\n",
       "      <td>bachelor degree required master degree preferred quantitative discipline computer science mathem...</td>\n",
       "    </tr>\n",
       "    <tr>\n",
       "      <th>2</th>\n",
       "      <td>CIB – Fixed Income Research – Machine Learning Data Scientist - Securitized Products – Associate/VP</td>\n",
       "      <td>Accounting/Finance/Insurance/loans</td>\n",
       "      <td>Read what people are saying about working here. \\n\\nOpportunity\\n\\nThe opportunity is to join ou...</td>\n",
       "      <td>0</td>\n",
       "      <td>The opportunity is to join our New York team as an analyst, associate, or VP, with a focus on ap...</td>\n",
       "      <td>new york team analyst associate vp focus application machine learning artificial intelligence fi...</td>\n",
       "    </tr>\n",
       "    <tr>\n",
       "      <th>3</th>\n",
       "      <td>Data Scientist, Licensing Operations</td>\n",
       "      <td>Accounting/Finance/Insurance/loans</td>\n",
       "      <td>Read what people are saying about working here. \\n\\nAt Spotify our mission is to provide the wor...</td>\n",
       "      <td>0</td>\n",
       "      <td>You have at least 2 years of experience with working with data analysis.Data Visualization exper...</td>\n",
       "      <td>least year experience data analysis data visualization experience e g tableau qliksense coding p...</td>\n",
       "    </tr>\n",
       "    <tr>\n",
       "      <th>4</th>\n",
       "      <td>Data Scientist, Aladdin Wealth Tech, Associate</td>\n",
       "      <td>Accounting/Finance/Insurance/loans</td>\n",
       "      <td>Read what people are saying about working here. \\n\\nAbout BlackRock\\n\\nBlackRock helps investors...</td>\n",
       "      <td>0</td>\n",
       "      <td>Distribution Insights: Use data to understand, measure, and improve client experience on digital...</td>\n",
       "      <td>distribution insight use data understand measure improve client experience digital productsbache...</td>\n",
       "    </tr>\n",
       "  </tbody>\n",
       "</table>\n",
       "</div>"
      ],
      "text/plain": [
       "                                                                                             job_title  \\\n",
       "0                                                                          Enterprise Data Scientist I   \n",
       "1                                             Data Scientist, Aladdin Wealth Tech, Associate (Modeler)   \n",
       "2  CIB – Fixed Income Research – Machine Learning Data Scientist - Securitized Products – Associate/VP   \n",
       "3                                                                 Data Scientist, Licensing Operations   \n",
       "4                                                       Data Scientist, Aladdin Wealth Tech, Associate   \n",
       "\n",
       "                             category  \\\n",
       "0  Accounting/Finance/Insurance/loans   \n",
       "1  Accounting/Finance/Insurance/loans   \n",
       "2  Accounting/Finance/Insurance/loans   \n",
       "3  Accounting/Finance/Insurance/loans   \n",
       "4  Accounting/Finance/Insurance/loans   \n",
       "\n",
       "                                                                                       job_description  \\\n",
       "0  Read what people are saying about working here. \\n\\nWe are Farmers!\\n\\nJoin a team of diverse pr...   \n",
       "1  Read what people are saying about working here. \\n\\nAbout BlackRock\\n\\nBlackRock helps investors...   \n",
       "2  Read what people are saying about working here. \\n\\nOpportunity\\n\\nThe opportunity is to join ou...   \n",
       "3  Read what people are saying about working here. \\n\\nAt Spotify our mission is to provide the wor...   \n",
       "4  Read what people are saying about working here. \\n\\nAbout BlackRock\\n\\nBlackRock helps investors...   \n",
       "\n",
       "   label  \\\n",
       "0      0   \n",
       "1      0   \n",
       "2      0   \n",
       "3      0   \n",
       "4      0   \n",
       "\n",
       "                                                                                            clean_desc  \\\n",
       "0  Join a team of diverse professionals at Farmers to acquire skills on the job and apply your lear...   \n",
       "1  Bachelors degree required, Masters degree preferred, in a quantitative discipline (computer scie...   \n",
       "2  The opportunity is to join our New York team as an analyst, associate, or VP, with a focus on ap...   \n",
       "3  You have at least 2 years of experience with working with data analysis.Data Visualization exper...   \n",
       "4  Distribution Insights: Use data to understand, measure, and improve client experience on digital...   \n",
       "\n",
       "                                                                                            clean_text  \n",
       "0                         team job insurance also university named amongst top unit start career today  \n",
       "1  bachelor degree required master degree preferred quantitative discipline computer science mathem...  \n",
       "2  new york team analyst associate vp focus application machine learning artificial intelligence fi...  \n",
       "3  least year experience data analysis data visualization experience e g tableau qliksense coding p...  \n",
       "4  distribution insight use data understand measure improve client experience digital productsbache...  "
      ]
     },
     "execution_count": 142,
     "metadata": {},
     "output_type": "execute_result"
    }
   ],
   "source": [
    "df.head()"
   ]
  },
  {
   "cell_type": "markdown",
   "metadata": {
    "id": "my_kWXXFp86Q"
   },
   "source": [
    "# Logistic regression"
   ]
  },
  {
   "cell_type": "code",
   "execution_count": 143,
   "metadata": {},
   "outputs": [],
   "source": [
    "from sklearn.feature_extraction.text import CountVectorizer, TfidfVectorizer\n",
    "from sklearn.pipeline import Pipeline\n",
    "from sklearn.metrics import accuracy_score, classification_report\n",
    "from sklearn.model_selection import train_test_split, GridSearchCV"
   ]
  },
  {
   "cell_type": "code",
   "execution_count": 144,
   "metadata": {},
   "outputs": [],
   "source": [
    "# Define y and X.\n",
    "X = df['clean_text']\n",
    "y = df['label']\n",
    "\n",
    "# Perform train test split so that we can train, score and tune our models' hyperparameters \n",
    "X_train, X_test, y_train, y_test = train_test_split(X, y, test_size=0.2, random_state=42, stratify=y)"
   ]
  },
  {
   "cell_type": "code",
   "execution_count": 145,
   "metadata": {},
   "outputs": [
    {
     "data": {
      "text/plain": [
       "(5345,)"
      ]
     },
     "execution_count": 145,
     "metadata": {},
     "output_type": "execute_result"
    }
   ],
   "source": [
    "X_train.shape"
   ]
  },
  {
   "cell_type": "code",
   "execution_count": 146,
   "metadata": {
    "scrolled": true
   },
   "outputs": [
    {
     "data": {
      "text/plain": [
       "(1337,)"
      ]
     },
     "execution_count": 146,
     "metadata": {},
     "output_type": "execute_result"
    }
   ],
   "source": [
    "X_test.shape"
   ]
  },
  {
   "cell_type": "code",
   "execution_count": 147,
   "metadata": {},
   "outputs": [
    {
     "data": {
      "text/plain": [
       "(5345,)"
      ]
     },
     "execution_count": 147,
     "metadata": {},
     "output_type": "execute_result"
    }
   ],
   "source": [
    "y_train.shape"
   ]
  },
  {
   "cell_type": "code",
   "execution_count": 148,
   "metadata": {},
   "outputs": [
    {
     "data": {
      "text/plain": [
       "(1337,)"
      ]
     },
     "execution_count": 148,
     "metadata": {},
     "output_type": "execute_result"
    }
   ],
   "source": [
    "y_test.shape"
   ]
  },
  {
   "cell_type": "code",
   "execution_count": 149,
   "metadata": {},
   "outputs": [],
   "source": [
    "from sklearn.linear_model import LogisticRegression\n",
    "from sklearn.feature_extraction.text import TfidfTransformer\n",
    "from sklearn.feature_extraction.text import CountVectorizer, TfidfVectorizer\n",
    "from sklearn.pipeline import Pipeline\n",
    "from sklearn.metrics import accuracy_score, classification_report\n",
    "\n",
    "# Create a pipeline with CountVectorizer and LogisticRegression\n",
    "pipe1 = Pipeline([\n",
    "    ('cvec', CountVectorizer(stop_words='english')),\n",
    "    ('lr', LogisticRegression())\n",
    "])\n",
    "\n",
    "# Search over the following values of hyperparameters:\n",
    "# Maximum number of features fit: 400, 600\n",
    "# Minimum number of documents needed to include token: 2, 3\n",
    "# Maximum number of documents needed to include token: 90%, 95%\n",
    "# Logistic regression penalty: l2 - Ridge\n",
    "pipe1_params = {\n",
    "   'cvec__max_features': [6000], \n",
    "    'cvec__min_df': [3,5],\n",
    "    'cvec__max_df': [0.8,0.9],\n",
    "    'cvec__ngram_range':[(1,1),(1,2)], # Not much impact\n",
    "    'lr__class_weight':['balanced'],\n",
    "    'lr__penalty': ['l2'],\n",
    "    }\n",
    "    \n",
    "# Instantiate GridSearchCV\n",
    "gs_cvec_lr = GridSearchCV(pipe1, # Objects to optimise\n",
    "                          param_grid = pipe1_params, # Hyperparameters for tuning\n",
    "                          cv=5) # 5-fold cross validation"
   ]
  },
  {
   "cell_type": "code",
   "execution_count": 150,
   "metadata": {},
   "outputs": [
    {
     "data": {
      "text/plain": [
       "GridSearchCV(cv=5,\n",
       "             estimator=Pipeline(steps=[('cvec',\n",
       "                                        CountVectorizer(stop_words='english')),\n",
       "                                       ('lr', LogisticRegression())]),\n",
       "             param_grid={'cvec__max_df': [0.8, 0.9],\n",
       "                         'cvec__max_features': [6000], 'cvec__min_df': [3, 5],\n",
       "                         'cvec__ngram_range': [(1, 1), (1, 2)],\n",
       "                         'lr__class_weight': ['balanced'],\n",
       "                         'lr__penalty': ['l2']})"
      ]
     },
     "execution_count": 150,
     "metadata": {},
     "output_type": "execute_result"
    }
   ],
   "source": [
    "# Fit GridSearch to training data\n",
    "gs_cvec_lr.fit(X_train,y_train)"
   ]
  },
  {
   "cell_type": "code",
   "execution_count": 151,
   "metadata": {
    "colab": {
     "base_uri": "https://localhost:8080/",
     "height": 527
    },
    "id": "P3GEHJlXm-f3",
    "outputId": "9ae47b0f-443f-4acf-b689-3af2e1e7c569",
    "scrolled": false
   },
   "outputs": [
    {
     "name": "stdout",
     "output_type": "stream",
     "text": [
      "Best parameters:  {'cvec__max_df': 0.8, 'cvec__max_features': 6000, 'cvec__min_df': 3, 'cvec__ngram_range': (1, 2), 'lr__class_weight': 'balanced', 'lr__penalty': 'l2'}\n",
      "Best score:  0.38428437792329284\n",
      "Training score: 0.7891487371375117\n",
      "Test score: 0.40089753178758414\n"
     ]
    }
   ],
   "source": [
    "\n",
    "\n",
    "# Fit GridSearch to training data\n",
    "preds = gs_cvec_lr.predict(X_test)\n",
    "# Print results\n",
    "print('Best parameters: ', gs_cvec_lr.best_params_)\n",
    "print('Best score: ', gs_cvec_lr.best_score_)\n",
    "print('Training score:', gs_cvec_lr.score(X_train, y_train))\n",
    "print('Test score:', gs_cvec_lr.score(X_test, y_test))"
   ]
  },
  {
   "cell_type": "code",
   "execution_count": 152,
   "metadata": {
    "colab": {
     "base_uri": "https://localhost:8080/",
     "height": 493
    },
    "id": "NyTX69l1m-mn",
    "outputId": "be1e5206-5c93-48ce-b83b-a779cff216b6",
    "scrolled": false
   },
   "outputs": [
    {
     "name": "stdout",
     "output_type": "stream",
     "text": [
      "accuracy 0.40089753178758414\n",
      "                                    precision    recall  f1-score   support\n",
      "\n",
      "Accounting/Finance/Insurance/loans       0.40      0.40      0.40       165\n",
      "                 Computer/Internet       0.57      0.45      0.50       504\n",
      "          Engineering/Architecture       0.31      0.30      0.31       223\n",
      "          Manufacturing/Mechanical       0.21      0.25      0.23       153\n",
      "               Life/Social Science       0.45      0.51      0.47       128\n",
      "            Admin/HR/Sale/Customer       0.25      0.43      0.32        77\n",
      "                   Statistics/Math       0.40      0.44      0.42        87\n",
      "\n",
      "                          accuracy                           0.40      1337\n",
      "                         macro avg       0.37      0.40      0.38      1337\n",
      "                      weighted avg       0.42      0.40      0.41      1337\n",
      "\n"
     ]
    }
   ],
   "source": [
    "pred = gs_cvec_lr.predict(X_test)\n",
    "print('accuracy %s' % accuracy_score(pred,y_test))\n",
    "print(classification_report(y_test, pred,target_names=pred_labels))"
   ]
  },
  {
   "cell_type": "code",
   "execution_count": 153,
   "metadata": {
    "colab": {
     "base_uri": "https://localhost:8080/",
     "height": 51
    },
    "id": "gkKK7hX_m-p3",
    "outputId": "3dc3f377-b0ee-47c4-9641-40da8a7a0d2b"
   },
   "outputs": [
    {
     "data": {
      "text/plain": [
       "array([6, 1, 4, 6, 6, 3, 2, 0, 6, 1, 0, 1, 6, 5, 5, 1, 1, 2, 6, 0, 3, 0,\n",
       "       1, 1, 6, 1, 0, 1, 2, 4, 0, 1, 2, 0, 1, 0, 1, 0, 4, 2, 1, 4, 2, 2,\n",
       "       4, 0, 2, 0, 1, 6, 4, 6, 2, 1, 1, 1, 3, 5, 0, 6, 1, 1, 1, 6, 0, 5,\n",
       "       5, 2, 4, 1, 0, 4, 3, 5, 5, 1, 4, 2, 3, 1, 0, 1, 0, 2, 4, 1, 3, 4,\n",
       "       4, 1, 6, 2, 3, 4, 5, 6, 6, 1, 1, 2], dtype=int64)"
      ]
     },
     "execution_count": 153,
     "metadata": {},
     "output_type": "execute_result"
    }
   ],
   "source": [
    "# Predicting on Job_Description\n",
    "y_pred_test = gs_cvec_lr.predict(X_test)\n",
    "y_pred_test[:100]\n",
    "#pred = logreg.predict([df['job_description']])\n",
    "#print(\"Predicted : \", pred_labels[int(pred)])"
   ]
  },
  {
   "cell_type": "code",
   "execution_count": 154,
   "metadata": {},
   "outputs": [
    {
     "name": "stdout",
     "output_type": "stream",
     "text": [
      "Logistic Reg & Count Vectorization\n",
      "              precision    recall  f1-score   support\n",
      "\n",
      "           0       0.40      0.40      0.40       165\n",
      "           1       0.57      0.45      0.50       504\n",
      "           2       0.31      0.30      0.31       223\n",
      "           3       0.21      0.25      0.23       153\n",
      "           4       0.45      0.51      0.47       128\n",
      "           5       0.25      0.43      0.32        77\n",
      "           6       0.40      0.44      0.42        87\n",
      "\n",
      "    accuracy                           0.40      1337\n",
      "   macro avg       0.37      0.40      0.38      1337\n",
      "weighted avg       0.42      0.40      0.41      1337\n",
      "\n"
     ]
    },
    {
     "data": {
      "text/plain": [
       "<Figure size 1080x864 with 0 Axes>"
      ]
     },
     "metadata": {},
     "output_type": "display_data"
    },
    {
     "data": {
      "image/png": "[encoded data removed]",
      "text/plain": [
       "<Figure size 432x288 with 2 Axes>"
      ]
     },
     "metadata": {
      "needs_background": "light"
     },
     "output_type": "display_data"
    }
   ],
   "source": [
    "# Confusion matrix of all the four models to look at the number  of  misclassified posts\n",
    "plt.figure(figsize=(15,12))\n",
    "from sklearn.metrics import plot_confusion_matrix\n",
    "plot_confusion_matrix(gs_cvec_lr, X_test, y_test, cmap='Blues', values_format='d');\n",
    "plt.title('Confusion matrix of  Logistic & Count Vectorizer')\n",
    "print('Logistic Reg & Count Vectorization\\n' + classification_report(y_test,y_pred_test))"
   ]
  },
  {
   "cell_type": "code",
   "execution_count": 155,
   "metadata": {},
   "outputs": [],
   "source": [
    "from sklearn.naive_bayes import MultinomialNB\n",
    "from sklearn.model_selection import  GridSearchCV"
   ]
  },
  {
   "cell_type": "code",
   "execution_count": 156,
   "metadata": {},
   "outputs": [
    {
     "data": {
      "text/plain": [
       "GridSearchCV(cv=5,\n",
       "             estimator=Pipeline(steps=[('tvec',\n",
       "                                        TfidfVectorizer(stop_words='english')),\n",
       "                                       ('nb', MultinomialNB())]),\n",
       "             param_grid={'tvec__max_df': [0.9], 'tvec__max_features': [500],\n",
       "                         'tvec__ngram_range': [(1, 1)]})"
      ]
     },
     "execution_count": 156,
     "metadata": {},
     "output_type": "execute_result"
    }
   ],
   "source": [
    "pipe4 = Pipeline([('tvec', TfidfVectorizer(stop_words='english')),\n",
    "                  ('nb', MultinomialNB())\n",
    "               ])\n",
    "pipe4_params = {\n",
    "    'tvec__max_features': [500],  \n",
    "    'tvec__max_df': [.9],\n",
    "    'tvec__ngram_range':[(1,1)]\n",
    "    \n",
    "}\n",
    "\n",
    "# Instantiate GridSearchCV\n",
    "gs_tvec_nb = GridSearchCV(pipe4, # Objects to optimise\n",
    "                          param_grid = pipe4_params, # Hyperparameters for tuning\n",
    "                          cv=5)\n",
    "\n",
    "gs_tvec_nb.fit(df['job_description'], df['label'])"
   ]
  },
  {
   "cell_type": "code",
   "execution_count": 157,
   "metadata": {
    "id": "tHyT0CP9m-jF",
    "scrolled": true
   },
   "outputs": [
    {
     "data": {
      "text/html": [
       "<div>\n",
       "<style scoped>\n",
       "    .dataframe tbody tr th:only-of-type {\n",
       "        vertical-align: middle;\n",
       "    }\n",
       "\n",
       "    .dataframe tbody tr th {\n",
       "        vertical-align: top;\n",
       "    }\n",
       "\n",
       "    .dataframe thead th {\n",
       "        text-align: right;\n",
       "    }\n",
       "</style>\n",
       "<table border=\"1\" class=\"dataframe\">\n",
       "  <thead>\n",
       "    <tr style=\"text-align: right;\">\n",
       "      <th></th>\n",
       "      <th>word</th>\n",
       "      <th>coef</th>\n",
       "    </tr>\n",
       "  </thead>\n",
       "  <tbody>\n",
       "    <tr>\n",
       "      <th>328</th>\n",
       "      <td>posted</td>\n",
       "      <td>-8.581017</td>\n",
       "    </tr>\n",
       "    <tr>\n",
       "      <th>371</th>\n",
       "      <td>reference</td>\n",
       "      <td>-8.459247</td>\n",
       "    </tr>\n",
       "    <tr>\n",
       "      <th>211</th>\n",
       "      <td>industries</td>\n",
       "      <td>-7.552583</td>\n",
       "    </tr>\n",
       "    <tr>\n",
       "      <th>319</th>\n",
       "      <td>physical</td>\n",
       "      <td>-7.313668</td>\n",
       "    </tr>\n",
       "    <tr>\n",
       "      <th>160</th>\n",
       "      <td>experiences</td>\n",
       "      <td>-7.232387</td>\n",
       "    </tr>\n",
       "    <tr>\n",
       "      <th>159</th>\n",
       "      <td>experienced</td>\n",
       "      <td>-7.226800</td>\n",
       "    </tr>\n",
       "    <tr>\n",
       "      <th>468</th>\n",
       "      <td>type</td>\n",
       "      <td>-7.211199</td>\n",
       "    </tr>\n",
       "    <tr>\n",
       "      <th>346</th>\n",
       "      <td>professionals</td>\n",
       "      <td>-7.130929</td>\n",
       "    </tr>\n",
       "    <tr>\n",
       "      <th>462</th>\n",
       "      <td>today</td>\n",
       "      <td>-7.114875</td>\n",
       "    </tr>\n",
       "    <tr>\n",
       "      <th>490</th>\n",
       "      <td>web</td>\n",
       "      <td>-7.112103</td>\n",
       "    </tr>\n",
       "  </tbody>\n",
       "</table>\n",
       "</div>"
      ],
      "text/plain": [
       "              word      coef\n",
       "328         posted -8.581017\n",
       "371      reference -8.459247\n",
       "211     industries -7.552583\n",
       "319       physical -7.313668\n",
       "160    experiences -7.232387\n",
       "159    experienced -7.226800\n",
       "468           type -7.211199\n",
       "346  professionals -7.130929\n",
       "462          today -7.114875\n",
       "490            web -7.112103"
      ]
     },
     "execution_count": 157,
     "metadata": {},
     "output_type": "execute_result"
    }
   ],
   "source": [
    "# Save the words obtained from Count Vectorizer logistic in a dataframe\n",
    "coef_df = pd.DataFrame(gs_tvec_nb.best_estimator_.named_steps['tvec'].get_feature_names(), columns=['word'])\n",
    "# Save the coefficients in the same dataframe\n",
    "coef_df['coef'] = gs_tvec_nb.best_estimator_.named_steps['nb'].coef_.tolist()[0]\n",
    "# Find the top 20 predictive words\n",
    "coef_df.sort_values('coef').head(10)"
   ]
  },
  {
   "cell_type": "code",
   "execution_count": 158,
   "metadata": {
    "id": "l8w9emnZm-d9",
    "scrolled": true
   },
   "outputs": [
    {
     "data": {
      "image/png": "[encoded data removed]",
      "text/plain": [
       "<Figure size 576x576 with 1 Axes>"
      ]
     },
     "metadata": {
      "needs_background": "light"
     },
     "output_type": "display_data"
    }
   ],
   "source": [
    "top_coef = coef_df.sort_values('coef').head(50)\n",
    "top_coef.plot(y='coef', x='word', kind='barh', figsize=(8,8));"
   ]
  },
  {
   "cell_type": "markdown",
   "metadata": {
    "id": "VLjr3txTm-Zm"
   },
   "source": [
    "## Observation: \n",
    "The predictive results based on category(Industry) didn't perform well. Drop the idea of doing classification based on indutry. \n"
   ]
  }
 ],
 "metadata": {
  "accelerator": "GPU",
  "colab": {
   "collapsed_sections": [],
   "name": "classification.ipynb",
   "provenance": []
  },
  "kernelspec": {
   "display_name": "Python 3",
   "language": "python",
   "name": "python3"
  },
  "language_info": {
   "codemirror_mode": {
    "name": "ipython",
    "version": 3
   },
   "file_extension": ".py",
   "mimetype": "text/x-python",
   "name": "python",
   "nbconvert_exporter": "python",
   "pygments_lexer": "ipython3",
   "version": "3.8.3"
  }
 },
 "nbformat": 4,
 "nbformat_minor": 1
}
