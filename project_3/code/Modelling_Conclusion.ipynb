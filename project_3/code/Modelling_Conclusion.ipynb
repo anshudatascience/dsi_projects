{
 "cells": [
  {
   "cell_type": "markdown",
   "metadata": {},
   "source": [
    "# Project 3: Web APIs & Classification"
   ]
  },
  {
   "cell_type": "markdown",
   "metadata": {},
   "source": [
    "## Problem Statement\n",
    "\n",
    "Nvidia is the top player in Garphic processors and AMD is trying to penetrate to gain market share in GPU. Data Science team at Nvidia keeps a track of reviews and comments across various social platforms, including Reddit post of Amd and Nvidia. The database keeps Nvidia product managers updated on what consumers are currently interested in. However, some internal system  failure caused the data of posts to get mixed up and loose the classification.\n",
    "\n",
    "Nvidia Data science team had been given a task to classify Reddit posts of r/Nvidia and r/Amd. Natural Language Processing (NLP) and classification models, mainly Logistic Regression and Naive Bayes were used to make the binary classification. The final model will be selected based on the accuracy and ROC AUC scores. The model choosen achieved an accuracy of 0.89 and AUC of 0.88 and. This is crucial as the product managers need to know what people are discussing on both the subreddits.\n",
    "\n",
    "Besides aiming for accuracy of our prediction, we wanted to target whether there are discussions around Amd or Nvidia so we can define the success that is evaluated by the model which has the highest score that combines both accuracy and AUC ROC score."
   ]
  },
  {
   "cell_type": "markdown",
   "metadata": {},
   "source": [
    "## Executive Summary¶\n",
    "Using Reddit's API, we will be scraping posts through the subreddits of Nvidia and AMD using the 'requests' library. We used a for loop to extract posts via json and gave a randomised sleep duration between each loop. Randomised sleep helps server to not overload.\n",
    "\n",
    "After examining the scraped data, we see that the posts selftext and the title both hold meaningful words for our analysis. We cleaned the posts by dropping the empty selftext and duplicate posts. We will do pre-processing of posts and EDA  to check the most frequent words in the posts and the length of the posts. After combining the posts, we were left with the 2590 posts. \n",
    "\n",
    "We have used 4 models include the CountVectorizer & Logistic Regression, TF-IDF & Logistic Regression, CountVectorizer & Naive Bayes and TF-IDF & Naive Bayes. GridSearchCV was used to optimise the model hyperparameters which were tuned to optimise accuracy and prevent overfitting. Comparing to the baseline score of 0.58, with all the models to find out the best model to decide on the accuracy. \n",
    "\n",
    "Count Vectorizer & Naive Bayes classifier model achieves an accuracy of 0.88 and an AUC score 0.88. We can conclude that the |**CountVectorizer & Naive Bayes classifier**| is the best model with high score and Accuracy.\n",
    "\n",
    "As mentioned in the problem statement, we are interested to find out whether the post is coming from Amd or Nvidia subreddit. The goal over here is to focus on the |**accuracy & AUC ROC score of the model**|."
   ]
  },
  {
   "cell_type": "markdown",
   "metadata": {},
   "source": [
    "|**Contents**|:\n",
    "- Importing Libraries\n",
    "- Load Data\n",
    "- Modelling\n",
    "- Model #1: Count Vectorizer & Logistic Regression\n",
    "- Model #2: TF-IDF & Logistic Regression\n",
    "- Model #3: Count Vectorizer & Naive Bayes\n",
    "- Model #4: TF-IDF & Naive Bayes\n",
    "- Model Evaluation\n",
    "- Model Evaluation: Confusion Matrix & Classification Report\n",
    "-  ROC AUC plot \n",
    "- Identifying the Most Predictive Words\n",
    "- Misclassified Data\n",
    "- Conclusion and Recommendations"
   ]
  },
  {
   "cell_type": "code",
   "execution_count": 239,
   "metadata": {},
   "outputs": [],
   "source": [
    "# Import the libraries\n",
    "import requests\n",
    "import pandas as pd\n",
    "import matplotlib.pyplot as plt\n",
    "import seaborn as sns\n",
    "import numpy as np\n",
    "import time\n",
    "import random\n",
    "import pylab as pl\n",
    "\n",
    "pd.set_option('max_columns', 200)\n",
    "pd.set_option('max_rows', 200)\n",
    "\n",
    "import re\n",
    "from bs4 import BeautifulSoup\n",
    "from nltk.stem.porter import PorterStemmer\n",
    "from nltk.corpus import stopwords\n",
    "from wordcloud import WordCloud, STOPWORDS\n",
    "from sklearn.feature_extraction.text import CountVectorizer, TfidfVectorizer\n",
    "from sklearn.pipeline import Pipeline\n",
    "from sklearn.model_selection import train_test_split, GridSearchCV\n",
    "from sklearn.linear_model import LogisticRegression\n",
    "from sklearn.neighbors import KNeighborsClassifier\n",
    "from sklearn.naive_bayes import MultinomialNB\n",
    "from sklearn.svm import SVC\n",
    "from sklearn.metrics import roc_curve, roc_auc_score, auc, classification_report, accuracy_score, confusion_matrix"
   ]
  },
  {
   "cell_type": "code",
   "execution_count": 240,
   "metadata": {},
   "outputs": [],
   "source": [
    "# Read cobmined CSV file \n",
    "df = pd.read_csv('./datasets/combined.csv')"
   ]
  },
  {
   "cell_type": "code",
   "execution_count": 241,
   "metadata": {},
   "outputs": [
    {
     "data": {
      "text/html": [
       "<div>\n",
       "<style scoped>\n",
       "    .dataframe tbody tr th:only-of-type {\n",
       "        vertical-align: middle;\n",
       "    }\n",
       "\n",
       "    .dataframe tbody tr th {\n",
       "        vertical-align: top;\n",
       "    }\n",
       "\n",
       "    .dataframe thead th {\n",
       "        text-align: right;\n",
       "    }\n",
       "</style>\n",
       "<table border=\"1\" class=\"dataframe\">\n",
       "  <thead>\n",
       "    <tr style=\"text-align: right;\">\n",
       "      <th></th>\n",
       "      <th>subreddit</th>\n",
       "      <th>selftext</th>\n",
       "      <th>title</th>\n",
       "      <th>num_comments</th>\n",
       "      <th>selftext_clean</th>\n",
       "      <th>title_clean</th>\n",
       "      <th>selftext_title_clean</th>\n",
       "      <th>selftext_len</th>\n",
       "    </tr>\n",
       "  </thead>\n",
       "  <tbody>\n",
       "    <tr>\n",
       "      <th>0</th>\n",
       "      <td>nvidia</td>\n",
       "      <td># [This thread is best viewed on New Reddit pl...</td>\n",
       "      <td>Read Me First - Event Protocol for r/NVIDIA Co...</td>\n",
       "      <td>273</td>\n",
       "      <td>thread best view new reddit platform new reddi...</td>\n",
       "      <td>read first event protocol r commun septemb st</td>\n",
       "      <td>thread best view new reddit platform new reddi...</td>\n",
       "      <td>232</td>\n",
       "    </tr>\n",
       "    <tr>\n",
       "      <th>1</th>\n",
       "      <td>nvidia</td>\n",
       "      <td>This is my first time following along with the...</td>\n",
       "      <td>One More Day! Who’s hyped?!</td>\n",
       "      <td>566</td>\n",
       "      <td>first time follow along launch new gener graph...</td>\n",
       "      <td>one day hype</td>\n",
       "      <td>first time follow along launch new gener graph...</td>\n",
       "      <td>25</td>\n",
       "    </tr>\n",
       "    <tr>\n",
       "      <th>2</th>\n",
       "      <td>nvidia</td>\n",
       "      <td>I plan to get a 3080 tomorrow assuming I can p...</td>\n",
       "      <td>Why get a non founders or reference card?</td>\n",
       "      <td>105</td>\n",
       "      <td>plan get tomorrow assum pre order coars sure b...</td>\n",
       "      <td>get non founder refer card</td>\n",
       "      <td>plan get tomorrow assum pre order coars sure b...</td>\n",
       "      <td>39</td>\n",
       "    </tr>\n",
       "    <tr>\n",
       "      <th>3</th>\n",
       "      <td>nvidia</td>\n",
       "      <td>I’m hoping to get an EVGA 3090 tomorrow but no...</td>\n",
       "      <td>If AIB cards launch tomorrow as predicted, do ...</td>\n",
       "      <td>121</td>\n",
       "      <td>hope get evga tomorrow sure f ing best result ...</td>\n",
       "      <td>aib card launch tomorrow predict buy manufactu...</td>\n",
       "      <td>hope get evga tomorrow sure f ing best result ...</td>\n",
       "      <td>10</td>\n",
       "    </tr>\n",
       "    <tr>\n",
       "      <th>4</th>\n",
       "      <td>nvidia</td>\n",
       "      <td>I’m curious as I can’t really decide myself. L...</td>\n",
       "      <td>Which 3000 series card manufacturer are you go...</td>\n",
       "      <td>270</td>\n",
       "      <td>curiou realli decid love ti strix might go tea...</td>\n",
       "      <td>seri card manufactur go choos</td>\n",
       "      <td>curiou realli decid love ti strix might go tea...</td>\n",
       "      <td>30</td>\n",
       "    </tr>\n",
       "  </tbody>\n",
       "</table>\n",
       "</div>"
      ],
      "text/plain": [
       "  subreddit                                           selftext  \\\n",
       "0    nvidia  # [This thread is best viewed on New Reddit pl...   \n",
       "1    nvidia  This is my first time following along with the...   \n",
       "2    nvidia  I plan to get a 3080 tomorrow assuming I can p...   \n",
       "3    nvidia  I’m hoping to get an EVGA 3090 tomorrow but no...   \n",
       "4    nvidia  I’m curious as I can’t really decide myself. L...   \n",
       "\n",
       "                                               title  num_comments  \\\n",
       "0  Read Me First - Event Protocol for r/NVIDIA Co...           273   \n",
       "1                        One More Day! Who’s hyped?!           566   \n",
       "2          Why get a non founders or reference card?           105   \n",
       "3  If AIB cards launch tomorrow as predicted, do ...           121   \n",
       "4  Which 3000 series card manufacturer are you go...           270   \n",
       "\n",
       "                                      selftext_clean  \\\n",
       "0  thread best view new reddit platform new reddi...   \n",
       "1  first time follow along launch new gener graph...   \n",
       "2  plan get tomorrow assum pre order coars sure b...   \n",
       "3  hope get evga tomorrow sure f ing best result ...   \n",
       "4  curiou realli decid love ti strix might go tea...   \n",
       "\n",
       "                                         title_clean  \\\n",
       "0      read first event protocol r commun septemb st   \n",
       "1                                       one day hype   \n",
       "2                         get non founder refer card   \n",
       "3  aib card launch tomorrow predict buy manufactu...   \n",
       "4                      seri card manufactur go choos   \n",
       "\n",
       "                                selftext_title_clean  selftext_len  \n",
       "0  thread best view new reddit platform new reddi...           232  \n",
       "1  first time follow along launch new gener graph...            25  \n",
       "2  plan get tomorrow assum pre order coars sure b...            39  \n",
       "3  hope get evga tomorrow sure f ing best result ...            10  \n",
       "4  curiou realli decid love ti strix might go tea...            30  "
      ]
     },
     "execution_count": 241,
     "metadata": {},
     "output_type": "execute_result"
    }
   ],
   "source": [
    "df.head()"
   ]
  },
  {
   "cell_type": "code",
   "execution_count": 242,
   "metadata": {},
   "outputs": [],
   "source": [
    "# Assign nvidia as class 0 and Amd as class 1\n",
    "df['subreddit'] = df['subreddit'].map({'nvidia':0, 'Amd': 1})"
   ]
  },
  {
   "cell_type": "code",
   "execution_count": 243,
   "metadata": {},
   "outputs": [
    {
     "data": {
      "text/plain": [
       "0    1518\n",
       "1    1072\n",
       "Name: subreddit, dtype: int64"
      ]
     },
     "execution_count": 243,
     "metadata": {},
     "output_type": "execute_result"
    }
   ],
   "source": [
    "# Check that we have mapped the subreddits correctly\n",
    "df['subreddit'].value_counts()"
   ]
  },
  {
   "cell_type": "code",
   "execution_count": 244,
   "metadata": {},
   "outputs": [
    {
     "data": {
      "text/plain": [
       "0    0.5861\n",
       "1    0.4139\n",
       "Name: subreddit, dtype: float64"
      ]
     },
     "execution_count": 244,
     "metadata": {},
     "output_type": "execute_result"
    }
   ],
   "source": [
    "# Establish our baseline score \n",
    "# As 0.58 shall be the baseline accuracy \n",
    "df['subreddit'].value_counts(normalize=True)"
   ]
  },
  {
   "cell_type": "markdown",
   "metadata": {},
   "source": [
    "Our classes relatively balanced. Given that the majority class is class 0, our baseline score is an accuracy of 0.5861. The baseline score will serve as a point of comparison when evaluating our models."
   ]
  },
  {
   "cell_type": "code",
   "execution_count": 245,
   "metadata": {},
   "outputs": [],
   "source": [
    "# Import train_test_split.\n",
    "from sklearn.model_selection import train_test_split\n",
    "\n",
    "\n",
    "# Import logistic & linear regression\n",
    "from sklearn.linear_model import  LogisticRegression"
   ]
  },
  {
   "cell_type": "code",
   "execution_count": 246,
   "metadata": {},
   "outputs": [],
   "source": [
    "# Define y and X.\n",
    "X = df['selftext_title_clean']\n",
    "y = df['subreddit']\n",
    "\n",
    "# Perform train test split so that we can train, score and tune our models' hyperparameters \n",
    "X_train, X_test, y_train, y_test = train_test_split(X, y, test_size=0.2, random_state=42, stratify=y)"
   ]
  },
  {
   "cell_type": "code",
   "execution_count": 247,
   "metadata": {},
   "outputs": [
    {
     "data": {
      "text/plain": [
       "(2072,)"
      ]
     },
     "execution_count": 247,
     "metadata": {},
     "output_type": "execute_result"
    }
   ],
   "source": [
    "X_train.shape"
   ]
  },
  {
   "cell_type": "code",
   "execution_count": 248,
   "metadata": {
    "scrolled": true
   },
   "outputs": [
    {
     "data": {
      "text/plain": [
       "(518,)"
      ]
     },
     "execution_count": 248,
     "metadata": {},
     "output_type": "execute_result"
    }
   ],
   "source": [
    "y_test.shape"
   ]
  },
  {
   "cell_type": "code",
   "execution_count": 249,
   "metadata": {},
   "outputs": [
    {
     "data": {
      "text/plain": [
       "0    0.585907\n",
       "1    0.414093\n",
       "Name: subreddit, dtype: float64"
      ]
     },
     "execution_count": 249,
     "metadata": {},
     "output_type": "execute_result"
    }
   ],
   "source": [
    "# Check split in class labels for y_train\n",
    "y_train.value_counts(normalize=True)"
   ]
  },
  {
   "cell_type": "code",
   "execution_count": 250,
   "metadata": {},
   "outputs": [
    {
     "data": {
      "text/plain": [
       "0    0.586873\n",
       "1    0.413127\n",
       "Name: subreddit, dtype: float64"
      ]
     },
     "execution_count": 250,
     "metadata": {},
     "output_type": "execute_result"
    }
   ],
   "source": [
    "# Check split in class labels for y_test\n",
    "y_test.value_counts(normalize=True)"
   ]
  },
  {
   "cell_type": "markdown",
   "metadata": {},
   "source": [
    "|**Stratification**| ensured that our train_test_split method returns training and test sets that have the same proportion of class labels as the input dataset.\n",
    "\n",
    "The following 4 models will be built and scored against the train and test set:\n",
    " - Count Vectorizer & Logistic Regression,\n",
    " - TF-IDF & Logistic Regression,\n",
    " - Count Vectorizer & Naive Bayes \n",
    " - TF-IDF & Naive Bayes"
   ]
  },
  {
   "cell_type": "markdown",
   "metadata": {},
   "source": [
    "##  Model #1: Count Vectorization & Logistic Regression"
   ]
  },
  {
   "cell_type": "code",
   "execution_count": 251,
   "metadata": {
    "scrolled": true
   },
   "outputs": [
    {
     "name": "stdout",
     "output_type": "stream",
     "text": [
      "Best parameters:  {'cvec__max_df': 0.95, 'cvec__max_features': 400, 'cvec__min_df': 2, 'cvec__ngram_range': (1, 2), 'lr__C': 0.1, 'lr__penalty': 'l2'}\n",
      "Best score:  0.8774157499563471\n",
      "Training score: 0.9208494208494209\n",
      "Test score: 0.8957528957528957\n",
      "ROC score: 0.8848991637973439\n",
      "Accuracy: 0.8957528957528957\n"
     ]
    }
   ],
   "source": [
    "# Create a pipeline with CountVectorizer and LogisticRegression\n",
    "pipe1 = Pipeline([\n",
    "    ('cvec', CountVectorizer(stop_words='english')),\n",
    "    ('lr', LogisticRegression())\n",
    "])\n",
    "\n",
    "# Search over the following values of hyperparameters:\n",
    "# Maximum number of features fit: 400, 600\n",
    "# Minimum number of documents needed to include token: 2, 3\n",
    "# Maximum number of documents needed to include token: 90%, 95%\n",
    "# Logistic regression penalty: l2 - Ridge\n",
    "pipe1_params = {\n",
    "   'cvec__max_features': [200,400], # Will be very overfitted if max_features = 1000\n",
    "    'cvec__min_df': [2,3], \n",
    "     'cvec__max_df': [.95,.9], \n",
    "    'cvec__ngram_range':[(1,1),(1,2)], # Not much impact\n",
    "    'lr__penalty': ['l2'],\n",
    "    'lr__C' : [.01,.1]\n",
    "    }\n",
    "    \n",
    "# Instantiate GridSearchCV\n",
    "gs_cvec_lr = GridSearchCV(pipe1, # Objects to optimise\n",
    "                          param_grid = pipe1_params, # Hyperparameters for tuning\n",
    "                          cv=5) # 5-fold cross validation\n",
    "\n",
    "# Fit GridSearch to training data\n",
    "gs_cvec_lr.fit(X_train,y_train)\n",
    "preds = gs_cvec_lr.predict(X_test)\n",
    "# Print results\n",
    "print('Best parameters: ', gs_cvec_lr.best_params_)\n",
    "print('Best score: ', gs_cvec_lr.best_score_)\n",
    "print('Training score:', gs_cvec_lr.score(X_train, y_train))\n",
    "print('Test score:', gs_cvec_lr.score(X_test, y_test))\n",
    "print('ROC score:', roc_auc_score(y_test, preds))\n",
    "print('Accuracy:', accuracy_score(y_test, preds))"
   ]
  },
  {
   "cell_type": "markdown",
   "metadata": {},
   "source": [
    "### Observation:\n",
    "When the Count Vectorizer was given max_features of 1000, the training score 0.97 is indication of overfitting. Tuned the hyperparameters to find the minumum overfitting. With max_features of 400 the training score 0.92 and test score is 0.89"
   ]
  },
  {
   "cell_type": "markdown",
   "metadata": {},
   "source": [
    "##  Model #2: TF-IDF & Logistic Regression"
   ]
  },
  {
   "cell_type": "code",
   "execution_count": 252,
   "metadata": {},
   "outputs": [
    {
     "name": "stdout",
     "output_type": "stream",
     "text": [
      "Best parameters:  {'lr__C': 1, 'lr__penalty': 'l2', 'tvec__max_df': 0.9, 'tvec__max_features': 400, 'tvec__min_df': 2}\n",
      "Best score:  0.8856213258832429\n",
      "Training score: 0.9198841698841699\n",
      "Test score: 0.8918918918918919\n",
      "ROC score: 0.8809179783571077\n",
      "Accuracy: 0.8918918918918919\n"
     ]
    }
   ],
   "source": [
    "# Create a pipeline with TF-IDF and LogisticRegression\n",
    "pipe2 = Pipeline([\n",
    "    ('tvec', TfidfVectorizer(stop_words='english')),\n",
    "    ('lr', LogisticRegression())\n",
    "])\n",
    "\n",
    "# Search over the following values of hyperparameters:\n",
    "# Maximum number of features fit: 100, 200\n",
    "# Minimum number of documents needed to include token: 2, 3\n",
    "# Maximum number of documents needed to include token: 90%, 95%\n",
    "# Logistic regression penalty: l2 - Ridge\n",
    "pipe2_params = {\n",
    "    'tvec__max_features': [200,400], # Will be very overfitted if max_features = 1000\n",
    "    'tvec__min_df': [2,3], #10,20\n",
    "    'tvec__max_df': [.9,.95],\n",
    "#    'tvec__ngram_range':[(1,1),(1,2)],\n",
    "    'lr__penalty':['l2'],\n",
    "    'lr__C' : [.1,1]\n",
    "     }\n",
    "\n",
    "# Instantiate GridSearchCV\n",
    "gs_tvec_lr = GridSearchCV(pipe2, # Objects to optimise\n",
    "                          param_grid = pipe2_params, # Hyperparameters for tuning\n",
    "                          cv=5) # 5-fold cross validation\n",
    "\n",
    "# Fit GridSearch to training data\n",
    "gs_tvec_lr.fit(X_train,y_train)\n",
    "preds= gs_tvec_lr.predict(X_test)\n",
    "\n",
    "print('Best parameters: ', gs_tvec_lr.best_params_)\n",
    "print('Best score: ', gs_tvec_lr.best_score_)\n",
    "print('Training score:', gs_tvec_lr.score(X_train, y_train))\n",
    "print('Test score:', gs_tvec_lr.score(X_test, y_test))\n",
    "print('ROC score:', roc_auc_score(y_test, preds))\n",
    "print('Accuracy:', accuracy_score(y_test, preds))"
   ]
  },
  {
   "cell_type": "markdown",
   "metadata": {},
   "source": [
    "### Observation:\n",
    "TF-IDF & Logistic regression is |**slightly ledd overfitted**| and has better score.Using TF-IDF gave greater importance to words that occurred more frequently in the same document and gave lower importance to words that appeared a lot across documents. In the current reddit post this has not given better score and accuracy to improve the score. "
   ]
  },
  {
   "cell_type": "markdown",
   "metadata": {},
   "source": [
    "## Model-3: Count Vectorizer and Naive Bayers"
   ]
  },
  {
   "cell_type": "code",
   "execution_count": 253,
   "metadata": {
    "scrolled": true
   },
   "outputs": [
    {
     "name": "stdout",
     "output_type": "stream",
     "text": [
      "Best parameters:  {'cvec__max_df': 0.9, 'cvec__max_features': 1000, 'cvec__min_df': 3, 'cvec__ngram_range': (1, 1)}\n",
      "Best score:  0.8759641464408358\n",
      "Training score: 0.9078185328185329\n",
      "Test score: 0.8822393822393823\n",
      "ROC score: 0.8823782587309396\n",
      "Accuracy: 0.8822393822393823\n"
     ]
    }
   ],
   "source": [
    "# Create a pipeline with CountVectorizer and Naive Bayes\n",
    "pipe3 = Pipeline([\n",
    "    ('cvec', CountVectorizer(stop_words='english')),\n",
    "    ('nb', MultinomialNB())\n",
    "])\n",
    "\n",
    "# Search over the following values of hyperparameters:\n",
    "# Maximum number of features fit: 200,600\n",
    "# Minimum number of documents needed to include token: 2, 3\n",
    "# Maximum number of documents needed to include token: 90%, 95%\n",
    "pipe3_params = {\n",
    "    'cvec__max_features': [500, 1000],\n",
    "    'cvec__min_df': [2,3], \n",
    "    'cvec__max_df': [.9,.95],\n",
    "   'cvec__ngram_range':[(1,1),(1,2)],\n",
    "\n",
    "    }\n",
    "\n",
    "# Instantiate GridSearchCV\n",
    "gs_cvec_nb = GridSearchCV(pipe3, # Objects to optimise\n",
    "                          param_grid = pipe3_params, # Hyperparameters for tuning\n",
    "                          cv=5) # 5-fold cross validation\n",
    "\n",
    "# Fit GridSearch to training data\n",
    "gs_cvec_nb.fit(X_train,y_train)\n",
    "preds =gs_cvec_nb.predict(X_test)\n",
    "\n",
    "print('Best parameters: ', gs_cvec_nb.best_params_)\n",
    "print('Best score: ', gs_cvec_nb.best_score_)\n",
    "print('Training score:', gs_cvec_nb.score(X_train, y_train))\n",
    "print('Test score:', gs_cvec_nb.score(X_test, y_test))\n",
    "print('ROC score:', roc_auc_score(y_test, preds))\n",
    "print('Accuracy:', accuracy_score(y_test, preds))"
   ]
  },
  {
   "cell_type": "markdown",
   "metadata": {},
   "source": [
    "#### Observation:\n",
    "The CountVectorizer and Naive Bayes model observes a better training and test accuracy achieving a training score of 0.907 and test score of 0.882 This .Naive Bayer with Countvectorizer performed similar to Logistic regression with ROC score of 0.88 and Accuracy 0.882. We have to keep in mind that Naive Bayer model operates under the assumption that the predictors are independent of each other which may not be the case in real scenario. "
   ]
  },
  {
   "cell_type": "markdown",
   "metadata": {},
   "source": [
    "## Model 4: TFID Vectorizer & Naive Bayer¶"
   ]
  },
  {
   "cell_type": "code",
   "execution_count": 254,
   "metadata": {
    "scrolled": true
   },
   "outputs": [
    {
     "name": "stdout",
     "output_type": "stream",
     "text": [
      "Best parameters:  {'tvec__max_df': 0.9, 'tvec__max_features': 500, 'tvec__min_df': 2, 'tvec__ngram_range': (1, 3)}\n",
      "Best score:  0.8658320237471626\n",
      "Training score: 0.8904440154440154\n",
      "Test score: 0.8571428571428571\n",
      "ROC score: 0.846470732907034\n",
      "Accuracy: 0.8571428571428571\n"
     ]
    }
   ],
   "source": [
    "pipe4 = Pipeline([\n",
    "    ('tvec', TfidfVectorizer(stop_words='english')),\n",
    "    ('nb', MultinomialNB())\n",
    "])\n",
    "\n",
    "# Search over the following values of hyperparameters:\n",
    "# Maximum number of features fit: 500,1000\n",
    "# Minimum number of documents needed to include token: 2, 3\n",
    "# Maximum number of documents needed to include token: 90%, 95%\n",
    "pipe4_params = {\n",
    "    'tvec__max_features': [500,1000], \n",
    "    'tvec__min_df': [2,3], \n",
    "    'tvec__max_df': [.9,.95],\n",
    "    'tvec__ngram_range':[(1,1),(1,3)]\n",
    "    \n",
    "}\n",
    "\n",
    "# Instantiate GridSearchCV\n",
    "gs_tvec_nb = GridSearchCV(pipe4, # Objects to optimise\n",
    "                          param_grid = pipe4_params, # Hyperparameters for tuning\n",
    "                          cv=5) # 5-fold cross validation\n",
    "\n",
    "# Fit GridSearch to training data\n",
    "gs_tvec_nb.fit(X_train,y_train)\n",
    "preds= gs_tvec_nb.predict(X_test) \n",
    "\n",
    "print('Best parameters: ', gs_tvec_nb.best_params_)\n",
    "print('Best score: ', gs_tvec_nb.best_score_)\n",
    "print('Training score:', gs_tvec_nb.score(X_train, y_train))\n",
    "print('Test score:', gs_tvec_nb.score(X_test, y_test))\n",
    "print('ROC score:', roc_auc_score(y_test, preds))\n",
    "print('Accuracy:', accuracy_score(y_test, preds))"
   ]
  },
  {
   "cell_type": "markdown",
   "metadata": {},
   "source": [
    "#### Observation:\n",
    "Th TF-IDF and Naive Bayes model observes a overfitting with  training score as 0.890 and test test score of 0.857.Training score reduced to 0.85 and ROC score 0.846 which means the model will not perform well on testing data. "
   ]
  },
  {
   "cell_type": "markdown",
   "metadata": {},
   "source": [
    "## Model Evaluation\n",
    "\n",
    "## Model Evaluation: Confusion Matrix & Classification Report"
   ]
  },
  {
   "cell_type": "code",
   "execution_count": 255,
   "metadata": {},
   "outputs": [],
   "source": [
    "# Predictions across 4 models\n",
    "cvec_lr_pred = gs_cvec_lr.predict(X_test)\n",
    "tvec_lr_pred = gs_tvec_lr.predict(X_test)\n",
    "cvec_nb_pred = gs_cvec_nb.predict(X_test)\n",
    "tvec_nb_pred = gs_tvec_nb.predict(X_test)"
   ]
  },
  {
   "cell_type": "code",
   "execution_count": 256,
   "metadata": {
    "scrolled": true
   },
   "outputs": [
    {
     "name": "stdout",
     "output_type": "stream",
     "text": [
      "Logistic Reg & Count Vectorization\n",
      "              precision    recall  f1-score   support\n",
      "\n",
      "           0       0.88      0.95      0.91       304\n",
      "           1       0.92      0.82      0.87       214\n",
      "\n",
      "    accuracy                           0.90       518\n",
      "   macro avg       0.90      0.88      0.89       518\n",
      "weighted avg       0.90      0.90      0.89       518\n",
      "\n"
     ]
    },
    {
     "data": {
      "image/png": "[encoded data removed]",
      "text/plain": [
       "<Figure size 432x288 with 2 Axes>"
      ]
     },
     "metadata": {
      "needs_background": "light"
     },
     "output_type": "display_data"
    }
   ],
   "source": [
    "# Confusion matrix of all the four models to look at the number  of  misclassified posts\n",
    "\n",
    "from sklearn.metrics import plot_confusion_matrix\n",
    "plot_confusion_matrix(gs_cvec_lr, X_test, y_test, cmap='Blues', values_format='d');\n",
    "pl.title('Confusion matrix of  Logistic & Count Vectorizer')\n",
    "print('Logistic Reg & Count Vectorization\\n' + classification_report(y_test,cvec_lr_pred ))"
   ]
  },
  {
   "cell_type": "code",
   "execution_count": 257,
   "metadata": {
    "scrolled": true
   },
   "outputs": [
    {
     "name": "stdout",
     "output_type": "stream",
     "text": [
      "Logistic Reg & TF-IDF\n",
      "              precision    recall  f1-score   support\n",
      "\n",
      "           0       0.88      0.94      0.91       304\n",
      "           1       0.91      0.82      0.86       214\n",
      "\n",
      "    accuracy                           0.89       518\n",
      "   macro avg       0.90      0.88      0.89       518\n",
      "weighted avg       0.89      0.89      0.89       518\n",
      "\n"
     ]
    },
    {
     "data": {
      "image/png": "[encoded data removed]",
      "text/plain": [
       "<Figure size 432x288 with 2 Axes>"
      ]
     },
     "metadata": {
      "needs_background": "light"
     },
     "output_type": "display_data"
    }
   ],
   "source": [
    "plot_confusion_matrix(gs_tvec_lr, X_test, y_test, cmap='Blues', values_format='d');\n",
    "pl.title('Confusion matrix of Logistic & TF-IDF ')\n",
    "print('Logistic Reg & TF-IDF\\n' +classification_report(y_test,tvec_lr_pred ))"
   ]
  },
  {
   "cell_type": "code",
   "execution_count": 258,
   "metadata": {
    "scrolled": true
   },
   "outputs": [
    {
     "name": "stdout",
     "output_type": "stream",
     "text": [
      "Naive Bayer & TF-IDF\n",
      "              precision    recall  f1-score   support\n",
      "\n",
      "           0       0.91      0.88      0.90       304\n",
      "           1       0.84      0.88      0.86       214\n",
      "\n",
      "    accuracy                           0.88       518\n",
      "   macro avg       0.88      0.88      0.88       518\n",
      "weighted avg       0.88      0.88      0.88       518\n",
      "\n"
     ]
    },
    {
     "data": {
      "image/png": "[encoded data removed]",
      "text/plain": [
       "<Figure size 432x288 with 2 Axes>"
      ]
     },
     "metadata": {
      "needs_background": "light"
     },
     "output_type": "display_data"
    }
   ],
   "source": [
    "\n",
    "plot_confusion_matrix(gs_cvec_nb, X_test, y_test, cmap='Blues', values_format='d');\n",
    "pl.title('Confusion matrix of Naive Bayer  & Count Vectorizer')\n",
    "print('Naive Bayer & TF-IDF\\n' + classification_report(y_test,cvec_nb_pred ))"
   ]
  },
  {
   "cell_type": "code",
   "execution_count": 259,
   "metadata": {
    "scrolled": false
   },
   "outputs": [
    {
     "name": "stdout",
     "output_type": "stream",
     "text": [
      "Naive Bayer & TF-IDF\n",
      "              precision    recall  f1-score   support\n",
      "\n",
      "           0       0.86      0.91      0.88       304\n",
      "           1       0.86      0.79      0.82       214\n",
      "\n",
      "    accuracy                           0.86       518\n",
      "   macro avg       0.86      0.85      0.85       518\n",
      "weighted avg       0.86      0.86      0.86       518\n",
      "\n"
     ]
    },
    {
     "data": {
      "image/png": "[encoded data removed]",
      "text/plain": [
       "<Figure size 432x288 with 2 Axes>"
      ]
     },
     "metadata": {
      "needs_background": "light"
     },
     "output_type": "display_data"
    }
   ],
   "source": [
    "\n",
    "plot_confusion_matrix(gs_tvec_nb, X_test, y_test, cmap='Blues', values_format='d');\n",
    "pl.title('Confusion matrix of Naive Bayer & TF-IDF')\n",
    "print('Naive Bayer & TF-IDF\\n' + classification_report(y_test,tvec_nb_pred ))"
   ]
  },
  {
   "cell_type": "markdown",
   "metadata": {},
   "source": [
    "As seen above, The Logistic model outperform the Naive Bayer models in precision, recall and f1-score. Logistic Regression models also have lower false positives and false negatives than the Naive Bayer models.\n",
    "\n",
    "Precision is the proportion of predicted positive class (Nvidia) that are actually positive, of which both the CountVectorizer Logistic and TF-IDF Logistic outperformed (0.9) the CountVectorizer Naive Bayer and  TF-IDF Naive Bayer (0.88 and 0.86).\n",
    "\n",
    "Recall is the proportion of positive class  that were predicted correctly. In this case,  Count Vectorizer Logistic and Naive Bayes and TF-IDF Naive Bayer perform similar with 0.88  \n",
    "\n",
    "Lastly, the F1-score is simply the harmonic mean of recall and precision ie a higher score and it is better for both Logistic models. "
   ]
  },
  {
   "cell_type": "markdown",
   "metadata": {},
   "source": [
    "\n",
    "|**Model| Train accuracy| Test accuracy|Precision|Recall|F1-Score|ROC AUC**|\n",
    "|:---|:---:|:---:|:---:|:---:|:---:|---:|\n",
    "|CountVectorizer & Logistic Regression |0.92|0.895|0.9|0.88|0.89|0.884|\n",
    "|TF-IDF & Logistic Regression|0.91|0.891|0.9|0.88|\t0.88|\t0.88|\n",
    "|CountVectorizer & Naive Bayes|0.907|0.882|0.882|0.88|0.88 |0.882|\n",
    "|TF-IDF & Naive Bayes|\t0.89|0.85|0.86|0.85|0.85|0.85|    \n",
    "  "
   ]
  },
  {
   "cell_type": "markdown",
   "metadata": {},
   "source": [
    "We use the area under the ROC curve to quantify the gap between our distributions. The greater the area under the blue curve, the better separated our distributions are. In other words, the higher the ROC AUC, the better our model is at differentiating between the 2 subreddits. \n",
    "- We will plot the accuracy for ROC AUC for the best score - Count Vectorizer Logistic Regression "
   ]
  },
  {
   "cell_type": "code",
   "execution_count": 260,
   "metadata": {},
   "outputs": [],
   "source": [
    "# Let's create a dataframe called pred_df that contains:\n",
    "# 1. The list of true values of our test set.\n",
    "# 2. The list of predicted probabilities based on our model.\n",
    "pred_proba = [i[1] for i in gs_cvec_lr.predict_proba(X_test)]\n",
    "\n",
    "pred_df = pd.DataFrame({'true_values': y_test,\n",
    "                        'pred_probs':pred_proba})"
   ]
  },
  {
   "cell_type": "code",
   "execution_count": 261,
   "metadata": {
    "scrolled": false
   },
   "outputs": [
    {
     "data": {
      "image/png": "[encoded data removed]",
      "text/plain": [
       "<Figure size 576x504 with 1 Axes>"
      ]
     },
     "metadata": {
      "needs_background": "light"
     },
     "output_type": "display_data"
    }
   ],
   "source": [
    "# Create figure.\n",
    "plt.figure(figsize = (8,7))\n",
    "\n",
    "# Create threshold values.\n",
    "thresholds = np.linspace(0, 1, 200)\n",
    "\n",
    "# Define function to calculate sensitivity. (True positive rate.)\n",
    "def TPR(df, true_col, pred_prob_col, threshold):\n",
    "    true_positive = df[(df[true_col] == 1) & (df[pred_prob_col] >= threshold)].shape[0]\n",
    "    false_negative = df[(df[true_col] == 1) & (df[pred_prob_col] < threshold)].shape[0]\n",
    "    return true_positive / (true_positive + false_negative)\n",
    "    \n",
    "\n",
    "# Define function to calculate 1 - specificity. (False positive rate.)\n",
    "def FPR(df, true_col, pred_prob_col, threshold):\n",
    "    true_negative = df[(df[true_col] == 0) & (df[pred_prob_col] <= threshold)].shape[0]\n",
    "    false_positive = df[(df[true_col] == 0) & (df[pred_prob_col] > threshold)].shape[0]\n",
    "    return 1 - (true_negative / (true_negative + false_positive))\n",
    "    \n",
    "# Calculate sensitivity & 1-specificity for each threshold between 0 and 1.\n",
    "tpr_values = [TPR(pred_df, 'true_values', 'pred_probs', prob) for prob in thresholds]\n",
    "fpr_values = [FPR(pred_df, 'true_values', 'pred_probs', prob) for prob in thresholds]\n",
    "\n",
    "# Plot ROC curve.\n",
    "plt.plot(fpr_values, # False Positive Rate on X-axis\n",
    "         tpr_values, # True Positive Rate on Y-axis\n",
    "         label='ROC Curve')\n",
    "\n",
    "# Plot baseline. (Perfect overlap between the two populations.)\n",
    "plt.plot(np.linspace(0, 1, 200),\n",
    "         np.linspace(0, 1, 200),\n",
    "         label='baseline',\n",
    "         linestyle='--')\n",
    "\n",
    "# Label axes.\n",
    "plt.title('Receiver Operating Characteristic Curve', fontsize=22)\n",
    "plt.ylabel('Sensitivity \\n (True Positive Rate)', fontsize=18)\n",
    "plt.xlabel('1 - Specificity \\n (False Positive Rate)', fontsize=18)\n",
    "\n",
    "# Create legend.\n",
    "plt.legend(fontsize=10);"
   ]
  },
  {
   "cell_type": "markdown",
   "metadata": {},
   "source": [
    "\n",
    " Logistic Regression models across all evaluation metrics, accuracy, precision, recall, F1-score and ROC AUC. In the context of our business problem, we need to find whether the post is coming from Nvida or Amd.  Since both false positives and false negatives are equally as bad, we will not prioritise precision, recall and F1-score. Instead, we will use accuracy and ROC AUC to select our model.\n",
    "\n",
    "Count Vectorizere Logistic Model has outperformed with accuracy(0.89) and ROC AUC (0.884).  This is well above our baseline score of 0.586.We has choosen Count Vectorizer Logistic Regression based on accuracy and ROC AUC scores. \n"
   ]
  },
  {
   "cell_type": "markdown",
   "metadata": {},
   "source": [
    "## Identifying the Most Predictive Words"
   ]
  },
  {
   "cell_type": "code",
   "execution_count": 279,
   "metadata": {
    "scrolled": true
   },
   "outputs": [
    {
     "data": {
      "text/html": [
       "<div>\n",
       "<style scoped>\n",
       "    .dataframe tbody tr th:only-of-type {\n",
       "        vertical-align: middle;\n",
       "    }\n",
       "\n",
       "    .dataframe tbody tr th {\n",
       "        vertical-align: top;\n",
       "    }\n",
       "\n",
       "    .dataframe thead th {\n",
       "        text-align: right;\n",
       "    }\n",
       "</style>\n",
       "<table border=\"1\" class=\"dataframe\">\n",
       "  <thead>\n",
       "    <tr style=\"text-align: right;\">\n",
       "      <th></th>\n",
       "      <th>word</th>\n",
       "      <th>coef</th>\n",
       "    </tr>\n",
       "  </thead>\n",
       "  <tbody>\n",
       "    <tr>\n",
       "      <th>110</th>\n",
       "      <td>fe</td>\n",
       "      <td>-0.778062</td>\n",
       "    </tr>\n",
       "    <tr>\n",
       "      <th>360</th>\n",
       "      <td>ti</td>\n",
       "      <td>-0.691636</td>\n",
       "    </tr>\n",
       "    <tr>\n",
       "      <th>145</th>\n",
       "      <td>gtx</td>\n",
       "      <td>-0.685821</td>\n",
       "    </tr>\n",
       "    <tr>\n",
       "      <th>341</th>\n",
       "      <td>super</td>\n",
       "      <td>-0.614509</td>\n",
       "    </tr>\n",
       "    <tr>\n",
       "      <th>301</th>\n",
       "      <td>rtx</td>\n",
       "      <td>-0.571293</td>\n",
       "    </tr>\n",
       "    <tr>\n",
       "      <th>102</th>\n",
       "      <td>evga</td>\n",
       "      <td>-0.517685</td>\n",
       "    </tr>\n",
       "    <tr>\n",
       "      <th>366</th>\n",
       "      <td>tv</td>\n",
       "      <td>-0.485549</td>\n",
       "    </tr>\n",
       "    <tr>\n",
       "      <th>7</th>\n",
       "      <td>aib</td>\n",
       "      <td>-0.451121</td>\n",
       "    </tr>\n",
       "    <tr>\n",
       "      <th>120</th>\n",
       "      <td>founder</td>\n",
       "      <td>-0.441293</td>\n",
       "    </tr>\n",
       "    <tr>\n",
       "      <th>52</th>\n",
       "      <td>card</td>\n",
       "      <td>-0.433793</td>\n",
       "    </tr>\n",
       "  </tbody>\n",
       "</table>\n",
       "</div>"
      ],
      "text/plain": [
       "        word      coef\n",
       "110       fe -0.778062\n",
       "360       ti -0.691636\n",
       "145      gtx -0.685821\n",
       "341    super -0.614509\n",
       "301      rtx -0.571293\n",
       "102     evga -0.517685\n",
       "366       tv -0.485549\n",
       "7        aib -0.451121\n",
       "120  founder -0.441293\n",
       "52      card -0.433793"
      ]
     },
     "execution_count": 279,
     "metadata": {},
     "output_type": "execute_result"
    }
   ],
   "source": [
    "# Save the words obtained from Count Vectorizer logistic in a dataframe\n",
    "coef_df = pd.DataFrame(gs_cvec_lr.best_estimator_.named_steps['cvec'].get_feature_names(), columns=['word'])\n",
    "# Save the coefficients in the same dataframe\n",
    "coef_df['coef'] = gs_cvec_lr.best_estimator_.named_steps['lr'].coef_.tolist()[0]\n",
    "# Find the top 20 predictive words\n",
    "coef_df.sort_values('coef').head(10)"
   ]
  },
  {
   "cell_type": "code",
   "execution_count": 280,
   "metadata": {},
   "outputs": [],
   "source": [
    "top_coef = coef_df.sort_values('coef').head(10)"
   ]
  },
  {
   "cell_type": "code",
   "execution_count": 281,
   "metadata": {
    "scrolled": true
   },
   "outputs": [
    {
     "data": {
      "image/png": "[encoded data removed]",
      "text/plain": [
       "<Figure size 576x576 with 1 Axes>"
      ]
     },
     "metadata": {
      "needs_background": "light"
     },
     "output_type": "display_data"
    }
   ],
   "source": [
    "top_coef.plot(y='coef', x='word', kind='barh', figsize=(8,8));"
   ]
  },
  {
   "cell_type": "markdown",
   "metadata": {},
   "source": [
    "#### Words with higher coefficient values are those that are more important in predicting the positive True  class of Nvidia The bar chart above shows the top 10 most important words in predicting the positive class e.e gtx, rtc and ti."
   ]
  },
  {
   "cell_type": "markdown",
   "metadata": {},
   "source": [
    "## Misclassified Data"
   ]
  },
  {
   "cell_type": "code",
   "execution_count": 265,
   "metadata": {},
   "outputs": [
    {
     "data": {
      "text/plain": [
       "(518, 9)"
      ]
     },
     "execution_count": 265,
     "metadata": {},
     "output_type": "execute_result"
    }
   ],
   "source": [
    "# Create a dataframe consisting of only the test data\n",
    "test_df = df.loc[y_test.index,:]\n",
    "\n",
    "# Insert a column for the predictions\n",
    "test_df['pred'] = cvec_lr_pred\n",
    "test_df.shape"
   ]
  },
  {
   "cell_type": "code",
   "execution_count": 266,
   "metadata": {},
   "outputs": [
    {
     "data": {
      "text/plain": [
       "(54, 10)"
      ]
     },
     "execution_count": 266,
     "metadata": {},
     "output_type": "execute_result"
    }
   ],
   "source": [
    "# Create a column that indicates if the post was correctly classified or not\n",
    "test_df['correctly_classified'] = (test_df['pred']==test_df['subreddit'])\n",
    "\n",
    "# We have misclassified posts\n",
    "test_df[test_df['correctly_classified']==False].shape"
   ]
  },
  {
   "cell_type": "code",
   "execution_count": 267,
   "metadata": {},
   "outputs": [
    {
     "data": {
      "text/html": [
       "<div>\n",
       "<style scoped>\n",
       "    .dataframe tbody tr th:only-of-type {\n",
       "        vertical-align: middle;\n",
       "    }\n",
       "\n",
       "    .dataframe tbody tr th {\n",
       "        vertical-align: top;\n",
       "    }\n",
       "\n",
       "    .dataframe thead th {\n",
       "        text-align: right;\n",
       "    }\n",
       "</style>\n",
       "<table border=\"1\" class=\"dataframe\">\n",
       "  <thead>\n",
       "    <tr style=\"text-align: right;\">\n",
       "      <th></th>\n",
       "      <th>subreddit</th>\n",
       "      <th>selftext</th>\n",
       "      <th>title</th>\n",
       "      <th>num_comments</th>\n",
       "      <th>selftext_clean</th>\n",
       "      <th>title_clean</th>\n",
       "      <th>selftext_title_clean</th>\n",
       "      <th>selftext_len</th>\n",
       "      <th>pred</th>\n",
       "      <th>correctly_classified</th>\n",
       "    </tr>\n",
       "  </thead>\n",
       "  <tbody>\n",
       "    <tr>\n",
       "      <th>1592</th>\n",
       "      <td>1</td>\n",
       "      <td>I am looking but can't find any solid answer, ...</td>\n",
       "      <td>When is RDNA2 coming out?</td>\n",
       "      <td>13</td>\n",
       "      <td>look find solid answer anyon know</td>\n",
       "      <td>rdna come</td>\n",
       "      <td>look find solid answer anyon know rdna come</td>\n",
       "      <td>6</td>\n",
       "      <td>0</td>\n",
       "      <td>False</td>\n",
       "    </tr>\n",
       "    <tr>\n",
       "      <th>345</th>\n",
       "      <td>0</td>\n",
       "      <td>I have Titans with both  90.02.1E.00.02 and  9...</td>\n",
       "      <td>Is there a reason to upgrade the BIOS on a Tit...</td>\n",
       "      <td>5</td>\n",
       "      <td>titan e reason updat older one slightli newer ...</td>\n",
       "      <td>reason upgrad bio titan rtx newer oem bio</td>\n",
       "      <td>titan e reason updat older one slightli newer ...</td>\n",
       "      <td>22</td>\n",
       "      <td>1</td>\n",
       "      <td>False</td>\n",
       "    </tr>\n",
       "    <tr>\n",
       "      <th>2396</th>\n",
       "      <td>1</td>\n",
       "      <td>Does AMD have a set date? Or have they just be...</td>\n",
       "      <td>When are the new AMD Graphics Cards being anno...</td>\n",
       "      <td>64</td>\n",
       "      <td>set date wait see gonna first ball court</td>\n",
       "      <td>new graphic card announc</td>\n",
       "      <td>set date wait see gonna first ball court new g...</td>\n",
       "      <td>8</td>\n",
       "      <td>0</td>\n",
       "      <td>False</td>\n",
       "    </tr>\n",
       "    <tr>\n",
       "      <th>1918</th>\n",
       "      <td>1</td>\n",
       "      <td>I have a Gsync Ultimate monitor (PG35VQ) and w...</td>\n",
       "      <td>Is RDNA2 a viable option if I have a Gsync Ult...</td>\n",
       "      <td>10</td>\n",
       "      <td>gsync ultim monitor pg vq want upgrad graphic ...</td>\n",
       "      <td>rdna viabl option gsync ultim monitor</td>\n",
       "      <td>gsync ultim monitor pg vq want upgrad graphic ...</td>\n",
       "      <td>21</td>\n",
       "      <td>0</td>\n",
       "      <td>False</td>\n",
       "    </tr>\n",
       "    <tr>\n",
       "      <th>2317</th>\n",
       "      <td>1</td>\n",
       "      <td>Hello Guys,\\n\\nThis is my first post on reddit...</td>\n",
       "      <td>Is CPU Bottelneck affect the ML/ DL like Tenso...</td>\n",
       "      <td>14</td>\n",
       "      <td>hello guy first post reddit henc pleas ignor m...</td>\n",
       "      <td>bottelneck affect ml dl like tensorflow model ...</td>\n",
       "      <td>hello guy first post reddit henc pleas ignor m...</td>\n",
       "      <td>150</td>\n",
       "      <td>0</td>\n",
       "      <td>False</td>\n",
       "    </tr>\n",
       "  </tbody>\n",
       "</table>\n",
       "</div>"
      ],
      "text/plain": [
       "      subreddit                                           selftext  \\\n",
       "1592          1  I am looking but can't find any solid answer, ...   \n",
       "345           0  I have Titans with both  90.02.1E.00.02 and  9...   \n",
       "2396          1  Does AMD have a set date? Or have they just be...   \n",
       "1918          1  I have a Gsync Ultimate monitor (PG35VQ) and w...   \n",
       "2317          1  Hello Guys,\\n\\nThis is my first post on reddit...   \n",
       "\n",
       "                                                  title  num_comments  \\\n",
       "1592                          When is RDNA2 coming out?            13   \n",
       "345   Is there a reason to upgrade the BIOS on a Tit...             5   \n",
       "2396  When are the new AMD Graphics Cards being anno...            64   \n",
       "1918  Is RDNA2 a viable option if I have a Gsync Ult...            10   \n",
       "2317  Is CPU Bottelneck affect the ML/ DL like Tenso...            14   \n",
       "\n",
       "                                         selftext_clean  \\\n",
       "1592                  look find solid answer anyon know   \n",
       "345   titan e reason updat older one slightli newer ...   \n",
       "2396           set date wait see gonna first ball court   \n",
       "1918  gsync ultim monitor pg vq want upgrad graphic ...   \n",
       "2317  hello guy first post reddit henc pleas ignor m...   \n",
       "\n",
       "                                            title_clean  \\\n",
       "1592                                          rdna come   \n",
       "345           reason upgrad bio titan rtx newer oem bio   \n",
       "2396                           new graphic card announc   \n",
       "1918              rdna viabl option gsync ultim monitor   \n",
       "2317  bottelneck affect ml dl like tensorflow model ...   \n",
       "\n",
       "                                   selftext_title_clean  selftext_len  pred  \\\n",
       "1592        look find solid answer anyon know rdna come             6     0   \n",
       "345   titan e reason updat older one slightli newer ...            22     1   \n",
       "2396  set date wait see gonna first ball court new g...             8     0   \n",
       "1918  gsync ultim monitor pg vq want upgrad graphic ...            21     0   \n",
       "2317  hello guy first post reddit henc pleas ignor m...           150     0   \n",
       "\n",
       "      correctly_classified  \n",
       "1592                 False  \n",
       "345                  False  \n",
       "2396                 False  \n",
       "1918                 False  \n",
       "2317                 False  "
      ]
     },
     "execution_count": 267,
     "metadata": {},
     "output_type": "execute_result"
    }
   ],
   "source": [
    "# View the first 5 misclassified posts\n",
    "test_df[test_df['correctly_classified']==False].head(5)"
   ]
  },
  {
   "cell_type": "code",
   "execution_count": 268,
   "metadata": {},
   "outputs": [],
   "source": [
    "# Write a function to tokenise the cleaned text and plot a barplot of the top 20 most frequently occuring words\n",
    "\n",
    "def barplot_cvec(pred, title, color):\n",
    "    words_series = test_df[(test_df['correctly_classified']==False) & (test_df['pred']==pred)]['selftext_title_clean']\n",
    "    \n",
    "    # Instantiate Count Vectorizer \n",
    "    cvec = CountVectorizer(stop_words='english')\n",
    "    \n",
    "    # Save the tokens in a dataframe\n",
    "    cvec_df = pd.DataFrame(cvec.fit_transform(words_series).todense(), columns=cvec.get_feature_names())\n",
    "    sum_words = cvec_df.sum(axis=0) # Sum up the no. of occurences for each word\n",
    "    top_words = sum_words.sort_values(ascending=False).head(10)\n",
    "    top_words.sort_values(ascending=True).plot(kind='barh', figsize=(10,8), color=color)\n",
    "    plt.title(title, fontsize=12, fontweight='bold')\n",
    "    plt.xlim(0,30)"
   ]
  },
  {
   "cell_type": "code",
   "execution_count": 269,
   "metadata": {
    "scrolled": false
   },
   "outputs": [
    {
     "data": {
      "image/png": "[encoded data removed]",
      "text/plain": [
       "<Figure size 720x576 with 1 Axes>"
      ]
     },
     "metadata": {
      "needs_background": "light"
     },
     "output_type": "display_data"
    }
   ],
   "source": [
    "barplot_cvec(pred=1, title='Top words (Predicted to be Amd, when it is Nvidia)', color='#1F618D')"
   ]
  },
  {
   "cell_type": "code",
   "execution_count": 270,
   "metadata": {},
   "outputs": [
    {
     "data": {
      "text/html": [
       "<div>\n",
       "<style scoped>\n",
       "    .dataframe tbody tr th:only-of-type {\n",
       "        vertical-align: middle;\n",
       "    }\n",
       "\n",
       "    .dataframe tbody tr th {\n",
       "        vertical-align: top;\n",
       "    }\n",
       "\n",
       "    .dataframe thead th {\n",
       "        text-align: right;\n",
       "    }\n",
       "</style>\n",
       "<table border=\"1\" class=\"dataframe\">\n",
       "  <thead>\n",
       "    <tr style=\"text-align: right;\">\n",
       "      <th></th>\n",
       "      <th>subreddit</th>\n",
       "      <th>selftext</th>\n",
       "      <th>title</th>\n",
       "      <th>num_comments</th>\n",
       "      <th>selftext_clean</th>\n",
       "      <th>title_clean</th>\n",
       "      <th>selftext_title_clean</th>\n",
       "      <th>selftext_len</th>\n",
       "      <th>pred</th>\n",
       "      <th>correctly_classified</th>\n",
       "    </tr>\n",
       "  </thead>\n",
       "  <tbody>\n",
       "    <tr>\n",
       "      <th>345</th>\n",
       "      <td>0</td>\n",
       "      <td>I have Titans with both  90.02.1E.00.02 and  9...</td>\n",
       "      <td>Is there a reason to upgrade the BIOS on a Tit...</td>\n",
       "      <td>5</td>\n",
       "      <td>titan e reason updat older one slightli newer ...</td>\n",
       "      <td>reason upgrad bio titan rtx newer oem bio</td>\n",
       "      <td>titan e reason updat older one slightli newer ...</td>\n",
       "      <td>22</td>\n",
       "      <td>1</td>\n",
       "      <td>False</td>\n",
       "    </tr>\n",
       "    <tr>\n",
       "      <th>776</th>\n",
       "      <td>0</td>\n",
       "      <td>Hello redditors,\\n\\nSo I currently have a 2060...</td>\n",
       "      <td>Swapping out gpus</td>\n",
       "      <td>11</td>\n",
       "      <td>hello redditor current new seri come look upgr...</td>\n",
       "      <td>swap gpu</td>\n",
       "      <td>hello redditor current new seri come look upgr...</td>\n",
       "      <td>49</td>\n",
       "      <td>1</td>\n",
       "      <td>False</td>\n",
       "    </tr>\n",
       "    <tr>\n",
       "      <th>484</th>\n",
       "      <td>0</td>\n",
       "      <td>So, I got feeling all nostalgic about video ca...</td>\n",
       "      <td>A Graphic Matrix Of Cards Owned Through The Ye...</td>\n",
       "      <td>20</td>\n",
       "      <td>got feel nostalg video card own year decid mak...</td>\n",
       "      <td>graphic matrix card own year</td>\n",
       "      <td>got feel nostalg video card own year decid mak...</td>\n",
       "      <td>45</td>\n",
       "      <td>1</td>\n",
       "      <td>False</td>\n",
       "    </tr>\n",
       "    <tr>\n",
       "      <th>146</th>\n",
       "      <td>0</td>\n",
       "      <td>I  recently started to stream and i have remad...</td>\n",
       "      <td>nvidia game filter in OBS</td>\n",
       "      <td>9</td>\n",
       "      <td>recent start stream remad game filter set nvdi...</td>\n",
       "      <td>game filter ob</td>\n",
       "      <td>recent start stream remad game filter set nvdi...</td>\n",
       "      <td>77</td>\n",
       "      <td>1</td>\n",
       "      <td>False</td>\n",
       "    </tr>\n",
       "    <tr>\n",
       "      <th>800</th>\n",
       "      <td>0</td>\n",
       "      <td>Hello r/nvidia I've recently had a noice payda...</td>\n",
       "      <td>Upgrading soon</td>\n",
       "      <td>1</td>\n",
       "      <td>hello r recent noic payday think upgrad new se...</td>\n",
       "      <td>upgrad soon</td>\n",
       "      <td>hello r recent noic payday think upgrad new se...</td>\n",
       "      <td>48</td>\n",
       "      <td>1</td>\n",
       "      <td>False</td>\n",
       "    </tr>\n",
       "    <tr>\n",
       "      <th>709</th>\n",
       "      <td>0</td>\n",
       "      <td>I’ve never bought a GPU on launch before but a...</td>\n",
       "      <td>Should I buy on launch day if I won’t finish m...</td>\n",
       "      <td>12</td>\n",
       "      <td>never bought launch debat time hope get help p...</td>\n",
       "      <td>buy launch day finish build later year</td>\n",
       "      <td>never bought launch debat time hope get help p...</td>\n",
       "      <td>52</td>\n",
       "      <td>1</td>\n",
       "      <td>False</td>\n",
       "    </tr>\n",
       "    <tr>\n",
       "      <th>860</th>\n",
       "      <td>0</td>\n",
       "      <td>Hey Guys, i am a little bit concerned with the...</td>\n",
       "      <td>µATX Ram clearance concerns with the 3080</td>\n",
       "      <td>1</td>\n",
       "      <td>hey guy littl bit concern clearanc backplat ra...</td>\n",
       "      <td>atx ram clearanc concern</td>\n",
       "      <td>hey guy littl bit concern clearanc backplat ra...</td>\n",
       "      <td>58</td>\n",
       "      <td>1</td>\n",
       "      <td>False</td>\n",
       "    </tr>\n",
       "    <tr>\n",
       "      <th>804</th>\n",
       "      <td>0</td>\n",
       "      <td>Is there an easy way to automate driver instal...</td>\n",
       "      <td>How to automate driver installation?</td>\n",
       "      <td>5</td>\n",
       "      <td>easi way autom driver instal want check everi ...</td>\n",
       "      <td>autom driver instal</td>\n",
       "      <td>easi way autom driver instal want check everi ...</td>\n",
       "      <td>45</td>\n",
       "      <td>1</td>\n",
       "      <td>False</td>\n",
       "    </tr>\n",
       "    <tr>\n",
       "      <th>262</th>\n",
       "      <td>0</td>\n",
       "      <td>Does anyone have any recommendations for an 80...</td>\n",
       "      <td>Budget Suggestions</td>\n",
       "      <td>2</td>\n",
       "      <td>anyon recommend usd desktop budget</td>\n",
       "      <td>budget suggest</td>\n",
       "      <td>anyon recommend usd desktop budget budget suggest</td>\n",
       "      <td>5</td>\n",
       "      <td>1</td>\n",
       "      <td>False</td>\n",
       "    </tr>\n",
       "    <tr>\n",
       "      <th>455</th>\n",
       "      <td>0</td>\n",
       "      <td>I own an older version of the standard nVidia ...</td>\n",
       "      <td>Comparison of new Shield vs. old shield (stand...</td>\n",
       "      <td>5</td>\n",
       "      <td>older version standard shield one look like pr...</td>\n",
       "      <td>comparison new shield vs old shield standard v...</td>\n",
       "      <td>older version standard shield one look like pr...</td>\n",
       "      <td>24</td>\n",
       "      <td>1</td>\n",
       "      <td>False</td>\n",
       "    </tr>\n",
       "    <tr>\n",
       "      <th>1254</th>\n",
       "      <td>0</td>\n",
       "      <td>I know big navi is yet to be announced but I p...</td>\n",
       "      <td>Would it be worth upgrading from an RX 5700 xt...</td>\n",
       "      <td>4</td>\n",
       "      <td>know big navi yet announc play mainli hz k ghz...</td>\n",
       "      <td>would worth upgrad rx xt rtx</td>\n",
       "      <td>know big navi yet announc play mainli hz k ghz...</td>\n",
       "      <td>20</td>\n",
       "      <td>1</td>\n",
       "      <td>False</td>\n",
       "    </tr>\n",
       "    <tr>\n",
       "      <th>562</th>\n",
       "      <td>0</td>\n",
       "      <td>Hi everyone so i was looking at control panel ...</td>\n",
       "      <td>Nvidia control panel questions. (Did my first ...</td>\n",
       "      <td>27</td>\n",
       "      <td>hi everyon look control panel someth caught ey...</td>\n",
       "      <td>control panel question first build week ago im...</td>\n",
       "      <td>hi everyon look control panel someth caught ey...</td>\n",
       "      <td>71</td>\n",
       "      <td>1</td>\n",
       "      <td>False</td>\n",
       "    </tr>\n",
       "    <tr>\n",
       "      <th>189</th>\n",
       "      <td>0</td>\n",
       "      <td>Hey guys,\\n\\nI'm planning to upgrade my gaming...</td>\n",
       "      <td>What upgrade would you recommend?</td>\n",
       "      <td>7</td>\n",
       "      <td>hey guy plan upgrad game rig graphic card end ...</td>\n",
       "      <td>upgrad would recommend</td>\n",
       "      <td>hey guy plan upgrad game rig graphic card end ...</td>\n",
       "      <td>42</td>\n",
       "      <td>1</td>\n",
       "      <td>False</td>\n",
       "    </tr>\n",
       "    <tr>\n",
       "      <th>472</th>\n",
       "      <td>0</td>\n",
       "      <td>I'm using Astros A40 TR with the Mixamp Pro an...</td>\n",
       "      <td>Recording discord audio with Game Capture</td>\n",
       "      <td>1</td>\n",
       "      <td>use astro tr mixamp pro reason game audio chat...</td>\n",
       "      <td>record discord audio game captur</td>\n",
       "      <td>use astro tr mixamp pro reason game audio chat...</td>\n",
       "      <td>36</td>\n",
       "      <td>1</td>\n",
       "      <td>False</td>\n",
       "    </tr>\n",
       "    <tr>\n",
       "      <th>1086</th>\n",
       "      <td>0</td>\n",
       "      <td>Hello, first post here so the deal is my gforc...</td>\n",
       "      <td>Help with Missing GPU on notebook</td>\n",
       "      <td>6</td>\n",
       "      <td>hello first post deal gforc miss devic manag l...</td>\n",
       "      <td>help miss notebook</td>\n",
       "      <td>hello first post deal gforc miss devic manag l...</td>\n",
       "      <td>55</td>\n",
       "      <td>1</td>\n",
       "      <td>False</td>\n",
       "    </tr>\n",
       "    <tr>\n",
       "      <th>1016</th>\n",
       "      <td>0</td>\n",
       "      <td>(ANSWERED)\\n\\nI'm personally a fan of the ASUS...</td>\n",
       "      <td>Gaming Motherboards with 4th Gen PCIe slots?</td>\n",
       "      <td>9</td>\n",
       "      <td>answer person fan asu rog stuff ix hero right ...</td>\n",
       "      <td>game motherboard th gen pcie slot</td>\n",
       "      <td>answer person fan asu rog stuff ix hero right ...</td>\n",
       "      <td>104</td>\n",
       "      <td>1</td>\n",
       "      <td>False</td>\n",
       "    </tr>\n",
       "  </tbody>\n",
       "</table>\n",
       "</div>"
      ],
      "text/plain": [
       "      subreddit                                           selftext  \\\n",
       "345           0  I have Titans with both  90.02.1E.00.02 and  9...   \n",
       "776           0  Hello redditors,\\n\\nSo I currently have a 2060...   \n",
       "484           0  So, I got feeling all nostalgic about video ca...   \n",
       "146           0  I  recently started to stream and i have remad...   \n",
       "800           0  Hello r/nvidia I've recently had a noice payda...   \n",
       "709           0  I’ve never bought a GPU on launch before but a...   \n",
       "860           0  Hey Guys, i am a little bit concerned with the...   \n",
       "804           0  Is there an easy way to automate driver instal...   \n",
       "262           0  Does anyone have any recommendations for an 80...   \n",
       "455           0  I own an older version of the standard nVidia ...   \n",
       "1254          0  I know big navi is yet to be announced but I p...   \n",
       "562           0  Hi everyone so i was looking at control panel ...   \n",
       "189           0  Hey guys,\\n\\nI'm planning to upgrade my gaming...   \n",
       "472           0  I'm using Astros A40 TR with the Mixamp Pro an...   \n",
       "1086          0  Hello, first post here so the deal is my gforc...   \n",
       "1016          0  (ANSWERED)\\n\\nI'm personally a fan of the ASUS...   \n",
       "\n",
       "                                                  title  num_comments  \\\n",
       "345   Is there a reason to upgrade the BIOS on a Tit...             5   \n",
       "776                                   Swapping out gpus            11   \n",
       "484   A Graphic Matrix Of Cards Owned Through The Ye...            20   \n",
       "146                           nvidia game filter in OBS             9   \n",
       "800                                      Upgrading soon             1   \n",
       "709   Should I buy on launch day if I won’t finish m...            12   \n",
       "860           µATX Ram clearance concerns with the 3080             1   \n",
       "804                How to automate driver installation?             5   \n",
       "262                                  Budget Suggestions             2   \n",
       "455   Comparison of new Shield vs. old shield (stand...             5   \n",
       "1254  Would it be worth upgrading from an RX 5700 xt...             4   \n",
       "562   Nvidia control panel questions. (Did my first ...            27   \n",
       "189                   What upgrade would you recommend?             7   \n",
       "472           Recording discord audio with Game Capture             1   \n",
       "1086                  Help with Missing GPU on notebook             6   \n",
       "1016       Gaming Motherboards with 4th Gen PCIe slots?             9   \n",
       "\n",
       "                                         selftext_clean  \\\n",
       "345   titan e reason updat older one slightli newer ...   \n",
       "776   hello redditor current new seri come look upgr...   \n",
       "484   got feel nostalg video card own year decid mak...   \n",
       "146   recent start stream remad game filter set nvdi...   \n",
       "800   hello r recent noic payday think upgrad new se...   \n",
       "709   never bought launch debat time hope get help p...   \n",
       "860   hey guy littl bit concern clearanc backplat ra...   \n",
       "804   easi way autom driver instal want check everi ...   \n",
       "262                  anyon recommend usd desktop budget   \n",
       "455   older version standard shield one look like pr...   \n",
       "1254  know big navi yet announc play mainli hz k ghz...   \n",
       "562   hi everyon look control panel someth caught ey...   \n",
       "189   hey guy plan upgrad game rig graphic card end ...   \n",
       "472   use astro tr mixamp pro reason game audio chat...   \n",
       "1086  hello first post deal gforc miss devic manag l...   \n",
       "1016  answer person fan asu rog stuff ix hero right ...   \n",
       "\n",
       "                                            title_clean  \\\n",
       "345           reason upgrad bio titan rtx newer oem bio   \n",
       "776                                            swap gpu   \n",
       "484                        graphic matrix card own year   \n",
       "146                                      game filter ob   \n",
       "800                                         upgrad soon   \n",
       "709              buy launch day finish build later year   \n",
       "860                            atx ram clearanc concern   \n",
       "804                                 autom driver instal   \n",
       "262                                      budget suggest   \n",
       "455   comparison new shield vs old shield standard v...   \n",
       "1254                       would worth upgrad rx xt rtx   \n",
       "562   control panel question first build week ago im...   \n",
       "189                              upgrad would recommend   \n",
       "472                    record discord audio game captur   \n",
       "1086                                 help miss notebook   \n",
       "1016                  game motherboard th gen pcie slot   \n",
       "\n",
       "                                   selftext_title_clean  selftext_len  pred  \\\n",
       "345   titan e reason updat older one slightli newer ...            22     1   \n",
       "776   hello redditor current new seri come look upgr...            49     1   \n",
       "484   got feel nostalg video card own year decid mak...            45     1   \n",
       "146   recent start stream remad game filter set nvdi...            77     1   \n",
       "800   hello r recent noic payday think upgrad new se...            48     1   \n",
       "709   never bought launch debat time hope get help p...            52     1   \n",
       "860   hey guy littl bit concern clearanc backplat ra...            58     1   \n",
       "804   easi way autom driver instal want check everi ...            45     1   \n",
       "262   anyon recommend usd desktop budget budget suggest             5     1   \n",
       "455   older version standard shield one look like pr...            24     1   \n",
       "1254  know big navi yet announc play mainli hz k ghz...            20     1   \n",
       "562   hi everyon look control panel someth caught ey...            71     1   \n",
       "189   hey guy plan upgrad game rig graphic card end ...            42     1   \n",
       "472   use astro tr mixamp pro reason game audio chat...            36     1   \n",
       "1086  hello first post deal gforc miss devic manag l...            55     1   \n",
       "1016  answer person fan asu rog stuff ix hero right ...           104     1   \n",
       "\n",
       "      correctly_classified  \n",
       "345                  False  \n",
       "776                  False  \n",
       "484                  False  \n",
       "146                  False  \n",
       "800                  False  \n",
       "709                  False  \n",
       "860                  False  \n",
       "804                  False  \n",
       "262                  False  \n",
       "455                  False  \n",
       "1254                 False  \n",
       "562                  False  \n",
       "189                  False  \n",
       "472                  False  \n",
       "1086                 False  \n",
       "1016                 False  "
      ]
     },
     "execution_count": 270,
     "metadata": {},
     "output_type": "execute_result"
    }
   ],
   "source": [
    "test_df.loc[(test_df['correctly_classified']==False) & (test_df['pred']==1)]"
   ]
  },
  {
   "cell_type": "code",
   "execution_count": 271,
   "metadata": {
    "scrolled": true
   },
   "outputs": [
    {
     "data": {
      "text/plain": [
       "\"(ANSWERED)\\n\\nI'm personally a fan of the ASUS ROG stuff.  I have an IX Hero right now which says is 3rd gen PCIe.\\n\\nSo i'm looking at their lineup of latest boards and even the highest end XII Extreme is still only 3rd Generation PCIe.\\n\\nWhen can we expect motherboards to catch up to RTX 3000 cards being built for 4th generation PCIe?  Is there other good quality gaming motherboards that have 4th gen for Intel 10gen CPUs\\n\\n&amp;#x200B;\\n\\nAnswer for those like me wondering why you can't find Intel board with Gen4:\\n\\nIntel 10th gen CPUs don't have support for PCIe gen4 so intel mobo's only have gen3 PCIe.\\n\\nIntel 11th gen CPUs are suppose to have it though.\\n\\nAMD processors have had it for a while so you will find Gen4 PCIe slots on AMD mobos.  \\n\\nSo as of the time of the RTX 3000 card releases, AMD systems will be able to make the most out of those new GPUs.    If you're on Intel,  3000 cards will work in Gen3 ports but i'm not sure at what kind of gaming that extra bandwidth is going to matter like will it really matter for 4K or will it only matter at 8K.  I dunno.\""
      ]
     },
     "execution_count": 271,
     "metadata": {},
     "output_type": "execute_result"
    }
   ],
   "source": [
    "# Example of a misclassified post - predicted to be Amd, when it is actually Nvidia\n",
    "# Notice that the word 'character' appears here - a strong predictive word for Nvidia\n",
    "test_df[test_df['correctly_classified']==False].loc[1016]['selftext']"
   ]
  },
  {
   "cell_type": "markdown",
   "metadata": {},
   "source": [
    "\n",
    "- Words like |**'gen' and 'card'**| are strong predictive words for class 1. As these are the top words appearing in these documents, our model has misclassified these documents to be in Amd, when they are in fact belonging to Nvidia.\n",
    "- Misclassifications could be reduced if the model was trained on more subreddit posts."
   ]
  },
  {
   "cell_type": "code",
   "execution_count": 282,
   "metadata": {
    "scrolled": true
   },
   "outputs": [
    {
     "data": {
      "image/png": "[encoded data removed]",
      "text/plain": [
       "<Figure size 720x576 with 1 Axes>"
      ]
     },
     "metadata": {
      "needs_background": "light"
     },
     "output_type": "display_data"
    }
   ],
   "source": [
    "barplot_cvec(pred=0, title='Top words (Predicted to be Nvidia, when it is Amd)', color='#EB984E')"
   ]
  },
  {
   "cell_type": "markdown",
   "metadata": {},
   "source": [
    "## Conclusion and Recommendations¶\n",
    "In order to classify the subreddits Nvidia and AMD-  the data science team at Netflix built 4 models \n",
    "- Count Vectorizer & Logistic Regression, TF-IDF & Logistic Regression, CountVectorizer & Naive Bayes and TF-IDF & Naive Bayes. After fine-tuning the hyperparameters of our models, the CountVectorizer & Logistic Regression  classifier was selected on the basis of its high accuracy and high AUC scores. The model achieved an accuracy of 0.89 on the test set, outperforming the baseline score of 0.587. The model achieved accuracty of 0.89 and ROC AUC of 0.884. \n",
    "\n",
    "\n",
    " Due to some internal system failure caused the data of posts to get mixed up and loose the classification. Given that the team has managed to build a classification model, Nvidia product managers can now look back at the database and safely identify posts which belong to Nvidia or Amd. This keeps product managers well-informed on what content are coming from Amd or Nvidia posts.  A better understanding of customer discussion of likes and dislikes will help the team to make a better decision on improvement of next generation of GPU. \n",
    "\n",
    "|**Improvements**|: \n",
    "\n",
    "- In order to reduce misclassification, we can collect more training data to make better train the model \n",
    "- Once more data is obtained, other classification models like SVM, KNN and Random Forests can be used. \n",
    "- We can try using other hyperparameters to improve the accuracy and AUC ROC score"
   ]
  }
 ],
 "metadata": {
  "kernelspec": {
   "display_name": "Python 3",
   "language": "python",
   "name": "python3"
  },
  "language_info": {
   "codemirror_mode": {
    "name": "ipython",
    "version": 3
   },
   "file_extension": ".py",
   "mimetype": "text/x-python",
   "name": "python",
   "nbconvert_exporter": "python",
   "pygments_lexer": "ipython3",
   "version": "3.8.3"
  }
 },
 "nbformat": 4,
 "nbformat_minor": 4
}
