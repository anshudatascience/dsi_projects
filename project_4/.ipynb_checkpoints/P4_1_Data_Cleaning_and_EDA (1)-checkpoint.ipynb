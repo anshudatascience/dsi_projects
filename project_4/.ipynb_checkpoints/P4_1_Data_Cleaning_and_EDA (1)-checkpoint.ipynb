{
 "cells": [
  {
   "cell_type": "markdown",
   "metadata": {},
   "source": [
    "# DSI Project 4: West Nile Virus Prediction"
   ]
  },
  {
   "cell_type": "markdown",
   "metadata": {},
   "source": [
    "## Background"
   ]
  },
  {
   "cell_type": "markdown",
   "metadata": {},
   "source": [
    "[**West Nile virus**](https://www.cdc.gov/westnile/) is most commonly spread to humans through infected mosquitos. Around 20% of people who become infected with the virus develop symptoms ranging from a persistent fever, to serious neurological illnesses that can result in death.\n",
    "\n",
    "In 2002, the first human cases of West Nile virus were reported in Chicago. By 2004 the City of Chicago and the Chicago Department of Public Health (CDPH) had established a comprehensive surveillance and control program that is still in effect today.\n",
    "\n",
    "Every week from late spring through the fall, mosquitos in traps across the city are tested for the virus. The results of these tests influence when and where the city will spray airborne pesticides to control adult mosquito populations.\n",
    "\n",
    "source: [kaggle](https://www.kaggle.com/c/predict-west-nile-virus/overview)"
   ]
  },
  {
   "cell_type": "markdown",
   "metadata": {},
   "source": [
    "## Problem Statement"
   ]
  },
  {
   "cell_type": "markdown",
   "metadata": {},
   "source": [
    "Due to a recent outbreak of the West Nile Virus in the city of Chicago, our Data Science team at the Disease and Treatment Agency has been tasked by the Centers for Disease Control (CDC) to develop a strategy to deploy the effective use of pesticides, by targeting spraying of pesticides to areas of high risk will help to mitigate future outbreaks.\n",
    "\n",
    "Leveraging on weather, location, mosquito population and spraying data, the team will develop a binary classification model to predict the presence of the West Nile Virus in the city of Chicago. \n",
    "\n",
    "The model that achieves the highest ROC AUC score on the validation data set, will be selected as our production model. "
   ]
  },
  {
   "cell_type": "markdown",
   "metadata": {},
   "source": [
    "## Data Cleaning"
   ]
  },
  {
   "cell_type": "code",
   "execution_count": 1,
   "metadata": {},
   "outputs": [],
   "source": [
    "# import libraries\n",
    "import pandas as pd\n",
    "import numpy as np\n",
    "import seaborn as sns\n",
    "import matplotlib.pyplot as plt\n",
    "import missingno as msno\n",
    "import plotly.express as px\n",
    "\n",
    "from math import radians, degrees, sin, cos, asin, acos, sqrt\n",
    "\n",
    "pd.set_option('max_columns', None)\n",
    "pd.set_option('max_rows', None)\n",
    "\n",
    "plt.style.use('seaborn-muted')\n",
    "sns.set_style(style='white')\n",
    "\n",
    "%matplotlib inline"
   ]
  },
  {
   "cell_type": "code",
   "execution_count": 2,
   "metadata": {},
   "outputs": [],
   "source": [
    "# load datasets \n",
    "train = pd.read_csv('./data/train.csv', parse_dates=['Date'])\n",
    "test = pd.read_csv('./data/test.csv', parse_dates=['Date'])\n",
    "spray = pd.read_csv('./data/spray.csv', parse_dates=['Date'])\n",
    "weather = pd.read_csv('./data/weather.csv', parse_dates=['Date'])"
   ]
  },
  {
   "cell_type": "code",
   "execution_count": 3,
   "metadata": {},
   "outputs": [],
   "source": [
    "# define a function for intial exploration of dataset\n",
    "\n",
    "def data_exploration(df_name, df):\n",
    "    \"\"\"\n",
    "    function to perform initial data exploration to check for \n",
    "    dataframe shape, datatype, null values and duplicates\n",
    "    \n",
    "    \"\"\"\n",
    "    print(f\"DATASET: {df_name}\")\n",
    "    print(\"-------------------------------------\")\n",
    "    print(\"First 3 rows of dataset:\")\n",
    "    display(df.head(3))\n",
    "    print(\"\\n\")\n",
    "    # check shape of dataframe\n",
    "    print(f\"Shape of dataset: {df.shape}\")\n",
    "    print(\"\\n\")\n",
    "    # check datatypes\n",
    "    print(\"Columns & data types: \")\n",
    "    df.info()\n",
    "    print(\"\\n\")\n",
    "    # check for null values\n",
    "    print(\"Null values: \")\n",
    "    if df.isnull().sum().sum() == 0:\n",
    "        print(\"No null value\")\n",
    "    else:\n",
    "        for col in df:\n",
    "            print(f\"{col}: {df[col].isnull().sum()}\")\n",
    "    print(\"\\n\")\n",
    "    # check for duplicates\n",
    "    if df.duplicated(subset=None, keep='first').any() == False:\n",
    "        print(\"No duplicated row\")\n",
    "    else:\n",
    "        duplicates = df[df.duplicated(subset=None, keep='first')]\n",
    "        print(f\"{len(duplicates)} duplicated rows in dataset.\")"
   ]
  },
  {
   "cell_type": "markdown",
   "metadata": {},
   "source": [
    "### Main Dataset - Train data set"
   ]
  },
  {
   "cell_type": "code",
   "execution_count": 4,
   "metadata": {},
   "outputs": [
    {
     "name": "stdout",
     "output_type": "stream",
     "text": [
      "DATASET: Main dataset - Train\n",
      "-------------------------------------\n",
      "First 3 rows of dataset:\n"
     ]
    },
    {
     "data": {
      "text/html": [
       "<div>\n",
       "<style scoped>\n",
       "    .dataframe tbody tr th:only-of-type {\n",
       "        vertical-align: middle;\n",
       "    }\n",
       "\n",
       "    .dataframe tbody tr th {\n",
       "        vertical-align: top;\n",
       "    }\n",
       "\n",
       "    .dataframe thead th {\n",
       "        text-align: right;\n",
       "    }\n",
       "</style>\n",
       "<table border=\"1\" class=\"dataframe\">\n",
       "  <thead>\n",
       "    <tr style=\"text-align: right;\">\n",
       "      <th></th>\n",
       "      <th>Date</th>\n",
       "      <th>Address</th>\n",
       "      <th>Species</th>\n",
       "      <th>Block</th>\n",
       "      <th>Street</th>\n",
       "      <th>Trap</th>\n",
       "      <th>AddressNumberAndStreet</th>\n",
       "      <th>Latitude</th>\n",
       "      <th>Longitude</th>\n",
       "      <th>AddressAccuracy</th>\n",
       "      <th>NumMosquitos</th>\n",
       "      <th>WnvPresent</th>\n",
       "    </tr>\n",
       "  </thead>\n",
       "  <tbody>\n",
       "    <tr>\n",
       "      <th>0</th>\n",
       "      <td>2007-05-29</td>\n",
       "      <td>4100 North Oak Park Avenue, Chicago, IL 60634,...</td>\n",
       "      <td>CULEX PIPIENS/RESTUANS</td>\n",
       "      <td>41</td>\n",
       "      <td>N OAK PARK AVE</td>\n",
       "      <td>T002</td>\n",
       "      <td>4100  N OAK PARK AVE, Chicago, IL</td>\n",
       "      <td>41.954690</td>\n",
       "      <td>-87.800991</td>\n",
       "      <td>9</td>\n",
       "      <td>1</td>\n",
       "      <td>0</td>\n",
       "    </tr>\n",
       "    <tr>\n",
       "      <th>1</th>\n",
       "      <td>2007-05-29</td>\n",
       "      <td>4100 North Oak Park Avenue, Chicago, IL 60634,...</td>\n",
       "      <td>CULEX RESTUANS</td>\n",
       "      <td>41</td>\n",
       "      <td>N OAK PARK AVE</td>\n",
       "      <td>T002</td>\n",
       "      <td>4100  N OAK PARK AVE, Chicago, IL</td>\n",
       "      <td>41.954690</td>\n",
       "      <td>-87.800991</td>\n",
       "      <td>9</td>\n",
       "      <td>1</td>\n",
       "      <td>0</td>\n",
       "    </tr>\n",
       "    <tr>\n",
       "      <th>2</th>\n",
       "      <td>2007-05-29</td>\n",
       "      <td>6200 North Mandell Avenue, Chicago, IL 60646, USA</td>\n",
       "      <td>CULEX RESTUANS</td>\n",
       "      <td>62</td>\n",
       "      <td>N MANDELL AVE</td>\n",
       "      <td>T007</td>\n",
       "      <td>6200  N MANDELL AVE, Chicago, IL</td>\n",
       "      <td>41.994991</td>\n",
       "      <td>-87.769279</td>\n",
       "      <td>9</td>\n",
       "      <td>1</td>\n",
       "      <td>0</td>\n",
       "    </tr>\n",
       "  </tbody>\n",
       "</table>\n",
       "</div>"
      ],
      "text/plain": [
       "        Date                                            Address  \\\n",
       "0 2007-05-29  4100 North Oak Park Avenue, Chicago, IL 60634,...   \n",
       "1 2007-05-29  4100 North Oak Park Avenue, Chicago, IL 60634,...   \n",
       "2 2007-05-29  6200 North Mandell Avenue, Chicago, IL 60646, USA   \n",
       "\n",
       "                  Species  Block           Street  Trap  \\\n",
       "0  CULEX PIPIENS/RESTUANS     41   N OAK PARK AVE  T002   \n",
       "1          CULEX RESTUANS     41   N OAK PARK AVE  T002   \n",
       "2          CULEX RESTUANS     62    N MANDELL AVE  T007   \n",
       "\n",
       "              AddressNumberAndStreet   Latitude  Longitude  AddressAccuracy  \\\n",
       "0  4100  N OAK PARK AVE, Chicago, IL  41.954690 -87.800991                9   \n",
       "1  4100  N OAK PARK AVE, Chicago, IL  41.954690 -87.800991                9   \n",
       "2   6200  N MANDELL AVE, Chicago, IL  41.994991 -87.769279                9   \n",
       "\n",
       "   NumMosquitos  WnvPresent  \n",
       "0             1           0  \n",
       "1             1           0  \n",
       "2             1           0  "
      ]
     },
     "metadata": {},
     "output_type": "display_data"
    },
    {
     "name": "stdout",
     "output_type": "stream",
     "text": [
      "\n",
      "\n",
      "Shape of dataset: (10506, 12)\n",
      "\n",
      "\n",
      "Columns & data types: \n",
      "<class 'pandas.core.frame.DataFrame'>\n",
      "RangeIndex: 10506 entries, 0 to 10505\n",
      "Data columns (total 12 columns):\n",
      " #   Column                  Non-Null Count  Dtype         \n",
      "---  ------                  --------------  -----         \n",
      " 0   Date                    10506 non-null  datetime64[ns]\n",
      " 1   Address                 10506 non-null  object        \n",
      " 2   Species                 10506 non-null  object        \n",
      " 3   Block                   10506 non-null  int64         \n",
      " 4   Street                  10506 non-null  object        \n",
      " 5   Trap                    10506 non-null  object        \n",
      " 6   AddressNumberAndStreet  10506 non-null  object        \n",
      " 7   Latitude                10506 non-null  float64       \n",
      " 8   Longitude               10506 non-null  float64       \n",
      " 9   AddressAccuracy         10506 non-null  int64         \n",
      " 10  NumMosquitos            10506 non-null  int64         \n",
      " 11  WnvPresent              10506 non-null  int64         \n",
      "dtypes: datetime64[ns](1), float64(2), int64(4), object(5)\n",
      "memory usage: 985.1+ KB\n",
      "\n",
      "\n",
      "Null values: \n",
      "No null value\n",
      "\n",
      "\n",
      "813 duplicated rows in dataset.\n"
     ]
    }
   ],
   "source": [
    "data_exploration('Main dataset - Train', train)"
   ]
  },
  {
   "cell_type": "markdown",
   "metadata": {},
   "source": [
    "**Observation on Train dataset:**\n",
    "\n",
    "* No null values\n",
    "* Correct data types\n",
    "* 813 duplicated rows "
   ]
  },
  {
   "cell_type": "markdown",
   "metadata": {},
   "source": [
    "Let's take a closer look at the duplicated rows."
   ]
  },
  {
   "cell_type": "code",
   "execution_count": 5,
   "metadata": {
    "scrolled": true
   },
   "outputs": [
    {
     "data": {
      "text/html": [
       "<div>\n",
       "<style scoped>\n",
       "    .dataframe tbody tr th:only-of-type {\n",
       "        vertical-align: middle;\n",
       "    }\n",
       "\n",
       "    .dataframe tbody tr th {\n",
       "        vertical-align: top;\n",
       "    }\n",
       "\n",
       "    .dataframe thead th {\n",
       "        text-align: right;\n",
       "    }\n",
       "</style>\n",
       "<table border=\"1\" class=\"dataframe\">\n",
       "  <thead>\n",
       "    <tr style=\"text-align: right;\">\n",
       "      <th></th>\n",
       "      <th>Date</th>\n",
       "      <th>Address</th>\n",
       "      <th>Species</th>\n",
       "      <th>Block</th>\n",
       "      <th>Street</th>\n",
       "      <th>Trap</th>\n",
       "      <th>AddressNumberAndStreet</th>\n",
       "      <th>Latitude</th>\n",
       "      <th>Longitude</th>\n",
       "      <th>AddressAccuracy</th>\n",
       "      <th>NumMosquitos</th>\n",
       "      <th>WnvPresent</th>\n",
       "    </tr>\n",
       "  </thead>\n",
       "  <tbody>\n",
       "    <tr>\n",
       "      <th>1122</th>\n",
       "      <td>2007-08-01</td>\n",
       "      <td>1000 East 67th Street, Chicago, IL 60637, USA</td>\n",
       "      <td>CULEX RESTUANS</td>\n",
       "      <td>10</td>\n",
       "      <td>E 67TH ST</td>\n",
       "      <td>T073</td>\n",
       "      <td>1000  E 67TH ST, Chicago, IL</td>\n",
       "      <td>41.773215</td>\n",
       "      <td>-87.600880</td>\n",
       "      <td>8</td>\n",
       "      <td>1</td>\n",
       "      <td>0</td>\n",
       "    </tr>\n",
       "    <tr>\n",
       "      <th>1124</th>\n",
       "      <td>2007-08-01</td>\n",
       "      <td>1000 East 67th Street, Chicago, IL 60637, USA</td>\n",
       "      <td>CULEX PIPIENS</td>\n",
       "      <td>10</td>\n",
       "      <td>E 67TH ST</td>\n",
       "      <td>T073</td>\n",
       "      <td>1000  E 67TH ST, Chicago, IL</td>\n",
       "      <td>41.773215</td>\n",
       "      <td>-87.600880</td>\n",
       "      <td>8</td>\n",
       "      <td>1</td>\n",
       "      <td>0</td>\n",
       "    </tr>\n",
       "    <tr>\n",
       "      <th>1039</th>\n",
       "      <td>2007-08-01</td>\n",
       "      <td>1000 North Central Park Avenue, Chicago, IL 60...</td>\n",
       "      <td>CULEX PIPIENS</td>\n",
       "      <td>10</td>\n",
       "      <td>N CENTRAL PARK DR</td>\n",
       "      <td>T030</td>\n",
       "      <td>1000  N CENTRAL PARK DR, Chicago, IL</td>\n",
       "      <td>41.899230</td>\n",
       "      <td>-87.716788</td>\n",
       "      <td>9</td>\n",
       "      <td>1</td>\n",
       "      <td>0</td>\n",
       "    </tr>\n",
       "    <tr>\n",
       "      <th>2301</th>\n",
       "      <td>2007-08-21</td>\n",
       "      <td>1000 North Central Park Avenue, Chicago, IL 60...</td>\n",
       "      <td>CULEX PIPIENS</td>\n",
       "      <td>10</td>\n",
       "      <td>N CENTRAL PARK DR</td>\n",
       "      <td>T030</td>\n",
       "      <td>1000  N CENTRAL PARK DR, Chicago, IL</td>\n",
       "      <td>41.899230</td>\n",
       "      <td>-87.716788</td>\n",
       "      <td>9</td>\n",
       "      <td>1</td>\n",
       "      <td>0</td>\n",
       "    </tr>\n",
       "    <tr>\n",
       "      <th>8909</th>\n",
       "      <td>2013-07-19</td>\n",
       "      <td>1000 North Central Park Avenue, Chicago, IL 60...</td>\n",
       "      <td>CULEX PIPIENS/RESTUANS</td>\n",
       "      <td>10</td>\n",
       "      <td>N CENTRAL PARK DR</td>\n",
       "      <td>T030</td>\n",
       "      <td>1000  N CENTRAL PARK DR, Chicago, IL</td>\n",
       "      <td>41.899230</td>\n",
       "      <td>-87.716788</td>\n",
       "      <td>9</td>\n",
       "      <td>50</td>\n",
       "      <td>0</td>\n",
       "    </tr>\n",
       "    <tr>\n",
       "      <th>8911</th>\n",
       "      <td>2013-07-19</td>\n",
       "      <td>1000 North Central Park Avenue, Chicago, IL 60...</td>\n",
       "      <td>CULEX PIPIENS/RESTUANS</td>\n",
       "      <td>10</td>\n",
       "      <td>N CENTRAL PARK DR</td>\n",
       "      <td>T030</td>\n",
       "      <td>1000  N CENTRAL PARK DR, Chicago, IL</td>\n",
       "      <td>41.899230</td>\n",
       "      <td>-87.716788</td>\n",
       "      <td>9</td>\n",
       "      <td>50</td>\n",
       "      <td>0</td>\n",
       "    </tr>\n",
       "    <tr>\n",
       "      <th>8914</th>\n",
       "      <td>2013-07-19</td>\n",
       "      <td>1000 North Central Park Avenue, Chicago, IL 60...</td>\n",
       "      <td>CULEX PIPIENS/RESTUANS</td>\n",
       "      <td>10</td>\n",
       "      <td>N CENTRAL PARK DR</td>\n",
       "      <td>T030</td>\n",
       "      <td>1000  N CENTRAL PARK DR, Chicago, IL</td>\n",
       "      <td>41.899230</td>\n",
       "      <td>-87.716788</td>\n",
       "      <td>9</td>\n",
       "      <td>50</td>\n",
       "      <td>0</td>\n",
       "    </tr>\n",
       "    <tr>\n",
       "      <th>8917</th>\n",
       "      <td>2013-07-19</td>\n",
       "      <td>1000 North Central Park Avenue, Chicago, IL 60...</td>\n",
       "      <td>CULEX RESTUANS</td>\n",
       "      <td>10</td>\n",
       "      <td>N CENTRAL PARK DR</td>\n",
       "      <td>T030</td>\n",
       "      <td>1000  N CENTRAL PARK DR, Chicago, IL</td>\n",
       "      <td>41.899230</td>\n",
       "      <td>-87.716788</td>\n",
       "      <td>9</td>\n",
       "      <td>50</td>\n",
       "      <td>0</td>\n",
       "    </tr>\n",
       "    <tr>\n",
       "      <th>1018</th>\n",
       "      <td>2007-08-01</td>\n",
       "      <td>1000 South California Avenue, Chicago, IL 6061...</td>\n",
       "      <td>CULEX PIPIENS/RESTUANS</td>\n",
       "      <td>10</td>\n",
       "      <td>S CALIFORNIA AVE</td>\n",
       "      <td>T088</td>\n",
       "      <td>1000  S CALIFORNIA AVE, Chicago, IL</td>\n",
       "      <td>41.869107</td>\n",
       "      <td>-87.696293</td>\n",
       "      <td>9</td>\n",
       "      <td>3</td>\n",
       "      <td>0</td>\n",
       "    </tr>\n",
       "    <tr>\n",
       "      <th>1019</th>\n",
       "      <td>2007-08-01</td>\n",
       "      <td>1000 South California Avenue, Chicago, IL 6061...</td>\n",
       "      <td>CULEX PIPIENS/RESTUANS</td>\n",
       "      <td>10</td>\n",
       "      <td>S CALIFORNIA AVE</td>\n",
       "      <td>T088</td>\n",
       "      <td>1000  S CALIFORNIA AVE, Chicago, IL</td>\n",
       "      <td>41.869107</td>\n",
       "      <td>-87.696293</td>\n",
       "      <td>9</td>\n",
       "      <td>3</td>\n",
       "      <td>0</td>\n",
       "    </tr>\n",
       "  </tbody>\n",
       "</table>\n",
       "</div>"
      ],
      "text/plain": [
       "           Date                                            Address  \\\n",
       "1122 2007-08-01      1000 East 67th Street, Chicago, IL 60637, USA   \n",
       "1124 2007-08-01      1000 East 67th Street, Chicago, IL 60637, USA   \n",
       "1039 2007-08-01  1000 North Central Park Avenue, Chicago, IL 60...   \n",
       "2301 2007-08-21  1000 North Central Park Avenue, Chicago, IL 60...   \n",
       "8909 2013-07-19  1000 North Central Park Avenue, Chicago, IL 60...   \n",
       "8911 2013-07-19  1000 North Central Park Avenue, Chicago, IL 60...   \n",
       "8914 2013-07-19  1000 North Central Park Avenue, Chicago, IL 60...   \n",
       "8917 2013-07-19  1000 North Central Park Avenue, Chicago, IL 60...   \n",
       "1018 2007-08-01  1000 South California Avenue, Chicago, IL 6061...   \n",
       "1019 2007-08-01  1000 South California Avenue, Chicago, IL 6061...   \n",
       "\n",
       "                     Species  Block              Street  Trap  \\\n",
       "1122          CULEX RESTUANS     10           E 67TH ST  T073   \n",
       "1124           CULEX PIPIENS     10           E 67TH ST  T073   \n",
       "1039           CULEX PIPIENS     10   N CENTRAL PARK DR  T030   \n",
       "2301           CULEX PIPIENS     10   N CENTRAL PARK DR  T030   \n",
       "8909  CULEX PIPIENS/RESTUANS     10   N CENTRAL PARK DR  T030   \n",
       "8911  CULEX PIPIENS/RESTUANS     10   N CENTRAL PARK DR  T030   \n",
       "8914  CULEX PIPIENS/RESTUANS     10   N CENTRAL PARK DR  T030   \n",
       "8917          CULEX RESTUANS     10   N CENTRAL PARK DR  T030   \n",
       "1018  CULEX PIPIENS/RESTUANS     10    S CALIFORNIA AVE  T088   \n",
       "1019  CULEX PIPIENS/RESTUANS     10    S CALIFORNIA AVE  T088   \n",
       "\n",
       "                    AddressNumberAndStreet   Latitude  Longitude  \\\n",
       "1122          1000  E 67TH ST, Chicago, IL  41.773215 -87.600880   \n",
       "1124          1000  E 67TH ST, Chicago, IL  41.773215 -87.600880   \n",
       "1039  1000  N CENTRAL PARK DR, Chicago, IL  41.899230 -87.716788   \n",
       "2301  1000  N CENTRAL PARK DR, Chicago, IL  41.899230 -87.716788   \n",
       "8909  1000  N CENTRAL PARK DR, Chicago, IL  41.899230 -87.716788   \n",
       "8911  1000  N CENTRAL PARK DR, Chicago, IL  41.899230 -87.716788   \n",
       "8914  1000  N CENTRAL PARK DR, Chicago, IL  41.899230 -87.716788   \n",
       "8917  1000  N CENTRAL PARK DR, Chicago, IL  41.899230 -87.716788   \n",
       "1018   1000  S CALIFORNIA AVE, Chicago, IL  41.869107 -87.696293   \n",
       "1019   1000  S CALIFORNIA AVE, Chicago, IL  41.869107 -87.696293   \n",
       "\n",
       "      AddressAccuracy  NumMosquitos  WnvPresent  \n",
       "1122                8             1           0  \n",
       "1124                8             1           0  \n",
       "1039                9             1           0  \n",
       "2301                9             1           0  \n",
       "8909                9            50           0  \n",
       "8911                9            50           0  \n",
       "8914                9            50           0  \n",
       "8917                9            50           0  \n",
       "1018                9             3           0  \n",
       "1019                9             3           0  "
      ]
     },
     "execution_count": 5,
     "metadata": {},
     "output_type": "execute_result"
    }
   ],
   "source": [
    "train[train.duplicated(subset=None)].sort_values(['Address', 'Date']).head(10)"
   ]
  },
  {
   "cell_type": "markdown",
   "metadata": {},
   "source": [
    "Duplicates seem to arise from cases where trap in the same location have multiple records on the same day. However, we need to be careful in dropping the duplicates because the data are organized in such a way that when the number of mosquitos exceed 50, they are split into another record (another row in the dataset), such that the number of mosquitos are capped at 50. \n",
    "\n",
    "One way to handle this is to sum the number of mosquitoes for records where the Date, Species, Trap, Latitude and Longitude are the same.\n",
    "\n",
    "To do that, we will first drop the Address columns (since we will base on Latitude and Longitude instead)."
   ]
  },
  {
   "cell_type": "code",
   "execution_count": 6,
   "metadata": {},
   "outputs": [],
   "source": [
    "train.drop(['Address', 'Block', 'Street', 'AddressNumberAndStreet', 'AddressAccuracy'], \n",
    "           axis=1, inplace=True)"
   ]
  },
  {
   "cell_type": "markdown",
   "metadata": {},
   "source": [
    "Then, we will group the records by Date, Species, Trap, Latitude and Longitude "
   ]
  },
  {
   "cell_type": "code",
   "execution_count": 7,
   "metadata": {},
   "outputs": [],
   "source": [
    "# keep a copy of original train dataframe\n",
    "train_original = train.copy()"
   ]
  },
  {
   "cell_type": "code",
   "execution_count": 8,
   "metadata": {},
   "outputs": [],
   "source": [
    "# aggregate the duplicated rows\n",
    "train = train.groupby(['Date', 'Species', 'Trap', 'Latitude', 'Longitude']).sum().reset_index()\n",
    "train['WnvPresent'] = (train['WnvPresent'] > 0).astype(int)"
   ]
  },
  {
   "cell_type": "code",
   "execution_count": 9,
   "metadata": {
    "scrolled": true
   },
   "outputs": [
    {
     "data": {
      "text/html": [
       "<div>\n",
       "<style scoped>\n",
       "    .dataframe tbody tr th:only-of-type {\n",
       "        vertical-align: middle;\n",
       "    }\n",
       "\n",
       "    .dataframe tbody tr th {\n",
       "        vertical-align: top;\n",
       "    }\n",
       "\n",
       "    .dataframe thead th {\n",
       "        text-align: right;\n",
       "    }\n",
       "</style>\n",
       "<table border=\"1\" class=\"dataframe\">\n",
       "  <thead>\n",
       "    <tr style=\"text-align: right;\">\n",
       "      <th></th>\n",
       "      <th>count</th>\n",
       "      <th>mean</th>\n",
       "      <th>std</th>\n",
       "      <th>min</th>\n",
       "      <th>25%</th>\n",
       "      <th>50%</th>\n",
       "      <th>75%</th>\n",
       "      <th>max</th>\n",
       "    </tr>\n",
       "  </thead>\n",
       "  <tbody>\n",
       "    <tr>\n",
       "      <th>Latitude</th>\n",
       "      <td>8475.0</td>\n",
       "      <td>41.844618</td>\n",
       "      <td>0.106609</td>\n",
       "      <td>41.644612</td>\n",
       "      <td>41.750498</td>\n",
       "      <td>41.857402</td>\n",
       "      <td>41.944869</td>\n",
       "      <td>42.017430</td>\n",
       "    </tr>\n",
       "    <tr>\n",
       "      <th>Longitude</th>\n",
       "      <td>8475.0</td>\n",
       "      <td>-87.694788</td>\n",
       "      <td>0.084063</td>\n",
       "      <td>-87.930995</td>\n",
       "      <td>-87.752329</td>\n",
       "      <td>-87.694991</td>\n",
       "      <td>-87.642984</td>\n",
       "      <td>-87.531635</td>\n",
       "    </tr>\n",
       "    <tr>\n",
       "      <th>NumMosquitos</th>\n",
       "      <td>8475.0</td>\n",
       "      <td>15.933805</td>\n",
       "      <td>75.084707</td>\n",
       "      <td>1.000000</td>\n",
       "      <td>2.000000</td>\n",
       "      <td>4.000000</td>\n",
       "      <td>11.000000</td>\n",
       "      <td>2532.000000</td>\n",
       "    </tr>\n",
       "    <tr>\n",
       "      <th>WnvPresent</th>\n",
       "      <td>8475.0</td>\n",
       "      <td>0.053923</td>\n",
       "      <td>0.225880</td>\n",
       "      <td>0.000000</td>\n",
       "      <td>0.000000</td>\n",
       "      <td>0.000000</td>\n",
       "      <td>0.000000</td>\n",
       "      <td>1.000000</td>\n",
       "    </tr>\n",
       "  </tbody>\n",
       "</table>\n",
       "</div>"
      ],
      "text/plain": [
       "               count       mean        std        min        25%        50%  \\\n",
       "Latitude      8475.0  41.844618   0.106609  41.644612  41.750498  41.857402   \n",
       "Longitude     8475.0 -87.694788   0.084063 -87.930995 -87.752329 -87.694991   \n",
       "NumMosquitos  8475.0  15.933805  75.084707   1.000000   2.000000   4.000000   \n",
       "WnvPresent    8475.0   0.053923   0.225880   0.000000   0.000000   0.000000   \n",
       "\n",
       "                    75%          max  \n",
       "Latitude      41.944869    42.017430  \n",
       "Longitude    -87.642984   -87.531635  \n",
       "NumMosquitos  11.000000  2532.000000  \n",
       "WnvPresent     0.000000     1.000000  "
      ]
     },
     "execution_count": 9,
     "metadata": {},
     "output_type": "execute_result"
    }
   ],
   "source": [
    "train.describe().T"
   ]
  },
  {
   "cell_type": "markdown",
   "metadata": {},
   "source": [
    "The Latitude and Longitude range in the train dataset seems to be within range.\n",
    "\n",
    "The maximum number of mosquitos seem high. Let's check."
   ]
  },
  {
   "cell_type": "code",
   "execution_count": 10,
   "metadata": {},
   "outputs": [
    {
     "data": {
      "text/html": [
       "<div>\n",
       "<style scoped>\n",
       "    .dataframe tbody tr th:only-of-type {\n",
       "        vertical-align: middle;\n",
       "    }\n",
       "\n",
       "    .dataframe tbody tr th {\n",
       "        vertical-align: top;\n",
       "    }\n",
       "\n",
       "    .dataframe thead th {\n",
       "        text-align: right;\n",
       "    }\n",
       "</style>\n",
       "<table border=\"1\" class=\"dataframe\">\n",
       "  <thead>\n",
       "    <tr style=\"text-align: right;\">\n",
       "      <th></th>\n",
       "      <th>Date</th>\n",
       "      <th>Species</th>\n",
       "      <th>Trap</th>\n",
       "      <th>Latitude</th>\n",
       "      <th>Longitude</th>\n",
       "      <th>NumMosquitos</th>\n",
       "      <th>WnvPresent</th>\n",
       "    </tr>\n",
       "  </thead>\n",
       "  <tbody>\n",
       "    <tr>\n",
       "      <th>564</th>\n",
       "      <td>2007-07-25</td>\n",
       "      <td>CULEX PIPIENS</td>\n",
       "      <td>T115</td>\n",
       "      <td>41.673408</td>\n",
       "      <td>-87.599862</td>\n",
       "      <td>2356</td>\n",
       "      <td>1</td>\n",
       "    </tr>\n",
       "    <tr>\n",
       "      <th>722</th>\n",
       "      <td>2007-08-01</td>\n",
       "      <td>CULEX PIPIENS</td>\n",
       "      <td>T115</td>\n",
       "      <td>41.673408</td>\n",
       "      <td>-87.599862</td>\n",
       "      <td>1543</td>\n",
       "      <td>0</td>\n",
       "    </tr>\n",
       "    <tr>\n",
       "      <th>1188</th>\n",
       "      <td>2007-08-08</td>\n",
       "      <td>CULEX PIPIENS</td>\n",
       "      <td>T115</td>\n",
       "      <td>41.673408</td>\n",
       "      <td>-87.599862</td>\n",
       "      <td>1310</td>\n",
       "      <td>1</td>\n",
       "    </tr>\n",
       "    <tr>\n",
       "      <th>1190</th>\n",
       "      <td>2007-08-08</td>\n",
       "      <td>CULEX PIPIENS</td>\n",
       "      <td>T138</td>\n",
       "      <td>41.726465</td>\n",
       "      <td>-87.585413</td>\n",
       "      <td>1658</td>\n",
       "      <td>1</td>\n",
       "    </tr>\n",
       "    <tr>\n",
       "      <th>1450</th>\n",
       "      <td>2007-08-16</td>\n",
       "      <td>CULEX PIPIENS</td>\n",
       "      <td>T115</td>\n",
       "      <td>41.673408</td>\n",
       "      <td>-87.599862</td>\n",
       "      <td>2532</td>\n",
       "      <td>1</td>\n",
       "    </tr>\n",
       "    <tr>\n",
       "      <th>1666</th>\n",
       "      <td>2007-08-22</td>\n",
       "      <td>CULEX PIPIENS</td>\n",
       "      <td>T115</td>\n",
       "      <td>41.673408</td>\n",
       "      <td>-87.599862</td>\n",
       "      <td>1554</td>\n",
       "      <td>1</td>\n",
       "    </tr>\n",
       "    <tr>\n",
       "      <th>1669</th>\n",
       "      <td>2007-08-22</td>\n",
       "      <td>CULEX PIPIENS</td>\n",
       "      <td>T138</td>\n",
       "      <td>41.726465</td>\n",
       "      <td>-87.585413</td>\n",
       "      <td>1054</td>\n",
       "      <td>1</td>\n",
       "    </tr>\n",
       "    <tr>\n",
       "      <th>1897</th>\n",
       "      <td>2007-08-28</td>\n",
       "      <td>CULEX PIPIENS</td>\n",
       "      <td>T115</td>\n",
       "      <td>41.673408</td>\n",
       "      <td>-87.599862</td>\n",
       "      <td>2207</td>\n",
       "      <td>1</td>\n",
       "    </tr>\n",
       "    <tr>\n",
       "      <th>2032</th>\n",
       "      <td>2007-09-05</td>\n",
       "      <td>CULEX PIPIENS</td>\n",
       "      <td>T115</td>\n",
       "      <td>41.673408</td>\n",
       "      <td>-87.599862</td>\n",
       "      <td>1648</td>\n",
       "      <td>1</td>\n",
       "    </tr>\n",
       "    <tr>\n",
       "      <th>3196</th>\n",
       "      <td>2009-06-22</td>\n",
       "      <td>CULEX PIPIENS/RESTUANS</td>\n",
       "      <td>T900</td>\n",
       "      <td>41.974689</td>\n",
       "      <td>-87.890615</td>\n",
       "      <td>1520</td>\n",
       "      <td>0</td>\n",
       "    </tr>\n",
       "  </tbody>\n",
       "</table>\n",
       "</div>"
      ],
      "text/plain": [
       "           Date                 Species  Trap   Latitude  Longitude  \\\n",
       "564  2007-07-25           CULEX PIPIENS  T115  41.673408 -87.599862   \n",
       "722  2007-08-01           CULEX PIPIENS  T115  41.673408 -87.599862   \n",
       "1188 2007-08-08           CULEX PIPIENS  T115  41.673408 -87.599862   \n",
       "1190 2007-08-08           CULEX PIPIENS  T138  41.726465 -87.585413   \n",
       "1450 2007-08-16           CULEX PIPIENS  T115  41.673408 -87.599862   \n",
       "1666 2007-08-22           CULEX PIPIENS  T115  41.673408 -87.599862   \n",
       "1669 2007-08-22           CULEX PIPIENS  T138  41.726465 -87.585413   \n",
       "1897 2007-08-28           CULEX PIPIENS  T115  41.673408 -87.599862   \n",
       "2032 2007-09-05           CULEX PIPIENS  T115  41.673408 -87.599862   \n",
       "3196 2009-06-22  CULEX PIPIENS/RESTUANS  T900  41.974689 -87.890615   \n",
       "\n",
       "      NumMosquitos  WnvPresent  \n",
       "564           2356           1  \n",
       "722           1543           0  \n",
       "1188          1310           1  \n",
       "1190          1658           1  \n",
       "1450          2532           1  \n",
       "1666          1554           1  \n",
       "1669          1054           1  \n",
       "1897          2207           1  \n",
       "2032          1648           1  \n",
       "3196          1520           0  "
      ]
     },
     "execution_count": 10,
     "metadata": {},
     "output_type": "execute_result"
    }
   ],
   "source": [
    "train[train['NumMosquitos'] > 1000]"
   ]
  },
  {
   "cell_type": "markdown",
   "metadata": {},
   "source": [
    "In Year 2007, there seems to be some 'hot zones' at trap T115 and T138. We will do some EDA on this later."
   ]
  },
  {
   "cell_type": "code",
   "execution_count": 11,
   "metadata": {},
   "outputs": [],
   "source": [
    "# add month & year columns\n",
    "train['Month'] = train['Date'].dt.month\n",
    "train['Year'] = train['Date'].dt.year"
   ]
  },
  {
   "cell_type": "code",
   "execution_count": 12,
   "metadata": {},
   "outputs": [
    {
     "data": {
      "text/html": [
       "<div>\n",
       "<style scoped>\n",
       "    .dataframe tbody tr th:only-of-type {\n",
       "        vertical-align: middle;\n",
       "    }\n",
       "\n",
       "    .dataframe tbody tr th {\n",
       "        vertical-align: top;\n",
       "    }\n",
       "\n",
       "    .dataframe thead th {\n",
       "        text-align: right;\n",
       "    }\n",
       "</style>\n",
       "<table border=\"1\" class=\"dataframe\">\n",
       "  <thead>\n",
       "    <tr style=\"text-align: right;\">\n",
       "      <th></th>\n",
       "      <th>Date</th>\n",
       "      <th>Species</th>\n",
       "      <th>Trap</th>\n",
       "      <th>Latitude</th>\n",
       "      <th>Longitude</th>\n",
       "      <th>NumMosquitos</th>\n",
       "      <th>WnvPresent</th>\n",
       "      <th>Month</th>\n",
       "      <th>Year</th>\n",
       "    </tr>\n",
       "  </thead>\n",
       "  <tbody>\n",
       "    <tr>\n",
       "      <th>0</th>\n",
       "      <td>2007-05-29</td>\n",
       "      <td>CULEX PIPIENS</td>\n",
       "      <td>T096</td>\n",
       "      <td>41.731922</td>\n",
       "      <td>-87.677512</td>\n",
       "      <td>1</td>\n",
       "      <td>0</td>\n",
       "      <td>5</td>\n",
       "      <td>2007</td>\n",
       "    </tr>\n",
       "    <tr>\n",
       "      <th>1</th>\n",
       "      <td>2007-05-29</td>\n",
       "      <td>CULEX PIPIENS/RESTUANS</td>\n",
       "      <td>T002</td>\n",
       "      <td>41.954690</td>\n",
       "      <td>-87.800991</td>\n",
       "      <td>1</td>\n",
       "      <td>0</td>\n",
       "      <td>5</td>\n",
       "      <td>2007</td>\n",
       "    </tr>\n",
       "    <tr>\n",
       "      <th>2</th>\n",
       "      <td>2007-05-29</td>\n",
       "      <td>CULEX PIPIENS/RESTUANS</td>\n",
       "      <td>T015</td>\n",
       "      <td>41.974089</td>\n",
       "      <td>-87.824812</td>\n",
       "      <td>1</td>\n",
       "      <td>0</td>\n",
       "      <td>5</td>\n",
       "      <td>2007</td>\n",
       "    </tr>\n",
       "    <tr>\n",
       "      <th>3</th>\n",
       "      <td>2007-05-29</td>\n",
       "      <td>CULEX PIPIENS/RESTUANS</td>\n",
       "      <td>T048</td>\n",
       "      <td>41.867108</td>\n",
       "      <td>-87.654224</td>\n",
       "      <td>1</td>\n",
       "      <td>0</td>\n",
       "      <td>5</td>\n",
       "      <td>2007</td>\n",
       "    </tr>\n",
       "    <tr>\n",
       "      <th>4</th>\n",
       "      <td>2007-05-29</td>\n",
       "      <td>CULEX PIPIENS/RESTUANS</td>\n",
       "      <td>T050</td>\n",
       "      <td>41.919343</td>\n",
       "      <td>-87.694259</td>\n",
       "      <td>1</td>\n",
       "      <td>0</td>\n",
       "      <td>5</td>\n",
       "      <td>2007</td>\n",
       "    </tr>\n",
       "  </tbody>\n",
       "</table>\n",
       "</div>"
      ],
      "text/plain": [
       "        Date                 Species  Trap   Latitude  Longitude  \\\n",
       "0 2007-05-29           CULEX PIPIENS  T096  41.731922 -87.677512   \n",
       "1 2007-05-29  CULEX PIPIENS/RESTUANS  T002  41.954690 -87.800991   \n",
       "2 2007-05-29  CULEX PIPIENS/RESTUANS  T015  41.974089 -87.824812   \n",
       "3 2007-05-29  CULEX PIPIENS/RESTUANS  T048  41.867108 -87.654224   \n",
       "4 2007-05-29  CULEX PIPIENS/RESTUANS  T050  41.919343 -87.694259   \n",
       "\n",
       "   NumMosquitos  WnvPresent  Month  Year  \n",
       "0             1           0      5  2007  \n",
       "1             1           0      5  2007  \n",
       "2             1           0      5  2007  \n",
       "3             1           0      5  2007  \n",
       "4             1           0      5  2007  "
      ]
     },
     "execution_count": 12,
     "metadata": {},
     "output_type": "execute_result"
    }
   ],
   "source": [
    "train.head()"
   ]
  },
  {
   "cell_type": "markdown",
   "metadata": {},
   "source": [
    "### Main Dataset - Test data set"
   ]
  },
  {
   "cell_type": "code",
   "execution_count": 13,
   "metadata": {
    "scrolled": false
   },
   "outputs": [
    {
     "name": "stdout",
     "output_type": "stream",
     "text": [
      "DATASET: Main dataset - Test\n",
      "-------------------------------------\n",
      "First 3 rows of dataset:\n"
     ]
    },
    {
     "data": {
      "text/html": [
       "<div>\n",
       "<style scoped>\n",
       "    .dataframe tbody tr th:only-of-type {\n",
       "        vertical-align: middle;\n",
       "    }\n",
       "\n",
       "    .dataframe tbody tr th {\n",
       "        vertical-align: top;\n",
       "    }\n",
       "\n",
       "    .dataframe thead th {\n",
       "        text-align: right;\n",
       "    }\n",
       "</style>\n",
       "<table border=\"1\" class=\"dataframe\">\n",
       "  <thead>\n",
       "    <tr style=\"text-align: right;\">\n",
       "      <th></th>\n",
       "      <th>Id</th>\n",
       "      <th>Date</th>\n",
       "      <th>Address</th>\n",
       "      <th>Species</th>\n",
       "      <th>Block</th>\n",
       "      <th>Street</th>\n",
       "      <th>Trap</th>\n",
       "      <th>AddressNumberAndStreet</th>\n",
       "      <th>Latitude</th>\n",
       "      <th>Longitude</th>\n",
       "      <th>AddressAccuracy</th>\n",
       "    </tr>\n",
       "  </thead>\n",
       "  <tbody>\n",
       "    <tr>\n",
       "      <th>0</th>\n",
       "      <td>1</td>\n",
       "      <td>2008-06-11</td>\n",
       "      <td>4100 North Oak Park Avenue, Chicago, IL 60634,...</td>\n",
       "      <td>CULEX PIPIENS/RESTUANS</td>\n",
       "      <td>41</td>\n",
       "      <td>N OAK PARK AVE</td>\n",
       "      <td>T002</td>\n",
       "      <td>4100  N OAK PARK AVE, Chicago, IL</td>\n",
       "      <td>41.95469</td>\n",
       "      <td>-87.800991</td>\n",
       "      <td>9</td>\n",
       "    </tr>\n",
       "    <tr>\n",
       "      <th>1</th>\n",
       "      <td>2</td>\n",
       "      <td>2008-06-11</td>\n",
       "      <td>4100 North Oak Park Avenue, Chicago, IL 60634,...</td>\n",
       "      <td>CULEX RESTUANS</td>\n",
       "      <td>41</td>\n",
       "      <td>N OAK PARK AVE</td>\n",
       "      <td>T002</td>\n",
       "      <td>4100  N OAK PARK AVE, Chicago, IL</td>\n",
       "      <td>41.95469</td>\n",
       "      <td>-87.800991</td>\n",
       "      <td>9</td>\n",
       "    </tr>\n",
       "    <tr>\n",
       "      <th>2</th>\n",
       "      <td>3</td>\n",
       "      <td>2008-06-11</td>\n",
       "      <td>4100 North Oak Park Avenue, Chicago, IL 60634,...</td>\n",
       "      <td>CULEX PIPIENS</td>\n",
       "      <td>41</td>\n",
       "      <td>N OAK PARK AVE</td>\n",
       "      <td>T002</td>\n",
       "      <td>4100  N OAK PARK AVE, Chicago, IL</td>\n",
       "      <td>41.95469</td>\n",
       "      <td>-87.800991</td>\n",
       "      <td>9</td>\n",
       "    </tr>\n",
       "  </tbody>\n",
       "</table>\n",
       "</div>"
      ],
      "text/plain": [
       "   Id       Date                                            Address  \\\n",
       "0   1 2008-06-11  4100 North Oak Park Avenue, Chicago, IL 60634,...   \n",
       "1   2 2008-06-11  4100 North Oak Park Avenue, Chicago, IL 60634,...   \n",
       "2   3 2008-06-11  4100 North Oak Park Avenue, Chicago, IL 60634,...   \n",
       "\n",
       "                  Species  Block           Street  Trap  \\\n",
       "0  CULEX PIPIENS/RESTUANS     41   N OAK PARK AVE  T002   \n",
       "1          CULEX RESTUANS     41   N OAK PARK AVE  T002   \n",
       "2           CULEX PIPIENS     41   N OAK PARK AVE  T002   \n",
       "\n",
       "              AddressNumberAndStreet  Latitude  Longitude  AddressAccuracy  \n",
       "0  4100  N OAK PARK AVE, Chicago, IL  41.95469 -87.800991                9  \n",
       "1  4100  N OAK PARK AVE, Chicago, IL  41.95469 -87.800991                9  \n",
       "2  4100  N OAK PARK AVE, Chicago, IL  41.95469 -87.800991                9  "
      ]
     },
     "metadata": {},
     "output_type": "display_data"
    },
    {
     "name": "stdout",
     "output_type": "stream",
     "text": [
      "\n",
      "\n",
      "Shape of dataset: (116293, 11)\n",
      "\n",
      "\n",
      "Columns & data types: \n",
      "<class 'pandas.core.frame.DataFrame'>\n",
      "RangeIndex: 116293 entries, 0 to 116292\n",
      "Data columns (total 11 columns):\n",
      " #   Column                  Non-Null Count   Dtype         \n",
      "---  ------                  --------------   -----         \n",
      " 0   Id                      116293 non-null  int64         \n",
      " 1   Date                    116293 non-null  datetime64[ns]\n",
      " 2   Address                 116293 non-null  object        \n",
      " 3   Species                 116293 non-null  object        \n",
      " 4   Block                   116293 non-null  int64         \n",
      " 5   Street                  116293 non-null  object        \n",
      " 6   Trap                    116293 non-null  object        \n",
      " 7   AddressNumberAndStreet  116293 non-null  object        \n",
      " 8   Latitude                116293 non-null  float64       \n",
      " 9   Longitude               116293 non-null  float64       \n",
      " 10  AddressAccuracy         116293 non-null  int64         \n",
      "dtypes: datetime64[ns](1), float64(2), int64(3), object(5)\n",
      "memory usage: 9.8+ MB\n",
      "\n",
      "\n",
      "Null values: \n",
      "No null value\n",
      "\n",
      "\n",
      "No duplicated row\n"
     ]
    }
   ],
   "source": [
    "data_exploration('Main dataset - Test', test)"
   ]
  },
  {
   "cell_type": "markdown",
   "metadata": {},
   "source": [
    "**Observation on Test dataset:**\n",
    "\n",
    "* No null value and duplicated row\n",
    "* Correct data types\n",
    "* As compared to Train dataset, there is no 'NumMosquitos' and 'WnvPresent' (which is the target variable). There is also an 'Id' column which is needed for Kaggle submission."
   ]
  },
  {
   "cell_type": "markdown",
   "metadata": {},
   "source": [
    "Similar to the train data, we will drop the Address columns."
   ]
  },
  {
   "cell_type": "code",
   "execution_count": 14,
   "metadata": {},
   "outputs": [],
   "source": [
    "test.drop(['Address', 'Block', 'Street', 'AddressNumberAndStreet', 'AddressAccuracy'], \n",
    "           axis=1, inplace=True)"
   ]
  },
  {
   "cell_type": "code",
   "execution_count": 15,
   "metadata": {},
   "outputs": [
    {
     "data": {
      "text/plain": [
       "(116293, 6)"
      ]
     },
     "execution_count": 15,
     "metadata": {},
     "output_type": "execute_result"
    }
   ],
   "source": [
    "test.shape"
   ]
  },
  {
   "cell_type": "code",
   "execution_count": 16,
   "metadata": {},
   "outputs": [
    {
     "data": {
      "text/html": [
       "<div>\n",
       "<style scoped>\n",
       "    .dataframe tbody tr th:only-of-type {\n",
       "        vertical-align: middle;\n",
       "    }\n",
       "\n",
       "    .dataframe tbody tr th {\n",
       "        vertical-align: top;\n",
       "    }\n",
       "\n",
       "    .dataframe thead th {\n",
       "        text-align: right;\n",
       "    }\n",
       "</style>\n",
       "<table border=\"1\" class=\"dataframe\">\n",
       "  <thead>\n",
       "    <tr style=\"text-align: right;\">\n",
       "      <th></th>\n",
       "      <th>count</th>\n",
       "      <th>mean</th>\n",
       "      <th>std</th>\n",
       "      <th>min</th>\n",
       "      <th>25%</th>\n",
       "      <th>50%</th>\n",
       "      <th>75%</th>\n",
       "      <th>max</th>\n",
       "    </tr>\n",
       "  </thead>\n",
       "  <tbody>\n",
       "    <tr>\n",
       "      <th>Id</th>\n",
       "      <td>116293.0</td>\n",
       "      <td>58147.000000</td>\n",
       "      <td>33571.041765</td>\n",
       "      <td>1.000000</td>\n",
       "      <td>29074.000000</td>\n",
       "      <td>58147.000000</td>\n",
       "      <td>87220.000000</td>\n",
       "      <td>116293.000000</td>\n",
       "    </tr>\n",
       "    <tr>\n",
       "      <th>Latitude</th>\n",
       "      <td>116293.0</td>\n",
       "      <td>41.849389</td>\n",
       "      <td>0.106593</td>\n",
       "      <td>41.644612</td>\n",
       "      <td>41.753411</td>\n",
       "      <td>41.862292</td>\n",
       "      <td>41.951866</td>\n",
       "      <td>42.017430</td>\n",
       "    </tr>\n",
       "    <tr>\n",
       "      <th>Longitude</th>\n",
       "      <td>116293.0</td>\n",
       "      <td>-87.693658</td>\n",
       "      <td>0.080699</td>\n",
       "      <td>-87.930995</td>\n",
       "      <td>-87.750938</td>\n",
       "      <td>-87.694991</td>\n",
       "      <td>-87.648860</td>\n",
       "      <td>-87.531635</td>\n",
       "    </tr>\n",
       "  </tbody>\n",
       "</table>\n",
       "</div>"
      ],
      "text/plain": [
       "              count          mean           std        min           25%  \\\n",
       "Id         116293.0  58147.000000  33571.041765   1.000000  29074.000000   \n",
       "Latitude   116293.0     41.849389      0.106593  41.644612     41.753411   \n",
       "Longitude  116293.0    -87.693658      0.080699 -87.930995    -87.750938   \n",
       "\n",
       "                    50%           75%            max  \n",
       "Id         58147.000000  87220.000000  116293.000000  \n",
       "Latitude      41.862292     41.951866      42.017430  \n",
       "Longitude    -87.694991    -87.648860     -87.531635  "
      ]
     },
     "execution_count": 16,
     "metadata": {},
     "output_type": "execute_result"
    }
   ],
   "source": [
    "test.describe().T"
   ]
  },
  {
   "cell_type": "markdown",
   "metadata": {},
   "source": [
    "The Latitude and Longitude range in the test dataset seems to be within range."
   ]
  },
  {
   "cell_type": "code",
   "execution_count": 17,
   "metadata": {},
   "outputs": [],
   "source": [
    "# add month & year columns\n",
    "test['Month'] = test['Date'].dt.month\n",
    "test['Year'] = test['Date'].dt.year"
   ]
  },
  {
   "cell_type": "code",
   "execution_count": 18,
   "metadata": {},
   "outputs": [
    {
     "data": {
      "text/html": [
       "<div>\n",
       "<style scoped>\n",
       "    .dataframe tbody tr th:only-of-type {\n",
       "        vertical-align: middle;\n",
       "    }\n",
       "\n",
       "    .dataframe tbody tr th {\n",
       "        vertical-align: top;\n",
       "    }\n",
       "\n",
       "    .dataframe thead th {\n",
       "        text-align: right;\n",
       "    }\n",
       "</style>\n",
       "<table border=\"1\" class=\"dataframe\">\n",
       "  <thead>\n",
       "    <tr style=\"text-align: right;\">\n",
       "      <th></th>\n",
       "      <th>Id</th>\n",
       "      <th>Date</th>\n",
       "      <th>Species</th>\n",
       "      <th>Trap</th>\n",
       "      <th>Latitude</th>\n",
       "      <th>Longitude</th>\n",
       "      <th>Month</th>\n",
       "      <th>Year</th>\n",
       "    </tr>\n",
       "  </thead>\n",
       "  <tbody>\n",
       "    <tr>\n",
       "      <th>0</th>\n",
       "      <td>1</td>\n",
       "      <td>2008-06-11</td>\n",
       "      <td>CULEX PIPIENS/RESTUANS</td>\n",
       "      <td>T002</td>\n",
       "      <td>41.95469</td>\n",
       "      <td>-87.800991</td>\n",
       "      <td>6</td>\n",
       "      <td>2008</td>\n",
       "    </tr>\n",
       "    <tr>\n",
       "      <th>1</th>\n",
       "      <td>2</td>\n",
       "      <td>2008-06-11</td>\n",
       "      <td>CULEX RESTUANS</td>\n",
       "      <td>T002</td>\n",
       "      <td>41.95469</td>\n",
       "      <td>-87.800991</td>\n",
       "      <td>6</td>\n",
       "      <td>2008</td>\n",
       "    </tr>\n",
       "    <tr>\n",
       "      <th>2</th>\n",
       "      <td>3</td>\n",
       "      <td>2008-06-11</td>\n",
       "      <td>CULEX PIPIENS</td>\n",
       "      <td>T002</td>\n",
       "      <td>41.95469</td>\n",
       "      <td>-87.800991</td>\n",
       "      <td>6</td>\n",
       "      <td>2008</td>\n",
       "    </tr>\n",
       "    <tr>\n",
       "      <th>3</th>\n",
       "      <td>4</td>\n",
       "      <td>2008-06-11</td>\n",
       "      <td>CULEX SALINARIUS</td>\n",
       "      <td>T002</td>\n",
       "      <td>41.95469</td>\n",
       "      <td>-87.800991</td>\n",
       "      <td>6</td>\n",
       "      <td>2008</td>\n",
       "    </tr>\n",
       "    <tr>\n",
       "      <th>4</th>\n",
       "      <td>5</td>\n",
       "      <td>2008-06-11</td>\n",
       "      <td>CULEX TERRITANS</td>\n",
       "      <td>T002</td>\n",
       "      <td>41.95469</td>\n",
       "      <td>-87.800991</td>\n",
       "      <td>6</td>\n",
       "      <td>2008</td>\n",
       "    </tr>\n",
       "  </tbody>\n",
       "</table>\n",
       "</div>"
      ],
      "text/plain": [
       "   Id       Date                 Species  Trap  Latitude  Longitude  Month  \\\n",
       "0   1 2008-06-11  CULEX PIPIENS/RESTUANS  T002  41.95469 -87.800991      6   \n",
       "1   2 2008-06-11          CULEX RESTUANS  T002  41.95469 -87.800991      6   \n",
       "2   3 2008-06-11           CULEX PIPIENS  T002  41.95469 -87.800991      6   \n",
       "3   4 2008-06-11        CULEX SALINARIUS  T002  41.95469 -87.800991      6   \n",
       "4   5 2008-06-11         CULEX TERRITANS  T002  41.95469 -87.800991      6   \n",
       "\n",
       "   Year  \n",
       "0  2008  \n",
       "1  2008  \n",
       "2  2008  \n",
       "3  2008  \n",
       "4  2008  "
      ]
     },
     "execution_count": 18,
     "metadata": {},
     "output_type": "execute_result"
    }
   ],
   "source": [
    "test.head()"
   ]
  },
  {
   "cell_type": "markdown",
   "metadata": {},
   "source": [
    "### Spray Dataset"
   ]
  },
  {
   "cell_type": "code",
   "execution_count": 19,
   "metadata": {},
   "outputs": [
    {
     "name": "stdout",
     "output_type": "stream",
     "text": [
      "DATASET: Spray dataset\n",
      "-------------------------------------\n",
      "First 3 rows of dataset:\n"
     ]
    },
    {
     "data": {
      "text/html": [
       "<div>\n",
       "<style scoped>\n",
       "    .dataframe tbody tr th:only-of-type {\n",
       "        vertical-align: middle;\n",
       "    }\n",
       "\n",
       "    .dataframe tbody tr th {\n",
       "        vertical-align: top;\n",
       "    }\n",
       "\n",
       "    .dataframe thead th {\n",
       "        text-align: right;\n",
       "    }\n",
       "</style>\n",
       "<table border=\"1\" class=\"dataframe\">\n",
       "  <thead>\n",
       "    <tr style=\"text-align: right;\">\n",
       "      <th></th>\n",
       "      <th>Date</th>\n",
       "      <th>Time</th>\n",
       "      <th>Latitude</th>\n",
       "      <th>Longitude</th>\n",
       "    </tr>\n",
       "  </thead>\n",
       "  <tbody>\n",
       "    <tr>\n",
       "      <th>0</th>\n",
       "      <td>2011-08-29</td>\n",
       "      <td>6:56:58 PM</td>\n",
       "      <td>42.391623</td>\n",
       "      <td>-88.089163</td>\n",
       "    </tr>\n",
       "    <tr>\n",
       "      <th>1</th>\n",
       "      <td>2011-08-29</td>\n",
       "      <td>6:57:08 PM</td>\n",
       "      <td>42.391348</td>\n",
       "      <td>-88.089163</td>\n",
       "    </tr>\n",
       "    <tr>\n",
       "      <th>2</th>\n",
       "      <td>2011-08-29</td>\n",
       "      <td>6:57:18 PM</td>\n",
       "      <td>42.391022</td>\n",
       "      <td>-88.089157</td>\n",
       "    </tr>\n",
       "  </tbody>\n",
       "</table>\n",
       "</div>"
      ],
      "text/plain": [
       "        Date        Time   Latitude  Longitude\n",
       "0 2011-08-29  6:56:58 PM  42.391623 -88.089163\n",
       "1 2011-08-29  6:57:08 PM  42.391348 -88.089163\n",
       "2 2011-08-29  6:57:18 PM  42.391022 -88.089157"
      ]
     },
     "metadata": {},
     "output_type": "display_data"
    },
    {
     "name": "stdout",
     "output_type": "stream",
     "text": [
      "\n",
      "\n",
      "Shape of dataset: (14835, 4)\n",
      "\n",
      "\n",
      "Columns & data types: \n",
      "<class 'pandas.core.frame.DataFrame'>\n",
      "RangeIndex: 14835 entries, 0 to 14834\n",
      "Data columns (total 4 columns):\n",
      " #   Column     Non-Null Count  Dtype         \n",
      "---  ------     --------------  -----         \n",
      " 0   Date       14835 non-null  datetime64[ns]\n",
      " 1   Time       14251 non-null  object        \n",
      " 2   Latitude   14835 non-null  float64       \n",
      " 3   Longitude  14835 non-null  float64       \n",
      "dtypes: datetime64[ns](1), float64(2), object(1)\n",
      "memory usage: 463.7+ KB\n",
      "\n",
      "\n",
      "Null values: \n",
      "Date: 0\n",
      "Time: 584\n",
      "Latitude: 0\n",
      "Longitude: 0\n",
      "\n",
      "\n",
      "541 duplicated rows in dataset.\n"
     ]
    }
   ],
   "source": [
    "data_exploration('Spray dataset', spray)"
   ]
  },
  {
   "cell_type": "markdown",
   "metadata": {},
   "source": [
    "**Observation on Spray dataset:**\n",
    "\n",
    "* No missing values in 'Date', 'Latitude', 'Longitude'\n",
    "* 584 missing values for 'Time' \n",
    "* 541 duplicated rows"
   ]
  },
  {
   "cell_type": "markdown",
   "metadata": {},
   "source": [
    "Let's use the Missingno matrix to visualise where are the missing values in the 'Time' column. "
   ]
  },
  {
   "cell_type": "code",
   "execution_count": 20,
   "metadata": {},
   "outputs": [
    {
     "data": {
      "text/plain": [
       "<Figure size 1080x576 with 0 Axes>"
      ]
     },
     "metadata": {},
     "output_type": "display_data"
    },
    {
     "data": {
      "image/png": "[encoded data removed]",
      "text/plain": [
       "<Figure size 1800x720 with 2 Axes>"
      ]
     },
     "metadata": {
      "needs_background": "light"
     },
     "output_type": "display_data"
    }
   ],
   "source": [
    "plt.figure(figsize=(15, 8));\n",
    "msno.matrix(spray);\n",
    "plt.title('Missing values in Spray dataset', fontsize=25, y=1.2);"
   ]
  },
  {
   "cell_type": "code",
   "execution_count": 21,
   "metadata": {
    "scrolled": true
   },
   "outputs": [
    {
     "data": {
      "text/plain": [
       "2011-09-07    584\n",
       "Name: Date, dtype: int64"
      ]
     },
     "execution_count": 21,
     "metadata": {},
     "output_type": "execute_result"
    }
   ],
   "source": [
    "spray[spray['Time'].isnull()]['Date'].value_counts()"
   ]
  },
  {
   "cell_type": "markdown",
   "metadata": {},
   "source": [
    "All missing values for 'Time' belong to records on the date 2011-09-07. The Time feature may or may not be used for modelling. Let's keep in view to see if we need to impute the missing values."
   ]
  },
  {
   "cell_type": "markdown",
   "metadata": {},
   "source": [
    "Let's also take a look at the duplicated rows."
   ]
  },
  {
   "cell_type": "code",
   "execution_count": 22,
   "metadata": {
    "scrolled": true
   },
   "outputs": [
    {
     "data": {
      "text/html": [
       "<div>\n",
       "<style scoped>\n",
       "    .dataframe tbody tr th:only-of-type {\n",
       "        vertical-align: middle;\n",
       "    }\n",
       "\n",
       "    .dataframe tbody tr th {\n",
       "        vertical-align: top;\n",
       "    }\n",
       "\n",
       "    .dataframe thead th {\n",
       "        text-align: right;\n",
       "    }\n",
       "</style>\n",
       "<table border=\"1\" class=\"dataframe\">\n",
       "  <thead>\n",
       "    <tr style=\"text-align: right;\">\n",
       "      <th></th>\n",
       "      <th>Date</th>\n",
       "      <th>Time</th>\n",
       "      <th>Latitude</th>\n",
       "      <th>Longitude</th>\n",
       "    </tr>\n",
       "  </thead>\n",
       "  <tbody>\n",
       "    <tr>\n",
       "      <th>485</th>\n",
       "      <td>2011-09-07</td>\n",
       "      <td>7:43:40 PM</td>\n",
       "      <td>41.983917</td>\n",
       "      <td>-87.793088</td>\n",
       "    </tr>\n",
       "    <tr>\n",
       "      <th>857</th>\n",
       "      <td>2011-09-07</td>\n",
       "      <td>7:44:32 PM</td>\n",
       "      <td>41.986460</td>\n",
       "      <td>-87.794225</td>\n",
       "    </tr>\n",
       "    <tr>\n",
       "      <th>856</th>\n",
       "      <td>2011-09-07</td>\n",
       "      <td>7:44:32 PM</td>\n",
       "      <td>41.986460</td>\n",
       "      <td>-87.794225</td>\n",
       "    </tr>\n",
       "    <tr>\n",
       "      <th>855</th>\n",
       "      <td>2011-09-07</td>\n",
       "      <td>7:44:32 PM</td>\n",
       "      <td>41.986460</td>\n",
       "      <td>-87.794225</td>\n",
       "    </tr>\n",
       "    <tr>\n",
       "      <th>854</th>\n",
       "      <td>2011-09-07</td>\n",
       "      <td>7:44:32 PM</td>\n",
       "      <td>41.986460</td>\n",
       "      <td>-87.794225</td>\n",
       "    </tr>\n",
       "  </tbody>\n",
       "</table>\n",
       "</div>"
      ],
      "text/plain": [
       "          Date        Time   Latitude  Longitude\n",
       "485 2011-09-07  7:43:40 PM  41.983917 -87.793088\n",
       "857 2011-09-07  7:44:32 PM  41.986460 -87.794225\n",
       "856 2011-09-07  7:44:32 PM  41.986460 -87.794225\n",
       "855 2011-09-07  7:44:32 PM  41.986460 -87.794225\n",
       "854 2011-09-07  7:44:32 PM  41.986460 -87.794225"
      ]
     },
     "execution_count": 22,
     "metadata": {},
     "output_type": "execute_result"
    }
   ],
   "source": [
    "spray[spray.duplicated(subset=None)].sort_values('Date').head()"
   ]
  },
  {
   "cell_type": "code",
   "execution_count": 23,
   "metadata": {
    "scrolled": true
   },
   "outputs": [
    {
     "data": {
      "text/plain": [
       "2011-09-07    541\n",
       "Name: Date, dtype: int64"
      ]
     },
     "execution_count": 23,
     "metadata": {},
     "output_type": "execute_result"
    }
   ],
   "source": [
    "spray[spray.duplicated(subset=None)]['Date'].value_counts()"
   ]
  },
  {
   "cell_type": "markdown",
   "metadata": {},
   "source": [
    "All duplicated rows are also records on the date 2011-09-07."
   ]
  },
  {
   "cell_type": "markdown",
   "metadata": {},
   "source": [
    "Let's go ahead and drop the duplicated rows."
   ]
  },
  {
   "cell_type": "code",
   "execution_count": 24,
   "metadata": {},
   "outputs": [],
   "source": [
    "spray.drop_duplicates(subset=None, keep='first', inplace=True)"
   ]
  },
  {
   "cell_type": "code",
   "execution_count": 25,
   "metadata": {
    "scrolled": true
   },
   "outputs": [
    {
     "data": {
      "text/plain": [
       "(14294, 4)"
      ]
     },
     "execution_count": 25,
     "metadata": {},
     "output_type": "execute_result"
    }
   ],
   "source": [
    "spray.shape"
   ]
  },
  {
   "cell_type": "code",
   "execution_count": 26,
   "metadata": {
    "scrolled": true
   },
   "outputs": [
    {
     "data": {
      "text/html": [
       "<div>\n",
       "<style scoped>\n",
       "    .dataframe tbody tr th:only-of-type {\n",
       "        vertical-align: middle;\n",
       "    }\n",
       "\n",
       "    .dataframe tbody tr th {\n",
       "        vertical-align: top;\n",
       "    }\n",
       "\n",
       "    .dataframe thead th {\n",
       "        text-align: right;\n",
       "    }\n",
       "</style>\n",
       "<table border=\"1\" class=\"dataframe\">\n",
       "  <thead>\n",
       "    <tr style=\"text-align: right;\">\n",
       "      <th></th>\n",
       "      <th>count</th>\n",
       "      <th>mean</th>\n",
       "      <th>std</th>\n",
       "      <th>min</th>\n",
       "      <th>25%</th>\n",
       "      <th>50%</th>\n",
       "      <th>75%</th>\n",
       "      <th>max</th>\n",
       "    </tr>\n",
       "  </thead>\n",
       "  <tbody>\n",
       "    <tr>\n",
       "      <th>Latitude</th>\n",
       "      <td>14294.0</td>\n",
       "      <td>41.901739</td>\n",
       "      <td>0.105100</td>\n",
       "      <td>41.713925</td>\n",
       "      <td>41.782669</td>\n",
       "      <td>41.937578</td>\n",
       "      <td>41.977217</td>\n",
       "      <td>42.395983</td>\n",
       "    </tr>\n",
       "    <tr>\n",
       "      <th>Longitude</th>\n",
       "      <td>14294.0</td>\n",
       "      <td>-87.734512</td>\n",
       "      <td>0.067599</td>\n",
       "      <td>-88.096468</td>\n",
       "      <td>-87.789607</td>\n",
       "      <td>-87.724781</td>\n",
       "      <td>-87.692107</td>\n",
       "      <td>-87.586727</td>\n",
       "    </tr>\n",
       "  </tbody>\n",
       "</table>\n",
       "</div>"
      ],
      "text/plain": [
       "             count       mean       std        min        25%        50%  \\\n",
       "Latitude   14294.0  41.901739  0.105100  41.713925  41.782669  41.937578   \n",
       "Longitude  14294.0 -87.734512  0.067599 -88.096468 -87.789607 -87.724781   \n",
       "\n",
       "                 75%        max  \n",
       "Latitude   41.977217  42.395983  \n",
       "Longitude -87.692107 -87.586727  "
      ]
     },
     "execution_count": 26,
     "metadata": {},
     "output_type": "execute_result"
    }
   ],
   "source": [
    "spray.describe().T"
   ]
  },
  {
   "cell_type": "markdown",
   "metadata": {},
   "source": [
    "Maximum value of Latitude seems to be out of range."
   ]
  },
  {
   "cell_type": "code",
   "execution_count": 27,
   "metadata": {},
   "outputs": [],
   "source": [
    "# remove records where Latitude is more than 42.1\n",
    "spray = spray[spray['Latitude'] <=42.1]"
   ]
  },
  {
   "cell_type": "markdown",
   "metadata": {},
   "source": [
    "### Weather dataset"
   ]
  },
  {
   "cell_type": "code",
   "execution_count": 28,
   "metadata": {
    "scrolled": false
   },
   "outputs": [
    {
     "name": "stdout",
     "output_type": "stream",
     "text": [
      "DATASET: Weather dataset\n",
      "-------------------------------------\n",
      "First 3 rows of dataset:\n"
     ]
    },
    {
     "data": {
      "text/html": [
       "<div>\n",
       "<style scoped>\n",
       "    .dataframe tbody tr th:only-of-type {\n",
       "        vertical-align: middle;\n",
       "    }\n",
       "\n",
       "    .dataframe tbody tr th {\n",
       "        vertical-align: top;\n",
       "    }\n",
       "\n",
       "    .dataframe thead th {\n",
       "        text-align: right;\n",
       "    }\n",
       "</style>\n",
       "<table border=\"1\" class=\"dataframe\">\n",
       "  <thead>\n",
       "    <tr style=\"text-align: right;\">\n",
       "      <th></th>\n",
       "      <th>Station</th>\n",
       "      <th>Date</th>\n",
       "      <th>Tmax</th>\n",
       "      <th>Tmin</th>\n",
       "      <th>Tavg</th>\n",
       "      <th>Depart</th>\n",
       "      <th>DewPoint</th>\n",
       "      <th>WetBulb</th>\n",
       "      <th>Heat</th>\n",
       "      <th>Cool</th>\n",
       "      <th>Sunrise</th>\n",
       "      <th>Sunset</th>\n",
       "      <th>CodeSum</th>\n",
       "      <th>Depth</th>\n",
       "      <th>Water1</th>\n",
       "      <th>SnowFall</th>\n",
       "      <th>PrecipTotal</th>\n",
       "      <th>StnPressure</th>\n",
       "      <th>SeaLevel</th>\n",
       "      <th>ResultSpeed</th>\n",
       "      <th>ResultDir</th>\n",
       "      <th>AvgSpeed</th>\n",
       "    </tr>\n",
       "  </thead>\n",
       "  <tbody>\n",
       "    <tr>\n",
       "      <th>0</th>\n",
       "      <td>1</td>\n",
       "      <td>2007-05-01</td>\n",
       "      <td>83</td>\n",
       "      <td>50</td>\n",
       "      <td>67</td>\n",
       "      <td>14</td>\n",
       "      <td>51</td>\n",
       "      <td>56</td>\n",
       "      <td>0</td>\n",
       "      <td>2</td>\n",
       "      <td>0448</td>\n",
       "      <td>1849</td>\n",
       "      <td></td>\n",
       "      <td>0</td>\n",
       "      <td>M</td>\n",
       "      <td>0.0</td>\n",
       "      <td>0.00</td>\n",
       "      <td>29.10</td>\n",
       "      <td>29.82</td>\n",
       "      <td>1.7</td>\n",
       "      <td>27</td>\n",
       "      <td>9.2</td>\n",
       "    </tr>\n",
       "    <tr>\n",
       "      <th>1</th>\n",
       "      <td>2</td>\n",
       "      <td>2007-05-01</td>\n",
       "      <td>84</td>\n",
       "      <td>52</td>\n",
       "      <td>68</td>\n",
       "      <td>M</td>\n",
       "      <td>51</td>\n",
       "      <td>57</td>\n",
       "      <td>0</td>\n",
       "      <td>3</td>\n",
       "      <td>-</td>\n",
       "      <td>-</td>\n",
       "      <td></td>\n",
       "      <td>M</td>\n",
       "      <td>M</td>\n",
       "      <td>M</td>\n",
       "      <td>0.00</td>\n",
       "      <td>29.18</td>\n",
       "      <td>29.82</td>\n",
       "      <td>2.7</td>\n",
       "      <td>25</td>\n",
       "      <td>9.6</td>\n",
       "    </tr>\n",
       "    <tr>\n",
       "      <th>2</th>\n",
       "      <td>1</td>\n",
       "      <td>2007-05-02</td>\n",
       "      <td>59</td>\n",
       "      <td>42</td>\n",
       "      <td>51</td>\n",
       "      <td>-3</td>\n",
       "      <td>42</td>\n",
       "      <td>47</td>\n",
       "      <td>14</td>\n",
       "      <td>0</td>\n",
       "      <td>0447</td>\n",
       "      <td>1850</td>\n",
       "      <td>BR</td>\n",
       "      <td>0</td>\n",
       "      <td>M</td>\n",
       "      <td>0.0</td>\n",
       "      <td>0.00</td>\n",
       "      <td>29.38</td>\n",
       "      <td>30.09</td>\n",
       "      <td>13.0</td>\n",
       "      <td>4</td>\n",
       "      <td>13.4</td>\n",
       "    </tr>\n",
       "  </tbody>\n",
       "</table>\n",
       "</div>"
      ],
      "text/plain": [
       "   Station       Date  Tmax  Tmin Tavg Depart  DewPoint WetBulb Heat Cool  \\\n",
       "0        1 2007-05-01    83    50   67     14        51      56    0    2   \n",
       "1        2 2007-05-01    84    52   68      M        51      57    0    3   \n",
       "2        1 2007-05-02    59    42   51     -3        42      47   14    0   \n",
       "\n",
       "  Sunrise Sunset CodeSum Depth Water1 SnowFall PrecipTotal StnPressure  \\\n",
       "0    0448   1849             0      M      0.0        0.00       29.10   \n",
       "1       -      -             M      M        M        0.00       29.18   \n",
       "2    0447   1850      BR     0      M      0.0        0.00       29.38   \n",
       "\n",
       "  SeaLevel  ResultSpeed  ResultDir AvgSpeed  \n",
       "0    29.82          1.7         27      9.2  \n",
       "1    29.82          2.7         25      9.6  \n",
       "2    30.09         13.0          4     13.4  "
      ]
     },
     "metadata": {},
     "output_type": "display_data"
    },
    {
     "name": "stdout",
     "output_type": "stream",
     "text": [
      "\n",
      "\n",
      "Shape of dataset: (2944, 22)\n",
      "\n",
      "\n",
      "Columns & data types: \n",
      "<class 'pandas.core.frame.DataFrame'>\n",
      "RangeIndex: 2944 entries, 0 to 2943\n",
      "Data columns (total 22 columns):\n",
      " #   Column       Non-Null Count  Dtype         \n",
      "---  ------       --------------  -----         \n",
      " 0   Station      2944 non-null   int64         \n",
      " 1   Date         2944 non-null   datetime64[ns]\n",
      " 2   Tmax         2944 non-null   int64         \n",
      " 3   Tmin         2944 non-null   int64         \n",
      " 4   Tavg         2944 non-null   object        \n",
      " 5   Depart       2944 non-null   object        \n",
      " 6   DewPoint     2944 non-null   int64         \n",
      " 7   WetBulb      2944 non-null   object        \n",
      " 8   Heat         2944 non-null   object        \n",
      " 9   Cool         2944 non-null   object        \n",
      " 10  Sunrise      2944 non-null   object        \n",
      " 11  Sunset       2944 non-null   object        \n",
      " 12  CodeSum      2944 non-null   object        \n",
      " 13  Depth        2944 non-null   object        \n",
      " 14  Water1       2944 non-null   object        \n",
      " 15  SnowFall     2944 non-null   object        \n",
      " 16  PrecipTotal  2944 non-null   object        \n",
      " 17  StnPressure  2944 non-null   object        \n",
      " 18  SeaLevel     2944 non-null   object        \n",
      " 19  ResultSpeed  2944 non-null   float64       \n",
      " 20  ResultDir    2944 non-null   int64         \n",
      " 21  AvgSpeed     2944 non-null   object        \n",
      "dtypes: datetime64[ns](1), float64(1), int64(5), object(15)\n",
      "memory usage: 506.1+ KB\n",
      "\n",
      "\n",
      "Null values: \n",
      "No null value\n",
      "\n",
      "\n",
      "No duplicated row\n"
     ]
    }
   ],
   "source": [
    "data_exploration('Weather dataset', weather)"
   ]
  },
  {
   "cell_type": "markdown",
   "metadata": {},
   "source": [
    "**Observations on Weather dataset:**\n",
    "\n",
    "* While there is seemingly no null value, the data dictionary stated that missing values are marked with 'M'.\n",
    "\n",
    "* For the column SnowFall and PrecipTotal, trace values are marked with ' T'.\n",
    "\n",
    "* For the column CodeSum, a blank refers to 'Moderate' according to the data dictionary\n",
    "\n",
    "* Several columns have object data type when the values should be numeric, e.g. Tavg, Depart, WelBulb, Heat, Cool, Depth, Water1, SnowFall, PrecipTotal, StnPressure, SeaLevel, AvgSpeed\n",
    "\n",
    "* Sunrise and Sunset should be time (in HH:MM) but currently are in object data types.\n",
    "\n",
    "* No duplicated row"
   ]
  },
  {
   "cell_type": "code",
   "execution_count": 29,
   "metadata": {},
   "outputs": [
    {
     "data": {
      "text/plain": [
       "array(['0.0', 'M', '  T', '0.1'], dtype=object)"
      ]
     },
     "execution_count": 29,
     "metadata": {},
     "output_type": "execute_result"
    }
   ],
   "source": [
    "weather['SnowFall'].unique()"
   ]
  },
  {
   "cell_type": "code",
   "execution_count": 30,
   "metadata": {
    "scrolled": true
   },
   "outputs": [
    {
     "data": {
      "text/plain": [
       "array(['0.00', '  T', '0.13', '0.02', '0.38', '0.60', '0.14', '0.07',\n",
       "       '0.11', '0.09', '1.01', '0.28', '0.04', '0.08', '0.01', '0.53',\n",
       "       '0.19', '0.21', '0.32', '0.39', '0.31', '0.42', '0.27', '0.16',\n",
       "       '0.58', '0.93', '0.05', '0.34', '0.15', '0.35', 'M', '0.40',\n",
       "       '0.66', '0.30', '0.24', '0.43', '1.55', '0.92', '0.89', '0.17',\n",
       "       '0.03', '1.43', '0.97', '0.26', '1.31', '0.06', '0.46', '0.29',\n",
       "       '0.23', '0.41', '0.45', '0.83', '1.33', '0.91', '0.48', '0.37',\n",
       "       '0.88', '2.35', '1.96', '0.20', '0.25', '0.18', '0.67', '0.36',\n",
       "       '0.33', '1.28', '0.74', '0.76', '0.71', '0.95', '1.46', '0.12',\n",
       "       '0.52', '0.64', '0.22', '1.24', '0.72', '0.73', '0.65', '1.61',\n",
       "       '1.22', '0.50', '1.05', '2.43', '0.59', '2.90', '2.68', '1.23',\n",
       "       '0.62', '6.64', '3.07', '1.44', '1.75', '0.82', '0.80', '0.86',\n",
       "       '0.63', '0.55', '1.03', '0.70', '1.73', '1.38', '0.44', '1.14',\n",
       "       '1.07', '3.97', '0.87', '0.78', '1.12', '0.68', '0.10', '0.61',\n",
       "       '0.54', '1.19', '0.75', '0.84', '1.29', '0.81', '1.15', '1.49',\n",
       "       '1.57', '1.02', '1.30', '0.51', '0.85', '0.79', '0.77', '2.79',\n",
       "       '3.15', '3.64', '4.73', '1.60', '0.57', '2.24', '1.90', '1.06',\n",
       "       '1.88', '0.69', '2.17', '6.86', '0.49', '1.11', '1.21', '0.90',\n",
       "       '1.34', '0.47', '0.56', '3.66', '1.09', '1.25', '1.35', '2.20',\n",
       "       '1.48', '0.96', '1.16', '1.04', '2.03', '2.09', '1.26', '2.60',\n",
       "       '2.06', '3.31', '2.76', '1.82', '0.98', '1.58', '3.17', '1.18'],\n",
       "      dtype=object)"
      ]
     },
     "execution_count": 30,
     "metadata": {},
     "output_type": "execute_result"
    }
   ],
   "source": [
    "weather['PrecipTotal'].unique()"
   ]
  },
  {
   "cell_type": "markdown",
   "metadata": {},
   "source": [
    "For Trace value ' T', we can consider imputing with a small value below 0.01, e.g. 0.005."
   ]
  },
  {
   "cell_type": "code",
   "execution_count": 31,
   "metadata": {},
   "outputs": [],
   "source": [
    "for col in weather.columns:\n",
    "    weather[col].replace('M', np.nan, inplace=True)      # for columns using 'M' for missing values\n",
    "    weather[col].replace('  T', 0.005, inplace=True)     # for SnowFall and PrecipTotal columns \n",
    "    weather[col].replace('-', np.nan, inplace=True)      # for Sunrise and Sunset columns\n",
    "    weather[col].replace(' ', 'Moderate',inplace=True)   # for CodeSum column"
   ]
  },
  {
   "cell_type": "code",
   "execution_count": 32,
   "metadata": {
    "scrolled": true
   },
   "outputs": [
    {
     "data": {
      "text/html": [
       "<div>\n",
       "<style scoped>\n",
       "    .dataframe tbody tr th:only-of-type {\n",
       "        vertical-align: middle;\n",
       "    }\n",
       "\n",
       "    .dataframe tbody tr th {\n",
       "        vertical-align: top;\n",
       "    }\n",
       "\n",
       "    .dataframe thead th {\n",
       "        text-align: right;\n",
       "    }\n",
       "</style>\n",
       "<table border=\"1\" class=\"dataframe\">\n",
       "  <thead>\n",
       "    <tr style=\"text-align: right;\">\n",
       "      <th></th>\n",
       "      <th>Station</th>\n",
       "      <th>Date</th>\n",
       "      <th>Tmax</th>\n",
       "      <th>Tmin</th>\n",
       "      <th>Tavg</th>\n",
       "      <th>Depart</th>\n",
       "      <th>DewPoint</th>\n",
       "      <th>WetBulb</th>\n",
       "      <th>Heat</th>\n",
       "      <th>Cool</th>\n",
       "      <th>Sunrise</th>\n",
       "      <th>Sunset</th>\n",
       "      <th>CodeSum</th>\n",
       "      <th>Depth</th>\n",
       "      <th>Water1</th>\n",
       "      <th>SnowFall</th>\n",
       "      <th>PrecipTotal</th>\n",
       "      <th>StnPressure</th>\n",
       "      <th>SeaLevel</th>\n",
       "      <th>ResultSpeed</th>\n",
       "      <th>ResultDir</th>\n",
       "      <th>AvgSpeed</th>\n",
       "    </tr>\n",
       "  </thead>\n",
       "  <tbody>\n",
       "    <tr>\n",
       "      <th>0</th>\n",
       "      <td>1</td>\n",
       "      <td>2007-05-01</td>\n",
       "      <td>83</td>\n",
       "      <td>50</td>\n",
       "      <td>67</td>\n",
       "      <td>14</td>\n",
       "      <td>51</td>\n",
       "      <td>56</td>\n",
       "      <td>0</td>\n",
       "      <td>2</td>\n",
       "      <td>0448</td>\n",
       "      <td>1849</td>\n",
       "      <td>Moderate</td>\n",
       "      <td>0</td>\n",
       "      <td>NaN</td>\n",
       "      <td>0.0</td>\n",
       "      <td>0.00</td>\n",
       "      <td>29.10</td>\n",
       "      <td>29.82</td>\n",
       "      <td>1.7</td>\n",
       "      <td>27</td>\n",
       "      <td>9.2</td>\n",
       "    </tr>\n",
       "    <tr>\n",
       "      <th>1</th>\n",
       "      <td>2</td>\n",
       "      <td>2007-05-01</td>\n",
       "      <td>84</td>\n",
       "      <td>52</td>\n",
       "      <td>68</td>\n",
       "      <td>NaN</td>\n",
       "      <td>51</td>\n",
       "      <td>57</td>\n",
       "      <td>0</td>\n",
       "      <td>3</td>\n",
       "      <td>NaN</td>\n",
       "      <td>NaN</td>\n",
       "      <td>Moderate</td>\n",
       "      <td>NaN</td>\n",
       "      <td>NaN</td>\n",
       "      <td>NaN</td>\n",
       "      <td>0.00</td>\n",
       "      <td>29.18</td>\n",
       "      <td>29.82</td>\n",
       "      <td>2.7</td>\n",
       "      <td>25</td>\n",
       "      <td>9.6</td>\n",
       "    </tr>\n",
       "    <tr>\n",
       "      <th>2</th>\n",
       "      <td>1</td>\n",
       "      <td>2007-05-02</td>\n",
       "      <td>59</td>\n",
       "      <td>42</td>\n",
       "      <td>51</td>\n",
       "      <td>-3</td>\n",
       "      <td>42</td>\n",
       "      <td>47</td>\n",
       "      <td>14</td>\n",
       "      <td>0</td>\n",
       "      <td>0447</td>\n",
       "      <td>1850</td>\n",
       "      <td>BR</td>\n",
       "      <td>0</td>\n",
       "      <td>NaN</td>\n",
       "      <td>0.0</td>\n",
       "      <td>0.00</td>\n",
       "      <td>29.38</td>\n",
       "      <td>30.09</td>\n",
       "      <td>13.0</td>\n",
       "      <td>4</td>\n",
       "      <td>13.4</td>\n",
       "    </tr>\n",
       "    <tr>\n",
       "      <th>3</th>\n",
       "      <td>2</td>\n",
       "      <td>2007-05-02</td>\n",
       "      <td>60</td>\n",
       "      <td>43</td>\n",
       "      <td>52</td>\n",
       "      <td>NaN</td>\n",
       "      <td>42</td>\n",
       "      <td>47</td>\n",
       "      <td>13</td>\n",
       "      <td>0</td>\n",
       "      <td>NaN</td>\n",
       "      <td>NaN</td>\n",
       "      <td>BR HZ</td>\n",
       "      <td>NaN</td>\n",
       "      <td>NaN</td>\n",
       "      <td>NaN</td>\n",
       "      <td>0.00</td>\n",
       "      <td>29.44</td>\n",
       "      <td>30.08</td>\n",
       "      <td>13.3</td>\n",
       "      <td>2</td>\n",
       "      <td>13.4</td>\n",
       "    </tr>\n",
       "    <tr>\n",
       "      <th>4</th>\n",
       "      <td>1</td>\n",
       "      <td>2007-05-03</td>\n",
       "      <td>66</td>\n",
       "      <td>46</td>\n",
       "      <td>56</td>\n",
       "      <td>2</td>\n",
       "      <td>40</td>\n",
       "      <td>48</td>\n",
       "      <td>9</td>\n",
       "      <td>0</td>\n",
       "      <td>0446</td>\n",
       "      <td>1851</td>\n",
       "      <td>Moderate</td>\n",
       "      <td>0</td>\n",
       "      <td>NaN</td>\n",
       "      <td>0.0</td>\n",
       "      <td>0.00</td>\n",
       "      <td>29.39</td>\n",
       "      <td>30.12</td>\n",
       "      <td>11.7</td>\n",
       "      <td>7</td>\n",
       "      <td>11.9</td>\n",
       "    </tr>\n",
       "  </tbody>\n",
       "</table>\n",
       "</div>"
      ],
      "text/plain": [
       "   Station       Date  Tmax  Tmin Tavg Depart  DewPoint WetBulb Heat Cool  \\\n",
       "0        1 2007-05-01    83    50   67     14        51      56    0    2   \n",
       "1        2 2007-05-01    84    52   68    NaN        51      57    0    3   \n",
       "2        1 2007-05-02    59    42   51     -3        42      47   14    0   \n",
       "3        2 2007-05-02    60    43   52    NaN        42      47   13    0   \n",
       "4        1 2007-05-03    66    46   56      2        40      48    9    0   \n",
       "\n",
       "  Sunrise Sunset   CodeSum Depth  Water1 SnowFall PrecipTotal StnPressure  \\\n",
       "0    0448   1849  Moderate     0     NaN      0.0        0.00       29.10   \n",
       "1     NaN    NaN  Moderate   NaN     NaN      NaN        0.00       29.18   \n",
       "2    0447   1850        BR     0     NaN      0.0        0.00       29.38   \n",
       "3     NaN    NaN     BR HZ   NaN     NaN      NaN        0.00       29.44   \n",
       "4    0446   1851  Moderate     0     NaN      0.0        0.00       29.39   \n",
       "\n",
       "  SeaLevel  ResultSpeed  ResultDir AvgSpeed  \n",
       "0    29.82          1.7         27      9.2  \n",
       "1    29.82          2.7         25      9.6  \n",
       "2    30.09         13.0          4     13.4  \n",
       "3    30.08         13.3          2     13.4  \n",
       "4    30.12         11.7          7     11.9  "
      ]
     },
     "execution_count": 32,
     "metadata": {},
     "output_type": "execute_result"
    }
   ],
   "source": [
    "weather.head()"
   ]
  },
  {
   "cell_type": "markdown",
   "metadata": {},
   "source": [
    "Now that the values are corrected, let's check for missing values again."
   ]
  },
  {
   "cell_type": "code",
   "execution_count": 33,
   "metadata": {},
   "outputs": [
    {
     "data": {
      "text/html": [
       "<div>\n",
       "<style scoped>\n",
       "    .dataframe tbody tr th:only-of-type {\n",
       "        vertical-align: middle;\n",
       "    }\n",
       "\n",
       "    .dataframe tbody tr th {\n",
       "        vertical-align: top;\n",
       "    }\n",
       "\n",
       "    .dataframe thead th {\n",
       "        text-align: right;\n",
       "    }\n",
       "</style>\n",
       "<table border=\"1\" class=\"dataframe\">\n",
       "  <thead>\n",
       "    <tr style=\"text-align: right;\">\n",
       "      <th></th>\n",
       "      <th>sum</th>\n",
       "      <th>mean</th>\n",
       "    </tr>\n",
       "  </thead>\n",
       "  <tbody>\n",
       "    <tr>\n",
       "      <th>Water1</th>\n",
       "      <td>2944.0</td>\n",
       "      <td>1.000000</td>\n",
       "    </tr>\n",
       "    <tr>\n",
       "      <th>Sunset</th>\n",
       "      <td>1472.0</td>\n",
       "      <td>0.500000</td>\n",
       "    </tr>\n",
       "    <tr>\n",
       "      <th>Depth</th>\n",
       "      <td>1472.0</td>\n",
       "      <td>0.500000</td>\n",
       "    </tr>\n",
       "    <tr>\n",
       "      <th>Depart</th>\n",
       "      <td>1472.0</td>\n",
       "      <td>0.500000</td>\n",
       "    </tr>\n",
       "    <tr>\n",
       "      <th>SnowFall</th>\n",
       "      <td>1472.0</td>\n",
       "      <td>0.500000</td>\n",
       "    </tr>\n",
       "    <tr>\n",
       "      <th>Sunrise</th>\n",
       "      <td>1472.0</td>\n",
       "      <td>0.500000</td>\n",
       "    </tr>\n",
       "    <tr>\n",
       "      <th>Tavg</th>\n",
       "      <td>11.0</td>\n",
       "      <td>0.003736</td>\n",
       "    </tr>\n",
       "    <tr>\n",
       "      <th>Heat</th>\n",
       "      <td>11.0</td>\n",
       "      <td>0.003736</td>\n",
       "    </tr>\n",
       "    <tr>\n",
       "      <th>Cool</th>\n",
       "      <td>11.0</td>\n",
       "      <td>0.003736</td>\n",
       "    </tr>\n",
       "    <tr>\n",
       "      <th>SeaLevel</th>\n",
       "      <td>9.0</td>\n",
       "      <td>0.003057</td>\n",
       "    </tr>\n",
       "    <tr>\n",
       "      <th>StnPressure</th>\n",
       "      <td>4.0</td>\n",
       "      <td>0.001359</td>\n",
       "    </tr>\n",
       "    <tr>\n",
       "      <th>WetBulb</th>\n",
       "      <td>4.0</td>\n",
       "      <td>0.001359</td>\n",
       "    </tr>\n",
       "    <tr>\n",
       "      <th>AvgSpeed</th>\n",
       "      <td>3.0</td>\n",
       "      <td>0.001019</td>\n",
       "    </tr>\n",
       "    <tr>\n",
       "      <th>PrecipTotal</th>\n",
       "      <td>2.0</td>\n",
       "      <td>0.000679</td>\n",
       "    </tr>\n",
       "    <tr>\n",
       "      <th>CodeSum</th>\n",
       "      <td>0.0</td>\n",
       "      <td>0.000000</td>\n",
       "    </tr>\n",
       "    <tr>\n",
       "      <th>Date</th>\n",
       "      <td>0.0</td>\n",
       "      <td>0.000000</td>\n",
       "    </tr>\n",
       "    <tr>\n",
       "      <th>DewPoint</th>\n",
       "      <td>0.0</td>\n",
       "      <td>0.000000</td>\n",
       "    </tr>\n",
       "    <tr>\n",
       "      <th>Tmin</th>\n",
       "      <td>0.0</td>\n",
       "      <td>0.000000</td>\n",
       "    </tr>\n",
       "    <tr>\n",
       "      <th>Tmax</th>\n",
       "      <td>0.0</td>\n",
       "      <td>0.000000</td>\n",
       "    </tr>\n",
       "    <tr>\n",
       "      <th>ResultSpeed</th>\n",
       "      <td>0.0</td>\n",
       "      <td>0.000000</td>\n",
       "    </tr>\n",
       "    <tr>\n",
       "      <th>ResultDir</th>\n",
       "      <td>0.0</td>\n",
       "      <td>0.000000</td>\n",
       "    </tr>\n",
       "    <tr>\n",
       "      <th>Station</th>\n",
       "      <td>0.0</td>\n",
       "      <td>0.000000</td>\n",
       "    </tr>\n",
       "  </tbody>\n",
       "</table>\n",
       "</div>"
      ],
      "text/plain": [
       "                sum      mean\n",
       "Water1       2944.0  1.000000\n",
       "Sunset       1472.0  0.500000\n",
       "Depth        1472.0  0.500000\n",
       "Depart       1472.0  0.500000\n",
       "SnowFall     1472.0  0.500000\n",
       "Sunrise      1472.0  0.500000\n",
       "Tavg           11.0  0.003736\n",
       "Heat           11.0  0.003736\n",
       "Cool           11.0  0.003736\n",
       "SeaLevel        9.0  0.003057\n",
       "StnPressure     4.0  0.001359\n",
       "WetBulb         4.0  0.001359\n",
       "AvgSpeed        3.0  0.001019\n",
       "PrecipTotal     2.0  0.000679\n",
       "CodeSum         0.0  0.000000\n",
       "Date            0.0  0.000000\n",
       "DewPoint        0.0  0.000000\n",
       "Tmin            0.0  0.000000\n",
       "Tmax            0.0  0.000000\n",
       "ResultSpeed     0.0  0.000000\n",
       "ResultDir       0.0  0.000000\n",
       "Station         0.0  0.000000"
      ]
     },
     "execution_count": 33,
     "metadata": {},
     "output_type": "execute_result"
    }
   ],
   "source": [
    "weather.isnull().agg(['sum', 'mean']).T.sort_values('sum', ascending=False)"
   ]
  },
  {
   "cell_type": "markdown",
   "metadata": {},
   "source": [
    "**Further observations:**\n",
    "\n",
    "* Water1 have missing values in all records.\n",
    "* Sunrise, Sunset, Depth, Depart, SnowFall have missing values in half of the records (which we will take a look from which station)\n",
    "* Handful of missing values in Tavg, Heat, Cool, SeaLevel, StnPressure, WetBulb, AvgSpeed and PrecipTotal"
   ]
  },
  {
   "cell_type": "markdown",
   "metadata": {},
   "source": [
    "Let's check for missing values by Station."
   ]
  },
  {
   "cell_type": "code",
   "execution_count": 34,
   "metadata": {},
   "outputs": [
    {
     "data": {
      "image/png": "[encoded data removed]",
      "text/plain": [
       "<Figure size 1800x720 with 2 Axes>"
      ]
     },
     "metadata": {
      "needs_background": "light"
     },
     "output_type": "display_data"
    }
   ],
   "source": [
    "msno.matrix(weather[weather['Station'] == 1]);\n",
    "plt.title('Missing values in Weather dataset for Station 1', fontsize=24, y=1.15);"
   ]
  },
  {
   "cell_type": "code",
   "execution_count": null,
   "metadata": {},
   "outputs": [
    {
     "data": {
      "image/png": "[encoded data removed]",
      "text/plain": [
       "<Figure size 1800x720 with 2 Axes>"
      ]
     },
     "metadata": {
      "needs_background": "light"
     },
     "output_type": "display_data"
    }
   ],
   "source": [
    "msno.matrix(weather[weather['Station'] == 2]);\n",
    "plt.title('Missing values in Weather dataset for Station 2', fontsize=24, y=1.15);"
   ]
  },
  {
   "cell_type": "markdown",
   "metadata": {},
   "source": [
    "**Observation:**\n",
    "\n",
    "* Missing values in Depart, Sunrise, Sunset, Depth and SnowFall are contributed by Station 2 (1472 records).\n",
    "\n",
    "* Water1 values are missing for both Stations."
   ]
  },
  {
   "cell_type": "markdown",
   "metadata": {},
   "source": [
    "#### Missing values in Tavg"
   ]
  },
  {
   "cell_type": "markdown",
   "metadata": {},
   "source": [
    "Let's impute the missing values for Tavg by taking average of the day's maximum temperature (Tmax) and minimum temperature (Tmin)."
   ]
  },
  {
   "cell_type": "code",
   "execution_count": null,
   "metadata": {},
   "outputs": [],
   "source": [
    "weather['Tavg'].fillna(((weather['Tmax'] + weather['Tmin'])/2),inplace=True)"
   ]
  },
  {
   "cell_type": "code",
   "execution_count": null,
   "metadata": {},
   "outputs": [],
   "source": [
    "# convert to integer data type to align to Tmax and Tmin\n",
    "weather['Tavg'] = weather['Tavg'].astype('int64')"
   ]
  },
  {
   "cell_type": "markdown",
   "metadata": {},
   "source": [
    "#### Missing values in WetBulb"
   ]
  },
  {
   "cell_type": "code",
   "execution_count": null,
   "metadata": {},
   "outputs": [],
   "source": [
    "weather[weather['WetBulb'].isnull()]"
   ]
  },
  {
   "cell_type": "markdown",
   "metadata": {},
   "source": [
    "Based on our research, WetBulb and DewPoint are measurements of humidity.\n",
    "\n",
    "**Wet Bulb** temperature is the adiabatic saturation temperature, and can be measured by using a thermometer with the bulb wrapped in wet muslin. The temperature difference between the dry bulb and wet bulb, depends on the humidity of the air. **The Wet Bulb temperature is always between the Dry Bulb temperature and the Dew Point**.\n",
    "\n",
    "**Dry Bulb** Temperature refers basically to the ambient air temperature, for which **Tavg** in our dataset can be an approximate.\n",
    "\n",
    "**Dew Point** is the temperature where water vapor starts to condense out of the air (the temperature at which air becomes completely saturated). If the dew-point temperature is close to the dry air temperature - the relative humidity is high if the dew point is well below the dry air temperature - the relative humidity is low.\n",
    "\n",
    "source: https://www.engineeringtoolbox.com/dry-wet-bulb-dew-point-air-d_682.html"
   ]
  },
  {
   "cell_type": "markdown",
   "metadata": {},
   "source": [
    "Let's fill the WetBulb as mid point between Tavg and DewPoint, i.e. \n",
    "\n",
    "*WetBulb = (Tavg + DewPoint) / 2*"
   ]
  },
  {
   "cell_type": "code",
   "execution_count": null,
   "metadata": {},
   "outputs": [],
   "source": [
    "wetbulb_na_index = weather[weather['WetBulb'].isnull()].index\n",
    "\n",
    "for i in wetbulb_na_index:\n",
    "    weather.loc[i,'WetBulb'] = (weather.loc[i,'Tavg'] + weather.loc[i,'DewPoint']) /2"
   ]
  },
  {
   "cell_type": "markdown",
   "metadata": {},
   "source": [
    "#### Missing Values in Heat and Cool columns"
   ]
  },
  {
   "cell_type": "code",
   "execution_count": null,
   "metadata": {},
   "outputs": [],
   "source": [
    "weather[weather['Heat'].isnull()]"
   ]
  },
  {
   "cell_type": "code",
   "execution_count": null,
   "metadata": {},
   "outputs": [],
   "source": [
    "# fill station 2 missing values with station 1 data\n",
    "weather['Heat'].fillna(method='ffill', inplace=True)\n",
    "weather['Cool'].fillna(method='ffill', inplace=True)"
   ]
  },
  {
   "cell_type": "markdown",
   "metadata": {},
   "source": [
    "#### Missing Values in SeaLevel"
   ]
  },
  {
   "cell_type": "code",
   "execution_count": null,
   "metadata": {},
   "outputs": [],
   "source": [
    "weather[weather['SeaLevel'].isnull()]"
   ]
  },
  {
   "cell_type": "code",
   "execution_count": null,
   "metadata": {},
   "outputs": [],
   "source": [
    "def fill_cross_stations(df, column):\n",
    "    na_index = df[df[column].isnull()].index\n",
    "    for i in na_index:\n",
    "        if df.loc[i,'Station'] == 1: \n",
    "            weather.loc[i, column] = weather.loc[i+1,column]\n",
    "        else: \n",
    "            weather.loc[i, column] = weather.loc[i-1,column]"
   ]
  },
  {
   "cell_type": "code",
   "execution_count": null,
   "metadata": {},
   "outputs": [],
   "source": [
    "fill_cross_stations(weather, 'SeaLevel')"
   ]
  },
  {
   "cell_type": "markdown",
   "metadata": {},
   "source": [
    "#### Missing Values in StnPressure"
   ]
  },
  {
   "cell_type": "code",
   "execution_count": null,
   "metadata": {},
   "outputs": [],
   "source": [
    "weather[weather['StnPressure'].isnull()]"
   ]
  },
  {
   "cell_type": "code",
   "execution_count": null,
   "metadata": {},
   "outputs": [],
   "source": [
    "# fill na for station 1 with station 2, and vice versa\n",
    "fill_cross_stations(weather, 'StnPressure')\n",
    "\n",
    "# where both station 1 & 2 are null, fill with previous day data\n",
    "stnpressure_na_index = weather[weather['StnPressure'].isnull()].index\n",
    "for i in stnpressure_na_index:\n",
    "    weather.loc[i,'StnPressure'] = weather.loc[i-2,'StnPressure']"
   ]
  },
  {
   "cell_type": "markdown",
   "metadata": {},
   "source": [
    "#### Missing Values in AvgSpeed and PrecipTotal"
   ]
  },
  {
   "cell_type": "code",
   "execution_count": null,
   "metadata": {},
   "outputs": [],
   "source": [
    "weather[weather['AvgSpeed'].isnull()]"
   ]
  },
  {
   "cell_type": "code",
   "execution_count": null,
   "metadata": {},
   "outputs": [],
   "source": [
    "weather[weather['PrecipTotal'].isnull()]"
   ]
  },
  {
   "cell_type": "code",
   "execution_count": null,
   "metadata": {},
   "outputs": [],
   "source": [
    "# fill na for station 1 with station 2, and vice versa\n",
    "fill_cross_stations(weather, 'AvgSpeed')\n",
    "fill_cross_stations(weather, 'PrecipTotal')"
   ]
  },
  {
   "cell_type": "markdown",
   "metadata": {},
   "source": [
    "#### Missing Values in Water1, Sunrise, Sunset, Depart, SnowFall and Depth"
   ]
  },
  {
   "cell_type": "code",
   "execution_count": null,
   "metadata": {},
   "outputs": [],
   "source": [
    "# Since there is no value in Water1 for all records, let's drop the column\n",
    "weather.drop(columns = 'Water1', inplace=True)"
   ]
  },
  {
   "cell_type": "code",
   "execution_count": null,
   "metadata": {},
   "outputs": [],
   "source": [
    "# for the rest of the columns with missing values in Station 2, fill with values from Station 1\n",
    "\n",
    "missing_station2 = ['Sunrise', 'Sunset', 'Depart', 'SnowFall', 'Depth']\n",
    "\n",
    "for col in missing_station2:\n",
    "    weather[col].fillna(method='ffill', inplace=True)"
   ]
  },
  {
   "cell_type": "code",
   "execution_count": null,
   "metadata": {},
   "outputs": [],
   "source": [
    "# checking the remaining null values after cleaning\n",
    "weather.isnull().sum().sum()"
   ]
  },
  {
   "cell_type": "code",
   "execution_count": null,
   "metadata": {},
   "outputs": [],
   "source": [
    "# converting numeric columns to float\n",
    "\n",
    "col_to_float = ['Tmax', 'Tmin', 'Tavg', 'Depart', 'DewPoint', 'WetBulb', 'Heat', 'Cool','Depth', 'SnowFall', 'PrecipTotal', 'StnPressure', 'SeaLevel', 'ResultDir', 'AvgSpeed']\n",
    "\n",
    "for col in col_to_float:\n",
    "    weather[col] = weather[col].astype(float)"
   ]
  },
  {
   "cell_type": "code",
   "execution_count": null,
   "metadata": {},
   "outputs": [],
   "source": [
    "weather.info()"
   ]
  },
  {
   "cell_type": "markdown",
   "metadata": {},
   "source": [
    "## EDA"
   ]
  },
  {
   "cell_type": "markdown",
   "metadata": {},
   "source": [
    "#### Distrbution of Data by Date across Datasets"
   ]
  },
  {
   "cell_type": "markdown",
   "metadata": {},
   "source": [
    "Let's look at the distribution of data points by date for the 4 datasets."
   ]
  },
  {
   "cell_type": "code",
   "execution_count": null,
   "metadata": {},
   "outputs": [],
   "source": [
    "# plot histogram subplots to compare the date range across the 4 data sets\n",
    "fig, ax = plt.subplots(nrows=4, figsize=(15,14), sharex=True)\n",
    "\n",
    "df_list = [train, test, spray, weather] # List of our dataframes\n",
    "title_list = ['Train', 'Test', 'Spray', 'Weather']\n",
    "colors = ['plum', 'lightskyblue', 'sandybrown', 'mediumaquamarine']\n",
    "\n",
    "for i, df in enumerate(df_list):\n",
    "    ax[i].hist(df['Date'], bins=100, color=colors[i])\n",
    "    ax[i].set_title('Distribution of data points by Date in ' + str(title_list[i]), size=15, y=1.01)\n",
    "    ax[i].set_ylabel('Frequency')\n",
    "    ax[i].set_xlabel('Year')\n",
    "\n",
    "plt.tight_layout()"
   ]
  },
  {
   "cell_type": "markdown",
   "metadata": {},
   "source": [
    "**Observations:**\n",
    "\n",
    "* For the main dataset, we have data from 2007, 2009, 2011 and 2013 in the train dataset, and data from 2008, 2010, 2012 and 2014 in the test dataset.\n",
    "\n",
    "* For the spray data, the dataset only contains information about spray effort in 2011 and 2013.\n",
    "\n",
    "* As for weather data, we have data from 2007 to 2014."
   ]
  },
  {
   "cell_type": "markdown",
   "metadata": {},
   "source": [
    "#### Train Dataset"
   ]
  },
  {
   "cell_type": "code",
   "execution_count": null,
   "metadata": {
    "scrolled": true
   },
   "outputs": [],
   "source": [
    "train.head()"
   ]
  },
  {
   "cell_type": "code",
   "execution_count": null,
   "metadata": {},
   "outputs": [],
   "source": [
    "train.info()"
   ]
  },
  {
   "cell_type": "code",
   "execution_count": null,
   "metadata": {},
   "outputs": [],
   "source": [
    "train['Year'].value_counts()"
   ]
  },
  {
   "cell_type": "markdown",
   "metadata": {},
   "source": [
    "#### Target Variable - WnvPresent"
   ]
  },
  {
   "cell_type": "markdown",
   "metadata": {},
   "source": [
    "Since the aim of the project is to predict the present of West Nile Virus, let's take a look at our target variable WnvPresent."
   ]
  },
  {
   "cell_type": "code",
   "execution_count": null,
   "metadata": {},
   "outputs": [],
   "source": [
    "train['WnvPresent'].value_counts().plot(kind='bar', color='cornflowerblue', figsize=(8, 4))\n",
    "plt.title('WnvPresent - Frequency', fontsize = 14, y=1.01)\n",
    "plt.xticks(rotation=0);"
   ]
  },
  {
   "cell_type": "code",
   "execution_count": null,
   "metadata": {},
   "outputs": [],
   "source": [
    "train['WnvPresent'].value_counts(normalize=True)"
   ]
  },
  {
   "cell_type": "markdown",
   "metadata": {},
   "source": [
    "**Observation:**\n",
    "\n",
    "* Imbalance class in the WnvPresent variable, which means that we will need to consider oversampling the positive class later."
   ]
  },
  {
   "cell_type": "code",
   "execution_count": null,
   "metadata": {
    "scrolled": true
   },
   "outputs": [],
   "source": [
    "train.groupby('Year')['NumMosquitos'].sum().plot(kind='bar', color='lightcoral', figsize=(8,4))\n",
    "plt.title('NumMosquitos by Year', fontsize = 14, y=1.01)\n",
    "plt.xticks(rotation=0);"
   ]
  },
  {
   "cell_type": "code",
   "execution_count": null,
   "metadata": {},
   "outputs": [],
   "source": [
    "train.groupby('Year')['WnvPresent'].sum().plot(kind='bar', color='cornflowerblue', figsize=(8,4))\n",
    "plt.title('WnvPresent by Year', fontsize = 14, y=1.01)\n",
    "plt.xticks(rotation=0);"
   ]
  },
  {
   "cell_type": "markdown",
   "metadata": {},
   "source": [
    "Year 2007 has the highest number of mosquitos and WnvPresence instances, followed by 2013. Relatively lower mosquito counts and WnvPresent instances in 2009 and 2011."
   ]
  },
  {
   "cell_type": "markdown",
   "metadata": {},
   "source": [
    "#### Seasonality in Number of Mosquitos and WnvPresent"
   ]
  },
  {
   "cell_type": "code",
   "execution_count": null,
   "metadata": {},
   "outputs": [],
   "source": [
    "# plot time series showing seasonality of number of mosquitos\n",
    "\n",
    "mos_wnv_by_date=pd.DataFrame(train.groupby('Date')[['NumMosquitos','WnvPresent']].sum()).reset_index()\n",
    "\n",
    "fig = px.line(mos_wnv_by_date, x='Date', y='NumMosquitos',title='Number of Mosquitos by Date')\n",
    "\n",
    "fig.update_xaxes(\n",
    "    rangeslider_visible=True,\n",
    "    rangeselector=dict(\n",
    "        buttons=list([\n",
    "            dict(count=1, label=\"1m\", step=\"month\", stepmode=\"backward\"),\n",
    "            dict(count=6, label=\"6m\", step=\"month\", stepmode=\"backward\"),\n",
    "            dict(count=1, label=\"YTD\", step=\"year\", stepmode=\"todate\"),\n",
    "            dict(count=1, label=\"1y\", step=\"year\", stepmode=\"backward\"),\n",
    "            dict(step=\"all\")\n",
    "        ])\n",
    "    )\n",
    ")"
   ]
  },
  {
   "cell_type": "code",
   "execution_count": null,
   "metadata": {},
   "outputs": [],
   "source": [
    "# plot time series showing seasonality of WnvPresent\n",
    "\n",
    "fig = px.line(mos_wnv_by_date, x='Date', y='WnvPresent',title='WnvPresent by Date')\n",
    "\n",
    "fig.update_xaxes(\n",
    "    rangeslider_visible=True,\n",
    "    rangeselector=dict(\n",
    "        buttons=list([\n",
    "            dict(count=1, label=\"1m\", step=\"month\", stepmode=\"backward\"),\n",
    "            dict(count=6, label=\"6m\", step=\"month\", stepmode=\"backward\"),\n",
    "            dict(count=1, label=\"YTD\", step=\"year\", stepmode=\"todate\"),\n",
    "            dict(count=1, label=\"1y\", step=\"year\", stepmode=\"backward\"),\n",
    "            dict(step=\"all\")\n",
    "        ])\n",
    "    )\n",
    ")"
   ]
  },
  {
   "cell_type": "markdown",
   "metadata": {},
   "source": [
    "Based ont the train dataset, the Number of Mosquitos and WnvPresent instances peak every year in August, and is most prominent in 2007 and 2013 as noted earlier."
   ]
  },
  {
   "cell_type": "markdown",
   "metadata": {},
   "source": [
    "#### Species of Mosquitos"
   ]
  },
  {
   "cell_type": "code",
   "execution_count": null,
   "metadata": {},
   "outputs": [],
   "source": [
    "plt.figure(figsize=(15,5))\n",
    "plt.subplot(1,2,1)\n",
    "train.groupby('Species')['NumMosquitos'].sum().plot(kind='bar', color='lightcoral')\n",
    "plt.title('Number of Mosquitos by Species', fontsize=14, y=1.01)\n",
    "plt.subplot(1,2,2)\n",
    "train.groupby('Species')['WnvPresent'].sum().plot(kind='bar', color='cornflowerblue')\n",
    "plt.title('WnvPresent by Species', fontsize=14, y=1.01);"
   ]
  },
  {
   "cell_type": "markdown",
   "metadata": {},
   "source": [
    "Culex Pipiens/Restuans and Culex Pipiens are the most common species both in numbers and in association with presence of West Nile Virus."
   ]
  },
  {
   "cell_type": "code",
   "execution_count": null,
   "metadata": {},
   "outputs": [],
   "source": [
    "# plot time series showing seasonality of number of mosquitos by species\n",
    "\n",
    "mos_wnv_by_species =pd.DataFrame(train.groupby(['Date','Species'])[['NumMosquitos','WnvPresent']].sum()).reset_index()\n",
    "\n",
    "fig = px.line(mos_wnv_by_species, x='Date', y='NumMosquitos',title='Number of Mosquitos By Species',color='Species')\n",
    "\n",
    "\n",
    "fig.update_xaxes(\n",
    "    rangeslider_visible=True,\n",
    "    rangeselector=dict(\n",
    "        buttons=list([\n",
    "            dict(count=1, label=\"1m\", step=\"month\", stepmode=\"backward\"),\n",
    "            dict(count=6, label=\"6m\", step=\"month\", stepmode=\"backward\"),\n",
    "            dict(count=1, label=\"YTD\", step=\"year\", stepmode=\"todate\"),\n",
    "            dict(count=1, label=\"1y\", step=\"year\", stepmode=\"backward\"),\n",
    "            dict(step=\"all\")\n",
    "        ])\n",
    "    )\n",
    ")\n",
    "\n",
    "fig.show()"
   ]
  },
  {
   "cell_type": "code",
   "execution_count": null,
   "metadata": {},
   "outputs": [],
   "source": [
    "# plot time series showing seasonality of WnvPresent by species\n",
    "\n",
    "fig = px.line(mos_wnv_by_species, x='Date', y='WnvPresent',title='WnvPresent By Species',color='Species')\n",
    "\n",
    "\n",
    "fig.update_xaxes(\n",
    "    rangeslider_visible=True,\n",
    "    rangeselector=dict(\n",
    "        buttons=list([\n",
    "            dict(count=1, label=\"1m\", step=\"month\", stepmode=\"backward\"),\n",
    "            dict(count=6, label=\"6m\", step=\"month\", stepmode=\"backward\"),\n",
    "            dict(count=1, label=\"YTD\", step=\"year\", stepmode=\"todate\"),\n",
    "            dict(count=1, label=\"1y\", step=\"year\", stepmode=\"backward\"),\n",
    "            dict(step=\"all\")\n",
    "        ])\n",
    "    )\n",
    ")\n",
    "\n",
    "fig.show()"
   ]
  },
  {
   "cell_type": "markdown",
   "metadata": {},
   "source": [
    "#### Visualizing Number of Mosquitos by Location"
   ]
  },
  {
   "cell_type": "code",
   "execution_count": null,
   "metadata": {},
   "outputs": [],
   "source": [
    "mapdata = np.loadtxt('./data/mapdata_copyright_openstreetmap_contributors.txt')\n",
    "\n",
    "aspect = mapdata.shape[0] * 1.0 / mapdata.shape[1]\n",
    "long_lat_box = (train['Longitude'].min()-0.1, train['Longitude'].max()+0.1,\n",
    "               train['Latitude'].min()-0.1, train['Latitude'].max()+0.1)\n",
    "\n",
    "plt.figure(figsize=(10,12))\n",
    "plt.imshow(mapdata, \n",
    "           cmap=plt.get_cmap('gray'), \n",
    "           extent=long_lat_box, \n",
    "           aspect=aspect)\n",
    "\n",
    "long = train['Longitude']\n",
    "lat = train['Latitude']\n",
    "size = train['NumMosquitos']\n",
    "size_scatter = plt.scatter(x=long, y=lat, s=size, c='tomato', alpha=0.5)\n",
    "\n",
    "plt.title('Number of Mosquitos by Location', fontsize=14, y=1.01);"
   ]
  },
  {
   "cell_type": "markdown",
   "metadata": {},
   "source": [
    "#### Visualizing the location of traps, spray and weather stations"
   ]
  },
  {
   "cell_type": "code",
   "execution_count": null,
   "metadata": {},
   "outputs": [],
   "source": [
    "mapdata = np.loadtxt('./data/mapdata_copyright_openstreetmap_contributors.txt')\n",
    "\n",
    "traps = train[['Date', 'Trap','Longitude', 'Latitude', 'WnvPresent']]\n",
    "\n",
    "aspect = mapdata.shape[0] * 1.0 / mapdata.shape[1]\n",
    "long_lat_box = (train['Longitude'].min()-0.1, train['Longitude'].max()+0.1,\n",
    "               train['Latitude'].min()-0.1, train['Latitude'].max()+0.1)\n",
    "\n",
    "plt.figure(figsize=(10,12))\n",
    "plt.imshow(mapdata, \n",
    "           cmap=plt.get_cmap('gray'), \n",
    "           extent=long_lat_box, \n",
    "           aspect=aspect)\n",
    "\n",
    "# weather station 1 longitude and latitude\n",
    "station1_long = -87.933\n",
    "station1_lat = 41.995\n",
    "station1_scatter = plt.scatter(x=station1_long, y=station1_lat, marker='^', c='fuchsia', s=80)\n",
    "\n",
    "# weather station 2 longitude and latitude\n",
    "station2_long = -87.752\n",
    "station2_lat = 41.786 \n",
    "station2_scatter = plt.scatter(x=station2_long, y=station2_lat, marker='^', c='green', s=80)\n",
    "\n",
    "# spray longitude and latitude\n",
    "spray_long = spray['Longitude']\n",
    "spray_lat = spray['Latitude']\n",
    "spray_scatter = plt.scatter(x=spray_long, y=spray_lat, c='lightseagreen', s=30, alpha=0.3)\n",
    "\n",
    "# traps without WNV\n",
    "traps = train[['Date', 'Longitude', 'Latitude', 'WnvPresent']]\n",
    "no_wnv_long = traps[traps['WnvPresent'] == 0]['Longitude']\n",
    "no_wnv_lat = traps[traps['WnvPresent'] == 0]['Latitude']\n",
    "no_wnv_scatter = plt.scatter(x=no_wnv_long, y=no_wnv_lat, marker='x', c='blue', s=30)\n",
    "\n",
    "# trap with presence of WNV\n",
    "wnv_long = traps[traps['WnvPresent'] == 1]['Longitude']\n",
    "wnv_lat = traps[traps['WnvPresent'] == 1]['Latitude']\n",
    "wnv_scatter = plt.scatter(x=wnv_long, y=wnv_lat, marker='x', c='red', s=30)\n",
    "\n",
    "# Legend\n",
    "plt.legend({'Weather Station 1': station1_scatter, \n",
    "            'Weather Station 2':station2_scatter,\n",
    "            'Spray':spray_scatter,\n",
    "            'Traps without WNV':no_wnv_scatter, \n",
    "            'Traps with WNV':wnv_scatter})\n",
    "\n",
    "plt.title('Locations of Traps, Spray and Weather Stations', fontsize=14, y=1.01);"
   ]
  },
  {
   "cell_type": "markdown",
   "metadata": {},
   "source": [
    "#### Weather Data"
   ]
  },
  {
   "cell_type": "code",
   "execution_count": null,
   "metadata": {},
   "outputs": [],
   "source": [
    "weather.info()"
   ]
  },
  {
   "cell_type": "code",
   "execution_count": null,
   "metadata": {},
   "outputs": [],
   "source": [
    "weather_continuous = weather.select_dtypes(include = ['float']).columns"
   ]
  },
  {
   "cell_type": "code",
   "execution_count": null,
   "metadata": {},
   "outputs": [],
   "source": [
    "weather_continuous"
   ]
  },
  {
   "cell_type": "code",
   "execution_count": null,
   "metadata": {
    "scrolled": false
   },
   "outputs": [],
   "source": [
    "data = pd.melt(weather, value_vars=weather_continuous)\n",
    "g = sns.FacetGrid(data, col='variable', col_wrap=4, sharex=False, sharey=False)\n",
    "plt.xticks(rotation='vertical')\n",
    "g = g.map(sns.distplot, 'value', kde=False)\n",
    "[plt.setp(ax.get_xticklabels(), rotation=60) for ax in g.axes.flat]\n",
    "g.fig.tight_layout()"
   ]
  },
  {
   "cell_type": "code",
   "execution_count": null,
   "metadata": {},
   "outputs": [],
   "source": [
    "temperatures_col = ['Tmax', 'Tmin', 'Tavg', 'DewPoint', 'WetBulb', 'Heat', 'Cool']\n",
    "\n",
    "fig, ax = plt.subplots(figsize=(8,6))\n",
    "\n",
    "corr = weather[temperatures_col].corr()\n",
    "mask = np.triu(np.ones_like(corr, dtype=np.bool))\n",
    "\n",
    "g = sns.heatmap(corr, mask=mask, annot=True, cmap='coolwarm', vmin=-1, vmax=1, center=0, square=True, linewidths=.5, cbar_kws={\"shrink\": .7})\n",
    "g.set_title('Correlation Coefficient Matrix - Weather (Temperature-related Features)', fontsize=14);"
   ]
  },
  {
   "cell_type": "markdown",
   "metadata": {},
   "source": [
    "The temperature features show strong positive correlation. Of these, Tavg seems to have the strongest correlation with all the other temperature features. "
   ]
  },
  {
   "cell_type": "code",
   "execution_count": null,
   "metadata": {},
   "outputs": [],
   "source": [
    "fig, ax = plt.subplots(figsize=(8,6))\n",
    "\n",
    "corr = weather[['StnPressure', 'SeaLevel', 'ResultSpeed', 'ResultDir', 'AvgSpeed']].corr()\n",
    "mask = np.triu(np.ones_like(corr, dtype=np.bool))\n",
    "\n",
    "g = sns.heatmap(corr, mask=mask, annot=True, cmap='coolwarm', vmin=-1, vmax=1, center=0, square=True, linewidths=.5, cbar_kws={\"shrink\": .7})\n",
    "g.set_title('Correlation Coefficient Matrix - Weather (Pressure/ Wind-related Features)', fontsize=14);"
   ]
  },
  {
   "cell_type": "markdown",
   "metadata": {},
   "source": [
    "Strong correlation between AvgSpeed and ResultSpeed, as well as StnPressure and SeaLevel.\n",
    "Hence we can use AvgSpeed and StnPressure these in modelling."
   ]
  },
  {
   "cell_type": "markdown",
   "metadata": {},
   "source": [
    "Based on the above discussion, we will keep the following columns in the weather dataset:\n",
    "\n",
    "Station, Date, Tavg, PrecipTotal, StnPressure, AvgSpeed"
   ]
  },
  {
   "cell_type": "code",
   "execution_count": null,
   "metadata": {},
   "outputs": [],
   "source": [
    "# keep the useful columns and drop the rest\n",
    "weather = weather[['Station', 'Date', 'Tavg', 'PrecipTotal', 'StnPressure', 'AvgSpeed']]"
   ]
  },
  {
   "cell_type": "code",
   "execution_count": null,
   "metadata": {},
   "outputs": [],
   "source": [
    "weather.head()"
   ]
  },
  {
   "cell_type": "markdown",
   "metadata": {},
   "source": [
    "### TO DO!!!"
   ]
  },
  {
   "cell_type": "markdown",
   "metadata": {},
   "source": [
    "#### Think about what to do with CodeSum"
   ]
  },
  {
   "cell_type": "markdown",
   "metadata": {},
   "source": [
    "#### Feature Engineering: T-8 Day Window"
   ]
  },
  {
   "cell_type": "markdown",
   "metadata": {},
   "source": [
    "- According to CDC, it takes about 7–10 days for an egg to develop into an adult mosquito [source](https://www.cdc.gov/westnile/resources/pdfs/FS_MosquitoLifeCycle-508.pdf)\n"
   ]
  },
  {
   "cell_type": "code",
   "execution_count": null,
   "metadata": {},
   "outputs": [],
   "source": [
    "# there are 2 options, \n",
    "# we can take T-8 window --> shift by 8 days\n",
    "# we can calculate rolling mean for 4 days (day7-10), then shift it by 7 days\n"
   ]
  },
  {
   "cell_type": "code",
   "execution_count": null,
   "metadata": {
    "scrolled": true
   },
   "outputs": [],
   "source": [
    "weather.head()"
   ]
  },
  {
   "cell_type": "code",
   "execution_count": null,
   "metadata": {
    "scrolled": false
   },
   "outputs": [],
   "source": [
    "# reformat --> sort by station, then date, \n",
    "# as back up, we will assign this to 'weather_sorted' as a working df\n",
    "# and keep the original 'weather' untouched till we get the final engineered feature :)\n",
    "\n",
    "\n",
    "weather_sorted = weather.sort_values(['Station','Date'])\n",
    "\n",
    "weather_sorted.head()"
   ]
  },
  {
   "cell_type": "code",
   "execution_count": null,
   "metadata": {
    "scrolled": true
   },
   "outputs": [],
   "source": [
    "weather_sorted.tail()"
   ]
  },
  {
   "cell_type": "markdown",
   "metadata": {},
   "source": [
    "Now that we have the dataframe sorted by each station, and for each station are by date, we can start feature engineering:\n",
    "\n",
    "- Option 1: Shift by T-8\n",
    "- Option 2: Calculate rolling 4 days (day 7 to day 10), then shift by 7 days\n",
    "\n",
    "<span style='color:blueviolet'> Let's discuss which option, and if we want to do for all 4 features?</span>"
   ]
  },
  {
   "cell_type": "code",
   "execution_count": null,
   "metadata": {},
   "outputs": [],
   "source": [
    "# Option 1 : Shift\n",
    "\n",
    "weather_sorted['Tavg_m8'] = weather_sorted['Tavg'].shift(8)"
   ]
  },
  {
   "cell_type": "code",
   "execution_count": null,
   "metadata": {
    "scrolled": false
   },
   "outputs": [],
   "source": [
    "weather_sorted.head(15)  # note we will lose first 8, maybe we can fill with the mean"
   ]
  },
  {
   "cell_type": "code",
   "execution_count": null,
   "metadata": {},
   "outputs": [],
   "source": [
    "weather_sorted.tail(15)"
   ]
  },
  {
   "cell_type": "code",
   "execution_count": null,
   "metadata": {},
   "outputs": [],
   "source": [
    "# Option 2, rolling_mean for 4 days, then shift by 7 days\n",
    "\n",
    "# first rolling avg by 4 days...\n",
    "\n",
    "weather_sorted['Tavg_rolling4'] = weather_sorted['Tavg'].rolling(4).mean()\n",
    "weather_sorted.head()"
   ]
  },
  {
   "cell_type": "code",
   "execution_count": null,
   "metadata": {},
   "outputs": [],
   "source": [
    "# then shift it by 7 days\n",
    "\n",
    "weather_sorted['Tavg_rolling4_shift7'] = weather_sorted['Tavg_rolling4'].shift(7)"
   ]
  },
  {
   "cell_type": "code",
   "execution_count": null,
   "metadata": {
    "scrolled": false
   },
   "outputs": [],
   "source": [
    "weather_sorted.head(15)"
   ]
  },
  {
   "cell_type": "markdown",
   "metadata": {},
   "source": [
    "#### Feature Engineering: Optimal Temperature Range"
   ]
  },
  {
   "cell_type": "code",
   "execution_count": null,
   "metadata": {},
   "outputs": [],
   "source": []
  },
  {
   "cell_type": "code",
   "execution_count": null,
   "metadata": {},
   "outputs": [],
   "source": []
  },
  {
   "cell_type": "code",
   "execution_count": null,
   "metadata": {},
   "outputs": [],
   "source": []
  },
  {
   "cell_type": "markdown",
   "metadata": {},
   "source": [
    "#### Mapping Weather Data to Train and Test data"
   ]
  },
  {
   "cell_type": "code",
   "execution_count": null,
   "metadata": {},
   "outputs": [],
   "source": [
    "def get_distance_km(lon1, lat1, lon2, lat2):\n",
    "    \"\"\"function to obtain distance between 2 locations\n",
    "    input longitide and latitude of each location\"\"\"\n",
    "    lon1, lat1, lon2, lat2 = map(radians, [lon1, lat1, lon2, lat2])\n",
    "    return 6371 * (\n",
    "        acos(sin(lat1) * sin(lat2) + cos(lat1) * cos(lat2) * cos(lon1 - lon2))\n",
    "    )"
   ]
  },
  {
   "cell_type": "code",
   "execution_count": null,
   "metadata": {},
   "outputs": [],
   "source": [
    "get_distance_km(-87.933,41.995,-87.752,41.786)"
   ]
  },
  {
   "cell_type": "code",
   "execution_count": null,
   "metadata": {},
   "outputs": [],
   "source": [
    "def nearest_station(lon,lat):\n",
    "    \"\"\"function to identify the nearest weather station\n",
    "    from each trap location\n",
    "    input: longtitude and latitude of each trap location\"\"\"\n",
    "    station1_lat = 41.995\n",
    "    station1_lon = -87.933\n",
    "    station2_lat = 41.786\n",
    "    station2_lon = -87.752\n",
    "    station1= get_distance_km(station1_lon,station1_lat,lon,lat)\n",
    "    station2= get_distance_km(station2_lon,station2_lat,lon,lat)\n",
    "    if station1 < station2:\n",
    "        return 1\n",
    "    else:\n",
    "        return 2"
   ]
  },
  {
   "cell_type": "code",
   "execution_count": null,
   "metadata": {},
   "outputs": [],
   "source": [
    "for index in train.index:    \n",
    "    train.loc[index,'Station'] = nearest_station(train.loc[index,'Longitude'],train.loc[index,'Latitude'])\n",
    "train.tail()"
   ]
  }
 ],
 "metadata": {
  "kernelspec": {
   "display_name": "Python 3",
   "language": "python",
   "name": "python3"
  },
  "language_info": {
   "codemirror_mode": {
    "name": "ipython",
    "version": 3
   },
   "file_extension": ".py",
   "mimetype": "text/x-python",
   "name": "python",
   "nbconvert_exporter": "python",
   "pygments_lexer": "ipython3",
   "version": "3.8.3"
  }
 },
 "nbformat": 4,
 "nbformat_minor": 4
}
