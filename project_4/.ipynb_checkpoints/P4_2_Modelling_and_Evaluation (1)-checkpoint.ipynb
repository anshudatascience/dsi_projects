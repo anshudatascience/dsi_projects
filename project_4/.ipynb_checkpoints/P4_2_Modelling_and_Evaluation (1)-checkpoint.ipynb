{
 "cells": [
  {
   "cell_type": "markdown",
   "metadata": {},
   "source": [
    "# DSI Project 4: West Nile Virus Prediction"
   ]
  },
  {
   "cell_type": "markdown",
   "metadata": {},
   "source": [
    "## Modelling"
   ]
  },
  {
   "cell_type": "code",
   "execution_count": 1,
   "metadata": {},
   "outputs": [],
   "source": [
    "# import libraries\n",
    "import pandas as pd\n",
    "import numpy as np\n",
    "import seaborn as sns\n",
    "import matplotlib.pyplot as plt\n",
    "\n",
    "from sklearn.preprocessing import StandardScaler\n",
    "from sklearn.decomposition import PCA\n",
    "from sklearn.model_selection import train_test_split, KFold, cross_val_score, GridSearchCV\n",
    "from imblearn.over_sampling import SMOTE\n",
    "from imblearn.pipeline import Pipeline, make_pipeline\n",
    "from sklearn.linear_model import LogisticRegression\n",
    "from sklearn.tree import DecisionTreeClassifier, plot_tree\n",
    "from sklearn.ensemble import RandomForestClassifier, ExtraTreesClassifier, AdaBoostClassifier, GradientBoostingClassifier\n",
    "from xgboost import XGBClassifier, plot_importance\n",
    "from sklearn.metrics import confusion_matrix, plot_confusion_matrix, classification_report, roc_auc_score , plot_roc_curve\n",
    "\n",
    "pd.set_option('max_columns', None)\n",
    "pd.set_option('max_rows', None)\n",
    "\n",
    "plt.style.use('seaborn-muted')\n",
    "sns.set_style(style='white')\n",
    "\n",
    "%matplotlib inline"
   ]
  },
  {
   "cell_type": "code",
   "execution_count": 2,
   "metadata": {},
   "outputs": [],
   "source": [
    "# load datasets \n",
    "train = pd.read_csv('./data/train_clean.csv', parse_dates=['Date'])\n",
    "test = pd.read_csv('./data/test_clean.csv', parse_dates=['Date'])"
   ]
  },
  {
   "cell_type": "code",
   "execution_count": 3,
   "metadata": {},
   "outputs": [],
   "source": [
    "# define a function for intial exploration of dataset\n",
    "\n",
    "def data_exploration(df_name, df):\n",
    "    \"\"\"\n",
    "    function to perform initial data exploration to check for \n",
    "    dataframe shape, datatype, null values and duplicates\n",
    "    \n",
    "    \"\"\"\n",
    "    print(f\"DATASET: {df_name}\")\n",
    "    print(\"-------------------------------------\")\n",
    "    print(\"First 3 rows of dataset:\")\n",
    "    display(df.head(3))\n",
    "    print(\"\\n\")\n",
    "    # check shape of dataframe\n",
    "    print(f\"Shape of dataset: {df.shape}\")\n",
    "    print(\"\\n\")\n",
    "    # check datatypes\n",
    "    print(\"Columns & data types: \")\n",
    "    df.info()\n",
    "    print(\"\\n\")\n",
    "    # check for null values\n",
    "    print(\"Null values: \")\n",
    "    if df.isnull().sum().sum() == 0:\n",
    "        print(\"No null value\")\n",
    "    else:\n",
    "        for col in df:\n",
    "            print(f\"{col}: {df[col].isnull().sum()}\")\n",
    "    print(\"\\n\")\n",
    "    # check for duplicates\n",
    "    if df.duplicated(subset=None, keep='first').any() == False:\n",
    "        print(\"No duplicated row\")\n",
    "    else:\n",
    "        duplicates = df[df.duplicated(subset=None, keep='first')]\n",
    "        print(f\"{len(duplicates)} duplicated rows in dataset.\")"
   ]
  },
  {
   "cell_type": "markdown",
   "metadata": {},
   "source": [
    "### Train Data Set \n",
    "- This is the new train data set that is cleaned and merged with selected features from weather dataset post feature-engineering.\n",
    "- This file contains the columns `'NumMosquitos'` and `'WnvPresent'` to train the model for predictions, and do not have the column `'Id'` in test dataset that will be used for submitting predictions."
   ]
  },
  {
   "cell_type": "code",
   "execution_count": 4,
   "metadata": {
    "scrolled": false
   },
   "outputs": [
    {
     "name": "stdout",
     "output_type": "stream",
     "text": [
      "DATASET: Train\n",
      "-------------------------------------\n",
      "First 3 rows of dataset:\n"
     ]
    },
    {
     "data": {
      "text/html": [
       "<div>\n",
       "<style scoped>\n",
       "    .dataframe tbody tr th:only-of-type {\n",
       "        vertical-align: middle;\n",
       "    }\n",
       "\n",
       "    .dataframe tbody tr th {\n",
       "        vertical-align: top;\n",
       "    }\n",
       "\n",
       "    .dataframe thead th {\n",
       "        text-align: right;\n",
       "    }\n",
       "</style>\n",
       "<table border=\"1\" class=\"dataframe\">\n",
       "  <thead>\n",
       "    <tr style=\"text-align: right;\">\n",
       "      <th></th>\n",
       "      <th>Date</th>\n",
       "      <th>Trap</th>\n",
       "      <th>Latitude</th>\n",
       "      <th>Longitude</th>\n",
       "      <th>NumMosquitos</th>\n",
       "      <th>WnvPresent</th>\n",
       "      <th>Month</th>\n",
       "      <th>Year</th>\n",
       "      <th>C_Pipiens</th>\n",
       "      <th>C_Pipiens/Restuans</th>\n",
       "      <th>C_Restuans</th>\n",
       "      <th>C_Salinarius</th>\n",
       "      <th>C_Tarsalis</th>\n",
       "      <th>C_Territans</th>\n",
       "      <th>Station</th>\n",
       "      <th>Tavg</th>\n",
       "      <th>PrecipTotal</th>\n",
       "      <th>StnPressure</th>\n",
       "      <th>AvgSpeed</th>\n",
       "      <th>Tavg_rolling4_shift7</th>\n",
       "      <th>PrecipTotal_rolling4_shift7</th>\n",
       "      <th>StnPressure_rolling4_shift7</th>\n",
       "      <th>AvgSpeed_rolling4_shift7</th>\n",
       "      <th>Opt_temp</th>\n",
       "    </tr>\n",
       "  </thead>\n",
       "  <tbody>\n",
       "    <tr>\n",
       "      <th>0</th>\n",
       "      <td>2007-05-29</td>\n",
       "      <td>T096</td>\n",
       "      <td>41.731922</td>\n",
       "      <td>-87.677512</td>\n",
       "      <td>1</td>\n",
       "      <td>0</td>\n",
       "      <td>5</td>\n",
       "      <td>2007</td>\n",
       "      <td>1</td>\n",
       "      <td>0</td>\n",
       "      <td>0</td>\n",
       "      <td>0</td>\n",
       "      <td>0</td>\n",
       "      <td>0</td>\n",
       "      <td>2.0</td>\n",
       "      <td>77.0</td>\n",
       "      <td>0.0</td>\n",
       "      <td>29.44</td>\n",
       "      <td>7.4</td>\n",
       "      <td>65.5</td>\n",
       "      <td>0.0275</td>\n",
       "      <td>29.4125</td>\n",
       "      <td>9.875</td>\n",
       "      <td>1.0</td>\n",
       "    </tr>\n",
       "    <tr>\n",
       "      <th>1</th>\n",
       "      <td>2007-05-29</td>\n",
       "      <td>T048</td>\n",
       "      <td>41.867108</td>\n",
       "      <td>-87.654224</td>\n",
       "      <td>1</td>\n",
       "      <td>0</td>\n",
       "      <td>5</td>\n",
       "      <td>2007</td>\n",
       "      <td>0</td>\n",
       "      <td>1</td>\n",
       "      <td>0</td>\n",
       "      <td>0</td>\n",
       "      <td>0</td>\n",
       "      <td>0</td>\n",
       "      <td>2.0</td>\n",
       "      <td>77.0</td>\n",
       "      <td>0.0</td>\n",
       "      <td>29.44</td>\n",
       "      <td>7.4</td>\n",
       "      <td>65.5</td>\n",
       "      <td>0.0275</td>\n",
       "      <td>29.4125</td>\n",
       "      <td>9.875</td>\n",
       "      <td>1.0</td>\n",
       "    </tr>\n",
       "    <tr>\n",
       "      <th>2</th>\n",
       "      <td>2007-05-29</td>\n",
       "      <td>T050</td>\n",
       "      <td>41.919343</td>\n",
       "      <td>-87.694259</td>\n",
       "      <td>1</td>\n",
       "      <td>0</td>\n",
       "      <td>5</td>\n",
       "      <td>2007</td>\n",
       "      <td>0</td>\n",
       "      <td>1</td>\n",
       "      <td>0</td>\n",
       "      <td>0</td>\n",
       "      <td>0</td>\n",
       "      <td>0</td>\n",
       "      <td>2.0</td>\n",
       "      <td>77.0</td>\n",
       "      <td>0.0</td>\n",
       "      <td>29.44</td>\n",
       "      <td>7.4</td>\n",
       "      <td>65.5</td>\n",
       "      <td>0.0275</td>\n",
       "      <td>29.4125</td>\n",
       "      <td>9.875</td>\n",
       "      <td>1.0</td>\n",
       "    </tr>\n",
       "  </tbody>\n",
       "</table>\n",
       "</div>"
      ],
      "text/plain": [
       "        Date  Trap   Latitude  Longitude  NumMosquitos  WnvPresent  Month  \\\n",
       "0 2007-05-29  T096  41.731922 -87.677512             1           0      5   \n",
       "1 2007-05-29  T048  41.867108 -87.654224             1           0      5   \n",
       "2 2007-05-29  T050  41.919343 -87.694259             1           0      5   \n",
       "\n",
       "   Year  C_Pipiens  C_Pipiens/Restuans  C_Restuans  C_Salinarius  C_Tarsalis  \\\n",
       "0  2007          1                   0           0             0           0   \n",
       "1  2007          0                   1           0             0           0   \n",
       "2  2007          0                   1           0             0           0   \n",
       "\n",
       "   C_Territans  Station  Tavg  PrecipTotal  StnPressure  AvgSpeed  \\\n",
       "0            0      2.0  77.0          0.0        29.44       7.4   \n",
       "1            0      2.0  77.0          0.0        29.44       7.4   \n",
       "2            0      2.0  77.0          0.0        29.44       7.4   \n",
       "\n",
       "   Tavg_rolling4_shift7  PrecipTotal_rolling4_shift7  \\\n",
       "0                  65.5                       0.0275   \n",
       "1                  65.5                       0.0275   \n",
       "2                  65.5                       0.0275   \n",
       "\n",
       "   StnPressure_rolling4_shift7  AvgSpeed_rolling4_shift7  Opt_temp  \n",
       "0                      29.4125                     9.875       1.0  \n",
       "1                      29.4125                     9.875       1.0  \n",
       "2                      29.4125                     9.875       1.0  "
      ]
     },
     "metadata": {},
     "output_type": "display_data"
    },
    {
     "name": "stdout",
     "output_type": "stream",
     "text": [
      "\n",
      "\n",
      "Shape of dataset: (8475, 24)\n",
      "\n",
      "\n",
      "Columns & data types: \n",
      "<class 'pandas.core.frame.DataFrame'>\n",
      "RangeIndex: 8475 entries, 0 to 8474\n",
      "Data columns (total 24 columns):\n",
      " #   Column                       Non-Null Count  Dtype         \n",
      "---  ------                       --------------  -----         \n",
      " 0   Date                         8475 non-null   datetime64[ns]\n",
      " 1   Trap                         8475 non-null   object        \n",
      " 2   Latitude                     8475 non-null   float64       \n",
      " 3   Longitude                    8475 non-null   float64       \n",
      " 4   NumMosquitos                 8475 non-null   int64         \n",
      " 5   WnvPresent                   8475 non-null   int64         \n",
      " 6   Month                        8475 non-null   int64         \n",
      " 7   Year                         8475 non-null   int64         \n",
      " 8   C_Pipiens                    8475 non-null   int64         \n",
      " 9   C_Pipiens/Restuans           8475 non-null   int64         \n",
      " 10  C_Restuans                   8475 non-null   int64         \n",
      " 11  C_Salinarius                 8475 non-null   int64         \n",
      " 12  C_Tarsalis                   8475 non-null   int64         \n",
      " 13  C_Territans                  8475 non-null   int64         \n",
      " 14  Station                      8475 non-null   float64       \n",
      " 15  Tavg                         8475 non-null   float64       \n",
      " 16  PrecipTotal                  8475 non-null   float64       \n",
      " 17  StnPressure                  8475 non-null   float64       \n",
      " 18  AvgSpeed                     8475 non-null   float64       \n",
      " 19  Tavg_rolling4_shift7         8475 non-null   float64       \n",
      " 20  PrecipTotal_rolling4_shift7  8475 non-null   float64       \n",
      " 21  StnPressure_rolling4_shift7  8475 non-null   float64       \n",
      " 22  AvgSpeed_rolling4_shift7     8475 non-null   float64       \n",
      " 23  Opt_temp                     8475 non-null   float64       \n",
      "dtypes: datetime64[ns](1), float64(12), int64(10), object(1)\n",
      "memory usage: 1.6+ MB\n",
      "\n",
      "\n",
      "Null values: \n",
      "No null value\n",
      "\n",
      "\n",
      "No duplicated row\n"
     ]
    }
   ],
   "source": [
    "data_exploration('Train', train)"
   ]
  },
  {
   "cell_type": "markdown",
   "metadata": {},
   "source": [
    "For modelling, we will be using all the columns except Date, Trap, and NumMosquitos. Let's drop these columns first."
   ]
  },
  {
   "cell_type": "code",
   "execution_count": 5,
   "metadata": {},
   "outputs": [],
   "source": [
    "train.drop(columns=['Date', 'Trap', 'Station', 'NumMosquitos'], inplace=True)"
   ]
  },
  {
   "cell_type": "code",
   "execution_count": 6,
   "metadata": {},
   "outputs": [
    {
     "data": {
      "text/plain": [
       "Index(['Latitude', 'Longitude', 'WnvPresent', 'Month', 'Year', 'C_Pipiens',\n",
       "       'C_Pipiens/Restuans', 'C_Restuans', 'C_Salinarius', 'C_Tarsalis',\n",
       "       'C_Territans', 'Tavg', 'PrecipTotal', 'StnPressure', 'AvgSpeed',\n",
       "       'Tavg_rolling4_shift7', 'PrecipTotal_rolling4_shift7',\n",
       "       'StnPressure_rolling4_shift7', 'AvgSpeed_rolling4_shift7', 'Opt_temp'],\n",
       "      dtype='object')"
      ]
     },
     "execution_count": 6,
     "metadata": {},
     "output_type": "execute_result"
    }
   ],
   "source": [
    "train.columns"
   ]
  },
  {
   "cell_type": "code",
   "execution_count": 7,
   "metadata": {},
   "outputs": [
    {
     "data": {
      "text/plain": [
       "20"
      ]
     },
     "execution_count": 7,
     "metadata": {},
     "output_type": "execute_result"
    }
   ],
   "source": [
    "len(train.columns)"
   ]
  },
  {
   "cell_type": "markdown",
   "metadata": {},
   "source": [
    "### Test Data Set \n",
    "- This is the new train data set that is cleaned and merged with selected features from weather dataset post feature-engineering.\n",
    "- Test data does not have target variable `'WnvPresent'` for prediction, as well as the related column `'NumMosquitos'`\n",
    "- The column `'Id'` will be used for submission together with the predictions of the target variable `'WnvPresent'`"
   ]
  },
  {
   "cell_type": "code",
   "execution_count": 8,
   "metadata": {
    "scrolled": false
   },
   "outputs": [
    {
     "name": "stdout",
     "output_type": "stream",
     "text": [
      "DATASET: Test\n",
      "-------------------------------------\n",
      "First 3 rows of dataset:\n"
     ]
    },
    {
     "data": {
      "text/html": [
       "<div>\n",
       "<style scoped>\n",
       "    .dataframe tbody tr th:only-of-type {\n",
       "        vertical-align: middle;\n",
       "    }\n",
       "\n",
       "    .dataframe tbody tr th {\n",
       "        vertical-align: top;\n",
       "    }\n",
       "\n",
       "    .dataframe thead th {\n",
       "        text-align: right;\n",
       "    }\n",
       "</style>\n",
       "<table border=\"1\" class=\"dataframe\">\n",
       "  <thead>\n",
       "    <tr style=\"text-align: right;\">\n",
       "      <th></th>\n",
       "      <th>Id</th>\n",
       "      <th>Date</th>\n",
       "      <th>Trap</th>\n",
       "      <th>Latitude</th>\n",
       "      <th>Longitude</th>\n",
       "      <th>Month</th>\n",
       "      <th>Year</th>\n",
       "      <th>C_Pipiens</th>\n",
       "      <th>C_Pipiens/Restuans</th>\n",
       "      <th>C_Restuans</th>\n",
       "      <th>C_Salinarius</th>\n",
       "      <th>C_Tarsalis</th>\n",
       "      <th>C_Territans</th>\n",
       "      <th>Station</th>\n",
       "      <th>Tavg</th>\n",
       "      <th>PrecipTotal</th>\n",
       "      <th>StnPressure</th>\n",
       "      <th>AvgSpeed</th>\n",
       "      <th>Tavg_rolling4_shift7</th>\n",
       "      <th>PrecipTotal_rolling4_shift7</th>\n",
       "      <th>StnPressure_rolling4_shift7</th>\n",
       "      <th>AvgSpeed_rolling4_shift7</th>\n",
       "      <th>Opt_temp</th>\n",
       "    </tr>\n",
       "  </thead>\n",
       "  <tbody>\n",
       "    <tr>\n",
       "      <th>0</th>\n",
       "      <td>1</td>\n",
       "      <td>2008-06-11</td>\n",
       "      <td>T002</td>\n",
       "      <td>41.95469</td>\n",
       "      <td>-87.800991</td>\n",
       "      <td>6</td>\n",
       "      <td>2008</td>\n",
       "      <td>0</td>\n",
       "      <td>1</td>\n",
       "      <td>0</td>\n",
       "      <td>0</td>\n",
       "      <td>0</td>\n",
       "      <td>0</td>\n",
       "      <td>1.0</td>\n",
       "      <td>74.0</td>\n",
       "      <td>0.0</td>\n",
       "      <td>29.28</td>\n",
       "      <td>10.0</td>\n",
       "      <td>65.75</td>\n",
       "      <td>0.1325</td>\n",
       "      <td>29.065</td>\n",
       "      <td>6.15</td>\n",
       "      <td>1.0</td>\n",
       "    </tr>\n",
       "    <tr>\n",
       "      <th>1</th>\n",
       "      <td>2</td>\n",
       "      <td>2008-06-11</td>\n",
       "      <td>T002</td>\n",
       "      <td>41.95469</td>\n",
       "      <td>-87.800991</td>\n",
       "      <td>6</td>\n",
       "      <td>2008</td>\n",
       "      <td>0</td>\n",
       "      <td>0</td>\n",
       "      <td>1</td>\n",
       "      <td>0</td>\n",
       "      <td>0</td>\n",
       "      <td>0</td>\n",
       "      <td>1.0</td>\n",
       "      <td>74.0</td>\n",
       "      <td>0.0</td>\n",
       "      <td>29.28</td>\n",
       "      <td>10.0</td>\n",
       "      <td>65.75</td>\n",
       "      <td>0.1325</td>\n",
       "      <td>29.065</td>\n",
       "      <td>6.15</td>\n",
       "      <td>1.0</td>\n",
       "    </tr>\n",
       "    <tr>\n",
       "      <th>2</th>\n",
       "      <td>3</td>\n",
       "      <td>2008-06-11</td>\n",
       "      <td>T002</td>\n",
       "      <td>41.95469</td>\n",
       "      <td>-87.800991</td>\n",
       "      <td>6</td>\n",
       "      <td>2008</td>\n",
       "      <td>1</td>\n",
       "      <td>0</td>\n",
       "      <td>0</td>\n",
       "      <td>0</td>\n",
       "      <td>0</td>\n",
       "      <td>0</td>\n",
       "      <td>1.0</td>\n",
       "      <td>74.0</td>\n",
       "      <td>0.0</td>\n",
       "      <td>29.28</td>\n",
       "      <td>10.0</td>\n",
       "      <td>65.75</td>\n",
       "      <td>0.1325</td>\n",
       "      <td>29.065</td>\n",
       "      <td>6.15</td>\n",
       "      <td>1.0</td>\n",
       "    </tr>\n",
       "  </tbody>\n",
       "</table>\n",
       "</div>"
      ],
      "text/plain": [
       "   Id       Date  Trap  Latitude  Longitude  Month  Year  C_Pipiens  \\\n",
       "0   1 2008-06-11  T002  41.95469 -87.800991      6  2008          0   \n",
       "1   2 2008-06-11  T002  41.95469 -87.800991      6  2008          0   \n",
       "2   3 2008-06-11  T002  41.95469 -87.800991      6  2008          1   \n",
       "\n",
       "   C_Pipiens/Restuans  C_Restuans  C_Salinarius  C_Tarsalis  C_Territans  \\\n",
       "0                   1           0             0           0            0   \n",
       "1                   0           1             0           0            0   \n",
       "2                   0           0             0           0            0   \n",
       "\n",
       "   Station  Tavg  PrecipTotal  StnPressure  AvgSpeed  Tavg_rolling4_shift7  \\\n",
       "0      1.0  74.0          0.0        29.28      10.0                 65.75   \n",
       "1      1.0  74.0          0.0        29.28      10.0                 65.75   \n",
       "2      1.0  74.0          0.0        29.28      10.0                 65.75   \n",
       "\n",
       "   PrecipTotal_rolling4_shift7  StnPressure_rolling4_shift7  \\\n",
       "0                       0.1325                       29.065   \n",
       "1                       0.1325                       29.065   \n",
       "2                       0.1325                       29.065   \n",
       "\n",
       "   AvgSpeed_rolling4_shift7  Opt_temp  \n",
       "0                      6.15       1.0  \n",
       "1                      6.15       1.0  \n",
       "2                      6.15       1.0  "
      ]
     },
     "metadata": {},
     "output_type": "display_data"
    },
    {
     "name": "stdout",
     "output_type": "stream",
     "text": [
      "\n",
      "\n",
      "Shape of dataset: (116293, 23)\n",
      "\n",
      "\n",
      "Columns & data types: \n",
      "<class 'pandas.core.frame.DataFrame'>\n",
      "RangeIndex: 116293 entries, 0 to 116292\n",
      "Data columns (total 23 columns):\n",
      " #   Column                       Non-Null Count   Dtype         \n",
      "---  ------                       --------------   -----         \n",
      " 0   Id                           116293 non-null  int64         \n",
      " 1   Date                         116293 non-null  datetime64[ns]\n",
      " 2   Trap                         116293 non-null  object        \n",
      " 3   Latitude                     116293 non-null  float64       \n",
      " 4   Longitude                    116293 non-null  float64       \n",
      " 5   Month                        116293 non-null  int64         \n",
      " 6   Year                         116293 non-null  int64         \n",
      " 7   C_Pipiens                    116293 non-null  int64         \n",
      " 8   C_Pipiens/Restuans           116293 non-null  int64         \n",
      " 9   C_Restuans                   116293 non-null  int64         \n",
      " 10  C_Salinarius                 116293 non-null  int64         \n",
      " 11  C_Tarsalis                   116293 non-null  int64         \n",
      " 12  C_Territans                  116293 non-null  int64         \n",
      " 13  Station                      116293 non-null  float64       \n",
      " 14  Tavg                         116293 non-null  float64       \n",
      " 15  PrecipTotal                  116293 non-null  float64       \n",
      " 16  StnPressure                  116293 non-null  float64       \n",
      " 17  AvgSpeed                     116293 non-null  float64       \n",
      " 18  Tavg_rolling4_shift7         116293 non-null  float64       \n",
      " 19  PrecipTotal_rolling4_shift7  116293 non-null  float64       \n",
      " 20  StnPressure_rolling4_shift7  116293 non-null  float64       \n",
      " 21  AvgSpeed_rolling4_shift7     116293 non-null  float64       \n",
      " 22  Opt_temp                     116293 non-null  float64       \n",
      "dtypes: datetime64[ns](1), float64(12), int64(9), object(1)\n",
      "memory usage: 20.4+ MB\n",
      "\n",
      "\n",
      "Null values: \n",
      "No null value\n",
      "\n",
      "\n",
      "No duplicated row\n"
     ]
    }
   ],
   "source": [
    "data_exploration('Test', test)"
   ]
  },
  {
   "cell_type": "markdown",
   "metadata": {},
   "source": [
    "Similarly, for the test data, we will also drop Date and Trap."
   ]
  },
  {
   "cell_type": "code",
   "execution_count": 9,
   "metadata": {},
   "outputs": [],
   "source": [
    "test.drop(columns=['Date', 'Trap', 'Station'], inplace=True)"
   ]
  },
  {
   "cell_type": "code",
   "execution_count": 10,
   "metadata": {},
   "outputs": [
    {
     "data": {
      "text/plain": [
       "Index(['Id', 'Latitude', 'Longitude', 'Month', 'Year', 'C_Pipiens',\n",
       "       'C_Pipiens/Restuans', 'C_Restuans', 'C_Salinarius', 'C_Tarsalis',\n",
       "       'C_Territans', 'Tavg', 'PrecipTotal', 'StnPressure', 'AvgSpeed',\n",
       "       'Tavg_rolling4_shift7', 'PrecipTotal_rolling4_shift7',\n",
       "       'StnPressure_rolling4_shift7', 'AvgSpeed_rolling4_shift7', 'Opt_temp'],\n",
       "      dtype='object')"
      ]
     },
     "execution_count": 10,
     "metadata": {},
     "output_type": "execute_result"
    }
   ],
   "source": [
    "test.columns"
   ]
  },
  {
   "cell_type": "code",
   "execution_count": 11,
   "metadata": {},
   "outputs": [
    {
     "data": {
      "text/plain": [
       "20"
      ]
     },
     "execution_count": 11,
     "metadata": {},
     "output_type": "execute_result"
    }
   ],
   "source": [
    "len(test.columns)"
   ]
  },
  {
   "cell_type": "markdown",
   "metadata": {},
   "source": [
    "### Recap Problem Statement / Modelling Objective:\n",
    "\n",
    "- We are tasked to develop a strategy to deploy the effective use of pesticides, by targeting spraying of pesticides to areas of high risk will help to mitigate future outbreaks.\n",
    "\n",
    "\n",
    "- Modelling:  **Binary Classification Model** to predict the presence of the West Nile Virus in the city of Chicago, leveraging on weather, location, mosquito population and spraying data.\n",
    "\n",
    "\n",
    "- The model that achieves the highest ROC AUC score on the validation data set, will be selected as our production model.\n",
    "\n",
    "\n",
    "- To mitigate the risk of future outbreaks, we want to be as accurate as possible at predicting the presence of West Nile Virus (`class 1`).  Hence, we will focus more on the **Sensitivity Score** (True Positives / (True Positive + False Negative)).  There is a higher risk of outbreaks if the model predicts an absence where the virus is present (False Negative), whereas it is just overcaution if the model wrongly predicts a presence of the virus (False Positive).\n",
    "\n",
    "\n",
    "- From the EDA:  Our target variable `'WnvPresent'` is highly imbalanced.\n",
    "  - Positive class of only 5.4%.\n",
    "  - <span style = 'color:blue'>**Baseline accuracy is 94.6077%**</span>, which is the percentage of the majority class (`class 0` : West Nile Virus not Present)\n",
    "  - <span style = 'color:blue'>**Baseline ROC AUC score will be 0.5**</span>, which means that the model has no discrimination capacity to distinguish between positive class and negative class."
   ]
  },
  {
   "cell_type": "code",
   "execution_count": 12,
   "metadata": {},
   "outputs": [
    {
     "data": {
      "text/plain": [
       "0    0.946077\n",
       "1    0.053923\n",
       "Name: WnvPresent, dtype: float64"
      ]
     },
     "execution_count": 12,
     "metadata": {},
     "output_type": "execute_result"
    }
   ],
   "source": [
    "train['WnvPresent'].value_counts(normalize=True)"
   ]
  },
  {
   "cell_type": "code",
   "execution_count": 13,
   "metadata": {},
   "outputs": [
    {
     "data": {
      "image/png": "[encoded data removed]",
      "text/plain": [
       "<Figure size 576x288 with 1 Axes>"
      ]
     },
     "metadata": {
      "needs_background": "light"
     },
     "output_type": "display_data"
    }
   ],
   "source": [
    "plt.figure(figsize=(12,6))\n",
    "train['WnvPresent'].value_counts().plot(kind='bar', color='cornflowerblue', figsize=(8, 4))\n",
    "plt.title('WnvPresent - Frequency', fontsize = 14, y=1.01)\n",
    "plt.xticks(rotation=0);"
   ]
  },
  {
   "cell_type": "markdown",
   "metadata": {},
   "source": [
    "## Model Preparation"
   ]
  },
  {
   "cell_type": "code",
   "execution_count": 14,
   "metadata": {},
   "outputs": [],
   "source": [
    "X = train[[col for col in train.columns if col != 'WnvPresent']]\n",
    "y = train['WnvPresent']"
   ]
  },
  {
   "cell_type": "code",
   "execution_count": 15,
   "metadata": {},
   "outputs": [
    {
     "data": {
      "text/plain": [
       "(8475, 19)"
      ]
     },
     "execution_count": 15,
     "metadata": {},
     "output_type": "execute_result"
    }
   ],
   "source": [
    "X.shape"
   ]
  },
  {
   "cell_type": "code",
   "execution_count": 16,
   "metadata": {},
   "outputs": [
    {
     "data": {
      "text/plain": [
       "(8475,)"
      ]
     },
     "execution_count": 16,
     "metadata": {},
     "output_type": "execute_result"
    }
   ],
   "source": [
    "y.shape"
   ]
  },
  {
   "cell_type": "code",
   "execution_count": 17,
   "metadata": {},
   "outputs": [],
   "source": [
    "X_train, X_val, y_train, y_val = train_test_split(X, y, test_size=0.2, random_state=42, stratify=y)"
   ]
  },
  {
   "cell_type": "code",
   "execution_count": 18,
   "metadata": {},
   "outputs": [
    {
     "data": {
      "text/plain": [
       "(6780, 19)"
      ]
     },
     "execution_count": 18,
     "metadata": {},
     "output_type": "execute_result"
    }
   ],
   "source": [
    "X_train.shape"
   ]
  },
  {
   "cell_type": "code",
   "execution_count": 19,
   "metadata": {},
   "outputs": [
    {
     "data": {
      "text/plain": [
       "(1695, 19)"
      ]
     },
     "execution_count": 19,
     "metadata": {},
     "output_type": "execute_result"
    }
   ],
   "source": [
    "X_val.shape"
   ]
  },
  {
   "cell_type": "code",
   "execution_count": 20,
   "metadata": {},
   "outputs": [
    {
     "data": {
      "text/plain": [
       "0    0.946313\n",
       "1    0.053687\n",
       "Name: WnvPresent, dtype: float64"
      ]
     },
     "execution_count": 20,
     "metadata": {},
     "output_type": "execute_result"
    }
   ],
   "source": [
    "y_val.value_counts(normalize=True)"
   ]
  },
  {
   "cell_type": "markdown",
   "metadata": {},
   "source": [
    "Based on the original dataset, the baseline accuracy based on y_val is 0.946313."
   ]
  },
  {
   "cell_type": "markdown",
   "metadata": {},
   "source": [
    "### Resampling for Imbalanced Dataset using SMOTE"
   ]
  },
  {
   "cell_type": "markdown",
   "metadata": {},
   "source": [
    "To handle the imbalanced dataset, we can apply SMOTE for oversampling. \n",
    "\n",
    "Let's visualise the data distribution of the imbalanced dataset, and see how SMOTE changes the data distribution."
   ]
  },
  {
   "cell_type": "code",
   "execution_count": 21,
   "metadata": {},
   "outputs": [],
   "source": [
    "# Define function for 2-dimensional plot to visualise data distribution\n",
    "def plot_2d_space(X, y, label='Classes'):   \n",
    "    colors = ['b', 'r']\n",
    "    markers = ['o', 's']\n",
    "    plt.figure(figsize=(10,5))\n",
    "    for l, c, m in zip(np.unique(y), colors, markers):\n",
    "            plt.scatter(\n",
    "            X[y==l, 0],\n",
    "            X[y==l, 1],\n",
    "            alpha = 0.5,\n",
    "            c=c, label=l, marker=m\n",
    "        )\n",
    "    plt.title(label, fontsize=14, y=1.01)\n",
    "    leg = plt.legend(loc='upper right')\n",
    "    for lh in leg.legendHandles: \n",
    "        lh.set_alpha(1)\n",
    "    plt.show()"
   ]
  },
  {
   "cell_type": "code",
   "execution_count": 22,
   "metadata": {},
   "outputs": [
    {
     "data": {
      "image/png": "[encoded data removed]",
      "text/plain": [
       "<Figure size 720x360 with 1 Axes>"
      ]
     },
     "metadata": {
      "needs_background": "light"
     },
     "output_type": "display_data"
    }
   ],
   "source": [
    "# Because the dataset has many dimensions (features) and our graphs will be 2D,\n",
    "# we will reduce the size of the dataset using PCA\n",
    "\n",
    "pca = PCA(n_components=2)\n",
    "X_imbalanced = pca.fit_transform(X)\n",
    "\n",
    "plot_2d_space(X_imbalanced, y, 'Imbalanced Dataset')"
   ]
  },
  {
   "cell_type": "code",
   "execution_count": 23,
   "metadata": {},
   "outputs": [
    {
     "data": {
      "image/png": "[encoded data removed]",
      "text/plain": [
       "<Figure size 720x360 with 1 Axes>"
      ]
     },
     "metadata": {
      "needs_background": "light"
     },
     "output_type": "display_data"
    }
   ],
   "source": [
    "# visualising data distribution with SMOTE Oversampling\n",
    "\n",
    "pca = PCA(n_components=2)\n",
    "smote = SMOTE(random_state=42)\n",
    "X_sm, y_sm = smote.fit_sample(X, y)\n",
    "X_balanced = pca.fit_transform(X_sm)\n",
    "\n",
    "plot_2d_space(X_balanced, y_sm, 'SMOTE Oversampling')"
   ]
  },
  {
   "cell_type": "code",
   "execution_count": 24,
   "metadata": {},
   "outputs": [
    {
     "data": {
      "text/plain": [
       "1    0.5\n",
       "0    0.5\n",
       "Name: WnvPresent, dtype: float64"
      ]
     },
     "execution_count": 24,
     "metadata": {},
     "output_type": "execute_result"
    }
   ],
   "source": [
    "y_sm.value_counts(normalize=True)"
   ]
  },
  {
   "cell_type": "markdown",
   "metadata": {},
   "source": [
    "With oversampling using SMOTE, the baseline accuracy is now 0.5. Our models will need to perform better than this."
   ]
  },
  {
   "cell_type": "markdown",
   "metadata": {},
   "source": [
    "## Modelling"
   ]
  },
  {
   "cell_type": "markdown",
   "metadata": {},
   "source": [
    "### Model 1: Logistic Regression"
   ]
  },
  {
   "cell_type": "code",
   "execution_count": 25,
   "metadata": {},
   "outputs": [],
   "source": [
    "# set up pipeline\n",
    "pipe_lr = make_pipeline(StandardScaler(),\n",
    "                        SMOTE(random_state=42),\n",
    "                        LogisticRegression(solver='lbfgs',random_state=42))"
   ]
  },
  {
   "cell_type": "code",
   "execution_count": 26,
   "metadata": {
    "scrolled": true
   },
   "outputs": [
    {
     "name": "stderr",
     "output_type": "stream",
     "text": [
      "C:\\Users\\Leung\\anaconda3\\lib\\site-packages\\sklearn\\model_selection\\_split.py:297: FutureWarning: Setting a random_state has no effect since shuffle is False. This will raise an error in 0.24. You should leave random_state to its default (None), or set shuffle=True.\n",
      "  FutureWarning\n"
     ]
    }
   ],
   "source": [
    "kf = KFold(n_splits=5, random_state=42, shuffle=False)"
   ]
  },
  {
   "cell_type": "code",
   "execution_count": 27,
   "metadata": {
    "scrolled": true
   },
   "outputs": [
    {
     "data": {
      "text/plain": [
       "0.8041015200723193"
      ]
     },
     "execution_count": 27,
     "metadata": {},
     "output_type": "execute_result"
    }
   ],
   "source": [
    "cross_val_score(pipe_lr, X_train, y_train, scoring='roc_auc', cv=kf).mean()"
   ]
  },
  {
   "cell_type": "code",
   "execution_count": 28,
   "metadata": {
    "scrolled": true
   },
   "outputs": [
    {
     "data": {
      "text/plain": [
       "{'memory': None,\n",
       " 'steps': [('standardscaler', StandardScaler()),\n",
       "  ('smote', SMOTE(random_state=42)),\n",
       "  ('logisticregression', LogisticRegression(random_state=42))],\n",
       " 'verbose': False,\n",
       " 'standardscaler': StandardScaler(),\n",
       " 'smote': SMOTE(random_state=42),\n",
       " 'logisticregression': LogisticRegression(random_state=42),\n",
       " 'standardscaler__copy': True,\n",
       " 'standardscaler__with_mean': True,\n",
       " 'standardscaler__with_std': True,\n",
       " 'smote__k_neighbors': 5,\n",
       " 'smote__n_jobs': None,\n",
       " 'smote__random_state': 42,\n",
       " 'smote__sampling_strategy': 'auto',\n",
       " 'logisticregression__C': 1.0,\n",
       " 'logisticregression__class_weight': None,\n",
       " 'logisticregression__dual': False,\n",
       " 'logisticregression__fit_intercept': True,\n",
       " 'logisticregression__intercept_scaling': 1,\n",
       " 'logisticregression__l1_ratio': None,\n",
       " 'logisticregression__max_iter': 100,\n",
       " 'logisticregression__multi_class': 'auto',\n",
       " 'logisticregression__n_jobs': None,\n",
       " 'logisticregression__penalty': 'l2',\n",
       " 'logisticregression__random_state': 42,\n",
       " 'logisticregression__solver': 'lbfgs',\n",
       " 'logisticregression__tol': 0.0001,\n",
       " 'logisticregression__verbose': 0,\n",
       " 'logisticregression__warm_start': False}"
      ]
     },
     "execution_count": 28,
     "metadata": {},
     "output_type": "execute_result"
    }
   ],
   "source": [
    "pipe_lr.get_params()"
   ]
  },
  {
   "cell_type": "code",
   "execution_count": 29,
   "metadata": {},
   "outputs": [],
   "source": [
    "# for hyperparameter tuning\n",
    "pipe_lr_params = {\n",
    "    'logisticregression__C': [0.01, 0.1, 1.0],\n",
    "    'logisticregression__max_iter': [100, 1000]\n",
    "}"
   ]
  },
  {
   "cell_type": "code",
   "execution_count": 30,
   "metadata": {},
   "outputs": [],
   "source": [
    "gs_lr = GridSearchCV(pipe_lr, param_grid=pipe_lr_params, cv=kf, \n",
    "                     scoring='roc_auc', return_train_score=True)"
   ]
  },
  {
   "cell_type": "code",
   "execution_count": 31,
   "metadata": {},
   "outputs": [
    {
     "data": {
      "text/plain": [
       "GridSearchCV(cv=KFold(n_splits=5, random_state=42, shuffle=False),\n",
       "             estimator=Pipeline(steps=[('standardscaler', StandardScaler()),\n",
       "                                       ('smote', SMOTE(random_state=42)),\n",
       "                                       ('logisticregression',\n",
       "                                        LogisticRegression(random_state=42))]),\n",
       "             param_grid={'logisticregression__C': [0.01, 0.1, 1.0],\n",
       "                         'logisticregression__max_iter': [100, 1000]},\n",
       "             return_train_score=True, scoring='roc_auc')"
      ]
     },
     "execution_count": 31,
     "metadata": {},
     "output_type": "execute_result"
    }
   ],
   "source": [
    "gs_lr.fit(X_train, y_train)"
   ]
  },
  {
   "cell_type": "code",
   "execution_count": 32,
   "metadata": {},
   "outputs": [
    {
     "data": {
      "text/plain": [
       "{'logisticregression__C': 0.1, 'logisticregression__max_iter': 100}"
      ]
     },
     "execution_count": 32,
     "metadata": {},
     "output_type": "execute_result"
    }
   ],
   "source": [
    "gs_lr.best_params_"
   ]
  },
  {
   "cell_type": "code",
   "execution_count": 33,
   "metadata": {},
   "outputs": [
    {
     "data": {
      "text/plain": [
       "0.8041533111344578"
      ]
     },
     "execution_count": 33,
     "metadata": {},
     "output_type": "execute_result"
    }
   ],
   "source": [
    "gs_lr.best_score_"
   ]
  },
  {
   "cell_type": "code",
   "execution_count": 34,
   "metadata": {},
   "outputs": [],
   "source": [
    "gs_lr_model = gs_lr.best_estimator_"
   ]
  },
  {
   "cell_type": "code",
   "execution_count": 35,
   "metadata": {},
   "outputs": [],
   "source": [
    "gs_lr_y_preds = gs_lr_model.predict(X_val)"
   ]
  },
  {
   "cell_type": "code",
   "execution_count": 36,
   "metadata": {},
   "outputs": [],
   "source": [
    "def model_eval(model_name, model, X_test, y_test, y_preds):\n",
    "    \"\"\"function to plot confusion matrix and ROC curve\"\"\"\n",
    "    print(f\"Model           : {model_name}\")\n",
    "    print('----------------------------------------------------------------')\n",
    "    print(classification_report(y_test, y_preds))\n",
    "    print(f\"train roc auc      {model.best_score_:.2f}\")\n",
    "    plot_confusion_matrix(model.best_estimator_, X_test, y_test, cmap='Blues', values_format='d');\n",
    "    plot_roc_curve(model.best_estimator_, X_test, y_test);"
   ]
  },
  {
   "cell_type": "code",
   "execution_count": 37,
   "metadata": {},
   "outputs": [
    {
     "name": "stdout",
     "output_type": "stream",
     "text": [
      "Model           : Logistic Regression\n",
      "----------------------------------------------------------------\n",
      "              precision    recall  f1-score   support\n",
      "\n",
      "           0       0.98      0.69      0.81      1604\n",
      "           1       0.12      0.75      0.21        91\n",
      "\n",
      "    accuracy                           0.70      1695\n",
      "   macro avg       0.55      0.72      0.51      1695\n",
      "weighted avg       0.93      0.70      0.78      1695\n",
      "\n",
      "train roc auc      0.80\n"
     ]
    },
    {
     "data": {
      "image/png": "[encoded data removed]",
      "text/plain": [
       "<Figure size 432x288 with 2 Axes>"
      ]
     },
     "metadata": {
      "needs_background": "light"
     },
     "output_type": "display_data"
    },
    {
     "data": {
      "image/png": "[encoded data removed]",
      "text/plain": [
       "<Figure size 432x288 with 1 Axes>"
      ]
     },
     "metadata": {
      "needs_background": "light"
     },
     "output_type": "display_data"
    }
   ],
   "source": [
    "model_eval('Logistic Regression', gs_lr, X_val, y_val, gs_lr_y_preds)"
   ]
  },
  {
   "cell_type": "code",
   "execution_count": 38,
   "metadata": {},
   "outputs": [],
   "source": [
    "lr_coef = pd.Series(np.exp(gs_lr_model.named_steps['logisticregression'].coef_[0]), \n",
    "                    index = X_train.columns)"
   ]
  },
  {
   "cell_type": "code",
   "execution_count": 102,
   "metadata": {},
   "outputs": [
    {
     "data": {
      "image/png": "[encoded data removed]",
      "text/plain": [
       "<Figure size 1080x720 with 1 Axes>"
      ]
     },
     "metadata": {
      "needs_background": "light"
     },
     "output_type": "display_data"
    }
   ],
   "source": [
    "lr_coef.sort_values(ascending=True).plot(kind='barh', color='lightsalmon', figsize=(15,10))\n",
    "plt.xticks(fontsize=14)\n",
    "plt.yticks(fontsize=14)\n",
    "plt.title('Most Predictive Features in Logistic Regression Model', fontsize=18, y=1.01);"
   ]
  },
  {
   "cell_type": "markdown",
   "metadata": {},
   "source": [
    "### Model 2: Random Forest with Class Weighting"
   ]
  },
  {
   "cell_type": "markdown",
   "metadata": {},
   "source": [
    "When using Random Forest, we can apply [class weighting](https://machinelearningmastery.com/bagging-and-random-forest-for-imbalanced-classification/) to handle imbalanced class (instead of using SMOTE). "
   ]
  },
  {
   "cell_type": "code",
   "execution_count": 40,
   "metadata": {},
   "outputs": [],
   "source": [
    "# set up pipeline for random forest\n",
    "# scaling is not needed for decision trees\n",
    "pipe_rf = make_pipeline(RandomForestClassifier(class_weight='balanced', random_state=42))"
   ]
  },
  {
   "cell_type": "code",
   "execution_count": 41,
   "metadata": {},
   "outputs": [
    {
     "data": {
      "text/plain": [
       "0.8030377148178106"
      ]
     },
     "execution_count": 41,
     "metadata": {},
     "output_type": "execute_result"
    }
   ],
   "source": [
    "cross_val_score(pipe_rf, X_train, y_train, scoring='roc_auc', cv=kf).mean()"
   ]
  },
  {
   "cell_type": "code",
   "execution_count": 42,
   "metadata": {},
   "outputs": [
    {
     "data": {
      "text/plain": [
       "{'memory': None,\n",
       " 'steps': [('randomforestclassifier',\n",
       "   RandomForestClassifier(class_weight='balanced', random_state=42))],\n",
       " 'verbose': False,\n",
       " 'randomforestclassifier': RandomForestClassifier(class_weight='balanced', random_state=42),\n",
       " 'randomforestclassifier__bootstrap': True,\n",
       " 'randomforestclassifier__ccp_alpha': 0.0,\n",
       " 'randomforestclassifier__class_weight': 'balanced',\n",
       " 'randomforestclassifier__criterion': 'gini',\n",
       " 'randomforestclassifier__max_depth': None,\n",
       " 'randomforestclassifier__max_features': 'auto',\n",
       " 'randomforestclassifier__max_leaf_nodes': None,\n",
       " 'randomforestclassifier__max_samples': None,\n",
       " 'randomforestclassifier__min_impurity_decrease': 0.0,\n",
       " 'randomforestclassifier__min_impurity_split': None,\n",
       " 'randomforestclassifier__min_samples_leaf': 1,\n",
       " 'randomforestclassifier__min_samples_split': 2,\n",
       " 'randomforestclassifier__min_weight_fraction_leaf': 0.0,\n",
       " 'randomforestclassifier__n_estimators': 100,\n",
       " 'randomforestclassifier__n_jobs': None,\n",
       " 'randomforestclassifier__oob_score': False,\n",
       " 'randomforestclassifier__random_state': 42,\n",
       " 'randomforestclassifier__verbose': 0,\n",
       " 'randomforestclassifier__warm_start': False}"
      ]
     },
     "execution_count": 42,
     "metadata": {},
     "output_type": "execute_result"
    }
   ],
   "source": [
    "pipe_rf.get_params()"
   ]
  },
  {
   "cell_type": "code",
   "execution_count": 43,
   "metadata": {},
   "outputs": [],
   "source": [
    "# for hyperparameter tuning\n",
    "pipe_rf_params = {\n",
    "    'randomforestclassifier__max_depth': [2,3,4],\n",
    "    'randomforestclassifier__n_estimators': [100, 150, 200]\n",
    "}"
   ]
  },
  {
   "cell_type": "code",
   "execution_count": 44,
   "metadata": {},
   "outputs": [],
   "source": [
    "gs_rf = GridSearchCV(pipe_rf, param_grid=pipe_rf_params, cv=kf, \n",
    "                     scoring='roc_auc', return_train_score=True)"
   ]
  },
  {
   "cell_type": "code",
   "execution_count": 45,
   "metadata": {},
   "outputs": [
    {
     "data": {
      "text/plain": [
       "GridSearchCV(cv=KFold(n_splits=5, random_state=42, shuffle=False),\n",
       "             estimator=Pipeline(steps=[('randomforestclassifier',\n",
       "                                        RandomForestClassifier(class_weight='balanced',\n",
       "                                                               random_state=42))]),\n",
       "             param_grid={'randomforestclassifier__max_depth': [2, 3, 4],\n",
       "                         'randomforestclassifier__n_estimators': [100, 150,\n",
       "                                                                  200]},\n",
       "             return_train_score=True, scoring='roc_auc')"
      ]
     },
     "execution_count": 45,
     "metadata": {},
     "output_type": "execute_result"
    }
   ],
   "source": [
    "gs_rf.fit(X_train, y_train)"
   ]
  },
  {
   "cell_type": "code",
   "execution_count": 46,
   "metadata": {},
   "outputs": [
    {
     "data": {
      "text/plain": [
       "{'randomforestclassifier__max_depth': 4,\n",
       " 'randomforestclassifier__n_estimators': 200}"
      ]
     },
     "execution_count": 46,
     "metadata": {},
     "output_type": "execute_result"
    }
   ],
   "source": [
    "gs_rf.best_params_"
   ]
  },
  {
   "cell_type": "code",
   "execution_count": 47,
   "metadata": {},
   "outputs": [
    {
     "data": {
      "text/plain": [
       "0.8349287122449642"
      ]
     },
     "execution_count": 47,
     "metadata": {},
     "output_type": "execute_result"
    }
   ],
   "source": [
    "gs_rf.best_score_"
   ]
  },
  {
   "cell_type": "code",
   "execution_count": 48,
   "metadata": {},
   "outputs": [],
   "source": [
    "gs_rf_model = gs_rf.best_estimator_"
   ]
  },
  {
   "cell_type": "code",
   "execution_count": 49,
   "metadata": {},
   "outputs": [],
   "source": [
    "gs_rf_y_preds = gs_rf_model.predict(X_val)"
   ]
  },
  {
   "cell_type": "code",
   "execution_count": 50,
   "metadata": {},
   "outputs": [
    {
     "name": "stdout",
     "output_type": "stream",
     "text": [
      "Model           : Random Forest\n",
      "----------------------------------------------------------------\n",
      "              precision    recall  f1-score   support\n",
      "\n",
      "           0       0.99      0.72      0.83      1604\n",
      "           1       0.14      0.81      0.24        91\n",
      "\n",
      "    accuracy                           0.72      1695\n",
      "   macro avg       0.56      0.77      0.54      1695\n",
      "weighted avg       0.94      0.72      0.80      1695\n",
      "\n",
      "train roc auc      0.83\n"
     ]
    },
    {
     "data": {
      "image/png": "[encoded data removed]",
      "text/plain": [
       "<Figure size 432x288 with 2 Axes>"
      ]
     },
     "metadata": {
      "needs_background": "light"
     },
     "output_type": "display_data"
    },
    {
     "data": {
      "image/png": "[encoded data removed]",
      "text/plain": [
       "<Figure size 432x288 with 1 Axes>"
      ]
     },
     "metadata": {
      "needs_background": "light"
     },
     "output_type": "display_data"
    }
   ],
   "source": [
    "model_eval('Random Forest', gs_rf, X_val, y_val, gs_rf_y_preds)"
   ]
  },
  {
   "cell_type": "markdown",
   "metadata": {},
   "source": [
    "Unnlike Logistic Regression, we do not have a feature coefficient to indicate which feature is more predictive. Instead, we will use `feature_importances_` in scikit-learn to see which feature contributes more to decreasing the weighted impurity ([source](https://towardsdatascience.com/explaining-feature-importance-by-example-of-a-random-forest-d9166011959e))"
   ]
  },
  {
   "cell_type": "code",
   "execution_count": 51,
   "metadata": {},
   "outputs": [],
   "source": [
    "rf_feature_impt = gs_rf_model.named_steps['randomforestclassifier'].feature_importances_\n",
    "rf_feature_impt_df = pd.DataFrame(index=X_train.columns, data = rf_feature_impt, columns = ['feature importance'])"
   ]
  },
  {
   "cell_type": "code",
   "execution_count": 52,
   "metadata": {},
   "outputs": [
    {
     "data": {
      "image/png": "[encoded data removed]",
      "text/plain": [
       "<Figure size 1080x720 with 1 Axes>"
      ]
     },
     "metadata": {
      "needs_background": "light"
     },
     "output_type": "display_data"
    }
   ],
   "source": [
    "rf_feature_impt_df.sort_values(by='feature importance', ascending=True).plot(kind='barh', color='forestgreen', legend = False, figsize=(15,10));\n",
    "plt.xticks(fontsize=14)\n",
    "plt.yticks(fontsize=14)\n",
    "plt.title('Most Important Features in Random Forest', fontsize=18, y=1.01);"
   ]
  },
  {
   "cell_type": "markdown",
   "metadata": {},
   "source": [
    "### Model 3: AdaBoost with SMOTE (or SMOTEBoost)"
   ]
  },
  {
   "cell_type": "markdown",
   "metadata": {},
   "source": [
    "We came across [article](https://medium.com/urbint-engineering/using-smoteboost-and-rusboost-to-deal-with-class-imbalance-c18f8bf5b805) that suggest that applying SMOTE before AdaBoost can help improve model performance for imbalanced data. Let's explore this approach."
   ]
  },
  {
   "cell_type": "code",
   "execution_count": 53,
   "metadata": {},
   "outputs": [],
   "source": [
    "pipe_ada = make_pipeline(SMOTE(random_state=42),\n",
    "                         AdaBoostClassifier(base_estimator=DecisionTreeClassifier(), random_state=42))"
   ]
  },
  {
   "cell_type": "code",
   "execution_count": 54,
   "metadata": {},
   "outputs": [
    {
     "data": {
      "text/plain": [
       "0.6181517773281339"
      ]
     },
     "execution_count": 54,
     "metadata": {},
     "output_type": "execute_result"
    }
   ],
   "source": [
    "cross_val_score(pipe_ada, X_train, y_train, scoring='roc_auc', cv=kf).mean()"
   ]
  },
  {
   "cell_type": "code",
   "execution_count": 55,
   "metadata": {
    "scrolled": true
   },
   "outputs": [
    {
     "data": {
      "text/plain": [
       "{'memory': None,\n",
       " 'steps': [('smote', SMOTE(random_state=42)),\n",
       "  ('adaboostclassifier',\n",
       "   AdaBoostClassifier(base_estimator=DecisionTreeClassifier(), random_state=42))],\n",
       " 'verbose': False,\n",
       " 'smote': SMOTE(random_state=42),\n",
       " 'adaboostclassifier': AdaBoostClassifier(base_estimator=DecisionTreeClassifier(), random_state=42),\n",
       " 'smote__k_neighbors': 5,\n",
       " 'smote__n_jobs': None,\n",
       " 'smote__random_state': 42,\n",
       " 'smote__sampling_strategy': 'auto',\n",
       " 'adaboostclassifier__algorithm': 'SAMME.R',\n",
       " 'adaboostclassifier__base_estimator__ccp_alpha': 0.0,\n",
       " 'adaboostclassifier__base_estimator__class_weight': None,\n",
       " 'adaboostclassifier__base_estimator__criterion': 'gini',\n",
       " 'adaboostclassifier__base_estimator__max_depth': None,\n",
       " 'adaboostclassifier__base_estimator__max_features': None,\n",
       " 'adaboostclassifier__base_estimator__max_leaf_nodes': None,\n",
       " 'adaboostclassifier__base_estimator__min_impurity_decrease': 0.0,\n",
       " 'adaboostclassifier__base_estimator__min_impurity_split': None,\n",
       " 'adaboostclassifier__base_estimator__min_samples_leaf': 1,\n",
       " 'adaboostclassifier__base_estimator__min_samples_split': 2,\n",
       " 'adaboostclassifier__base_estimator__min_weight_fraction_leaf': 0.0,\n",
       " 'adaboostclassifier__base_estimator__presort': 'deprecated',\n",
       " 'adaboostclassifier__base_estimator__random_state': None,\n",
       " 'adaboostclassifier__base_estimator__splitter': 'best',\n",
       " 'adaboostclassifier__base_estimator': DecisionTreeClassifier(),\n",
       " 'adaboostclassifier__learning_rate': 1.0,\n",
       " 'adaboostclassifier__n_estimators': 50,\n",
       " 'adaboostclassifier__random_state': 42}"
      ]
     },
     "execution_count": 55,
     "metadata": {},
     "output_type": "execute_result"
    }
   ],
   "source": [
    "pipe_ada.get_params()"
   ]
  },
  {
   "cell_type": "code",
   "execution_count": 56,
   "metadata": {},
   "outputs": [],
   "source": [
    "pipe_ada_params = {\n",
    "    'adaboostclassifier__learning_rate': [0.9, 1.0],\n",
    "    'adaboostclassifier__n_estimators': [50, 100],\n",
    "    'adaboostclassifier__base_estimator__max_depth': [1, 2]\n",
    "}"
   ]
  },
  {
   "cell_type": "code",
   "execution_count": 57,
   "metadata": {},
   "outputs": [],
   "source": [
    "gs_ada = GridSearchCV(pipe_ada, param_grid=pipe_ada_params, cv=kf, \n",
    "                     scoring='roc_auc', return_train_score=True)"
   ]
  },
  {
   "cell_type": "code",
   "execution_count": 58,
   "metadata": {},
   "outputs": [
    {
     "data": {
      "text/plain": [
       "GridSearchCV(cv=KFold(n_splits=5, random_state=42, shuffle=False),\n",
       "             estimator=Pipeline(steps=[('smote', SMOTE(random_state=42)),\n",
       "                                       ('adaboostclassifier',\n",
       "                                        AdaBoostClassifier(base_estimator=DecisionTreeClassifier(),\n",
       "                                                           random_state=42))]),\n",
       "             param_grid={'adaboostclassifier__base_estimator__max_depth': [1,\n",
       "                                                                           2],\n",
       "                         'adaboostclassifier__learning_rate': [0.9, 1.0],\n",
       "                         'adaboostclassifier__n_estimators': [50, 100]},\n",
       "             return_train_score=True, scoring='roc_auc')"
      ]
     },
     "execution_count": 58,
     "metadata": {},
     "output_type": "execute_result"
    }
   ],
   "source": [
    "gs_ada.fit(X_train, y_train)"
   ]
  },
  {
   "cell_type": "code",
   "execution_count": 59,
   "metadata": {},
   "outputs": [
    {
     "data": {
      "text/plain": [
       "{'adaboostclassifier__base_estimator__max_depth': 1,\n",
       " 'adaboostclassifier__learning_rate': 0.9,\n",
       " 'adaboostclassifier__n_estimators': 100}"
      ]
     },
     "execution_count": 59,
     "metadata": {},
     "output_type": "execute_result"
    }
   ],
   "source": [
    "gs_ada.best_params_"
   ]
  },
  {
   "cell_type": "code",
   "execution_count": 60,
   "metadata": {},
   "outputs": [
    {
     "data": {
      "text/plain": [
       "0.8291199841578585"
      ]
     },
     "execution_count": 60,
     "metadata": {},
     "output_type": "execute_result"
    }
   ],
   "source": [
    "gs_ada.best_score_"
   ]
  },
  {
   "cell_type": "code",
   "execution_count": 61,
   "metadata": {},
   "outputs": [],
   "source": [
    "gs_ada_model = gs_ada.best_estimator_"
   ]
  },
  {
   "cell_type": "code",
   "execution_count": 62,
   "metadata": {},
   "outputs": [],
   "source": [
    "gs_ada_y_preds = gs_ada_model.predict(X_val)"
   ]
  },
  {
   "cell_type": "code",
   "execution_count": 63,
   "metadata": {},
   "outputs": [
    {
     "name": "stdout",
     "output_type": "stream",
     "text": [
      "Model           : AdaBoost\n",
      "----------------------------------------------------------------\n",
      "              precision    recall  f1-score   support\n",
      "\n",
      "           0       0.97      0.82      0.89      1604\n",
      "           1       0.17      0.63      0.26        91\n",
      "\n",
      "    accuracy                           0.81      1695\n",
      "   macro avg       0.57      0.72      0.58      1695\n",
      "weighted avg       0.93      0.81      0.86      1695\n",
      "\n",
      "train roc auc      0.83\n"
     ]
    },
    {
     "data": {
      "image/png": "[encoded data removed]",
      "text/plain": [
       "<Figure size 432x288 with 2 Axes>"
      ]
     },
     "metadata": {
      "needs_background": "light"
     },
     "output_type": "display_data"
    },
    {
     "data": {
      "image/png": "[encoded data removed]",
      "text/plain": [
       "<Figure size 432x288 with 1 Axes>"
      ]
     },
     "metadata": {
      "needs_background": "light"
     },
     "output_type": "display_data"
    }
   ],
   "source": [
    "model_eval('AdaBoost', gs_ada, X_val, y_val, gs_ada_y_preds)"
   ]
  },
  {
   "cell_type": "code",
   "execution_count": 64,
   "metadata": {},
   "outputs": [],
   "source": [
    "ada_feature_impt = gs_ada_model.named_steps['adaboostclassifier'].feature_importances_\n",
    "ada_feature_impt_df = pd.DataFrame(index=X_train.columns, data = ada_feature_impt, columns = ['feature importance'])"
   ]
  },
  {
   "cell_type": "code",
   "execution_count": 65,
   "metadata": {},
   "outputs": [
    {
     "data": {
      "image/png": "[encoded data removed]",
      "text/plain": [
       "<Figure size 1080x720 with 1 Axes>"
      ]
     },
     "metadata": {
      "needs_background": "light"
     },
     "output_type": "display_data"
    }
   ],
   "source": [
    "ada_feature_impt_df.sort_values(by='feature importance', ascending=True).plot(kind='barh', color='mediumpurple', legend = False, figsize=(15,10));\n",
    "plt.xticks(fontsize=14)\n",
    "plt.yticks(fontsize=14)\n",
    "plt.title('Most Important Features in AdaBoost', fontsize=18, y=1.01);"
   ]
  },
  {
   "cell_type": "markdown",
   "metadata": {},
   "source": [
    "### Model 4: Gradient Boost with SMOTE"
   ]
  },
  {
   "cell_type": "code",
   "execution_count": 66,
   "metadata": {},
   "outputs": [],
   "source": [
    "pipe_gboost = make_pipeline(SMOTE(random_state=42),\n",
    "                           GradientBoostingClassifier(random_state=42))"
   ]
  },
  {
   "cell_type": "code",
   "execution_count": 67,
   "metadata": {},
   "outputs": [
    {
     "data": {
      "text/plain": [
       "0.8314013426802681"
      ]
     },
     "execution_count": 67,
     "metadata": {},
     "output_type": "execute_result"
    }
   ],
   "source": [
    "cross_val_score(pipe_gboost, X_train, y_train, scoring='roc_auc', cv=kf).mean()"
   ]
  },
  {
   "cell_type": "code",
   "execution_count": 68,
   "metadata": {
    "scrolled": true
   },
   "outputs": [
    {
     "data": {
      "text/plain": [
       "{'memory': None,\n",
       " 'steps': [('smote', SMOTE(random_state=42)),\n",
       "  ('gradientboostingclassifier', GradientBoostingClassifier(random_state=42))],\n",
       " 'verbose': False,\n",
       " 'smote': SMOTE(random_state=42),\n",
       " 'gradientboostingclassifier': GradientBoostingClassifier(random_state=42),\n",
       " 'smote__k_neighbors': 5,\n",
       " 'smote__n_jobs': None,\n",
       " 'smote__random_state': 42,\n",
       " 'smote__sampling_strategy': 'auto',\n",
       " 'gradientboostingclassifier__ccp_alpha': 0.0,\n",
       " 'gradientboostingclassifier__criterion': 'friedman_mse',\n",
       " 'gradientboostingclassifier__init': None,\n",
       " 'gradientboostingclassifier__learning_rate': 0.1,\n",
       " 'gradientboostingclassifier__loss': 'deviance',\n",
       " 'gradientboostingclassifier__max_depth': 3,\n",
       " 'gradientboostingclassifier__max_features': None,\n",
       " 'gradientboostingclassifier__max_leaf_nodes': None,\n",
       " 'gradientboostingclassifier__min_impurity_decrease': 0.0,\n",
       " 'gradientboostingclassifier__min_impurity_split': None,\n",
       " 'gradientboostingclassifier__min_samples_leaf': 1,\n",
       " 'gradientboostingclassifier__min_samples_split': 2,\n",
       " 'gradientboostingclassifier__min_weight_fraction_leaf': 0.0,\n",
       " 'gradientboostingclassifier__n_estimators': 100,\n",
       " 'gradientboostingclassifier__n_iter_no_change': None,\n",
       " 'gradientboostingclassifier__presort': 'deprecated',\n",
       " 'gradientboostingclassifier__random_state': 42,\n",
       " 'gradientboostingclassifier__subsample': 1.0,\n",
       " 'gradientboostingclassifier__tol': 0.0001,\n",
       " 'gradientboostingclassifier__validation_fraction': 0.1,\n",
       " 'gradientboostingclassifier__verbose': 0,\n",
       " 'gradientboostingclassifier__warm_start': False}"
      ]
     },
     "execution_count": 68,
     "metadata": {},
     "output_type": "execute_result"
    }
   ],
   "source": [
    "pipe_gboost.get_params()"
   ]
  },
  {
   "cell_type": "code",
   "execution_count": 69,
   "metadata": {},
   "outputs": [],
   "source": [
    "pipe_gboost_params = {\n",
    "    'gradientboostingclassifier__max_depth': [2, 3, 4],\n",
    "    'gradientboostingclassifier__n_estimators': [100, 125, 150],\n",
    "    'gradientboostingclassifier__learning_rate': [0.09, 0.1, 0.15]\n",
    "}"
   ]
  },
  {
   "cell_type": "code",
   "execution_count": 70,
   "metadata": {},
   "outputs": [],
   "source": [
    "gs_gboost = GridSearchCV(pipe_gboost, param_grid=pipe_gboost_params, cv=kf, \n",
    "                         scoring='roc_auc', return_train_score=True)"
   ]
  },
  {
   "cell_type": "code",
   "execution_count": 71,
   "metadata": {},
   "outputs": [
    {
     "data": {
      "text/plain": [
       "GridSearchCV(cv=KFold(n_splits=5, random_state=42, shuffle=False),\n",
       "             estimator=Pipeline(steps=[('smote', SMOTE(random_state=42)),\n",
       "                                       ('gradientboostingclassifier',\n",
       "                                        GradientBoostingClassifier(random_state=42))]),\n",
       "             param_grid={'gradientboostingclassifier__learning_rate': [0.09,\n",
       "                                                                       0.1,\n",
       "                                                                       0.15],\n",
       "                         'gradientboostingclassifier__max_depth': [2, 3, 4],\n",
       "                         'gradientboostingclassifier__n_estimators': [100, 125,\n",
       "                                                                      150]},\n",
       "             return_train_score=True, scoring='roc_auc')"
      ]
     },
     "execution_count": 71,
     "metadata": {},
     "output_type": "execute_result"
    }
   ],
   "source": [
    "gs_gboost.fit(X_train, y_train)"
   ]
  },
  {
   "cell_type": "code",
   "execution_count": 72,
   "metadata": {},
   "outputs": [
    {
     "data": {
      "text/plain": [
       "{'gradientboostingclassifier__learning_rate': 0.1,\n",
       " 'gradientboostingclassifier__max_depth': 4,\n",
       " 'gradientboostingclassifier__n_estimators': 125}"
      ]
     },
     "execution_count": 72,
     "metadata": {},
     "output_type": "execute_result"
    }
   ],
   "source": [
    "gs_gboost.best_params_"
   ]
  },
  {
   "cell_type": "code",
   "execution_count": 73,
   "metadata": {},
   "outputs": [
    {
     "data": {
      "text/plain": [
       "0.8346109453751671"
      ]
     },
     "execution_count": 73,
     "metadata": {},
     "output_type": "execute_result"
    }
   ],
   "source": [
    "gs_gboost.best_score_"
   ]
  },
  {
   "cell_type": "code",
   "execution_count": 74,
   "metadata": {},
   "outputs": [],
   "source": [
    "gs_gboost_model = gs_gboost.best_estimator_"
   ]
  },
  {
   "cell_type": "code",
   "execution_count": 75,
   "metadata": {},
   "outputs": [],
   "source": [
    "gs_gboost_y_preds = gs_gboost_model.predict(X_val)"
   ]
  },
  {
   "cell_type": "code",
   "execution_count": 76,
   "metadata": {},
   "outputs": [
    {
     "name": "stdout",
     "output_type": "stream",
     "text": [
      "Model           : Gradient Boost\n",
      "----------------------------------------------------------------\n",
      "              precision    recall  f1-score   support\n",
      "\n",
      "           0       0.97      0.88      0.92      1604\n",
      "           1       0.20      0.56      0.30        91\n",
      "\n",
      "    accuracy                           0.86      1695\n",
      "   macro avg       0.59      0.72      0.61      1695\n",
      "weighted avg       0.93      0.86      0.89      1695\n",
      "\n",
      "train roc auc      0.83\n"
     ]
    },
    {
     "data": {
      "image/png": "[encoded data removed]",
      "text/plain": [
       "<Figure size 432x288 with 2 Axes>"
      ]
     },
     "metadata": {
      "needs_background": "light"
     },
     "output_type": "display_data"
    },
    {
     "data": {
      "image/png": "[encoded data removed]",
      "text/plain": [
       "<Figure size 432x288 with 1 Axes>"
      ]
     },
     "metadata": {
      "needs_background": "light"
     },
     "output_type": "display_data"
    }
   ],
   "source": [
    "model_eval('Gradient Boost', gs_gboost, X_val, y_val, gs_gboost_y_preds)"
   ]
  },
  {
   "cell_type": "code",
   "execution_count": 77,
   "metadata": {},
   "outputs": [],
   "source": [
    "gboost_feature_impt = gs_gboost_model.named_steps['gradientboostingclassifier'].feature_importances_\n",
    "gboost_feature_impt_df = pd.DataFrame(index=X_train.columns, data = ada_feature_impt, columns = ['feature importance'])"
   ]
  },
  {
   "cell_type": "code",
   "execution_count": 101,
   "metadata": {},
   "outputs": [
    {
     "data": {
      "image/png": "[encoded data removed]",
      "text/plain": [
       "<Figure size 1080x720 with 1 Axes>"
      ]
     },
     "metadata": {
      "needs_background": "light"
     },
     "output_type": "display_data"
    }
   ],
   "source": [
    "gboost_feature_impt_df.sort_values(by='feature importance', ascending=True).plot(kind='barh', color='palevioletred', legend = False, figsize=(15,10));\n",
    "plt.xticks(fontsize=14)\n",
    "plt.yticks(fontsize=14)\n",
    "plt.title('Most Important Features in Gradient Boost', fontsize=18, y=1.01);"
   ]
  },
  {
   "cell_type": "markdown",
   "metadata": {},
   "source": [
    "### Model 5: XGBoost"
   ]
  },
  {
   "cell_type": "markdown",
   "metadata": {},
   "source": [
    "In XGBoost, the [scale_pos_weight](https://machinelearningmastery.com/xgboost-for-imbalanced-classification/) parameter can help to handle imbalanced class. \n",
    "\n",
    "The scale_pos_weight parameter carries a value of 1 to 100. The value to set for the scale_pos_weight hyperparameter is the inverse of the class distribution."
   ]
  },
  {
   "cell_type": "code",
   "execution_count": 79,
   "metadata": {},
   "outputs": [
    {
     "data": {
      "text/plain": [
       "0    0.946018\n",
       "1    0.053982\n",
       "Name: WnvPresent, dtype: float64"
      ]
     },
     "execution_count": 79,
     "metadata": {},
     "output_type": "execute_result"
    }
   ],
   "source": [
    "y_train.value_counts(normalize=True)"
   ]
  },
  {
   "cell_type": "markdown",
   "metadata": {},
   "source": [
    "Hence, we should set the scale_pos_weight parameter to be 0.946018 * 100 "
   ]
  },
  {
   "cell_type": "code",
   "execution_count": 80,
   "metadata": {},
   "outputs": [],
   "source": [
    "pipe_xgb = make_pipeline(XGBClassifier(random_state=42))"
   ]
  },
  {
   "cell_type": "code",
   "execution_count": 81,
   "metadata": {},
   "outputs": [
    {
     "data": {
      "text/plain": [
       "0.855874501371841"
      ]
     },
     "execution_count": 81,
     "metadata": {},
     "output_type": "execute_result"
    }
   ],
   "source": [
    "cross_val_score(pipe_xgb, X_train, y_train, scoring='roc_auc', cv=kf).mean()"
   ]
  },
  {
   "cell_type": "code",
   "execution_count": 82,
   "metadata": {},
   "outputs": [
    {
     "data": {
      "text/plain": [
       "{'memory': None,\n",
       " 'steps': [('xgbclassifier', XGBClassifier(random_state=42))],\n",
       " 'verbose': False,\n",
       " 'xgbclassifier': XGBClassifier(random_state=42),\n",
       " 'xgbclassifier__base_score': 0.5,\n",
       " 'xgbclassifier__booster': 'gbtree',\n",
       " 'xgbclassifier__colsample_bylevel': 1,\n",
       " 'xgbclassifier__colsample_bynode': 1,\n",
       " 'xgbclassifier__colsample_bytree': 1,\n",
       " 'xgbclassifier__gamma': 0,\n",
       " 'xgbclassifier__learning_rate': 0.1,\n",
       " 'xgbclassifier__max_delta_step': 0,\n",
       " 'xgbclassifier__max_depth': 3,\n",
       " 'xgbclassifier__min_child_weight': 1,\n",
       " 'xgbclassifier__missing': None,\n",
       " 'xgbclassifier__n_estimators': 100,\n",
       " 'xgbclassifier__n_jobs': 1,\n",
       " 'xgbclassifier__nthread': None,\n",
       " 'xgbclassifier__objective': 'binary:logistic',\n",
       " 'xgbclassifier__random_state': 42,\n",
       " 'xgbclassifier__reg_alpha': 0,\n",
       " 'xgbclassifier__reg_lambda': 1,\n",
       " 'xgbclassifier__scale_pos_weight': 1,\n",
       " 'xgbclassifier__seed': None,\n",
       " 'xgbclassifier__silent': None,\n",
       " 'xgbclassifier__subsample': 1,\n",
       " 'xgbclassifier__verbosity': 1}"
      ]
     },
     "execution_count": 82,
     "metadata": {},
     "output_type": "execute_result"
    }
   ],
   "source": [
    "pipe_xgb.get_params()"
   ]
  },
  {
   "cell_type": "markdown",
   "metadata": {},
   "source": [
    "XGBoost has many different [hyperparameters](https://www.analyticsvidhya.com/blog/2016/03/complete-guide-parameter-tuning-xgboost-with-codes-python/) that we can use to tune the model."
   ]
  },
  {
   "cell_type": "code",
   "execution_count": 83,
   "metadata": {},
   "outputs": [],
   "source": [
    "# for hyperparameter tuning\n",
    "pipe_xgb_params = {\n",
    "    'xgbclassifier__scale_pos_weight': [94.6018],    # to handle imbalanced data\n",
    "    'xgbclassifier__max_depth': [2, 3, 4],\n",
    "    'xgbclassifier__n_estimators': [100, 150, 200],\n",
    "    'xgbclassifier__subsample': [0.5, 1],\n",
    "    'xgbclassifier__colsample_bytree': [0.5, 1]  \n",
    "}"
   ]
  },
  {
   "cell_type": "code",
   "execution_count": 84,
   "metadata": {},
   "outputs": [],
   "source": [
    "gs_xgb = GridSearchCV(pipe_xgb, param_grid=pipe_xgb_params, cv=kf, \n",
    "                     scoring='roc_auc', return_train_score=True)"
   ]
  },
  {
   "cell_type": "code",
   "execution_count": 85,
   "metadata": {},
   "outputs": [
    {
     "data": {
      "text/plain": [
       "GridSearchCV(cv=KFold(n_splits=5, random_state=42, shuffle=False),\n",
       "             estimator=Pipeline(steps=[('xgbclassifier',\n",
       "                                        XGBClassifier(random_state=42))]),\n",
       "             param_grid={'xgbclassifier__colsample_bytree': [0.5, 1],\n",
       "                         'xgbclassifier__max_depth': [2, 3, 4],\n",
       "                         'xgbclassifier__n_estimators': [100, 150, 200],\n",
       "                         'xgbclassifier__scale_pos_weight': [94.6018],\n",
       "                         'xgbclassifier__subsample': [0.5, 1]},\n",
       "             return_train_score=True, scoring='roc_auc')"
      ]
     },
     "execution_count": 85,
     "metadata": {},
     "output_type": "execute_result"
    }
   ],
   "source": [
    "gs_xgb.fit(X_train, y_train)"
   ]
  },
  {
   "cell_type": "code",
   "execution_count": 86,
   "metadata": {},
   "outputs": [
    {
     "data": {
      "text/plain": [
       "{'xgbclassifier__colsample_bytree': 0.5,\n",
       " 'xgbclassifier__max_depth': 3,\n",
       " 'xgbclassifier__n_estimators': 200,\n",
       " 'xgbclassifier__scale_pos_weight': 94.6018,\n",
       " 'xgbclassifier__subsample': 1}"
      ]
     },
     "execution_count": 86,
     "metadata": {},
     "output_type": "execute_result"
    }
   ],
   "source": [
    "gs_xgb.best_params_"
   ]
  },
  {
   "cell_type": "code",
   "execution_count": 87,
   "metadata": {},
   "outputs": [
    {
     "data": {
      "text/plain": [
       "0.8590352063246491"
      ]
     },
     "execution_count": 87,
     "metadata": {},
     "output_type": "execute_result"
    }
   ],
   "source": [
    "gs_xgb.best_score_"
   ]
  },
  {
   "cell_type": "code",
   "execution_count": 88,
   "metadata": {},
   "outputs": [],
   "source": [
    "gs_xgb_model = gs_xgb.best_estimator_"
   ]
  },
  {
   "cell_type": "code",
   "execution_count": 89,
   "metadata": {},
   "outputs": [],
   "source": [
    "gs_xgb_y_preds = gs_xgb_model.predict(X_val)"
   ]
  },
  {
   "cell_type": "code",
   "execution_count": 90,
   "metadata": {},
   "outputs": [
    {
     "name": "stdout",
     "output_type": "stream",
     "text": [
      "Model           : XGBoost\n",
      "----------------------------------------------------------------\n",
      "              precision    recall  f1-score   support\n",
      "\n",
      "           0       0.99      0.64      0.78      1604\n",
      "           1       0.12      0.89      0.22        91\n",
      "\n",
      "    accuracy                           0.65      1695\n",
      "   macro avg       0.56      0.76      0.50      1695\n",
      "weighted avg       0.94      0.65      0.75      1695\n",
      "\n",
      "train roc auc      0.86\n"
     ]
    },
    {
     "data": {
      "image/png": "[encoded data removed]",
      "text/plain": [
       "<Figure size 432x288 with 2 Axes>"
      ]
     },
     "metadata": {
      "needs_background": "light"
     },
     "output_type": "display_data"
    },
    {
     "data": {
      "image/png": "[encoded data removed]",
      "text/plain": [
       "<Figure size 432x288 with 1 Axes>"
      ]
     },
     "metadata": {
      "needs_background": "light"
     },
     "output_type": "display_data"
    }
   ],
   "source": [
    "model_eval('XGBoost', gs_xgb, X_val, y_val, gs_xgb_y_preds)"
   ]
  },
  {
   "cell_type": "code",
   "execution_count": 91,
   "metadata": {},
   "outputs": [],
   "source": [
    "xgb_feature_impt = gs_xgb_model.named_steps['xgbclassifier'].feature_importances_\n",
    "xgb_feature_impt_df = pd.DataFrame(index=X_train.columns, data = xgb_feature_impt, columns = ['feature importance'])"
   ]
  },
  {
   "cell_type": "code",
   "execution_count": 92,
   "metadata": {},
   "outputs": [
    {
     "data": {
      "image/png": "[encoded data removed]",
      "text/plain": [
       "<Figure size 1080x720 with 1 Axes>"
      ]
     },
     "metadata": {
      "needs_background": "light"
     },
     "output_type": "display_data"
    }
   ],
   "source": [
    "xgb_feature_impt_df.sort_values(by='feature importance', ascending=True).plot(kind='barh', color='royalblue', legend = False, figsize=(15,10));\n",
    "plt.xticks(fontsize=14)\n",
    "plt.yticks(fontsize=14)\n",
    "plt.title('Most Important Features in XGBoost', fontsize=18, y=1.01);"
   ]
  },
  {
   "cell_type": "markdown",
   "metadata": {},
   "source": [
    "### Model Evaluation Summary"
   ]
  },
  {
   "cell_type": "markdown",
   "metadata": {},
   "source": [
    "|      | Logistic Regression | Random Forest | AdaBoost | Gradient Boost | XGBoost |\n",
    "|:---  |:---: |:---: |:---: |:---: |:---: |\n",
    "| Train ROC AUC | 0.80 | 0.83 | 0.83 | 0.83 | 0.86 |\n",
    "| Validation ROC AUC | 0.78 | 0.82 | 0.82 | 0.83 | 0.85 |\n",
    "| Sensitivity | 0.75 | 0.81 | 0.63 | 0.56 | 0.89 |\n",
    "| Accuracy | 0.70 | 0.72 | 0.81 | 0.86 | 0.65 |"
   ]
  },
  {
   "cell_type": "markdown",
   "metadata": {},
   "source": [
    "Comparing the 5 models, XGBoost performs the best in terms of both ROC AUC and Sensitivity."
   ]
  },
  {
   "cell_type": "markdown",
   "metadata": {},
   "source": [
    "## Generate Predictions"
   ]
  },
  {
   "cell_type": "code",
   "execution_count": 93,
   "metadata": {},
   "outputs": [],
   "source": [
    "X_test = test[[col for col in test.columns if col != 'Id']]"
   ]
  },
  {
   "cell_type": "code",
   "execution_count": 94,
   "metadata": {},
   "outputs": [],
   "source": [
    "y_preds = gs_xgb.predict_proba(X_test)"
   ]
  },
  {
   "cell_type": "code",
   "execution_count": 95,
   "metadata": {},
   "outputs": [
    {
     "data": {
      "text/plain": [
       "array([[9.9619329e-01, 3.8066998e-03],\n",
       "       [9.9919456e-01, 8.0544059e-04],\n",
       "       [9.9856788e-01, 1.4321280e-03],\n",
       "       ...,\n",
       "       [8.5018402e-01, 1.4981599e-01],\n",
       "       [8.5018402e-01, 1.4981599e-01],\n",
       "       [8.5018402e-01, 1.4981599e-01]], dtype=float32)"
      ]
     },
     "execution_count": 95,
     "metadata": {},
     "output_type": "execute_result"
    }
   ],
   "source": [
    "y_preds"
   ]
  },
  {
   "cell_type": "code",
   "execution_count": 96,
   "metadata": {},
   "outputs": [],
   "source": [
    "submission = pd.DataFrame(test['Id'])\n",
    "submission['WnvPresent'] = y_preds[:,1]"
   ]
  },
  {
   "cell_type": "code",
   "execution_count": 97,
   "metadata": {},
   "outputs": [],
   "source": [
    "submission.to_csv('./data/submission_2.csv', index=False)"
   ]
  },
  {
   "cell_type": "markdown",
   "metadata": {},
   "source": [
    "Kaggle score: 0.76478"
   ]
  },
  {
   "cell_type": "code",
   "execution_count": null,
   "metadata": {},
   "outputs": [],
   "source": []
  }
 ],
 "metadata": {
  "kernelspec": {
   "display_name": "Python 3",
   "language": "python",
   "name": "python3"
  },
  "language_info": {
   "codemirror_mode": {
    "name": "ipython",
    "version": 3
   },
   "file_extension": ".py",
   "mimetype": "text/x-python",
   "name": "python",
   "nbconvert_exporter": "python",
   "pygments_lexer": "ipython3",
   "version": "3.8.3"
  }
 },
 "nbformat": 4,
 "nbformat_minor": 4
}
