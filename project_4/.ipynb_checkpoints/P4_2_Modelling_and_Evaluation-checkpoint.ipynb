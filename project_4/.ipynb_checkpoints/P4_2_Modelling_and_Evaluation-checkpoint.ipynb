{
 "cells": [
  {
   "cell_type": "markdown",
   "metadata": {},
   "source": [
    "# DSI Project 4: West Nile Virus Prediction"
   ]
  },
  {
   "cell_type": "markdown",
   "metadata": {},
   "source": [
    "## Modelling"
   ]
  },
  {
   "cell_type": "code",
   "execution_count": 1,
   "metadata": {},
   "outputs": [],
   "source": [
    "# import libraries\n",
    "import pandas as pd\n",
    "import numpy as np\n",
    "import seaborn as sns\n",
    "import matplotlib.pyplot as plt\n",
    "import missingno as msno\n",
    "import plotly.express as px\n",
    "\n",
    "import xgboost as xgb\n",
    "from xgboost import XGBClassifier\n",
    "from sklearn.ensemble import RandomForestClassifier\n",
    "from sklearn.ensemble import AdaBoostClassifier\n",
    "from sklearn import preprocessing, ensemble, metrics, feature_selection, model_selection\n",
    "from sklearn.model_selection import train_test_split, cross_val_score, GridSearchCV, KFold\n",
    "from sklearn.metrics import confusion_matrix, plot_confusion_matrix, accuracy_score, precision_score, plot_roc_curve,classification_report\n",
    "from sklearn.pipeline import Pipeline\n",
    "from imblearn.pipeline import make_pipeline\n",
    "from imblearn.over_sampling import SMOTE\n",
    "from sklearn.metrics import recall_score, roc_auc_score\n",
    "\n",
    "from math import radians, degrees, sin, cos, asin, acos, sqrt\n",
    "\n",
    "pd.set_option('max_columns', None)\n",
    "pd.set_option('max_rows', None)\n",
    "\n",
    "plt.style.use('seaborn-muted')\n",
    "sns.set_style(style='white')\n",
    "\n",
    "%matplotlib inline"
   ]
  },
  {
   "cell_type": "code",
   "execution_count": 2,
   "metadata": {},
   "outputs": [],
   "source": [
    "# load datasets \n",
    "train = pd.read_csv('./data/train_clean.csv', parse_dates=['Date'])\n",
    "test = pd.read_csv('./data/test_clean.csv', parse_dates=['Date'])"
   ]
  },
  {
   "cell_type": "code",
   "execution_count": 3,
   "metadata": {},
   "outputs": [],
   "source": [
    "# define a function for intial exploration of dataset\n",
    "\n",
    "def data_exploration(df_name, df):\n",
    "    \"\"\"\n",
    "    function to perform initial data exploration to check for \n",
    "    dataframe shape, datatype, null values and duplicates\n",
    "    \n",
    "    \"\"\"\n",
    "    print(f\"DATASET: {df_name}\")\n",
    "    print(\"-------------------------------------\")\n",
    "    print(\"First 3 rows of dataset:\")\n",
    "    display(df.head(3))\n",
    "    print(\"\\n\")\n",
    "    # check shape of dataframe\n",
    "    print(f\"Shape of dataset: {df.shape}\")\n",
    "    print(\"\\n\")\n",
    "    # check datatypes\n",
    "    print(\"Columns & data types: \")\n",
    "    df.info()\n",
    "    print(\"\\n\")\n",
    "    # check for null values\n",
    "    print(\"Null values: \")\n",
    "    if df.isnull().sum().sum() == 0:\n",
    "        print(\"No null value\")\n",
    "    else:\n",
    "        for col in df:\n",
    "            print(f\"{col}: {df[col].isnull().sum()}\")\n",
    "    print(\"\\n\")\n",
    "    # check for duplicates\n",
    "    if df.duplicated(subset=None, keep='first').any() == False:\n",
    "        print(\"No duplicated row\")\n",
    "    else:\n",
    "        duplicates = df[df.duplicated(subset=None, keep='first')]\n",
    "        print(f\"{len(duplicates)} duplicated rows in dataset.\")"
   ]
  },
  {
   "cell_type": "code",
   "execution_count": 4,
   "metadata": {},
   "outputs": [],
   "source": [
    "# create function to plot confusion matrix\n",
    "\n",
    "def plt_confusion(df, mod_name, model, X_train, X_val, title):\n",
    "    plot_confusion_matrix(model, X_val, y_val, cmap='Blues', values_format='d')\n",
    "    plt.title(f'Confusion Matrix: {title}',fontsize=16,color='royalblue')\n",
    "    # plt.savefig(f'images/confusion_matrix: {title}');"
   ]
  },
  {
   "cell_type": "markdown",
   "metadata": {},
   "source": [
    "### Test Data Set \n",
    "- This is the new train data set that is cleaned and merged with selected features from weather dataset post feature-engineering.\n",
    "- Test data does not have target variable `'WnvPresent'` for prediction, as well as the related column `'NumMosquitos'`\n",
    "- The column `'Id'` will be used for submission together with the predictions of the target variable `'WnvPresent'`"
   ]
  },
  {
   "cell_type": "code",
   "execution_count": 5,
   "metadata": {
    "scrolled": true
   },
   "outputs": [
    {
     "name": "stdout",
     "output_type": "stream",
     "text": [
      "DATASET: Main dataset - Test\n",
      "-------------------------------------\n",
      "First 3 rows of dataset:\n"
     ]
    },
    {
     "data": {
      "text/html": [
       "<div>\n",
       "<style scoped>\n",
       "    .dataframe tbody tr th:only-of-type {\n",
       "        vertical-align: middle;\n",
       "    }\n",
       "\n",
       "    .dataframe tbody tr th {\n",
       "        vertical-align: top;\n",
       "    }\n",
       "\n",
       "    .dataframe thead th {\n",
       "        text-align: right;\n",
       "    }\n",
       "</style>\n",
       "<table border=\"1\" class=\"dataframe\">\n",
       "  <thead>\n",
       "    <tr style=\"text-align: right;\">\n",
       "      <th></th>\n",
       "      <th>Id</th>\n",
       "      <th>Date</th>\n",
       "      <th>Species</th>\n",
       "      <th>Trap</th>\n",
       "      <th>Latitude</th>\n",
       "      <th>Longitude</th>\n",
       "      <th>Month</th>\n",
       "      <th>Year</th>\n",
       "      <th>Station</th>\n",
       "      <th>Tavg</th>\n",
       "      <th>PrecipTotal</th>\n",
       "      <th>StnPressure</th>\n",
       "      <th>AvgSpeed</th>\n",
       "      <th>Tavg_rolling4_shift7</th>\n",
       "      <th>PrecipTotal_rolling4_shift7</th>\n",
       "      <th>StnPressure_rolling4_shift7</th>\n",
       "      <th>AvgSpeed_rolling4_shift7</th>\n",
       "      <th>Opt_temp</th>\n",
       "    </tr>\n",
       "  </thead>\n",
       "  <tbody>\n",
       "    <tr>\n",
       "      <th>0</th>\n",
       "      <td>1</td>\n",
       "      <td>2008-06-11</td>\n",
       "      <td>CULEX PIPIENS/RESTUANS</td>\n",
       "      <td>T002</td>\n",
       "      <td>41.95469</td>\n",
       "      <td>-87.800991</td>\n",
       "      <td>6</td>\n",
       "      <td>2008</td>\n",
       "      <td>1.0</td>\n",
       "      <td>74.0</td>\n",
       "      <td>0.0</td>\n",
       "      <td>29.28</td>\n",
       "      <td>10.0</td>\n",
       "      <td>65.75</td>\n",
       "      <td>0.1325</td>\n",
       "      <td>29.065</td>\n",
       "      <td>6.15</td>\n",
       "      <td>1.0</td>\n",
       "    </tr>\n",
       "    <tr>\n",
       "      <th>1</th>\n",
       "      <td>2</td>\n",
       "      <td>2008-06-11</td>\n",
       "      <td>CULEX RESTUANS</td>\n",
       "      <td>T002</td>\n",
       "      <td>41.95469</td>\n",
       "      <td>-87.800991</td>\n",
       "      <td>6</td>\n",
       "      <td>2008</td>\n",
       "      <td>1.0</td>\n",
       "      <td>74.0</td>\n",
       "      <td>0.0</td>\n",
       "      <td>29.28</td>\n",
       "      <td>10.0</td>\n",
       "      <td>65.75</td>\n",
       "      <td>0.1325</td>\n",
       "      <td>29.065</td>\n",
       "      <td>6.15</td>\n",
       "      <td>1.0</td>\n",
       "    </tr>\n",
       "    <tr>\n",
       "      <th>2</th>\n",
       "      <td>3</td>\n",
       "      <td>2008-06-11</td>\n",
       "      <td>CULEX PIPIENS</td>\n",
       "      <td>T002</td>\n",
       "      <td>41.95469</td>\n",
       "      <td>-87.800991</td>\n",
       "      <td>6</td>\n",
       "      <td>2008</td>\n",
       "      <td>1.0</td>\n",
       "      <td>74.0</td>\n",
       "      <td>0.0</td>\n",
       "      <td>29.28</td>\n",
       "      <td>10.0</td>\n",
       "      <td>65.75</td>\n",
       "      <td>0.1325</td>\n",
       "      <td>29.065</td>\n",
       "      <td>6.15</td>\n",
       "      <td>1.0</td>\n",
       "    </tr>\n",
       "  </tbody>\n",
       "</table>\n",
       "</div>"
      ],
      "text/plain": [
       "   Id       Date                 Species  Trap  Latitude  Longitude  Month  \\\n",
       "0   1 2008-06-11  CULEX PIPIENS/RESTUANS  T002  41.95469 -87.800991      6   \n",
       "1   2 2008-06-11          CULEX RESTUANS  T002  41.95469 -87.800991      6   \n",
       "2   3 2008-06-11           CULEX PIPIENS  T002  41.95469 -87.800991      6   \n",
       "\n",
       "   Year  Station  Tavg  PrecipTotal  StnPressure  AvgSpeed  \\\n",
       "0  2008      1.0  74.0          0.0        29.28      10.0   \n",
       "1  2008      1.0  74.0          0.0        29.28      10.0   \n",
       "2  2008      1.0  74.0          0.0        29.28      10.0   \n",
       "\n",
       "   Tavg_rolling4_shift7  PrecipTotal_rolling4_shift7  \\\n",
       "0                 65.75                       0.1325   \n",
       "1                 65.75                       0.1325   \n",
       "2                 65.75                       0.1325   \n",
       "\n",
       "   StnPressure_rolling4_shift7  AvgSpeed_rolling4_shift7  Opt_temp  \n",
       "0                       29.065                      6.15       1.0  \n",
       "1                       29.065                      6.15       1.0  \n",
       "2                       29.065                      6.15       1.0  "
      ]
     },
     "metadata": {},
     "output_type": "display_data"
    },
    {
     "name": "stdout",
     "output_type": "stream",
     "text": [
      "\n",
      "\n",
      "Shape of dataset: (116293, 18)\n",
      "\n",
      "\n",
      "Columns & data types: \n",
      "<class 'pandas.core.frame.DataFrame'>\n",
      "RangeIndex: 116293 entries, 0 to 116292\n",
      "Data columns (total 18 columns):\n",
      " #   Column                       Non-Null Count   Dtype         \n",
      "---  ------                       --------------   -----         \n",
      " 0   Id                           116293 non-null  int64         \n",
      " 1   Date                         116293 non-null  datetime64[ns]\n",
      " 2   Species                      116293 non-null  object        \n",
      " 3   Trap                         116293 non-null  object        \n",
      " 4   Latitude                     116293 non-null  float64       \n",
      " 5   Longitude                    116293 non-null  float64       \n",
      " 6   Month                        116293 non-null  int64         \n",
      " 7   Year                         116293 non-null  int64         \n",
      " 8   Station                      116293 non-null  float64       \n",
      " 9   Tavg                         116293 non-null  float64       \n",
      " 10  PrecipTotal                  116293 non-null  float64       \n",
      " 11  StnPressure                  116293 non-null  float64       \n",
      " 12  AvgSpeed                     116293 non-null  float64       \n",
      " 13  Tavg_rolling4_shift7         116293 non-null  float64       \n",
      " 14  PrecipTotal_rolling4_shift7  116293 non-null  float64       \n",
      " 15  StnPressure_rolling4_shift7  116293 non-null  float64       \n",
      " 16  AvgSpeed_rolling4_shift7     116293 non-null  float64       \n",
      " 17  Opt_temp                     116293 non-null  float64       \n",
      "dtypes: datetime64[ns](1), float64(12), int64(3), object(2)\n",
      "memory usage: 16.0+ MB\n",
      "\n",
      "\n",
      "Null values: \n",
      "No null value\n",
      "\n",
      "\n",
      "No duplicated row\n"
     ]
    }
   ],
   "source": [
    "data_exploration('Main dataset - Test', test)"
   ]
  },
  {
   "cell_type": "markdown",
   "metadata": {},
   "source": [
    "### Train Data Set \n",
    "- This is the new train data set that is cleaned and merged with selected features from weather dataset post feature-engineering.\n",
    "- This file contains the columns `'NumMosquitos'` and `'WnvPresent'` to train the model for predictions, and do not have the column `'Id'` in test dataset that will be used for submitting predictions."
   ]
  },
  {
   "cell_type": "code",
   "execution_count": 6,
   "metadata": {
    "scrolled": true
   },
   "outputs": [
    {
     "name": "stdout",
     "output_type": "stream",
     "text": [
      "DATASET: Main dataset - Train\n",
      "-------------------------------------\n",
      "First 3 rows of dataset:\n"
     ]
    },
    {
     "data": {
      "text/html": [
       "<div>\n",
       "<style scoped>\n",
       "    .dataframe tbody tr th:only-of-type {\n",
       "        vertical-align: middle;\n",
       "    }\n",
       "\n",
       "    .dataframe tbody tr th {\n",
       "        vertical-align: top;\n",
       "    }\n",
       "\n",
       "    .dataframe thead th {\n",
       "        text-align: right;\n",
       "    }\n",
       "</style>\n",
       "<table border=\"1\" class=\"dataframe\">\n",
       "  <thead>\n",
       "    <tr style=\"text-align: right;\">\n",
       "      <th></th>\n",
       "      <th>Date</th>\n",
       "      <th>Trap</th>\n",
       "      <th>Latitude</th>\n",
       "      <th>Longitude</th>\n",
       "      <th>NumMosquitos</th>\n",
       "      <th>WnvPresent</th>\n",
       "      <th>Month</th>\n",
       "      <th>Year</th>\n",
       "      <th>C_Pipiens</th>\n",
       "      <th>C_Pipiens/Restuans</th>\n",
       "      <th>C_Restuans</th>\n",
       "      <th>C_Salinarius</th>\n",
       "      <th>C_Tarsalis</th>\n",
       "      <th>C_Territans</th>\n",
       "      <th>Station</th>\n",
       "      <th>Tavg</th>\n",
       "      <th>PrecipTotal</th>\n",
       "      <th>StnPressure</th>\n",
       "      <th>AvgSpeed</th>\n",
       "      <th>Tavg_rolling4_shift7</th>\n",
       "      <th>PrecipTotal_rolling4_shift7</th>\n",
       "      <th>StnPressure_rolling4_shift7</th>\n",
       "      <th>AvgSpeed_rolling4_shift7</th>\n",
       "      <th>Opt_temp</th>\n",
       "    </tr>\n",
       "  </thead>\n",
       "  <tbody>\n",
       "    <tr>\n",
       "      <th>0</th>\n",
       "      <td>2007-05-29</td>\n",
       "      <td>T096</td>\n",
       "      <td>41.731922</td>\n",
       "      <td>-87.677512</td>\n",
       "      <td>1</td>\n",
       "      <td>0</td>\n",
       "      <td>5</td>\n",
       "      <td>2007</td>\n",
       "      <td>1</td>\n",
       "      <td>0</td>\n",
       "      <td>0</td>\n",
       "      <td>0</td>\n",
       "      <td>0</td>\n",
       "      <td>0</td>\n",
       "      <td>2.0</td>\n",
       "      <td>77.0</td>\n",
       "      <td>0.0</td>\n",
       "      <td>29.44</td>\n",
       "      <td>7.4</td>\n",
       "      <td>65.5</td>\n",
       "      <td>0.0275</td>\n",
       "      <td>29.4125</td>\n",
       "      <td>9.875</td>\n",
       "      <td>1.0</td>\n",
       "    </tr>\n",
       "    <tr>\n",
       "      <th>1</th>\n",
       "      <td>2007-05-29</td>\n",
       "      <td>T048</td>\n",
       "      <td>41.867108</td>\n",
       "      <td>-87.654224</td>\n",
       "      <td>1</td>\n",
       "      <td>0</td>\n",
       "      <td>5</td>\n",
       "      <td>2007</td>\n",
       "      <td>0</td>\n",
       "      <td>1</td>\n",
       "      <td>0</td>\n",
       "      <td>0</td>\n",
       "      <td>0</td>\n",
       "      <td>0</td>\n",
       "      <td>2.0</td>\n",
       "      <td>77.0</td>\n",
       "      <td>0.0</td>\n",
       "      <td>29.44</td>\n",
       "      <td>7.4</td>\n",
       "      <td>65.5</td>\n",
       "      <td>0.0275</td>\n",
       "      <td>29.4125</td>\n",
       "      <td>9.875</td>\n",
       "      <td>1.0</td>\n",
       "    </tr>\n",
       "    <tr>\n",
       "      <th>2</th>\n",
       "      <td>2007-05-29</td>\n",
       "      <td>T050</td>\n",
       "      <td>41.919343</td>\n",
       "      <td>-87.694259</td>\n",
       "      <td>1</td>\n",
       "      <td>0</td>\n",
       "      <td>5</td>\n",
       "      <td>2007</td>\n",
       "      <td>0</td>\n",
       "      <td>1</td>\n",
       "      <td>0</td>\n",
       "      <td>0</td>\n",
       "      <td>0</td>\n",
       "      <td>0</td>\n",
       "      <td>2.0</td>\n",
       "      <td>77.0</td>\n",
       "      <td>0.0</td>\n",
       "      <td>29.44</td>\n",
       "      <td>7.4</td>\n",
       "      <td>65.5</td>\n",
       "      <td>0.0275</td>\n",
       "      <td>29.4125</td>\n",
       "      <td>9.875</td>\n",
       "      <td>1.0</td>\n",
       "    </tr>\n",
       "  </tbody>\n",
       "</table>\n",
       "</div>"
      ],
      "text/plain": [
       "        Date  Trap   Latitude  Longitude  NumMosquitos  WnvPresent  Month  \\\n",
       "0 2007-05-29  T096  41.731922 -87.677512             1           0      5   \n",
       "1 2007-05-29  T048  41.867108 -87.654224             1           0      5   \n",
       "2 2007-05-29  T050  41.919343 -87.694259             1           0      5   \n",
       "\n",
       "   Year  C_Pipiens  C_Pipiens/Restuans  C_Restuans  C_Salinarius  C_Tarsalis  \\\n",
       "0  2007          1                   0           0             0           0   \n",
       "1  2007          0                   1           0             0           0   \n",
       "2  2007          0                   1           0             0           0   \n",
       "\n",
       "   C_Territans  Station  Tavg  PrecipTotal  StnPressure  AvgSpeed  \\\n",
       "0            0      2.0  77.0          0.0        29.44       7.4   \n",
       "1            0      2.0  77.0          0.0        29.44       7.4   \n",
       "2            0      2.0  77.0          0.0        29.44       7.4   \n",
       "\n",
       "   Tavg_rolling4_shift7  PrecipTotal_rolling4_shift7  \\\n",
       "0                  65.5                       0.0275   \n",
       "1                  65.5                       0.0275   \n",
       "2                  65.5                       0.0275   \n",
       "\n",
       "   StnPressure_rolling4_shift7  AvgSpeed_rolling4_shift7  Opt_temp  \n",
       "0                      29.4125                     9.875       1.0  \n",
       "1                      29.4125                     9.875       1.0  \n",
       "2                      29.4125                     9.875       1.0  "
      ]
     },
     "metadata": {},
     "output_type": "display_data"
    },
    {
     "name": "stdout",
     "output_type": "stream",
     "text": [
      "\n",
      "\n",
      "Shape of dataset: (8475, 24)\n",
      "\n",
      "\n",
      "Columns & data types: \n",
      "<class 'pandas.core.frame.DataFrame'>\n",
      "RangeIndex: 8475 entries, 0 to 8474\n",
      "Data columns (total 24 columns):\n",
      " #   Column                       Non-Null Count  Dtype         \n",
      "---  ------                       --------------  -----         \n",
      " 0   Date                         8475 non-null   datetime64[ns]\n",
      " 1   Trap                         8475 non-null   object        \n",
      " 2   Latitude                     8475 non-null   float64       \n",
      " 3   Longitude                    8475 non-null   float64       \n",
      " 4   NumMosquitos                 8475 non-null   int64         \n",
      " 5   WnvPresent                   8475 non-null   int64         \n",
      " 6   Month                        8475 non-null   int64         \n",
      " 7   Year                         8475 non-null   int64         \n",
      " 8   C_Pipiens                    8475 non-null   int64         \n",
      " 9   C_Pipiens/Restuans           8475 non-null   int64         \n",
      " 10  C_Restuans                   8475 non-null   int64         \n",
      " 11  C_Salinarius                 8475 non-null   int64         \n",
      " 12  C_Tarsalis                   8475 non-null   int64         \n",
      " 13  C_Territans                  8475 non-null   int64         \n",
      " 14  Station                      8475 non-null   float64       \n",
      " 15  Tavg                         8475 non-null   float64       \n",
      " 16  PrecipTotal                  8475 non-null   float64       \n",
      " 17  StnPressure                  8475 non-null   float64       \n",
      " 18  AvgSpeed                     8475 non-null   float64       \n",
      " 19  Tavg_rolling4_shift7         8475 non-null   float64       \n",
      " 20  PrecipTotal_rolling4_shift7  8475 non-null   float64       \n",
      " 21  StnPressure_rolling4_shift7  8475 non-null   float64       \n",
      " 22  AvgSpeed_rolling4_shift7     8475 non-null   float64       \n",
      " 23  Opt_temp                     8475 non-null   float64       \n",
      "dtypes: datetime64[ns](1), float64(12), int64(10), object(1)\n",
      "memory usage: 1.6+ MB\n",
      "\n",
      "\n",
      "Null values: \n",
      "No null value\n",
      "\n",
      "\n",
      "No duplicated row\n"
     ]
    }
   ],
   "source": [
    "data_exploration('Main dataset - Train', train)"
   ]
  },
  {
   "cell_type": "markdown",
   "metadata": {},
   "source": [
    "### Recap Problem Statement / Modelling Objective:\n",
    "\n",
    "- We are tasked to develop a strategy to deploy the effective use of pesticides, by targeting spraying of pesticides to areas of high risk will help to mitigate future outbreaks.\n",
    "\n",
    "\n",
    "- Modelling:  **Binary Classification Model** to predict the presence of the West Nile Virus in the city of Chicago, leveraging on weather, location, mosquito population and spraying data.\n",
    "\n",
    "\n",
    "- The model that achieves the highest ROC AUC score on the validation data set, will be selected as our production model.\n",
    "\n",
    "\n",
    "- To mitigate the risk of future outbreaks, we want to be as accurate as possible at predicting the presence of West Nile Virus (`class 1`).  Hence, we will focus more on the **Sensitivity Score** (True Positives / (True Positive + False Negative)).  There is a higher risk of outbreaks if the model predicts an absence where the virus is present (False Negative), whereas it is just overcaution if the model wrongly predicts a presence of the virus (False Positive).\n",
    "\n",
    "\n",
    "- From the EDA:  Our target variable `'WnvPresent'` is highly imbalanced.\n",
    "  - Positive class of only 5.4%.\n",
    "  - <span style = 'color:blue'>**Baseline accuracy is 94.6077%**</span>, which is the percentage of the majority class (`class 0` : West Nile Virus not Present)\n"
   ]
  },
  {
   "cell_type": "code",
   "execution_count": 7,
   "metadata": {},
   "outputs": [
    {
     "data": {
      "text/plain": [
       "0    0.946077\n",
       "1    0.053923\n",
       "Name: WnvPresent, dtype: float64"
      ]
     },
     "execution_count": 7,
     "metadata": {},
     "output_type": "execute_result"
    }
   ],
   "source": [
    "train.WnvPresent.value_counts(normalize=True)"
   ]
  },
  {
   "cell_type": "code",
   "execution_count": 8,
   "metadata": {},
   "outputs": [
    {
     "data": {
      "image/png": "[encoded data removed]",
      "text/plain": [
       "<Figure size 576x288 with 1 Axes>"
      ]
     },
     "metadata": {
      "needs_background": "light"
     },
     "output_type": "display_data"
    }
   ],
   "source": [
    "train['WnvPresent'].value_counts().plot(kind='bar', color='cornflowerblue', figsize=(8, 4))\n",
    "plt.title('WnvPresent - Frequency', fontsize = 14, y=1.01)\n",
    "plt.xticks(rotation=0);"
   ]
  },
  {
   "cell_type": "code",
   "execution_count": 9,
   "metadata": {},
   "outputs": [
    {
     "data": {
      "text/html": [
       "<div>\n",
       "<style scoped>\n",
       "    .dataframe tbody tr th:only-of-type {\n",
       "        vertical-align: middle;\n",
       "    }\n",
       "\n",
       "    .dataframe tbody tr th {\n",
       "        vertical-align: top;\n",
       "    }\n",
       "\n",
       "    .dataframe thead th {\n",
       "        text-align: right;\n",
       "    }\n",
       "</style>\n",
       "<table border=\"1\" class=\"dataframe\">\n",
       "  <thead>\n",
       "    <tr style=\"text-align: right;\">\n",
       "      <th></th>\n",
       "      <th>Date</th>\n",
       "      <th>Trap</th>\n",
       "      <th>Latitude</th>\n",
       "      <th>Longitude</th>\n",
       "      <th>NumMosquitos</th>\n",
       "      <th>WnvPresent</th>\n",
       "      <th>Month</th>\n",
       "      <th>Year</th>\n",
       "      <th>C_Pipiens</th>\n",
       "      <th>C_Pipiens/Restuans</th>\n",
       "      <th>C_Restuans</th>\n",
       "      <th>C_Salinarius</th>\n",
       "      <th>C_Tarsalis</th>\n",
       "      <th>C_Territans</th>\n",
       "      <th>Station</th>\n",
       "      <th>Tavg</th>\n",
       "      <th>PrecipTotal</th>\n",
       "      <th>StnPressure</th>\n",
       "      <th>AvgSpeed</th>\n",
       "      <th>Tavg_rolling4_shift7</th>\n",
       "      <th>PrecipTotal_rolling4_shift7</th>\n",
       "      <th>StnPressure_rolling4_shift7</th>\n",
       "      <th>AvgSpeed_rolling4_shift7</th>\n",
       "      <th>Opt_temp</th>\n",
       "    </tr>\n",
       "  </thead>\n",
       "  <tbody>\n",
       "    <tr>\n",
       "      <th>0</th>\n",
       "      <td>2007-05-29</td>\n",
       "      <td>T096</td>\n",
       "      <td>41.731922</td>\n",
       "      <td>-87.677512</td>\n",
       "      <td>1</td>\n",
       "      <td>0</td>\n",
       "      <td>5</td>\n",
       "      <td>2007</td>\n",
       "      <td>1</td>\n",
       "      <td>0</td>\n",
       "      <td>0</td>\n",
       "      <td>0</td>\n",
       "      <td>0</td>\n",
       "      <td>0</td>\n",
       "      <td>2.0</td>\n",
       "      <td>77.0</td>\n",
       "      <td>0.0</td>\n",
       "      <td>29.44</td>\n",
       "      <td>7.4</td>\n",
       "      <td>65.5</td>\n",
       "      <td>0.0275</td>\n",
       "      <td>29.4125</td>\n",
       "      <td>9.875</td>\n",
       "      <td>1.0</td>\n",
       "    </tr>\n",
       "    <tr>\n",
       "      <th>1</th>\n",
       "      <td>2007-05-29</td>\n",
       "      <td>T048</td>\n",
       "      <td>41.867108</td>\n",
       "      <td>-87.654224</td>\n",
       "      <td>1</td>\n",
       "      <td>0</td>\n",
       "      <td>5</td>\n",
       "      <td>2007</td>\n",
       "      <td>0</td>\n",
       "      <td>1</td>\n",
       "      <td>0</td>\n",
       "      <td>0</td>\n",
       "      <td>0</td>\n",
       "      <td>0</td>\n",
       "      <td>2.0</td>\n",
       "      <td>77.0</td>\n",
       "      <td>0.0</td>\n",
       "      <td>29.44</td>\n",
       "      <td>7.4</td>\n",
       "      <td>65.5</td>\n",
       "      <td>0.0275</td>\n",
       "      <td>29.4125</td>\n",
       "      <td>9.875</td>\n",
       "      <td>1.0</td>\n",
       "    </tr>\n",
       "    <tr>\n",
       "      <th>2</th>\n",
       "      <td>2007-05-29</td>\n",
       "      <td>T050</td>\n",
       "      <td>41.919343</td>\n",
       "      <td>-87.694259</td>\n",
       "      <td>1</td>\n",
       "      <td>0</td>\n",
       "      <td>5</td>\n",
       "      <td>2007</td>\n",
       "      <td>0</td>\n",
       "      <td>1</td>\n",
       "      <td>0</td>\n",
       "      <td>0</td>\n",
       "      <td>0</td>\n",
       "      <td>0</td>\n",
       "      <td>2.0</td>\n",
       "      <td>77.0</td>\n",
       "      <td>0.0</td>\n",
       "      <td>29.44</td>\n",
       "      <td>7.4</td>\n",
       "      <td>65.5</td>\n",
       "      <td>0.0275</td>\n",
       "      <td>29.4125</td>\n",
       "      <td>9.875</td>\n",
       "      <td>1.0</td>\n",
       "    </tr>\n",
       "    <tr>\n",
       "      <th>3</th>\n",
       "      <td>2007-05-29</td>\n",
       "      <td>T054</td>\n",
       "      <td>41.921965</td>\n",
       "      <td>-87.632085</td>\n",
       "      <td>2</td>\n",
       "      <td>0</td>\n",
       "      <td>5</td>\n",
       "      <td>2007</td>\n",
       "      <td>0</td>\n",
       "      <td>1</td>\n",
       "      <td>0</td>\n",
       "      <td>0</td>\n",
       "      <td>0</td>\n",
       "      <td>0</td>\n",
       "      <td>2.0</td>\n",
       "      <td>77.0</td>\n",
       "      <td>0.0</td>\n",
       "      <td>29.44</td>\n",
       "      <td>7.4</td>\n",
       "      <td>65.5</td>\n",
       "      <td>0.0275</td>\n",
       "      <td>29.4125</td>\n",
       "      <td>9.875</td>\n",
       "      <td>1.0</td>\n",
       "    </tr>\n",
       "    <tr>\n",
       "      <th>4</th>\n",
       "      <td>2007-05-29</td>\n",
       "      <td>T086</td>\n",
       "      <td>41.688324</td>\n",
       "      <td>-87.676709</td>\n",
       "      <td>1</td>\n",
       "      <td>0</td>\n",
       "      <td>5</td>\n",
       "      <td>2007</td>\n",
       "      <td>0</td>\n",
       "      <td>1</td>\n",
       "      <td>0</td>\n",
       "      <td>0</td>\n",
       "      <td>0</td>\n",
       "      <td>0</td>\n",
       "      <td>2.0</td>\n",
       "      <td>77.0</td>\n",
       "      <td>0.0</td>\n",
       "      <td>29.44</td>\n",
       "      <td>7.4</td>\n",
       "      <td>65.5</td>\n",
       "      <td>0.0275</td>\n",
       "      <td>29.4125</td>\n",
       "      <td>9.875</td>\n",
       "      <td>1.0</td>\n",
       "    </tr>\n",
       "  </tbody>\n",
       "</table>\n",
       "</div>"
      ],
      "text/plain": [
       "        Date  Trap   Latitude  Longitude  NumMosquitos  WnvPresent  Month  \\\n",
       "0 2007-05-29  T096  41.731922 -87.677512             1           0      5   \n",
       "1 2007-05-29  T048  41.867108 -87.654224             1           0      5   \n",
       "2 2007-05-29  T050  41.919343 -87.694259             1           0      5   \n",
       "3 2007-05-29  T054  41.921965 -87.632085             2           0      5   \n",
       "4 2007-05-29  T086  41.688324 -87.676709             1           0      5   \n",
       "\n",
       "   Year  C_Pipiens  C_Pipiens/Restuans  C_Restuans  C_Salinarius  C_Tarsalis  \\\n",
       "0  2007          1                   0           0             0           0   \n",
       "1  2007          0                   1           0             0           0   \n",
       "2  2007          0                   1           0             0           0   \n",
       "3  2007          0                   1           0             0           0   \n",
       "4  2007          0                   1           0             0           0   \n",
       "\n",
       "   C_Territans  Station  Tavg  PrecipTotal  StnPressure  AvgSpeed  \\\n",
       "0            0      2.0  77.0          0.0        29.44       7.4   \n",
       "1            0      2.0  77.0          0.0        29.44       7.4   \n",
       "2            0      2.0  77.0          0.0        29.44       7.4   \n",
       "3            0      2.0  77.0          0.0        29.44       7.4   \n",
       "4            0      2.0  77.0          0.0        29.44       7.4   \n",
       "\n",
       "   Tavg_rolling4_shift7  PrecipTotal_rolling4_shift7  \\\n",
       "0                  65.5                       0.0275   \n",
       "1                  65.5                       0.0275   \n",
       "2                  65.5                       0.0275   \n",
       "3                  65.5                       0.0275   \n",
       "4                  65.5                       0.0275   \n",
       "\n",
       "   StnPressure_rolling4_shift7  AvgSpeed_rolling4_shift7  Opt_temp  \n",
       "0                      29.4125                     9.875       1.0  \n",
       "1                      29.4125                     9.875       1.0  \n",
       "2                      29.4125                     9.875       1.0  \n",
       "3                      29.4125                     9.875       1.0  \n",
       "4                      29.4125                     9.875       1.0  "
      ]
     },
     "execution_count": 9,
     "metadata": {},
     "output_type": "execute_result"
    }
   ],
   "source": [
    "train.head()"
   ]
  },
  {
   "cell_type": "markdown",
   "metadata": {},
   "source": [
    "### Trial run on a model without resampling imbalanced data"
   ]
  },
  {
   "cell_type": "code",
   "execution_count": 11,
   "metadata": {},
   "outputs": [],
   "source": [
    "# initial trial run to see results before resampling \n",
    "# try XGBoost\n",
    "\n",
    "# note:  to decide if we wanna do one hot encoding for species & trap\n",
    "# date --> need to read up on time series how to \n",
    "\n",
    "X = train.drop(columns=['WnvPresent','Date','Trap', 'NumMosquitos','Station'])\n",
    "y = train['WnvPresent']"
   ]
  },
  {
   "cell_type": "code",
   "execution_count": 12,
   "metadata": {},
   "outputs": [],
   "source": [
    "data_dmatrix = xgb.DMatrix(data=X,label=y)"
   ]
  },
  {
   "cell_type": "code",
   "execution_count": 13,
   "metadata": {},
   "outputs": [],
   "source": [
    "X_train, X_val, y_train, y_val = train_test_split(X, y, random_state=42)"
   ]
  },
  {
   "cell_type": "code",
   "execution_count": null,
   "metadata": {},
   "outputs": [],
   "source": [
    "model = XGBClassifier()\n",
    "model.fit(X_train, y_train)\n",
    "y_pred = model.predict(X_val)\n",
    "\n",
    "accuracy = accuracy_score(y_val, y_pred)\n",
    "print(\"Accuracy: %.2f%%\" % (accuracy * 100.0))"
   ]
  },
  {
   "cell_type": "markdown",
   "metadata": {},
   "source": [
    "Although the accuracy is high **93.68%**, it is still below the baseline accuracy of **94.6077%** due to the imbalanced dataset."
   ]
  },
  {
   "cell_type": "code",
   "execution_count": null,
   "metadata": {},
   "outputs": [],
   "source": [
    "plt_confusion(train, 'XGBoost-trial', model, X_train, X_val, \n",
    "              'Inital modelling before resampling imbalanced data\\n Classifier: XGBoost')"
   ]
  },
  {
   "cell_type": "markdown",
   "metadata": {},
   "source": [
    "## Resampling\n",
    "- removing samples from the majority class (under-sampling)\n",
    "- adding more examples from the minority class (over-sampling) "
   ]
  },
  {
   "cell_type": "code",
   "execution_count": null,
   "metadata": {},
   "outputs": [],
   "source": [
    "# Class count\n",
    "count_class_0, count_class_1 = train.WnvPresent.value_counts()"
   ]
  },
  {
   "cell_type": "code",
   "execution_count": null,
   "metadata": {},
   "outputs": [],
   "source": [
    "# Divide by class\n",
    "df_class_0 = train[train['WnvPresent'] == 0]\n",
    "df_class_1 = train[train['WnvPresent'] == 1]"
   ]
  },
  {
   "cell_type": "code",
   "execution_count": null,
   "metadata": {},
   "outputs": [],
   "source": [
    "kf = KFold(n_splits=5, random_state=42, shuffle=False)"
   ]
  },
  {
   "cell_type": "code",
   "execution_count": null,
   "metadata": {},
   "outputs": [],
   "source": [
    "# Random Forest Classifier \n",
    "rf = RandomForestClassifier(n_estimators = 100,random_state=13, class_weight='balanced')\n",
    "rf.fit(X_train, y_train)\n",
    "cross_val_score(rf, X_train, y_train, cv=kf, scoring='recall')"
   ]
  },
  {
   "cell_type": "markdown",
   "metadata": {},
   "source": [
    "#### hyperparameter tuning:"
   ]
  },
  {
   "cell_type": "code",
   "execution_count": null,
   "metadata": {},
   "outputs": [],
   "source": [
    "#  n_estimators = number of trees in the foreset\n",
    "# max_depth = max number of levels in each decision tree\n",
    "params = {\n",
    "    'n_estimators': [50, 100, 200],\n",
    "    'max_depth': [2, 6, 10, 12],\n",
    "    'random_state': [13]\n",
    "}\n",
    "\n",
    "grid_no_up = GridSearchCV(rf, param_grid=params, cv=kf, \n",
    "                          scoring='recall').fit(X_train, y_train)"
   ]
  },
  {
   "cell_type": "code",
   "execution_count": null,
   "metadata": {},
   "outputs": [],
   "source": [
    "grid_no_up.best_params_"
   ]
  },
  {
   "cell_type": "code",
   "execution_count": null,
   "metadata": {},
   "outputs": [],
   "source": [
    "grid_no_up.cv_results_['mean_test_score']"
   ]
  },
  {
   "cell_type": "code",
   "execution_count": null,
   "metadata": {},
   "outputs": [],
   "source": [
    "recall_score(y_val, grid_no_up.predict(X_val))"
   ]
  },
  {
   "cell_type": "code",
   "execution_count": null,
   "metadata": {
    "scrolled": true
   },
   "outputs": [],
   "source": [
    "plot_confusion_matrix(rf, X_val,grid_no_up.predict(X_val), cmap='Blues', values_format='d')\n",
    "plt.title('RandomForest Model');"
   ]
  },
  {
   "cell_type": "markdown",
   "metadata": {},
   "source": [
    "-  we see that we have about 88% recall on one of our models before we have tried oversampling. \n",
    "-  To see the effect of oversampling,we can generalize based off cross-validation. We haven't oversampled yet. Test recall score - 84% and cross_val - 80%"
   ]
  },
  {
   "cell_type": "markdown",
   "metadata": {},
   "source": [
    "## OverSampling SMOTE"
   ]
  },
  {
   "cell_type": "code",
   "execution_count": null,
   "metadata": {},
   "outputs": [],
   "source": [
    "X_train_upsample, y_train_upsample = SMOTE(random_state=42).fit_sample(X_train, y_train)"
   ]
  },
  {
   "cell_type": "code",
   "execution_count": null,
   "metadata": {
    "scrolled": true
   },
   "outputs": [],
   "source": [
    "# Checking oversampling with right even split\n",
    "y_train_upsample.mean()"
   ]
  },
  {
   "cell_type": "code",
   "execution_count": null,
   "metadata": {},
   "outputs": [],
   "source": [
    "# Hyperparameter tuning\n",
    "params = {\n",
    "    'n_estimators': [50, 100, 200],\n",
    "    'max_depth': [2, 6, 10, 12],\n",
    "    'random_state': [13]\n",
    "}\n",
    "\n",
    "grid_naive_up = GridSearchCV(rf, param_grid=params, cv=kf, \n",
    "                             scoring='recall').fit(X_train_upsample, \n",
    "                                                   y_train_upsample)\n",
    "grid_naive_up.best_score_"
   ]
  },
  {
   "cell_type": "code",
   "execution_count": null,
   "metadata": {
    "scrolled": true
   },
   "outputs": [],
   "source": [
    "grid_naive_up.cv_results_['mean_test_score']"
   ]
  },
  {
   "cell_type": "code",
   "execution_count": null,
   "metadata": {},
   "outputs": [],
   "source": [
    "grid_naive_up.best_params_"
   ]
  },
  {
   "cell_type": "code",
   "execution_count": null,
   "metadata": {},
   "outputs": [],
   "source": [
    "recall_score(y_train, grid_naive_up.predict(X_train))"
   ]
  },
  {
   "cell_type": "code",
   "execution_count": null,
   "metadata": {},
   "outputs": [],
   "source": [
    "# Recall \n",
    "recall_score(y_val, grid_naive_up.predict(X_val))"
   ]
  },
  {
   "cell_type": "code",
   "execution_count": null,
   "metadata": {},
   "outputs": [],
   "source": [
    "## Recall score id 69% over test recall score of 88% which is not a good result."
   ]
  },
  {
   "cell_type": "markdown",
   "metadata": {},
   "source": [
    "####   SMOTING part of cross-validation - Instead, we should split into training and validation folds. Then, on each fold, we should\n",
    "\n",
    "- Oversample the minority class\n",
    "- Train the classifier on the training folds\n",
    "- Validate the classifier on the remaining fold"
   ]
  },
  {
   "cell_type": "code",
   "execution_count": null,
   "metadata": {},
   "outputs": [],
   "source": [
    "example_params = {\n",
    "        'n_estimators': 100,\n",
    "        'max_depth': 5,\n",
    "        'random_state': 13\n",
    "    }\n",
    "\n",
    "def score_model(model, params, cv=None):\n",
    "    if cv is None:\n",
    "        cv = KFold(n_splits=5, random_state=42)\n",
    "\n",
    "    smoter = SMOTE(random_state=42)\n",
    "    \n",
    "    scores = []\n",
    "\n",
    "    for train_fold_index, val_fold_index in cv.split(X_train, y_train):\n",
    "        X_train_fold, y_train_fold = X_train.iloc[train_fold_index], y_train[train_fold_index]\n",
    "        X_val_fold, y_val_fold = X_train.iloc[val_fold_index], y_train[val_fold_index]\n",
    "\n",
    "        X_train_fold_upsample, y_train_fold_upsample = smoter.fit_resample(X_train_fold,\n",
    "                                                                           y_train_fold)\n",
    "        model_obj = model(**params).fit(X_train_fold_upsample, y_train_fold_upsample)\n",
    "        score = recall_score(y_val_fold, model_obj.predict(X_val_fold))\n",
    "        scores.append(score)\n",
    "    return np.array(scores)"
   ]
  },
  {
   "cell_type": "code",
   "execution_count": null,
   "metadata": {
    "scrolled": false
   },
   "outputs": [],
   "source": [
    "score_model(RandomForestClassifier, example_params, cv=kf)"
   ]
  },
  {
   "cell_type": "code",
   "execution_count": null,
   "metadata": {},
   "outputs": [],
   "source": [
    "### Function not running - will need to figure out later "
   ]
  },
  {
   "cell_type": "markdown",
   "metadata": {},
   "source": [
    "## Using the imblearn pipeline"
   ]
  },
  {
   "cell_type": "code",
   "execution_count": null,
   "metadata": {
    "scrolled": true
   },
   "outputs": [],
   "source": [
    "imba_pipeline = make_pipeline(SMOTE(random_state=42), \n",
    "                              RandomForestClassifier(n_estimators=100, random_state=13))\n",
    "\n",
    "imba_pipeline"
   ]
  },
  {
   "cell_type": "code",
   "execution_count": null,
   "metadata": {},
   "outputs": [],
   "source": [
    "new_params = {'randomforestclassifier__' + key: params[key] for key in params}\n",
    "grid_imba = GridSearchCV(imba_pipeline, param_grid=new_params, cv=kf, scoring='recall',\n",
    "                        return_train_score=True)\n",
    "grid_imba.fit(X_train, y_train);"
   ]
  },
  {
   "cell_type": "code",
   "execution_count": null,
   "metadata": {
    "scrolled": true
   },
   "outputs": [],
   "source": [
    "grid_imba.best_params_"
   ]
  },
  {
   "cell_type": "code",
   "execution_count": null,
   "metadata": {},
   "outputs": [],
   "source": [
    "y_test_predict = grid_imba.best_estimator_.predict(X_val)"
   ]
  },
  {
   "cell_type": "code",
   "execution_count": null,
   "metadata": {},
   "outputs": [],
   "source": [
    "recall_score(y_val, y_test_predict)"
   ]
  },
  {
   "cell_type": "code",
   "execution_count": null,
   "metadata": {},
   "outputs": [],
   "source": [
    "y_test_predict = grid_imba.best_estimator_.named_steps['randomforestclassifier'].predict(X_val)"
   ]
  },
  {
   "cell_type": "code",
   "execution_count": null,
   "metadata": {
    "scrolled": true
   },
   "outputs": [],
   "source": [
    "recall_score(y_val, y_test_predict)"
   ]
  },
  {
   "cell_type": "code",
   "execution_count": null,
   "metadata": {},
   "outputs": [],
   "source": []
  },
  {
   "cell_type": "markdown",
   "metadata": {},
   "source": [
    "### Confusion Matrix"
   ]
  },
  {
   "cell_type": "code",
   "execution_count": null,
   "metadata": {
    "scrolled": true
   },
   "outputs": [],
   "source": [
    "print(\"Confusion Matrix:\")\n",
    "print(result)\n",
    "result1 = classification_report(y_val,grid_no_up.predict(X_val))\n",
    "print(\"Classification Report:\",)\n",
    "print (result1)\n",
    "result2 = recall_score(y_val,grid_no_up.predict(X_val))\n",
    "print(\"Recall:\",result2)"
   ]
  },
  {
   "cell_type": "code",
   "execution_count": null,
   "metadata": {},
   "outputs": [],
   "source": [
    "# Create adaboost classifer object\n",
    "# base_estimator: It is a weak learner used to train the model- DecisionTreeClassifier as default weak learner for training purpose. You can also specify different machine learning algorithms.\n",
    "# n_estimators: Number of weak learners to train iteratively.\n",
    "# learning_rate: It contributes to the weights of weak learners. It uses 1 as a default value\n",
    "abc = AdaBoostClassifier(n_estimators=80, learning_rate=1)\n",
    "# Train Adaboost Classifer\n",
    "abc = abc.fit(X_train, y_train)\n",
    "\n",
    "#Predict the response for test dataset\n",
    "y_pred = abc.predict(X_val)"
   ]
  },
  {
   "cell_type": "code",
   "execution_count": null,
   "metadata": {},
   "outputs": [],
   "source": [
    "plot_confusion_matrix(abc, X_val, y_val, cmap='Blues', values_format='d')\n",
    "plt.title('AdaBoost Model');"
   ]
  },
  {
   "cell_type": "code",
   "execution_count": null,
   "metadata": {},
   "outputs": [],
   "source": [
    "print(\"Confusion Matrix:\")\n",
    "print(result)\n",
    "result1 = classification_report(y_val, y_pred)\n",
    "print(\"Classification Report:\",)\n",
    "print (result1)\n",
    "result2 = accuracy_score(y_val,y_pred)\n",
    "print(\"Accuracy:\",result2)"
   ]
  },
  {
   "cell_type": "markdown",
   "metadata": {},
   "source": [
    "####  Pros\n",
    "AdaBoost is easy to implement. It iteratively corrects the mistakes of the weak classifier and improves accuracy by combining weak learners. You can use many base classifiers with AdaBoost. AdaBoost is not prone to overfitting.\n",
    "####  Cons\n",
    "AdaBoost is sensitive to noise data. It is highly affected by outliers because it tries to fit each point perfectly. AdaBoost is slower compared to XGBoost."
   ]
  },
  {
   "cell_type": "code",
   "execution_count": null,
   "metadata": {},
   "outputs": [],
   "source": []
  }
 ],
 "metadata": {
  "kernelspec": {
   "display_name": "Python 3",
   "language": "python",
   "name": "python3"
  },
  "language_info": {
   "codemirror_mode": {
    "name": "ipython",
    "version": 3
   },
   "file_extension": ".py",
   "mimetype": "text/x-python",
   "name": "python",
   "nbconvert_exporter": "python",
   "pygments_lexer": "ipython3",
   "version": "3.8.3"
  }
 },
 "nbformat": 4,
 "nbformat_minor": 4
}
