{
 "cells": [
  {
   "cell_type": "markdown",
   "metadata": {},
   "source": [
    "# DSI Project 4: West Nile Virus Prediction"
   ]
  },
  {
   "cell_type": "markdown",
   "metadata": {},
   "source": [
    "## Modelling"
   ]
  },
  {
   "cell_type": "code",
   "execution_count": 1,
   "metadata": {},
   "outputs": [],
   "source": [
    "# import libraries\n",
    "import pandas as pd\n",
    "import numpy as np\n",
    "import seaborn as sns\n",
    "import matplotlib.pyplot as plt\n",
    "import missingno as msno\n",
    "import plotly.express as px\n",
    "\n",
    "import xgboost as xgb\n",
    "from sklearn.datasets import make_classification\n",
    "from sklearn.linear_model import LogisticRegression\n",
    "from sklearn.preprocessing import StandardScaler \n",
    "from xgboost import XGBClassifier\n",
    "from sklearn.ensemble import RandomForestClassifier\n",
    "from sklearn.ensemble import AdaBoostClassifier\n",
    "from sklearn import preprocessing, ensemble, metrics, feature_selection, model_selection, decomposition\n",
    "from sklearn.model_selection import train_test_split, cross_val_score, GridSearchCV, KFold\n",
    "from sklearn.metrics import confusion_matrix, plot_confusion_matrix, accuracy_score, precision_score, plot_roc_curve,classification_report\n",
    "from sklearn.pipeline import Pipeline\n",
    "from imblearn.pipeline import make_pipeline\n",
    "from imblearn.over_sampling import SMOTE\n",
    "from sklearn.metrics import recall_score, roc_auc_score\n",
    "# Generate and plot a synthetic imbalanced classification dataset\n",
    "from collections import Counter\n",
    "from sklearn.datasets import make_classification\n",
    "from matplotlib import pyplot\n",
    "from numpy import where\n",
    "\n",
    "from math import radians, degrees, sin, cos, asin, acos, sqrt\n",
    "\n",
    "pd.set_option('max_columns', None)\n",
    "pd.set_option('max_rows', None)\n",
    "\n",
    "plt.style.use('seaborn-muted')\n",
    "sns.set_style(style='white')\n",
    "\n",
    "%matplotlib inline\n",
    "import warnings\n",
    "warnings.filterwarnings('ignore')"
   ]
  },
  {
   "cell_type": "code",
   "execution_count": 2,
   "metadata": {},
   "outputs": [],
   "source": [
    "# load datasets \n",
    "train = pd.read_csv('./data/train_cleaned.csv', parse_dates=['Date'])\n",
    "test = pd.read_csv('./data/test_cleaned_f1.csv', parse_dates=['Date'])\n"
   ]
  },
  {
   "cell_type": "code",
   "execution_count": 3,
   "metadata": {},
   "outputs": [],
   "source": [
    "# define a function for intial exploration of dataset\n",
    "\n",
    "def data_exploration(df_name, df):\n",
    "    \"\"\"\n",
    "    function to perform initial data exploration to check for \n",
    "    dataframe shape, datatype, null values and duplicates\n",
    "    \n",
    "    \"\"\"\n",
    "    print(f\"DATASET: {df_name}\")\n",
    "    print(\"-------------------------------------\")\n",
    "    print(\"First 3 rows of dataset:\")\n",
    "    display(df.head(3))\n",
    "    print(\"\\n\")\n",
    "    # check shape of dataframe\n",
    "    print(f\"Shape of dataset: {df.shape}\")\n",
    "    print(\"\\n\")\n",
    "    # check datatypes\n",
    "    print(\"Columns & data types: \")\n",
    "    df.info()\n",
    "    print(\"\\n\")\n",
    "    # check for null values\n",
    "    print(\"Null values: \")\n",
    "    if df.isnull().sum().sum() == 0:\n",
    "        print(\"No null value\")\n",
    "    else:\n",
    "        for col in df:\n",
    "            print(f\"{col}: {df[col].isnull().sum()}\")\n",
    "    print(\"\\n\")\n",
    "    # check for duplicates\n",
    "    if df.duplicated(subset=None, keep='first').any() == False:\n",
    "        print(\"No duplicated row\")\n",
    "    else:\n",
    "        duplicates = df[df.duplicated(subset=None, keep='first')]\n",
    "        print(f\"{len(duplicates)} duplicated rows in dataset.\")"
   ]
  },
  {
   "cell_type": "code",
   "execution_count": 4,
   "metadata": {},
   "outputs": [],
   "source": [
    "# create function to plot confusion matrix\n",
    "\n",
    "def plt_confusion(df, mod_name, model, X_train, X_val, title):\n",
    "    plot_confusion_matrix(model, X_val, y_val, cmap='Blues', values_format='d')\n",
    "    plt.title(f'Confusion Matrix: {title}',fontsize=16,color='royalblue')\n",
    "    # plt.savefig(f'images/confusion_matrix: {title}');"
   ]
  },
  {
   "cell_type": "markdown",
   "metadata": {},
   "source": [
    "### Test Data Set \n",
    "- This is the new train data set that is cleaned and merged with selected features from weather dataset post feature-engineering.\n",
    "- Test data does not have target variable `'WnvPresent'` for prediction, as well as the related column `'NumMosquitos'`\n",
    "- The column `'Id'` will be used for submission together with the predictions of the target variable `'WnvPresent'`"
   ]
  },
  {
   "cell_type": "code",
   "execution_count": 5,
   "metadata": {
    "scrolled": true
   },
   "outputs": [
    {
     "name": "stdout",
     "output_type": "stream",
     "text": [
      "DATASET: Main dataset - Test\n",
      "-------------------------------------\n",
      "First 3 rows of dataset:\n"
     ]
    },
    {
     "data": {
      "text/html": [
       "<div>\n",
       "<style scoped>\n",
       "    .dataframe tbody tr th:only-of-type {\n",
       "        vertical-align: middle;\n",
       "    }\n",
       "\n",
       "    .dataframe tbody tr th {\n",
       "        vertical-align: top;\n",
       "    }\n",
       "\n",
       "    .dataframe thead th {\n",
       "        text-align: right;\n",
       "    }\n",
       "</style>\n",
       "<table border=\"1\" class=\"dataframe\">\n",
       "  <thead>\n",
       "    <tr style=\"text-align: right;\">\n",
       "      <th></th>\n",
       "      <th>Id</th>\n",
       "      <th>Date</th>\n",
       "      <th>Trap</th>\n",
       "      <th>Latitude</th>\n",
       "      <th>Longitude</th>\n",
       "      <th>Month</th>\n",
       "      <th>Year</th>\n",
       "      <th>C_Pipiens</th>\n",
       "      <th>C_Pipiens/Restuans</th>\n",
       "      <th>C_Restuans</th>\n",
       "      <th>C_Salinarius</th>\n",
       "      <th>C_Tarsalis</th>\n",
       "      <th>C_Territans</th>\n",
       "      <th>Station</th>\n",
       "      <th>Tavg</th>\n",
       "      <th>PrecipTotal</th>\n",
       "      <th>StnPressure</th>\n",
       "      <th>AvgSpeed</th>\n",
       "      <th>Tavg_rolling4_shift7</th>\n",
       "      <th>PrecipTotal_rolling4_shift7</th>\n",
       "      <th>StnPressure_rolling4_shift7</th>\n",
       "      <th>AvgSpeed_rolling4_shift7</th>\n",
       "      <th>Opt_temp</th>\n",
       "    </tr>\n",
       "  </thead>\n",
       "  <tbody>\n",
       "    <tr>\n",
       "      <th>0</th>\n",
       "      <td>1</td>\n",
       "      <td>2008-06-11</td>\n",
       "      <td>T002</td>\n",
       "      <td>41.95469</td>\n",
       "      <td>-87.800991</td>\n",
       "      <td>6</td>\n",
       "      <td>2008</td>\n",
       "      <td>0</td>\n",
       "      <td>1</td>\n",
       "      <td>0</td>\n",
       "      <td>0</td>\n",
       "      <td>0</td>\n",
       "      <td>0</td>\n",
       "      <td>1.0</td>\n",
       "      <td>74.0</td>\n",
       "      <td>0.0</td>\n",
       "      <td>29.28</td>\n",
       "      <td>10.0</td>\n",
       "      <td>65.75</td>\n",
       "      <td>0.1325</td>\n",
       "      <td>29.065</td>\n",
       "      <td>6.15</td>\n",
       "      <td>1.0</td>\n",
       "    </tr>\n",
       "    <tr>\n",
       "      <th>1</th>\n",
       "      <td>2</td>\n",
       "      <td>2008-06-11</td>\n",
       "      <td>T002</td>\n",
       "      <td>41.95469</td>\n",
       "      <td>-87.800991</td>\n",
       "      <td>6</td>\n",
       "      <td>2008</td>\n",
       "      <td>0</td>\n",
       "      <td>0</td>\n",
       "      <td>1</td>\n",
       "      <td>0</td>\n",
       "      <td>0</td>\n",
       "      <td>0</td>\n",
       "      <td>1.0</td>\n",
       "      <td>74.0</td>\n",
       "      <td>0.0</td>\n",
       "      <td>29.28</td>\n",
       "      <td>10.0</td>\n",
       "      <td>65.75</td>\n",
       "      <td>0.1325</td>\n",
       "      <td>29.065</td>\n",
       "      <td>6.15</td>\n",
       "      <td>1.0</td>\n",
       "    </tr>\n",
       "    <tr>\n",
       "      <th>2</th>\n",
       "      <td>3</td>\n",
       "      <td>2008-06-11</td>\n",
       "      <td>T002</td>\n",
       "      <td>41.95469</td>\n",
       "      <td>-87.800991</td>\n",
       "      <td>6</td>\n",
       "      <td>2008</td>\n",
       "      <td>1</td>\n",
       "      <td>0</td>\n",
       "      <td>0</td>\n",
       "      <td>0</td>\n",
       "      <td>0</td>\n",
       "      <td>0</td>\n",
       "      <td>1.0</td>\n",
       "      <td>74.0</td>\n",
       "      <td>0.0</td>\n",
       "      <td>29.28</td>\n",
       "      <td>10.0</td>\n",
       "      <td>65.75</td>\n",
       "      <td>0.1325</td>\n",
       "      <td>29.065</td>\n",
       "      <td>6.15</td>\n",
       "      <td>1.0</td>\n",
       "    </tr>\n",
       "  </tbody>\n",
       "</table>\n",
       "</div>"
      ],
      "text/plain": [
       "   Id       Date  Trap  Latitude  Longitude  Month  Year  C_Pipiens  \\\n",
       "0   1 2008-06-11  T002  41.95469 -87.800991      6  2008          0   \n",
       "1   2 2008-06-11  T002  41.95469 -87.800991      6  2008          0   \n",
       "2   3 2008-06-11  T002  41.95469 -87.800991      6  2008          1   \n",
       "\n",
       "   C_Pipiens/Restuans  C_Restuans  C_Salinarius  C_Tarsalis  C_Territans  \\\n",
       "0                   1           0             0           0            0   \n",
       "1                   0           1             0           0            0   \n",
       "2                   0           0             0           0            0   \n",
       "\n",
       "   Station  Tavg  PrecipTotal  StnPressure  AvgSpeed  Tavg_rolling4_shift7  \\\n",
       "0      1.0  74.0          0.0        29.28      10.0                 65.75   \n",
       "1      1.0  74.0          0.0        29.28      10.0                 65.75   \n",
       "2      1.0  74.0          0.0        29.28      10.0                 65.75   \n",
       "\n",
       "   PrecipTotal_rolling4_shift7  StnPressure_rolling4_shift7  \\\n",
       "0                       0.1325                       29.065   \n",
       "1                       0.1325                       29.065   \n",
       "2                       0.1325                       29.065   \n",
       "\n",
       "   AvgSpeed_rolling4_shift7  Opt_temp  \n",
       "0                      6.15       1.0  \n",
       "1                      6.15       1.0  \n",
       "2                      6.15       1.0  "
      ]
     },
     "metadata": {},
     "output_type": "display_data"
    },
    {
     "name": "stdout",
     "output_type": "stream",
     "text": [
      "\n",
      "\n",
      "Shape of dataset: (116293, 23)\n",
      "\n",
      "\n",
      "Columns & data types: \n",
      "<class 'pandas.core.frame.DataFrame'>\n",
      "RangeIndex: 116293 entries, 0 to 116292\n",
      "Data columns (total 23 columns):\n",
      " #   Column                       Non-Null Count   Dtype         \n",
      "---  ------                       --------------   -----         \n",
      " 0   Id                           116293 non-null  int64         \n",
      " 1   Date                         116293 non-null  datetime64[ns]\n",
      " 2   Trap                         116293 non-null  object        \n",
      " 3   Latitude                     116293 non-null  float64       \n",
      " 4   Longitude                    116293 non-null  float64       \n",
      " 5   Month                        116293 non-null  int64         \n",
      " 6   Year                         116293 non-null  int64         \n",
      " 7   C_Pipiens                    116293 non-null  int64         \n",
      " 8   C_Pipiens/Restuans           116293 non-null  int64         \n",
      " 9   C_Restuans                   116293 non-null  int64         \n",
      " 10  C_Salinarius                 116293 non-null  int64         \n",
      " 11  C_Tarsalis                   116293 non-null  int64         \n",
      " 12  C_Territans                  116293 non-null  int64         \n",
      " 13  Station                      116293 non-null  float64       \n",
      " 14  Tavg                         116293 non-null  float64       \n",
      " 15  PrecipTotal                  116293 non-null  float64       \n",
      " 16  StnPressure                  116293 non-null  float64       \n",
      " 17  AvgSpeed                     116293 non-null  float64       \n",
      " 18  Tavg_rolling4_shift7         116293 non-null  float64       \n",
      " 19  PrecipTotal_rolling4_shift7  116293 non-null  float64       \n",
      " 20  StnPressure_rolling4_shift7  116293 non-null  float64       \n",
      " 21  AvgSpeed_rolling4_shift7     116293 non-null  float64       \n",
      " 22  Opt_temp                     116293 non-null  float64       \n",
      "dtypes: datetime64[ns](1), float64(12), int64(9), object(1)\n",
      "memory usage: 20.4+ MB\n",
      "\n",
      "\n",
      "Null values: \n",
      "No null value\n",
      "\n",
      "\n",
      "No duplicated row\n"
     ]
    }
   ],
   "source": [
    "data_exploration('Main dataset - Test', test)"
   ]
  },
  {
   "cell_type": "markdown",
   "metadata": {},
   "source": [
    "### Train Data Set \n",
    "- This is the new train data set that is cleaned and merged with selected features from weather dataset post feature-engineering.\n",
    "- This file contains the columns `'NumMosquitos'` and `'WnvPresent'` to train the model for predictions, and do not have the column `'Id'` in test dataset that will be used for submitting predictions."
   ]
  },
  {
   "cell_type": "code",
   "execution_count": 6,
   "metadata": {
    "scrolled": true
   },
   "outputs": [
    {
     "name": "stdout",
     "output_type": "stream",
     "text": [
      "DATASET: Main dataset - Train\n",
      "-------------------------------------\n",
      "First 3 rows of dataset:\n"
     ]
    },
    {
     "data": {
      "text/html": [
       "<div>\n",
       "<style scoped>\n",
       "    .dataframe tbody tr th:only-of-type {\n",
       "        vertical-align: middle;\n",
       "    }\n",
       "\n",
       "    .dataframe tbody tr th {\n",
       "        vertical-align: top;\n",
       "    }\n",
       "\n",
       "    .dataframe thead th {\n",
       "        text-align: right;\n",
       "    }\n",
       "</style>\n",
       "<table border=\"1\" class=\"dataframe\">\n",
       "  <thead>\n",
       "    <tr style=\"text-align: right;\">\n",
       "      <th></th>\n",
       "      <th>Date</th>\n",
       "      <th>Species</th>\n",
       "      <th>Trap</th>\n",
       "      <th>Latitude</th>\n",
       "      <th>Longitude</th>\n",
       "      <th>NumMosquitos</th>\n",
       "      <th>WnvPresent</th>\n",
       "      <th>Month</th>\n",
       "      <th>Year</th>\n",
       "      <th>Station</th>\n",
       "      <th>Tavg</th>\n",
       "      <th>PrecipTotal</th>\n",
       "      <th>StnPressure</th>\n",
       "      <th>AvgSpeed</th>\n",
       "      <th>Tavg_rolling4_shift7</th>\n",
       "      <th>PrecipTotal_rolling4_shift7</th>\n",
       "      <th>StnPressure_rolling4_shift7</th>\n",
       "      <th>AvgSpeed_rolling4_shift7</th>\n",
       "      <th>Opt_temp</th>\n",
       "    </tr>\n",
       "  </thead>\n",
       "  <tbody>\n",
       "    <tr>\n",
       "      <th>0</th>\n",
       "      <td>2007-05-29</td>\n",
       "      <td>CULEX PIPIENS</td>\n",
       "      <td>T096</td>\n",
       "      <td>41.731922</td>\n",
       "      <td>-87.677512</td>\n",
       "      <td>1</td>\n",
       "      <td>0</td>\n",
       "      <td>5</td>\n",
       "      <td>2007</td>\n",
       "      <td>2.0</td>\n",
       "      <td>77.0</td>\n",
       "      <td>0.0</td>\n",
       "      <td>29.44</td>\n",
       "      <td>7.4</td>\n",
       "      <td>65.5</td>\n",
       "      <td>0.0275</td>\n",
       "      <td>29.4125</td>\n",
       "      <td>9.875</td>\n",
       "      <td>1.0</td>\n",
       "    </tr>\n",
       "    <tr>\n",
       "      <th>1</th>\n",
       "      <td>2007-05-29</td>\n",
       "      <td>CULEX PIPIENS/RESTUANS</td>\n",
       "      <td>T048</td>\n",
       "      <td>41.867108</td>\n",
       "      <td>-87.654224</td>\n",
       "      <td>1</td>\n",
       "      <td>0</td>\n",
       "      <td>5</td>\n",
       "      <td>2007</td>\n",
       "      <td>2.0</td>\n",
       "      <td>77.0</td>\n",
       "      <td>0.0</td>\n",
       "      <td>29.44</td>\n",
       "      <td>7.4</td>\n",
       "      <td>65.5</td>\n",
       "      <td>0.0275</td>\n",
       "      <td>29.4125</td>\n",
       "      <td>9.875</td>\n",
       "      <td>1.0</td>\n",
       "    </tr>\n",
       "    <tr>\n",
       "      <th>2</th>\n",
       "      <td>2007-05-29</td>\n",
       "      <td>CULEX PIPIENS/RESTUANS</td>\n",
       "      <td>T050</td>\n",
       "      <td>41.919343</td>\n",
       "      <td>-87.694259</td>\n",
       "      <td>1</td>\n",
       "      <td>0</td>\n",
       "      <td>5</td>\n",
       "      <td>2007</td>\n",
       "      <td>2.0</td>\n",
       "      <td>77.0</td>\n",
       "      <td>0.0</td>\n",
       "      <td>29.44</td>\n",
       "      <td>7.4</td>\n",
       "      <td>65.5</td>\n",
       "      <td>0.0275</td>\n",
       "      <td>29.4125</td>\n",
       "      <td>9.875</td>\n",
       "      <td>1.0</td>\n",
       "    </tr>\n",
       "  </tbody>\n",
       "</table>\n",
       "</div>"
      ],
      "text/plain": [
       "        Date                 Species  Trap   Latitude  Longitude  \\\n",
       "0 2007-05-29           CULEX PIPIENS  T096  41.731922 -87.677512   \n",
       "1 2007-05-29  CULEX PIPIENS/RESTUANS  T048  41.867108 -87.654224   \n",
       "2 2007-05-29  CULEX PIPIENS/RESTUANS  T050  41.919343 -87.694259   \n",
       "\n",
       "   NumMosquitos  WnvPresent  Month  Year  Station  Tavg  PrecipTotal  \\\n",
       "0             1           0      5  2007      2.0  77.0          0.0   \n",
       "1             1           0      5  2007      2.0  77.0          0.0   \n",
       "2             1           0      5  2007      2.0  77.0          0.0   \n",
       "\n",
       "   StnPressure  AvgSpeed  Tavg_rolling4_shift7  PrecipTotal_rolling4_shift7  \\\n",
       "0        29.44       7.4                  65.5                       0.0275   \n",
       "1        29.44       7.4                  65.5                       0.0275   \n",
       "2        29.44       7.4                  65.5                       0.0275   \n",
       "\n",
       "   StnPressure_rolling4_shift7  AvgSpeed_rolling4_shift7  Opt_temp  \n",
       "0                      29.4125                     9.875       1.0  \n",
       "1                      29.4125                     9.875       1.0  \n",
       "2                      29.4125                     9.875       1.0  "
      ]
     },
     "metadata": {},
     "output_type": "display_data"
    },
    {
     "name": "stdout",
     "output_type": "stream",
     "text": [
      "\n",
      "\n",
      "Shape of dataset: (8475, 19)\n",
      "\n",
      "\n",
      "Columns & data types: \n",
      "<class 'pandas.core.frame.DataFrame'>\n",
      "RangeIndex: 8475 entries, 0 to 8474\n",
      "Data columns (total 19 columns):\n",
      " #   Column                       Non-Null Count  Dtype         \n",
      "---  ------                       --------------  -----         \n",
      " 0   Date                         8475 non-null   datetime64[ns]\n",
      " 1   Species                      8475 non-null   object        \n",
      " 2   Trap                         8475 non-null   object        \n",
      " 3   Latitude                     8475 non-null   float64       \n",
      " 4   Longitude                    8475 non-null   float64       \n",
      " 5   NumMosquitos                 8475 non-null   int64         \n",
      " 6   WnvPresent                   8475 non-null   int64         \n",
      " 7   Month                        8475 non-null   int64         \n",
      " 8   Year                         8475 non-null   int64         \n",
      " 9   Station                      8475 non-null   float64       \n",
      " 10  Tavg                         8475 non-null   float64       \n",
      " 11  PrecipTotal                  8475 non-null   float64       \n",
      " 12  StnPressure                  8475 non-null   float64       \n",
      " 13  AvgSpeed                     8475 non-null   float64       \n",
      " 14  Tavg_rolling4_shift7         8475 non-null   float64       \n",
      " 15  PrecipTotal_rolling4_shift7  8475 non-null   float64       \n",
      " 16  StnPressure_rolling4_shift7  8475 non-null   float64       \n",
      " 17  AvgSpeed_rolling4_shift7     8475 non-null   float64       \n",
      " 18  Opt_temp                     8475 non-null   float64       \n",
      "dtypes: datetime64[ns](1), float64(12), int64(4), object(2)\n",
      "memory usage: 1.2+ MB\n",
      "\n",
      "\n",
      "Null values: \n",
      "No null value\n",
      "\n",
      "\n",
      "No duplicated row\n"
     ]
    }
   ],
   "source": [
    "data_exploration('Main dataset - Train', train)"
   ]
  },
  {
   "cell_type": "markdown",
   "metadata": {},
   "source": [
    "### Recap Problem Statement / Modelling Objective:\n",
    "\n",
    "- We are tasked to develop a strategy to deploy the effective use of pesticides, by targeting spraying of pesticides to areas of high risk will help to mitigate future outbreaks.\n",
    "\n",
    "\n",
    "- Modelling:  **Binary Classification Model** to predict the presence of the West Nile Virus in the city of Chicago, leveraging on weather, location, mosquito population and spraying data.\n",
    "\n",
    "\n",
    "- The model that achieves the highest ROC AUC score on the validation data set, will be selected as our production model.\n",
    "\n",
    "\n",
    "- To mitigate the risk of future outbreaks, we want to be as accurate as possible at predicting the presence of West Nile Virus (`class 1`).  Hence, we will focus more on the **Sensitivity Score** (True Positives / (True Positive + False Negative)).  There is a higher risk of outbreaks if the model predicts an absence where the virus is present (False Negative), whereas it is just overcaution if the model wrongly predicts a presence of the virus (False Positive).\n",
    "\n",
    "\n",
    "- From the EDA:  Our target variable `'WnvPresent'` is highly imbalanced.\n",
    "  - Positive class of only 5.4%.\n",
    "  - <span style = 'color:blue'>**Baseline accuracy is 94.6077%**</span>, which is the percentage of the majority class (`class 0` : West Nile Virus not Present)\n"
   ]
  },
  {
   "cell_type": "code",
   "execution_count": 7,
   "metadata": {},
   "outputs": [
    {
     "data": {
      "text/plain": [
       "0    0.946077\n",
       "1    0.053923\n",
       "Name: WnvPresent, dtype: float64"
      ]
     },
     "execution_count": 7,
     "metadata": {},
     "output_type": "execute_result"
    }
   ],
   "source": [
    "train.WnvPresent.value_counts(normalize=True)"
   ]
  },
  {
   "cell_type": "code",
   "execution_count": 8,
   "metadata": {},
   "outputs": [
    {
     "data": {
      "image/png": "[encoded data removed]",
      "text/plain": [
       "<Figure size 576x288 with 1 Axes>"
      ]
     },
     "metadata": {
      "needs_background": "light"
     },
     "output_type": "display_data"
    }
   ],
   "source": [
    "train['WnvPresent'].value_counts().plot(kind='bar', color='cornflowerblue', figsize=(8, 4))\n",
    "plt.title('WnvPresent - Frequency', fontsize = 14, y=1.01)\n",
    "plt.xticks(rotation=0);"
   ]
  },
  {
   "cell_type": "code",
   "execution_count": 9,
   "metadata": {
    "scrolled": false
   },
   "outputs": [
    {
     "data": {
      "text/html": [
       "<div>\n",
       "<style scoped>\n",
       "    .dataframe tbody tr th:only-of-type {\n",
       "        vertical-align: middle;\n",
       "    }\n",
       "\n",
       "    .dataframe tbody tr th {\n",
       "        vertical-align: top;\n",
       "    }\n",
       "\n",
       "    .dataframe thead th {\n",
       "        text-align: right;\n",
       "    }\n",
       "</style>\n",
       "<table border=\"1\" class=\"dataframe\">\n",
       "  <thead>\n",
       "    <tr style=\"text-align: right;\">\n",
       "      <th></th>\n",
       "      <th>Date</th>\n",
       "      <th>Species</th>\n",
       "      <th>Trap</th>\n",
       "      <th>Latitude</th>\n",
       "      <th>Longitude</th>\n",
       "      <th>NumMosquitos</th>\n",
       "      <th>WnvPresent</th>\n",
       "      <th>Month</th>\n",
       "      <th>Year</th>\n",
       "      <th>Station</th>\n",
       "      <th>Tavg</th>\n",
       "      <th>PrecipTotal</th>\n",
       "      <th>StnPressure</th>\n",
       "      <th>AvgSpeed</th>\n",
       "      <th>Tavg_rolling4_shift7</th>\n",
       "      <th>PrecipTotal_rolling4_shift7</th>\n",
       "      <th>StnPressure_rolling4_shift7</th>\n",
       "      <th>AvgSpeed_rolling4_shift7</th>\n",
       "      <th>Opt_temp</th>\n",
       "    </tr>\n",
       "  </thead>\n",
       "  <tbody>\n",
       "    <tr>\n",
       "      <th>0</th>\n",
       "      <td>2007-05-29</td>\n",
       "      <td>CULEX PIPIENS</td>\n",
       "      <td>T096</td>\n",
       "      <td>41.731922</td>\n",
       "      <td>-87.677512</td>\n",
       "      <td>1</td>\n",
       "      <td>0</td>\n",
       "      <td>5</td>\n",
       "      <td>2007</td>\n",
       "      <td>2.0</td>\n",
       "      <td>77.0</td>\n",
       "      <td>0.0</td>\n",
       "      <td>29.44</td>\n",
       "      <td>7.4</td>\n",
       "      <td>65.5</td>\n",
       "      <td>0.0275</td>\n",
       "      <td>29.4125</td>\n",
       "      <td>9.875</td>\n",
       "      <td>1.0</td>\n",
       "    </tr>\n",
       "    <tr>\n",
       "      <th>1</th>\n",
       "      <td>2007-05-29</td>\n",
       "      <td>CULEX PIPIENS/RESTUANS</td>\n",
       "      <td>T048</td>\n",
       "      <td>41.867108</td>\n",
       "      <td>-87.654224</td>\n",
       "      <td>1</td>\n",
       "      <td>0</td>\n",
       "      <td>5</td>\n",
       "      <td>2007</td>\n",
       "      <td>2.0</td>\n",
       "      <td>77.0</td>\n",
       "      <td>0.0</td>\n",
       "      <td>29.44</td>\n",
       "      <td>7.4</td>\n",
       "      <td>65.5</td>\n",
       "      <td>0.0275</td>\n",
       "      <td>29.4125</td>\n",
       "      <td>9.875</td>\n",
       "      <td>1.0</td>\n",
       "    </tr>\n",
       "    <tr>\n",
       "      <th>2</th>\n",
       "      <td>2007-05-29</td>\n",
       "      <td>CULEX PIPIENS/RESTUANS</td>\n",
       "      <td>T050</td>\n",
       "      <td>41.919343</td>\n",
       "      <td>-87.694259</td>\n",
       "      <td>1</td>\n",
       "      <td>0</td>\n",
       "      <td>5</td>\n",
       "      <td>2007</td>\n",
       "      <td>2.0</td>\n",
       "      <td>77.0</td>\n",
       "      <td>0.0</td>\n",
       "      <td>29.44</td>\n",
       "      <td>7.4</td>\n",
       "      <td>65.5</td>\n",
       "      <td>0.0275</td>\n",
       "      <td>29.4125</td>\n",
       "      <td>9.875</td>\n",
       "      <td>1.0</td>\n",
       "    </tr>\n",
       "    <tr>\n",
       "      <th>3</th>\n",
       "      <td>2007-05-29</td>\n",
       "      <td>CULEX PIPIENS/RESTUANS</td>\n",
       "      <td>T054</td>\n",
       "      <td>41.921965</td>\n",
       "      <td>-87.632085</td>\n",
       "      <td>2</td>\n",
       "      <td>0</td>\n",
       "      <td>5</td>\n",
       "      <td>2007</td>\n",
       "      <td>2.0</td>\n",
       "      <td>77.0</td>\n",
       "      <td>0.0</td>\n",
       "      <td>29.44</td>\n",
       "      <td>7.4</td>\n",
       "      <td>65.5</td>\n",
       "      <td>0.0275</td>\n",
       "      <td>29.4125</td>\n",
       "      <td>9.875</td>\n",
       "      <td>1.0</td>\n",
       "    </tr>\n",
       "    <tr>\n",
       "      <th>4</th>\n",
       "      <td>2007-05-29</td>\n",
       "      <td>CULEX PIPIENS/RESTUANS</td>\n",
       "      <td>T086</td>\n",
       "      <td>41.688324</td>\n",
       "      <td>-87.676709</td>\n",
       "      <td>1</td>\n",
       "      <td>0</td>\n",
       "      <td>5</td>\n",
       "      <td>2007</td>\n",
       "      <td>2.0</td>\n",
       "      <td>77.0</td>\n",
       "      <td>0.0</td>\n",
       "      <td>29.44</td>\n",
       "      <td>7.4</td>\n",
       "      <td>65.5</td>\n",
       "      <td>0.0275</td>\n",
       "      <td>29.4125</td>\n",
       "      <td>9.875</td>\n",
       "      <td>1.0</td>\n",
       "    </tr>\n",
       "  </tbody>\n",
       "</table>\n",
       "</div>"
      ],
      "text/plain": [
       "        Date                 Species  Trap   Latitude  Longitude  \\\n",
       "0 2007-05-29           CULEX PIPIENS  T096  41.731922 -87.677512   \n",
       "1 2007-05-29  CULEX PIPIENS/RESTUANS  T048  41.867108 -87.654224   \n",
       "2 2007-05-29  CULEX PIPIENS/RESTUANS  T050  41.919343 -87.694259   \n",
       "3 2007-05-29  CULEX PIPIENS/RESTUANS  T054  41.921965 -87.632085   \n",
       "4 2007-05-29  CULEX PIPIENS/RESTUANS  T086  41.688324 -87.676709   \n",
       "\n",
       "   NumMosquitos  WnvPresent  Month  Year  Station  Tavg  PrecipTotal  \\\n",
       "0             1           0      5  2007      2.0  77.0          0.0   \n",
       "1             1           0      5  2007      2.0  77.0          0.0   \n",
       "2             1           0      5  2007      2.0  77.0          0.0   \n",
       "3             2           0      5  2007      2.0  77.0          0.0   \n",
       "4             1           0      5  2007      2.0  77.0          0.0   \n",
       "\n",
       "   StnPressure  AvgSpeed  Tavg_rolling4_shift7  PrecipTotal_rolling4_shift7  \\\n",
       "0        29.44       7.4                  65.5                       0.0275   \n",
       "1        29.44       7.4                  65.5                       0.0275   \n",
       "2        29.44       7.4                  65.5                       0.0275   \n",
       "3        29.44       7.4                  65.5                       0.0275   \n",
       "4        29.44       7.4                  65.5                       0.0275   \n",
       "\n",
       "   StnPressure_rolling4_shift7  AvgSpeed_rolling4_shift7  Opt_temp  \n",
       "0                      29.4125                     9.875       1.0  \n",
       "1                      29.4125                     9.875       1.0  \n",
       "2                      29.4125                     9.875       1.0  \n",
       "3                      29.4125                     9.875       1.0  \n",
       "4                      29.4125                     9.875       1.0  "
      ]
     },
     "execution_count": 9,
     "metadata": {},
     "output_type": "execute_result"
    }
   ],
   "source": [
    "train.head()"
   ]
  },
  {
   "cell_type": "raw",
   "metadata": {},
   "source": [
    "# Its better to drop Trap as there is many traps with low value count"
   ]
  },
  {
   "cell_type": "code",
   "execution_count": 10,
   "metadata": {},
   "outputs": [],
   "source": [
    "# One HOT ENCODING for Species \n",
    "train = pd.get_dummies(train, columns=['Species'], drop_first =True)"
   ]
  },
  {
   "cell_type": "code",
   "execution_count": 11,
   "metadata": {
    "scrolled": true
   },
   "outputs": [
    {
     "data": {
      "text/html": [
       "<div>\n",
       "<style scoped>\n",
       "    .dataframe tbody tr th:only-of-type {\n",
       "        vertical-align: middle;\n",
       "    }\n",
       "\n",
       "    .dataframe tbody tr th {\n",
       "        vertical-align: top;\n",
       "    }\n",
       "\n",
       "    .dataframe thead th {\n",
       "        text-align: right;\n",
       "    }\n",
       "</style>\n",
       "<table border=\"1\" class=\"dataframe\">\n",
       "  <thead>\n",
       "    <tr style=\"text-align: right;\">\n",
       "      <th></th>\n",
       "      <th>Date</th>\n",
       "      <th>Trap</th>\n",
       "      <th>Latitude</th>\n",
       "      <th>Longitude</th>\n",
       "      <th>NumMosquitos</th>\n",
       "      <th>WnvPresent</th>\n",
       "      <th>Month</th>\n",
       "      <th>Year</th>\n",
       "      <th>Station</th>\n",
       "      <th>Tavg</th>\n",
       "      <th>PrecipTotal</th>\n",
       "      <th>StnPressure</th>\n",
       "      <th>AvgSpeed</th>\n",
       "      <th>Tavg_rolling4_shift7</th>\n",
       "      <th>PrecipTotal_rolling4_shift7</th>\n",
       "      <th>StnPressure_rolling4_shift7</th>\n",
       "      <th>AvgSpeed_rolling4_shift7</th>\n",
       "      <th>Opt_temp</th>\n",
       "      <th>Species_CULEX PIPIENS</th>\n",
       "      <th>Species_CULEX PIPIENS/RESTUANS</th>\n",
       "      <th>Species_CULEX RESTUANS</th>\n",
       "      <th>Species_CULEX SALINARIUS</th>\n",
       "      <th>Species_CULEX TARSALIS</th>\n",
       "      <th>Species_CULEX TERRITANS</th>\n",
       "    </tr>\n",
       "  </thead>\n",
       "  <tbody>\n",
       "    <tr>\n",
       "      <th>0</th>\n",
       "      <td>2007-05-29</td>\n",
       "      <td>T096</td>\n",
       "      <td>41.731922</td>\n",
       "      <td>-87.677512</td>\n",
       "      <td>1</td>\n",
       "      <td>0</td>\n",
       "      <td>5</td>\n",
       "      <td>2007</td>\n",
       "      <td>2.0</td>\n",
       "      <td>77.0</td>\n",
       "      <td>0.0</td>\n",
       "      <td>29.44</td>\n",
       "      <td>7.4</td>\n",
       "      <td>65.5</td>\n",
       "      <td>0.0275</td>\n",
       "      <td>29.4125</td>\n",
       "      <td>9.875</td>\n",
       "      <td>1.0</td>\n",
       "      <td>1</td>\n",
       "      <td>0</td>\n",
       "      <td>0</td>\n",
       "      <td>0</td>\n",
       "      <td>0</td>\n",
       "      <td>0</td>\n",
       "    </tr>\n",
       "    <tr>\n",
       "      <th>1</th>\n",
       "      <td>2007-05-29</td>\n",
       "      <td>T048</td>\n",
       "      <td>41.867108</td>\n",
       "      <td>-87.654224</td>\n",
       "      <td>1</td>\n",
       "      <td>0</td>\n",
       "      <td>5</td>\n",
       "      <td>2007</td>\n",
       "      <td>2.0</td>\n",
       "      <td>77.0</td>\n",
       "      <td>0.0</td>\n",
       "      <td>29.44</td>\n",
       "      <td>7.4</td>\n",
       "      <td>65.5</td>\n",
       "      <td>0.0275</td>\n",
       "      <td>29.4125</td>\n",
       "      <td>9.875</td>\n",
       "      <td>1.0</td>\n",
       "      <td>0</td>\n",
       "      <td>1</td>\n",
       "      <td>0</td>\n",
       "      <td>0</td>\n",
       "      <td>0</td>\n",
       "      <td>0</td>\n",
       "    </tr>\n",
       "    <tr>\n",
       "      <th>2</th>\n",
       "      <td>2007-05-29</td>\n",
       "      <td>T050</td>\n",
       "      <td>41.919343</td>\n",
       "      <td>-87.694259</td>\n",
       "      <td>1</td>\n",
       "      <td>0</td>\n",
       "      <td>5</td>\n",
       "      <td>2007</td>\n",
       "      <td>2.0</td>\n",
       "      <td>77.0</td>\n",
       "      <td>0.0</td>\n",
       "      <td>29.44</td>\n",
       "      <td>7.4</td>\n",
       "      <td>65.5</td>\n",
       "      <td>0.0275</td>\n",
       "      <td>29.4125</td>\n",
       "      <td>9.875</td>\n",
       "      <td>1.0</td>\n",
       "      <td>0</td>\n",
       "      <td>1</td>\n",
       "      <td>0</td>\n",
       "      <td>0</td>\n",
       "      <td>0</td>\n",
       "      <td>0</td>\n",
       "    </tr>\n",
       "    <tr>\n",
       "      <th>3</th>\n",
       "      <td>2007-05-29</td>\n",
       "      <td>T054</td>\n",
       "      <td>41.921965</td>\n",
       "      <td>-87.632085</td>\n",
       "      <td>2</td>\n",
       "      <td>0</td>\n",
       "      <td>5</td>\n",
       "      <td>2007</td>\n",
       "      <td>2.0</td>\n",
       "      <td>77.0</td>\n",
       "      <td>0.0</td>\n",
       "      <td>29.44</td>\n",
       "      <td>7.4</td>\n",
       "      <td>65.5</td>\n",
       "      <td>0.0275</td>\n",
       "      <td>29.4125</td>\n",
       "      <td>9.875</td>\n",
       "      <td>1.0</td>\n",
       "      <td>0</td>\n",
       "      <td>1</td>\n",
       "      <td>0</td>\n",
       "      <td>0</td>\n",
       "      <td>0</td>\n",
       "      <td>0</td>\n",
       "    </tr>\n",
       "    <tr>\n",
       "      <th>4</th>\n",
       "      <td>2007-05-29</td>\n",
       "      <td>T086</td>\n",
       "      <td>41.688324</td>\n",
       "      <td>-87.676709</td>\n",
       "      <td>1</td>\n",
       "      <td>0</td>\n",
       "      <td>5</td>\n",
       "      <td>2007</td>\n",
       "      <td>2.0</td>\n",
       "      <td>77.0</td>\n",
       "      <td>0.0</td>\n",
       "      <td>29.44</td>\n",
       "      <td>7.4</td>\n",
       "      <td>65.5</td>\n",
       "      <td>0.0275</td>\n",
       "      <td>29.4125</td>\n",
       "      <td>9.875</td>\n",
       "      <td>1.0</td>\n",
       "      <td>0</td>\n",
       "      <td>1</td>\n",
       "      <td>0</td>\n",
       "      <td>0</td>\n",
       "      <td>0</td>\n",
       "      <td>0</td>\n",
       "    </tr>\n",
       "  </tbody>\n",
       "</table>\n",
       "</div>"
      ],
      "text/plain": [
       "        Date  Trap   Latitude  Longitude  NumMosquitos  WnvPresent  Month  \\\n",
       "0 2007-05-29  T096  41.731922 -87.677512             1           0      5   \n",
       "1 2007-05-29  T048  41.867108 -87.654224             1           0      5   \n",
       "2 2007-05-29  T050  41.919343 -87.694259             1           0      5   \n",
       "3 2007-05-29  T054  41.921965 -87.632085             2           0      5   \n",
       "4 2007-05-29  T086  41.688324 -87.676709             1           0      5   \n",
       "\n",
       "   Year  Station  Tavg  PrecipTotal  StnPressure  AvgSpeed  \\\n",
       "0  2007      2.0  77.0          0.0        29.44       7.4   \n",
       "1  2007      2.0  77.0          0.0        29.44       7.4   \n",
       "2  2007      2.0  77.0          0.0        29.44       7.4   \n",
       "3  2007      2.0  77.0          0.0        29.44       7.4   \n",
       "4  2007      2.0  77.0          0.0        29.44       7.4   \n",
       "\n",
       "   Tavg_rolling4_shift7  PrecipTotal_rolling4_shift7  \\\n",
       "0                  65.5                       0.0275   \n",
       "1                  65.5                       0.0275   \n",
       "2                  65.5                       0.0275   \n",
       "3                  65.5                       0.0275   \n",
       "4                  65.5                       0.0275   \n",
       "\n",
       "   StnPressure_rolling4_shift7  AvgSpeed_rolling4_shift7  Opt_temp  \\\n",
       "0                      29.4125                     9.875       1.0   \n",
       "1                      29.4125                     9.875       1.0   \n",
       "2                      29.4125                     9.875       1.0   \n",
       "3                      29.4125                     9.875       1.0   \n",
       "4                      29.4125                     9.875       1.0   \n",
       "\n",
       "   Species_CULEX PIPIENS  Species_CULEX PIPIENS/RESTUANS  \\\n",
       "0                      1                               0   \n",
       "1                      0                               1   \n",
       "2                      0                               1   \n",
       "3                      0                               1   \n",
       "4                      0                               1   \n",
       "\n",
       "   Species_CULEX RESTUANS  Species_CULEX SALINARIUS  Species_CULEX TARSALIS  \\\n",
       "0                       0                         0                       0   \n",
       "1                       0                         0                       0   \n",
       "2                       0                         0                       0   \n",
       "3                       0                         0                       0   \n",
       "4                       0                         0                       0   \n",
       "\n",
       "   Species_CULEX TERRITANS  \n",
       "0                        0  \n",
       "1                        0  \n",
       "2                        0  \n",
       "3                        0  \n",
       "4                        0  "
      ]
     },
     "execution_count": 11,
     "metadata": {},
     "output_type": "execute_result"
    }
   ],
   "source": [
    "train.head()"
   ]
  },
  {
   "cell_type": "code",
   "execution_count": 12,
   "metadata": {},
   "outputs": [],
   "source": [
    "for df in [train]:\n",
    "    df.rename(columns = {'Species_CULEX PIPIENS': 'C_Pipiens',\n",
    "                         'Species_CULEX PIPIENS/RESTUANS': 'C_Pipiens/Restuans',\n",
    "                         'Species_CULEX RESTUANS': 'C_Restuans',\n",
    "                         'Species_CULEX SALINARIUS': 'C_Salinarius',\n",
    "                         'Species_CULEX TARSALIS': 'C_Tarsalis',\n",
    "                         'Species_CULEX TERRITANS': 'C_Territans'\n",
    "}, inplace=True)"
   ]
  },
  {
   "cell_type": "code",
   "execution_count": 13,
   "metadata": {},
   "outputs": [
    {
     "data": {
      "text/plain": [
       "Index(['Date', 'Trap', 'Latitude', 'Longitude', 'NumMosquitos', 'WnvPresent',\n",
       "       'Month', 'Year', 'Station', 'Tavg', 'PrecipTotal', 'StnPressure',\n",
       "       'AvgSpeed', 'Tavg_rolling4_shift7', 'PrecipTotal_rolling4_shift7',\n",
       "       'StnPressure_rolling4_shift7', 'AvgSpeed_rolling4_shift7', 'Opt_temp',\n",
       "       'C_Pipiens', 'C_Pipiens/Restuans', 'C_Restuans', 'C_Salinarius',\n",
       "       'C_Tarsalis', 'C_Territans'],\n",
       "      dtype='object')"
      ]
     },
     "execution_count": 13,
     "metadata": {},
     "output_type": "execute_result"
    }
   ],
   "source": [
    "train.columns"
   ]
  },
  {
   "cell_type": "markdown",
   "metadata": {},
   "source": [
    "### Trial run on a model without resampling imbalanced data"
   ]
  },
  {
   "cell_type": "code",
   "execution_count": 14,
   "metadata": {},
   "outputs": [],
   "source": [
    "# initial trial run to see results before resampling \n",
    "# try XGBoost\n",
    "\n",
    "# note:  to decide if we wanna do one hot encoding for species & trap - Decided to drop Trap\n",
    "# date --> need to read up on time series how to \n",
    "\n",
    "X = train.drop(columns=['WnvPresent','Date','Trap','NumMosquitos','Station'])\n",
    "y = train['WnvPresent']"
   ]
  },
  {
   "cell_type": "code",
   "execution_count": 48,
   "metadata": {
    "scrolled": false
   },
   "outputs": [
    {
     "data": {
      "text/html": [
       "<div>\n",
       "<style scoped>\n",
       "    .dataframe tbody tr th:only-of-type {\n",
       "        vertical-align: middle;\n",
       "    }\n",
       "\n",
       "    .dataframe tbody tr th {\n",
       "        vertical-align: top;\n",
       "    }\n",
       "\n",
       "    .dataframe thead th {\n",
       "        text-align: right;\n",
       "    }\n",
       "</style>\n",
       "<table border=\"1\" class=\"dataframe\">\n",
       "  <thead>\n",
       "    <tr style=\"text-align: right;\">\n",
       "      <th></th>\n",
       "      <th>Latitude</th>\n",
       "      <th>Longitude</th>\n",
       "      <th>Month</th>\n",
       "      <th>Year</th>\n",
       "      <th>Tavg</th>\n",
       "      <th>PrecipTotal</th>\n",
       "      <th>StnPressure</th>\n",
       "      <th>AvgSpeed</th>\n",
       "      <th>Tavg_rolling4_shift7</th>\n",
       "      <th>PrecipTotal_rolling4_shift7</th>\n",
       "      <th>StnPressure_rolling4_shift7</th>\n",
       "      <th>AvgSpeed_rolling4_shift7</th>\n",
       "      <th>Opt_temp</th>\n",
       "      <th>C_Pipiens</th>\n",
       "      <th>C_Pipiens/Restuans</th>\n",
       "      <th>C_Restuans</th>\n",
       "      <th>C_Salinarius</th>\n",
       "      <th>C_Tarsalis</th>\n",
       "      <th>C_Territans</th>\n",
       "    </tr>\n",
       "  </thead>\n",
       "  <tbody>\n",
       "    <tr>\n",
       "      <th>0</th>\n",
       "      <td>41.731922</td>\n",
       "      <td>-87.677512</td>\n",
       "      <td>5</td>\n",
       "      <td>2007</td>\n",
       "      <td>77.0</td>\n",
       "      <td>0.0</td>\n",
       "      <td>29.44</td>\n",
       "      <td>7.4</td>\n",
       "      <td>65.5</td>\n",
       "      <td>0.0275</td>\n",
       "      <td>29.4125</td>\n",
       "      <td>9.875</td>\n",
       "      <td>1.0</td>\n",
       "      <td>1</td>\n",
       "      <td>0</td>\n",
       "      <td>0</td>\n",
       "      <td>0</td>\n",
       "      <td>0</td>\n",
       "      <td>0</td>\n",
       "    </tr>\n",
       "    <tr>\n",
       "      <th>1</th>\n",
       "      <td>41.867108</td>\n",
       "      <td>-87.654224</td>\n",
       "      <td>5</td>\n",
       "      <td>2007</td>\n",
       "      <td>77.0</td>\n",
       "      <td>0.0</td>\n",
       "      <td>29.44</td>\n",
       "      <td>7.4</td>\n",
       "      <td>65.5</td>\n",
       "      <td>0.0275</td>\n",
       "      <td>29.4125</td>\n",
       "      <td>9.875</td>\n",
       "      <td>1.0</td>\n",
       "      <td>0</td>\n",
       "      <td>1</td>\n",
       "      <td>0</td>\n",
       "      <td>0</td>\n",
       "      <td>0</td>\n",
       "      <td>0</td>\n",
       "    </tr>\n",
       "    <tr>\n",
       "      <th>2</th>\n",
       "      <td>41.919343</td>\n",
       "      <td>-87.694259</td>\n",
       "      <td>5</td>\n",
       "      <td>2007</td>\n",
       "      <td>77.0</td>\n",
       "      <td>0.0</td>\n",
       "      <td>29.44</td>\n",
       "      <td>7.4</td>\n",
       "      <td>65.5</td>\n",
       "      <td>0.0275</td>\n",
       "      <td>29.4125</td>\n",
       "      <td>9.875</td>\n",
       "      <td>1.0</td>\n",
       "      <td>0</td>\n",
       "      <td>1</td>\n",
       "      <td>0</td>\n",
       "      <td>0</td>\n",
       "      <td>0</td>\n",
       "      <td>0</td>\n",
       "    </tr>\n",
       "    <tr>\n",
       "      <th>3</th>\n",
       "      <td>41.921965</td>\n",
       "      <td>-87.632085</td>\n",
       "      <td>5</td>\n",
       "      <td>2007</td>\n",
       "      <td>77.0</td>\n",
       "      <td>0.0</td>\n",
       "      <td>29.44</td>\n",
       "      <td>7.4</td>\n",
       "      <td>65.5</td>\n",
       "      <td>0.0275</td>\n",
       "      <td>29.4125</td>\n",
       "      <td>9.875</td>\n",
       "      <td>1.0</td>\n",
       "      <td>0</td>\n",
       "      <td>1</td>\n",
       "      <td>0</td>\n",
       "      <td>0</td>\n",
       "      <td>0</td>\n",
       "      <td>0</td>\n",
       "    </tr>\n",
       "    <tr>\n",
       "      <th>4</th>\n",
       "      <td>41.688324</td>\n",
       "      <td>-87.676709</td>\n",
       "      <td>5</td>\n",
       "      <td>2007</td>\n",
       "      <td>77.0</td>\n",
       "      <td>0.0</td>\n",
       "      <td>29.44</td>\n",
       "      <td>7.4</td>\n",
       "      <td>65.5</td>\n",
       "      <td>0.0275</td>\n",
       "      <td>29.4125</td>\n",
       "      <td>9.875</td>\n",
       "      <td>1.0</td>\n",
       "      <td>0</td>\n",
       "      <td>1</td>\n",
       "      <td>0</td>\n",
       "      <td>0</td>\n",
       "      <td>0</td>\n",
       "      <td>0</td>\n",
       "    </tr>\n",
       "  </tbody>\n",
       "</table>\n",
       "</div>"
      ],
      "text/plain": [
       "    Latitude  Longitude  Month  Year  Tavg  PrecipTotal  StnPressure  \\\n",
       "0  41.731922 -87.677512      5  2007  77.0          0.0        29.44   \n",
       "1  41.867108 -87.654224      5  2007  77.0          0.0        29.44   \n",
       "2  41.919343 -87.694259      5  2007  77.0          0.0        29.44   \n",
       "3  41.921965 -87.632085      5  2007  77.0          0.0        29.44   \n",
       "4  41.688324 -87.676709      5  2007  77.0          0.0        29.44   \n",
       "\n",
       "   AvgSpeed  Tavg_rolling4_shift7  PrecipTotal_rolling4_shift7  \\\n",
       "0       7.4                  65.5                       0.0275   \n",
       "1       7.4                  65.5                       0.0275   \n",
       "2       7.4                  65.5                       0.0275   \n",
       "3       7.4                  65.5                       0.0275   \n",
       "4       7.4                  65.5                       0.0275   \n",
       "\n",
       "   StnPressure_rolling4_shift7  AvgSpeed_rolling4_shift7  Opt_temp  C_Pipiens  \\\n",
       "0                      29.4125                     9.875       1.0          1   \n",
       "1                      29.4125                     9.875       1.0          0   \n",
       "2                      29.4125                     9.875       1.0          0   \n",
       "3                      29.4125                     9.875       1.0          0   \n",
       "4                      29.4125                     9.875       1.0          0   \n",
       "\n",
       "   C_Pipiens/Restuans  C_Restuans  C_Salinarius  C_Tarsalis  C_Territans  \n",
       "0                   0           0             0           0            0  \n",
       "1                   1           0             0           0            0  \n",
       "2                   1           0             0           0            0  \n",
       "3                   1           0             0           0            0  \n",
       "4                   1           0             0           0            0  "
      ]
     },
     "execution_count": 48,
     "metadata": {},
     "output_type": "execute_result"
    }
   ],
   "source": [
    "X.head()"
   ]
  },
  {
   "cell_type": "code",
   "execution_count": 49,
   "metadata": {
    "scrolled": true
   },
   "outputs": [
    {
     "data": {
      "text/plain": [
       "0    0\n",
       "1    0\n",
       "2    0\n",
       "3    0\n",
       "4    0\n",
       "Name: WnvPresent, dtype: int64"
      ]
     },
     "execution_count": 49,
     "metadata": {},
     "output_type": "execute_result"
    }
   ],
   "source": [
    "y.head()"
   ]
  },
  {
   "cell_type": "code",
   "execution_count": 50,
   "metadata": {},
   "outputs": [],
   "source": [
    "# Perform train test split so that we can train, score and tune our models' hyperparameters \n",
    "X_train, X_val, y_train, y_val = train_test_split(X, y, test_size=0.2, random_state=42, stratify=y)\n",
    "\n",
    "kf = KFold(n_splits=5, random_state=42, shuffle=False)"
   ]
  },
  {
   "cell_type": "markdown",
   "metadata": {},
   "source": [
    "# Logistic regression"
   ]
  },
  {
   "cell_type": "code",
   "execution_count": 18,
   "metadata": {
    "scrolled": true
   },
   "outputs": [
    {
     "name": "stdout",
     "output_type": "stream",
     "text": [
      "Best parameters:  {'logistic_Reg__C': 1.2067926406393288, 'logistic_Reg__penalty': 'l2'}\n",
      "Best score:  0.681858407079646\n",
      "Training score: 0.6786135693215339\n",
      "Test score: 0.6784660766961652\n",
      "AUC_ROC score: 0.7212737387300978\n",
      "Recall: 0.7692307692307693\n"
     ]
    }
   ],
   "source": [
    "\n",
    "# Creating a pipeline of two steps. First, standardizing the data.\n",
    "# training a logistic regression on the data.Using balanced class weight to give importanced to minority class\n",
    "pipe = Pipeline(steps=[('std_slc', StandardScaler()),\n",
    "                           ('logistic_Reg',LogisticRegression(class_weight='balanced'))])\n",
    "\n",
    "\n",
    "# Creating a list of values of the regularization parameter\n",
    "C = np.logspace(-4, 4, 50)\n",
    "# Creating a list of options for the regularization penalty\n",
    "penalty = ['l1', 'l2']\n",
    "# Creating a dictionary of all the parameter options \n",
    "#Note has we can access the parameters of steps of a pipeline by using '__’\n",
    "parameters = dict(logistic_Reg__C=C,\n",
    "                      logistic_Reg__penalty=penalty)\n",
    "\n",
    "# Conducting Parameter Optmization With Pipeline\n",
    "# Creating a grid search object\n",
    "clf_GS = GridSearchCV(pipe, parameters, cv=kf)\n",
    "\n",
    "# Fitting the grid search\n",
    "clf_GS.fit(X_train, y_train)\n",
    "\n",
    "preds = clf_GS.predict(X_val)\n",
    "# Print results\n",
    "print('Best parameters: ',clf_GS.best_params_)\n",
    "print('Best score: ', clf_GS.best_score_)\n",
    "print('Training score:', clf_GS.score(X_train, y_train))\n",
    "print('Test score:', clf_GS.score(X_val, y_val))\n",
    "print('AUC_ROC score:', roc_auc_score(y_val, preds))\n",
    "print('Recall:', recall_score(y_val, preds))"
   ]
  },
  {
   "cell_type": "code",
   "execution_count": 19,
   "metadata": {
    "scrolled": false
   },
   "outputs": [
    {
     "data": {
      "image/png": "[encoded data removed]",
      "text/plain": [
       "<Figure size 432x288 with 2 Axes>"
      ]
     },
     "metadata": {
      "needs_background": "light"
     },
     "output_type": "display_data"
    }
   ],
   "source": [
    "plot_confusion_matrix(clf_GS, X_val,y_val, cmap='Blues', values_format='d')\n",
    "plt.title('Logistic Regression');"
   ]
  },
  {
   "cell_type": "markdown",
   "metadata": {},
   "source": [
    "## Logistic With Smote and ADASYN"
   ]
  },
  {
   "cell_type": "code",
   "execution_count": 20,
   "metadata": {},
   "outputs": [
    {
     "name": "stdout",
     "output_type": "stream",
     "text": [
      "Best parameters:  {'logistic_Reg__C': 0.5689866029018293, 'logistic_Reg__penalty': 'l2'}\n",
      "Best score:  0.6976401179941003\n",
      "Training score: 0.693952802359882\n",
      "Test score: 0.6967551622418879\n",
      "AUC_ROC score: 0.7205715107834809\n",
      "Recall: 0.7472527472527473\n"
     ]
    }
   ],
   "source": [
    "from imblearn.pipeline import Pipeline\n",
    "from imblearn.over_sampling import SMOTE\n",
    "# Creating a pipeline of two steps. First, standardizing the data.\n",
    "# training a logistic regression on the data.Using balanced class weight to give importanced to minority class\n",
    "pipe = Pipeline(steps=[('std_slc', StandardScaler()),\n",
    "                       ('upscale',SMOTE(random_state=42)),\n",
    "                        ('logistic_Reg',LogisticRegression(class_weight='balanced'))])\n",
    "\n",
    "\n",
    "# Creating a list of values of the regularization parameter\n",
    "C = np.logspace(-4, 4, 50)\n",
    "# Creating a list of options for the regularization penalty\n",
    "penalty = ['l1', 'l2']\n",
    "# Creating a dictionary of all the parameter options \n",
    "#Note has we can access the parameters of steps of a pipeline by using '__’\n",
    "parameters = dict(logistic_Reg__C=C,\n",
    "                      logistic_Reg__penalty=penalty)\n",
    "\n",
    "# Conducting Parameter Optmization With Pipeline\n",
    "# Creating a grid search object\n",
    "clf_GS = GridSearchCV(pipe, parameters, cv=kf)\n",
    "\n",
    "# Fitting the grid search\n",
    "clf_GS.fit(X_train, y_train)\n",
    "\n",
    "preds = clf_GS.predict(X_val)\n",
    "# Print results\n",
    "print('Best parameters: ',clf_GS.best_params_)\n",
    "print('Best score: ', clf_GS.best_score_)\n",
    "print('Training score:', clf_GS.score(X_train, y_train))\n",
    "print('Test score:', clf_GS.score(X_val, y_val))\n",
    "print('AUC_ROC score:', roc_auc_score(y_val, preds))\n",
    "print('Recall:', recall_score(y_val, preds))"
   ]
  },
  {
   "cell_type": "code",
   "execution_count": 21,
   "metadata": {
    "scrolled": false
   },
   "outputs": [
    {
     "name": "stdout",
     "output_type": "stream",
     "text": [
      "Best parameters:  {'logistic_Reg__C': 159.98587196060572, 'logistic_Reg__penalty': 'l2'}\n",
      "Best score:  0.6771386430678467\n",
      "Training score: 0.6731563421828909\n",
      "Test score: 0.6814159292035398\n",
      "AUC_ROC score: 0.7331979118138718\n",
      "Recall: 0.7912087912087912\n",
      "Accuracy 0.6814159292035398\n"
     ]
    }
   ],
   "source": [
    "from imblearn.pipeline import Pipeline\n",
    "from imblearn.over_sampling import ADASYN\n",
    "# Creating a pipeline of two steps. First, standardizing the data.\n",
    "# training a logistic regression on the data.Using balanced class weight to give importanced to minority class\n",
    "pipe = Pipeline(steps=[('std_slc', StandardScaler()),\n",
    "                       ('upscale',ADASYN()),\n",
    "                        ('logistic_Reg',LogisticRegression(class_weight='balanced'))])\n",
    "\n",
    "\n",
    "# Creating a list of values of the regularization parameter\n",
    "C = np.logspace(-4, 4, 50)\n",
    "# Creating a list of options for the regularization penalty\n",
    "penalty = ['l1', 'l2']\n",
    "# Creating a dictionary of all the parameter options \n",
    "#Note has we can access the parameters of steps of a pipeline by using '__’\n",
    "parameters = dict(logistic_Reg__C=C,\n",
    "                      logistic_Reg__penalty=penalty)\n",
    "\n",
    "# Conducting Parameter Optmization With Pipeline\n",
    "# Creating a grid search object\n",
    "clf_GS = GridSearchCV(pipe, parameters, cv=kf)\n",
    "\n",
    "# Fitting the grid search\n",
    "clf_GS.fit(X_train, y_train)\n",
    "\n",
    "preds = clf_GS.predict(X_val)\n",
    "# Print results\n",
    "print('Best parameters: ',clf_GS.best_params_)\n",
    "print('Best score: ', clf_GS.best_score_)\n",
    "print('Training score:', clf_GS.score(X_train, y_train))\n",
    "print('Test score:', clf_GS.score(X_val, y_val))\n",
    "print('AUC_ROC score:', roc_auc_score(y_val, preds))\n",
    "print('Recall:', recall_score(y_val, preds))\n",
    "print('Accuracy', accuracy_score(y_val,preds))"
   ]
  },
  {
   "cell_type": "code",
   "execution_count": 22,
   "metadata": {
    "scrolled": true
   },
   "outputs": [
    {
     "data": {
      "image/png": "[encoded data removed]",
      "text/plain": [
       "<Figure size 432x288 with 2 Axes>"
      ]
     },
     "metadata": {
      "needs_background": "light"
     },
     "output_type": "display_data"
    }
   ],
   "source": [
    "plot_confusion_matrix(clf_GS, X_val,clf_GS.predict(X_val), cmap='Blues', values_format='d')\n",
    "plt.title('Logistic Regression with Para');"
   ]
  },
  {
   "cell_type": "markdown",
   "metadata": {},
   "source": [
    "### No improvement in score with Smote upscaling and ADASYN made it worse  "
   ]
  },
  {
   "cell_type": "markdown",
   "metadata": {},
   "source": [
    "### ROC score is low with logistic regression with upsampling. We will use others resampling models like SMOTE and ADYSYN "
   ]
  },
  {
   "cell_type": "markdown",
   "metadata": {},
   "source": [
    "## Random Forest Modeland XGboost "
   ]
  },
  {
   "cell_type": "markdown",
   "metadata": {},
   "source": [
    "## Resampling\n",
    "- removing samples from the majority class (under-sampling)\n",
    "- adding more examples from the minority class (over-sampling) "
   ]
  },
  {
   "cell_type": "code",
   "execution_count": 23,
   "metadata": {},
   "outputs": [],
   "source": [
    "# Class count\n",
    "count_class_0, count_class_1 = train.WnvPresent.value_counts()"
   ]
  },
  {
   "cell_type": "code",
   "execution_count": 24,
   "metadata": {},
   "outputs": [],
   "source": [
    "# Divide by class\n",
    "df_class_0 = train[train['WnvPresent'] == 0]\n",
    "df_class_1 = train[train['WnvPresent'] == 1]"
   ]
  },
  {
   "cell_type": "code",
   "execution_count": 25,
   "metadata": {},
   "outputs": [],
   "source": [
    "kf = KFold(n_splits=5, random_state=42, shuffle=False)"
   ]
  },
  {
   "cell_type": "markdown",
   "metadata": {},
   "source": [
    "### RANDOM_FOREST_MODEL with weight balanced "
   ]
  },
  {
   "cell_type": "code",
   "execution_count": 26,
   "metadata": {},
   "outputs": [
    {
     "name": "stdout",
     "output_type": "stream",
     "text": [
      "Best parameters: {'class_weight': 'balanced', 'max_depth': 2, 'n_estimators': 200, 'random_state': 13}\n",
      "Best score:  0.815793428772236\n",
      "Training score: 0.8442622950819673\n",
      "Test score: 0.8131868131868132\n",
      "AUC_ROC score: 0.7360821846482695\n",
      "Recall: 0.8131868131868132\n",
      "Accuracy 0.6672566371681415\n"
     ]
    }
   ],
   "source": [
    "from imblearn.pipeline import Pipeline\n",
    "from imblearn.over_sampling import SMOTE\n",
    "\n",
    "rf = RandomForestClassifier()\n",
    "# Creating a pipeline of two steps. First, standardizing the data.\n",
    "# training a logistic regression on the data.Using balanced class weight to give importanced to minority class\n",
    "pipe = Pipeline(steps=[('std_slc', StandardScaler()),\n",
    "                       ('upscale',SMOTE(random_state=42)),\n",
    "                        ('RF',RandomForestClassifier())])\n",
    "\n",
    "\n",
    "#  n_estimators = number of trees in the foreset\n",
    "# max_depth = max number of levels in each decision tree\n",
    "params = {\n",
    "    'n_estimators': [50, 100, 200],\n",
    "    'max_depth': [2, 6, 10, 12],\n",
    "    'class_weight': ['balanced'],\n",
    "   'random_state': [13],\n",
    "    \n",
    "}\n",
    "\n",
    "grid_rf_CV = GridSearchCV(rf, param_grid=params, cv=kf, \n",
    "                          scoring='recall').fit(X_train, y_train)\n",
    "\n",
    "\n",
    "preds = grid_rf_CV.predict(X_val)\n",
    "# Print results\n",
    "print('Best parameters:', grid_rf_CV.best_params_)\n",
    "print('Best score: ', grid_rf_CV.best_score_)\n",
    "print('Training score:', grid_rf_CV.score(X_train, y_train))\n",
    "print('Test score:', grid_rf_CV.score(X_val, y_val))\n",
    "print('AUC_ROC score:', roc_auc_score(y_val, preds))\n",
    "print('Recall:', recall_score(y_val, preds))\n",
    "print('Accuracy', accuracy_score(y_val,preds))"
   ]
  },
  {
   "cell_type": "markdown",
   "metadata": {},
   "source": [
    "###  -  we see that we have about 88% recall on one of our models before we have tried oversampling. \n",
    "-  To see the effect of oversampling,we can generalize based off cross-validation. We haven't oversampled yet. Test recall score 81%"
   ]
  },
  {
   "cell_type": "markdown",
   "metadata": {},
   "source": [
    "plot_confusion_matrix(ada, X_val,preds, cmap='Blues', values_format='d')\n",
    "plt.title('RandomForest Model');"
   ]
  },
  {
   "cell_type": "markdown",
   "metadata": {},
   "source": [
    "####  Pros\n",
    "AdaBoost is easy to implement. It iteratively corrects the mistakes of the weak classifier and improves accuracy by combining weak learners. You can use many base classifiers with AdaBoost. AdaBoost is not prone to overfitting.\n",
    "####  Cons\n",
    "AdaBoost is sensitive to noise data. It is highly affected by outliers because it tries to fit each point perfectly. AdaBoost is slower compared to XGBoost."
   ]
  },
  {
   "cell_type": "markdown",
   "metadata": {},
   "source": [
    "## XGBOOST"
   ]
  },
  {
   "cell_type": "code",
   "execution_count": 31,
   "metadata": {},
   "outputs": [
    {
     "data": {
      "text/plain": [
       "({'max_depth': 3, 'min_child_weight': 5}, 0.8477112303955312)"
      ]
     },
     "execution_count": 31,
     "metadata": {},
     "output_type": "execute_result"
    }
   ],
   "source": [
    "# Step 2: Tune max_depth and min_child_weight\n",
    "param_test1 = {\n",
    "    'max_depth':range(3,10,2),\n",
    "    'min_child_weight':range(1,6,2)\n",
    "}\n",
    "gsearch1 = GridSearchCV(estimator = XGBClassifier( learning_rate =0.1, \n",
    "                                                  n_estimators=1000, \n",
    "                                                  max_depth=5,\n",
    "                                                  min_child_weight=1,\n",
    "                                                  gamma=0, \n",
    "                                                  subsample=0.8, \n",
    "                                                  colsample_bytree=0.8,\n",
    "                                                  objective= 'binary:logistic', nthread=4, scale_pos_weight=1, seed=27), \n",
    "                        param_grid = param_test1, \n",
    "                        scoring='roc_auc',\n",
    "                        n_jobs=4,\n",
    "                        iid=False, \n",
    "                        cv=kf)\n",
    "\n",
    "gsearch1.fit(X_train,y_train)\n",
    "gsearch1.best_params_, gsearch1.best_score_"
   ]
  },
  {
   "cell_type": "code",
   "execution_count": 32,
   "metadata": {},
   "outputs": [
    {
     "data": {
      "text/plain": [
       "pandas.core.frame.DataFrame"
      ]
     },
     "execution_count": 32,
     "metadata": {},
     "output_type": "execute_result"
    }
   ],
   "source": [
    "type(X_val)"
   ]
  },
  {
   "cell_type": "code",
   "execution_count": 33,
   "metadata": {},
   "outputs": [
    {
     "name": "stdout",
     "output_type": "stream",
     "text": [
      "Training score: 0.8507374631268436\n",
      "Test score: 0.8123893805309734\n",
      "AUC_ROC score: 0.7764859828450852\n",
      "Recall: 0.7362637362637363\n",
      "Accuracy: 0.8123893805309734\n",
      "Classification Report:\n",
      "              precision    recall  f1-score   support\n",
      "\n",
      "           0       0.98      0.82      0.89      1604\n",
      "           1       0.19      0.74      0.30        91\n",
      "\n",
      "    accuracy                           0.81      1695\n",
      "   macro avg       0.58      0.78      0.59      1695\n",
      "weighted avg       0.94      0.81      0.86      1695\n",
      "\n"
     ]
    }
   ],
   "source": [
    "xgb2 = XGBClassifier(\n",
    "    learning_rate =0.1, n_estimators=1000,\n",
    "    gamma=0,subsample=0.8,colsample_bytree=0.8,\n",
    "    objective= 'binary:logistic', nthread=4,scale_pos_weight=95,seed=27,\n",
    "    max_depth = 3,\n",
    "    min_child_weight = 5\n",
    ")\n",
    "# modelfit(xgb1, train, Xtrain)\n",
    "xgb2_up= xgb2.fit(X_train, y_train)\n",
    "\n",
    "#Fitting the grid search\n",
    "preds = xgb2_up.predict(X_val)\n",
    "\n",
    "# Print results\n",
    "#print('Best score: ', xgb2_up.best_score_)\n",
    "print('Training score:', xgb2_up.score(X_train, y_train))\n",
    "print('Test score:', xgb2_up.score(X_val, y_val))\n",
    "print('AUC_ROC score:', roc_auc_score(y_val, preds))\n",
    "print('Recall:', recall_score(y_val, preds))\n",
    "print('Accuracy:', accuracy_score(y_val, preds))\n",
    "result1 = classification_report(y_val,preds)\n",
    "print(\"Classification Report:\",)\n",
    "print (result1)"
   ]
  },
  {
   "cell_type": "markdown",
   "metadata": {},
   "source": [
    "\n",
    "bst = xgb.train(param, dtrain, , evallist)"
   ]
  },
  {
   "cell_type": "code",
   "execution_count": 35,
   "metadata": {},
   "outputs": [],
   "source": [
    "# kaggle submission"
   ]
  },
  {
   "cell_type": "code",
   "execution_count": 36,
   "metadata": {
    "scrolled": false
   },
   "outputs": [
    {
     "data": {
      "text/html": [
       "<div>\n",
       "<style scoped>\n",
       "    .dataframe tbody tr th:only-of-type {\n",
       "        vertical-align: middle;\n",
       "    }\n",
       "\n",
       "    .dataframe tbody tr th {\n",
       "        vertical-align: top;\n",
       "    }\n",
       "\n",
       "    .dataframe thead th {\n",
       "        text-align: right;\n",
       "    }\n",
       "</style>\n",
       "<table border=\"1\" class=\"dataframe\">\n",
       "  <thead>\n",
       "    <tr style=\"text-align: right;\">\n",
       "      <th></th>\n",
       "      <th>Id</th>\n",
       "      <th>Date</th>\n",
       "      <th>Trap</th>\n",
       "      <th>Latitude</th>\n",
       "      <th>Longitude</th>\n",
       "      <th>Month</th>\n",
       "      <th>Year</th>\n",
       "      <th>C_Pipiens</th>\n",
       "      <th>C_Pipiens/Restuans</th>\n",
       "      <th>C_Restuans</th>\n",
       "      <th>C_Salinarius</th>\n",
       "      <th>C_Tarsalis</th>\n",
       "      <th>C_Territans</th>\n",
       "      <th>Station</th>\n",
       "      <th>Tavg</th>\n",
       "      <th>PrecipTotal</th>\n",
       "      <th>StnPressure</th>\n",
       "      <th>AvgSpeed</th>\n",
       "      <th>Tavg_rolling4_shift7</th>\n",
       "      <th>PrecipTotal_rolling4_shift7</th>\n",
       "      <th>StnPressure_rolling4_shift7</th>\n",
       "      <th>AvgSpeed_rolling4_shift7</th>\n",
       "      <th>Opt_temp</th>\n",
       "    </tr>\n",
       "  </thead>\n",
       "  <tbody>\n",
       "    <tr>\n",
       "      <th>0</th>\n",
       "      <td>1</td>\n",
       "      <td>2008-06-11</td>\n",
       "      <td>T002</td>\n",
       "      <td>41.95469</td>\n",
       "      <td>-87.800991</td>\n",
       "      <td>6</td>\n",
       "      <td>2008</td>\n",
       "      <td>0</td>\n",
       "      <td>1</td>\n",
       "      <td>0</td>\n",
       "      <td>0</td>\n",
       "      <td>0</td>\n",
       "      <td>0</td>\n",
       "      <td>1.0</td>\n",
       "      <td>74.0</td>\n",
       "      <td>0.0</td>\n",
       "      <td>29.28</td>\n",
       "      <td>10.0</td>\n",
       "      <td>65.75</td>\n",
       "      <td>0.1325</td>\n",
       "      <td>29.065</td>\n",
       "      <td>6.15</td>\n",
       "      <td>1.0</td>\n",
       "    </tr>\n",
       "    <tr>\n",
       "      <th>1</th>\n",
       "      <td>2</td>\n",
       "      <td>2008-06-11</td>\n",
       "      <td>T002</td>\n",
       "      <td>41.95469</td>\n",
       "      <td>-87.800991</td>\n",
       "      <td>6</td>\n",
       "      <td>2008</td>\n",
       "      <td>0</td>\n",
       "      <td>0</td>\n",
       "      <td>1</td>\n",
       "      <td>0</td>\n",
       "      <td>0</td>\n",
       "      <td>0</td>\n",
       "      <td>1.0</td>\n",
       "      <td>74.0</td>\n",
       "      <td>0.0</td>\n",
       "      <td>29.28</td>\n",
       "      <td>10.0</td>\n",
       "      <td>65.75</td>\n",
       "      <td>0.1325</td>\n",
       "      <td>29.065</td>\n",
       "      <td>6.15</td>\n",
       "      <td>1.0</td>\n",
       "    </tr>\n",
       "    <tr>\n",
       "      <th>2</th>\n",
       "      <td>3</td>\n",
       "      <td>2008-06-11</td>\n",
       "      <td>T002</td>\n",
       "      <td>41.95469</td>\n",
       "      <td>-87.800991</td>\n",
       "      <td>6</td>\n",
       "      <td>2008</td>\n",
       "      <td>1</td>\n",
       "      <td>0</td>\n",
       "      <td>0</td>\n",
       "      <td>0</td>\n",
       "      <td>0</td>\n",
       "      <td>0</td>\n",
       "      <td>1.0</td>\n",
       "      <td>74.0</td>\n",
       "      <td>0.0</td>\n",
       "      <td>29.28</td>\n",
       "      <td>10.0</td>\n",
       "      <td>65.75</td>\n",
       "      <td>0.1325</td>\n",
       "      <td>29.065</td>\n",
       "      <td>6.15</td>\n",
       "      <td>1.0</td>\n",
       "    </tr>\n",
       "    <tr>\n",
       "      <th>3</th>\n",
       "      <td>4</td>\n",
       "      <td>2008-06-11</td>\n",
       "      <td>T002</td>\n",
       "      <td>41.95469</td>\n",
       "      <td>-87.800991</td>\n",
       "      <td>6</td>\n",
       "      <td>2008</td>\n",
       "      <td>0</td>\n",
       "      <td>0</td>\n",
       "      <td>0</td>\n",
       "      <td>1</td>\n",
       "      <td>0</td>\n",
       "      <td>0</td>\n",
       "      <td>1.0</td>\n",
       "      <td>74.0</td>\n",
       "      <td>0.0</td>\n",
       "      <td>29.28</td>\n",
       "      <td>10.0</td>\n",
       "      <td>65.75</td>\n",
       "      <td>0.1325</td>\n",
       "      <td>29.065</td>\n",
       "      <td>6.15</td>\n",
       "      <td>1.0</td>\n",
       "    </tr>\n",
       "    <tr>\n",
       "      <th>4</th>\n",
       "      <td>5</td>\n",
       "      <td>2008-06-11</td>\n",
       "      <td>T002</td>\n",
       "      <td>41.95469</td>\n",
       "      <td>-87.800991</td>\n",
       "      <td>6</td>\n",
       "      <td>2008</td>\n",
       "      <td>0</td>\n",
       "      <td>0</td>\n",
       "      <td>0</td>\n",
       "      <td>0</td>\n",
       "      <td>0</td>\n",
       "      <td>1</td>\n",
       "      <td>1.0</td>\n",
       "      <td>74.0</td>\n",
       "      <td>0.0</td>\n",
       "      <td>29.28</td>\n",
       "      <td>10.0</td>\n",
       "      <td>65.75</td>\n",
       "      <td>0.1325</td>\n",
       "      <td>29.065</td>\n",
       "      <td>6.15</td>\n",
       "      <td>1.0</td>\n",
       "    </tr>\n",
       "  </tbody>\n",
       "</table>\n",
       "</div>"
      ],
      "text/plain": [
       "   Id       Date  Trap  Latitude  Longitude  Month  Year  C_Pipiens  \\\n",
       "0   1 2008-06-11  T002  41.95469 -87.800991      6  2008          0   \n",
       "1   2 2008-06-11  T002  41.95469 -87.800991      6  2008          0   \n",
       "2   3 2008-06-11  T002  41.95469 -87.800991      6  2008          1   \n",
       "3   4 2008-06-11  T002  41.95469 -87.800991      6  2008          0   \n",
       "4   5 2008-06-11  T002  41.95469 -87.800991      6  2008          0   \n",
       "\n",
       "   C_Pipiens/Restuans  C_Restuans  C_Salinarius  C_Tarsalis  C_Territans  \\\n",
       "0                   1           0             0           0            0   \n",
       "1                   0           1             0           0            0   \n",
       "2                   0           0             0           0            0   \n",
       "3                   0           0             1           0            0   \n",
       "4                   0           0             0           0            1   \n",
       "\n",
       "   Station  Tavg  PrecipTotal  StnPressure  AvgSpeed  Tavg_rolling4_shift7  \\\n",
       "0      1.0  74.0          0.0        29.28      10.0                 65.75   \n",
       "1      1.0  74.0          0.0        29.28      10.0                 65.75   \n",
       "2      1.0  74.0          0.0        29.28      10.0                 65.75   \n",
       "3      1.0  74.0          0.0        29.28      10.0                 65.75   \n",
       "4      1.0  74.0          0.0        29.28      10.0                 65.75   \n",
       "\n",
       "   PrecipTotal_rolling4_shift7  StnPressure_rolling4_shift7  \\\n",
       "0                       0.1325                       29.065   \n",
       "1                       0.1325                       29.065   \n",
       "2                       0.1325                       29.065   \n",
       "3                       0.1325                       29.065   \n",
       "4                       0.1325                       29.065   \n",
       "\n",
       "   AvgSpeed_rolling4_shift7  Opt_temp  \n",
       "0                      6.15       1.0  \n",
       "1                      6.15       1.0  \n",
       "2                      6.15       1.0  \n",
       "3                      6.15       1.0  \n",
       "4                      6.15       1.0  "
      ]
     },
     "execution_count": 36,
     "metadata": {},
     "output_type": "execute_result"
    }
   ],
   "source": [
    "test.head()"
   ]
  },
  {
   "cell_type": "code",
   "execution_count": 37,
   "metadata": {},
   "outputs": [
    {
     "data": {
      "text/plain": [
       "(116293, 23)"
      ]
     },
     "execution_count": 37,
     "metadata": {},
     "output_type": "execute_result"
    }
   ],
   "source": [
    "test.shape"
   ]
  },
  {
   "cell_type": "code",
   "execution_count": 38,
   "metadata": {
    "scrolled": true
   },
   "outputs": [
    {
     "data": {
      "text/plain": [
       "23"
      ]
     },
     "execution_count": 38,
     "metadata": {},
     "output_type": "execute_result"
    }
   ],
   "source": [
    "len(test.columns)"
   ]
  },
  {
   "cell_type": "code",
   "execution_count": 39,
   "metadata": {
    "scrolled": true
   },
   "outputs": [
    {
     "data": {
      "text/plain": [
       "Index(['Id', 'Date', 'Trap', 'Latitude', 'Longitude', 'Month', 'Year',\n",
       "       'C_Pipiens', 'C_Pipiens/Restuans', 'C_Restuans', 'C_Salinarius',\n",
       "       'C_Tarsalis', 'C_Territans', 'Station', 'Tavg', 'PrecipTotal',\n",
       "       'StnPressure', 'AvgSpeed', 'Tavg_rolling4_shift7',\n",
       "       'PrecipTotal_rolling4_shift7', 'StnPressure_rolling4_shift7',\n",
       "       'AvgSpeed_rolling4_shift7', 'Opt_temp'],\n",
       "      dtype='object')"
      ]
     },
     "execution_count": 39,
     "metadata": {},
     "output_type": "execute_result"
    }
   ],
   "source": [
    "test.columns"
   ]
  },
  {
   "cell_type": "code",
   "execution_count": 40,
   "metadata": {},
   "outputs": [],
   "source": [
    "test.drop(columns= ['Date','Trap','Station'], inplace =True)"
   ]
  },
  {
   "cell_type": "code",
   "execution_count": 70,
   "metadata": {
    "scrolled": false
   },
   "outputs": [
    {
     "data": {
      "text/plain": [
       "Index(['Id', 'Latitude', 'Longitude', 'Month', 'Year', 'C_Pipiens',\n",
       "       'C_Pipiens/Restuans', 'C_Restuans', 'C_Salinarius', 'C_Tarsalis',\n",
       "       'C_Territans', 'Tavg', 'PrecipTotal', 'StnPressure', 'AvgSpeed',\n",
       "       'Tavg_rolling4_shift7', 'PrecipTotal_rolling4_shift7',\n",
       "       'StnPressure_rolling4_shift7', 'AvgSpeed_rolling4_shift7', 'Opt_temp'],\n",
       "      dtype='object')"
      ]
     },
     "execution_count": 70,
     "metadata": {},
     "output_type": "execute_result"
    }
   ],
   "source": [
    "test.columns"
   ]
  },
  {
   "cell_type": "code",
   "execution_count": 71,
   "metadata": {
    "scrolled": true
   },
   "outputs": [
    {
     "data": {
      "text/plain": [
       "Index(['Latitude', 'Longitude', 'Month', 'Year', 'Tavg', 'PrecipTotal',\n",
       "       'StnPressure', 'AvgSpeed', 'Tavg_rolling4_shift7',\n",
       "       'PrecipTotal_rolling4_shift7', 'StnPressure_rolling4_shift7',\n",
       "       'AvgSpeed_rolling4_shift7', 'Opt_temp', 'C_Pipiens',\n",
       "       'C_Pipiens/Restuans', 'C_Restuans', 'C_Salinarius', 'C_Tarsalis',\n",
       "       'C_Territans'],\n",
       "      dtype='object')"
      ]
     },
     "execution_count": 71,
     "metadata": {},
     "output_type": "execute_result"
    }
   ],
   "source": [
    "X.columns"
   ]
  },
  {
   "cell_type": "code",
   "execution_count": 65,
   "metadata": {},
   "outputs": [
    {
     "data": {
      "text/plain": [
       "Index([], dtype='object')"
      ]
     },
     "execution_count": 65,
     "metadata": {},
     "output_type": "execute_result"
    }
   ],
   "source": [
    "X.columns.difference(test.columns)"
   ]
  },
  {
   "cell_type": "code",
   "execution_count": 66,
   "metadata": {},
   "outputs": [
    {
     "data": {
      "text/html": [
       "<div>\n",
       "<style scoped>\n",
       "    .dataframe tbody tr th:only-of-type {\n",
       "        vertical-align: middle;\n",
       "    }\n",
       "\n",
       "    .dataframe tbody tr th {\n",
       "        vertical-align: top;\n",
       "    }\n",
       "\n",
       "    .dataframe thead th {\n",
       "        text-align: right;\n",
       "    }\n",
       "</style>\n",
       "<table border=\"1\" class=\"dataframe\">\n",
       "  <thead>\n",
       "    <tr style=\"text-align: right;\">\n",
       "      <th></th>\n",
       "      <th>Id</th>\n",
       "      <th>Latitude</th>\n",
       "      <th>Longitude</th>\n",
       "      <th>Month</th>\n",
       "      <th>Year</th>\n",
       "      <th>C_Pipiens</th>\n",
       "      <th>C_Pipiens/Restuans</th>\n",
       "      <th>C_Restuans</th>\n",
       "      <th>C_Salinarius</th>\n",
       "      <th>C_Tarsalis</th>\n",
       "      <th>C_Territans</th>\n",
       "      <th>Tavg</th>\n",
       "      <th>PrecipTotal</th>\n",
       "      <th>StnPressure</th>\n",
       "      <th>AvgSpeed</th>\n",
       "      <th>Tavg_rolling4_shift7</th>\n",
       "      <th>PrecipTotal_rolling4_shift7</th>\n",
       "      <th>StnPressure_rolling4_shift7</th>\n",
       "      <th>AvgSpeed_rolling4_shift7</th>\n",
       "      <th>Opt_temp</th>\n",
       "    </tr>\n",
       "  </thead>\n",
       "  <tbody>\n",
       "    <tr>\n",
       "      <th>0</th>\n",
       "      <td>1</td>\n",
       "      <td>41.95469</td>\n",
       "      <td>-87.800991</td>\n",
       "      <td>6</td>\n",
       "      <td>2008</td>\n",
       "      <td>0</td>\n",
       "      <td>1</td>\n",
       "      <td>0</td>\n",
       "      <td>0</td>\n",
       "      <td>0</td>\n",
       "      <td>0</td>\n",
       "      <td>74.0</td>\n",
       "      <td>0.0</td>\n",
       "      <td>29.28</td>\n",
       "      <td>10.0</td>\n",
       "      <td>65.75</td>\n",
       "      <td>0.1325</td>\n",
       "      <td>29.065</td>\n",
       "      <td>6.15</td>\n",
       "      <td>1.0</td>\n",
       "    </tr>\n",
       "    <tr>\n",
       "      <th>1</th>\n",
       "      <td>2</td>\n",
       "      <td>41.95469</td>\n",
       "      <td>-87.800991</td>\n",
       "      <td>6</td>\n",
       "      <td>2008</td>\n",
       "      <td>0</td>\n",
       "      <td>0</td>\n",
       "      <td>1</td>\n",
       "      <td>0</td>\n",
       "      <td>0</td>\n",
       "      <td>0</td>\n",
       "      <td>74.0</td>\n",
       "      <td>0.0</td>\n",
       "      <td>29.28</td>\n",
       "      <td>10.0</td>\n",
       "      <td>65.75</td>\n",
       "      <td>0.1325</td>\n",
       "      <td>29.065</td>\n",
       "      <td>6.15</td>\n",
       "      <td>1.0</td>\n",
       "    </tr>\n",
       "    <tr>\n",
       "      <th>2</th>\n",
       "      <td>3</td>\n",
       "      <td>41.95469</td>\n",
       "      <td>-87.800991</td>\n",
       "      <td>6</td>\n",
       "      <td>2008</td>\n",
       "      <td>1</td>\n",
       "      <td>0</td>\n",
       "      <td>0</td>\n",
       "      <td>0</td>\n",
       "      <td>0</td>\n",
       "      <td>0</td>\n",
       "      <td>74.0</td>\n",
       "      <td>0.0</td>\n",
       "      <td>29.28</td>\n",
       "      <td>10.0</td>\n",
       "      <td>65.75</td>\n",
       "      <td>0.1325</td>\n",
       "      <td>29.065</td>\n",
       "      <td>6.15</td>\n",
       "      <td>1.0</td>\n",
       "    </tr>\n",
       "    <tr>\n",
       "      <th>3</th>\n",
       "      <td>4</td>\n",
       "      <td>41.95469</td>\n",
       "      <td>-87.800991</td>\n",
       "      <td>6</td>\n",
       "      <td>2008</td>\n",
       "      <td>0</td>\n",
       "      <td>0</td>\n",
       "      <td>0</td>\n",
       "      <td>1</td>\n",
       "      <td>0</td>\n",
       "      <td>0</td>\n",
       "      <td>74.0</td>\n",
       "      <td>0.0</td>\n",
       "      <td>29.28</td>\n",
       "      <td>10.0</td>\n",
       "      <td>65.75</td>\n",
       "      <td>0.1325</td>\n",
       "      <td>29.065</td>\n",
       "      <td>6.15</td>\n",
       "      <td>1.0</td>\n",
       "    </tr>\n",
       "    <tr>\n",
       "      <th>4</th>\n",
       "      <td>5</td>\n",
       "      <td>41.95469</td>\n",
       "      <td>-87.800991</td>\n",
       "      <td>6</td>\n",
       "      <td>2008</td>\n",
       "      <td>0</td>\n",
       "      <td>0</td>\n",
       "      <td>0</td>\n",
       "      <td>0</td>\n",
       "      <td>0</td>\n",
       "      <td>1</td>\n",
       "      <td>74.0</td>\n",
       "      <td>0.0</td>\n",
       "      <td>29.28</td>\n",
       "      <td>10.0</td>\n",
       "      <td>65.75</td>\n",
       "      <td>0.1325</td>\n",
       "      <td>29.065</td>\n",
       "      <td>6.15</td>\n",
       "      <td>1.0</td>\n",
       "    </tr>\n",
       "  </tbody>\n",
       "</table>\n",
       "</div>"
      ],
      "text/plain": [
       "   Id  Latitude  Longitude  Month  Year  C_Pipiens  C_Pipiens/Restuans  \\\n",
       "0   1  41.95469 -87.800991      6  2008          0                   1   \n",
       "1   2  41.95469 -87.800991      6  2008          0                   0   \n",
       "2   3  41.95469 -87.800991      6  2008          1                   0   \n",
       "3   4  41.95469 -87.800991      6  2008          0                   0   \n",
       "4   5  41.95469 -87.800991      6  2008          0                   0   \n",
       "\n",
       "   C_Restuans  C_Salinarius  C_Tarsalis  C_Territans  Tavg  PrecipTotal  \\\n",
       "0           0             0           0            0  74.0          0.0   \n",
       "1           1             0           0            0  74.0          0.0   \n",
       "2           0             0           0            0  74.0          0.0   \n",
       "3           0             1           0            0  74.0          0.0   \n",
       "4           0             0           0            1  74.0          0.0   \n",
       "\n",
       "   StnPressure  AvgSpeed  Tavg_rolling4_shift7  PrecipTotal_rolling4_shift7  \\\n",
       "0        29.28      10.0                 65.75                       0.1325   \n",
       "1        29.28      10.0                 65.75                       0.1325   \n",
       "2        29.28      10.0                 65.75                       0.1325   \n",
       "3        29.28      10.0                 65.75                       0.1325   \n",
       "4        29.28      10.0                 65.75                       0.1325   \n",
       "\n",
       "   StnPressure_rolling4_shift7  AvgSpeed_rolling4_shift7  Opt_temp  \n",
       "0                       29.065                      6.15       1.0  \n",
       "1                       29.065                      6.15       1.0  \n",
       "2                       29.065                      6.15       1.0  \n",
       "3                       29.065                      6.15       1.0  \n",
       "4                       29.065                      6.15       1.0  "
      ]
     },
     "execution_count": 66,
     "metadata": {},
     "output_type": "execute_result"
    }
   ],
   "source": [
    "test.head()"
   ]
  },
  {
   "cell_type": "code",
   "execution_count": 67,
   "metadata": {},
   "outputs": [],
   "source": [
    "test_X = test[[col for col in test.columns if col != 'Id']]"
   ]
  },
  {
   "cell_type": "code",
   "execution_count": 68,
   "metadata": {},
   "outputs": [
    {
     "data": {
      "text/plain": [
       "pandas.core.frame.DataFrame"
      ]
     },
     "execution_count": 68,
     "metadata": {},
     "output_type": "execute_result"
    }
   ],
   "source": [
    "type(test_X)"
   ]
  },
  {
   "cell_type": "code",
   "execution_count": 69,
   "metadata": {
    "scrolled": true
   },
   "outputs": [
    {
     "ename": "ValueError",
     "evalue": "feature_names mismatch: ['Latitude', 'Longitude', 'Month', 'Year', 'Tavg', 'PrecipTotal', 'StnPressure', 'AvgSpeed', 'Tavg_rolling4_shift7', 'PrecipTotal_rolling4_shift7', 'StnPressure_rolling4_shift7', 'AvgSpeed_rolling4_shift7', 'Opt_temp', 'C_Pipiens', 'C_Pipiens/Restuans', 'C_Restuans', 'C_Salinarius', 'C_Tarsalis', 'C_Territans'] ['Latitude', 'Longitude', 'Month', 'Year', 'C_Pipiens', 'C_Pipiens/Restuans', 'C_Restuans', 'C_Salinarius', 'C_Tarsalis', 'C_Territans', 'Tavg', 'PrecipTotal', 'StnPressure', 'AvgSpeed', 'Tavg_rolling4_shift7', 'PrecipTotal_rolling4_shift7', 'StnPressure_rolling4_shift7', 'AvgSpeed_rolling4_shift7', 'Opt_temp']",
     "output_type": "error",
     "traceback": [
      "\u001b[1;31m---------------------------------------------------------------------------\u001b[0m",
      "\u001b[1;31mValueError\u001b[0m                                Traceback (most recent call last)",
      "\u001b[1;32m<ipython-input-69-7a77adc776e8>\u001b[0m in \u001b[0;36m<module>\u001b[1;34m\u001b[0m\n\u001b[1;32m----> 1\u001b[1;33m \u001b[0mpreds\u001b[0m \u001b[1;33m=\u001b[0m \u001b[0mxgb2_up\u001b[0m\u001b[1;33m.\u001b[0m\u001b[0mpredict\u001b[0m\u001b[1;33m(\u001b[0m\u001b[0mtest_X\u001b[0m\u001b[1;33m)\u001b[0m\u001b[1;33m\u001b[0m\u001b[1;33m\u001b[0m\u001b[0m\n\u001b[0m",
      "\u001b[1;32m~\\anaconda3\\lib\\site-packages\\xgboost\\sklearn.py\u001b[0m in \u001b[0;36mpredict\u001b[1;34m(self, data, output_margin, ntree_limit, validate_features, base_margin)\u001b[0m\n\u001b[0;32m    892\u001b[0m         \u001b[1;32mif\u001b[0m \u001b[0mntree_limit\u001b[0m \u001b[1;32mis\u001b[0m \u001b[1;32mNone\u001b[0m\u001b[1;33m:\u001b[0m\u001b[1;33m\u001b[0m\u001b[1;33m\u001b[0m\u001b[0m\n\u001b[0;32m    893\u001b[0m             \u001b[0mntree_limit\u001b[0m \u001b[1;33m=\u001b[0m \u001b[0mgetattr\u001b[0m\u001b[1;33m(\u001b[0m\u001b[0mself\u001b[0m\u001b[1;33m,\u001b[0m \u001b[1;34m\"best_ntree_limit\"\u001b[0m\u001b[1;33m,\u001b[0m \u001b[1;36m0\u001b[0m\u001b[1;33m)\u001b[0m\u001b[1;33m\u001b[0m\u001b[1;33m\u001b[0m\u001b[0m\n\u001b[1;32m--> 894\u001b[1;33m         class_probs = self.get_booster().predict(\n\u001b[0m\u001b[0;32m    895\u001b[0m             \u001b[0mtest_dmatrix\u001b[0m\u001b[1;33m,\u001b[0m\u001b[1;33m\u001b[0m\u001b[1;33m\u001b[0m\u001b[0m\n\u001b[0;32m    896\u001b[0m             \u001b[0moutput_margin\u001b[0m\u001b[1;33m=\u001b[0m\u001b[0moutput_margin\u001b[0m\u001b[1;33m,\u001b[0m\u001b[1;33m\u001b[0m\u001b[1;33m\u001b[0m\u001b[0m\n",
      "\u001b[1;32m~\\anaconda3\\lib\\site-packages\\xgboost\\core.py\u001b[0m in \u001b[0;36mpredict\u001b[1;34m(self, data, output_margin, ntree_limit, pred_leaf, pred_contribs, approx_contribs, pred_interactions, validate_features, training)\u001b[0m\n\u001b[0;32m   1362\u001b[0m \u001b[1;33m\u001b[0m\u001b[0m\n\u001b[0;32m   1363\u001b[0m         \u001b[1;32mif\u001b[0m \u001b[0mvalidate_features\u001b[0m\u001b[1;33m:\u001b[0m\u001b[1;33m\u001b[0m\u001b[1;33m\u001b[0m\u001b[0m\n\u001b[1;32m-> 1364\u001b[1;33m             \u001b[0mself\u001b[0m\u001b[1;33m.\u001b[0m\u001b[0m_validate_features\u001b[0m\u001b[1;33m(\u001b[0m\u001b[0mdata\u001b[0m\u001b[1;33m)\u001b[0m\u001b[1;33m\u001b[0m\u001b[1;33m\u001b[0m\u001b[0m\n\u001b[0m\u001b[0;32m   1365\u001b[0m \u001b[1;33m\u001b[0m\u001b[0m\n\u001b[0;32m   1366\u001b[0m         \u001b[0mlength\u001b[0m \u001b[1;33m=\u001b[0m \u001b[0mc_bst_ulong\u001b[0m\u001b[1;33m(\u001b[0m\u001b[1;33m)\u001b[0m\u001b[1;33m\u001b[0m\u001b[1;33m\u001b[0m\u001b[0m\n",
      "\u001b[1;32m~\\anaconda3\\lib\\site-packages\\xgboost\\core.py\u001b[0m in \u001b[0;36m_validate_features\u001b[1;34m(self, data)\u001b[0m\n\u001b[0;32m   1933\u001b[0m                             ', '.join(str(s) for s in my_missing))\n\u001b[0;32m   1934\u001b[0m \u001b[1;33m\u001b[0m\u001b[0m\n\u001b[1;32m-> 1935\u001b[1;33m                 raise ValueError(msg.format(self.feature_names,\n\u001b[0m\u001b[0;32m   1936\u001b[0m                                             data.feature_names))\n\u001b[0;32m   1937\u001b[0m \u001b[1;33m\u001b[0m\u001b[0m\n",
      "\u001b[1;31mValueError\u001b[0m: feature_names mismatch: ['Latitude', 'Longitude', 'Month', 'Year', 'Tavg', 'PrecipTotal', 'StnPressure', 'AvgSpeed', 'Tavg_rolling4_shift7', 'PrecipTotal_rolling4_shift7', 'StnPressure_rolling4_shift7', 'AvgSpeed_rolling4_shift7', 'Opt_temp', 'C_Pipiens', 'C_Pipiens/Restuans', 'C_Restuans', 'C_Salinarius', 'C_Tarsalis', 'C_Territans'] ['Latitude', 'Longitude', 'Month', 'Year', 'C_Pipiens', 'C_Pipiens/Restuans', 'C_Restuans', 'C_Salinarius', 'C_Tarsalis', 'C_Territans', 'Tavg', 'PrecipTotal', 'StnPressure', 'AvgSpeed', 'Tavg_rolling4_shift7', 'PrecipTotal_rolling4_shift7', 'StnPressure_rolling4_shift7', 'AvgSpeed_rolling4_shift7', 'Opt_temp']"
     ]
    }
   ],
   "source": [
    "preds = xgb2_up.predict(test_X)"
   ]
  },
  {
   "cell_type": "code",
   "execution_count": null,
   "metadata": {},
   "outputs": [],
   "source": [
    "my_submission = pd.DataFrame({'Id': test.Id, 'Wnvpresent': preds})\n",
    "# you could use any filename. We choose submission here\n",
    "my_submission.to_csv('submission.csv', index=False)"
   ]
  },
  {
   "cell_type": "code",
   "execution_count": null,
   "metadata": {},
   "outputs": [],
   "source": [
    "submission = test[['Id']]"
   ]
  },
  {
   "cell_type": "code",
   "execution_count": null,
   "metadata": {},
   "outputs": [],
   "source": [
    "preds = xgb2_up.predict(X_val)"
   ]
  },
  {
   "cell_type": "code",
   "execution_count": null,
   "metadata": {},
   "outputs": [],
   "source": [
    "submission = pd.DataFrame[submission, preds]"
   ]
  },
  {
   "cell_type": "markdown",
   "metadata": {},
   "source": [
    "### UNDERSTANDING SMOTE,ADASYN"
   ]
  },
  {
   "cell_type": "code",
   "execution_count": null,
   "metadata": {
    "scrolled": true
   },
   "outputs": [],
   "source": [
    "X, y = make_classification(n_samples=5000, n_features=2, n_informative=2,\n",
    "                           n_redundant=0, n_repeated=0, n_classes=3,\n",
    "                           n_clusters_per_class=1,\n",
    "                           weights=[0.01, 0.05, 0.94],\n",
    "                           class_sep=0.8, random_state=0)\n",
    "\n",
    "import matplotlib.pyplot as plt\n",
    "colors = ['#ef8a62' if v == 0 else '#f7f7f7' if v == 1 else '#67a9cf' for v in y]\n",
    "kwarg_params = {'linewidth': 1, 'edgecolor': 'black'}\n",
    "plt.scatter(X[:, 0], X[:, 1], c=colors, **kwarg_params)\n",
    "sns.despine()\n",
    "plt.suptitle(\"Benchmark Data Resampled with SMOTE\")\n",
    "pass"
   ]
  },
  {
   "cell_type": "code",
   "execution_count": null,
   "metadata": {
    "scrolled": false
   },
   "outputs": [],
   "source": [
    "# SMOTE RESAMPLING \n",
    "\n",
    "X_resampled, y_resampled = SMOTE().fit_sample(X, y)\n",
    "kwarg_params = {'linewidth': 1, 'edgecolor': 'black'}\n",
    "colors = ['#ef8a62' if v == 0 else '#f7f7f7' if v == 1 else '#67a9cf' for v in y_resampled]\n",
    "plt.scatter(X_resampled[:, 0], X_resampled[:, 1], c=colors, **kwarg_params)\n",
    "sns.despine()\n",
    "plt.suptitle(\"Benchmark Data Resampled with SMOTE\")\n",
    "pass"
   ]
  },
  {
   "cell_type": "code",
   "execution_count": null,
   "metadata": {},
   "outputs": [],
   "source": [
    "\n",
    "\n",
    "X_resampled, y_resampled = ADASYN().fit_sample(X, y)\n",
    "kwarg_params = {'linewidth': 1, 'edgecolor': 'black'}\n",
    "colors = ['#ef8a62' if v == 0 else '#f7f7f7' if v == 1 else '#67a9cf' for v in y_resampled]\n",
    "plt.scatter(X_resampled[:, 0], X_resampled[:, 1], c=colors, **kwarg_params)\n",
    "sns.despine()\n",
    "plt.suptitle(\"Benchmark Data Resampled with SMOTE-borderline2\")\n",
    "pass"
   ]
  },
  {
   "cell_type": "code",
   "execution_count": null,
   "metadata": {},
   "outputs": [],
   "source": []
  },
  {
   "cell_type": "code",
   "execution_count": null,
   "metadata": {
    "scrolled": true
   },
   "outputs": [],
   "source": [
    "# First, look at your initial value counts of y \n",
    "print(y.value_counts())\n",
    "\n",
    "# Start your SMOTE instance\n",
    "smote = SMOTE()\n",
    "\n",
    "# Apply SMOTE to your data, some previously defined X and y\n",
    "X_sm_resampled, y_sm_resampled = smote.fit_resample(X, y) \n",
    "\n",
    "# Look at your new, resampled value counts - should be equal!\n",
    "print(pd.Series(y_sm_resampled).value_counts())"
   ]
  },
  {
   "cell_type": "code",
   "execution_count": null,
   "metadata": {
    "scrolled": true
   },
   "outputs": [],
   "source": [
    "# Import the ADASYN package from the imblearn library\n",
    "from imblearn.over_sampling import ADASYN\n",
    "\n",
    "# Start your ADASYN instance\n",
    "adasyn = ADASYN()\n",
    "\n",
    "# Apply ADASYN to your data, some previously defined X and y\n",
    "x_ad_resampled, y_ad_resampled = adasyn.fit_resample(X, y) \n",
    "\n",
    "# Look at your new, resampled value counts - should be equal!\n",
    "print(pd.Series(train_ad_resampled).value_counts())"
   ]
  },
  {
   "cell_type": "markdown",
   "metadata": {},
   "source": [
    "### Under Sampling  Clustercentriod and Tomek-link "
   ]
  },
  {
   "cell_type": "code",
   "execution_count": null,
   "metadata": {},
   "outputs": [],
   "source": [
    "# Import the ClusterCentroids package from the imblearn library\n",
    "from imblearn.under_sampling import ClusterCentroids\n",
    "\n",
    "# Start your ClusterCentroids instance\n",
    "cc = ClusterCentroids()\n",
    "\n",
    "# Apply ClusterCentroids to your data, some previously defined X and y\n",
    "X_cluster_cc, y_cluster_cc = cc.fit_sample(X, y)\n"
   ]
  },
  {
   "cell_type": "code",
   "execution_count": null,
   "metadata": {},
   "outputs": [],
   "source": [
    "\n",
    "data_dmatrix = xgb.DMatrix(data=X,label=y)"
   ]
  },
  {
   "cell_type": "code",
   "execution_count": null,
   "metadata": {},
   "outputs": [],
   "source": [
    "model = XGBClassifier()\n",
    "model.fit(X_train, y_train)\n",
    "y_pred = model.predict(X_val)\n",
    "\n",
    "accuracy = accuracy_score(y_val, y_pred)\n",
    "print(\"Accuracy: %.2f%%\" % (accuracy * 100.0))"
   ]
  },
  {
   "cell_type": "markdown",
   "metadata": {},
   "source": [
    "Although the accuracy is high **93.68%**, it is still below the baseline accuracy of **94.6077%** due to the imbalanced dataset."
   ]
  },
  {
   "cell_type": "code",
   "execution_count": null,
   "metadata": {},
   "outputs": [],
   "source": [
    "plt_confusion(train, 'XGBoost-trial', model, X_train, X_val, \n",
    "              'Inital modelling before resampling imbalanced data\\n Classifier: XGBoost')"
   ]
  }
 ],
 "metadata": {
  "kernelspec": {
   "display_name": "Python 3",
   "language": "python",
   "name": "python3"
  },
  "language_info": {
   "codemirror_mode": {
    "name": "ipython",
    "version": 3
   },
   "file_extension": ".py",
   "mimetype": "text/x-python",
   "name": "python",
   "nbconvert_exporter": "python",
   "pygments_lexer": "ipython3",
   "version": "3.8.3"
  }
 },
 "nbformat": 4,
 "nbformat_minor": 4
}
