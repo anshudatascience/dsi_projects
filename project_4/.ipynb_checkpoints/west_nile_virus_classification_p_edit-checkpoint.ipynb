{
 "cells": [
  {
   "cell_type": "markdown",
   "metadata": {},
   "source": [
    "# DSI Project 4: West Nile Virus Prediction"
   ]
  },
  {
   "cell_type": "markdown",
   "metadata": {},
   "source": [
    "## Background"
   ]
  },
  {
   "cell_type": "markdown",
   "metadata": {},
   "source": [
    "[**West Nile virus**](https://www.cdc.gov/westnile/) is most commonly spread to humans through infected mosquitos. Around 20% of people who become infected with the virus develop symptoms ranging from a persistent fever, to serious neurological illnesses that can result in death.\n",
    "\n",
    "In 2002, the first human cases of West Nile virus were reported in Chicago. By 2004 the City of Chicago and the Chicago Department of Public Health (CDPH) had established a comprehensive surveillance and control program that is still in effect today.\n",
    "\n",
    "Every week from late spring through the fall, mosquitos in traps across the city are tested for the virus. The results of these tests influence when and where the city will spray airborne pesticides to control adult mosquito populations.\n",
    "\n",
    "source: [kaggle](https://www.kaggle.com/c/predict-west-nile-virus/overview)"
   ]
  },
  {
   "cell_type": "markdown",
   "metadata": {},
   "source": [
    "## Problem Statement"
   ]
  },
  {
   "cell_type": "markdown",
   "metadata": {},
   "source": [
    "Due to a recent outbreak of the West Nile Virus in the city of Chicago, our Data Science team at the Disease and Treatment Agency has been tasked by the Centers for Disease Control (CDC) to develop a strategy to deploy the effective use of pesticides, by targeting spraying of pesticides to areas of high risk will help to mitigate future outbreaks.\n",
    "\n",
    "Leveraging on weather, location, mosquito population and spraying data, the team will develop a binary classification model to predict the presence of the West Nile Virus in the city of Chicago. \n",
    "\n",
    "The model that achieves the highest ROC AUC score on the validation data set, will be selected as our production model. "
   ]
  },
  {
   "cell_type": "markdown",
   "metadata": {},
   "source": [
    "## Data Cleaning & EDA"
   ]
  },
  {
   "cell_type": "code",
   "execution_count": 1,
   "metadata": {},
   "outputs": [],
   "source": [
    "# import libraries\n",
    "import pandas as pd\n",
    "import numpy as np\n",
    "import seaborn as sns\n",
    "import matplotlib.pyplot as plt\n",
    "import missingno as msno\n",
    "from bokeh.plotting import figure, show, output_notebook\n",
    "from bokeh.tile_providers import get_provider, Vendors, CARTODBPOSITRON\n",
    "import math\n",
    "from ast import literal_eval\n",
    "\n",
    "\n",
    "\n",
    "pd.set_option('max_columns', None)\n",
    "pd.set_option('max_rows', None)\n",
    "\n",
    "%matplotlib inline\n",
    "plt.style.use('seaborn-notebook')"
   ]
  },
  {
   "cell_type": "code",
   "execution_count": 2,
   "metadata": {},
   "outputs": [],
   "source": [
    "# load datasets \n",
    "train = pd.read_csv('./data/train.csv', parse_dates=['Date'])\n",
    "test = pd.read_csv('./data/test.csv', parse_dates=['Date'])\n",
    "spray = pd.read_csv('./data/spray.csv', parse_dates=['Date'])\n",
    "weather = pd.read_csv('./data/weather.csv', parse_dates=['Date'])"
   ]
  },
  {
   "cell_type": "code",
   "execution_count": 3,
   "metadata": {},
   "outputs": [],
   "source": [
    "# define a function for intial exploration of dataset\n",
    "\n",
    "def data_exploration(df_name, df):\n",
    "    \"\"\"\n",
    "    function to perform initial data exploration to check for \n",
    "    dataframe shape, datatype, null values and duplicates\n",
    "    \n",
    "    \"\"\"\n",
    "    print(f\"DATASET: {df_name}\")\n",
    "    print(\"-------------------------------------\")\n",
    "    print(\"First 3 rows of dataset:\")\n",
    "    display(df.head(3))\n",
    "    print(\"\\n\")\n",
    "    # check shape of dataframe\n",
    "    print(f\"Shape of dataset: {df.shape}\")\n",
    "    print(\"\\n\")\n",
    "    # check datatypes\n",
    "    print(\"Columns & data types: \")\n",
    "    df.info()\n",
    "    print(\"\\n\")\n",
    "    # check for null values\n",
    "    print(\"Null values: \")\n",
    "    if df.isnull().sum().sum() == 0:\n",
    "        print(\"No null value\")\n",
    "    else:\n",
    "        for col in df:\n",
    "            print(f\"{col}: {df[col].isnull().sum()}\")\n",
    "    print(\"\\n\")\n",
    "    # check for duplicates\n",
    "    if df.duplicated(subset=None, keep='first').any() == False:\n",
    "        print(\"No duplicated row\")\n",
    "    else:\n",
    "        duplicates = df[df.duplicated(subset=None, keep='first')]\n",
    "        print(f\"{len(duplicates)} duplicated rows in dataset.\")"
   ]
  },
  {
   "cell_type": "markdown",
   "metadata": {},
   "source": [
    "### Main Dataset - Train data set"
   ]
  },
  {
   "cell_type": "code",
   "execution_count": null,
   "metadata": {},
   "outputs": [],
   "source": [
    "data_exploration('Main dataset - Train', train)"
   ]
  },
  {
   "cell_type": "markdown",
   "metadata": {},
   "source": [
    "**Observation on Train dataset:**\n",
    "\n",
    "* No null values\n",
    "* Correct data types\n",
    "* 813 duplicated rows "
   ]
  },
  {
   "cell_type": "markdown",
   "metadata": {},
   "source": [
    "Let's take a closer look at the duplicated rows."
   ]
  },
  {
   "cell_type": "code",
   "execution_count": null,
   "metadata": {
    "scrolled": false
   },
   "outputs": [],
   "source": [
    "train[train.duplicated(subset=None)].sort_values(['Address', 'Date']).head()"
   ]
  },
  {
   "cell_type": "markdown",
   "metadata": {},
   "source": [
    "Duplicates seem to arise from cases where trap in the same location have multiple records on the same day. However, we need to be careful in dropping the duplicates because the data are organized in such a way that when the number of mosquitos exceed 50, they are split into another record (another row in the dataset), such that the number of mosquitos are capped at 50. \n",
    "\n",
    "One way to handle this is to sum the number of mosquitoes for records where the Date, Species, Trap, Latitude and Longitude are the same.\n",
    "\n",
    "To do that, we will first drop the Address columns (since we will base on Latitude and Longitude instead)."
   ]
  },
  {
   "cell_type": "code",
   "execution_count": 4,
   "metadata": {
    "scrolled": true
   },
   "outputs": [
    {
     "data": {
      "text/html": [
       "<div>\n",
       "<style scoped>\n",
       "    .dataframe tbody tr th:only-of-type {\n",
       "        vertical-align: middle;\n",
       "    }\n",
       "\n",
       "    .dataframe tbody tr th {\n",
       "        vertical-align: top;\n",
       "    }\n",
       "\n",
       "    .dataframe thead th {\n",
       "        text-align: right;\n",
       "    }\n",
       "</style>\n",
       "<table border=\"1\" class=\"dataframe\">\n",
       "  <thead>\n",
       "    <tr style=\"text-align: right;\">\n",
       "      <th></th>\n",
       "      <th>Block</th>\n",
       "      <th>Latitude</th>\n",
       "      <th>Longitude</th>\n",
       "      <th>AddressAccuracy</th>\n",
       "      <th>NumMosquitos</th>\n",
       "      <th>WnvPresent</th>\n",
       "    </tr>\n",
       "  </thead>\n",
       "  <tbody>\n",
       "    <tr>\n",
       "      <th>count</th>\n",
       "      <td>10506.000000</td>\n",
       "      <td>10506.000000</td>\n",
       "      <td>10506.000000</td>\n",
       "      <td>10506.000000</td>\n",
       "      <td>10506.000000</td>\n",
       "      <td>10506.000000</td>\n",
       "    </tr>\n",
       "    <tr>\n",
       "      <th>mean</th>\n",
       "      <td>35.687797</td>\n",
       "      <td>41.841139</td>\n",
       "      <td>-87.699908</td>\n",
       "      <td>7.819532</td>\n",
       "      <td>12.853512</td>\n",
       "      <td>0.052446</td>\n",
       "    </tr>\n",
       "    <tr>\n",
       "      <th>std</th>\n",
       "      <td>24.339468</td>\n",
       "      <td>0.112742</td>\n",
       "      <td>0.096514</td>\n",
       "      <td>1.452921</td>\n",
       "      <td>16.133816</td>\n",
       "      <td>0.222936</td>\n",
       "    </tr>\n",
       "    <tr>\n",
       "      <th>min</th>\n",
       "      <td>10.000000</td>\n",
       "      <td>41.644612</td>\n",
       "      <td>-87.930995</td>\n",
       "      <td>3.000000</td>\n",
       "      <td>1.000000</td>\n",
       "      <td>0.000000</td>\n",
       "    </tr>\n",
       "    <tr>\n",
       "      <th>25%</th>\n",
       "      <td>12.000000</td>\n",
       "      <td>41.732984</td>\n",
       "      <td>-87.760070</td>\n",
       "      <td>8.000000</td>\n",
       "      <td>2.000000</td>\n",
       "      <td>0.000000</td>\n",
       "    </tr>\n",
       "    <tr>\n",
       "      <th>50%</th>\n",
       "      <td>33.000000</td>\n",
       "      <td>41.846283</td>\n",
       "      <td>-87.694991</td>\n",
       "      <td>8.000000</td>\n",
       "      <td>5.000000</td>\n",
       "      <td>0.000000</td>\n",
       "    </tr>\n",
       "    <tr>\n",
       "      <th>75%</th>\n",
       "      <td>52.000000</td>\n",
       "      <td>41.954690</td>\n",
       "      <td>-87.627796</td>\n",
       "      <td>9.000000</td>\n",
       "      <td>17.000000</td>\n",
       "      <td>0.000000</td>\n",
       "    </tr>\n",
       "    <tr>\n",
       "      <th>max</th>\n",
       "      <td>98.000000</td>\n",
       "      <td>42.017430</td>\n",
       "      <td>-87.531635</td>\n",
       "      <td>9.000000</td>\n",
       "      <td>50.000000</td>\n",
       "      <td>1.000000</td>\n",
       "    </tr>\n",
       "  </tbody>\n",
       "</table>\n",
       "</div>"
      ],
      "text/plain": [
       "              Block      Latitude     Longitude  AddressAccuracy  \\\n",
       "count  10506.000000  10506.000000  10506.000000     10506.000000   \n",
       "mean      35.687797     41.841139    -87.699908         7.819532   \n",
       "std       24.339468      0.112742      0.096514         1.452921   \n",
       "min       10.000000     41.644612    -87.930995         3.000000   \n",
       "25%       12.000000     41.732984    -87.760070         8.000000   \n",
       "50%       33.000000     41.846283    -87.694991         8.000000   \n",
       "75%       52.000000     41.954690    -87.627796         9.000000   \n",
       "max       98.000000     42.017430    -87.531635         9.000000   \n",
       "\n",
       "       NumMosquitos    WnvPresent  \n",
       "count  10506.000000  10506.000000  \n",
       "mean      12.853512      0.052446  \n",
       "std       16.133816      0.222936  \n",
       "min        1.000000      0.000000  \n",
       "25%        2.000000      0.000000  \n",
       "50%        5.000000      0.000000  \n",
       "75%       17.000000      0.000000  \n",
       "max       50.000000      1.000000  "
      ]
     },
     "execution_count": 4,
     "metadata": {},
     "output_type": "execute_result"
    }
   ],
   "source": [
    "train.describe()\n",
    "\n",
    "# Chicago: 41.8781° N, 87.6298° W  -- Latitude & Longtitude seems to be in range\n",
    "# Address Accuracy have some low values (3)"
   ]
  },
  {
   "cell_type": "code",
   "execution_count": 5,
   "metadata": {},
   "outputs": [
    {
     "data": {
      "text/plain": [
       "1898"
      ]
     },
     "execution_count": 5,
     "metadata": {},
     "output_type": "execute_result"
    }
   ],
   "source": [
    "train[(train.AddressAccuracy < 8)]['AddressAccuracy'].count()"
   ]
  },
  {
   "cell_type": "code",
   "execution_count": 6,
   "metadata": {},
   "outputs": [],
   "source": [
    "# drop most of the address columns and mainly use longtitude / latitude.  Keep AddressAccuracy for reference\n",
    "train.drop(['Address', 'Block', 'Street', 'AddressNumberAndStreet'], \n",
    "           axis=1, inplace=True)"
   ]
  },
  {
   "cell_type": "code",
   "execution_count": 7,
   "metadata": {},
   "outputs": [
    {
     "data": {
      "text/plain": [
       "135039"
      ]
     },
     "execution_count": 7,
     "metadata": {},
     "output_type": "execute_result"
    }
   ],
   "source": [
    "train['NumMosquitos'].sum()"
   ]
  },
  {
   "cell_type": "code",
   "execution_count": 8,
   "metadata": {},
   "outputs": [
    {
     "data": {
      "text/plain": [
       "0    9955\n",
       "1     551\n",
       "Name: WnvPresent, dtype: int64"
      ]
     },
     "execution_count": 8,
     "metadata": {},
     "output_type": "execute_result"
    }
   ],
   "source": [
    "train['WnvPresent'].value_counts()"
   ]
  },
  {
   "cell_type": "markdown",
   "metadata": {},
   "source": [
    "Then, we will group the records by Date, Species, Trap, Latitude and Longitude "
   ]
  },
  {
   "cell_type": "code",
   "execution_count": 14,
   "metadata": {},
   "outputs": [],
   "source": [
    "train_merged = train.groupby(['Date', 'Species', 'Trap', 'Latitude', 'Longitude','AddressAccuracy']).sum().reset_index()\n",
    "train_merged['WnvPresent'] = (train_merged['WnvPresent'] > 0).astype(int)"
   ]
  },
  {
   "cell_type": "code",
   "execution_count": 15,
   "metadata": {},
   "outputs": [
    {
     "data": {
      "text/plain": [
       "(8475, 8)"
      ]
     },
     "execution_count": 15,
     "metadata": {},
     "output_type": "execute_result"
    }
   ],
   "source": [
    "train_merged.shape"
   ]
  },
  {
   "cell_type": "code",
   "execution_count": 16,
   "metadata": {},
   "outputs": [
    {
     "data": {
      "text/plain": [
       "135039"
      ]
     },
     "execution_count": 16,
     "metadata": {},
     "output_type": "execute_result"
    }
   ],
   "source": [
    "train_merged['NumMosquitos'].sum()"
   ]
  },
  {
   "cell_type": "code",
   "execution_count": 17,
   "metadata": {
    "scrolled": true
   },
   "outputs": [
    {
     "data": {
      "text/plain": [
       "0    8018\n",
       "1     457\n",
       "Name: WnvPresent, dtype: int64"
      ]
     },
     "execution_count": 17,
     "metadata": {},
     "output_type": "execute_result"
    }
   ],
   "source": [
    "train_merged['WnvPresent'].value_counts()    "
   ]
  },
  {
   "cell_type": "markdown",
   "metadata": {},
   "source": [
    "#### Baseline is the majority class [0] at 94.6%"
   ]
  },
  {
   "cell_type": "code",
   "execution_count": 18,
   "metadata": {},
   "outputs": [
    {
     "data": {
      "text/plain": [
       "0    0.946077\n",
       "1    0.053923\n",
       "Name: WnvPresent, dtype: float64"
      ]
     },
     "execution_count": 18,
     "metadata": {},
     "output_type": "execute_result"
    }
   ],
   "source": [
    "# of WNV Present  we have only 5% of the positive class ==> imbalance data!\n",
    "\n",
    "train_merged['WnvPresent'].value_counts(normalize=True)   "
   ]
  },
  {
   "cell_type": "code",
   "execution_count": 19,
   "metadata": {
    "scrolled": true
   },
   "outputs": [
    {
     "data": {
      "text/html": [
       "<div>\n",
       "<style scoped>\n",
       "    .dataframe tbody tr th:only-of-type {\n",
       "        vertical-align: middle;\n",
       "    }\n",
       "\n",
       "    .dataframe tbody tr th {\n",
       "        vertical-align: top;\n",
       "    }\n",
       "\n",
       "    .dataframe thead th {\n",
       "        text-align: right;\n",
       "    }\n",
       "</style>\n",
       "<table border=\"1\" class=\"dataframe\">\n",
       "  <thead>\n",
       "    <tr style=\"text-align: right;\">\n",
       "      <th></th>\n",
       "      <th>count</th>\n",
       "      <th>mean</th>\n",
       "      <th>std</th>\n",
       "      <th>min</th>\n",
       "      <th>25%</th>\n",
       "      <th>50%</th>\n",
       "      <th>75%</th>\n",
       "      <th>max</th>\n",
       "    </tr>\n",
       "  </thead>\n",
       "  <tbody>\n",
       "    <tr>\n",
       "      <th>Latitude</th>\n",
       "      <td>8475.0</td>\n",
       "      <td>41.844618</td>\n",
       "      <td>0.106609</td>\n",
       "      <td>41.644612</td>\n",
       "      <td>41.750498</td>\n",
       "      <td>41.857402</td>\n",
       "      <td>41.944869</td>\n",
       "      <td>42.017430</td>\n",
       "    </tr>\n",
       "    <tr>\n",
       "      <th>Longitude</th>\n",
       "      <td>8475.0</td>\n",
       "      <td>-87.694788</td>\n",
       "      <td>0.084063</td>\n",
       "      <td>-87.930995</td>\n",
       "      <td>-87.752329</td>\n",
       "      <td>-87.694991</td>\n",
       "      <td>-87.642984</td>\n",
       "      <td>-87.531635</td>\n",
       "    </tr>\n",
       "    <tr>\n",
       "      <th>AddressAccuracy</th>\n",
       "      <td>8475.0</td>\n",
       "      <td>7.941239</td>\n",
       "      <td>1.321681</td>\n",
       "      <td>3.000000</td>\n",
       "      <td>8.000000</td>\n",
       "      <td>8.000000</td>\n",
       "      <td>9.000000</td>\n",
       "      <td>9.000000</td>\n",
       "    </tr>\n",
       "    <tr>\n",
       "      <th>NumMosquitos</th>\n",
       "      <td>8475.0</td>\n",
       "      <td>15.933805</td>\n",
       "      <td>75.084707</td>\n",
       "      <td>1.000000</td>\n",
       "      <td>2.000000</td>\n",
       "      <td>4.000000</td>\n",
       "      <td>11.000000</td>\n",
       "      <td>2532.000000</td>\n",
       "    </tr>\n",
       "    <tr>\n",
       "      <th>WnvPresent</th>\n",
       "      <td>8475.0</td>\n",
       "      <td>0.053923</td>\n",
       "      <td>0.225880</td>\n",
       "      <td>0.000000</td>\n",
       "      <td>0.000000</td>\n",
       "      <td>0.000000</td>\n",
       "      <td>0.000000</td>\n",
       "      <td>1.000000</td>\n",
       "    </tr>\n",
       "  </tbody>\n",
       "</table>\n",
       "</div>"
      ],
      "text/plain": [
       "                  count       mean        std        min        25%  \\\n",
       "Latitude         8475.0  41.844618   0.106609  41.644612  41.750498   \n",
       "Longitude        8475.0 -87.694788   0.084063 -87.930995 -87.752329   \n",
       "AddressAccuracy  8475.0   7.941239   1.321681   3.000000   8.000000   \n",
       "NumMosquitos     8475.0  15.933805  75.084707   1.000000   2.000000   \n",
       "WnvPresent       8475.0   0.053923   0.225880   0.000000   0.000000   \n",
       "\n",
       "                       50%        75%          max  \n",
       "Latitude         41.857402  41.944869    42.017430  \n",
       "Longitude       -87.694991 -87.642984   -87.531635  \n",
       "AddressAccuracy   8.000000   9.000000     9.000000  \n",
       "NumMosquitos      4.000000  11.000000  2532.000000  \n",
       "WnvPresent        0.000000   0.000000     1.000000  "
      ]
     },
     "execution_count": 19,
     "metadata": {},
     "output_type": "execute_result"
    }
   ],
   "source": [
    "train_merged.describe().T"
   ]
  },
  {
   "cell_type": "code",
   "execution_count": 20,
   "metadata": {},
   "outputs": [],
   "source": [
    "# NumMostquitos -- max seems strange 2532, shouldn't max be a little over 50 after merging???"
   ]
  },
  {
   "cell_type": "markdown",
   "metadata": {},
   "source": [
    "The Latitude and Longitude range in the train dataset seems to be within range."
   ]
  },
  {
   "cell_type": "code",
   "execution_count": null,
   "metadata": {
    "scrolled": false
   },
   "outputs": [],
   "source": [
    "# add month & year columns\n",
    "train_merged['month'] = pd.DatetimeIndex(train_merged['Date']).month\n",
    "train_merged['year'] = pd.DatetimeIndex(train_merged['Date']).year\n",
    "train_merged.head()"
   ]
  },
  {
   "cell_type": "code",
   "execution_count": null,
   "metadata": {},
   "outputs": [],
   "source": [
    "# set date as index\n",
    "\n",
    "train_merged.set_index('Date', inplace=True)\n",
    "train_merged.sort_index(inplace=True)\n"
   ]
  },
  {
   "cell_type": "code",
   "execution_count": null,
   "metadata": {},
   "outputs": [],
   "source": [
    "# check if the shape is correct\n",
    "train_merged.shape"
   ]
  },
  {
   "cell_type": "code",
   "execution_count": null,
   "metadata": {},
   "outputs": [],
   "source": [
    "train_merged.resample('Y')['NumMosquitos','WnvPresent'].sum()"
   ]
  },
  {
   "cell_type": "code",
   "execution_count": null,
   "metadata": {},
   "outputs": [],
   "source": [
    "def plot_scatter_month(x, y, data, hue=None, xlabel=None, ylabel=None, title=None, figsize=(8,4)):\n",
    "    fig, ax = plt.subplots(figsize=figsize)\n",
    "    ax = sns.scatterplot(y=y, x=x, hue=hue, data=data)\n",
    "    ax.set_xlabel(xlabel, size = 16,alpha=0.8)\n",
    "    ax.set_ylabel(ylabel, size = 16,alpha=0.8)\n",
    "    ax.set_title(title, size=20);\n",
    "    \n",
    "    "
   ]
  },
  {
   "cell_type": "code",
   "execution_count": null,
   "metadata": {},
   "outputs": [],
   "source": [
    "plot_scatter_month('month', 'NumMosquitos',train_merged, # hue='year',  # hue not working for some reason\n",
    "                   xlabel= 'month', ylabel ='number of mosquitos', \n",
    "                   title= \"Number of Mosquitos by Month\")\n",
    "\n"
   ]
  },
  {
   "cell_type": "code",
   "execution_count": null,
   "metadata": {
    "scrolled": true
   },
   "outputs": [],
   "source": [
    "plot_scatter_month('year', 'WnvPresent',train_merged, # hue='year',  # hue not working for some reason\n",
    "                   xlabel= 'year', ylabel ='West Nile Virus detected', \n",
    "                   title= \"Presence of West Nile Virus by Month\", figsize=(8, 4))\n",
    "\n"
   ]
  },
  {
   "cell_type": "code",
   "execution_count": null,
   "metadata": {},
   "outputs": [],
   "source": [
    "def merc(latitude, longtitude):\n",
    "    r_major = 6378137.000\n",
    "    x = r_major * math.radians(longtitude)\n",
    "    scale = x/longtitude\n",
    "    y = 180.0/math.pi * math.log(math.tan(math.pi/4.0 + \n",
    "        latitude * (math.pi/180.0)/2.0)) * scale\n",
    "    return (x, y)"
   ]
  },
  {
   "cell_type": "code",
   "execution_count": null,
   "metadata": {
    "scrolled": true
   },
   "outputs": [],
   "source": [
    "train_merged.head()"
   ]
  },
  {
   "cell_type": "code",
   "execution_count": null,
   "metadata": {
    "scrolled": true
   },
   "outputs": [],
   "source": [
    "# convert latitude & longtitude into coordinates for plotting\n",
    "\n",
    "# for latitude in train_merged['Latitude']:\n",
    "#    for longtitude in train_merged['Longitude']:\n",
    "#        train_merged['coords_x'] = merc(latitude, longtitude)[0]\n",
    "#        train_merged['coords_y'] = merc(latitude, longtitude)[1]\n",
    "\n",
    "\n",
    "# skip -- takes forever to run!!"
   ]
  },
  {
   "cell_type": "code",
   "execution_count": null,
   "metadata": {},
   "outputs": [],
   "source": [
    "train_merged.tail()"
   ]
  },
  {
   "cell_type": "code",
   "execution_count": null,
   "metadata": {
    "scrolled": false
   },
   "outputs": [],
   "source": [
    "\n",
    "tile_provider = get_provider('CARTODBPOSITRON')\n",
    "\n",
    "p = figure(x_range=(-9780000, -9745000), y_range=(5130000, 5160000),\n",
    "           x_axis_type=\"mercator\", y_axis_type=\"mercator\")\n",
    "p.add_tile(tile_provider)\n",
    "#p.circle(x=train_merged['coords_x'],\n",
    "#         y=train_merged['coords_y'], \n",
    "#         size=train_merged['WnvPresent'],\n",
    "#         line_color=\"#FF0000\", \n",
    "#         fill_color=\"#FF0000\",\n",
    "#         fill_alpha=0.05)\n",
    "output_notebook()\n",
    "show(p)\n",
    "\n"
   ]
  },
  {
   "cell_type": "code",
   "execution_count": null,
   "metadata": {
    "scrolled": false
   },
   "outputs": [],
   "source": [
    "train_merged.plot(kind=\"scatter\", x=\"Longitude\", y=\"Latitude\", #c='year',\n",
    "                  s=train_merged['NumMosquitos'], cmap=\"Blues\",\n",
    "                  alpha=0.9, figsize=(10,7));\n",
    "\n",
    "# some of the merged values may not be correct\n"
   ]
  },
  {
   "cell_type": "code",
   "execution_count": null,
   "metadata": {
    "scrolled": false
   },
   "outputs": [],
   "source": [
    "train.plot(kind=\"scatter\", x=\"Longitude\", y=\"Latitude\", #c='year',\n",
    "                  s=train['NumMosquitos'], cmap=\"Blues\",\n",
    "                  alpha=0.9, figsize=(10,7));\n",
    "\n",
    "# some of the merged values may not be correct\n"
   ]
  },
  {
   "cell_type": "code",
   "execution_count": null,
   "metadata": {
    "scrolled": false
   },
   "outputs": [],
   "source": [
    "# plot where WnvPresent\n",
    "\n",
    "train[(train.WnvPresent==1)].plot(kind=\"scatter\", x=\"Longitude\", y=\"Latitude\", c='red')"
   ]
  },
  {
   "cell_type": "markdown",
   "metadata": {},
   "source": [
    "### Main Dataset - Test data set"
   ]
  },
  {
   "cell_type": "code",
   "execution_count": null,
   "metadata": {
    "scrolled": false
   },
   "outputs": [],
   "source": [
    "data_exploration('Main dataset - Test', test)"
   ]
  },
  {
   "cell_type": "markdown",
   "metadata": {},
   "source": [
    "**Observation on Test dataset:**\n",
    "\n",
    "* No null value and duplicated row\n",
    "* Correct data types\n",
    "* As compared to Train dataset, there is no 'NumMosquitos' and 'WnvPresent' (which is the target variable). There is also an 'Id' column which is needed for Kaggle submission."
   ]
  },
  {
   "cell_type": "markdown",
   "metadata": {},
   "source": [
    "Similar to the train data, we will drop the Address columns."
   ]
  },
  {
   "cell_type": "code",
   "execution_count": null,
   "metadata": {},
   "outputs": [],
   "source": [
    "test.drop(['Address', 'Block', 'Street', 'AddressNumberAndStreet'], \n",
    "           axis=1, inplace=True)"
   ]
  },
  {
   "cell_type": "code",
   "execution_count": null,
   "metadata": {},
   "outputs": [],
   "source": [
    "test.shape"
   ]
  },
  {
   "cell_type": "code",
   "execution_count": null,
   "metadata": {},
   "outputs": [],
   "source": [
    "test.describe().T"
   ]
  },
  {
   "cell_type": "markdown",
   "metadata": {},
   "source": [
    "The Latitude and Longitude range in the test dataset seems to be within range."
   ]
  },
  {
   "cell_type": "code",
   "execution_count": null,
   "metadata": {},
   "outputs": [],
   "source": [
    "test.set_index('Date', inplace=True)\n",
    "test.sort_index(inplace=True)\n",
    "test.shape"
   ]
  },
  {
   "cell_type": "markdown",
   "metadata": {},
   "source": [
    "### Spray Dataset"
   ]
  },
  {
   "cell_type": "code",
   "execution_count": null,
   "metadata": {},
   "outputs": [],
   "source": [
    "data_exploration('Spray dataset', spray)"
   ]
  },
  {
   "cell_type": "markdown",
   "metadata": {},
   "source": [
    "**Observation on Spray dataset:**\n",
    "\n",
    "* No missing values in 'Date', 'Latitude', 'Longitude'\n",
    "* 584 missing values for 'Time' \n",
    "* 541 duplicated rows"
   ]
  },
  {
   "cell_type": "markdown",
   "metadata": {},
   "source": [
    "Let's use the Missingno matrix to visualise where are the missing values in the 'Time' column. "
   ]
  },
  {
   "cell_type": "code",
   "execution_count": null,
   "metadata": {},
   "outputs": [],
   "source": [
    "plt.figure(figsize=(15, 8));\n",
    "msno.matrix(spray);\n",
    "plt.title('Missing values in Spray dataset', fontsize=25, y=1.2);"
   ]
  },
  {
   "cell_type": "code",
   "execution_count": null,
   "metadata": {
    "scrolled": true
   },
   "outputs": [],
   "source": [
    "spray[spray['Time'].isnull()]['Date'].value_counts()"
   ]
  },
  {
   "cell_type": "markdown",
   "metadata": {},
   "source": [
    "All missing values for 'Time' belong to records on the date 2011-09-07. The Time feature may or may not be used for modelling. Let's keep in view to see if we need to impute the missing values."
   ]
  },
  {
   "cell_type": "markdown",
   "metadata": {},
   "source": [
    "Let's also take a look at the duplicated rows."
   ]
  },
  {
   "cell_type": "code",
   "execution_count": null,
   "metadata": {
    "scrolled": true
   },
   "outputs": [],
   "source": [
    "spray[spray.duplicated(subset=None)].sort_values('Date').head()"
   ]
  },
  {
   "cell_type": "code",
   "execution_count": null,
   "metadata": {
    "scrolled": true
   },
   "outputs": [],
   "source": [
    "spray[spray.duplicated(subset=None)]['Date'].value_counts()"
   ]
  },
  {
   "cell_type": "markdown",
   "metadata": {},
   "source": [
    "All duplicated rows are also records on the date 2011-09-07."
   ]
  },
  {
   "cell_type": "markdown",
   "metadata": {},
   "source": [
    "Let's go ahead and drop the duplicated rows."
   ]
  },
  {
   "cell_type": "code",
   "execution_count": null,
   "metadata": {},
   "outputs": [],
   "source": [
    "spray.drop_duplicates(subset=None, keep='first', inplace=True)"
   ]
  },
  {
   "cell_type": "code",
   "execution_count": null,
   "metadata": {
    "scrolled": true
   },
   "outputs": [],
   "source": [
    "spray.shape"
   ]
  },
  {
   "cell_type": "code",
   "execution_count": null,
   "metadata": {
    "scrolled": false
   },
   "outputs": [],
   "source": [
    "spray.describe().T"
   ]
  },
  {
   "cell_type": "code",
   "execution_count": null,
   "metadata": {},
   "outputs": [],
   "source": [
    "spray.set_index('Date', inplace=True)\n",
    "spray.sort_index(inplace=True)"
   ]
  },
  {
   "cell_type": "code",
   "execution_count": null,
   "metadata": {},
   "outputs": [],
   "source": [
    "spray.shape"
   ]
  },
  {
   "cell_type": "markdown",
   "metadata": {},
   "source": [
    "Latitude and Longitude seem to be within range."
   ]
  },
  {
   "cell_type": "code",
   "execution_count": null,
   "metadata": {},
   "outputs": [],
   "source": [
    "# fig, ax = plt.subplots(nrows=1, ncols=1, figsize=(10,7), sharex=True, sharey=True)\n",
    "# ax.plot(data=train_merged['2011'], kind=\"scatter\", x=[\"Longitude\"], y=[\"Latitude\"], \n",
    "#         s=train_merged['2011']['NumMosquitos'], c='royalblue', alpha=0.9)\n",
    "# ax.plot(data=spray['2011'], kind=\"scatter\", x=[\"Longitude\"], y=[\"Latitude\"], c=\"firebrick\",\n",
    "#                  alpha=0.9, figsize=(10,7));\n",
    "\n",
    "# some of the merged values may not be correct\n",
    "\n"
   ]
  },
  {
   "cell_type": "code",
   "execution_count": null,
   "metadata": {},
   "outputs": [],
   "source": [
    "\n",
    "train_merged['2011'].plot(kind=\"scatter\", x=\"Longitude\", y=\"Latitude\", \n",
    "                  s=train_merged['2011']['NumMosquitos'], c='royalblue',\n",
    "                  alpha=0.9, figsize=(10,7));\n",
    "plt.gca()\n",
    "spray['2011'].plot(kind=\"scatter\", x=\"Longitude\", y=\"Latitude\", c=\"firebrick\",\n",
    "                  alpha=0.9, figsize=(10,7));\n",
    "\n",
    "# some of the merged values may not be correct\n",
    "\n"
   ]
  },
  {
   "cell_type": "code",
   "execution_count": null,
   "metadata": {},
   "outputs": [],
   "source": []
  },
  {
   "cell_type": "markdown",
   "metadata": {},
   "source": [
    "### Weather dataset"
   ]
  },
  {
   "cell_type": "code",
   "execution_count": null,
   "metadata": {
    "scrolled": false
   },
   "outputs": [],
   "source": [
    "data_exploration('Weather dataset', weather)"
   ]
  },
  {
   "cell_type": "markdown",
   "metadata": {},
   "source": [
    "**Observations on Weather dataset:**\n",
    "\n",
    "* While there is seemingly no null value, the data dictionary stated that missing values are marked with 'M'.\n",
    "\n",
    "* For the column SnowFall and PrecipTotal, trace values are marked with ' T'.\n",
    "\n",
    "* For the column CodeSum, a blank refers to 'Moderate' according to the data dictionary\n",
    "\n",
    "* Several columns have object data type when the values should be numeric, e.g. Tavg, Depart, WelBulb, Heat, Cool, Depth, Water1, SnowFall, PrecipTotal, StnPressure, SeaLevel, AvgSpeed\n",
    "\n",
    "* Sunrise and Sunset should be time (in HH:MM) but currently are in object data types.\n",
    "\n",
    "* No duplicated row"
   ]
  },
  {
   "cell_type": "code",
   "execution_count": null,
   "metadata": {},
   "outputs": [],
   "source": [
    "weather['SnowFall'].unique()"
   ]
  },
  {
   "cell_type": "code",
   "execution_count": null,
   "metadata": {
    "scrolled": false
   },
   "outputs": [],
   "source": [
    "weather['PrecipTotal'].unique()"
   ]
  },
  {
   "cell_type": "markdown",
   "metadata": {},
   "source": [
    "For Trace value ' T', we can consider imputing with a small value below 0.01, e.g. 0.005."
   ]
  },
  {
   "cell_type": "code",
   "execution_count": null,
   "metadata": {},
   "outputs": [],
   "source": [
    "for col in weather.columns:\n",
    "    weather[col].replace('M', np.nan, inplace=True)      # for columns using 'M' for missing values\n",
    "    weather[col].replace('  T', 0.005, inplace=True)     # for SnowFall and PrecipTotal columns \n",
    "    weather[col].replace('-', np.nan, inplace=True)      # for Sunrise and Sunset columns\n",
    "    weather[col].replace(' ', 'Moderate',inplace=True)   # for CodeSum column"
   ]
  },
  {
   "cell_type": "code",
   "execution_count": null,
   "metadata": {
    "scrolled": true
   },
   "outputs": [],
   "source": [
    "weather.head()"
   ]
  },
  {
   "cell_type": "markdown",
   "metadata": {},
   "source": [
    "Now that the values are corrected, let's check for missing values again."
   ]
  },
  {
   "cell_type": "code",
   "execution_count": null,
   "metadata": {},
   "outputs": [],
   "source": [
    "weather.isnull().agg(['sum', 'mean']).T.sort_values('sum', ascending=False)"
   ]
  },
  {
   "cell_type": "markdown",
   "metadata": {},
   "source": [
    "**Further observations:**\n",
    "\n",
    "* Water1 have missing values in all records.\n",
    "* Sunrise, Sunset, Depth, Depart, SnowFall have missing values in half of the records (which we will take a look from which station)\n",
    "* Handful of missing values in Tavg, Heat, Cool, SeaLevel, StnPressure, WetBulb, AvgSpeed and PrecipTotal"
   ]
  },
  {
   "cell_type": "markdown",
   "metadata": {},
   "source": [
    "Let's check for missing values by Station."
   ]
  },
  {
   "cell_type": "code",
   "execution_count": null,
   "metadata": {},
   "outputs": [],
   "source": [
    "msno.matrix(weather[weather['Station'] == 1]);\n",
    "plt.title('Missing values in Weather dataset for Station 1', fontsize=24, y=1.15);"
   ]
  },
  {
   "cell_type": "code",
   "execution_count": null,
   "metadata": {},
   "outputs": [],
   "source": [
    "msno.matrix(weather[weather['Station'] == 2]);\n",
    "plt.title('Missing values in Weather dataset for Station 2', fontsize=24, y=1.15);"
   ]
  },
  {
   "cell_type": "markdown",
   "metadata": {},
   "source": [
    "**Observation:**\n",
    "\n",
    "* Missing values in Depart, Sunrise, Sunset, Depth and SnowFall are contributed by Station 2 (1472 records).\n",
    "\n",
    "* Water1 values are missing for both Stations."
   ]
  },
  {
   "cell_type": "markdown",
   "metadata": {},
   "source": [
    "#### Missing values in Water1\n",
    "\n",
    "All are missing values, so we can drop this."
   ]
  },
  {
   "cell_type": "code",
   "execution_count": null,
   "metadata": {},
   "outputs": [],
   "source": [
    "weather.drop(columns = 'Water1', inplace=True)"
   ]
  },
  {
   "cell_type": "code",
   "execution_count": null,
   "metadata": {},
   "outputs": [],
   "source": [
    "weather.shape"
   ]
  },
  {
   "cell_type": "markdown",
   "metadata": {},
   "source": [
    "#### Missing values in Tavg"
   ]
  },
  {
   "cell_type": "markdown",
   "metadata": {},
   "source": [
    "Let's impute the missing values for Tavg by taking average of the day's maximum temperature (Tmax) and minimum temperature (Tmin)."
   ]
  },
  {
   "cell_type": "code",
   "execution_count": null,
   "metadata": {},
   "outputs": [],
   "source": [
    "weather['Tavg'].fillna(((weather['Tmax'] + weather['Tmin'])/2),inplace=True)"
   ]
  },
  {
   "cell_type": "code",
   "execution_count": null,
   "metadata": {},
   "outputs": [],
   "source": [
    "# convert to integer data type to align to Tmax and Tmin\n",
    "weather['Tavg'] = weather['Tavg'].astype('int64')"
   ]
  },
  {
   "cell_type": "markdown",
   "metadata": {},
   "source": [
    "#### Missing values in WetBulb"
   ]
  },
  {
   "cell_type": "code",
   "execution_count": null,
   "metadata": {},
   "outputs": [],
   "source": [
    "weather.WetBulb = weather.WetBulb.astype(float)"
   ]
  },
  {
   "cell_type": "code",
   "execution_count": null,
   "metadata": {
    "scrolled": true
   },
   "outputs": [],
   "source": [
    "# we may need to convert to humidity if it works better with mosquito breeding patterns"
   ]
  },
  {
   "cell_type": "markdown",
   "metadata": {},
   "source": [
    "WetBulb and DewPoint are measurements of humidity:\n",
    "\n",
    "**Dry Bulb** Temperature refers basically to the ambient air temperature. \n",
    "\n",
    "**Wet Bulb** Temperature is the adiabatic saturation temperature, and can be measured by using a thermometer with the bulb wrapped in wet muslin. The temperature difference between the dry bulb and wet bulb, depends on the humidity of the air. The Wet Bulb temperature is always between the Dry Bulb temperature and the Dew Point. \n",
    "\n",
    "**Dew Point** is the temperature where water vapor starts to condense out of the air (the temperature at which air becomes completely saturated). if the dew-point temperature is close to the dry air temperature -  the relative humidity is high if the dew point is well below the dry air temperature - the relative humidity is low\n",
    "\n",
    "https://www.engineeringtoolbox.com/dry-wet-bulb-dew-point-air-d_682.html"
   ]
  },
  {
   "cell_type": "code",
   "execution_count": null,
   "metadata": {},
   "outputs": [],
   "source": [
    "weather[weather['WetBulb'].isnull()]"
   ]
  },
  {
   "cell_type": "markdown",
   "metadata": {},
   "source": [
    "Let's use data from the other station to fill missing values in WetBulb (which is in consecutive rows). For example, the data for '2009-06-26 are in record 848 (for Station 1) and 849 (for Station 2).\n",
    "\n",
    "<span style='color:darkviolet'> Let's fill the WetBulb as mid point between Tavg and DewPoint = (Tavg + DewPoint) / 2</span>"
   ]
  },
  {
   "cell_type": "code",
   "execution_count": null,
   "metadata": {},
   "outputs": [],
   "source": [
    "wetbulb_na = weather[weather['WetBulb'].isnull()].index\n",
    "\n",
    "for i in wetbulb_na:\n",
    "    weather.loc[i,'WetBulb'] = (weather.loc[i,'Tavg'] + weather.loc[i,'DewPoint']) /2\n",
    "    \n",
    "weather[weather['WetBulb'].isnull()]"
   ]
  },
  {
   "cell_type": "code",
   "execution_count": null,
   "metadata": {
    "scrolled": false
   },
   "outputs": [],
   "source": [
    "weather.isnull().sum().sort_values(ascending=False)"
   ]
  },
  {
   "cell_type": "markdown",
   "metadata": {},
   "source": [
    "#### Missing Values in Heat and Cool columns"
   ]
  },
  {
   "cell_type": "code",
   "execution_count": null,
   "metadata": {},
   "outputs": [],
   "source": [
    "weather[weather['Heat'].isnull()]"
   ]
  },
  {
   "cell_type": "code",
   "execution_count": null,
   "metadata": {},
   "outputs": [],
   "source": [
    "# fill station 2 missing values with station 1 data\n",
    "weather['Heat'].fillna(method='ffill', inplace=True)\n",
    "weather['Cool'].fillna(method='ffill', inplace=True)"
   ]
  },
  {
   "cell_type": "markdown",
   "metadata": {},
   "source": [
    "#### Missing Values in SeaLevel"
   ]
  },
  {
   "cell_type": "markdown",
   "metadata": {},
   "source": [
    "<span style='color:darkviolet'> Sea Level is usually the same for the 2 stations on a particular day.  Let's fill the missing SeaLevel values for station 2 using station 1, and vice versa.</span>"
   ]
  },
  {
   "cell_type": "code",
   "execution_count": null,
   "metadata": {},
   "outputs": [],
   "source": [
    "# SeaLevel is usually the same for station 1&2 on a particular day.  \n",
    "\n",
    "weather[['Station','Date','SeaLevel']].head(10)"
   ]
  },
  {
   "cell_type": "code",
   "execution_count": null,
   "metadata": {
    "scrolled": false
   },
   "outputs": [],
   "source": [
    "weather[weather['SeaLevel'].isnull()]"
   ]
  },
  {
   "cell_type": "code",
   "execution_count": null,
   "metadata": {},
   "outputs": [],
   "source": [
    "def fill_cross_stations(df, column):\n",
    "    na = df[df[column].isnull()].index\n",
    "    for i in na:\n",
    "        if df.loc[i,'Station'] == 1: \n",
    "            weather.loc[i, column] = weather.loc[i+1,column]\n",
    "        elif df.loc[i,'Station'] == 2:\n",
    "            weather.loc[i, column] = weather.loc[i-1,column]\n",
    "            "
   ]
  },
  {
   "cell_type": "code",
   "execution_count": null,
   "metadata": {},
   "outputs": [],
   "source": [
    "# fill na for station 1 with station 2, and vice versa\n",
    "\n",
    "fill_cross_stations(weather, 'SeaLevel')"
   ]
  },
  {
   "cell_type": "code",
   "execution_count": null,
   "metadata": {
    "scrolled": true
   },
   "outputs": [],
   "source": [
    "# check if filled correctly for na in station 1 (index 832)\n",
    "weather.loc[832:833,['Station','Date','SeaLevel']]"
   ]
  },
  {
   "cell_type": "code",
   "execution_count": null,
   "metadata": {
    "scrolled": true
   },
   "outputs": [],
   "source": [
    "# check if filled correctly for na in station 2 (index 87)\n",
    "weather.loc[86:87,['Station','Date','SeaLevel']]"
   ]
  },
  {
   "cell_type": "markdown",
   "metadata": {},
   "source": [
    "#### Missing Values in StnPressure, AvgSpeed, PrecipTotal\n",
    "\n",
    "<span style='color:darkviolet'> Similar to Sea Level, the StnPressure is usually similar for the 2 stations on a particular day.  Let's fill the missing values for station 2 using station 1, and vice versa.</span>"
   ]
  },
  {
   "cell_type": "code",
   "execution_count": null,
   "metadata": {},
   "outputs": [],
   "source": [
    "# StnPressure seems to be closer for station 1 & 2 on a particular day vs. same station previous day\n",
    "# find mean diff between station 1 & station 2 is 0.00014986376021798166 so we can impute with Sta"
   ]
  },
  {
   "cell_type": "code",
   "execution_count": null,
   "metadata": {
    "scrolled": true
   },
   "outputs": [],
   "source": [
    "weather[['Station','Date','StnPressure','AvgSpeed','PrecipTotal']].head(10)"
   ]
  },
  {
   "cell_type": "code",
   "execution_count": null,
   "metadata": {},
   "outputs": [],
   "source": [
    "weather.StnPressure = weather.StnPressure.astype(float)\n",
    "weather.AvgSpeed = weather.AvgSpeed.astype(float)\n",
    "weather.PrecipTotal = weather.PrecipTotal.astype(float)"
   ]
  },
  {
   "cell_type": "code",
   "execution_count": null,
   "metadata": {
    "scrolled": true
   },
   "outputs": [],
   "source": [
    "weather['StnPressure_diff'] = weather['StnPressure'] - weather['StnPressure'].shift()\n",
    "weather['StnPressure_diff'].mean()"
   ]
  },
  {
   "cell_type": "code",
   "execution_count": null,
   "metadata": {},
   "outputs": [],
   "source": [
    "weather.drop(columns = 'StnPressure_diff',inplace=True)"
   ]
  },
  {
   "cell_type": "code",
   "execution_count": null,
   "metadata": {},
   "outputs": [],
   "source": [
    "# fill na for station 1 with station 2, and vice versa\n",
    "\n",
    "fill_cross_stations(weather, 'StnPressure')\n",
    "\n",
    "# where both station 1 & 2 are null, fill with previous day data\n",
    "\n",
    "stnpressure_na = weather[weather['StnPressure'].isnull()].index\n",
    "for i in stnpressure_na:\n",
    "    weather.loc[i,'StnPressure'] = weather.loc[i-2,'StnPressure']"
   ]
  },
  {
   "cell_type": "code",
   "execution_count": null,
   "metadata": {},
   "outputs": [],
   "source": [
    "# fill na for station 1 with station 2, and vice versa\n",
    "\n",
    "fill_cross_stations(weather, 'AvgSpeed')\n",
    "fill_cross_stations(weather, 'PrecipTotal')"
   ]
  },
  {
   "cell_type": "code",
   "execution_count": null,
   "metadata": {},
   "outputs": [],
   "source": [
    "# checking the remaining null values after cleaning\n",
    "weather.isnull().agg(['sum', 'mean']).T.sort_values('sum', ascending=False)"
   ]
  },
  {
   "cell_type": "code",
   "execution_count": null,
   "metadata": {
    "scrolled": true
   },
   "outputs": [],
   "source": [
    "weather[['Station','Date','Sunrise','Sunset','Depart','SnowFall','Depth']].head(10)"
   ]
  },
  {
   "cell_type": "code",
   "execution_count": null,
   "metadata": {},
   "outputs": [],
   "source": [
    "# do we just fill station 2 same as station 1???\n",
    "\n",
    "# weather['Sunrise'].fillna(method='ffill', inplace=True)\n",
    "# weather['Sunset'].fillna(method='ffill', inplace=True)\n",
    "# weather['Depart'].fillna(method='ffill', inplace=True)\n",
    "# weather['SnowFall'].fillna(method='ffill', inplace=True)\n",
    "# weather['Depth'].fillna(method='ffill', inplace=True)\n",
    "\n",
    "weather.head()"
   ]
  },
  {
   "cell_type": "code",
   "execution_count": null,
   "metadata": {
    "scrolled": true
   },
   "outputs": [],
   "source": [
    "# checking the remaining null values after cleaning\n",
    "weather.isnull().agg(['sum', 'mean']).T.sort_values('sum', ascending=False)"
   ]
  },
  {
   "cell_type": "code",
   "execution_count": null,
   "metadata": {},
   "outputs": [],
   "source": [
    "msno.matrix(weather[weather['Station'] == 1]);\n",
    "plt.title('Missing values in Weather dataset for Station 1', fontsize=24, y=1.15);"
   ]
  },
  {
   "cell_type": "code",
   "execution_count": null,
   "metadata": {},
   "outputs": [],
   "source": [
    "msno.matrix(weather[weather['Station'] == 2]);\n",
    "plt.title('Missing values in Weather dataset for Station 1', fontsize=24, y=1.15);"
   ]
  },
  {
   "cell_type": "code",
   "execution_count": null,
   "metadata": {},
   "outputs": [],
   "source": [
    "weather.set_index('Date', inplace=True)\n",
    "weather.sort_index(inplace=True)\n",
    "weather.shape"
   ]
  },
  {
   "cell_type": "markdown",
   "metadata": {},
   "source": [
    "### Distrbution of Data by Date across Datasets"
   ]
  },
  {
   "cell_type": "markdown",
   "metadata": {},
   "source": [
    "Let's look at the distribution of data points by date for the 4 datasets."
   ]
  },
  {
   "cell_type": "code",
   "execution_count": null,
   "metadata": {},
   "outputs": [],
   "source": [
    "# plot histogram subplots to compare the date range across the 4 data sets\n",
    "fig, ax = plt.subplots(nrows=4, figsize=(15,14), sharex=True)\n",
    "\n",
    "df_list = [train_merged, test, spray, weather] # List of our dataframes\n",
    "title_list = ['Train', 'Test', 'Spray', 'Weather']\n",
    "\n",
    "for i, df in enumerate(df_list):\n",
    "    ax[i].hist(df.index, bins=100, color='cornflowerblue')\n",
    "    ax[i].set_title('Distribution of data points by Date in ' + str(title_list[i]), size=15, y=1.01)\n",
    "    ax[i].set_ylabel('Frequency')\n",
    "    ax[i].set_xlabel('Year')\n",
    "\n",
    "plt.tight_layout()"
   ]
  },
  {
   "cell_type": "markdown",
   "metadata": {},
   "source": [
    "**Observations:**\n",
    "\n",
    "* For the main dataset, we have data from 2007, 2009, 2011 and 2013 in the train dataset, and data from 2008, 2010, 2012 and 2014 in the test dataset.\n",
    "\n",
    "* For the spray data, the dataset only contains information about spray effort in 2011 and 2013.\n",
    "\n",
    "* As for weather data, we have data from 2007 to 2014."
   ]
  },
  {
   "cell_type": "code",
   "execution_count": null,
   "metadata": {},
   "outputs": [],
   "source": []
  },
  {
   "cell_type": "code",
   "execution_count": null,
   "metadata": {},
   "outputs": [],
   "source": []
  }
 ],
 "metadata": {
  "kernelspec": {
   "display_name": "Python 3",
   "language": "python",
   "name": "python3"
  },
  "language_info": {
   "codemirror_mode": {
    "name": "ipython",
    "version": 3
   },
   "file_extension": ".py",
   "mimetype": "text/x-python",
   "name": "python",
   "nbconvert_exporter": "python",
   "pygments_lexer": "ipython3",
   "version": "3.8.3"
  }
 },
 "nbformat": 4,
 "nbformat_minor": 4
}
