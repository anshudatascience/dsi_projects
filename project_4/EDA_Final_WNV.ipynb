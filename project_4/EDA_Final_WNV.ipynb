{
 "cells": [
  {
   "cell_type": "markdown",
   "metadata": {},
   "source": [
    "## Problem Statement\n",
    "\n",
    " - We have a Goal to predict the more accurate method of predicting outbreaks of West Nile virus in mosquitos will help the City of Chicago and CPHD more efficiently and effectively allocate resources towards preventing transmission of this potentially deadly virus."
   ]
  },
  {
   "cell_type": "markdown",
   "metadata": {},
   "source": [
    "##  Executive Summary\n",
    "\n",
    "In 2002, the first human cases of West nile virus were reported and CDPH(Chicago Department of Public Health has established a comprehensive surveillance and control program that is still in effect today. The traps collects mosquitos, and the mosquitos are tested for the presence of West Nile virus before the end of the week. The traps are placed at specific location every year. Every week from late spring through the fall, mosquitos in traps across the city are tested for the virus. The results of these tests influence when and where the city will spray airborne pesticides to control adult mosquito populations.\n",
    "\n",
    "- Some traps are \"satellite traps\". These are traps that are set up near (usually within 6 blocks) an established trap to enhance surveillance efforts. Satellite traps are postfixed with letters. For example, T220A is a satellite trap to T220.\n",
    "- Goal over here is to predict the more accurate method of predicting outbreaks of West Nile virus in mosquitos will help the City of Chicago and CPHD more efficiently and effectively allocate resources towards preventing transmission of this potentially deadly virus.\n"
   ]
  },
  {
   "cell_type": "markdown",
   "metadata": {},
   "source": [
    "## Data Dictionary\n",
    "\n",
    "#### Weather dataset has Station 1 and Station 2 weather information \n",
    "`'Station 1: CHICAGO O'HARE INTERNATIONAL AIRPORT Lat: 41.995 Lon: -87.933 Elev:662 ft.above sea level'`\\\n",
    "\n",
    "'`Station 2: CHICAGO MIDWAY INTL ARPT Lat: 41.786 Lon: -87.752 Elev: 612 ft. above sea level'`\n",
    "\n",
    "Dataset used in thie project is included as train.csv and weather.csv..\n",
    "\n",
    "train.csv - `'2007, 2009, 2011,2013'`\n",
    "\n",
    "- `'Id'`: the id of the record -Test only \n",
    "- `'Date'`: date that the WNV test is performed\n",
    "- `'Address'`: approximate address of the location of trap. This is used to send to the GeoCoder.\n",
    "- `'Species'`: the species of mosquitos\n",
    "- `'Block'`: block number of address\n",
    "- `'Street'`: street name\n",
    "- `'Trap'`: Id of the trap\n",
    "- `'AddressNumberAndStreet'`: approximate address returned from GeoCoder\n",
    "- `'Latitude, Longitude: Latitude and Longitude'` returned from GeoCoder\n",
    "- `'AddressAccuracy'`: accuracy returned from GeoCoder\n",
    "- `'NumMosquitos'`: number of mosquitoes caught in this trap\n",
    "- `'WnvPresent'`: whether West Nile Virus was present in these mosquitos. 1 means WNV is present, and 0 means not present.\n",
    "\n",
    "Test Data - `'2008,2010,2012,2014'`\n",
    "-  `'Id'`: the id of the record \n",
    "- `'Date'`: date that the WNV test is performed\n",
    "- `'Address'`: approximate address of the location of trap. This is used to send to the GeoCoder.\n",
    "- `'Species'`: the species of mosquitos\n",
    "- `'Block'`: block number of address\n",
    "- `'Street'`: street name\n",
    "- `'Trap'`: Id of the trap\n",
    "- `'AddressNumberAndStreet'`: approximate address returned from GeoCoder\n",
    "- `'Latitude, Longitude: Latitude and Longitude'` returned from GeoCoder\n",
    "- `'AddressAccuracy'`: accuracy returned from GeoCoder\n",
    "\n",
    "Weather Data - `'2007 to 2014'`\n",
    "- `'Station'`: station ID\n",
    "- `'Date'`: date of weather recorded\n",
    "- `'Tmax, Tmin'`, Tave: temperature in Fahrenheit\n",
    "- `'Depart'`: departure from normal\n",
    "- `'DewPoint'`: average dew point\n",
    "- `'WetBulb'`: average wet bulb\n",
    "- `'Heat, Cool'`: index\n",
    "- `'Sunrise, Sunset'`: calculated, not observed\n",
    "- `'PrecipTotal'`: precipitation in inches\n",
    "- `'SnowFall'`: snow on ground in inches\n",
    "- `'StnPressure'`: average station pressure\n",
    "- `'Sealevel'`: average seal level pressure\n",
    "- `'ResultSpeed, ResultDir, AvgSpeed'`: wind speed in mph, direction in degrees\n",
    "\n",
    "Spray Data `'2011,2013'`\n",
    "- `'Date'`: date of spray\n",
    "- `'Time'`: time of spray\n",
    "- `'Latitude'`: latitude of spray\n",
    "- `'Longitude'`: longitude of spray"
   ]
  },
  {
   "cell_type": "code",
   "execution_count": 1,
   "metadata": {},
   "outputs": [],
   "source": [
    "import pandas as pd\n",
    "import numpy as np\n",
    "import seaborn as sns\n",
    "import matplotlib.pyplot as plt\n",
    "pd.set_option('max_columns', 999)\n",
    "pd.set_option('max_rows', 999)\n",
    "\n",
    "from math import radians, sin, cos, atan2, sqrt\n",
    "\n",
    "%matplotlib inline"
   ]
  },
  {
   "cell_type": "code",
   "execution_count": 2,
   "metadata": {
    "scrolled": true
   },
   "outputs": [],
   "source": [
    "# Read the datasets\n",
    "train = pd.read_csv('./data/train.csv')\n",
    "test = pd.read_csv('./data/test.csv')\n",
    "spray = pd.read_csv('./data/spray.csv')\n",
    "weather=pd.read_csv('./data/weather.csv')"
   ]
  },
  {
   "cell_type": "code",
   "execution_count": 3,
   "metadata": {},
   "outputs": [
    {
     "name": "stdout",
     "output_type": "stream",
     "text": [
      "train shape(10506, 12)\n",
      "test shape(116293, 11)\n",
      "weather shape(2944, 22)\n",
      "spray shape(14835, 4)\n"
     ]
    }
   ],
   "source": [
    "# Shape of the datasets available\n",
    "print('train shape{}' .format(train.shape))\n",
    "print('test shape{}'.format(test.shape))\n",
    "print('weather shape{}' .format(weather.shape))\n",
    "print('spray shape{}' .format(spray.shape))"
   ]
  },
  {
   "cell_type": "code",
   "execution_count": 4,
   "metadata": {
    "scrolled": true
   },
   "outputs": [
    {
     "name": "stdout",
     "output_type": "stream",
     "text": [
      "Train null valuesDate                      0\n",
      "Address                   0\n",
      "Species                   0\n",
      "Block                     0\n",
      "Street                    0\n",
      "Trap                      0\n",
      "AddressNumberAndStreet    0\n",
      "Latitude                  0\n",
      "Longitude                 0\n",
      "AddressAccuracy           0\n",
      "NumMosquitos              0\n",
      "WnvPresent                0\n",
      "dtype: int64\n",
      "------------------------------------------------\n",
      "Test null valuesDate                      0\n",
      "Address                   0\n",
      "Species                   0\n",
      "Block                     0\n",
      "Street                    0\n",
      "Trap                      0\n",
      "AddressNumberAndStreet    0\n",
      "Latitude                  0\n",
      "Longitude                 0\n",
      "AddressAccuracy           0\n",
      "NumMosquitos              0\n",
      "WnvPresent                0\n",
      "dtype: int64\n",
      "------------------------------------------------\n",
      "Weather null valuesDate                      0\n",
      "Address                   0\n",
      "Species                   0\n",
      "Block                     0\n",
      "Street                    0\n",
      "Trap                      0\n",
      "AddressNumberAndStreet    0\n",
      "Latitude                  0\n",
      "Longitude                 0\n",
      "AddressAccuracy           0\n",
      "NumMosquitos              0\n",
      "WnvPresent                0\n",
      "dtype: int64\n",
      "------------------------------------------------\n",
      "Spray null valuesDate                      0\n",
      "Address                   0\n",
      "Species                   0\n",
      "Block                     0\n",
      "Street                    0\n",
      "Trap                      0\n",
      "AddressNumberAndStreet    0\n",
      "Latitude                  0\n",
      "Longitude                 0\n",
      "AddressAccuracy           0\n",
      "NumMosquitos              0\n",
      "WnvPresent                0\n",
      "dtype: int64\n"
     ]
    }
   ],
   "source": [
    "# finding the null values in the datasets \n",
    "print('Train null values{}' .format(train.isnull().sum()))\n",
    "print('------------------------------------------------')\n",
    "print('Test null values{}' .format(train.isnull().sum()))\n",
    "print('------------------------------------------------')\n",
    "print('Weather null values{}' .format(train.isnull().sum()))\n",
    "print('------------------------------------------------')\n",
    "print('Spray null values{}' .format(train.isnull().sum()))"
   ]
  },
  {
   "cell_type": "code",
   "execution_count": 5,
   "metadata": {
    "scrolled": false
   },
   "outputs": [
    {
     "data": {
      "text/html": [
       "<div>\n",
       "<style scoped>\n",
       "    .dataframe tbody tr th:only-of-type {\n",
       "        vertical-align: middle;\n",
       "    }\n",
       "\n",
       "    .dataframe tbody tr th {\n",
       "        vertical-align: top;\n",
       "    }\n",
       "\n",
       "    .dataframe thead th {\n",
       "        text-align: right;\n",
       "    }\n",
       "</style>\n",
       "<table border=\"1\" class=\"dataframe\">\n",
       "  <thead>\n",
       "    <tr style=\"text-align: right;\">\n",
       "      <th></th>\n",
       "      <th>Date</th>\n",
       "      <th>Address</th>\n",
       "      <th>Species</th>\n",
       "      <th>Block</th>\n",
       "      <th>Street</th>\n",
       "      <th>Trap</th>\n",
       "      <th>AddressNumberAndStreet</th>\n",
       "      <th>Latitude</th>\n",
       "      <th>Longitude</th>\n",
       "      <th>AddressAccuracy</th>\n",
       "      <th>NumMosquitos</th>\n",
       "      <th>WnvPresent</th>\n",
       "    </tr>\n",
       "  </thead>\n",
       "  <tbody>\n",
       "    <tr>\n",
       "      <th>0</th>\n",
       "      <td>2007-05-29</td>\n",
       "      <td>4100 North Oak Park Avenue, Chicago, IL 60634,...</td>\n",
       "      <td>CULEX PIPIENS/RESTUANS</td>\n",
       "      <td>41</td>\n",
       "      <td>N OAK PARK AVE</td>\n",
       "      <td>T002</td>\n",
       "      <td>4100  N OAK PARK AVE, Chicago, IL</td>\n",
       "      <td>41.954690</td>\n",
       "      <td>-87.800991</td>\n",
       "      <td>9</td>\n",
       "      <td>1</td>\n",
       "      <td>0</td>\n",
       "    </tr>\n",
       "    <tr>\n",
       "      <th>1</th>\n",
       "      <td>2007-05-29</td>\n",
       "      <td>4100 North Oak Park Avenue, Chicago, IL 60634,...</td>\n",
       "      <td>CULEX RESTUANS</td>\n",
       "      <td>41</td>\n",
       "      <td>N OAK PARK AVE</td>\n",
       "      <td>T002</td>\n",
       "      <td>4100  N OAK PARK AVE, Chicago, IL</td>\n",
       "      <td>41.954690</td>\n",
       "      <td>-87.800991</td>\n",
       "      <td>9</td>\n",
       "      <td>1</td>\n",
       "      <td>0</td>\n",
       "    </tr>\n",
       "    <tr>\n",
       "      <th>2</th>\n",
       "      <td>2007-05-29</td>\n",
       "      <td>6200 North Mandell Avenue, Chicago, IL 60646, USA</td>\n",
       "      <td>CULEX RESTUANS</td>\n",
       "      <td>62</td>\n",
       "      <td>N MANDELL AVE</td>\n",
       "      <td>T007</td>\n",
       "      <td>6200  N MANDELL AVE, Chicago, IL</td>\n",
       "      <td>41.994991</td>\n",
       "      <td>-87.769279</td>\n",
       "      <td>9</td>\n",
       "      <td>1</td>\n",
       "      <td>0</td>\n",
       "    </tr>\n",
       "    <tr>\n",
       "      <th>3</th>\n",
       "      <td>2007-05-29</td>\n",
       "      <td>7900 West Foster Avenue, Chicago, IL 60656, USA</td>\n",
       "      <td>CULEX PIPIENS/RESTUANS</td>\n",
       "      <td>79</td>\n",
       "      <td>W FOSTER AVE</td>\n",
       "      <td>T015</td>\n",
       "      <td>7900  W FOSTER AVE, Chicago, IL</td>\n",
       "      <td>41.974089</td>\n",
       "      <td>-87.824812</td>\n",
       "      <td>8</td>\n",
       "      <td>1</td>\n",
       "      <td>0</td>\n",
       "    </tr>\n",
       "    <tr>\n",
       "      <th>4</th>\n",
       "      <td>2007-05-29</td>\n",
       "      <td>7900 West Foster Avenue, Chicago, IL 60656, USA</td>\n",
       "      <td>CULEX RESTUANS</td>\n",
       "      <td>79</td>\n",
       "      <td>W FOSTER AVE</td>\n",
       "      <td>T015</td>\n",
       "      <td>7900  W FOSTER AVE, Chicago, IL</td>\n",
       "      <td>41.974089</td>\n",
       "      <td>-87.824812</td>\n",
       "      <td>8</td>\n",
       "      <td>4</td>\n",
       "      <td>0</td>\n",
       "    </tr>\n",
       "  </tbody>\n",
       "</table>\n",
       "</div>"
      ],
      "text/plain": [
       "         Date                                            Address  \\\n",
       "0  2007-05-29  4100 North Oak Park Avenue, Chicago, IL 60634,...   \n",
       "1  2007-05-29  4100 North Oak Park Avenue, Chicago, IL 60634,...   \n",
       "2  2007-05-29  6200 North Mandell Avenue, Chicago, IL 60646, USA   \n",
       "3  2007-05-29    7900 West Foster Avenue, Chicago, IL 60656, USA   \n",
       "4  2007-05-29    7900 West Foster Avenue, Chicago, IL 60656, USA   \n",
       "\n",
       "                  Species  Block           Street  Trap  \\\n",
       "0  CULEX PIPIENS/RESTUANS     41   N OAK PARK AVE  T002   \n",
       "1          CULEX RESTUANS     41   N OAK PARK AVE  T002   \n",
       "2          CULEX RESTUANS     62    N MANDELL AVE  T007   \n",
       "3  CULEX PIPIENS/RESTUANS     79     W FOSTER AVE  T015   \n",
       "4          CULEX RESTUANS     79     W FOSTER AVE  T015   \n",
       "\n",
       "              AddressNumberAndStreet   Latitude  Longitude  AddressAccuracy  \\\n",
       "0  4100  N OAK PARK AVE, Chicago, IL  41.954690 -87.800991                9   \n",
       "1  4100  N OAK PARK AVE, Chicago, IL  41.954690 -87.800991                9   \n",
       "2   6200  N MANDELL AVE, Chicago, IL  41.994991 -87.769279                9   \n",
       "3    7900  W FOSTER AVE, Chicago, IL  41.974089 -87.824812                8   \n",
       "4    7900  W FOSTER AVE, Chicago, IL  41.974089 -87.824812                8   \n",
       "\n",
       "   NumMosquitos  WnvPresent  \n",
       "0             1           0  \n",
       "1             1           0  \n",
       "2             1           0  \n",
       "3             1           0  \n",
       "4             4           0  "
      ]
     },
     "metadata": {},
     "output_type": "display_data"
    }
   ],
   "source": [
    "#  With noaa_weather_qclcd_documentation%20(1).pdf given with the data set, Missing values \n",
    "# imputated with M and Trace. Exploring the datasets features\n",
    "display(train.head(5))"
   ]
  },
  {
   "cell_type": "code",
   "execution_count": 6,
   "metadata": {},
   "outputs": [
    {
     "data": {
      "text/plain": [
       "Date                      0\n",
       "Address                   0\n",
       "Species                   0\n",
       "Block                     0\n",
       "Street                    0\n",
       "Trap                      0\n",
       "AddressNumberAndStreet    0\n",
       "Latitude                  0\n",
       "Longitude                 0\n",
       "AddressAccuracy           0\n",
       "NumMosquitos              0\n",
       "WnvPresent                0\n",
       "dtype: int64"
      ]
     },
     "execution_count": 6,
     "metadata": {},
     "output_type": "execute_result"
    }
   ],
   "source": [
    "# Check the null values.\n",
    "# Data contains Date, Address, Species, blk, Street, AddressNumberand Street, latitude, longitude,\n",
    "# Address accuracy, NumMosquitos, WnvPresent\n",
    "train.isnull().sum()"
   ]
  },
  {
   "cell_type": "code",
   "execution_count": 7,
   "metadata": {},
   "outputs": [],
   "source": [
    "# dropping the columns which adress,block,street, AddressNumberAndStreet n AddressAccuracy as\n",
    "# latitude and longitude will have information contain in it\n",
    "train.drop(['Address','Block','Street','AddressNumberAndStreet','AddressAccuracy'],axis=1,inplace=True)"
   ]
  },
  {
   "cell_type": "code",
   "execution_count": 8,
   "metadata": {
    "scrolled": false
   },
   "outputs": [
    {
     "data": {
      "text/html": [
       "<div>\n",
       "<style scoped>\n",
       "    .dataframe tbody tr th:only-of-type {\n",
       "        vertical-align: middle;\n",
       "    }\n",
       "\n",
       "    .dataframe tbody tr th {\n",
       "        vertical-align: top;\n",
       "    }\n",
       "\n",
       "    .dataframe thead th {\n",
       "        text-align: right;\n",
       "    }\n",
       "</style>\n",
       "<table border=\"1\" class=\"dataframe\">\n",
       "  <thead>\n",
       "    <tr style=\"text-align: right;\">\n",
       "      <th></th>\n",
       "      <th>Date</th>\n",
       "      <th>Species</th>\n",
       "      <th>Trap</th>\n",
       "      <th>Latitude</th>\n",
       "      <th>Longitude</th>\n",
       "      <th>NumMosquitos</th>\n",
       "      <th>WnvPresent</th>\n",
       "    </tr>\n",
       "  </thead>\n",
       "  <tbody>\n",
       "    <tr>\n",
       "      <th>0</th>\n",
       "      <td>2007-05-29</td>\n",
       "      <td>CULEX PIPIENS/RESTUANS</td>\n",
       "      <td>T002</td>\n",
       "      <td>41.954690</td>\n",
       "      <td>-87.800991</td>\n",
       "      <td>1</td>\n",
       "      <td>0</td>\n",
       "    </tr>\n",
       "    <tr>\n",
       "      <th>1</th>\n",
       "      <td>2007-05-29</td>\n",
       "      <td>CULEX RESTUANS</td>\n",
       "      <td>T002</td>\n",
       "      <td>41.954690</td>\n",
       "      <td>-87.800991</td>\n",
       "      <td>1</td>\n",
       "      <td>0</td>\n",
       "    </tr>\n",
       "    <tr>\n",
       "      <th>2</th>\n",
       "      <td>2007-05-29</td>\n",
       "      <td>CULEX RESTUANS</td>\n",
       "      <td>T007</td>\n",
       "      <td>41.994991</td>\n",
       "      <td>-87.769279</td>\n",
       "      <td>1</td>\n",
       "      <td>0</td>\n",
       "    </tr>\n",
       "    <tr>\n",
       "      <th>3</th>\n",
       "      <td>2007-05-29</td>\n",
       "      <td>CULEX PIPIENS/RESTUANS</td>\n",
       "      <td>T015</td>\n",
       "      <td>41.974089</td>\n",
       "      <td>-87.824812</td>\n",
       "      <td>1</td>\n",
       "      <td>0</td>\n",
       "    </tr>\n",
       "    <tr>\n",
       "      <th>4</th>\n",
       "      <td>2007-05-29</td>\n",
       "      <td>CULEX RESTUANS</td>\n",
       "      <td>T015</td>\n",
       "      <td>41.974089</td>\n",
       "      <td>-87.824812</td>\n",
       "      <td>4</td>\n",
       "      <td>0</td>\n",
       "    </tr>\n",
       "  </tbody>\n",
       "</table>\n",
       "</div>"
      ],
      "text/plain": [
       "         Date                 Species  Trap   Latitude  Longitude  \\\n",
       "0  2007-05-29  CULEX PIPIENS/RESTUANS  T002  41.954690 -87.800991   \n",
       "1  2007-05-29          CULEX RESTUANS  T002  41.954690 -87.800991   \n",
       "2  2007-05-29          CULEX RESTUANS  T007  41.994991 -87.769279   \n",
       "3  2007-05-29  CULEX PIPIENS/RESTUANS  T015  41.974089 -87.824812   \n",
       "4  2007-05-29          CULEX RESTUANS  T015  41.974089 -87.824812   \n",
       "\n",
       "   NumMosquitos  WnvPresent  \n",
       "0             1           0  \n",
       "1             1           0  \n",
       "2             1           0  \n",
       "3             1           0  \n",
       "4             4           0  "
      ]
     },
     "execution_count": 8,
     "metadata": {},
     "output_type": "execute_result"
    }
   ],
   "source": [
    "train.head()"
   ]
  },
  {
   "cell_type": "code",
   "execution_count": 9,
   "metadata": {},
   "outputs": [
    {
     "data": {
      "text/plain": [
       "95"
      ]
     },
     "execution_count": 9,
     "metadata": {},
     "output_type": "execute_result"
    }
   ],
   "source": [
    "train['Date'].nunique()"
   ]
  },
  {
   "cell_type": "code",
   "execution_count": 10,
   "metadata": {},
   "outputs": [
    {
     "data": {
      "text/html": [
       "<div>\n",
       "<style scoped>\n",
       "    .dataframe tbody tr th:only-of-type {\n",
       "        vertical-align: middle;\n",
       "    }\n",
       "\n",
       "    .dataframe tbody tr th {\n",
       "        vertical-align: top;\n",
       "    }\n",
       "\n",
       "    .dataframe thead th {\n",
       "        text-align: right;\n",
       "    }\n",
       "</style>\n",
       "<table border=\"1\" class=\"dataframe\">\n",
       "  <thead>\n",
       "    <tr style=\"text-align: right;\">\n",
       "      <th></th>\n",
       "      <th>Id</th>\n",
       "      <th>Date</th>\n",
       "      <th>Address</th>\n",
       "      <th>Species</th>\n",
       "      <th>Block</th>\n",
       "      <th>Street</th>\n",
       "      <th>Trap</th>\n",
       "      <th>AddressNumberAndStreet</th>\n",
       "      <th>Latitude</th>\n",
       "      <th>Longitude</th>\n",
       "      <th>AddressAccuracy</th>\n",
       "    </tr>\n",
       "  </thead>\n",
       "  <tbody>\n",
       "    <tr>\n",
       "      <th>0</th>\n",
       "      <td>1</td>\n",
       "      <td>2008-06-11</td>\n",
       "      <td>4100 North Oak Park Avenue, Chicago, IL 60634,...</td>\n",
       "      <td>CULEX PIPIENS/RESTUANS</td>\n",
       "      <td>41</td>\n",
       "      <td>N OAK PARK AVE</td>\n",
       "      <td>T002</td>\n",
       "      <td>4100  N OAK PARK AVE, Chicago, IL</td>\n",
       "      <td>41.95469</td>\n",
       "      <td>-87.800991</td>\n",
       "      <td>9</td>\n",
       "    </tr>\n",
       "    <tr>\n",
       "      <th>1</th>\n",
       "      <td>2</td>\n",
       "      <td>2008-06-11</td>\n",
       "      <td>4100 North Oak Park Avenue, Chicago, IL 60634,...</td>\n",
       "      <td>CULEX RESTUANS</td>\n",
       "      <td>41</td>\n",
       "      <td>N OAK PARK AVE</td>\n",
       "      <td>T002</td>\n",
       "      <td>4100  N OAK PARK AVE, Chicago, IL</td>\n",
       "      <td>41.95469</td>\n",
       "      <td>-87.800991</td>\n",
       "      <td>9</td>\n",
       "    </tr>\n",
       "    <tr>\n",
       "      <th>2</th>\n",
       "      <td>3</td>\n",
       "      <td>2008-06-11</td>\n",
       "      <td>4100 North Oak Park Avenue, Chicago, IL 60634,...</td>\n",
       "      <td>CULEX PIPIENS</td>\n",
       "      <td>41</td>\n",
       "      <td>N OAK PARK AVE</td>\n",
       "      <td>T002</td>\n",
       "      <td>4100  N OAK PARK AVE, Chicago, IL</td>\n",
       "      <td>41.95469</td>\n",
       "      <td>-87.800991</td>\n",
       "      <td>9</td>\n",
       "    </tr>\n",
       "    <tr>\n",
       "      <th>3</th>\n",
       "      <td>4</td>\n",
       "      <td>2008-06-11</td>\n",
       "      <td>4100 North Oak Park Avenue, Chicago, IL 60634,...</td>\n",
       "      <td>CULEX SALINARIUS</td>\n",
       "      <td>41</td>\n",
       "      <td>N OAK PARK AVE</td>\n",
       "      <td>T002</td>\n",
       "      <td>4100  N OAK PARK AVE, Chicago, IL</td>\n",
       "      <td>41.95469</td>\n",
       "      <td>-87.800991</td>\n",
       "      <td>9</td>\n",
       "    </tr>\n",
       "    <tr>\n",
       "      <th>4</th>\n",
       "      <td>5</td>\n",
       "      <td>2008-06-11</td>\n",
       "      <td>4100 North Oak Park Avenue, Chicago, IL 60634,...</td>\n",
       "      <td>CULEX TERRITANS</td>\n",
       "      <td>41</td>\n",
       "      <td>N OAK PARK AVE</td>\n",
       "      <td>T002</td>\n",
       "      <td>4100  N OAK PARK AVE, Chicago, IL</td>\n",
       "      <td>41.95469</td>\n",
       "      <td>-87.800991</td>\n",
       "      <td>9</td>\n",
       "    </tr>\n",
       "  </tbody>\n",
       "</table>\n",
       "</div>"
      ],
      "text/plain": [
       "   Id        Date                                            Address  \\\n",
       "0   1  2008-06-11  4100 North Oak Park Avenue, Chicago, IL 60634,...   \n",
       "1   2  2008-06-11  4100 North Oak Park Avenue, Chicago, IL 60634,...   \n",
       "2   3  2008-06-11  4100 North Oak Park Avenue, Chicago, IL 60634,...   \n",
       "3   4  2008-06-11  4100 North Oak Park Avenue, Chicago, IL 60634,...   \n",
       "4   5  2008-06-11  4100 North Oak Park Avenue, Chicago, IL 60634,...   \n",
       "\n",
       "                  Species  Block           Street  Trap  \\\n",
       "0  CULEX PIPIENS/RESTUANS     41   N OAK PARK AVE  T002   \n",
       "1          CULEX RESTUANS     41   N OAK PARK AVE  T002   \n",
       "2           CULEX PIPIENS     41   N OAK PARK AVE  T002   \n",
       "3        CULEX SALINARIUS     41   N OAK PARK AVE  T002   \n",
       "4         CULEX TERRITANS     41   N OAK PARK AVE  T002   \n",
       "\n",
       "              AddressNumberAndStreet  Latitude  Longitude  AddressAccuracy  \n",
       "0  4100  N OAK PARK AVE, Chicago, IL  41.95469 -87.800991                9  \n",
       "1  4100  N OAK PARK AVE, Chicago, IL  41.95469 -87.800991                9  \n",
       "2  4100  N OAK PARK AVE, Chicago, IL  41.95469 -87.800991                9  \n",
       "3  4100  N OAK PARK AVE, Chicago, IL  41.95469 -87.800991                9  \n",
       "4  4100  N OAK PARK AVE, Chicago, IL  41.95469 -87.800991                9  "
      ]
     },
     "metadata": {},
     "output_type": "display_data"
    }
   ],
   "source": [
    "# We will keep the relavent information \n",
    "display(test.head(5))"
   ]
  },
  {
   "cell_type": "code",
   "execution_count": 11,
   "metadata": {},
   "outputs": [],
   "source": [
    "# Test dataset is similar to Train datset except Id, NMosquitos and WnvPresent. We will keep the \n",
    "# longitude n latitude column as a location information of traps and remove the rest\n",
    "test.drop(['Address','Block','Street','AddressNumberAndStreet','AddressAccuracy'],axis=1,inplace=True)"
   ]
  },
  {
   "cell_type": "code",
   "execution_count": 12,
   "metadata": {},
   "outputs": [
    {
     "data": {
      "text/html": [
       "<div>\n",
       "<style scoped>\n",
       "    .dataframe tbody tr th:only-of-type {\n",
       "        vertical-align: middle;\n",
       "    }\n",
       "\n",
       "    .dataframe tbody tr th {\n",
       "        vertical-align: top;\n",
       "    }\n",
       "\n",
       "    .dataframe thead th {\n",
       "        text-align: right;\n",
       "    }\n",
       "</style>\n",
       "<table border=\"1\" class=\"dataframe\">\n",
       "  <thead>\n",
       "    <tr style=\"text-align: right;\">\n",
       "      <th></th>\n",
       "      <th>Id</th>\n",
       "      <th>Date</th>\n",
       "      <th>Species</th>\n",
       "      <th>Trap</th>\n",
       "      <th>Latitude</th>\n",
       "      <th>Longitude</th>\n",
       "    </tr>\n",
       "  </thead>\n",
       "  <tbody>\n",
       "    <tr>\n",
       "      <th>0</th>\n",
       "      <td>1</td>\n",
       "      <td>2008-06-11</td>\n",
       "      <td>CULEX PIPIENS/RESTUANS</td>\n",
       "      <td>T002</td>\n",
       "      <td>41.95469</td>\n",
       "      <td>-87.800991</td>\n",
       "    </tr>\n",
       "    <tr>\n",
       "      <th>1</th>\n",
       "      <td>2</td>\n",
       "      <td>2008-06-11</td>\n",
       "      <td>CULEX RESTUANS</td>\n",
       "      <td>T002</td>\n",
       "      <td>41.95469</td>\n",
       "      <td>-87.800991</td>\n",
       "    </tr>\n",
       "    <tr>\n",
       "      <th>2</th>\n",
       "      <td>3</td>\n",
       "      <td>2008-06-11</td>\n",
       "      <td>CULEX PIPIENS</td>\n",
       "      <td>T002</td>\n",
       "      <td>41.95469</td>\n",
       "      <td>-87.800991</td>\n",
       "    </tr>\n",
       "    <tr>\n",
       "      <th>3</th>\n",
       "      <td>4</td>\n",
       "      <td>2008-06-11</td>\n",
       "      <td>CULEX SALINARIUS</td>\n",
       "      <td>T002</td>\n",
       "      <td>41.95469</td>\n",
       "      <td>-87.800991</td>\n",
       "    </tr>\n",
       "    <tr>\n",
       "      <th>4</th>\n",
       "      <td>5</td>\n",
       "      <td>2008-06-11</td>\n",
       "      <td>CULEX TERRITANS</td>\n",
       "      <td>T002</td>\n",
       "      <td>41.95469</td>\n",
       "      <td>-87.800991</td>\n",
       "    </tr>\n",
       "  </tbody>\n",
       "</table>\n",
       "</div>"
      ],
      "text/plain": [
       "   Id        Date                 Species  Trap  Latitude  Longitude\n",
       "0   1  2008-06-11  CULEX PIPIENS/RESTUANS  T002  41.95469 -87.800991\n",
       "1   2  2008-06-11          CULEX RESTUANS  T002  41.95469 -87.800991\n",
       "2   3  2008-06-11           CULEX PIPIENS  T002  41.95469 -87.800991\n",
       "3   4  2008-06-11        CULEX SALINARIUS  T002  41.95469 -87.800991\n",
       "4   5  2008-06-11         CULEX TERRITANS  T002  41.95469 -87.800991"
      ]
     },
     "execution_count": 12,
     "metadata": {},
     "output_type": "execute_result"
    }
   ],
   "source": [
    "test.head()"
   ]
  },
  {
   "cell_type": "markdown",
   "metadata": {},
   "source": [
    "#### Weather dataset has Station 1 and Station 2 weather information \n",
    "- Station 1: CHICAGO O'HARE INTERNATIONAL AIRPORT Lat: 41.995 Lon: -87.933 Elev: 662 ft. above sea level\n",
    "- Station 2: CHICAGO MIDWAY INTL ARPT Lat: 41.786 Lon: -87.752 Elev: 612 ft. above sea level"
   ]
  },
  {
   "cell_type": "code",
   "execution_count": 13,
   "metadata": {
    "scrolled": false
   },
   "outputs": [
    {
     "data": {
      "text/html": [
       "<div>\n",
       "<style scoped>\n",
       "    .dataframe tbody tr th:only-of-type {\n",
       "        vertical-align: middle;\n",
       "    }\n",
       "\n",
       "    .dataframe tbody tr th {\n",
       "        vertical-align: top;\n",
       "    }\n",
       "\n",
       "    .dataframe thead th {\n",
       "        text-align: right;\n",
       "    }\n",
       "</style>\n",
       "<table border=\"1\" class=\"dataframe\">\n",
       "  <thead>\n",
       "    <tr style=\"text-align: right;\">\n",
       "      <th></th>\n",
       "      <th>Station</th>\n",
       "      <th>Date</th>\n",
       "      <th>Tmax</th>\n",
       "      <th>Tmin</th>\n",
       "      <th>Tavg</th>\n",
       "      <th>Depart</th>\n",
       "      <th>DewPoint</th>\n",
       "      <th>WetBulb</th>\n",
       "      <th>Heat</th>\n",
       "      <th>Cool</th>\n",
       "      <th>Sunrise</th>\n",
       "      <th>Sunset</th>\n",
       "      <th>CodeSum</th>\n",
       "      <th>Depth</th>\n",
       "      <th>Water1</th>\n",
       "      <th>SnowFall</th>\n",
       "      <th>PrecipTotal</th>\n",
       "      <th>StnPressure</th>\n",
       "      <th>SeaLevel</th>\n",
       "      <th>ResultSpeed</th>\n",
       "      <th>ResultDir</th>\n",
       "      <th>AvgSpeed</th>\n",
       "    </tr>\n",
       "  </thead>\n",
       "  <tbody>\n",
       "    <tr>\n",
       "      <th>0</th>\n",
       "      <td>1</td>\n",
       "      <td>2007-05-01</td>\n",
       "      <td>83</td>\n",
       "      <td>50</td>\n",
       "      <td>67</td>\n",
       "      <td>14</td>\n",
       "      <td>51</td>\n",
       "      <td>56</td>\n",
       "      <td>0</td>\n",
       "      <td>2</td>\n",
       "      <td>0448</td>\n",
       "      <td>1849</td>\n",
       "      <td></td>\n",
       "      <td>0</td>\n",
       "      <td>M</td>\n",
       "      <td>0.0</td>\n",
       "      <td>0.00</td>\n",
       "      <td>29.10</td>\n",
       "      <td>29.82</td>\n",
       "      <td>1.7</td>\n",
       "      <td>27</td>\n",
       "      <td>9.2</td>\n",
       "    </tr>\n",
       "    <tr>\n",
       "      <th>1</th>\n",
       "      <td>2</td>\n",
       "      <td>2007-05-01</td>\n",
       "      <td>84</td>\n",
       "      <td>52</td>\n",
       "      <td>68</td>\n",
       "      <td>M</td>\n",
       "      <td>51</td>\n",
       "      <td>57</td>\n",
       "      <td>0</td>\n",
       "      <td>3</td>\n",
       "      <td>-</td>\n",
       "      <td>-</td>\n",
       "      <td></td>\n",
       "      <td>M</td>\n",
       "      <td>M</td>\n",
       "      <td>M</td>\n",
       "      <td>0.00</td>\n",
       "      <td>29.18</td>\n",
       "      <td>29.82</td>\n",
       "      <td>2.7</td>\n",
       "      <td>25</td>\n",
       "      <td>9.6</td>\n",
       "    </tr>\n",
       "    <tr>\n",
       "      <th>2</th>\n",
       "      <td>1</td>\n",
       "      <td>2007-05-02</td>\n",
       "      <td>59</td>\n",
       "      <td>42</td>\n",
       "      <td>51</td>\n",
       "      <td>-3</td>\n",
       "      <td>42</td>\n",
       "      <td>47</td>\n",
       "      <td>14</td>\n",
       "      <td>0</td>\n",
       "      <td>0447</td>\n",
       "      <td>1850</td>\n",
       "      <td>BR</td>\n",
       "      <td>0</td>\n",
       "      <td>M</td>\n",
       "      <td>0.0</td>\n",
       "      <td>0.00</td>\n",
       "      <td>29.38</td>\n",
       "      <td>30.09</td>\n",
       "      <td>13.0</td>\n",
       "      <td>4</td>\n",
       "      <td>13.4</td>\n",
       "    </tr>\n",
       "    <tr>\n",
       "      <th>3</th>\n",
       "      <td>2</td>\n",
       "      <td>2007-05-02</td>\n",
       "      <td>60</td>\n",
       "      <td>43</td>\n",
       "      <td>52</td>\n",
       "      <td>M</td>\n",
       "      <td>42</td>\n",
       "      <td>47</td>\n",
       "      <td>13</td>\n",
       "      <td>0</td>\n",
       "      <td>-</td>\n",
       "      <td>-</td>\n",
       "      <td>BR HZ</td>\n",
       "      <td>M</td>\n",
       "      <td>M</td>\n",
       "      <td>M</td>\n",
       "      <td>0.00</td>\n",
       "      <td>29.44</td>\n",
       "      <td>30.08</td>\n",
       "      <td>13.3</td>\n",
       "      <td>2</td>\n",
       "      <td>13.4</td>\n",
       "    </tr>\n",
       "    <tr>\n",
       "      <th>4</th>\n",
       "      <td>1</td>\n",
       "      <td>2007-05-03</td>\n",
       "      <td>66</td>\n",
       "      <td>46</td>\n",
       "      <td>56</td>\n",
       "      <td>2</td>\n",
       "      <td>40</td>\n",
       "      <td>48</td>\n",
       "      <td>9</td>\n",
       "      <td>0</td>\n",
       "      <td>0446</td>\n",
       "      <td>1851</td>\n",
       "      <td></td>\n",
       "      <td>0</td>\n",
       "      <td>M</td>\n",
       "      <td>0.0</td>\n",
       "      <td>0.00</td>\n",
       "      <td>29.39</td>\n",
       "      <td>30.12</td>\n",
       "      <td>11.7</td>\n",
       "      <td>7</td>\n",
       "      <td>11.9</td>\n",
       "    </tr>\n",
       "  </tbody>\n",
       "</table>\n",
       "</div>"
      ],
      "text/plain": [
       "   Station        Date  Tmax  Tmin Tavg Depart  DewPoint WetBulb Heat Cool  \\\n",
       "0        1  2007-05-01    83    50   67     14        51      56    0    2   \n",
       "1        2  2007-05-01    84    52   68      M        51      57    0    3   \n",
       "2        1  2007-05-02    59    42   51     -3        42      47   14    0   \n",
       "3        2  2007-05-02    60    43   52      M        42      47   13    0   \n",
       "4        1  2007-05-03    66    46   56      2        40      48    9    0   \n",
       "\n",
       "  Sunrise Sunset CodeSum Depth Water1 SnowFall PrecipTotal StnPressure  \\\n",
       "0    0448   1849             0      M      0.0        0.00       29.10   \n",
       "1       -      -             M      M        M        0.00       29.18   \n",
       "2    0447   1850      BR     0      M      0.0        0.00       29.38   \n",
       "3       -      -   BR HZ     M      M        M        0.00       29.44   \n",
       "4    0446   1851             0      M      0.0        0.00       29.39   \n",
       "\n",
       "  SeaLevel  ResultSpeed  ResultDir AvgSpeed  \n",
       "0    29.82          1.7         27      9.2  \n",
       "1    29.82          2.7         25      9.6  \n",
       "2    30.09         13.0          4     13.4  \n",
       "3    30.08         13.3          2     13.4  \n",
       "4    30.12         11.7          7     11.9  "
      ]
     },
     "metadata": {},
     "output_type": "display_data"
    }
   ],
   "source": [
    "# Exploring the weather data\n",
    "display(weather.head(5))"
   ]
  },
  {
   "cell_type": "markdown",
   "metadata": {},
   "source": [
    "#### There are 22 features of weather, we will take a closer look at each of the feature and decide to keep which will help in prediction and  drop some which are correlated features. "
   ]
  },
  {
   "cell_type": "code",
   "execution_count": 14,
   "metadata": {},
   "outputs": [
    {
     "data": {
      "text/plain": [
       "Index(['Station', 'Date', 'Tmax', 'Tmin', 'Tavg', 'Depart', 'DewPoint',\n",
       "       'WetBulb', 'Heat', 'Cool', 'Sunrise', 'Sunset', 'CodeSum', 'Depth',\n",
       "       'Water1', 'SnowFall', 'PrecipTotal', 'StnPressure', 'SeaLevel',\n",
       "       'ResultSpeed', 'ResultDir', 'AvgSpeed'],\n",
       "      dtype='object')"
      ]
     },
     "execution_count": 14,
     "metadata": {},
     "output_type": "execute_result"
    }
   ],
   "source": [
    "# WATER EQUIVALENT IN INCHES , T = TRACE PRECIPITATION AMOUNT,  M = MISSING DATA\n",
    "weather.columns"
   ]
  },
  {
   "cell_type": "code",
   "execution_count": 15,
   "metadata": {
    "scrolled": true
   },
   "outputs": [],
   "source": [
    "# M = Missing Data, or data that are not normally reported for the station.\n",
    "# - = values not available for sunrise/sunset. \n",
    "# Imputate the values with Nan to see how much information is missing\n",
    "weather.replace(['M','  T',' '], np.nan,inplace=True)"
   ]
  },
  {
   "cell_type": "code",
   "execution_count": 16,
   "metadata": {},
   "outputs": [
    {
     "data": {
      "text/html": [
       "<div>\n",
       "<style scoped>\n",
       "    .dataframe tbody tr th:only-of-type {\n",
       "        vertical-align: middle;\n",
       "    }\n",
       "\n",
       "    .dataframe tbody tr th {\n",
       "        vertical-align: top;\n",
       "    }\n",
       "\n",
       "    .dataframe thead th {\n",
       "        text-align: right;\n",
       "    }\n",
       "</style>\n",
       "<table border=\"1\" class=\"dataframe\">\n",
       "  <thead>\n",
       "    <tr style=\"text-align: right;\">\n",
       "      <th></th>\n",
       "      <th>Station</th>\n",
       "      <th>Date</th>\n",
       "      <th>Tmax</th>\n",
       "      <th>Tmin</th>\n",
       "      <th>Tavg</th>\n",
       "      <th>Depart</th>\n",
       "      <th>DewPoint</th>\n",
       "      <th>WetBulb</th>\n",
       "      <th>Heat</th>\n",
       "      <th>Cool</th>\n",
       "      <th>Sunrise</th>\n",
       "      <th>Sunset</th>\n",
       "      <th>CodeSum</th>\n",
       "      <th>Depth</th>\n",
       "      <th>Water1</th>\n",
       "      <th>SnowFall</th>\n",
       "      <th>PrecipTotal</th>\n",
       "      <th>StnPressure</th>\n",
       "      <th>SeaLevel</th>\n",
       "      <th>ResultSpeed</th>\n",
       "      <th>ResultDir</th>\n",
       "      <th>AvgSpeed</th>\n",
       "    </tr>\n",
       "  </thead>\n",
       "  <tbody>\n",
       "    <tr>\n",
       "      <th>0</th>\n",
       "      <td>1</td>\n",
       "      <td>2007-05-01</td>\n",
       "      <td>83</td>\n",
       "      <td>50</td>\n",
       "      <td>67</td>\n",
       "      <td>14</td>\n",
       "      <td>51</td>\n",
       "      <td>56</td>\n",
       "      <td>0</td>\n",
       "      <td>2</td>\n",
       "      <td>0448</td>\n",
       "      <td>1849</td>\n",
       "      <td>NaN</td>\n",
       "      <td>0</td>\n",
       "      <td>NaN</td>\n",
       "      <td>0.0</td>\n",
       "      <td>0.00</td>\n",
       "      <td>29.10</td>\n",
       "      <td>29.82</td>\n",
       "      <td>1.7</td>\n",
       "      <td>27</td>\n",
       "      <td>9.2</td>\n",
       "    </tr>\n",
       "    <tr>\n",
       "      <th>1</th>\n",
       "      <td>2</td>\n",
       "      <td>2007-05-01</td>\n",
       "      <td>84</td>\n",
       "      <td>52</td>\n",
       "      <td>68</td>\n",
       "      <td>NaN</td>\n",
       "      <td>51</td>\n",
       "      <td>57</td>\n",
       "      <td>0</td>\n",
       "      <td>3</td>\n",
       "      <td>-</td>\n",
       "      <td>-</td>\n",
       "      <td>NaN</td>\n",
       "      <td>NaN</td>\n",
       "      <td>NaN</td>\n",
       "      <td>NaN</td>\n",
       "      <td>0.00</td>\n",
       "      <td>29.18</td>\n",
       "      <td>29.82</td>\n",
       "      <td>2.7</td>\n",
       "      <td>25</td>\n",
       "      <td>9.6</td>\n",
       "    </tr>\n",
       "    <tr>\n",
       "      <th>2</th>\n",
       "      <td>1</td>\n",
       "      <td>2007-05-02</td>\n",
       "      <td>59</td>\n",
       "      <td>42</td>\n",
       "      <td>51</td>\n",
       "      <td>-3</td>\n",
       "      <td>42</td>\n",
       "      <td>47</td>\n",
       "      <td>14</td>\n",
       "      <td>0</td>\n",
       "      <td>0447</td>\n",
       "      <td>1850</td>\n",
       "      <td>BR</td>\n",
       "      <td>0</td>\n",
       "      <td>NaN</td>\n",
       "      <td>0.0</td>\n",
       "      <td>0.00</td>\n",
       "      <td>29.38</td>\n",
       "      <td>30.09</td>\n",
       "      <td>13.0</td>\n",
       "      <td>4</td>\n",
       "      <td>13.4</td>\n",
       "    </tr>\n",
       "    <tr>\n",
       "      <th>3</th>\n",
       "      <td>2</td>\n",
       "      <td>2007-05-02</td>\n",
       "      <td>60</td>\n",
       "      <td>43</td>\n",
       "      <td>52</td>\n",
       "      <td>NaN</td>\n",
       "      <td>42</td>\n",
       "      <td>47</td>\n",
       "      <td>13</td>\n",
       "      <td>0</td>\n",
       "      <td>-</td>\n",
       "      <td>-</td>\n",
       "      <td>BR HZ</td>\n",
       "      <td>NaN</td>\n",
       "      <td>NaN</td>\n",
       "      <td>NaN</td>\n",
       "      <td>0.00</td>\n",
       "      <td>29.44</td>\n",
       "      <td>30.08</td>\n",
       "      <td>13.3</td>\n",
       "      <td>2</td>\n",
       "      <td>13.4</td>\n",
       "    </tr>\n",
       "    <tr>\n",
       "      <th>4</th>\n",
       "      <td>1</td>\n",
       "      <td>2007-05-03</td>\n",
       "      <td>66</td>\n",
       "      <td>46</td>\n",
       "      <td>56</td>\n",
       "      <td>2</td>\n",
       "      <td>40</td>\n",
       "      <td>48</td>\n",
       "      <td>9</td>\n",
       "      <td>0</td>\n",
       "      <td>0446</td>\n",
       "      <td>1851</td>\n",
       "      <td>NaN</td>\n",
       "      <td>0</td>\n",
       "      <td>NaN</td>\n",
       "      <td>0.0</td>\n",
       "      <td>0.00</td>\n",
       "      <td>29.39</td>\n",
       "      <td>30.12</td>\n",
       "      <td>11.7</td>\n",
       "      <td>7</td>\n",
       "      <td>11.9</td>\n",
       "    </tr>\n",
       "  </tbody>\n",
       "</table>\n",
       "</div>"
      ],
      "text/plain": [
       "   Station        Date  Tmax  Tmin Tavg Depart  DewPoint WetBulb Heat Cool  \\\n",
       "0        1  2007-05-01    83    50   67     14        51      56    0    2   \n",
       "1        2  2007-05-01    84    52   68    NaN        51      57    0    3   \n",
       "2        1  2007-05-02    59    42   51     -3        42      47   14    0   \n",
       "3        2  2007-05-02    60    43   52    NaN        42      47   13    0   \n",
       "4        1  2007-05-03    66    46   56      2        40      48    9    0   \n",
       "\n",
       "  Sunrise Sunset CodeSum Depth  Water1 SnowFall PrecipTotal StnPressure  \\\n",
       "0    0448   1849     NaN     0     NaN      0.0        0.00       29.10   \n",
       "1       -      -     NaN   NaN     NaN      NaN        0.00       29.18   \n",
       "2    0447   1850      BR     0     NaN      0.0        0.00       29.38   \n",
       "3       -      -   BR HZ   NaN     NaN      NaN        0.00       29.44   \n",
       "4    0446   1851     NaN     0     NaN      0.0        0.00       29.39   \n",
       "\n",
       "  SeaLevel  ResultSpeed  ResultDir AvgSpeed  \n",
       "0    29.82          1.7         27      9.2  \n",
       "1    29.82          2.7         25      9.6  \n",
       "2    30.09         13.0          4     13.4  \n",
       "3    30.08         13.3          2     13.4  \n",
       "4    30.12         11.7          7     11.9  "
      ]
     },
     "metadata": {},
     "output_type": "display_data"
    }
   ],
   "source": [
    "display(weather.head())"
   ]
  },
  {
   "cell_type": "code",
   "execution_count": 17,
   "metadata": {
    "scrolled": false
   },
   "outputs": [
    {
     "data": {
      "text/plain": [
       "Station           0\n",
       "Date              0\n",
       "Tmax              0\n",
       "Tmin              0\n",
       "Tavg             11\n",
       "Depart         1472\n",
       "DewPoint          0\n",
       "WetBulb           4\n",
       "Heat             11\n",
       "Cool             11\n",
       "Sunrise           0\n",
       "Sunset            0\n",
       "CodeSum        1609\n",
       "Depth          1472\n",
       "Water1         2944\n",
       "SnowFall       1484\n",
       "PrecipTotal     320\n",
       "StnPressure       4\n",
       "SeaLevel          9\n",
       "ResultSpeed       0\n",
       "ResultDir         0\n",
       "AvgSpeed          3\n",
       "dtype: int64"
      ]
     },
     "metadata": {},
     "output_type": "display_data"
    }
   ],
   "source": [
    "display(weather.isnull().sum())"
   ]
  },
  {
   "cell_type": "markdown",
   "metadata": {},
   "source": [
    "-  Tmin and Tmax as Tavg is average of Tmin and Tmax\n",
    "-  Heating(Begins with July) and Cooling(begind with July)\n",
    "- Sunrise and Sunset (Calculated not observed)\n",
    "- Average Dew point(Dewpoint) and average bulb(WetBulb)\n",
    "- CodeSum (weather phenomenon)\n",
    "- Depth, Water1, SnowFall, Precipitation Total\n",
    "- Water Equivalent \n",
    "- Average Station Pressure\n",
    "- Average Sealevel pressure # Result Speed, ResultDirection and Average Speed\n",
    "https://www.engineeringtoolbox.com/dry-wet-bulb-dew-point-air-d_682.html\n"
   ]
  },
  {
   "cell_type": "code",
   "execution_count": 18,
   "metadata": {
    "scrolled": true
   },
   "outputs": [],
   "source": [
    "def value_count(df,lst):\n",
    "    for i in lst:\n",
    "        print('Value count of {}'.format(i))\n",
    "        value_count = df[i].unique()\n",
    "        print(value_count)"
   ]
  },
  {
   "cell_type": "code",
   "execution_count": 19,
   "metadata": {},
   "outputs": [],
   "source": [
    "lst_col = ['CodeSum','Depth','SnowFall','Depart','Water1','Sunrise','Sunset']"
   ]
  },
  {
   "cell_type": "code",
   "execution_count": 20,
   "metadata": {},
   "outputs": [
    {
     "name": "stdout",
     "output_type": "stream",
     "text": [
      "Value count of CodeSum\n",
      "[nan 'BR' 'BR HZ' 'HZ' 'RA' 'RA BR' 'TSRA RA BR' 'RA VCTS' 'TSRA RA'\n",
      " 'RA HZ' 'TSRA RA BR HZ' 'TSRA BR HZ' 'RA BR HZ VCTS' 'TSRA RA HZ'\n",
      " 'TSRA BR HZ VCTS' 'TSRA' 'TSRA BR HZ FU' 'TSRA RA HZ FU' 'BR HZ FU'\n",
      " 'TSRA RA VCTS' 'HZ VCTS' 'TSRA HZ' 'VCTS' 'RA BR VCTS' 'TSRA RA BR VCTS'\n",
      " 'TS TSRA RA BR HZ VCTS' 'DZ BR' 'TS TSRA RA BR HZ' 'TS TSRA BR HZ'\n",
      " 'RA BR HZ' 'TSRA RA DZ BR HZ' 'TS TSRA RA BR' 'TS RA BR' 'TS TSRA RA'\n",
      " 'TS TSRA RA BR VCTS' 'TS TSRA BR' 'TS RA' 'RA BCFG BR' 'TSRA BR'\n",
      " 'RA DZ FG+ BCFG BR' 'RA FG+ MIFG BR' 'RA DZ' 'RA DZ BR' 'TS TSRA RA HZ'\n",
      " 'TSRA RA FG+ FG BR' 'TSRA DZ FG+ FG BR HZ' 'TS BR' 'RA BR SQ' 'TS TSRA'\n",
      " 'TSRA RA BR HZ VCTS' 'BR VCTS' 'TS' 'FG+ BR HZ' 'RA SN' 'TSRA RA DZ BR'\n",
      " 'DZ BR HZ' 'RA BR FU' 'TS BR HZ' 'DZ' 'FG+ BR' 'FG+ FG BR' 'FG+ MIFG BR'\n",
      " 'TSRA RA FG BR' 'TSRA FG+ BR' 'RA DZ BR HZ' 'RA DZ SN' 'FG+ FG BR HZ'\n",
      " 'TS TSRA RA FG BR' 'BR HZ VCFG' 'TS RA FG+ FG BR' 'TSRA RA FG+ BR'\n",
      " 'RA DZ FG+ FG BR' 'TS TSRA RA VCTS' 'FU' 'TS TSRA VCFG' 'TS TSRA HZ'\n",
      " 'TS TSRA GR RA BR' 'RA FG BR' 'HZ FU' 'RA BR HZ FU' 'MIFG BCFG BR'\n",
      " 'FG+ BCFG BR' 'TSRA RA FG+ FG BR HZ' 'FG+' 'TSRA BR SQ' 'TSRA DZ BR HZ'\n",
      " 'RA BR HZ VCFG' 'RA FG+ BR' 'FG BR HZ' 'TS HZ' 'TS TSRA RA FG BR HZ'\n",
      " 'RA DZ FG+ BR' 'RA DZ FG+ BR HZ' 'TSRA FG+ BR HZ' 'RA BR VCFG'\n",
      " 'TS RA BR HZ' 'BCFG BR' 'RA SN BR']\n",
      "Value count of Depth\n",
      "['0' nan]\n",
      "Value count of SnowFall\n",
      "['0.0' nan '0.1']\n",
      "Value count of Depart\n",
      "['14' nan '-3' ' 2' ' 4' ' 5' '10' '12' '13' '-2' '15' '11' '-4' '-6' ' 8'\n",
      " '-5' ' 1' ' 9' ' 6' '-9' '-8' ' 3' ' 0' '-1' '-7' ' 7' '-14' '18' '16'\n",
      " '22' '21' '20' '-10' '-16' '17' '-12' '-11' '-15' '-17' '19' '-13' '23']\n",
      "Value count of Water1\n",
      "[nan]\n",
      "Value count of Sunrise\n",
      "['0448' '-' '0447' '0446' '0444' '0443' '0442' '0441' '0439' '0438' '0437'\n",
      " '0436' '0435' '0434' '0433' '0432' '0431' '0430' '0429' '0428' '0427'\n",
      " '0426' '0425' '0424' '0423' '0422' '0421' '0420' '0419' '0418' '0417'\n",
      " '0416' '0440' '0445' '0449' '0450' '0451' '0452' '0453' '0454' '0455'\n",
      " '0456' '0457' '0458' '0459' '0500' '0501' '0502' '0503' '0504' '0505'\n",
      " '0506' '0508' '0509' '0510' '0511' '0512' '0513' '0514' '0515' '0516'\n",
      " '0517' '0518' '0519' '0520' '0521' '0522' '0523' '0524' '0525' '0526'\n",
      " '0527' '0528' '0529' '0530' '0531' '0532' '0533' '0535' '0536' '0537'\n",
      " '0538' '0539' '0540' '0541' '0542' '0543' '0544' '0545' '0546' '0547'\n",
      " '0548' '0549' '0550' '0552' '0553' '0554' '0555' '0556' '0557' '0558'\n",
      " '0559' '0600' '0602' '0603' '0604' '0605' '0606' '0607' '0608' '0610'\n",
      " '0611' '0612' '0613' '0614' '0616' '0617' '0618' '0619' '0620' '0622'\n",
      " '0623']\n",
      "Value count of Sunset\n",
      "['1849' '-' '1850' '1851' '1852' '1853' '1855' '1856' '1857' '1858' '1859'\n",
      " '1860' '1901' '1902' '1903' '1904' '1905' '1906' '1907' '1908' '1909'\n",
      " '1910' '1911' '1912' '1913' '1914' '1915' '1916' '1917' '1918' '1919'\n",
      " '1920' '1921' '1922' '1923' '1924' '1925' '1926' '1927' '1928' '1929'\n",
      " '1930' '1931' '1900' '1854' '1848' '1846' '1845' '1843' '1842' '1840'\n",
      " '1839' '1837' '1835' '1834' '1832' '1831' '1829' '1827' '1826' '1824'\n",
      " '1822' '1821' '1819' '1817' '1815' '1814' '1812' '1810' '1809' '1807'\n",
      " '1805' '1803' '1760' '1758' '1756' '1755' '1753' '1751' '1749' '1748'\n",
      " '1746' '1744' '1742' '1741' '1739' '1737' '1735' '1734' '1732' '1730'\n",
      " '1729' '1727' '1725' '1724' '1722' '1720' '1719' '1717' '1715' '1714'\n",
      " '1712' '1711' '1709' '1707' '1706' '1704' '1703' '1701' '1660' '1658'\n",
      " '1657' '1656' '1654' '1653' '1651' '1650' '1649' '1647']\n"
     ]
    }
   ],
   "source": [
    "# value count\n",
    "value_count(weather,lst_col)"
   ]
  },
  {
   "cell_type": "code",
   "execution_count": 21,
   "metadata": {},
   "outputs": [],
   "source": [
    "# CodeSum has many values based on the weather condition - we can drop this\n",
    "# Depth & Snowfall has Nan or 0 which doesn't seems to value add - decided to drop\n",
    "# Depart has value related to departure from normal temprature - decide to drop\n",
    "# Water1 has all null values - decided to drop\n",
    "# Sunrise and Sunset are observed values - decided to drop \n",
    "weather.drop(lst_col,axis=1,inplace=True)"
   ]
  },
  {
   "cell_type": "code",
   "execution_count": 22,
   "metadata": {
    "scrolled": false
   },
   "outputs": [
    {
     "name": "stdout",
     "output_type": "stream",
     "text": [
      "Station          0\n",
      "Date             0\n",
      "Tmax             0\n",
      "Tmin             0\n",
      "Tavg            11\n",
      "DewPoint         0\n",
      "WetBulb          4\n",
      "Heat            11\n",
      "Cool            11\n",
      "PrecipTotal    320\n",
      "StnPressure      4\n",
      "SeaLevel         9\n",
      "ResultSpeed      0\n",
      "ResultDir        0\n",
      "AvgSpeed         3\n",
      "dtype: int64\n",
      "------------------------\n",
      "Station          int64\n",
      "Date            object\n",
      "Tmax             int64\n",
      "Tmin             int64\n",
      "Tavg            object\n",
      "DewPoint         int64\n",
      "WetBulb         object\n",
      "Heat            object\n",
      "Cool            object\n",
      "PrecipTotal     object\n",
      "StnPressure     object\n",
      "SeaLevel        object\n",
      "ResultSpeed    float64\n",
      "ResultDir        int64\n",
      "AvgSpeed        object\n",
      "dtype: object\n"
     ]
    }
   ],
   "source": [
    "print(weather.isnull().sum())\n",
    "print('------------------------')\n",
    "print(weather.dtypes)"
   ]
  },
  {
   "cell_type": "code",
   "execution_count": 23,
   "metadata": {
    "scrolled": true
   },
   "outputs": [
    {
     "name": "stdout",
     "output_type": "stream",
     "text": [
      "Value count of Tavg\n",
      "['67' '68' '51' '52' '56' '58' nan '60' '59' '65' '70' '69' '71' '61' '55'\n",
      " '57' '73' '72' '53' '62' '63' '74' '75' '78' '76' '77' '66' '80' '64'\n",
      " '81' '82' '79' '85' '84' '83' '50' '49' '46' '48' '45' '54' '47' '44'\n",
      " '40' '41' '38' '39' '42' '37' '43' '86' '87' '89' '92' '88' '91' '93'\n",
      " '94' '90' '36']\n",
      "Value count of WetBulb\n",
      "['56' '57' '47' '48' '50' '49' '46' '54' '53' '62' '63' '60' '61' '51'\n",
      " '59' '58' '43' '44' '45' '65' '66' '67' '64' '52' '55' '69' '68' '70'\n",
      " '72' '71' '73' '74' '76' '42' '39' '40' '41' '35' '33' '34' nan '75' '36'\n",
      " '32' '38' '78' '77' '37']\n",
      "Value count of Heat\n",
      "['0' '14' '13' '9' '7' nan '5' '6' '4' '10' '8' '12' '3' '2' '1' '15' '16'\n",
      " '19' '17' '20' '11' '18' '21' '25' '24' '27' '26' '23' '28' '22' '29']\n",
      "Value count of Cool\n",
      "[' 2' ' 3' ' 0' nan ' 5' ' 4' ' 6' ' 8' ' 7' ' 9' '10' '13' '11' '12' ' 1'\n",
      " '15' '16' '17' '14' '20' '19' '18' '21' '22' '24' '27' '23' '26' '28'\n",
      " '29' '25']\n",
      "Value count of PrecipTotal\n",
      "['0.00' nan '0.13' '0.02' '0.38' '0.60' '0.14' '0.07' '0.11' '0.09' '1.01'\n",
      " '0.28' '0.04' '0.08' '0.01' '0.53' '0.19' '0.21' '0.32' '0.39' '0.31'\n",
      " '0.42' '0.27' '0.16' '0.58' '0.93' '0.05' '0.34' '0.15' '0.35' '0.40'\n",
      " '0.66' '0.30' '0.24' '0.43' '1.55' '0.92' '0.89' '0.17' '0.03' '1.43'\n",
      " '0.97' '0.26' '1.31' '0.06' '0.46' '0.29' '0.23' '0.41' '0.45' '0.83'\n",
      " '1.33' '0.91' '0.48' '0.37' '0.88' '2.35' '1.96' '0.20' '0.25' '0.18'\n",
      " '0.67' '0.36' '0.33' '1.28' '0.74' '0.76' '0.71' '0.95' '1.46' '0.12'\n",
      " '0.52' '0.64' '0.22' '1.24' '0.72' '0.73' '0.65' '1.61' '1.22' '0.50'\n",
      " '1.05' '2.43' '0.59' '2.90' '2.68' '1.23' '0.62' '6.64' '3.07' '1.44'\n",
      " '1.75' '0.82' '0.80' '0.86' '0.63' '0.55' '1.03' '0.70' '1.73' '1.38'\n",
      " '0.44' '1.14' '1.07' '3.97' '0.87' '0.78' '1.12' '0.68' '0.10' '0.61'\n",
      " '0.54' '1.19' '0.75' '0.84' '1.29' '0.81' '1.15' '1.49' '1.57' '1.02'\n",
      " '1.30' '0.51' '0.85' '0.79' '0.77' '2.79' '3.15' '3.64' '4.73' '1.60'\n",
      " '0.57' '2.24' '1.90' '1.06' '1.88' '0.69' '2.17' '6.86' '0.49' '1.11'\n",
      " '1.21' '0.90' '1.34' '0.47' '0.56' '3.66' '1.09' '1.25' '1.35' '2.20'\n",
      " '1.48' '0.96' '1.16' '1.04' '2.03' '2.09' '1.26' '2.60' '2.06' '3.31'\n",
      " '2.76' '1.82' '0.98' '1.58' '3.17' '1.18']\n",
      "Value count of StnPressure\n",
      "['29.10' '29.18' '29.38' '29.44' '29.39' '29.46' '29.31' '29.36' '29.40'\n",
      " '29.57' '29.62' '29.29' '29.21' '29.28' '29.20' '29.26' '29.33' '29.49'\n",
      " '29.54' '29.55' '29.23' '29.13' '29.19' '29.53' '29.60' '29.34' '29.41'\n",
      " '29.47' '29.51' '29.42' '29.43' '29.25' '29.03' '28.82' '28.87' '28.88'\n",
      " '29.16' '29.07' '28.84' '28.91' '29.24' nan '29.30' '29.12' '29.45'\n",
      " '29.56' '29.32' '29.05' '29.11' '29.06' '29.22' '29.08' '29.14' '29.37'\n",
      " '29.35' '29.15' '29.17' '29.48' '29.52' '29.27' '29.50' '28.59' '28.67'\n",
      " '28.75' '29.02' '29.79' '29.86' '29.63' '29.70' '28.95' '29.01' '28.79'\n",
      " '28.85' '28.97' '28.89' '28.94' '28.93' '28.98' '28.96' '29.00' '29.66'\n",
      " '29.09' '28.90' '29.04' '29.59' '29.65' '29.58' '29.61' '29.64' '29.71'\n",
      " '29.67' '28.80' '28.73' '29.68' '28.74' '28.55' '28.63' '28.92' '28.99'\n",
      " '28.81' '28.71' '28.69' '28.77' '28.83']\n",
      "Value count of SeaLevel\n",
      "['29.82' '30.09' '30.08' '30.12' '30.05' '30.04' '30.10' '30.29' '30.28'\n",
      " '30.03' '30.02' '29.94' '29.93' '29.92' '29.91' '30.20' '30.19' '30.24'\n",
      " '29.97' '29.98' '29.84' '29.83' '30.27' '30.25' '30.26' '30.11' '30.06'\n",
      " '30.23' '30.15' '30.14' '30.00' '29.99' '29.90' '29.77' '29.76' '29.56'\n",
      " '29.54' '29.52' '29.51' '29.79' '29.78' '29.81' '29.55' '29.85' '30.07'\n",
      " '30.16' nan '29.96' '29.95' '30.13' '30.21' '30.22' '29.88' '30.01'\n",
      " '29.80' '29.89' '29.74' '29.87' '29.86' '30.18' '30.17' '29.34' '29.44'\n",
      " '29.45' '29.71' '29.72' '30.52' '30.53' '30.40' '30.41' '29.67' '29.53'\n",
      " '29.69' '29.61' '29.64' '29.63' '29.66' '29.70' '30.34' '30.33' '29.62'\n",
      " '29.60' '29.75' '29.68' '29.73' '30.31' '30.30' '30.32' '30.37' '30.39'\n",
      " '29.59' '29.65' '30.35' '30.36' '29.48' '30.38' '29.50' '29.25' '29.23'\n",
      " '29.46' '29.43' '29.47']\n",
      "Value count of AvgSpeed\n",
      "['9.2' '9.6' '13.4' '11.9' '13.2' '10.8' '10.4' '12.0' '11.5' '15.0'\n",
      " '14.5' '10.5' '9.9' '5.8' '5.4' '6.2' '5.9' '4.1' '3.9' '12.9' '12.8'\n",
      " '13.0' '8.1' '7.6' '17.3' '14.6' '12.3' '12.2' '11.8' '11.3' '7.5' '5.5'\n",
      " '11.4' '10.7' '9.7' '8.2' '7.8' '10.2' '10.6' '11.2' '15.2' '8.8' '7.2'\n",
      " '9.5' '5.3' '5.2' '6.5' '7.4' '10.1' '6.4' '6.7' '23.1' '20.7' '13.8'\n",
      " '12.4' '5.0' '4.7' '5.6' '6.9' '8.4' '10.0' '8.6' nan '6.8' '4.9' '6.1'\n",
      " '6.3' '15.1' '12.6' '7.7' '8.7' '9.0' '8.0' '6.0' '7.1' '8.5' '12.5'\n",
      " '13.3' '8.3' '7.3' '13.1' '12.7' '10.9' '11.1' '13.9' '6.6' '14.4' '9.1'\n",
      " '3.3' '3.5' '4.0' '7.0' '9.4' '7.9' '5.7' '4.3' '4.6' '3.7' '11.7' '4.4'\n",
      " '12.1' '13.5' '13.7' '11.0' '9.8' '8.9' '10.3' '15.5' '18.9' '17.2'\n",
      " '16.7' '18.0' '18.2' '16.8' '14.1' '14.7' '4.2' '9.3' '14.3' '17.7'\n",
      " '17.8' '15.9' '19.3' '17.4' '3.8' '4.8' '14.0' '21.5' '19.5' '16.3' '5.1'\n",
      " '3.6' '3.2' '4.5' '2.9' '3.1' '2.7' '18.4' '16.4' '14.8' '11.6' '13.6'\n",
      " '2.4' '2.6' '3.4' '3.0' '2.1' '20.2' '14.9' '16.2' '15.4' '17.9' '14.2'\n",
      " '15.3' '15.7' '16.1' '18.8' '17.1' '16.6' '26.3' '21.4' '23.2' '22.1'\n",
      " '15.6' '16.9' '2.0' '2.3' '1.7' '19.9' '17.6' '18.5' '18.1' '16.0' '15.8'\n",
      " '2.8' '1.9' '22.9' '22.6']\n"
     ]
    }
   ],
   "source": [
    "# weather.drop('Water1')\n",
    "lst = ['Tavg','WetBulb','Heat','Cool','PrecipTotal','StnPressure','SeaLevel','AvgSpeed']\n",
    "value_count(weather,lst)"
   ]
  },
  {
   "cell_type": "markdown",
   "metadata": {},
   "source": [
    "https://www.wunderground.com/maps/precipitation/daily\n",
    "https://www.weather.gov/gyx/WindSpeedAndDirection\n",
    "https://en.wikipedia.org/wiki/Precipitation\n",
    "https://forecast.weather.gov/glossary.php?word=Sea%20Level%20Pressure"
   ]
  },
  {
   "cell_type": "markdown",
   "metadata": {},
   "source": [
    "- Dry Bulb Temperature - Tdb\n",
    "The Dry Bulb temperature, usually referred to as \"air temperature\", is the air property that is most commonly used. When people refer to the temperature of the air they are normally referring to the dry bulb temperature.\n",
    "- The Wet Bulb temperature is the adiabatic saturation temperature.\n",
    "Wet Bulb temperature can be measured by using a thermometer with the bulb wrapped in wet muslin. The adiabatic evaporation of water from the thermometer bulb and the cooling effect is indicated by a \"wet bulb temperature\" lower than the \"dry bulb temperature\" in the air.\n",
    "- Dew Point Temperature - Tdp\n",
    "The Dew Point is the temperature where water vapor starts to condense out of the air (the temperature at which air becomes completely saturated). Above this temperature the moisture stays in the air.\n",
    "- Sunrise and Sunset are observed value not useful for our prediction\n",
    "- Heat and Cool is related to Wetbulb -\n",
    "- Preciptation - \n",
    "Precipitation occurs when a portion of the atmosphere becomes saturated with water vapor (reaching 100% relative humidity), so that the water condenses and \"precipitates\" or falls.\n",
    "- StnPressure - \n",
    "STATION PRESSURE: This is the pressure that is observed at a specific elevation and is the true barometric pressure of a location. I \n",
    "- SeaLevel  \n",
    "This is the pressure reading most commonly used by meteorologists to track weather systems at the surface.\n",
    "- ResultSpeed     \n",
    "Resulted speed of the wind\n",
    "- ResultDir       \n",
    "Resulted Direction\n",
    "- AvgSpeed         \n",
    "Average Speed of the wind"
   ]
  },
  {
   "cell_type": "code",
   "execution_count": 24,
   "metadata": {},
   "outputs": [
    {
     "name": "stdout",
     "output_type": "stream",
     "text": [
      "Station        0\n",
      "Date           0\n",
      "Tmax           0\n",
      "Tmin           0\n",
      "Tavg           0\n",
      "DewPoint       0\n",
      "WetBulb        0\n",
      "Heat           0\n",
      "Cool           0\n",
      "PrecipTotal    0\n",
      "StnPressure    0\n",
      "SeaLevel       0\n",
      "ResultSpeed    0\n",
      "ResultDir      0\n",
      "AvgSpeed       0\n",
      "dtype: int64\n"
     ]
    },
    {
     "name": "stderr",
     "output_type": "stream",
     "text": [
      "C:\\Users\\vijan\\anaconda3\\lib\\site-packages\\pandas\\core\\indexing.py:671: SettingWithCopyWarning: \n",
      "A value is trying to be set on a copy of a slice from a DataFrame\n",
      "\n",
      "See the caveats in the documentation: https://pandas.pydata.org/pandas-docs/stable/user_guide/indexing.html#returning-a-view-versus-a-copy\n",
      "  self._setitem_with_indexer(indexer, value)\n"
     ]
    },
    {
     "data": {
      "text/plain": [
       "Station          int64\n",
       "Date            object\n",
       "Tmax             int64\n",
       "Tmin             int64\n",
       "Tavg           float64\n",
       "DewPoint         int64\n",
       "WetBulb        float64\n",
       "Heat           float64\n",
       "Cool           float64\n",
       "PrecipTotal    float64\n",
       "StnPressure    float64\n",
       "SeaLevel       float64\n",
       "ResultSpeed    float64\n",
       "ResultDir        int64\n",
       "AvgSpeed       float64\n",
       "dtype: object"
      ]
     },
     "metadata": {},
     "output_type": "display_data"
    },
    {
     "data": {
      "text/html": [
       "<div>\n",
       "<style scoped>\n",
       "    .dataframe tbody tr th:only-of-type {\n",
       "        vertical-align: middle;\n",
       "    }\n",
       "\n",
       "    .dataframe tbody tr th {\n",
       "        vertical-align: top;\n",
       "    }\n",
       "\n",
       "    .dataframe thead th {\n",
       "        text-align: right;\n",
       "    }\n",
       "</style>\n",
       "<table border=\"1\" class=\"dataframe\">\n",
       "  <thead>\n",
       "    <tr style=\"text-align: right;\">\n",
       "      <th></th>\n",
       "      <th>Station</th>\n",
       "      <th>Tmax</th>\n",
       "      <th>Tmin</th>\n",
       "      <th>Tavg</th>\n",
       "      <th>DewPoint</th>\n",
       "      <th>WetBulb</th>\n",
       "      <th>Heat</th>\n",
       "      <th>Cool</th>\n",
       "      <th>PrecipTotal</th>\n",
       "      <th>StnPressure</th>\n",
       "      <th>SeaLevel</th>\n",
       "      <th>ResultSpeed</th>\n",
       "      <th>ResultDir</th>\n",
       "      <th>AvgSpeed</th>\n",
       "    </tr>\n",
       "  </thead>\n",
       "  <tbody>\n",
       "    <tr>\n",
       "      <th>count</th>\n",
       "      <td>2944.000000</td>\n",
       "      <td>2944.000000</td>\n",
       "      <td>2944.000000</td>\n",
       "      <td>2944.000000</td>\n",
       "      <td>2944.000000</td>\n",
       "      <td>2944.000000</td>\n",
       "      <td>2944.000000</td>\n",
       "      <td>2944.000000</td>\n",
       "      <td>2944.000000</td>\n",
       "      <td>2944.000000</td>\n",
       "      <td>2944.000000</td>\n",
       "      <td>2944.000000</td>\n",
       "      <td>2944.000000</td>\n",
       "      <td>2944.000000</td>\n",
       "    </tr>\n",
       "    <tr>\n",
       "      <th>mean</th>\n",
       "      <td>1.500000</td>\n",
       "      <td>76.166101</td>\n",
       "      <td>57.810462</td>\n",
       "      <td>67.246603</td>\n",
       "      <td>53.457880</td>\n",
       "      <td>59.313179</td>\n",
       "      <td>3.394361</td>\n",
       "      <td>5.640965</td>\n",
       "      <td>0.131240</td>\n",
       "      <td>29.284423</td>\n",
       "      <td>29.968135</td>\n",
       "      <td>6.960666</td>\n",
       "      <td>17.494905</td>\n",
       "      <td>8.579959</td>\n",
       "    </tr>\n",
       "    <tr>\n",
       "      <th>std</th>\n",
       "      <td>0.500085</td>\n",
       "      <td>11.461970</td>\n",
       "      <td>10.381939</td>\n",
       "      <td>10.526264</td>\n",
       "      <td>10.675181</td>\n",
       "      <td>9.280637</td>\n",
       "      <td>5.945704</td>\n",
       "      <td>6.094496</td>\n",
       "      <td>0.393208</td>\n",
       "      <td>0.158436</td>\n",
       "      <td>0.158354</td>\n",
       "      <td>3.587527</td>\n",
       "      <td>10.063609</td>\n",
       "      <td>3.145733</td>\n",
       "    </tr>\n",
       "    <tr>\n",
       "      <th>min</th>\n",
       "      <td>1.000000</td>\n",
       "      <td>41.000000</td>\n",
       "      <td>29.000000</td>\n",
       "      <td>36.000000</td>\n",
       "      <td>22.000000</td>\n",
       "      <td>32.000000</td>\n",
       "      <td>0.000000</td>\n",
       "      <td>0.000000</td>\n",
       "      <td>0.000000</td>\n",
       "      <td>28.550000</td>\n",
       "      <td>29.230000</td>\n",
       "      <td>0.100000</td>\n",
       "      <td>1.000000</td>\n",
       "      <td>1.700000</td>\n",
       "    </tr>\n",
       "    <tr>\n",
       "      <th>25%</th>\n",
       "      <td>1.000000</td>\n",
       "      <td>69.000000</td>\n",
       "      <td>50.000000</td>\n",
       "      <td>60.000000</td>\n",
       "      <td>46.000000</td>\n",
       "      <td>53.000000</td>\n",
       "      <td>0.000000</td>\n",
       "      <td>0.000000</td>\n",
       "      <td>0.000000</td>\n",
       "      <td>29.190000</td>\n",
       "      <td>29.870000</td>\n",
       "      <td>4.300000</td>\n",
       "      <td>7.000000</td>\n",
       "      <td>6.300000</td>\n",
       "    </tr>\n",
       "    <tr>\n",
       "      <th>50%</th>\n",
       "      <td>1.500000</td>\n",
       "      <td>78.000000</td>\n",
       "      <td>59.000000</td>\n",
       "      <td>69.000000</td>\n",
       "      <td>54.000000</td>\n",
       "      <td>61.000000</td>\n",
       "      <td>0.000000</td>\n",
       "      <td>4.000000</td>\n",
       "      <td>0.000000</td>\n",
       "      <td>29.280000</td>\n",
       "      <td>29.970000</td>\n",
       "      <td>6.400000</td>\n",
       "      <td>19.000000</td>\n",
       "      <td>8.100000</td>\n",
       "    </tr>\n",
       "    <tr>\n",
       "      <th>75%</th>\n",
       "      <td>2.000000</td>\n",
       "      <td>85.000000</td>\n",
       "      <td>66.000000</td>\n",
       "      <td>75.000000</td>\n",
       "      <td>62.000000</td>\n",
       "      <td>67.000000</td>\n",
       "      <td>5.000000</td>\n",
       "      <td>10.000000</td>\n",
       "      <td>0.060000</td>\n",
       "      <td>29.390000</td>\n",
       "      <td>30.060000</td>\n",
       "      <td>9.200000</td>\n",
       "      <td>25.000000</td>\n",
       "      <td>10.400000</td>\n",
       "    </tr>\n",
       "    <tr>\n",
       "      <th>max</th>\n",
       "      <td>2.000000</td>\n",
       "      <td>104.000000</td>\n",
       "      <td>83.000000</td>\n",
       "      <td>94.000000</td>\n",
       "      <td>75.000000</td>\n",
       "      <td>78.000000</td>\n",
       "      <td>29.000000</td>\n",
       "      <td>29.000000</td>\n",
       "      <td>6.860000</td>\n",
       "      <td>29.860000</td>\n",
       "      <td>30.530000</td>\n",
       "      <td>24.100000</td>\n",
       "      <td>36.000000</td>\n",
       "      <td>26.300000</td>\n",
       "    </tr>\n",
       "  </tbody>\n",
       "</table>\n",
       "</div>"
      ],
      "text/plain": [
       "           Station         Tmax         Tmin         Tavg     DewPoint  \\\n",
       "count  2944.000000  2944.000000  2944.000000  2944.000000  2944.000000   \n",
       "mean      1.500000    76.166101    57.810462    67.246603    53.457880   \n",
       "std       0.500085    11.461970    10.381939    10.526264    10.675181   \n",
       "min       1.000000    41.000000    29.000000    36.000000    22.000000   \n",
       "25%       1.000000    69.000000    50.000000    60.000000    46.000000   \n",
       "50%       1.500000    78.000000    59.000000    69.000000    54.000000   \n",
       "75%       2.000000    85.000000    66.000000    75.000000    62.000000   \n",
       "max       2.000000   104.000000    83.000000    94.000000    75.000000   \n",
       "\n",
       "           WetBulb         Heat         Cool  PrecipTotal  StnPressure  \\\n",
       "count  2944.000000  2944.000000  2944.000000  2944.000000  2944.000000   \n",
       "mean     59.313179     3.394361     5.640965     0.131240    29.284423   \n",
       "std       9.280637     5.945704     6.094496     0.393208     0.158436   \n",
       "min      32.000000     0.000000     0.000000     0.000000    28.550000   \n",
       "25%      53.000000     0.000000     0.000000     0.000000    29.190000   \n",
       "50%      61.000000     0.000000     4.000000     0.000000    29.280000   \n",
       "75%      67.000000     5.000000    10.000000     0.060000    29.390000   \n",
       "max      78.000000    29.000000    29.000000     6.860000    29.860000   \n",
       "\n",
       "          SeaLevel  ResultSpeed    ResultDir     AvgSpeed  \n",
       "count  2944.000000  2944.000000  2944.000000  2944.000000  \n",
       "mean     29.968135     6.960666    17.494905     8.579959  \n",
       "std       0.158354     3.587527    10.063609     3.145733  \n",
       "min      29.230000     0.100000     1.000000     1.700000  \n",
       "25%      29.870000     4.300000     7.000000     6.300000  \n",
       "50%      29.970000     6.400000    19.000000     8.100000  \n",
       "75%      30.060000     9.200000    25.000000    10.400000  \n",
       "max      30.530000    24.100000    36.000000    26.300000  "
      ]
     },
     "metadata": {},
     "output_type": "display_data"
    }
   ],
   "source": [
    "# Decided to imputate the null values with median value\n",
    "for col in lst:\n",
    "    median = weather[col].median()\n",
    "    null_col = weather[col].isnull()\n",
    "    weather[col].loc[null_col] = median\n",
    "    weather[col] = weather[col].astype(float)\n",
    "# print null\n",
    "print(weather.isnull().sum())\n",
    "# print col\n",
    "display(weather.dtypes)\n",
    "# Display the weather imputation\n",
    "display(weather.describe())"
   ]
  },
  {
   "cell_type": "markdown",
   "metadata": {},
   "source": [
    "## EDA (Exploratory Data analysis)\n",
    "https://heartbeat.fritz.ai/seaborn-heatmaps-13-ways-to-customize-correlation-matrix-visualizations-f1c49c816f07\n"
   ]
  },
  {
   "cell_type": "code",
   "execution_count": 25,
   "metadata": {
    "scrolled": true
   },
   "outputs": [
    {
     "data": {
      "text/plain": [
       "<matplotlib.axes._subplots.AxesSubplot at 0x259486d3130>"
      ]
     },
     "execution_count": 25,
     "metadata": {},
     "output_type": "execute_result"
    },
    {
     "data": {
      "image/png": "[encoded data removed]",
      "text/plain": [
       "<Figure size 1296x432 with 2 Axes>"
      ]
     },
     "metadata": {
      "needs_background": "light"
     },
     "output_type": "display_data"
    }
   ],
   "source": [
    "## Heat map is the good way of finding the correlation\n",
    "plt.figure(figsize=(18,6))\n",
    "matrix = np.triu(weather.corr())\n",
    "sns.heatmap(weather.corr(), annot=True, mask=matrix, cmap='coolwarm',linecolor='black')"
   ]
  },
  {
   "cell_type": "code",
   "execution_count": 26,
   "metadata": {},
   "outputs": [
    {
     "name": "stdout",
     "output_type": "stream",
     "text": [
      "   Station        Date  WetBulb  PrecipTotal  StnPressure  ResultDir  AvgSpeed\n",
      "0        1  2007-05-01     56.0          0.0        29.10         27       9.2\n",
      "1        2  2007-05-01     57.0          0.0        29.18         25       9.6\n",
      "2        1  2007-05-02     47.0          0.0        29.38          4      13.4\n",
      "3        2  2007-05-02     47.0          0.0        29.44          2      13.4\n",
      "4        1  2007-05-03     48.0          0.0        29.39          7      11.9\n"
     ]
    }
   ],
   "source": [
    "# We can see from the heatplt Tmin, Tmax and Tavg and Dewpoint and WetBulbare highly correlated, we will keep\n",
    "# only Tavg for modelling purpose\n",
    "## Heat negatively  and Cool positively correlated figures which we cal drop \n",
    "## Sealevel and StnPressure are highly correlated so we drop SeaLevel\n",
    "## Result Speed and Avgspeed are correlated so we will keep AvgSpeed and drop ResultSpeed\n",
    "drop_col =['Tmin','Tmax','DewPoint','Tavg','Heat','Cool','SeaLevel','ResultSpeed']\n",
    "weather.drop(drop_col,axis=1, inplace=True)\n",
    "print(weather.head())"
   ]
  },
  {
   "cell_type": "code",
   "execution_count": 27,
   "metadata": {
    "scrolled": true
   },
   "outputs": [
    {
     "data": {
      "text/html": [
       "<div>\n",
       "<style scoped>\n",
       "    .dataframe tbody tr th:only-of-type {\n",
       "        vertical-align: middle;\n",
       "    }\n",
       "\n",
       "    .dataframe tbody tr th {\n",
       "        vertical-align: top;\n",
       "    }\n",
       "\n",
       "    .dataframe thead th {\n",
       "        text-align: right;\n",
       "    }\n",
       "</style>\n",
       "<table border=\"1\" class=\"dataframe\">\n",
       "  <thead>\n",
       "    <tr style=\"text-align: right;\">\n",
       "      <th></th>\n",
       "      <th>Station</th>\n",
       "      <th>Date</th>\n",
       "      <th>WetBulb</th>\n",
       "      <th>PrecipTotal</th>\n",
       "      <th>StnPressure</th>\n",
       "      <th>ResultDir</th>\n",
       "      <th>AvgSpeed</th>\n",
       "    </tr>\n",
       "  </thead>\n",
       "  <tbody>\n",
       "    <tr>\n",
       "      <th>0</th>\n",
       "      <td>1</td>\n",
       "      <td>2007-05-01</td>\n",
       "      <td>56.0</td>\n",
       "      <td>0.0</td>\n",
       "      <td>29.10</td>\n",
       "      <td>27</td>\n",
       "      <td>9.2</td>\n",
       "    </tr>\n",
       "    <tr>\n",
       "      <th>1</th>\n",
       "      <td>2</td>\n",
       "      <td>2007-05-01</td>\n",
       "      <td>57.0</td>\n",
       "      <td>0.0</td>\n",
       "      <td>29.18</td>\n",
       "      <td>25</td>\n",
       "      <td>9.6</td>\n",
       "    </tr>\n",
       "    <tr>\n",
       "      <th>2</th>\n",
       "      <td>1</td>\n",
       "      <td>2007-05-02</td>\n",
       "      <td>47.0</td>\n",
       "      <td>0.0</td>\n",
       "      <td>29.38</td>\n",
       "      <td>4</td>\n",
       "      <td>13.4</td>\n",
       "    </tr>\n",
       "    <tr>\n",
       "      <th>3</th>\n",
       "      <td>2</td>\n",
       "      <td>2007-05-02</td>\n",
       "      <td>47.0</td>\n",
       "      <td>0.0</td>\n",
       "      <td>29.44</td>\n",
       "      <td>2</td>\n",
       "      <td>13.4</td>\n",
       "    </tr>\n",
       "    <tr>\n",
       "      <th>4</th>\n",
       "      <td>1</td>\n",
       "      <td>2007-05-03</td>\n",
       "      <td>48.0</td>\n",
       "      <td>0.0</td>\n",
       "      <td>29.39</td>\n",
       "      <td>7</td>\n",
       "      <td>11.9</td>\n",
       "    </tr>\n",
       "  </tbody>\n",
       "</table>\n",
       "</div>"
      ],
      "text/plain": [
       "   Station        Date  WetBulb  PrecipTotal  StnPressure  ResultDir  AvgSpeed\n",
       "0        1  2007-05-01     56.0          0.0        29.10         27       9.2\n",
       "1        2  2007-05-01     57.0          0.0        29.18         25       9.6\n",
       "2        1  2007-05-02     47.0          0.0        29.38          4      13.4\n",
       "3        2  2007-05-02     47.0          0.0        29.44          2      13.4\n",
       "4        1  2007-05-03     48.0          0.0        29.39          7      11.9"
      ]
     },
     "execution_count": 27,
     "metadata": {},
     "output_type": "execute_result"
    }
   ],
   "source": [
    "weather.head()"
   ]
  },
  {
   "cell_type": "code",
   "execution_count": 28,
   "metadata": {},
   "outputs": [
    {
     "name": "stdout",
     "output_type": "stream",
     "text": [
      "(14835, 4)\n",
      "         Date        Time   Latitude  Longitude\n",
      "0  2011-08-29  6:56:58 PM  42.391623 -88.089163\n",
      "1  2011-08-29  6:57:08 PM  42.391348 -88.089163\n",
      "2  2011-08-29  6:57:18 PM  42.391022 -88.089157\n",
      "3  2011-08-29  6:57:28 PM  42.390637 -88.089158\n",
      "4  2011-08-29  6:57:38 PM  42.390410 -88.088858\n",
      "Date           0\n",
      "Time         584\n",
      "Latitude       0\n",
      "Longitude      0\n",
      "dtype: int64\n"
     ]
    }
   ],
   "source": [
    "# Spray shape\n",
    "print(spray.shape)\n",
    "## Spray DataSet \n",
    "print(spray.head())\n",
    "## Check nullvalues\n",
    "print(spray.isnull().sum())"
   ]
  },
  {
   "cell_type": "code",
   "execution_count": 29,
   "metadata": {
    "scrolled": false
   },
   "outputs": [
    {
     "data": {
      "image/png": "[encoded data removed]",
      "text/plain": [
       "<Figure size 720x432 with 1 Axes>"
      ]
     },
     "metadata": {
      "needs_background": "light"
     },
     "output_type": "display_data"
    }
   ],
   "source": [
    "plt.figure(figsize =(10,6))\n",
    "spray['Date'].value_counts().plot.bar();\n",
    "plt.title('Spray Data',fontsize=18);"
   ]
  },
  {
   "cell_type": "code",
   "execution_count": 30,
   "metadata": {},
   "outputs": [],
   "source": [
    "## Spray happened only 10 days in year 2011 and 2013 and training data is not \n",
    "## available for those year so decided not to merge with test data.\n",
    "# We can see from bar plot, the spray has been done for 10 days.\n",
    "#Month of August and September in 2011, month of July, Aug and September in 2013"
   ]
  },
  {
   "cell_type": "code",
   "execution_count": 31,
   "metadata": {},
   "outputs": [],
   "source": [
    "# https://www.kaggle.com/jbobtaylor/show-map-image-in-python"
   ]
  },
  {
   "cell_type": "code",
   "execution_count": 32,
   "metadata": {
    "scrolled": false
   },
   "outputs": [],
   "source": [
    "# Datafram of the traps and virus present\n",
    "traps = train[['Date','Species','Trap','NumMosquitos', 'WnvPresent']]\n",
    "traps.head()\n",
    "traps = traps.groupby(['Date', 'Trap', 'Species']).max().reset_index()"
   ]
  },
  {
   "cell_type": "code",
   "execution_count": 33,
   "metadata": {
    "scrolled": false
   },
   "outputs": [
    {
     "name": "stderr",
     "output_type": "stream",
     "text": [
      "<ipython-input-33-d52d71c62017>:2: FutureWarning: Indexing with multiple keys (implicitly converted to a tuple of keys) will be deprecated, use a list instead.\n",
      "  Trap = train.groupby('Trap')['NumMosquitos','WnvPresent'].sum()\n"
     ]
    },
    {
     "data": {
      "text/plain": [
       "<Figure size 1296x864 with 0 Axes>"
      ]
     },
     "metadata": {},
     "output_type": "display_data"
    },
    {
     "data": {
      "image/png": "[encoded data removed]",
      "text/plain": [
       "<Figure size 432x288 with 1 Axes>"
      ]
     },
     "metadata": {
      "needs_background": "light"
     },
     "output_type": "display_data"
    }
   ],
   "source": [
    "plt.figure(figsize=(18,12))\n",
    "Trap = train.groupby('Trap')['NumMosquitos','WnvPresent'].sum()\n",
    "Trap.sort_values('NumMosquitos',ascending=True).head(30).plot.bar()\n",
    "plt.title(\"Mosquitos and WnVPresent count by Trap\", fontdict={'size': 15});"
   ]
  },
  {
   "cell_type": "code",
   "execution_count": 34,
   "metadata": {},
   "outputs": [],
   "source": [
    "# We can see some of the Traps like T005,T036,T142,T156,T077,T162 showing the presend of WnvPresent"
   ]
  },
  {
   "cell_type": "code",
   "execution_count": 35,
   "metadata": {
    "scrolled": true
   },
   "outputs": [
    {
     "name": "stderr",
     "output_type": "stream",
     "text": [
      "<ipython-input-35-a6dbfd474024>:3: FutureWarning: Indexing with multiple keys (implicitly converted to a tuple of keys) will be deprecated, use a list instead.\n",
      "  train.groupby('Species')['NumMosquitos','WnvPresent'].sum().plot.bar()\n"
     ]
    },
    {
     "data": {
      "text/plain": [
       "<Figure size 432x576 with 0 Axes>"
      ]
     },
     "metadata": {},
     "output_type": "display_data"
    },
    {
     "data": {
      "image/png": "[encoded data removed]",
      "text/plain": [
       "<Figure size 432x288 with 1 Axes>"
      ]
     },
     "metadata": {
      "needs_background": "light"
     },
     "output_type": "display_data"
    }
   ],
   "source": [
    "# Number of Mosquitoes per species\n",
    "plt.figure(figsize=(6,8))\n",
    "train.groupby('Species')['NumMosquitos','WnvPresent'].sum().plot.bar()\n",
    "plt.title(\"Mosquitos and WnVPresent count by Trap\", fontdict={'size':15});"
   ]
  },
  {
   "cell_type": "code",
   "execution_count": 36,
   "metadata": {},
   "outputs": [],
   "source": [
    "# Species Culwx Pipens/Restuans,Culex Restuans and Culex pipiens species are\n",
    "# main carrier of virus.  "
   ]
  },
  {
   "cell_type": "code",
   "execution_count": 37,
   "metadata": {},
   "outputs": [],
   "source": [
    "# Convert Date to datetime format and add Year & Month columns\n",
    "files = [train,weather,test]\n",
    "for file in files:\n",
    "    file['Date'] = pd.to_datetime(file['Date'], format='%Y-%m-%d' )\n",
    "    file['Year'] = file['Date'].dt.year\n",
    "    file['Month'] = file['Date'].dt.month\n",
    "    file['Day'] = file['Date'].dt.day"
   ]
  },
  {
   "cell_type": "code",
   "execution_count": 38,
   "metadata": {},
   "outputs": [],
   "source": [
    "# Training set data : Year 2007,2011,2009, 2013\n",
    "# Test Data : Year 2008, 2010, 2012, 2014\n",
    "# Spray Data : Year 2011 and 2013\n",
    "# Weather data: Year 2007-2014 "
   ]
  },
  {
   "cell_type": "code",
   "execution_count": 39,
   "metadata": {},
   "outputs": [
    {
     "data": {
      "text/plain": [
       "Text(0.5, 1.0, 'Weather Data')"
      ]
     },
     "execution_count": 39,
     "metadata": {},
     "output_type": "execute_result"
    },
    {
     "data": {
      "image/png": "[encoded data removed]",
      "text/plain": [
       "<Figure size 432x432 with 1 Axes>"
      ]
     },
     "metadata": {
      "needs_background": "light"
     },
     "output_type": "display_data"
    }
   ],
   "source": [
    "plt.figure(figsize =(6,6))\n",
    "weather['Year'].value_counts().plot.bar();\n",
    "plt.title('Weather Data',fontsize=18)"
   ]
  },
  {
   "cell_type": "code",
   "execution_count": 40,
   "metadata": {
    "scrolled": false
   },
   "outputs": [
    {
     "data": {
      "text/plain": [
       "Text(0.5, 1.0, 'Train Data')"
      ]
     },
     "execution_count": 40,
     "metadata": {},
     "output_type": "execute_result"
    },
    {
     "data": {
      "image/png": "[encoded data removed]",
      "text/plain": [
       "<Figure size 432x432 with 1 Axes>"
      ]
     },
     "metadata": {
      "needs_background": "light"
     },
     "output_type": "display_data"
    }
   ],
   "source": [
    "plt.figure(figsize =(6,6))\n",
    "train['Year'].value_counts().plot.bar();\n",
    "plt.title('Train Data',fontsize=18)"
   ]
  },
  {
   "cell_type": "code",
   "execution_count": 41,
   "metadata": {
    "scrolled": false
   },
   "outputs": [
    {
     "data": {
      "text/plain": [
       "Text(0.5, 1.0, 'Train Data')"
      ]
     },
     "execution_count": 41,
     "metadata": {},
     "output_type": "execute_result"
    },
    {
     "data": {
      "image/png": "[encoded data removed]",
      "text/plain": [
       "<Figure size 432x432 with 1 Axes>"
      ]
     },
     "metadata": {
      "needs_background": "light"
     },
     "output_type": "display_data"
    }
   ],
   "source": [
    "plt.figure(figsize =(6,6))\n",
    "test['Year'].value_counts().plot.bar();\n",
    "plt.title('Train Data',fontsize=18)"
   ]
  },
  {
   "cell_type": "markdown",
   "metadata": {},
   "source": [
    "##### Prepare the data for modeling:\n",
    "\n",
    "- Combine Station1 & Station2 weather data by Date\n",
    "- Combine Train and Weather data by Date\n",
    "- Process Categorical Featues\n",
    "- Identify features "
   ]
  },
  {
   "cell_type": "code",
   "execution_count": 42,
   "metadata": {
    "scrolled": false
   },
   "outputs": [
    {
     "data": {
      "text/html": [
       "<div>\n",
       "<style scoped>\n",
       "    .dataframe tbody tr th:only-of-type {\n",
       "        vertical-align: middle;\n",
       "    }\n",
       "\n",
       "    .dataframe tbody tr th {\n",
       "        vertical-align: top;\n",
       "    }\n",
       "\n",
       "    .dataframe thead th {\n",
       "        text-align: right;\n",
       "    }\n",
       "</style>\n",
       "<table border=\"1\" class=\"dataframe\">\n",
       "  <thead>\n",
       "    <tr style=\"text-align: right;\">\n",
       "      <th></th>\n",
       "      <th>Station</th>\n",
       "      <th>Date</th>\n",
       "      <th>WetBulb</th>\n",
       "      <th>PrecipTotal</th>\n",
       "      <th>StnPressure</th>\n",
       "      <th>ResultDir</th>\n",
       "      <th>AvgSpeed</th>\n",
       "      <th>Year</th>\n",
       "      <th>Month</th>\n",
       "      <th>Day</th>\n",
       "    </tr>\n",
       "  </thead>\n",
       "  <tbody>\n",
       "    <tr>\n",
       "      <th>0</th>\n",
       "      <td>1</td>\n",
       "      <td>2007-05-01</td>\n",
       "      <td>56.0</td>\n",
       "      <td>0.0</td>\n",
       "      <td>29.10</td>\n",
       "      <td>27</td>\n",
       "      <td>9.2</td>\n",
       "      <td>2007</td>\n",
       "      <td>5</td>\n",
       "      <td>1</td>\n",
       "    </tr>\n",
       "    <tr>\n",
       "      <th>1</th>\n",
       "      <td>2</td>\n",
       "      <td>2007-05-01</td>\n",
       "      <td>57.0</td>\n",
       "      <td>0.0</td>\n",
       "      <td>29.18</td>\n",
       "      <td>25</td>\n",
       "      <td>9.6</td>\n",
       "      <td>2007</td>\n",
       "      <td>5</td>\n",
       "      <td>1</td>\n",
       "    </tr>\n",
       "    <tr>\n",
       "      <th>2</th>\n",
       "      <td>1</td>\n",
       "      <td>2007-05-02</td>\n",
       "      <td>47.0</td>\n",
       "      <td>0.0</td>\n",
       "      <td>29.38</td>\n",
       "      <td>4</td>\n",
       "      <td>13.4</td>\n",
       "      <td>2007</td>\n",
       "      <td>5</td>\n",
       "      <td>2</td>\n",
       "    </tr>\n",
       "    <tr>\n",
       "      <th>3</th>\n",
       "      <td>2</td>\n",
       "      <td>2007-05-02</td>\n",
       "      <td>47.0</td>\n",
       "      <td>0.0</td>\n",
       "      <td>29.44</td>\n",
       "      <td>2</td>\n",
       "      <td>13.4</td>\n",
       "      <td>2007</td>\n",
       "      <td>5</td>\n",
       "      <td>2</td>\n",
       "    </tr>\n",
       "    <tr>\n",
       "      <th>4</th>\n",
       "      <td>1</td>\n",
       "      <td>2007-05-03</td>\n",
       "      <td>48.0</td>\n",
       "      <td>0.0</td>\n",
       "      <td>29.39</td>\n",
       "      <td>7</td>\n",
       "      <td>11.9</td>\n",
       "      <td>2007</td>\n",
       "      <td>5</td>\n",
       "      <td>3</td>\n",
       "    </tr>\n",
       "  </tbody>\n",
       "</table>\n",
       "</div>"
      ],
      "text/plain": [
       "   Station       Date  WetBulb  PrecipTotal  StnPressure  ResultDir  AvgSpeed  \\\n",
       "0        1 2007-05-01     56.0          0.0        29.10         27       9.2   \n",
       "1        2 2007-05-01     57.0          0.0        29.18         25       9.6   \n",
       "2        1 2007-05-02     47.0          0.0        29.38          4      13.4   \n",
       "3        2 2007-05-02     47.0          0.0        29.44          2      13.4   \n",
       "4        1 2007-05-03     48.0          0.0        29.39          7      11.9   \n",
       "\n",
       "   Year  Month  Day  \n",
       "0  2007      5    1  \n",
       "1  2007      5    1  \n",
       "2  2007      5    2  \n",
       "3  2007      5    2  \n",
       "4  2007      5    3  "
      ]
     },
     "metadata": {},
     "output_type": "display_data"
    }
   ],
   "source": [
    "display(weather.head())"
   ]
  },
  {
   "cell_type": "code",
   "execution_count": 43,
   "metadata": {
    "scrolled": false
   },
   "outputs": [
    {
     "data": {
      "text/html": [
       "<div>\n",
       "<style scoped>\n",
       "    .dataframe tbody tr th:only-of-type {\n",
       "        vertical-align: middle;\n",
       "    }\n",
       "\n",
       "    .dataframe tbody tr th {\n",
       "        vertical-align: top;\n",
       "    }\n",
       "\n",
       "    .dataframe thead th {\n",
       "        text-align: right;\n",
       "    }\n",
       "</style>\n",
       "<table border=\"1\" class=\"dataframe\">\n",
       "  <thead>\n",
       "    <tr style=\"text-align: right;\">\n",
       "      <th></th>\n",
       "      <th>Date</th>\n",
       "      <th>Species</th>\n",
       "      <th>Trap</th>\n",
       "      <th>Latitude</th>\n",
       "      <th>Longitude</th>\n",
       "      <th>NumMosquitos</th>\n",
       "      <th>WnvPresent</th>\n",
       "      <th>Year</th>\n",
       "      <th>Month</th>\n",
       "      <th>Day</th>\n",
       "    </tr>\n",
       "  </thead>\n",
       "  <tbody>\n",
       "    <tr>\n",
       "      <th>0</th>\n",
       "      <td>2007-05-29</td>\n",
       "      <td>CULEX PIPIENS/RESTUANS</td>\n",
       "      <td>T002</td>\n",
       "      <td>41.954690</td>\n",
       "      <td>-87.800991</td>\n",
       "      <td>1</td>\n",
       "      <td>0</td>\n",
       "      <td>2007</td>\n",
       "      <td>5</td>\n",
       "      <td>29</td>\n",
       "    </tr>\n",
       "    <tr>\n",
       "      <th>1</th>\n",
       "      <td>2007-05-29</td>\n",
       "      <td>CULEX RESTUANS</td>\n",
       "      <td>T002</td>\n",
       "      <td>41.954690</td>\n",
       "      <td>-87.800991</td>\n",
       "      <td>1</td>\n",
       "      <td>0</td>\n",
       "      <td>2007</td>\n",
       "      <td>5</td>\n",
       "      <td>29</td>\n",
       "    </tr>\n",
       "    <tr>\n",
       "      <th>2</th>\n",
       "      <td>2007-05-29</td>\n",
       "      <td>CULEX RESTUANS</td>\n",
       "      <td>T007</td>\n",
       "      <td>41.994991</td>\n",
       "      <td>-87.769279</td>\n",
       "      <td>1</td>\n",
       "      <td>0</td>\n",
       "      <td>2007</td>\n",
       "      <td>5</td>\n",
       "      <td>29</td>\n",
       "    </tr>\n",
       "    <tr>\n",
       "      <th>3</th>\n",
       "      <td>2007-05-29</td>\n",
       "      <td>CULEX PIPIENS/RESTUANS</td>\n",
       "      <td>T015</td>\n",
       "      <td>41.974089</td>\n",
       "      <td>-87.824812</td>\n",
       "      <td>1</td>\n",
       "      <td>0</td>\n",
       "      <td>2007</td>\n",
       "      <td>5</td>\n",
       "      <td>29</td>\n",
       "    </tr>\n",
       "    <tr>\n",
       "      <th>4</th>\n",
       "      <td>2007-05-29</td>\n",
       "      <td>CULEX RESTUANS</td>\n",
       "      <td>T015</td>\n",
       "      <td>41.974089</td>\n",
       "      <td>-87.824812</td>\n",
       "      <td>4</td>\n",
       "      <td>0</td>\n",
       "      <td>2007</td>\n",
       "      <td>5</td>\n",
       "      <td>29</td>\n",
       "    </tr>\n",
       "  </tbody>\n",
       "</table>\n",
       "</div>"
      ],
      "text/plain": [
       "        Date                 Species  Trap   Latitude  Longitude  \\\n",
       "0 2007-05-29  CULEX PIPIENS/RESTUANS  T002  41.954690 -87.800991   \n",
       "1 2007-05-29          CULEX RESTUANS  T002  41.954690 -87.800991   \n",
       "2 2007-05-29          CULEX RESTUANS  T007  41.994991 -87.769279   \n",
       "3 2007-05-29  CULEX PIPIENS/RESTUANS  T015  41.974089 -87.824812   \n",
       "4 2007-05-29          CULEX RESTUANS  T015  41.974089 -87.824812   \n",
       "\n",
       "   NumMosquitos  WnvPresent  Year  Month  Day  \n",
       "0             1           0  2007      5   29  \n",
       "1             1           0  2007      5   29  \n",
       "2             1           0  2007      5   29  \n",
       "3             1           0  2007      5   29  \n",
       "4             4           0  2007      5   29  "
      ]
     },
     "metadata": {},
     "output_type": "display_data"
    }
   ],
   "source": [
    "display(train.head())"
   ]
  },
  {
   "cell_type": "code",
   "execution_count": 44,
   "metadata": {},
   "outputs": [
    {
     "data": {
      "text/html": [
       "<div>\n",
       "<style scoped>\n",
       "    .dataframe tbody tr th:only-of-type {\n",
       "        vertical-align: middle;\n",
       "    }\n",
       "\n",
       "    .dataframe tbody tr th {\n",
       "        vertical-align: top;\n",
       "    }\n",
       "\n",
       "    .dataframe thead th {\n",
       "        text-align: right;\n",
       "    }\n",
       "</style>\n",
       "<table border=\"1\" class=\"dataframe\">\n",
       "  <thead>\n",
       "    <tr style=\"text-align: right;\">\n",
       "      <th></th>\n",
       "      <th>Id</th>\n",
       "      <th>Date</th>\n",
       "      <th>Species</th>\n",
       "      <th>Trap</th>\n",
       "      <th>Latitude</th>\n",
       "      <th>Longitude</th>\n",
       "      <th>Year</th>\n",
       "      <th>Month</th>\n",
       "      <th>Day</th>\n",
       "    </tr>\n",
       "  </thead>\n",
       "  <tbody>\n",
       "    <tr>\n",
       "      <th>0</th>\n",
       "      <td>1</td>\n",
       "      <td>2008-06-11</td>\n",
       "      <td>CULEX PIPIENS/RESTUANS</td>\n",
       "      <td>T002</td>\n",
       "      <td>41.95469</td>\n",
       "      <td>-87.800991</td>\n",
       "      <td>2008</td>\n",
       "      <td>6</td>\n",
       "      <td>11</td>\n",
       "    </tr>\n",
       "    <tr>\n",
       "      <th>1</th>\n",
       "      <td>2</td>\n",
       "      <td>2008-06-11</td>\n",
       "      <td>CULEX RESTUANS</td>\n",
       "      <td>T002</td>\n",
       "      <td>41.95469</td>\n",
       "      <td>-87.800991</td>\n",
       "      <td>2008</td>\n",
       "      <td>6</td>\n",
       "      <td>11</td>\n",
       "    </tr>\n",
       "    <tr>\n",
       "      <th>2</th>\n",
       "      <td>3</td>\n",
       "      <td>2008-06-11</td>\n",
       "      <td>CULEX PIPIENS</td>\n",
       "      <td>T002</td>\n",
       "      <td>41.95469</td>\n",
       "      <td>-87.800991</td>\n",
       "      <td>2008</td>\n",
       "      <td>6</td>\n",
       "      <td>11</td>\n",
       "    </tr>\n",
       "    <tr>\n",
       "      <th>3</th>\n",
       "      <td>4</td>\n",
       "      <td>2008-06-11</td>\n",
       "      <td>CULEX SALINARIUS</td>\n",
       "      <td>T002</td>\n",
       "      <td>41.95469</td>\n",
       "      <td>-87.800991</td>\n",
       "      <td>2008</td>\n",
       "      <td>6</td>\n",
       "      <td>11</td>\n",
       "    </tr>\n",
       "    <tr>\n",
       "      <th>4</th>\n",
       "      <td>5</td>\n",
       "      <td>2008-06-11</td>\n",
       "      <td>CULEX TERRITANS</td>\n",
       "      <td>T002</td>\n",
       "      <td>41.95469</td>\n",
       "      <td>-87.800991</td>\n",
       "      <td>2008</td>\n",
       "      <td>6</td>\n",
       "      <td>11</td>\n",
       "    </tr>\n",
       "  </tbody>\n",
       "</table>\n",
       "</div>"
      ],
      "text/plain": [
       "   Id       Date                 Species  Trap  Latitude  Longitude  Year  \\\n",
       "0   1 2008-06-11  CULEX PIPIENS/RESTUANS  T002  41.95469 -87.800991  2008   \n",
       "1   2 2008-06-11          CULEX RESTUANS  T002  41.95469 -87.800991  2008   \n",
       "2   3 2008-06-11           CULEX PIPIENS  T002  41.95469 -87.800991  2008   \n",
       "3   4 2008-06-11        CULEX SALINARIUS  T002  41.95469 -87.800991  2008   \n",
       "4   5 2008-06-11         CULEX TERRITANS  T002  41.95469 -87.800991  2008   \n",
       "\n",
       "   Month  Day  \n",
       "0      6   11  \n",
       "1      6   11  \n",
       "2      6   11  \n",
       "3      6   11  \n",
       "4      6   11  "
      ]
     },
     "metadata": {},
     "output_type": "display_data"
    }
   ],
   "source": [
    "display(test.head())"
   ]
  },
  {
   "cell_type": "code",
   "execution_count": 45,
   "metadata": {
    "scrolled": false
   },
   "outputs": [
    {
     "data": {
      "text/html": [
       "<div>\n",
       "<style scoped>\n",
       "    .dataframe tbody tr th:only-of-type {\n",
       "        vertical-align: middle;\n",
       "    }\n",
       "\n",
       "    .dataframe tbody tr th {\n",
       "        vertical-align: top;\n",
       "    }\n",
       "\n",
       "    .dataframe thead th {\n",
       "        text-align: right;\n",
       "    }\n",
       "</style>\n",
       "<table border=\"1\" class=\"dataframe\">\n",
       "  <thead>\n",
       "    <tr style=\"text-align: right;\">\n",
       "      <th></th>\n",
       "      <th>Station</th>\n",
       "      <th>Date</th>\n",
       "      <th>WetBulb</th>\n",
       "      <th>PrecipTotal</th>\n",
       "      <th>StnPressure</th>\n",
       "      <th>ResultDir</th>\n",
       "      <th>AvgSpeed</th>\n",
       "      <th>Year</th>\n",
       "      <th>Month</th>\n",
       "      <th>Day</th>\n",
       "    </tr>\n",
       "  </thead>\n",
       "  <tbody>\n",
       "    <tr>\n",
       "      <th>2939</th>\n",
       "      <td>2</td>\n",
       "      <td>2014-10-29</td>\n",
       "      <td>42.0</td>\n",
       "      <td>0.00</td>\n",
       "      <td>29.42</td>\n",
       "      <td>29</td>\n",
       "      <td>9.0</td>\n",
       "      <td>2014</td>\n",
       "      <td>10</td>\n",
       "      <td>29</td>\n",
       "    </tr>\n",
       "    <tr>\n",
       "      <th>2940</th>\n",
       "      <td>1</td>\n",
       "      <td>2014-10-30</td>\n",
       "      <td>40.0</td>\n",
       "      <td>0.00</td>\n",
       "      <td>29.34</td>\n",
       "      <td>24</td>\n",
       "      <td>5.5</td>\n",
       "      <td>2014</td>\n",
       "      <td>10</td>\n",
       "      <td>30</td>\n",
       "    </tr>\n",
       "    <tr>\n",
       "      <th>2941</th>\n",
       "      <td>2</td>\n",
       "      <td>2014-10-30</td>\n",
       "      <td>42.0</td>\n",
       "      <td>0.00</td>\n",
       "      <td>29.41</td>\n",
       "      <td>23</td>\n",
       "      <td>6.5</td>\n",
       "      <td>2014</td>\n",
       "      <td>10</td>\n",
       "      <td>30</td>\n",
       "    </tr>\n",
       "    <tr>\n",
       "      <th>2942</th>\n",
       "      <td>1</td>\n",
       "      <td>2014-10-31</td>\n",
       "      <td>33.0</td>\n",
       "      <td>0.03</td>\n",
       "      <td>29.49</td>\n",
       "      <td>34</td>\n",
       "      <td>22.9</td>\n",
       "      <td>2014</td>\n",
       "      <td>10</td>\n",
       "      <td>31</td>\n",
       "    </tr>\n",
       "    <tr>\n",
       "      <th>2943</th>\n",
       "      <td>2</td>\n",
       "      <td>2014-10-31</td>\n",
       "      <td>36.0</td>\n",
       "      <td>0.04</td>\n",
       "      <td>29.54</td>\n",
       "      <td>34</td>\n",
       "      <td>22.6</td>\n",
       "      <td>2014</td>\n",
       "      <td>10</td>\n",
       "      <td>31</td>\n",
       "    </tr>\n",
       "  </tbody>\n",
       "</table>\n",
       "</div>"
      ],
      "text/plain": [
       "      Station       Date  WetBulb  PrecipTotal  StnPressure  ResultDir  \\\n",
       "2939        2 2014-10-29     42.0         0.00        29.42         29   \n",
       "2940        1 2014-10-30     40.0         0.00        29.34         24   \n",
       "2941        2 2014-10-30     42.0         0.00        29.41         23   \n",
       "2942        1 2014-10-31     33.0         0.03        29.49         34   \n",
       "2943        2 2014-10-31     36.0         0.04        29.54         34   \n",
       "\n",
       "      AvgSpeed  Year  Month  Day  \n",
       "2939       9.0  2014     10   29  \n",
       "2940       5.5  2014     10   30  \n",
       "2941       6.5  2014     10   30  \n",
       "2942      22.9  2014     10   31  \n",
       "2943      22.6  2014     10   31  "
      ]
     },
     "execution_count": 45,
     "metadata": {},
     "output_type": "execute_result"
    }
   ],
   "source": [
    "weather.tail()"
   ]
  },
  {
   "cell_type": "code",
   "execution_count": 46,
   "metadata": {},
   "outputs": [
    {
     "data": {
      "text/plain": [
       "(10506, 10)"
      ]
     },
     "execution_count": 46,
     "metadata": {},
     "output_type": "execute_result"
    }
   ],
   "source": [
    "train.shape"
   ]
  },
  {
   "cell_type": "code",
   "execution_count": 47,
   "metadata": {},
   "outputs": [
    {
     "data": {
      "text/plain": [
       "(116293, 9)"
      ]
     },
     "execution_count": 47,
     "metadata": {},
     "output_type": "execute_result"
    }
   ],
   "source": [
    "test.shape"
   ]
  },
  {
   "cell_type": "code",
   "execution_count": 48,
   "metadata": {},
   "outputs": [],
   "source": [
    "# Set variables for Latitude, Longitude of weather stations 1 & 2\n",
    "# This will be used to calculate the distance (as the crow flies) between stations and observation points\n",
    "stn1_location = (41.995,-87.933)\n",
    "stn2_location = (41.786,-87.752)\n",
    "\n",
    "def calc_dist_chk(lat1, lon1, lat2, lon2):\n",
    "    # approximate radius of earth in km\n",
    "    R = 6373.0\n",
    "    lat1 = radians(lat1)\n",
    "    lon1 = radians(lon1)\n",
    "    lat2 = radians(lat2)\n",
    "    lon2 = radians(lon2)\n",
    "    dlon = lon2 - lon1\n",
    "    dlat = lat2 - lat1\n",
    "    #formula calc distance between two points \n",
    "    #haversine formula\n",
    "    a = sin(dlat / 2)**2 + cos(lat1) * cos(lat2) * sin(dlon / 2)**2\n",
    "    c = 2 * atan2(sqrt(a), sqrt(1 - a))\n",
    "    #distance in km\n",
    "    distance = R * c\n",
    "    return round(distance, 4)\n",
    "\n",
    "def find_nearest_stn(latitude, longitude):\n",
    "    dist_from_stn1 = calc_dist_chk(latitude, longitude, stn1_location[0], stn1_location[1])\n",
    "    dist_from_stn2 = calc_dist_chk(latitude, longitude, stn2_location[0], stn2_location[1])\n",
    "    if dist_from_stn1 <= dist_from_stn2:\n",
    "        return 1\n",
    "    else:\n",
    "        return 2"
   ]
  },
  {
   "cell_type": "code",
   "execution_count": 49,
   "metadata": {
    "scrolled": true
   },
   "outputs": [
    {
     "name": "stdout",
     "output_type": "stream",
     "text": [
      "(1472, 10)\n",
      "(1472, 10)\n"
     ]
    }
   ],
   "source": [
    "weather_stn1 = weather[weather['Station']==1]\n",
    "weather_stn2 = weather[weather['Station']==2]\n",
    "print(weather_stn1.shape)\n",
    "print(weather_stn2.shape)"
   ]
  },
  {
   "cell_type": "code",
   "execution_count": 50,
   "metadata": {},
   "outputs": [
    {
     "data": {
      "text/html": [
       "<div>\n",
       "<style scoped>\n",
       "    .dataframe tbody tr th:only-of-type {\n",
       "        vertical-align: middle;\n",
       "    }\n",
       "\n",
       "    .dataframe tbody tr th {\n",
       "        vertical-align: top;\n",
       "    }\n",
       "\n",
       "    .dataframe thead th {\n",
       "        text-align: right;\n",
       "    }\n",
       "</style>\n",
       "<table border=\"1\" class=\"dataframe\">\n",
       "  <thead>\n",
       "    <tr style=\"text-align: right;\">\n",
       "      <th></th>\n",
       "      <th>Station</th>\n",
       "      <th>Date</th>\n",
       "      <th>WetBulb</th>\n",
       "      <th>PrecipTotal</th>\n",
       "      <th>StnPressure</th>\n",
       "      <th>ResultDir</th>\n",
       "      <th>AvgSpeed</th>\n",
       "      <th>Year</th>\n",
       "      <th>Month</th>\n",
       "      <th>Day</th>\n",
       "    </tr>\n",
       "  </thead>\n",
       "  <tbody>\n",
       "    <tr>\n",
       "      <th>1</th>\n",
       "      <td>2</td>\n",
       "      <td>2007-05-01</td>\n",
       "      <td>57.0</td>\n",
       "      <td>0.0</td>\n",
       "      <td>29.18</td>\n",
       "      <td>25</td>\n",
       "      <td>9.6</td>\n",
       "      <td>2007</td>\n",
       "      <td>5</td>\n",
       "      <td>1</td>\n",
       "    </tr>\n",
       "    <tr>\n",
       "      <th>3</th>\n",
       "      <td>2</td>\n",
       "      <td>2007-05-02</td>\n",
       "      <td>47.0</td>\n",
       "      <td>0.0</td>\n",
       "      <td>29.44</td>\n",
       "      <td>2</td>\n",
       "      <td>13.4</td>\n",
       "      <td>2007</td>\n",
       "      <td>5</td>\n",
       "      <td>2</td>\n",
       "    </tr>\n",
       "    <tr>\n",
       "      <th>5</th>\n",
       "      <td>2</td>\n",
       "      <td>2007-05-03</td>\n",
       "      <td>50.0</td>\n",
       "      <td>0.0</td>\n",
       "      <td>29.46</td>\n",
       "      <td>6</td>\n",
       "      <td>13.2</td>\n",
       "      <td>2007</td>\n",
       "      <td>5</td>\n",
       "      <td>3</td>\n",
       "    </tr>\n",
       "    <tr>\n",
       "      <th>7</th>\n",
       "      <td>2</td>\n",
       "      <td>2007-05-04</td>\n",
       "      <td>50.0</td>\n",
       "      <td>0.0</td>\n",
       "      <td>29.36</td>\n",
       "      <td>7</td>\n",
       "      <td>10.4</td>\n",
       "      <td>2007</td>\n",
       "      <td>5</td>\n",
       "      <td>4</td>\n",
       "    </tr>\n",
       "    <tr>\n",
       "      <th>9</th>\n",
       "      <td>2</td>\n",
       "      <td>2007-05-05</td>\n",
       "      <td>50.0</td>\n",
       "      <td>0.0</td>\n",
       "      <td>29.46</td>\n",
       "      <td>7</td>\n",
       "      <td>11.5</td>\n",
       "      <td>2007</td>\n",
       "      <td>5</td>\n",
       "      <td>5</td>\n",
       "    </tr>\n",
       "  </tbody>\n",
       "</table>\n",
       "</div>"
      ],
      "text/plain": [
       "   Station       Date  WetBulb  PrecipTotal  StnPressure  ResultDir  AvgSpeed  \\\n",
       "1        2 2007-05-01     57.0          0.0        29.18         25       9.6   \n",
       "3        2 2007-05-02     47.0          0.0        29.44          2      13.4   \n",
       "5        2 2007-05-03     50.0          0.0        29.46          6      13.2   \n",
       "7        2 2007-05-04     50.0          0.0        29.36          7      10.4   \n",
       "9        2 2007-05-05     50.0          0.0        29.46          7      11.5   \n",
       "\n",
       "   Year  Month  Day  \n",
       "1  2007      5    1  \n",
       "3  2007      5    2  \n",
       "5  2007      5    3  \n",
       "7  2007      5    4  \n",
       "9  2007      5    5  "
      ]
     },
     "execution_count": 50,
     "metadata": {},
     "output_type": "execute_result"
    }
   ],
   "source": [
    "weather_stn2.head()"
   ]
  },
  {
   "cell_type": "code",
   "execution_count": 51,
   "metadata": {},
   "outputs": [
    {
     "name": "stdout",
     "output_type": "stream",
     "text": [
      "Number on train nearest Station 1: 3298\n",
      "Number on train nearest Station 2: 7208\n"
     ]
    }
   ],
   "source": [
    "# For each observation (row), check distance to nearest weather station\n",
    "# Assign 'stn_ref' to the nearest weather station (either 1 or 2)\n",
    "for index, row in train.iterrows():\n",
    "    nearest_station = find_nearest_stn(row['Latitude'],row['Longitude'])\n",
    "    train.loc[index,'stn_ref'] = nearest_station\n",
    "    \n",
    "print('Number on train nearest Station 1:',train[train['stn_ref']==1]['stn_ref'].count())\n",
    "print('Number on train nearest Station 2:',train[train['stn_ref']==2]['stn_ref'].count())"
   ]
  },
  {
   "cell_type": "code",
   "execution_count": 52,
   "metadata": {},
   "outputs": [
    {
     "data": {
      "text/html": [
       "<div>\n",
       "<style scoped>\n",
       "    .dataframe tbody tr th:only-of-type {\n",
       "        vertical-align: middle;\n",
       "    }\n",
       "\n",
       "    .dataframe tbody tr th {\n",
       "        vertical-align: top;\n",
       "    }\n",
       "\n",
       "    .dataframe thead th {\n",
       "        text-align: right;\n",
       "    }\n",
       "</style>\n",
       "<table border=\"1\" class=\"dataframe\">\n",
       "  <thead>\n",
       "    <tr style=\"text-align: right;\">\n",
       "      <th></th>\n",
       "      <th>Date</th>\n",
       "      <th>Species</th>\n",
       "      <th>Trap</th>\n",
       "      <th>Latitude</th>\n",
       "      <th>Longitude</th>\n",
       "      <th>NumMosquitos</th>\n",
       "      <th>WnvPresent</th>\n",
       "      <th>Year</th>\n",
       "      <th>Month</th>\n",
       "      <th>Day</th>\n",
       "      <th>stn_ref</th>\n",
       "    </tr>\n",
       "  </thead>\n",
       "  <tbody>\n",
       "    <tr>\n",
       "      <th>0</th>\n",
       "      <td>2007-05-29</td>\n",
       "      <td>CULEX PIPIENS/RESTUANS</td>\n",
       "      <td>T002</td>\n",
       "      <td>41.95469</td>\n",
       "      <td>-87.800991</td>\n",
       "      <td>1</td>\n",
       "      <td>0</td>\n",
       "      <td>2007</td>\n",
       "      <td>5</td>\n",
       "      <td>29</td>\n",
       "      <td>1.0</td>\n",
       "    </tr>\n",
       "  </tbody>\n",
       "</table>\n",
       "</div>"
      ],
      "text/plain": [
       "        Date                 Species  Trap  Latitude  Longitude  NumMosquitos  \\\n",
       "0 2007-05-29  CULEX PIPIENS/RESTUANS  T002  41.95469 -87.800991             1   \n",
       "\n",
       "   WnvPresent  Year  Month  Day  stn_ref  \n",
       "0           0  2007      5   29      1.0  "
      ]
     },
     "execution_count": 52,
     "metadata": {},
     "output_type": "execute_result"
    }
   ],
   "source": [
    "train.head(1)"
   ]
  },
  {
   "cell_type": "code",
   "execution_count": 53,
   "metadata": {
    "scrolled": true
   },
   "outputs": [
    {
     "name": "stdout",
     "output_type": "stream",
     "text": [
      "Number on test nearest Station 1: 35401\n",
      "Number on test nearest Station 2: 80892\n"
     ]
    }
   ],
   "source": [
    "# For each observation (row), check distance to nearest weather station\n",
    "# Assign 'stn_ref' to the nearest weather station (either 1 or 2)\n",
    "for index, row in test.iterrows():\n",
    "    nearest_station = find_nearest_stn(row['Latitude'],row['Longitude'])\n",
    "    test.loc[index,'stn_ref'] = nearest_station\n",
    "    \n",
    "print('Number on test nearest Station 1:',test[test['stn_ref']==1]['stn_ref'].count())\n",
    "print('Number on test nearest Station 2:',test[test['stn_ref']==2]['stn_ref'].count())"
   ]
  },
  {
   "cell_type": "code",
   "execution_count": 54,
   "metadata": {},
   "outputs": [
    {
     "name": "stdout",
     "output_type": "stream",
     "text": [
      "(3298, 11)\n",
      "(7208, 11)\n"
     ]
    }
   ],
   "source": [
    "train_station1 = train[train['stn_ref']==1.0]\n",
    "train_station2 = train[train['stn_ref']==2.0]\n",
    "print(train_station1.shape)\n",
    "print(train_station2.shape)"
   ]
  },
  {
   "cell_type": "code",
   "execution_count": 55,
   "metadata": {},
   "outputs": [
    {
     "name": "stdout",
     "output_type": "stream",
     "text": [
      "(3298, 20)\n"
     ]
    },
    {
     "data": {
      "text/html": [
       "<div>\n",
       "<style scoped>\n",
       "    .dataframe tbody tr th:only-of-type {\n",
       "        vertical-align: middle;\n",
       "    }\n",
       "\n",
       "    .dataframe tbody tr th {\n",
       "        vertical-align: top;\n",
       "    }\n",
       "\n",
       "    .dataframe thead th {\n",
       "        text-align: right;\n",
       "    }\n",
       "</style>\n",
       "<table border=\"1\" class=\"dataframe\">\n",
       "  <thead>\n",
       "    <tr style=\"text-align: right;\">\n",
       "      <th></th>\n",
       "      <th>Date</th>\n",
       "      <th>Species</th>\n",
       "      <th>Trap</th>\n",
       "      <th>Latitude</th>\n",
       "      <th>Longitude</th>\n",
       "      <th>NumMosquitos</th>\n",
       "      <th>WnvPresent</th>\n",
       "      <th>Year_x</th>\n",
       "      <th>Month_x</th>\n",
       "      <th>Day_x</th>\n",
       "      <th>stn_ref</th>\n",
       "      <th>Station</th>\n",
       "      <th>WetBulb</th>\n",
       "      <th>PrecipTotal</th>\n",
       "      <th>StnPressure</th>\n",
       "      <th>ResultDir</th>\n",
       "      <th>AvgSpeed</th>\n",
       "      <th>Year_y</th>\n",
       "      <th>Month_y</th>\n",
       "      <th>Day_y</th>\n",
       "    </tr>\n",
       "  </thead>\n",
       "  <tbody>\n",
       "    <tr>\n",
       "      <th>0</th>\n",
       "      <td>2007-05-29</td>\n",
       "      <td>CULEX PIPIENS/RESTUANS</td>\n",
       "      <td>T002</td>\n",
       "      <td>41.95469</td>\n",
       "      <td>-87.800991</td>\n",
       "      <td>1</td>\n",
       "      <td>0</td>\n",
       "      <td>2007</td>\n",
       "      <td>5</td>\n",
       "      <td>29</td>\n",
       "      <td>1.0</td>\n",
       "      <td>1</td>\n",
       "      <td>65.0</td>\n",
       "      <td>0.0</td>\n",
       "      <td>29.39</td>\n",
       "      <td>18</td>\n",
       "      <td>6.5</td>\n",
       "      <td>2007</td>\n",
       "      <td>5</td>\n",
       "      <td>29</td>\n",
       "    </tr>\n",
       "    <tr>\n",
       "      <th>1</th>\n",
       "      <td>2007-05-29</td>\n",
       "      <td>CULEX RESTUANS</td>\n",
       "      <td>T002</td>\n",
       "      <td>41.95469</td>\n",
       "      <td>-87.800991</td>\n",
       "      <td>1</td>\n",
       "      <td>0</td>\n",
       "      <td>2007</td>\n",
       "      <td>5</td>\n",
       "      <td>29</td>\n",
       "      <td>1.0</td>\n",
       "      <td>1</td>\n",
       "      <td>65.0</td>\n",
       "      <td>0.0</td>\n",
       "      <td>29.39</td>\n",
       "      <td>18</td>\n",
       "      <td>6.5</td>\n",
       "      <td>2007</td>\n",
       "      <td>5</td>\n",
       "      <td>29</td>\n",
       "    </tr>\n",
       "  </tbody>\n",
       "</table>\n",
       "</div>"
      ],
      "text/plain": [
       "        Date                 Species  Trap  Latitude  Longitude  NumMosquitos  \\\n",
       "0 2007-05-29  CULEX PIPIENS/RESTUANS  T002  41.95469 -87.800991             1   \n",
       "1 2007-05-29          CULEX RESTUANS  T002  41.95469 -87.800991             1   \n",
       "\n",
       "   WnvPresent  Year_x  Month_x  Day_x  stn_ref  Station  WetBulb  PrecipTotal  \\\n",
       "0           0    2007        5     29      1.0        1     65.0          0.0   \n",
       "1           0    2007        5     29      1.0        1     65.0          0.0   \n",
       "\n",
       "   StnPressure  ResultDir  AvgSpeed  Year_y  Month_y  Day_y  \n",
       "0        29.39         18       6.5    2007        5     29  \n",
       "1        29.39         18       6.5    2007        5     29  "
      ]
     },
     "execution_count": 55,
     "metadata": {},
     "output_type": "execute_result"
    }
   ],
   "source": [
    "# Merge Training dataset and Weather Data \n",
    "train_merged_stn1 = pd.merge(train_station1, weather_stn1 ,on='Date',how='left')\n",
    "print(train_merged_stn1.shape)\n",
    "train_merged_stn1.head(2)"
   ]
  },
  {
   "cell_type": "code",
   "execution_count": 56,
   "metadata": {
    "scrolled": true
   },
   "outputs": [
    {
     "name": "stdout",
     "output_type": "stream",
     "text": [
      "(7208, 20)\n"
     ]
    },
    {
     "data": {
      "text/html": [
       "<div>\n",
       "<style scoped>\n",
       "    .dataframe tbody tr th:only-of-type {\n",
       "        vertical-align: middle;\n",
       "    }\n",
       "\n",
       "    .dataframe tbody tr th {\n",
       "        vertical-align: top;\n",
       "    }\n",
       "\n",
       "    .dataframe thead th {\n",
       "        text-align: right;\n",
       "    }\n",
       "</style>\n",
       "<table border=\"1\" class=\"dataframe\">\n",
       "  <thead>\n",
       "    <tr style=\"text-align: right;\">\n",
       "      <th></th>\n",
       "      <th>Date</th>\n",
       "      <th>Species</th>\n",
       "      <th>Trap</th>\n",
       "      <th>Latitude</th>\n",
       "      <th>Longitude</th>\n",
       "      <th>NumMosquitos</th>\n",
       "      <th>WnvPresent</th>\n",
       "      <th>Year_x</th>\n",
       "      <th>Month_x</th>\n",
       "      <th>Day_x</th>\n",
       "      <th>stn_ref</th>\n",
       "      <th>Station</th>\n",
       "      <th>WetBulb</th>\n",
       "      <th>PrecipTotal</th>\n",
       "      <th>StnPressure</th>\n",
       "      <th>ResultDir</th>\n",
       "      <th>AvgSpeed</th>\n",
       "      <th>Year_y</th>\n",
       "      <th>Month_y</th>\n",
       "      <th>Day_y</th>\n",
       "    </tr>\n",
       "  </thead>\n",
       "  <tbody>\n",
       "    <tr>\n",
       "      <th>0</th>\n",
       "      <td>2007-05-29</td>\n",
       "      <td>CULEX RESTUANS</td>\n",
       "      <td>T045</td>\n",
       "      <td>41.921600</td>\n",
       "      <td>-87.666455</td>\n",
       "      <td>2</td>\n",
       "      <td>0</td>\n",
       "      <td>2007</td>\n",
       "      <td>5</td>\n",
       "      <td>29</td>\n",
       "      <td>2.0</td>\n",
       "      <td>2</td>\n",
       "      <td>66.0</td>\n",
       "      <td>0.0</td>\n",
       "      <td>29.44</td>\n",
       "      <td>16</td>\n",
       "      <td>7.4</td>\n",
       "      <td>2007</td>\n",
       "      <td>5</td>\n",
       "      <td>29</td>\n",
       "    </tr>\n",
       "    <tr>\n",
       "      <th>1</th>\n",
       "      <td>2007-05-29</td>\n",
       "      <td>CULEX RESTUANS</td>\n",
       "      <td>T046</td>\n",
       "      <td>41.891118</td>\n",
       "      <td>-87.654491</td>\n",
       "      <td>1</td>\n",
       "      <td>0</td>\n",
       "      <td>2007</td>\n",
       "      <td>5</td>\n",
       "      <td>29</td>\n",
       "      <td>2.0</td>\n",
       "      <td>2</td>\n",
       "      <td>66.0</td>\n",
       "      <td>0.0</td>\n",
       "      <td>29.44</td>\n",
       "      <td>16</td>\n",
       "      <td>7.4</td>\n",
       "      <td>2007</td>\n",
       "      <td>5</td>\n",
       "      <td>29</td>\n",
       "    </tr>\n",
       "  </tbody>\n",
       "</table>\n",
       "</div>"
      ],
      "text/plain": [
       "        Date         Species  Trap   Latitude  Longitude  NumMosquitos  \\\n",
       "0 2007-05-29  CULEX RESTUANS  T045  41.921600 -87.666455             2   \n",
       "1 2007-05-29  CULEX RESTUANS  T046  41.891118 -87.654491             1   \n",
       "\n",
       "   WnvPresent  Year_x  Month_x  Day_x  stn_ref  Station  WetBulb  PrecipTotal  \\\n",
       "0           0    2007        5     29      2.0        2     66.0          0.0   \n",
       "1           0    2007        5     29      2.0        2     66.0          0.0   \n",
       "\n",
       "   StnPressure  ResultDir  AvgSpeed  Year_y  Month_y  Day_y  \n",
       "0        29.44         16       7.4    2007        5     29  \n",
       "1        29.44         16       7.4    2007        5     29  "
      ]
     },
     "execution_count": 56,
     "metadata": {},
     "output_type": "execute_result"
    }
   ],
   "source": [
    "# Merge Training dataset and Weather Data \n",
    "train_merged_stn2 = pd.merge(train_station2, weather_stn2 ,on='Date',how='left')\n",
    "print(train_merged_stn2.shape)\n",
    "train_merged_stn2.head(2)"
   ]
  },
  {
   "cell_type": "code",
   "execution_count": 57,
   "metadata": {},
   "outputs": [
    {
     "name": "stdout",
     "output_type": "stream",
     "text": [
      "(35401, 10)\n",
      "(80892, 10)\n"
     ]
    }
   ],
   "source": [
    "test_station1 = test[test['stn_ref']==1.0]\n",
    "test_station2 = test[test['stn_ref']==2.0]\n",
    "print(test_station1.shape)\n",
    "print(test_station2.shape)"
   ]
  },
  {
   "cell_type": "code",
   "execution_count": 58,
   "metadata": {},
   "outputs": [
    {
     "name": "stdout",
     "output_type": "stream",
     "text": [
      "(35401, 19)\n"
     ]
    },
    {
     "data": {
      "text/html": [
       "<div>\n",
       "<style scoped>\n",
       "    .dataframe tbody tr th:only-of-type {\n",
       "        vertical-align: middle;\n",
       "    }\n",
       "\n",
       "    .dataframe tbody tr th {\n",
       "        vertical-align: top;\n",
       "    }\n",
       "\n",
       "    .dataframe thead th {\n",
       "        text-align: right;\n",
       "    }\n",
       "</style>\n",
       "<table border=\"1\" class=\"dataframe\">\n",
       "  <thead>\n",
       "    <tr style=\"text-align: right;\">\n",
       "      <th></th>\n",
       "      <th>Id</th>\n",
       "      <th>Date</th>\n",
       "      <th>Species</th>\n",
       "      <th>Trap</th>\n",
       "      <th>Latitude</th>\n",
       "      <th>Longitude</th>\n",
       "      <th>Year_x</th>\n",
       "      <th>Month_x</th>\n",
       "      <th>Day_x</th>\n",
       "      <th>stn_ref</th>\n",
       "      <th>Station</th>\n",
       "      <th>WetBulb</th>\n",
       "      <th>PrecipTotal</th>\n",
       "      <th>StnPressure</th>\n",
       "      <th>ResultDir</th>\n",
       "      <th>AvgSpeed</th>\n",
       "      <th>Year_y</th>\n",
       "      <th>Month_y</th>\n",
       "      <th>Day_y</th>\n",
       "    </tr>\n",
       "  </thead>\n",
       "  <tbody>\n",
       "    <tr>\n",
       "      <th>0</th>\n",
       "      <td>1</td>\n",
       "      <td>2008-06-11</td>\n",
       "      <td>CULEX PIPIENS/RESTUANS</td>\n",
       "      <td>T002</td>\n",
       "      <td>41.95469</td>\n",
       "      <td>-87.800991</td>\n",
       "      <td>2008</td>\n",
       "      <td>6</td>\n",
       "      <td>11</td>\n",
       "      <td>1.0</td>\n",
       "      <td>1</td>\n",
       "      <td>64.0</td>\n",
       "      <td>0.0</td>\n",
       "      <td>29.28</td>\n",
       "      <td>18</td>\n",
       "      <td>10.0</td>\n",
       "      <td>2008</td>\n",
       "      <td>6</td>\n",
       "      <td>11</td>\n",
       "    </tr>\n",
       "    <tr>\n",
       "      <th>1</th>\n",
       "      <td>2</td>\n",
       "      <td>2008-06-11</td>\n",
       "      <td>CULEX RESTUANS</td>\n",
       "      <td>T002</td>\n",
       "      <td>41.95469</td>\n",
       "      <td>-87.800991</td>\n",
       "      <td>2008</td>\n",
       "      <td>6</td>\n",
       "      <td>11</td>\n",
       "      <td>1.0</td>\n",
       "      <td>1</td>\n",
       "      <td>64.0</td>\n",
       "      <td>0.0</td>\n",
       "      <td>29.28</td>\n",
       "      <td>18</td>\n",
       "      <td>10.0</td>\n",
       "      <td>2008</td>\n",
       "      <td>6</td>\n",
       "      <td>11</td>\n",
       "    </tr>\n",
       "  </tbody>\n",
       "</table>\n",
       "</div>"
      ],
      "text/plain": [
       "   Id       Date                 Species  Trap  Latitude  Longitude  Year_x  \\\n",
       "0   1 2008-06-11  CULEX PIPIENS/RESTUANS  T002  41.95469 -87.800991    2008   \n",
       "1   2 2008-06-11          CULEX RESTUANS  T002  41.95469 -87.800991    2008   \n",
       "\n",
       "   Month_x  Day_x  stn_ref  Station  WetBulb  PrecipTotal  StnPressure  \\\n",
       "0        6     11      1.0        1     64.0          0.0        29.28   \n",
       "1        6     11      1.0        1     64.0          0.0        29.28   \n",
       "\n",
       "   ResultDir  AvgSpeed  Year_y  Month_y  Day_y  \n",
       "0         18      10.0    2008        6     11  \n",
       "1         18      10.0    2008        6     11  "
      ]
     },
     "execution_count": 58,
     "metadata": {},
     "output_type": "execute_result"
    }
   ],
   "source": [
    "# Merge Test dataset and Weather Data \n",
    "test_merged_stn1 = pd.merge(test_station1, weather_stn1,on='Date',how='left')\n",
    "print(test_merged_stn1.shape)\n",
    "test_merged_stn1.head(2)"
   ]
  },
  {
   "cell_type": "code",
   "execution_count": 59,
   "metadata": {
    "scrolled": false
   },
   "outputs": [
    {
     "name": "stdout",
     "output_type": "stream",
     "text": [
      "(80892, 19)\n"
     ]
    },
    {
     "data": {
      "text/html": [
       "<div>\n",
       "<style scoped>\n",
       "    .dataframe tbody tr th:only-of-type {\n",
       "        vertical-align: middle;\n",
       "    }\n",
       "\n",
       "    .dataframe tbody tr th {\n",
       "        vertical-align: top;\n",
       "    }\n",
       "\n",
       "    .dataframe thead th {\n",
       "        text-align: right;\n",
       "    }\n",
       "</style>\n",
       "<table border=\"1\" class=\"dataframe\">\n",
       "  <thead>\n",
       "    <tr style=\"text-align: right;\">\n",
       "      <th></th>\n",
       "      <th>Id</th>\n",
       "      <th>Date</th>\n",
       "      <th>Species</th>\n",
       "      <th>Trap</th>\n",
       "      <th>Latitude</th>\n",
       "      <th>Longitude</th>\n",
       "      <th>Year_x</th>\n",
       "      <th>Month_x</th>\n",
       "      <th>Day_x</th>\n",
       "      <th>stn_ref</th>\n",
       "      <th>Station</th>\n",
       "      <th>WetBulb</th>\n",
       "      <th>PrecipTotal</th>\n",
       "      <th>StnPressure</th>\n",
       "      <th>ResultDir</th>\n",
       "      <th>AvgSpeed</th>\n",
       "      <th>Year_y</th>\n",
       "      <th>Month_y</th>\n",
       "      <th>Day_y</th>\n",
       "    </tr>\n",
       "  </thead>\n",
       "  <tbody>\n",
       "    <tr>\n",
       "      <th>0</th>\n",
       "      <td>25</td>\n",
       "      <td>2008-06-11</td>\n",
       "      <td>CULEX PIPIENS/RESTUANS</td>\n",
       "      <td>T045</td>\n",
       "      <td>41.9216</td>\n",
       "      <td>-87.666455</td>\n",
       "      <td>2008</td>\n",
       "      <td>6</td>\n",
       "      <td>11</td>\n",
       "      <td>2.0</td>\n",
       "      <td>2</td>\n",
       "      <td>64.0</td>\n",
       "      <td>0.0</td>\n",
       "      <td>29.34</td>\n",
       "      <td>18</td>\n",
       "      <td>10.4</td>\n",
       "      <td>2008</td>\n",
       "      <td>6</td>\n",
       "      <td>11</td>\n",
       "    </tr>\n",
       "    <tr>\n",
       "      <th>1</th>\n",
       "      <td>26</td>\n",
       "      <td>2008-06-11</td>\n",
       "      <td>CULEX RESTUANS</td>\n",
       "      <td>T045</td>\n",
       "      <td>41.9216</td>\n",
       "      <td>-87.666455</td>\n",
       "      <td>2008</td>\n",
       "      <td>6</td>\n",
       "      <td>11</td>\n",
       "      <td>2.0</td>\n",
       "      <td>2</td>\n",
       "      <td>64.0</td>\n",
       "      <td>0.0</td>\n",
       "      <td>29.34</td>\n",
       "      <td>18</td>\n",
       "      <td>10.4</td>\n",
       "      <td>2008</td>\n",
       "      <td>6</td>\n",
       "      <td>11</td>\n",
       "    </tr>\n",
       "  </tbody>\n",
       "</table>\n",
       "</div>"
      ],
      "text/plain": [
       "   Id       Date                 Species  Trap  Latitude  Longitude  Year_x  \\\n",
       "0  25 2008-06-11  CULEX PIPIENS/RESTUANS  T045   41.9216 -87.666455    2008   \n",
       "1  26 2008-06-11          CULEX RESTUANS  T045   41.9216 -87.666455    2008   \n",
       "\n",
       "   Month_x  Day_x  stn_ref  Station  WetBulb  PrecipTotal  StnPressure  \\\n",
       "0        6     11      2.0        2     64.0          0.0        29.34   \n",
       "1        6     11      2.0        2     64.0          0.0        29.34   \n",
       "\n",
       "   ResultDir  AvgSpeed  Year_y  Month_y  Day_y  \n",
       "0         18      10.4    2008        6     11  \n",
       "1         18      10.4    2008        6     11  "
      ]
     },
     "execution_count": 59,
     "metadata": {},
     "output_type": "execute_result"
    }
   ],
   "source": [
    "# Merge Test dataset and Weather Data \n",
    "test_merged_stn2 = pd.merge(test_station2, weather_stn2 ,on='Date',how='left')\n",
    "print(test_merged_stn2.shape)\n",
    "test_merged_stn2.head(2)"
   ]
  },
  {
   "cell_type": "code",
   "execution_count": 60,
   "metadata": {},
   "outputs": [],
   "source": [
    "## Concatenate merge Training Station 1 and Station 2 data"
   ]
  },
  {
   "cell_type": "code",
   "execution_count": 61,
   "metadata": {},
   "outputs": [],
   "source": [
    "train_full = pd.concat([train_merged_stn1, train_merged_stn2], ignore_index=True,axis=0,sort=True)"
   ]
  },
  {
   "cell_type": "code",
   "execution_count": 62,
   "metadata": {},
   "outputs": [
    {
     "data": {
      "text/html": [
       "<div>\n",
       "<style scoped>\n",
       "    .dataframe tbody tr th:only-of-type {\n",
       "        vertical-align: middle;\n",
       "    }\n",
       "\n",
       "    .dataframe tbody tr th {\n",
       "        vertical-align: top;\n",
       "    }\n",
       "\n",
       "    .dataframe thead th {\n",
       "        text-align: right;\n",
       "    }\n",
       "</style>\n",
       "<table border=\"1\" class=\"dataframe\">\n",
       "  <thead>\n",
       "    <tr style=\"text-align: right;\">\n",
       "      <th></th>\n",
       "      <th>AvgSpeed</th>\n",
       "      <th>Date</th>\n",
       "      <th>Day_x</th>\n",
       "      <th>Day_y</th>\n",
       "      <th>Latitude</th>\n",
       "      <th>Longitude</th>\n",
       "      <th>Month_x</th>\n",
       "      <th>Month_y</th>\n",
       "      <th>NumMosquitos</th>\n",
       "      <th>PrecipTotal</th>\n",
       "      <th>ResultDir</th>\n",
       "      <th>Species</th>\n",
       "      <th>Station</th>\n",
       "      <th>StnPressure</th>\n",
       "      <th>Trap</th>\n",
       "      <th>WetBulb</th>\n",
       "      <th>WnvPresent</th>\n",
       "      <th>Year_x</th>\n",
       "      <th>Year_y</th>\n",
       "      <th>stn_ref</th>\n",
       "    </tr>\n",
       "  </thead>\n",
       "  <tbody>\n",
       "    <tr>\n",
       "      <th>0</th>\n",
       "      <td>6.5</td>\n",
       "      <td>2007-05-29</td>\n",
       "      <td>29</td>\n",
       "      <td>29</td>\n",
       "      <td>41.954690</td>\n",
       "      <td>-87.800991</td>\n",
       "      <td>5</td>\n",
       "      <td>5</td>\n",
       "      <td>1</td>\n",
       "      <td>0.0</td>\n",
       "      <td>18</td>\n",
       "      <td>CULEX PIPIENS/RESTUANS</td>\n",
       "      <td>1</td>\n",
       "      <td>29.39</td>\n",
       "      <td>T002</td>\n",
       "      <td>65.0</td>\n",
       "      <td>0</td>\n",
       "      <td>2007</td>\n",
       "      <td>2007</td>\n",
       "      <td>1.0</td>\n",
       "    </tr>\n",
       "    <tr>\n",
       "      <th>1</th>\n",
       "      <td>6.5</td>\n",
       "      <td>2007-05-29</td>\n",
       "      <td>29</td>\n",
       "      <td>29</td>\n",
       "      <td>41.954690</td>\n",
       "      <td>-87.800991</td>\n",
       "      <td>5</td>\n",
       "      <td>5</td>\n",
       "      <td>1</td>\n",
       "      <td>0.0</td>\n",
       "      <td>18</td>\n",
       "      <td>CULEX RESTUANS</td>\n",
       "      <td>1</td>\n",
       "      <td>29.39</td>\n",
       "      <td>T002</td>\n",
       "      <td>65.0</td>\n",
       "      <td>0</td>\n",
       "      <td>2007</td>\n",
       "      <td>2007</td>\n",
       "      <td>1.0</td>\n",
       "    </tr>\n",
       "    <tr>\n",
       "      <th>2</th>\n",
       "      <td>6.5</td>\n",
       "      <td>2007-05-29</td>\n",
       "      <td>29</td>\n",
       "      <td>29</td>\n",
       "      <td>41.994991</td>\n",
       "      <td>-87.769279</td>\n",
       "      <td>5</td>\n",
       "      <td>5</td>\n",
       "      <td>1</td>\n",
       "      <td>0.0</td>\n",
       "      <td>18</td>\n",
       "      <td>CULEX RESTUANS</td>\n",
       "      <td>1</td>\n",
       "      <td>29.39</td>\n",
       "      <td>T007</td>\n",
       "      <td>65.0</td>\n",
       "      <td>0</td>\n",
       "      <td>2007</td>\n",
       "      <td>2007</td>\n",
       "      <td>1.0</td>\n",
       "    </tr>\n",
       "    <tr>\n",
       "      <th>3</th>\n",
       "      <td>6.5</td>\n",
       "      <td>2007-05-29</td>\n",
       "      <td>29</td>\n",
       "      <td>29</td>\n",
       "      <td>41.974089</td>\n",
       "      <td>-87.824812</td>\n",
       "      <td>5</td>\n",
       "      <td>5</td>\n",
       "      <td>1</td>\n",
       "      <td>0.0</td>\n",
       "      <td>18</td>\n",
       "      <td>CULEX PIPIENS/RESTUANS</td>\n",
       "      <td>1</td>\n",
       "      <td>29.39</td>\n",
       "      <td>T015</td>\n",
       "      <td>65.0</td>\n",
       "      <td>0</td>\n",
       "      <td>2007</td>\n",
       "      <td>2007</td>\n",
       "      <td>1.0</td>\n",
       "    </tr>\n",
       "    <tr>\n",
       "      <th>4</th>\n",
       "      <td>6.5</td>\n",
       "      <td>2007-05-29</td>\n",
       "      <td>29</td>\n",
       "      <td>29</td>\n",
       "      <td>41.974089</td>\n",
       "      <td>-87.824812</td>\n",
       "      <td>5</td>\n",
       "      <td>5</td>\n",
       "      <td>4</td>\n",
       "      <td>0.0</td>\n",
       "      <td>18</td>\n",
       "      <td>CULEX RESTUANS</td>\n",
       "      <td>1</td>\n",
       "      <td>29.39</td>\n",
       "      <td>T015</td>\n",
       "      <td>65.0</td>\n",
       "      <td>0</td>\n",
       "      <td>2007</td>\n",
       "      <td>2007</td>\n",
       "      <td>1.0</td>\n",
       "    </tr>\n",
       "  </tbody>\n",
       "</table>\n",
       "</div>"
      ],
      "text/plain": [
       "   AvgSpeed       Date  Day_x  Day_y   Latitude  Longitude  Month_x  Month_y  \\\n",
       "0       6.5 2007-05-29     29     29  41.954690 -87.800991        5        5   \n",
       "1       6.5 2007-05-29     29     29  41.954690 -87.800991        5        5   \n",
       "2       6.5 2007-05-29     29     29  41.994991 -87.769279        5        5   \n",
       "3       6.5 2007-05-29     29     29  41.974089 -87.824812        5        5   \n",
       "4       6.5 2007-05-29     29     29  41.974089 -87.824812        5        5   \n",
       "\n",
       "   NumMosquitos  PrecipTotal  ResultDir                 Species  Station  \\\n",
       "0             1          0.0         18  CULEX PIPIENS/RESTUANS        1   \n",
       "1             1          0.0         18          CULEX RESTUANS        1   \n",
       "2             1          0.0         18          CULEX RESTUANS        1   \n",
       "3             1          0.0         18  CULEX PIPIENS/RESTUANS        1   \n",
       "4             4          0.0         18          CULEX RESTUANS        1   \n",
       "\n",
       "   StnPressure  Trap  WetBulb  WnvPresent  Year_x  Year_y  stn_ref  \n",
       "0        29.39  T002     65.0           0    2007    2007      1.0  \n",
       "1        29.39  T002     65.0           0    2007    2007      1.0  \n",
       "2        29.39  T007     65.0           0    2007    2007      1.0  \n",
       "3        29.39  T015     65.0           0    2007    2007      1.0  \n",
       "4        29.39  T015     65.0           0    2007    2007      1.0  "
      ]
     },
     "execution_count": 62,
     "metadata": {},
     "output_type": "execute_result"
    }
   ],
   "source": [
    "train_full.head()"
   ]
  },
  {
   "cell_type": "code",
   "execution_count": 63,
   "metadata": {},
   "outputs": [],
   "source": [
    "test_full = pd.concat([test_merged_stn1, test_merged_stn2], ignore_index=True,axis=0,sort=True)"
   ]
  },
  {
   "cell_type": "code",
   "execution_count": 64,
   "metadata": {
    "scrolled": true
   },
   "outputs": [
    {
     "data": {
      "text/html": [
       "<div>\n",
       "<style scoped>\n",
       "    .dataframe tbody tr th:only-of-type {\n",
       "        vertical-align: middle;\n",
       "    }\n",
       "\n",
       "    .dataframe tbody tr th {\n",
       "        vertical-align: top;\n",
       "    }\n",
       "\n",
       "    .dataframe thead th {\n",
       "        text-align: right;\n",
       "    }\n",
       "</style>\n",
       "<table border=\"1\" class=\"dataframe\">\n",
       "  <thead>\n",
       "    <tr style=\"text-align: right;\">\n",
       "      <th></th>\n",
       "      <th>AvgSpeed</th>\n",
       "      <th>Date</th>\n",
       "      <th>Day_x</th>\n",
       "      <th>Day_y</th>\n",
       "      <th>Id</th>\n",
       "      <th>Latitude</th>\n",
       "      <th>Longitude</th>\n",
       "      <th>Month_x</th>\n",
       "      <th>Month_y</th>\n",
       "      <th>PrecipTotal</th>\n",
       "      <th>ResultDir</th>\n",
       "      <th>Species</th>\n",
       "      <th>Station</th>\n",
       "      <th>StnPressure</th>\n",
       "      <th>Trap</th>\n",
       "      <th>WetBulb</th>\n",
       "      <th>Year_x</th>\n",
       "      <th>Year_y</th>\n",
       "      <th>stn_ref</th>\n",
       "    </tr>\n",
       "  </thead>\n",
       "  <tbody>\n",
       "    <tr>\n",
       "      <th>0</th>\n",
       "      <td>10.0</td>\n",
       "      <td>2008-06-11</td>\n",
       "      <td>11</td>\n",
       "      <td>11</td>\n",
       "      <td>1</td>\n",
       "      <td>41.95469</td>\n",
       "      <td>-87.800991</td>\n",
       "      <td>6</td>\n",
       "      <td>6</td>\n",
       "      <td>0.0</td>\n",
       "      <td>18</td>\n",
       "      <td>CULEX PIPIENS/RESTUANS</td>\n",
       "      <td>1</td>\n",
       "      <td>29.28</td>\n",
       "      <td>T002</td>\n",
       "      <td>64.0</td>\n",
       "      <td>2008</td>\n",
       "      <td>2008</td>\n",
       "      <td>1.0</td>\n",
       "    </tr>\n",
       "    <tr>\n",
       "      <th>1</th>\n",
       "      <td>10.0</td>\n",
       "      <td>2008-06-11</td>\n",
       "      <td>11</td>\n",
       "      <td>11</td>\n",
       "      <td>2</td>\n",
       "      <td>41.95469</td>\n",
       "      <td>-87.800991</td>\n",
       "      <td>6</td>\n",
       "      <td>6</td>\n",
       "      <td>0.0</td>\n",
       "      <td>18</td>\n",
       "      <td>CULEX RESTUANS</td>\n",
       "      <td>1</td>\n",
       "      <td>29.28</td>\n",
       "      <td>T002</td>\n",
       "      <td>64.0</td>\n",
       "      <td>2008</td>\n",
       "      <td>2008</td>\n",
       "      <td>1.0</td>\n",
       "    </tr>\n",
       "  </tbody>\n",
       "</table>\n",
       "</div>"
      ],
      "text/plain": [
       "   AvgSpeed       Date  Day_x  Day_y  Id  Latitude  Longitude  Month_x  \\\n",
       "0      10.0 2008-06-11     11     11   1  41.95469 -87.800991        6   \n",
       "1      10.0 2008-06-11     11     11   2  41.95469 -87.800991        6   \n",
       "\n",
       "   Month_y  PrecipTotal  ResultDir                 Species  Station  \\\n",
       "0        6          0.0         18  CULEX PIPIENS/RESTUANS        1   \n",
       "1        6          0.0         18          CULEX RESTUANS        1   \n",
       "\n",
       "   StnPressure  Trap  WetBulb  Year_x  Year_y  stn_ref  \n",
       "0        29.28  T002     64.0    2008    2008      1.0  \n",
       "1        29.28  T002     64.0    2008    2008      1.0  "
      ]
     },
     "execution_count": 64,
     "metadata": {},
     "output_type": "execute_result"
    }
   ],
   "source": [
    "test_full.head(2)"
   ]
  },
  {
   "cell_type": "code",
   "execution_count": 65,
   "metadata": {},
   "outputs": [],
   "source": [
    "# We can drop Station and Dayx , Monthx, Year_y\n",
    "train_full.drop(['Station', 'Day_x', 'Month_x', 'Year_x'],axis=1,inplace=True)\n",
    "test_full.drop(['Station', 'Day_x', 'Month_x', 'Year_x'],axis=1,inplace=True)          "
   ]
  },
  {
   "cell_type": "code",
   "execution_count": 66,
   "metadata": {},
   "outputs": [
    {
     "name": "stdout",
     "output_type": "stream",
     "text": [
      "(10506, 16)\n",
      "(116293, 15)\n"
     ]
    }
   ],
   "source": [
    "print(train_full.shape)\n",
    "print(test_full.shape)"
   ]
  },
  {
   "cell_type": "code",
   "execution_count": 67,
   "metadata": {
    "scrolled": false
   },
   "outputs": [
    {
     "data": {
      "image/png": "[encoded data removed]",
      "text/plain": [
       "<Figure size 936x432 with 1 Axes>"
      ]
     },
     "metadata": {
      "needs_background": "light"
     },
     "output_type": "display_data"
    }
   ],
   "source": [
    "# Persence of wnv vs Year \n",
    "plt.figure(figsize=(13,6))\n",
    "sns.lineplot(x = 'Year_y',y = 'WnvPresent', data = train_full, ci = None, \n",
    "             legend = 'full', palette = 'Spectral')\n",
    "plt.title('Presence of WestNileVirus', fontsize=16)\n",
    "plt.xlabel('Year',fontsize=14)\n",
    "plt.ylabel('WnvPresent',fontsize=14)\n",
    "#plt.xlim(train_merged.Month.min(), train_merged.Month.max())\n",
    "plt.tight_layout();"
   ]
  },
  {
   "cell_type": "code",
   "execution_count": 68,
   "metadata": {},
   "outputs": [],
   "source": [
    "# We can see from the graph, Wnv present increased from 2011 and 2013 which could be the reason \n",
    "# why the spraying efforts were made"
   ]
  },
  {
   "cell_type": "code",
   "execution_count": 69,
   "metadata": {
    "scrolled": false
   },
   "outputs": [
    {
     "data": {
      "image/png": "[encoded data removed]",
      "text/plain": [
       "<Figure size 1296x576 with 1 Axes>"
      ]
     },
     "metadata": {
      "needs_background": "light"
     },
     "output_type": "display_data"
    }
   ],
   "source": [
    "# plot temperature by month and year\n",
    "plt.figure(figsize=(18,8))\n",
    "sns.lineplot(x = 'Month_y',y = 'WetBulb', data = train_full, hue = 'Year_y', ci = None, \n",
    "             legend = 'full', palette = 'Spectral')\n",
    "plt.legend(fontsize = 14)\n",
    "plt.title('Monthly mean temperatures', fontsize=16)\n",
    "plt.xlabel('Month',fontsize=14)\n",
    "plt.ylabel('Mean temperature',fontsize=14)\n",
    "#plt.xlim(weather_combined.month.min(), weather_combined.month.max())\n",
    "plt.tight_layout()"
   ]
  },
  {
   "cell_type": "code",
   "execution_count": 70,
   "metadata": {},
   "outputs": [],
   "source": [
    "### This graph represent that the temprature is generally high in the Month of July,Aug and September "
   ]
  },
  {
   "cell_type": "code",
   "execution_count": 71,
   "metadata": {},
   "outputs": [
    {
     "data": {
      "image/png": "[encoded data removed]",
      "text/plain": [
       "<Figure size 427.625x360 with 1 Axes>"
      ]
     },
     "metadata": {
      "needs_background": "light"
     },
     "output_type": "display_data"
    }
   ],
   "source": [
    "## scatter plot using hue attribute  for colouring out points \n",
    "# according to the WnV present \n",
    "sns.lmplot(x ='Latitude', y ='Longitude',  \n",
    "          fit_reg = False, hue = 'WnvPresent', data = train_full);"
   ]
  },
  {
   "cell_type": "code",
   "execution_count": 72,
   "metadata": {},
   "outputs": [],
   "source": [
    "# This graph shows that the presence of virus is not related to one specific location, it is spread across."
   ]
  },
  {
   "cell_type": "code",
   "execution_count": 73,
   "metadata": {
    "scrolled": false
   },
   "outputs": [
    {
     "data": {
      "image/png": "[encoded data removed]",
      "text/plain": [
       "<Figure size 427.625x360 with 1 Axes>"
      ]
     },
     "metadata": {
      "needs_background": "light"
     },
     "output_type": "display_data"
    }
   ],
   "source": [
    "sns.lmplot(x ='Month_y', y ='WetBulb',  \n",
    "          fit_reg = False, hue = 'WnvPresent', \n",
    "          data = train_full); "
   ]
  },
  {
   "cell_type": "code",
   "execution_count": 74,
   "metadata": {},
   "outputs": [],
   "source": [
    "# We can observe in the Month of July, Aug and September - Virus is most prectable"
   ]
  },
  {
   "cell_type": "code",
   "execution_count": 75,
   "metadata": {},
   "outputs": [],
   "source": [
    "## We can see that the presence of virus in mainly during summer to autumn season, month of July-Sep"
   ]
  },
  {
   "cell_type": "code",
   "execution_count": 76,
   "metadata": {
    "scrolled": true
   },
   "outputs": [
    {
     "data": {
      "image/png": "[encoded data removed]",
      "text/plain": [
       "<Figure size 427.625x360 with 1 Axes>"
      ]
     },
     "metadata": {
      "needs_background": "light"
     },
     "output_type": "display_data"
    }
   ],
   "source": [
    "sns.lmplot(x ='NumMosquitos', y ='WetBulb',  \n",
    "          fit_reg = False, hue = 'WnvPresent', \n",
    "          data = train_full);"
   ]
  },
  {
   "cell_type": "code",
   "execution_count": 77,
   "metadata": {},
   "outputs": [],
   "source": [
    "# Mosquitoes with Virus present are increasing at temperature between 55 and 75 \n",
    "\n",
    "for index,col in train_full.iterrows():\n",
    "    if (train_full['WetBulb'][index]>=55) & (train_full['WetBulb'][index]<=75):\n",
    "        train_full['feature_temp'] = 1\n",
    "    else:\n",
    "        train_full['feature_temp'] = 0"
   ]
  },
  {
   "cell_type": "code",
   "execution_count": 78,
   "metadata": {},
   "outputs": [],
   "source": [
    "# Mosquitoes with Virus present are increasing at temperature between 55 and 75 \n",
    "\n",
    "for index,col in test_full.iterrows():\n",
    "    if (test_full['WetBulb'][index]>=55) & (test_full['WetBulb'][index]<=75):\n",
    "        test_full['feature_temp'] = 1\n",
    "    else:\n",
    "        test_full['feature_temp'] = 0"
   ]
  },
  {
   "cell_type": "code",
   "execution_count": 79,
   "metadata": {
    "scrolled": true
   },
   "outputs": [
    {
     "name": "stdout",
     "output_type": "stream",
     "text": [
      "(10506, 11)\n"
     ]
    },
    {
     "data": {
      "text/html": [
       "<div>\n",
       "<style scoped>\n",
       "    .dataframe tbody tr th:only-of-type {\n",
       "        vertical-align: middle;\n",
       "    }\n",
       "\n",
       "    .dataframe tbody tr th {\n",
       "        vertical-align: top;\n",
       "    }\n",
       "\n",
       "    .dataframe thead th {\n",
       "        text-align: right;\n",
       "    }\n",
       "</style>\n",
       "<table border=\"1\" class=\"dataframe\">\n",
       "  <thead>\n",
       "    <tr style=\"text-align: right;\">\n",
       "      <th></th>\n",
       "      <th>AvgSpeed</th>\n",
       "      <th>Date</th>\n",
       "      <th>Day_y</th>\n",
       "      <th>Latitude</th>\n",
       "      <th>Longitude</th>\n",
       "      <th>Month_y</th>\n",
       "      <th>NumMosquitos</th>\n",
       "      <th>PrecipTotal</th>\n",
       "      <th>ResultDir</th>\n",
       "      <th>Species</th>\n",
       "      <th>StnPressure</th>\n",
       "      <th>Trap</th>\n",
       "      <th>WetBulb</th>\n",
       "      <th>WnvPresent</th>\n",
       "      <th>Year_y</th>\n",
       "      <th>stn_ref</th>\n",
       "      <th>feature_temp</th>\n",
       "    </tr>\n",
       "  </thead>\n",
       "  <tbody>\n",
       "    <tr>\n",
       "      <th>0</th>\n",
       "      <td>6.5</td>\n",
       "      <td>2007-05-29</td>\n",
       "      <td>29</td>\n",
       "      <td>41.954690</td>\n",
       "      <td>-87.800991</td>\n",
       "      <td>5</td>\n",
       "      <td>1</td>\n",
       "      <td>0.0</td>\n",
       "      <td>18</td>\n",
       "      <td>CULEX PIPIENS/RESTUANS</td>\n",
       "      <td>29.39</td>\n",
       "      <td>T002</td>\n",
       "      <td>65.0</td>\n",
       "      <td>0</td>\n",
       "      <td>2007</td>\n",
       "      <td>1.0</td>\n",
       "      <td>1</td>\n",
       "    </tr>\n",
       "    <tr>\n",
       "      <th>1</th>\n",
       "      <td>6.5</td>\n",
       "      <td>2007-05-29</td>\n",
       "      <td>29</td>\n",
       "      <td>41.954690</td>\n",
       "      <td>-87.800991</td>\n",
       "      <td>5</td>\n",
       "      <td>1</td>\n",
       "      <td>0.0</td>\n",
       "      <td>18</td>\n",
       "      <td>CULEX RESTUANS</td>\n",
       "      <td>29.39</td>\n",
       "      <td>T002</td>\n",
       "      <td>65.0</td>\n",
       "      <td>0</td>\n",
       "      <td>2007</td>\n",
       "      <td>1.0</td>\n",
       "      <td>1</td>\n",
       "    </tr>\n",
       "    <tr>\n",
       "      <th>2</th>\n",
       "      <td>6.5</td>\n",
       "      <td>2007-05-29</td>\n",
       "      <td>29</td>\n",
       "      <td>41.994991</td>\n",
       "      <td>-87.769279</td>\n",
       "      <td>5</td>\n",
       "      <td>1</td>\n",
       "      <td>0.0</td>\n",
       "      <td>18</td>\n",
       "      <td>CULEX RESTUANS</td>\n",
       "      <td>29.39</td>\n",
       "      <td>T007</td>\n",
       "      <td>65.0</td>\n",
       "      <td>0</td>\n",
       "      <td>2007</td>\n",
       "      <td>1.0</td>\n",
       "      <td>1</td>\n",
       "    </tr>\n",
       "    <tr>\n",
       "      <th>3</th>\n",
       "      <td>6.5</td>\n",
       "      <td>2007-05-29</td>\n",
       "      <td>29</td>\n",
       "      <td>41.974089</td>\n",
       "      <td>-87.824812</td>\n",
       "      <td>5</td>\n",
       "      <td>1</td>\n",
       "      <td>0.0</td>\n",
       "      <td>18</td>\n",
       "      <td>CULEX PIPIENS/RESTUANS</td>\n",
       "      <td>29.39</td>\n",
       "      <td>T015</td>\n",
       "      <td>65.0</td>\n",
       "      <td>0</td>\n",
       "      <td>2007</td>\n",
       "      <td>1.0</td>\n",
       "      <td>1</td>\n",
       "    </tr>\n",
       "    <tr>\n",
       "      <th>4</th>\n",
       "      <td>6.5</td>\n",
       "      <td>2007-05-29</td>\n",
       "      <td>29</td>\n",
       "      <td>41.974089</td>\n",
       "      <td>-87.824812</td>\n",
       "      <td>5</td>\n",
       "      <td>4</td>\n",
       "      <td>0.0</td>\n",
       "      <td>18</td>\n",
       "      <td>CULEX RESTUANS</td>\n",
       "      <td>29.39</td>\n",
       "      <td>T015</td>\n",
       "      <td>65.0</td>\n",
       "      <td>0</td>\n",
       "      <td>2007</td>\n",
       "      <td>1.0</td>\n",
       "      <td>1</td>\n",
       "    </tr>\n",
       "  </tbody>\n",
       "</table>\n",
       "</div>"
      ],
      "text/plain": [
       "   AvgSpeed       Date  Day_y   Latitude  Longitude  Month_y  NumMosquitos  \\\n",
       "0       6.5 2007-05-29     29  41.954690 -87.800991        5             1   \n",
       "1       6.5 2007-05-29     29  41.954690 -87.800991        5             1   \n",
       "2       6.5 2007-05-29     29  41.994991 -87.769279        5             1   \n",
       "3       6.5 2007-05-29     29  41.974089 -87.824812        5             1   \n",
       "4       6.5 2007-05-29     29  41.974089 -87.824812        5             4   \n",
       "\n",
       "   PrecipTotal  ResultDir                 Species  StnPressure  Trap  WetBulb  \\\n",
       "0          0.0         18  CULEX PIPIENS/RESTUANS        29.39  T002     65.0   \n",
       "1          0.0         18          CULEX RESTUANS        29.39  T002     65.0   \n",
       "2          0.0         18          CULEX RESTUANS        29.39  T007     65.0   \n",
       "3          0.0         18  CULEX PIPIENS/RESTUANS        29.39  T015     65.0   \n",
       "4          0.0         18          CULEX RESTUANS        29.39  T015     65.0   \n",
       "\n",
       "   WnvPresent  Year_y  stn_ref  feature_temp  \n",
       "0           0    2007      1.0             1  \n",
       "1           0    2007      1.0             1  \n",
       "2           0    2007      1.0             1  \n",
       "3           0    2007      1.0             1  \n",
       "4           0    2007      1.0             1  "
      ]
     },
     "metadata": {},
     "output_type": "display_data"
    }
   ],
   "source": [
    "print(train.shape)\n",
    "display(train_full.head())"
   ]
  },
  {
   "cell_type": "code",
   "execution_count": 80,
   "metadata": {},
   "outputs": [
    {
     "name": "stdout",
     "output_type": "stream",
     "text": [
      "(116293, 10)\n"
     ]
    },
    {
     "data": {
      "text/html": [
       "<div>\n",
       "<style scoped>\n",
       "    .dataframe tbody tr th:only-of-type {\n",
       "        vertical-align: middle;\n",
       "    }\n",
       "\n",
       "    .dataframe tbody tr th {\n",
       "        vertical-align: top;\n",
       "    }\n",
       "\n",
       "    .dataframe thead th {\n",
       "        text-align: right;\n",
       "    }\n",
       "</style>\n",
       "<table border=\"1\" class=\"dataframe\">\n",
       "  <thead>\n",
       "    <tr style=\"text-align: right;\">\n",
       "      <th></th>\n",
       "      <th>AvgSpeed</th>\n",
       "      <th>Date</th>\n",
       "      <th>Day_y</th>\n",
       "      <th>Id</th>\n",
       "      <th>Latitude</th>\n",
       "      <th>Longitude</th>\n",
       "      <th>Month_y</th>\n",
       "      <th>PrecipTotal</th>\n",
       "      <th>ResultDir</th>\n",
       "      <th>Species</th>\n",
       "      <th>StnPressure</th>\n",
       "      <th>Trap</th>\n",
       "      <th>WetBulb</th>\n",
       "      <th>Year_y</th>\n",
       "      <th>stn_ref</th>\n",
       "      <th>feature_temp</th>\n",
       "    </tr>\n",
       "  </thead>\n",
       "  <tbody>\n",
       "    <tr>\n",
       "      <th>0</th>\n",
       "      <td>10.0</td>\n",
       "      <td>2008-06-11</td>\n",
       "      <td>11</td>\n",
       "      <td>1</td>\n",
       "      <td>41.95469</td>\n",
       "      <td>-87.800991</td>\n",
       "      <td>6</td>\n",
       "      <td>0.0</td>\n",
       "      <td>18</td>\n",
       "      <td>CULEX PIPIENS/RESTUANS</td>\n",
       "      <td>29.28</td>\n",
       "      <td>T002</td>\n",
       "      <td>64.0</td>\n",
       "      <td>2008</td>\n",
       "      <td>1.0</td>\n",
       "      <td>1</td>\n",
       "    </tr>\n",
       "    <tr>\n",
       "      <th>1</th>\n",
       "      <td>10.0</td>\n",
       "      <td>2008-06-11</td>\n",
       "      <td>11</td>\n",
       "      <td>2</td>\n",
       "      <td>41.95469</td>\n",
       "      <td>-87.800991</td>\n",
       "      <td>6</td>\n",
       "      <td>0.0</td>\n",
       "      <td>18</td>\n",
       "      <td>CULEX RESTUANS</td>\n",
       "      <td>29.28</td>\n",
       "      <td>T002</td>\n",
       "      <td>64.0</td>\n",
       "      <td>2008</td>\n",
       "      <td>1.0</td>\n",
       "      <td>1</td>\n",
       "    </tr>\n",
       "    <tr>\n",
       "      <th>2</th>\n",
       "      <td>10.0</td>\n",
       "      <td>2008-06-11</td>\n",
       "      <td>11</td>\n",
       "      <td>3</td>\n",
       "      <td>41.95469</td>\n",
       "      <td>-87.800991</td>\n",
       "      <td>6</td>\n",
       "      <td>0.0</td>\n",
       "      <td>18</td>\n",
       "      <td>CULEX PIPIENS</td>\n",
       "      <td>29.28</td>\n",
       "      <td>T002</td>\n",
       "      <td>64.0</td>\n",
       "      <td>2008</td>\n",
       "      <td>1.0</td>\n",
       "      <td>1</td>\n",
       "    </tr>\n",
       "    <tr>\n",
       "      <th>3</th>\n",
       "      <td>10.0</td>\n",
       "      <td>2008-06-11</td>\n",
       "      <td>11</td>\n",
       "      <td>4</td>\n",
       "      <td>41.95469</td>\n",
       "      <td>-87.800991</td>\n",
       "      <td>6</td>\n",
       "      <td>0.0</td>\n",
       "      <td>18</td>\n",
       "      <td>CULEX SALINARIUS</td>\n",
       "      <td>29.28</td>\n",
       "      <td>T002</td>\n",
       "      <td>64.0</td>\n",
       "      <td>2008</td>\n",
       "      <td>1.0</td>\n",
       "      <td>1</td>\n",
       "    </tr>\n",
       "    <tr>\n",
       "      <th>4</th>\n",
       "      <td>10.0</td>\n",
       "      <td>2008-06-11</td>\n",
       "      <td>11</td>\n",
       "      <td>5</td>\n",
       "      <td>41.95469</td>\n",
       "      <td>-87.800991</td>\n",
       "      <td>6</td>\n",
       "      <td>0.0</td>\n",
       "      <td>18</td>\n",
       "      <td>CULEX TERRITANS</td>\n",
       "      <td>29.28</td>\n",
       "      <td>T002</td>\n",
       "      <td>64.0</td>\n",
       "      <td>2008</td>\n",
       "      <td>1.0</td>\n",
       "      <td>1</td>\n",
       "    </tr>\n",
       "  </tbody>\n",
       "</table>\n",
       "</div>"
      ],
      "text/plain": [
       "   AvgSpeed       Date  Day_y  Id  Latitude  Longitude  Month_y  PrecipTotal  \\\n",
       "0      10.0 2008-06-11     11   1  41.95469 -87.800991        6          0.0   \n",
       "1      10.0 2008-06-11     11   2  41.95469 -87.800991        6          0.0   \n",
       "2      10.0 2008-06-11     11   3  41.95469 -87.800991        6          0.0   \n",
       "3      10.0 2008-06-11     11   4  41.95469 -87.800991        6          0.0   \n",
       "4      10.0 2008-06-11     11   5  41.95469 -87.800991        6          0.0   \n",
       "\n",
       "   ResultDir                 Species  StnPressure  Trap  WetBulb  Year_y  \\\n",
       "0         18  CULEX PIPIENS/RESTUANS        29.28  T002     64.0    2008   \n",
       "1         18          CULEX RESTUANS        29.28  T002     64.0    2008   \n",
       "2         18           CULEX PIPIENS        29.28  T002     64.0    2008   \n",
       "3         18        CULEX SALINARIUS        29.28  T002     64.0    2008   \n",
       "4         18         CULEX TERRITANS        29.28  T002     64.0    2008   \n",
       "\n",
       "   stn_ref  feature_temp  \n",
       "0      1.0             1  \n",
       "1      1.0             1  \n",
       "2      1.0             1  \n",
       "3      1.0             1  \n",
       "4      1.0             1  "
      ]
     },
     "metadata": {},
     "output_type": "display_data"
    }
   ],
   "source": [
    "print(test.shape)\n",
    "display(test_full.head())"
   ]
  },
  {
   "cell_type": "code",
   "execution_count": 81,
   "metadata": {},
   "outputs": [],
   "source": [
    "## OHE for Test and Train dataset- Get Dummies for Species and Trap \n",
    "train_full = pd.get_dummies(train_full, columns=['Species','Trap'],drop_first= True)"
   ]
  },
  {
   "cell_type": "code",
   "execution_count": 82,
   "metadata": {
    "scrolled": true
   },
   "outputs": [
    {
     "data": {
      "text/plain": [
       "(10506, 156)"
      ]
     },
     "execution_count": 82,
     "metadata": {},
     "output_type": "execute_result"
    }
   ],
   "source": [
    "train_full.shape"
   ]
  },
  {
   "cell_type": "code",
   "execution_count": 83,
   "metadata": {
    "scrolled": false
   },
   "outputs": [],
   "source": [
    "# OHE for Test dataset - Get Dummies for Species and Trap \n",
    "test_full = pd.get_dummies(test_full, columns=['Species','Trap'],drop_first = True)"
   ]
  },
  {
   "cell_type": "code",
   "execution_count": 84,
   "metadata": {},
   "outputs": [
    {
     "data": {
      "text/plain": [
       "(116293, 169)"
      ]
     },
     "execution_count": 84,
     "metadata": {},
     "output_type": "execute_result"
    }
   ],
   "source": [
    "test_full.shape"
   ]
  },
  {
   "cell_type": "code",
   "execution_count": 85,
   "metadata": {},
   "outputs": [],
   "source": [
    "features_diff = train_full.columns.difference(test_full.columns)"
   ]
  },
  {
   "cell_type": "code",
   "execution_count": 86,
   "metadata": {},
   "outputs": [
    {
     "data": {
      "text/plain": [
       "Index(['NumMosquitos', 'WnvPresent'], dtype='object')"
      ]
     },
     "execution_count": 86,
     "metadata": {},
     "output_type": "execute_result"
    }
   ],
   "source": [
    "features_diff"
   ]
  },
  {
   "cell_type": "code",
   "execution_count": 87,
   "metadata": {
    "scrolled": true
   },
   "outputs": [
    {
     "data": {
      "text/plain": [
       "Index(['Id', 'Species_UNSPECIFIED CULEX', 'Trap_T002A', 'Trap_T002B',\n",
       "       'Trap_T065A', 'Trap_T090A', 'Trap_T090B', 'Trap_T090C', 'Trap_T128A',\n",
       "       'Trap_T200A', 'Trap_T200B', 'Trap_T218A', 'Trap_T218B', 'Trap_T218C',\n",
       "       'Trap_T234'],\n",
       "      dtype='object')"
      ]
     },
     "execution_count": 87,
     "metadata": {},
     "output_type": "execute_result"
    }
   ],
   "source": [
    "feat_not_train = test_full.columns.difference(train_full.columns)\n",
    "feat_not_train"
   ]
  },
  {
   "cell_type": "code",
   "execution_count": 88,
   "metadata": {},
   "outputs": [],
   "source": [
    "test_full.drop(['Species_UNSPECIFIED CULEX', 'Trap_T002A', 'Trap_T002B',\n",
    "       'Trap_T065A', 'Trap_T090A', 'Trap_T090B', 'Trap_T090C', 'Trap_T128A',\n",
    "       'Trap_T200A', 'Trap_T200B', 'Trap_T218A', 'Trap_T218B', 'Trap_T218C',\n",
    "       'Trap_T234'], axis=1, inplace=True)"
   ]
  },
  {
   "cell_type": "code",
   "execution_count": 89,
   "metadata": {},
   "outputs": [],
   "source": [
    "#train_merged.to_csv('./data/test_model.csv',index=False)\n",
    "test_full.to_csv('./data/test_model.csv',index=False)"
   ]
  },
  {
   "cell_type": "code",
   "execution_count": 90,
   "metadata": {},
   "outputs": [],
   "source": [
    "#train_merged.to_csv('./data/train_model.csv',index=False)\n",
    "train_full.to_csv('./data/train_model.csv',index=False)"
   ]
  }
 ],
 "metadata": {
  "kernelspec": {
   "display_name": "Python 3",
   "language": "python",
   "name": "python3"
  },
  "language_info": {
   "codemirror_mode": {
    "name": "ipython",
    "version": 3
   },
   "file_extension": ".py",
   "mimetype": "text/x-python",
   "name": "python",
   "nbconvert_exporter": "python",
   "pygments_lexer": "ipython3",
   "version": "3.8.3"
  }
 },
 "nbformat": 4,
 "nbformat_minor": 4
}
